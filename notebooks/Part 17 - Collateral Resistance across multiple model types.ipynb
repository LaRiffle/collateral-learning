{
 "cells": [
  {
   "cell_type": "markdown",
   "metadata": {},
   "source": [
    "# Functional Encryption - Classification and information leakage\n",
    " \n",
    "### Purpose\n",
    "\n",
    "We try here to assess the resistance of a model to multiple collateral adversaries when resistance has been built agains a single big adversary, a CNN.\n",
    "\n",
    "The adversaries tested against are naturally the FNN and CNN seens earlier, but also more classical models. We have tried almost exhaustively the sklearn library and observe very different performance between the models on the colateral task.\n"
   ]
  },
  {
   "cell_type": "markdown",
   "metadata": {},
   "source": [
    "## 1. Parameters and imports\n"
   ]
  },
  {
   "cell_type": "markdown",
   "metadata": {},
   "source": [
    "We will use the code directly from the repo, to make the notebook more readable. Functions are similar to those presented earlier."
   ]
  },
  {
   "cell_type": "code",
   "execution_count": 1,
   "metadata": {},
   "outputs": [],
   "source": [
    "# Allow to load packages from parent\n",
    "import sys, os\n",
    "sys.path.insert(1, os.path.realpath(os.path.pardir))"
   ]
  },
  {
   "cell_type": "code",
   "execution_count": 2,
   "metadata": {},
   "outputs": [],
   "source": [
    "import random\n",
    "\n",
    "import numpy as np\n",
    "\n",
    "import torch\n",
    "import torch.nn as nn\n",
    "import torch.optim as optim\n",
    "import torch.nn.functional as F\n",
    "import torch.utils.data as utils\n",
    "\n",
    "import learn\n",
    "from learn import load_data, show_results"
   ]
  },
  {
   "cell_type": "code",
   "execution_count": 3,
   "metadata": {},
   "outputs": [],
   "source": [
    "torch.set_num_threads(4)"
   ]
  },
  {
   "cell_type": "code",
   "execution_count": 4,
   "metadata": {},
   "outputs": [],
   "source": [
    "class Parser:\n",
    "    \"\"\"Parameters for the training\"\"\"\n",
    "    def __init__(self):\n",
    "        self.epochs = 10\n",
    "        self.sabotage_epochs = 10\n",
    "        self.new_adversary_epochs = 10\n",
    "        self.lr = 0.002\n",
    "        self.momentum = 0.5\n",
    "        self.test_batch_size = 1000\n",
    "        self.batch_size = 64\n",
    "        self.log_interval = 100"
   ]
  },
  {
   "cell_type": "markdown",
   "metadata": {},
   "source": [
    "Some utility functions"
   ]
  },
  {
   "cell_type": "code",
   "execution_count": 5,
   "metadata": {},
   "outputs": [],
   "source": [
    "def build_tensor_dataset(data, target):\n",
    "    \"\"\"Utility function to cast our data into a normalized torch TensorDataset\"\"\"\n",
    "    normed_data = [(d - d.mean()) / d.std() for d in data]\n",
    "    normed_data = torch.stack([torch.Tensor(d).reshape(1, 28, 28) for d in normed_data])\n",
    "    target = torch.LongTensor([[i[0][0], i[1][0]] for i in target])\n",
    "    tensor_dataset = utils.TensorDataset(normed_data, target)\n",
    "    return tensor_dataset\n",
    "\n",
    "\n",
    "def get_datasets():\n",
    "    data = load_data()\n",
    "    train_data, train_target_char, train_target_family, test_data, test_target_char, test_target_family = data\n",
    "    # Merge the target datasets\n",
    "    train_target = list(zip(train_target_char, train_target_family))\n",
    "    test_target = list(zip(test_target_char, test_target_family))\n",
    "\n",
    "    # We use here the slightly modified version of this function\n",
    "    train_dataset = build_tensor_dataset(train_data, train_target)\n",
    "    test_dataset = build_tensor_dataset(test_data, test_target)\n",
    "    \n",
    "    return train_dataset, test_dataset\n",
    "\n",
    "def get_data_loaders():\n",
    "    torch.manual_seed(1)\n",
    "    args = Parser()\n",
    "\n",
    "    train_dataset, test_dataset = get_datasets()\n",
    "\n",
    "    train_loader = utils.DataLoader(\n",
    "        train_dataset,\n",
    "        batch_size=args.batch_size, shuffle=True\n",
    "    )\n",
    "\n",
    "    test_loader = utils.DataLoader(\n",
    "        test_dataset,\n",
    "        batch_size=args.test_batch_size, shuffle=True\n",
    "    )\n",
    "    return train_loader, test_loader"
   ]
  },
  {
   "cell_type": "markdown",
   "metadata": {},
   "source": [
    "## 2. Building resistance"
   ]
  },
  {
   "cell_type": "markdown",
   "metadata": {},
   "source": [
    "Let's define the model with the describes architecture. Basically you have 3 blocs: 1 quadratic and 2 CNN."
   ]
  },
  {
   "cell_type": "code",
   "execution_count": 6,
   "metadata": {},
   "outputs": [],
   "source": [
    "N_CHARS = 26\n",
    "N_FONTS = 5\n",
    "class QuadConvNet(nn.Module):\n",
    "    def __init__(self):\n",
    "        super(QuadConvNet, self).__init__()\n",
    "        self.proj1 = nn.Linear(784, 50)\n",
    "        self.diag1 = nn.Linear(50, 8)\n",
    "        \n",
    "        # --- FFN for characters\n",
    "        self.lin1 = nn.Linear(8, 16)\n",
    "        self.lin2 = nn.Linear(16, N_CHARS)\n",
    "        \n",
    "        # --- Junction\n",
    "        self.jct = nn.Linear(8, 784)\n",
    "        \n",
    "        # --- CNN for families\n",
    "        self.conv1 = nn.Conv2d(1, 20, 5, 1)\n",
    "        self.conv2 = nn.Conv2d(20, 50, 5, 1)\n",
    "        self.fc1 = nn.Linear(4*4*50, 500)\n",
    "        self.fc2 = nn.Linear(500, N_FONTS)\n",
    "\n",
    "    def quad(self, x):\n",
    "        \"\"\"Same as forward up to the junction part\n",
    "        Used for the collateral training\"\"\"\n",
    "        # --- Quadratic \n",
    "        x = x.view(-1, 784)\n",
    "        x = self.proj1(x)\n",
    "        x = x * x\n",
    "        x = self.diag1(x)\n",
    "        return x\n",
    "    \n",
    "    def conv_char(self, x):\n",
    "        # --- FFN\n",
    "        x = F.relu(self.lin1(x))\n",
    "        x = self.lin2(x)\n",
    "        return x\n",
    "        \n",
    "    def conv_font(self, x):\n",
    "        # --- Junction\n",
    "        x = self.jct(x)\n",
    "        x = x.view(-1, 1, 28, 28)\n",
    "        \n",
    "        # --- CNN\n",
    "        x = F.relu(self.conv1(x))\n",
    "        x = F.max_pool2d(x, 2, 2)\n",
    "        x = F.relu(self.conv2(x))\n",
    "        x = F.max_pool2d(x, 2, 2)\n",
    "        x = x.view(-1, 4*4*50)\n",
    "        x = F.relu(self.fc1(x))\n",
    "        x = self.fc2(x)\n",
    "        return x\n",
    "\n",
    "    def forward_char(self, x):\n",
    "        x = self.quad(x)\n",
    "        x = self.conv_char(x)\n",
    "        return F.log_softmax(x, dim=1)\n",
    "    \n",
    "    def forward_font(self, x):\n",
    "        x = self.quad(x)\n",
    "        x = self.conv_font(x)\n",
    "        return F.log_softmax(x, dim=1)\n",
    "    \n",
    "    def get_params(self, net):\n",
    "        \"\"\"Select the params for a given part of the net\"\"\"\n",
    "        if net == 'quad':\n",
    "            layers = [self.proj1, self.diag1]\n",
    "        elif net == 'char':\n",
    "            layers = [self.lin1, self.lin2]\n",
    "        elif net == 'font':\n",
    "            layers = [self.jct, self.fc1, self.fc2, self.conv1, self.conv2]\n",
    "        else:\n",
    "            raise AttributeError(f'{net} type not recognized')\n",
    "        params = [p for layer in layers for p in layer.parameters()]\n",
    "        return params\n",
    "    \n",
    "    def freeze(self, net):\n",
    "        \"\"\"Freeze a part of the net\"\"\"\n",
    "        net_params = self.get_params(net)\n",
    "        for param in net_params:\n",
    "            param.requires_grad = False\n",
    "            \n",
    "    def unfreeze(self):\n",
    "        \"\"\"Unfreeze the net\"\"\"\n",
    "        for param in self.parameters():\n",
    "            param.requires_grad = True\n",
    "        \n",
    "        "
   ]
  },
  {
   "cell_type": "markdown",
   "metadata": {},
   "source": [
    "Next, we define the train and test functions. They assume the train_load return two labels: the char and the font of some input.\n",
    "\n",
    "In the training phase we execute the 3 steps as described aboved.\n",
    "\n",
    "In the test function, we just test the performance for the main and collateral tasks."
   ]
  },
  {
   "cell_type": "code",
   "execution_count": 7,
   "metadata": {},
   "outputs": [],
   "source": [
    "import torch"
   ]
  },
  {
   "cell_type": "code",
   "execution_count": 8,
   "metadata": {},
   "outputs": [],
   "source": [
    "def train(args, model, train_loader, optimizer, epoch, alpha, initial_phase, perturbate, new_collateral):\n",
    "    model.train()\n",
    "    for batch_idx, (data, target) in enumerate(train_loader):\n",
    "        # Split the two targets\n",
    "        target_char = target[:, 0]\n",
    "        target_font = target[:, 1]\n",
    "        \n",
    "        \n",
    "        # Phase 1\n",
    "        if initial_phase: # Optimise Q + C\n",
    "            optimizer.zero_grad()\n",
    "            output = model.forward_char(data)\n",
    "            loss_char = F.nll_loss(output, target_char)\n",
    "            loss_char.backward()\n",
    "            optimizer.step()\n",
    "        elif perturbate: # Optimise Freezed(Q) + C\n",
    "            model.freeze('quad')\n",
    "            optimizer.zero_grad()\n",
    "            output_char = model.forward_char(data)\n",
    "            loss_char = F.nll_loss(output_char, target_char)\n",
    "            loss_char.backward()\n",
    "            optimizer.step()\n",
    "            model.unfreeze()\n",
    "            \n",
    "        # Phase 2\n",
    "        if (initial_phase or perturbate): # Optimise Freezed(Q) + F\n",
    "            model.freeze('quad')\n",
    "            output_font = model.forward_font(data)\n",
    "            loss_font = F.nll_loss(output_font, target_font)\n",
    "            loss_font.backward()\n",
    "            optimizer.step()\n",
    "            model.unfreeze()\n",
    "        elif new_collateral: # Optimise Freezed(Q) + new F\n",
    "            model.freeze('quad')\n",
    "            optimizer.zero_grad()\n",
    "            output_font = model.forward_adv_font(data)\n",
    "            loss_font = F.nll_loss(output_font, target_font)\n",
    "            loss_font.backward()\n",
    "            optimizer.step()\n",
    "            model.unfreeze()\n",
    "            \n",
    "        # Phase 3\n",
    "        if perturbate: # Optimize Q\n",
    "            model.freeze('font')\n",
    "            model.freeze('char')\n",
    "            optimizer.zero_grad()\n",
    "            output_char = model.forward_char(data)\n",
    "            loss_char = F.nll_loss(output_char, target_char)\n",
    "\n",
    "            output_font = model.forward_font(data)\n",
    "            loss_font = F.nll_loss(output_font, target_font)\n",
    "\n",
    "            loss = loss_char - alpha * loss_font\n",
    "            loss.backward()\n",
    "            optimizer.step()\n",
    "            model.unfreeze()\n",
    "            \n",
    "            \n",
    "        if new_collateral:\n",
    "            loss_char = torch.zeros(1)\n",
    "        \n",
    "        if batch_idx % args.log_interval == 0:\n",
    "            print('Train Epoch: {} [{}/{} ({:.0f}%)]\\tLoss Char: {:.6f} Loss Font: {:.6f}'.format(\n",
    "                epoch, batch_idx * len(data), len(train_loader.dataset),\n",
    "                       100. * batch_idx / len(train_loader), loss_char.item(), loss_font.item()))"
   ]
  },
  {
   "cell_type": "code",
   "execution_count": 9,
   "metadata": {},
   "outputs": [],
   "source": [
    "def test(args, model, test_loader, new_adversary):\n",
    "    model.eval()\n",
    "    correct_char = 0\n",
    "    correct_font = 0\n",
    "    with torch.no_grad():\n",
    "        for data, target in test_loader:\n",
    "            # Split the two targets\n",
    "            target_char = target[:, 0]\n",
    "            target_font = target[:, 1]\n",
    "\n",
    "            # Char evaluation\n",
    "            if not new_adversary:\n",
    "                output = model.forward_char(data)\n",
    "                pred = output.argmax(1, keepdim=True)\n",
    "                correct_char += pred.eq(target_char.view_as(pred)).sum().item()\n",
    "            \n",
    "            # Font evaluation\n",
    "            if not new_adversary:\n",
    "                output = model.forward_font(data)\n",
    "            else:\n",
    "                output = model.forward_adv_font(data)\n",
    "            pred = output.argmax(1, keepdim=True)\n",
    "            correct_font += pred.eq(target_font.view_as(pred)).sum().item()\n",
    "\n",
    "    acc_char = 100. * correct_char / len(test_loader.dataset)\n",
    "    acc_font = 100. * correct_font / len(test_loader.dataset)\n",
    "    print('\\nTest set: Accuracy Char : {}/{} ({:.2f}%)\\n          Accuracy Font : {}/{} ({:.2f}%)'.format(\n",
    "        correct_char, len(test_loader.dataset), acc_char, correct_font, len(test_loader.dataset), acc_font))\n",
    "\n",
    "    return acc_char, acc_font"
   ]
  },
  {
   "cell_type": "code",
   "execution_count": 10,
   "metadata": {},
   "outputs": [],
   "source": [
    "def build_resistance(model, alpha=0):\n",
    "    \"\"\"\n",
    "    Perform a learning + a sabotage phase\n",
    "    \"\"\"\n",
    "    args = Parser()\n",
    "    \n",
    "    train_loader, test_loader = get_data_loaders()\n",
    "\n",
    "    optimizer = optim.SGD(model.parameters(), lr=args.lr, momentum=args.momentum)\n",
    "    \n",
    "    test_perfs_char = []\n",
    "    test_perfs_font = []\n",
    "    \n",
    "    for epoch in range(1, args.epochs + args.sabotage_epochs + 1):\n",
    "        initial_phase = epoch <= args.epochs\n",
    "        if initial_phase:\n",
    "            print(\"(initial phase)\")\n",
    "        perturbate = epoch > args.epochs and epoch <= args.epochs + args.sabotage_epochs\n",
    "        if perturbate:\n",
    "            print(\"(perturbate)\")\n",
    "        new_adversary = False\n",
    "        \n",
    "        train(args, model, train_loader, optimizer, epoch, alpha, initial_phase, perturbate, new_adversary)\n",
    "        test_perf_char, test_perf_font = test(args, model, test_loader, new_adversary)\n",
    "        test_perfs_char.append(test_perf_char)\n",
    "        test_perfs_font.append(test_perf_font)\n",
    "\n",
    "    return test_perfs_char, test_perfs_font"
   ]
  },
  {
   "cell_type": "code",
   "execution_count": 11,
   "metadata": {
    "scrolled": true
   },
   "outputs": [
    {
     "name": "stdout",
     "output_type": "stream",
     "text": [
      "Model loaded!\n"
     ]
    }
   ],
   "source": [
    "path = '../data/models/quadconvnet_part17.pt'\n",
    "model = QuadConvNet()\n",
    "results = {}\n",
    "\n",
    "try:\n",
    "    model.load_state_dict(torch.load(path))\n",
    "    model.eval()\n",
    "    print('Model loaded!')\n",
    "except FileNotFoundError:\n",
    "    print('Computing model...')\n",
    "    alpha=1.5\n",
    "    test_perfs_char_perturbate, test_perfs_font_perturbate = build_resistance(model, alpha=alpha)\n",
    "    results[f\"Main task with perturbation alpha={alpha}\"] = test_perfs_char_perturbate\n",
    "    results[f\"Collateral task with perturbation alpha={alpha}\"] = test_perfs_font_perturbate\n",
    "    \n",
    "    model.results = results\n",
    "    # save model\n",
    "    torch.save(model.state_dict(), path)"
   ]
  },
  {
   "cell_type": "markdown",
   "metadata": {},
   "source": [
    "# 3. Testing resistance with multiple models"
   ]
  },
  {
   "cell_type": "code",
   "execution_count": 12,
   "metadata": {},
   "outputs": [],
   "source": [
    "quadratic_model = model\n",
    "quadratic_model.freeze('quad')"
   ]
  },
  {
   "cell_type": "code",
   "execution_count": 13,
   "metadata": {},
   "outputs": [],
   "source": [
    "def evaluate_resistance(model, alpha=0):\n",
    "    \"\"\"\n",
    "    Perform a learning + a sabotage phase\n",
    "    \"\"\"\n",
    "    args = Parser()\n",
    "    \n",
    "    train_loader, test_loader = get_data_loaders()\n",
    "\n",
    "    optimizer = optim.SGD(model.parameters(), lr=args.lr, momentum=args.momentum)\n",
    "    \n",
    "    test_perfs_char = []\n",
    "    test_perfs_font = []\n",
    "    \n",
    "    for epoch in range(1, args.new_adversary_epochs + 1):\n",
    "        initial_phase = False\n",
    "        perturbate = False\n",
    "        new_adversary = True\n",
    "        \n",
    "        train(args, model, train_loader, optimizer, epoch, alpha, initial_phase, perturbate, new_adversary)\n",
    "        test_perf_char, test_perf_font = test(args, model, test_loader, new_adversary)\n",
    "        test_perfs_char.append(test_perf_char)\n",
    "        test_perfs_font.append(test_perf_font)\n",
    "\n",
    "    return test_perfs_char, test_perfs_font"
   ]
  },
  {
   "cell_type": "code",
   "execution_count": 14,
   "metadata": {},
   "outputs": [],
   "source": [
    "class BaseNet(nn.Module):\n",
    "    def __init__(self, quadratic_model):\n",
    "        super(BaseNet, self).__init__()\n",
    "        self.proj1 = quadratic_model.proj1\n",
    "        self.diag1 = quadratic_model.diag1\n",
    "        \n",
    "    def quad(self, x):\n",
    "        \"\"\"Same as forward up to the junction part\n",
    "        Used for the collateral training\"\"\"\n",
    "        # --- Quadratic \n",
    "        x = x.view(-1, 784)\n",
    "        x = self.proj1(x)\n",
    "        x = x * x\n",
    "        x = self.diag1(x)\n",
    "        return x\n",
    "    \n",
    "    def conv_font(self, x):\n",
    "        pass\n",
    "    \n",
    "    def forward_adv_font(self, x):\n",
    "        x = self.quad(x)\n",
    "        x = self.conv_font(x)\n",
    "        return F.log_softmax(x, dim=1)\n",
    "    \n",
    "    def get_params(self, net):\n",
    "        \"\"\"Select the params for a given part of the net\"\"\"\n",
    "        if net == 'quad':\n",
    "            layers = [self.proj1, self.diag1]\n",
    "        else:\n",
    "            raise AttributeError(f'{net} type not recognized')\n",
    "        params = [p for layer in layers for p in layer.parameters()]\n",
    "        return params\n",
    "    \n",
    "    def freeze(self, net):\n",
    "        \"\"\"Freeze a part of the net\"\"\"\n",
    "        net_params = self.get_params(net)\n",
    "        for param in net_params:\n",
    "            param.requires_grad = False\n",
    "            \n",
    "    def unfreeze(self):\n",
    "        \"\"\"Unfreeze the net\"\"\"\n",
    "        for param in self.parameters():\n",
    "            param.requires_grad = True"
   ]
  },
  {
   "cell_type": "code",
   "execution_count": 15,
   "metadata": {},
   "outputs": [],
   "source": [
    "resistance_reports = {}"
   ]
  },
  {
   "cell_type": "markdown",
   "metadata": {},
   "source": [
    "## 3.1 Fully connected models "
   ]
  },
  {
   "cell_type": "code",
   "execution_count": 72,
   "metadata": {},
   "outputs": [],
   "source": [
    "class FFNet(BaseNet):\n",
    "    def __init__(self, architecture, quadratic_model):\n",
    "        super(FFNet, self).__init__(quadratic_model)\n",
    "        # --- FFNs for font families\n",
    "        self.architecture = architecture\n",
    "        n_layer = len(architecture) + 1\n",
    "        input_size = 8\n",
    "        for i_layer, output_size in enumerate(architecture):\n",
    "            setattr(self, f\"net_{i_layer}\", nn.Linear(input_size, output_size))\n",
    "            input_size = output_size\n",
    "        setattr(self, f\"net_{n_layer}\", nn.Linear(input_size, N_FONTS)) \n",
    "    \n",
    "    def conv_font(self, x):\n",
    "        # --- FFN\n",
    "        architecture = self.architecture\n",
    "        n_layer = len(architecture) + 1\n",
    "        for i_layer, output_size in enumerate(architecture):\n",
    "            linear = getattr(self, f\"net_{i_layer}\")\n",
    "            x = F.relu(linear(x))\n",
    "        linear = getattr(self, f\"net_{n_layer}\")  \n",
    "        x = linear(x)\n",
    "        return x\n",
    "        \n",
    "        "
   ]
  },
  {
   "cell_type": "code",
   "execution_count": 73,
   "metadata": {},
   "outputs": [
    {
     "name": "stdout",
     "output_type": "stream",
     "text": [
      "Training set 60000 items\n",
      "Testing set  10000 items\n",
      "Train Epoch: 1 [0/60000 (0%)]\tLoss Char: 0.000000 Loss Font: 1.629146\n",
      "Train Epoch: 1 [6400/60000 (11%)]\tLoss Char: 0.000000 Loss Font: 1.625484\n",
      "Train Epoch: 1 [12800/60000 (21%)]\tLoss Char: 0.000000 Loss Font: 1.614050\n",
      "Train Epoch: 1 [19200/60000 (32%)]\tLoss Char: 0.000000 Loss Font: 1.607452\n",
      "Train Epoch: 1 [25600/60000 (43%)]\tLoss Char: 0.000000 Loss Font: 1.606081\n",
      "Train Epoch: 1 [32000/60000 (53%)]\tLoss Char: 0.000000 Loss Font: 1.590423\n",
      "Train Epoch: 1 [38400/60000 (64%)]\tLoss Char: 0.000000 Loss Font: 1.615271\n",
      "Train Epoch: 1 [44800/60000 (75%)]\tLoss Char: 0.000000 Loss Font: 1.578101\n",
      "Train Epoch: 1 [51200/60000 (85%)]\tLoss Char: 0.000000 Loss Font: 1.590999\n",
      "Train Epoch: 1 [57600/60000 (96%)]\tLoss Char: 0.000000 Loss Font: 1.601180\n",
      "\n",
      "Test set: Accuracy Char : 0/10000 (0.00%)\n",
      "          Accuracy Font : 2397/10000 (23.97%)\n",
      "Train Epoch: 2 [0/60000 (0%)]\tLoss Char: 0.000000 Loss Font: 1.577466\n",
      "Train Epoch: 2 [6400/60000 (11%)]\tLoss Char: 0.000000 Loss Font: 1.581737\n",
      "Train Epoch: 2 [12800/60000 (21%)]\tLoss Char: 0.000000 Loss Font: 1.605631\n",
      "Train Epoch: 2 [19200/60000 (32%)]\tLoss Char: 0.000000 Loss Font: 1.598089\n",
      "Train Epoch: 2 [25600/60000 (43%)]\tLoss Char: 0.000000 Loss Font: 1.596454\n",
      "Train Epoch: 2 [32000/60000 (53%)]\tLoss Char: 0.000000 Loss Font: 1.615756\n",
      "Train Epoch: 2 [38400/60000 (64%)]\tLoss Char: 0.000000 Loss Font: 1.595181\n",
      "Train Epoch: 2 [44800/60000 (75%)]\tLoss Char: 0.000000 Loss Font: 1.611828\n",
      "Train Epoch: 2 [51200/60000 (85%)]\tLoss Char: 0.000000 Loss Font: 1.620145\n",
      "Train Epoch: 2 [57600/60000 (96%)]\tLoss Char: 0.000000 Loss Font: 1.596663\n",
      "\n",
      "Test set: Accuracy Char : 0/10000 (0.00%)\n",
      "          Accuracy Font : 2548/10000 (25.48%)\n",
      "Train Epoch: 3 [0/60000 (0%)]\tLoss Char: 0.000000 Loss Font: 1.569001\n",
      "Train Epoch: 3 [6400/60000 (11%)]\tLoss Char: 0.000000 Loss Font: 1.579286\n",
      "Train Epoch: 3 [12800/60000 (21%)]\tLoss Char: 0.000000 Loss Font: 1.584072\n",
      "Train Epoch: 3 [19200/60000 (32%)]\tLoss Char: 0.000000 Loss Font: 1.583914\n",
      "Train Epoch: 3 [25600/60000 (43%)]\tLoss Char: 0.000000 Loss Font: 1.590087\n",
      "Train Epoch: 3 [32000/60000 (53%)]\tLoss Char: 0.000000 Loss Font: 1.605249\n",
      "Train Epoch: 3 [38400/60000 (64%)]\tLoss Char: 0.000000 Loss Font: 1.597222\n",
      "Train Epoch: 3 [44800/60000 (75%)]\tLoss Char: 0.000000 Loss Font: 1.557204\n",
      "Train Epoch: 3 [51200/60000 (85%)]\tLoss Char: 0.000000 Loss Font: 1.568278\n",
      "Train Epoch: 3 [57600/60000 (96%)]\tLoss Char: 0.000000 Loss Font: 1.613627\n",
      "\n",
      "Test set: Accuracy Char : 0/10000 (0.00%)\n",
      "          Accuracy Font : 2648/10000 (26.48%)\n",
      "Train Epoch: 4 [0/60000 (0%)]\tLoss Char: 0.000000 Loss Font: 1.597131\n",
      "Train Epoch: 4 [6400/60000 (11%)]\tLoss Char: 0.000000 Loss Font: 1.594109\n",
      "Train Epoch: 4 [12800/60000 (21%)]\tLoss Char: 0.000000 Loss Font: 1.562012\n",
      "Train Epoch: 4 [19200/60000 (32%)]\tLoss Char: 0.000000 Loss Font: 1.593133\n",
      "Train Epoch: 4 [25600/60000 (43%)]\tLoss Char: 0.000000 Loss Font: 1.511969\n",
      "Train Epoch: 4 [32000/60000 (53%)]\tLoss Char: 0.000000 Loss Font: 1.610205\n",
      "Train Epoch: 4 [38400/60000 (64%)]\tLoss Char: 0.000000 Loss Font: 1.584586\n",
      "Train Epoch: 4 [44800/60000 (75%)]\tLoss Char: 0.000000 Loss Font: 1.584203\n",
      "Train Epoch: 4 [51200/60000 (85%)]\tLoss Char: 0.000000 Loss Font: 1.559573\n",
      "Train Epoch: 4 [57600/60000 (96%)]\tLoss Char: 0.000000 Loss Font: 1.602552\n",
      "\n",
      "Test set: Accuracy Char : 0/10000 (0.00%)\n",
      "          Accuracy Font : 2711/10000 (27.11%)\n",
      "Train Epoch: 5 [0/60000 (0%)]\tLoss Char: 0.000000 Loss Font: 1.581963\n",
      "Train Epoch: 5 [6400/60000 (11%)]\tLoss Char: 0.000000 Loss Font: 1.576161\n",
      "Train Epoch: 5 [12800/60000 (21%)]\tLoss Char: 0.000000 Loss Font: 1.553863\n",
      "Train Epoch: 5 [19200/60000 (32%)]\tLoss Char: 0.000000 Loss Font: 1.583830\n",
      "Train Epoch: 5 [25600/60000 (43%)]\tLoss Char: 0.000000 Loss Font: 1.587945\n",
      "Train Epoch: 5 [32000/60000 (53%)]\tLoss Char: 0.000000 Loss Font: 1.575304\n",
      "Train Epoch: 5 [38400/60000 (64%)]\tLoss Char: 0.000000 Loss Font: 1.559506\n",
      "Train Epoch: 5 [44800/60000 (75%)]\tLoss Char: 0.000000 Loss Font: 1.578449\n",
      "Train Epoch: 5 [51200/60000 (85%)]\tLoss Char: 0.000000 Loss Font: 1.603867\n",
      "Train Epoch: 5 [57600/60000 (96%)]\tLoss Char: 0.000000 Loss Font: 1.559807\n",
      "\n",
      "Test set: Accuracy Char : 0/10000 (0.00%)\n",
      "          Accuracy Font : 2730/10000 (27.30%)\n",
      "Train Epoch: 6 [0/60000 (0%)]\tLoss Char: 0.000000 Loss Font: 1.563786\n",
      "Train Epoch: 6 [6400/60000 (11%)]\tLoss Char: 0.000000 Loss Font: 1.594373\n",
      "Train Epoch: 6 [12800/60000 (21%)]\tLoss Char: 0.000000 Loss Font: 1.559275\n",
      "Train Epoch: 6 [19200/60000 (32%)]\tLoss Char: 0.000000 Loss Font: 1.503307\n",
      "Train Epoch: 6 [25600/60000 (43%)]\tLoss Char: 0.000000 Loss Font: 1.579159\n",
      "Train Epoch: 6 [32000/60000 (53%)]\tLoss Char: 0.000000 Loss Font: 1.597776\n",
      "Train Epoch: 6 [38400/60000 (64%)]\tLoss Char: 0.000000 Loss Font: 1.576786\n",
      "Train Epoch: 6 [44800/60000 (75%)]\tLoss Char: 0.000000 Loss Font: 1.548459\n",
      "Train Epoch: 6 [51200/60000 (85%)]\tLoss Char: 0.000000 Loss Font: 1.527169\n",
      "Train Epoch: 6 [57600/60000 (96%)]\tLoss Char: 0.000000 Loss Font: 1.540250\n",
      "\n",
      "Test set: Accuracy Char : 0/10000 (0.00%)\n",
      "          Accuracy Font : 2842/10000 (28.42%)\n",
      "Train Epoch: 7 [0/60000 (0%)]\tLoss Char: 0.000000 Loss Font: 1.553132\n",
      "Train Epoch: 7 [6400/60000 (11%)]\tLoss Char: 0.000000 Loss Font: 1.527634\n",
      "Train Epoch: 7 [12800/60000 (21%)]\tLoss Char: 0.000000 Loss Font: 1.502054\n",
      "Train Epoch: 7 [19200/60000 (32%)]\tLoss Char: 0.000000 Loss Font: 1.531919\n",
      "Train Epoch: 7 [25600/60000 (43%)]\tLoss Char: 0.000000 Loss Font: 1.575993\n",
      "Train Epoch: 7 [32000/60000 (53%)]\tLoss Char: 0.000000 Loss Font: 1.523795\n",
      "Train Epoch: 7 [38400/60000 (64%)]\tLoss Char: 0.000000 Loss Font: 1.583354\n",
      "Train Epoch: 7 [44800/60000 (75%)]\tLoss Char: 0.000000 Loss Font: 1.552559\n",
      "Train Epoch: 7 [51200/60000 (85%)]\tLoss Char: 0.000000 Loss Font: 1.570548\n",
      "Train Epoch: 7 [57600/60000 (96%)]\tLoss Char: 0.000000 Loss Font: 1.565900\n",
      "\n",
      "Test set: Accuracy Char : 0/10000 (0.00%)\n",
      "          Accuracy Font : 2941/10000 (29.41%)\n",
      "Train Epoch: 8 [0/60000 (0%)]\tLoss Char: 0.000000 Loss Font: 1.556839\n",
      "Train Epoch: 8 [6400/60000 (11%)]\tLoss Char: 0.000000 Loss Font: 1.555791\n",
      "Train Epoch: 8 [12800/60000 (21%)]\tLoss Char: 0.000000 Loss Font: 1.487382\n",
      "Train Epoch: 8 [19200/60000 (32%)]\tLoss Char: 0.000000 Loss Font: 1.547184\n",
      "Train Epoch: 8 [25600/60000 (43%)]\tLoss Char: 0.000000 Loss Font: 1.555437\n",
      "Train Epoch: 8 [32000/60000 (53%)]\tLoss Char: 0.000000 Loss Font: 1.551564\n",
      "Train Epoch: 8 [38400/60000 (64%)]\tLoss Char: 0.000000 Loss Font: 1.568697\n",
      "Train Epoch: 8 [44800/60000 (75%)]\tLoss Char: 0.000000 Loss Font: 1.550141\n",
      "Train Epoch: 8 [51200/60000 (85%)]\tLoss Char: 0.000000 Loss Font: 1.549538\n",
      "Train Epoch: 8 [57600/60000 (96%)]\tLoss Char: 0.000000 Loss Font: 1.485166\n",
      "\n",
      "Test set: Accuracy Char : 0/10000 (0.00%)\n",
      "          Accuracy Font : 2970/10000 (29.70%)\n",
      "Train Epoch: 9 [0/60000 (0%)]\tLoss Char: 0.000000 Loss Font: 1.593944\n",
      "Train Epoch: 9 [6400/60000 (11%)]\tLoss Char: 0.000000 Loss Font: 1.499489\n",
      "Train Epoch: 9 [12800/60000 (21%)]\tLoss Char: 0.000000 Loss Font: 1.536824\n",
      "Train Epoch: 9 [19200/60000 (32%)]\tLoss Char: 0.000000 Loss Font: 1.582728\n",
      "Train Epoch: 9 [25600/60000 (43%)]\tLoss Char: 0.000000 Loss Font: 1.564744\n",
      "Train Epoch: 9 [32000/60000 (53%)]\tLoss Char: 0.000000 Loss Font: 1.512430\n",
      "Train Epoch: 9 [38400/60000 (64%)]\tLoss Char: 0.000000 Loss Font: 1.673328\n",
      "Train Epoch: 9 [44800/60000 (75%)]\tLoss Char: 0.000000 Loss Font: 1.562291\n",
      "Train Epoch: 9 [51200/60000 (85%)]\tLoss Char: 0.000000 Loss Font: 1.518849\n",
      "Train Epoch: 9 [57600/60000 (96%)]\tLoss Char: 0.000000 Loss Font: 1.574777\n",
      "\n",
      "Test set: Accuracy Char : 0/10000 (0.00%)\n",
      "          Accuracy Font : 2968/10000 (29.68%)\n",
      "Train Epoch: 10 [0/60000 (0%)]\tLoss Char: 0.000000 Loss Font: 1.546881\n",
      "Train Epoch: 10 [6400/60000 (11%)]\tLoss Char: 0.000000 Loss Font: 1.539756\n",
      "Train Epoch: 10 [12800/60000 (21%)]\tLoss Char: 0.000000 Loss Font: 1.542758\n",
      "Train Epoch: 10 [19200/60000 (32%)]\tLoss Char: 0.000000 Loss Font: 1.590594\n",
      "Train Epoch: 10 [25600/60000 (43%)]\tLoss Char: 0.000000 Loss Font: 1.526733\n",
      "Train Epoch: 10 [32000/60000 (53%)]\tLoss Char: 0.000000 Loss Font: 1.577867\n",
      "Train Epoch: 10 [38400/60000 (64%)]\tLoss Char: 0.000000 Loss Font: 1.582113\n",
      "Train Epoch: 10 [44800/60000 (75%)]\tLoss Char: 0.000000 Loss Font: 1.546364\n",
      "Train Epoch: 10 [51200/60000 (85%)]\tLoss Char: 0.000000 Loss Font: 1.504236\n",
      "Train Epoch: 10 [57600/60000 (96%)]\tLoss Char: 0.000000 Loss Font: 1.608851\n"
     ]
    },
    {
     "name": "stdout",
     "output_type": "stream",
     "text": [
      "\n",
      "Test set: Accuracy Char : 0/10000 (0.00%)\n",
      "          Accuracy Font : 2921/10000 (29.21%)\n",
      "Training set 60000 items\n",
      "Testing set  10000 items\n",
      "Train Epoch: 1 [0/60000 (0%)]\tLoss Char: 0.000000 Loss Font: 1.725975\n",
      "Train Epoch: 1 [6400/60000 (11%)]\tLoss Char: 0.000000 Loss Font: 1.604582\n",
      "Train Epoch: 1 [12800/60000 (21%)]\tLoss Char: 0.000000 Loss Font: 1.622184\n",
      "Train Epoch: 1 [19200/60000 (32%)]\tLoss Char: 0.000000 Loss Font: 1.624310\n",
      "Train Epoch: 1 [25600/60000 (43%)]\tLoss Char: 0.000000 Loss Font: 1.602119\n",
      "Train Epoch: 1 [32000/60000 (53%)]\tLoss Char: 0.000000 Loss Font: 1.611288\n",
      "Train Epoch: 1 [38400/60000 (64%)]\tLoss Char: 0.000000 Loss Font: 1.600381\n",
      "Train Epoch: 1 [44800/60000 (75%)]\tLoss Char: 0.000000 Loss Font: 1.609032\n",
      "Train Epoch: 1 [51200/60000 (85%)]\tLoss Char: 0.000000 Loss Font: 1.609720\n",
      "Train Epoch: 1 [57600/60000 (96%)]\tLoss Char: 0.000000 Loss Font: 1.588954\n",
      "\n",
      "Test set: Accuracy Char : 0/10000 (0.00%)\n",
      "          Accuracy Font : 2273/10000 (22.73%)\n",
      "Train Epoch: 2 [0/60000 (0%)]\tLoss Char: 0.000000 Loss Font: 1.623593\n",
      "Train Epoch: 2 [6400/60000 (11%)]\tLoss Char: 0.000000 Loss Font: 1.601555\n",
      "Train Epoch: 2 [12800/60000 (21%)]\tLoss Char: 0.000000 Loss Font: 1.599841\n",
      "Train Epoch: 2 [19200/60000 (32%)]\tLoss Char: 0.000000 Loss Font: 1.617463\n",
      "Train Epoch: 2 [25600/60000 (43%)]\tLoss Char: 0.000000 Loss Font: 1.611160\n",
      "Train Epoch: 2 [32000/60000 (53%)]\tLoss Char: 0.000000 Loss Font: 1.567187\n",
      "Train Epoch: 2 [38400/60000 (64%)]\tLoss Char: 0.000000 Loss Font: 1.613224\n",
      "Train Epoch: 2 [44800/60000 (75%)]\tLoss Char: 0.000000 Loss Font: 1.593603\n",
      "Train Epoch: 2 [51200/60000 (85%)]\tLoss Char: 0.000000 Loss Font: 1.613405\n",
      "Train Epoch: 2 [57600/60000 (96%)]\tLoss Char: 0.000000 Loss Font: 1.611470\n",
      "\n",
      "Test set: Accuracy Char : 0/10000 (0.00%)\n",
      "          Accuracy Font : 2294/10000 (22.94%)\n",
      "Train Epoch: 3 [0/60000 (0%)]\tLoss Char: 0.000000 Loss Font: 1.597098\n",
      "Train Epoch: 3 [6400/60000 (11%)]\tLoss Char: 0.000000 Loss Font: 1.598431\n",
      "Train Epoch: 3 [12800/60000 (21%)]\tLoss Char: 0.000000 Loss Font: 1.596195\n",
      "Train Epoch: 3 [19200/60000 (32%)]\tLoss Char: 0.000000 Loss Font: 1.602430\n",
      "Train Epoch: 3 [25600/60000 (43%)]\tLoss Char: 0.000000 Loss Font: 1.570359\n",
      "Train Epoch: 3 [32000/60000 (53%)]\tLoss Char: 0.000000 Loss Font: 1.615144\n",
      "Train Epoch: 3 [38400/60000 (64%)]\tLoss Char: 0.000000 Loss Font: 1.611595\n",
      "Train Epoch: 3 [44800/60000 (75%)]\tLoss Char: 0.000000 Loss Font: 1.618179\n",
      "Train Epoch: 3 [51200/60000 (85%)]\tLoss Char: 0.000000 Loss Font: 1.617597\n",
      "Train Epoch: 3 [57600/60000 (96%)]\tLoss Char: 0.000000 Loss Font: 1.633368\n",
      "\n",
      "Test set: Accuracy Char : 0/10000 (0.00%)\n",
      "          Accuracy Font : 2274/10000 (22.74%)\n",
      "Train Epoch: 4 [0/60000 (0%)]\tLoss Char: 0.000000 Loss Font: 1.631825\n",
      "Train Epoch: 4 [6400/60000 (11%)]\tLoss Char: 0.000000 Loss Font: 1.600279\n",
      "Train Epoch: 4 [12800/60000 (21%)]\tLoss Char: 0.000000 Loss Font: 1.597522\n",
      "Train Epoch: 4 [19200/60000 (32%)]\tLoss Char: 0.000000 Loss Font: 1.617265\n",
      "Train Epoch: 4 [25600/60000 (43%)]\tLoss Char: 0.000000 Loss Font: 1.582559\n",
      "Train Epoch: 4 [32000/60000 (53%)]\tLoss Char: 0.000000 Loss Font: 1.611095\n",
      "Train Epoch: 4 [38400/60000 (64%)]\tLoss Char: 0.000000 Loss Font: 1.617412\n",
      "Train Epoch: 4 [44800/60000 (75%)]\tLoss Char: 0.000000 Loss Font: 1.626043\n",
      "Train Epoch: 4 [51200/60000 (85%)]\tLoss Char: 0.000000 Loss Font: 1.587835\n",
      "Train Epoch: 4 [57600/60000 (96%)]\tLoss Char: 0.000000 Loss Font: 1.601865\n",
      "\n",
      "Test set: Accuracy Char : 0/10000 (0.00%)\n",
      "          Accuracy Font : 2415/10000 (24.15%)\n",
      "Train Epoch: 5 [0/60000 (0%)]\tLoss Char: 0.000000 Loss Font: 1.569482\n",
      "Train Epoch: 5 [6400/60000 (11%)]\tLoss Char: 0.000000 Loss Font: 1.608112\n",
      "Train Epoch: 5 [12800/60000 (21%)]\tLoss Char: 0.000000 Loss Font: 1.575020\n",
      "Train Epoch: 5 [19200/60000 (32%)]\tLoss Char: 0.000000 Loss Font: 1.614263\n",
      "Train Epoch: 5 [25600/60000 (43%)]\tLoss Char: 0.000000 Loss Font: 1.569392\n",
      "Train Epoch: 5 [32000/60000 (53%)]\tLoss Char: 0.000000 Loss Font: 1.596372\n",
      "Train Epoch: 5 [38400/60000 (64%)]\tLoss Char: 0.000000 Loss Font: 1.602507\n",
      "Train Epoch: 5 [44800/60000 (75%)]\tLoss Char: 0.000000 Loss Font: 1.585281\n",
      "Train Epoch: 5 [51200/60000 (85%)]\tLoss Char: 0.000000 Loss Font: 1.583599\n",
      "Train Epoch: 5 [57600/60000 (96%)]\tLoss Char: 0.000000 Loss Font: 1.558854\n",
      "\n",
      "Test set: Accuracy Char : 0/10000 (0.00%)\n",
      "          Accuracy Font : 2375/10000 (23.75%)\n",
      "Train Epoch: 6 [0/60000 (0%)]\tLoss Char: 0.000000 Loss Font: 1.568654\n",
      "Train Epoch: 6 [6400/60000 (11%)]\tLoss Char: 0.000000 Loss Font: 1.619400\n",
      "Train Epoch: 6 [12800/60000 (21%)]\tLoss Char: 0.000000 Loss Font: 1.599740\n",
      "Train Epoch: 6 [19200/60000 (32%)]\tLoss Char: 0.000000 Loss Font: 1.524168\n",
      "Train Epoch: 6 [25600/60000 (43%)]\tLoss Char: 0.000000 Loss Font: 1.578693\n",
      "Train Epoch: 6 [32000/60000 (53%)]\tLoss Char: 0.000000 Loss Font: 1.616735\n",
      "Train Epoch: 6 [38400/60000 (64%)]\tLoss Char: 0.000000 Loss Font: 1.568756\n",
      "Train Epoch: 6 [44800/60000 (75%)]\tLoss Char: 0.000000 Loss Font: 1.585433\n",
      "Train Epoch: 6 [51200/60000 (85%)]\tLoss Char: 0.000000 Loss Font: 1.584620\n",
      "Train Epoch: 6 [57600/60000 (96%)]\tLoss Char: 0.000000 Loss Font: 1.616673\n",
      "\n",
      "Test set: Accuracy Char : 0/10000 (0.00%)\n",
      "          Accuracy Font : 2326/10000 (23.26%)\n",
      "Train Epoch: 7 [0/60000 (0%)]\tLoss Char: 0.000000 Loss Font: 1.588458\n",
      "Train Epoch: 7 [6400/60000 (11%)]\tLoss Char: 0.000000 Loss Font: 1.550604\n",
      "Train Epoch: 7 [12800/60000 (21%)]\tLoss Char: 0.000000 Loss Font: 1.583113\n",
      "Train Epoch: 7 [19200/60000 (32%)]\tLoss Char: 0.000000 Loss Font: 1.562345\n",
      "Train Epoch: 7 [25600/60000 (43%)]\tLoss Char: 0.000000 Loss Font: 1.599318\n",
      "Train Epoch: 7 [32000/60000 (53%)]\tLoss Char: 0.000000 Loss Font: 1.585385\n",
      "Train Epoch: 7 [38400/60000 (64%)]\tLoss Char: 0.000000 Loss Font: 1.573337\n",
      "Train Epoch: 7 [44800/60000 (75%)]\tLoss Char: 0.000000 Loss Font: 1.574723\n",
      "Train Epoch: 7 [51200/60000 (85%)]\tLoss Char: 0.000000 Loss Font: 1.584567\n",
      "Train Epoch: 7 [57600/60000 (96%)]\tLoss Char: 0.000000 Loss Font: 1.578769\n",
      "\n",
      "Test set: Accuracy Char : 0/10000 (0.00%)\n",
      "          Accuracy Font : 2443/10000 (24.43%)\n",
      "Train Epoch: 8 [0/60000 (0%)]\tLoss Char: 0.000000 Loss Font: 1.606467\n",
      "Train Epoch: 8 [6400/60000 (11%)]\tLoss Char: 0.000000 Loss Font: 1.598728\n",
      "Train Epoch: 8 [12800/60000 (21%)]\tLoss Char: 0.000000 Loss Font: 1.555931\n",
      "Train Epoch: 8 [19200/60000 (32%)]\tLoss Char: 0.000000 Loss Font: 1.577021\n",
      "Train Epoch: 8 [25600/60000 (43%)]\tLoss Char: 0.000000 Loss Font: 1.559847\n",
      "Train Epoch: 8 [32000/60000 (53%)]\tLoss Char: 0.000000 Loss Font: 1.606653\n",
      "Train Epoch: 8 [38400/60000 (64%)]\tLoss Char: 0.000000 Loss Font: 1.633588\n",
      "Train Epoch: 8 [44800/60000 (75%)]\tLoss Char: 0.000000 Loss Font: 1.594601\n",
      "Train Epoch: 8 [51200/60000 (85%)]\tLoss Char: 0.000000 Loss Font: 1.603029\n",
      "Train Epoch: 8 [57600/60000 (96%)]\tLoss Char: 0.000000 Loss Font: 1.554713\n",
      "\n",
      "Test set: Accuracy Char : 0/10000 (0.00%)\n",
      "          Accuracy Font : 2524/10000 (25.24%)\n",
      "Train Epoch: 9 [0/60000 (0%)]\tLoss Char: 0.000000 Loss Font: 1.586521\n",
      "Train Epoch: 9 [6400/60000 (11%)]\tLoss Char: 0.000000 Loss Font: 1.569481\n",
      "Train Epoch: 9 [12800/60000 (21%)]\tLoss Char: 0.000000 Loss Font: 1.563201\n",
      "Train Epoch: 9 [19200/60000 (32%)]\tLoss Char: 0.000000 Loss Font: 1.562137\n",
      "Train Epoch: 9 [25600/60000 (43%)]\tLoss Char: 0.000000 Loss Font: 1.588176\n",
      "Train Epoch: 9 [32000/60000 (53%)]\tLoss Char: 0.000000 Loss Font: 1.561413\n",
      "Train Epoch: 9 [38400/60000 (64%)]\tLoss Char: 0.000000 Loss Font: 1.634982\n",
      "Train Epoch: 9 [44800/60000 (75%)]\tLoss Char: 0.000000 Loss Font: 1.597750\n",
      "Train Epoch: 9 [51200/60000 (85%)]\tLoss Char: 0.000000 Loss Font: 1.592422\n",
      "Train Epoch: 9 [57600/60000 (96%)]\tLoss Char: 0.000000 Loss Font: 1.618427\n",
      "\n",
      "Test set: Accuracy Char : 0/10000 (0.00%)\n",
      "          Accuracy Font : 2577/10000 (25.77%)\n",
      "Train Epoch: 10 [0/60000 (0%)]\tLoss Char: 0.000000 Loss Font: 1.553082\n",
      "Train Epoch: 10 [6400/60000 (11%)]\tLoss Char: 0.000000 Loss Font: 1.564629\n",
      "Train Epoch: 10 [12800/60000 (21%)]\tLoss Char: 0.000000 Loss Font: 1.575834\n",
      "Train Epoch: 10 [19200/60000 (32%)]\tLoss Char: 0.000000 Loss Font: 1.575177\n",
      "Train Epoch: 10 [25600/60000 (43%)]\tLoss Char: 0.000000 Loss Font: 1.577780\n",
      "Train Epoch: 10 [32000/60000 (53%)]\tLoss Char: 0.000000 Loss Font: 1.573782\n",
      "Train Epoch: 10 [38400/60000 (64%)]\tLoss Char: 0.000000 Loss Font: 1.567020\n",
      "Train Epoch: 10 [44800/60000 (75%)]\tLoss Char: 0.000000 Loss Font: 1.507343\n"
     ]
    },
    {
     "name": "stdout",
     "output_type": "stream",
     "text": [
      "Train Epoch: 10 [51200/60000 (85%)]\tLoss Char: 0.000000 Loss Font: 1.533692\n",
      "Train Epoch: 10 [57600/60000 (96%)]\tLoss Char: 0.000000 Loss Font: 1.571914\n",
      "\n",
      "Test set: Accuracy Char : 0/10000 (0.00%)\n",
      "          Accuracy Font : 2642/10000 (26.42%)\n",
      "Training set 60000 items\n",
      "Testing set  10000 items\n",
      "Train Epoch: 1 [0/60000 (0%)]\tLoss Char: 0.000000 Loss Font: 2.750403\n",
      "Train Epoch: 1 [6400/60000 (11%)]\tLoss Char: 0.000000 Loss Font: 1.654245\n",
      "Train Epoch: 1 [12800/60000 (21%)]\tLoss Char: 0.000000 Loss Font: 1.621393\n",
      "Train Epoch: 1 [19200/60000 (32%)]\tLoss Char: 0.000000 Loss Font: 1.638778\n",
      "Train Epoch: 1 [25600/60000 (43%)]\tLoss Char: 0.000000 Loss Font: 1.600552\n",
      "Train Epoch: 1 [32000/60000 (53%)]\tLoss Char: 0.000000 Loss Font: 1.626825\n",
      "Train Epoch: 1 [38400/60000 (64%)]\tLoss Char: 0.000000 Loss Font: 1.589068\n",
      "Train Epoch: 1 [44800/60000 (75%)]\tLoss Char: 0.000000 Loss Font: 1.611565\n",
      "Train Epoch: 1 [51200/60000 (85%)]\tLoss Char: 0.000000 Loss Font: 1.623794\n",
      "Train Epoch: 1 [57600/60000 (96%)]\tLoss Char: 0.000000 Loss Font: 1.595729\n",
      "\n",
      "Test set: Accuracy Char : 0/10000 (0.00%)\n",
      "          Accuracy Font : 2213/10000 (22.13%)\n",
      "Train Epoch: 2 [0/60000 (0%)]\tLoss Char: 0.000000 Loss Font: 1.604000\n",
      "Train Epoch: 2 [6400/60000 (11%)]\tLoss Char: 0.000000 Loss Font: 1.623621\n",
      "Train Epoch: 2 [12800/60000 (21%)]\tLoss Char: 0.000000 Loss Font: 1.599433\n",
      "Train Epoch: 2 [19200/60000 (32%)]\tLoss Char: 0.000000 Loss Font: 1.628591\n",
      "Train Epoch: 2 [25600/60000 (43%)]\tLoss Char: 0.000000 Loss Font: 1.608324\n",
      "Train Epoch: 2 [32000/60000 (53%)]\tLoss Char: 0.000000 Loss Font: 1.595328\n",
      "Train Epoch: 2 [38400/60000 (64%)]\tLoss Char: 0.000000 Loss Font: 1.612187\n",
      "Train Epoch: 2 [44800/60000 (75%)]\tLoss Char: 0.000000 Loss Font: 1.578960\n",
      "Train Epoch: 2 [51200/60000 (85%)]\tLoss Char: 0.000000 Loss Font: 1.608034\n",
      "Train Epoch: 2 [57600/60000 (96%)]\tLoss Char: 0.000000 Loss Font: 1.609596\n",
      "\n",
      "Test set: Accuracy Char : 0/10000 (0.00%)\n",
      "          Accuracy Font : 2246/10000 (22.46%)\n",
      "Train Epoch: 3 [0/60000 (0%)]\tLoss Char: 0.000000 Loss Font: 1.595287\n",
      "Train Epoch: 3 [6400/60000 (11%)]\tLoss Char: 0.000000 Loss Font: 1.597494\n",
      "Train Epoch: 3 [12800/60000 (21%)]\tLoss Char: 0.000000 Loss Font: 1.626668\n",
      "Train Epoch: 3 [19200/60000 (32%)]\tLoss Char: 0.000000 Loss Font: 1.598050\n",
      "Train Epoch: 3 [25600/60000 (43%)]\tLoss Char: 0.000000 Loss Font: 1.599519\n",
      "Train Epoch: 3 [32000/60000 (53%)]\tLoss Char: 0.000000 Loss Font: 1.597317\n",
      "Train Epoch: 3 [38400/60000 (64%)]\tLoss Char: 0.000000 Loss Font: 1.645747\n",
      "Train Epoch: 3 [44800/60000 (75%)]\tLoss Char: 0.000000 Loss Font: 1.587238\n",
      "Train Epoch: 3 [51200/60000 (85%)]\tLoss Char: 0.000000 Loss Font: 1.597226\n",
      "Train Epoch: 3 [57600/60000 (96%)]\tLoss Char: 0.000000 Loss Font: 1.574712\n",
      "\n",
      "Test set: Accuracy Char : 0/10000 (0.00%)\n",
      "          Accuracy Font : 2276/10000 (22.76%)\n",
      "Train Epoch: 4 [0/60000 (0%)]\tLoss Char: 0.000000 Loss Font: 1.593396\n",
      "Train Epoch: 4 [6400/60000 (11%)]\tLoss Char: 0.000000 Loss Font: 1.596298\n",
      "Train Epoch: 4 [12800/60000 (21%)]\tLoss Char: 0.000000 Loss Font: 1.581421\n",
      "Train Epoch: 4 [19200/60000 (32%)]\tLoss Char: 0.000000 Loss Font: 1.606243\n",
      "Train Epoch: 4 [25600/60000 (43%)]\tLoss Char: 0.000000 Loss Font: 1.541037\n",
      "Train Epoch: 4 [32000/60000 (53%)]\tLoss Char: 0.000000 Loss Font: 1.599725\n",
      "Train Epoch: 4 [38400/60000 (64%)]\tLoss Char: 0.000000 Loss Font: 1.595235\n",
      "Train Epoch: 4 [44800/60000 (75%)]\tLoss Char: 0.000000 Loss Font: 1.594488\n",
      "Train Epoch: 4 [51200/60000 (85%)]\tLoss Char: 0.000000 Loss Font: 1.587132\n",
      "Train Epoch: 4 [57600/60000 (96%)]\tLoss Char: 0.000000 Loss Font: 1.587401\n",
      "\n",
      "Test set: Accuracy Char : 0/10000 (0.00%)\n",
      "          Accuracy Font : 2311/10000 (23.11%)\n",
      "Train Epoch: 5 [0/60000 (0%)]\tLoss Char: 0.000000 Loss Font: 1.576258\n",
      "Train Epoch: 5 [6400/60000 (11%)]\tLoss Char: 0.000000 Loss Font: 1.588711\n",
      "Train Epoch: 5 [12800/60000 (21%)]\tLoss Char: 0.000000 Loss Font: 1.586154\n",
      "Train Epoch: 5 [19200/60000 (32%)]\tLoss Char: 0.000000 Loss Font: 1.564725\n",
      "Train Epoch: 5 [25600/60000 (43%)]\tLoss Char: 0.000000 Loss Font: 1.596218\n",
      "Train Epoch: 5 [32000/60000 (53%)]\tLoss Char: 0.000000 Loss Font: 1.597438\n",
      "Train Epoch: 5 [38400/60000 (64%)]\tLoss Char: 0.000000 Loss Font: 1.590524\n",
      "Train Epoch: 5 [44800/60000 (75%)]\tLoss Char: 0.000000 Loss Font: 1.646856\n",
      "Train Epoch: 5 [51200/60000 (85%)]\tLoss Char: 0.000000 Loss Font: 1.627839\n",
      "Train Epoch: 5 [57600/60000 (96%)]\tLoss Char: 0.000000 Loss Font: 1.556318\n",
      "\n",
      "Test set: Accuracy Char : 0/10000 (0.00%)\n",
      "          Accuracy Font : 2282/10000 (22.82%)\n",
      "Train Epoch: 6 [0/60000 (0%)]\tLoss Char: 0.000000 Loss Font: 1.588035\n",
      "Train Epoch: 6 [6400/60000 (11%)]\tLoss Char: 0.000000 Loss Font: 1.583808\n",
      "Train Epoch: 6 [12800/60000 (21%)]\tLoss Char: 0.000000 Loss Font: 1.586294\n",
      "Train Epoch: 6 [19200/60000 (32%)]\tLoss Char: 0.000000 Loss Font: 1.551347\n",
      "Train Epoch: 6 [25600/60000 (43%)]\tLoss Char: 0.000000 Loss Font: 1.589392\n",
      "Train Epoch: 6 [32000/60000 (53%)]\tLoss Char: 0.000000 Loss Font: 1.583324\n",
      "Train Epoch: 6 [38400/60000 (64%)]\tLoss Char: 0.000000 Loss Font: 1.613382\n",
      "Train Epoch: 6 [44800/60000 (75%)]\tLoss Char: 0.000000 Loss Font: 1.581516\n",
      "Train Epoch: 6 [51200/60000 (85%)]\tLoss Char: 0.000000 Loss Font: 1.594721\n",
      "Train Epoch: 6 [57600/60000 (96%)]\tLoss Char: 0.000000 Loss Font: 1.589075\n",
      "\n",
      "Test set: Accuracy Char : 0/10000 (0.00%)\n",
      "          Accuracy Font : 2384/10000 (23.84%)\n",
      "Train Epoch: 7 [0/60000 (0%)]\tLoss Char: 0.000000 Loss Font: 1.577185\n",
      "Train Epoch: 7 [6400/60000 (11%)]\tLoss Char: 0.000000 Loss Font: 1.550762\n",
      "Train Epoch: 7 [12800/60000 (21%)]\tLoss Char: 0.000000 Loss Font: 1.557928\n",
      "Train Epoch: 7 [19200/60000 (32%)]\tLoss Char: 0.000000 Loss Font: 1.585829\n",
      "Train Epoch: 7 [25600/60000 (43%)]\tLoss Char: 0.000000 Loss Font: 1.585474\n",
      "Train Epoch: 7 [32000/60000 (53%)]\tLoss Char: 0.000000 Loss Font: 1.566204\n",
      "Train Epoch: 7 [38400/60000 (64%)]\tLoss Char: 0.000000 Loss Font: 1.602645\n",
      "Train Epoch: 7 [44800/60000 (75%)]\tLoss Char: 0.000000 Loss Font: 1.578975\n",
      "Train Epoch: 7 [51200/60000 (85%)]\tLoss Char: 0.000000 Loss Font: 1.585075\n",
      "Train Epoch: 7 [57600/60000 (96%)]\tLoss Char: 0.000000 Loss Font: 1.575802\n",
      "\n",
      "Test set: Accuracy Char : 0/10000 (0.00%)\n",
      "          Accuracy Font : 2368/10000 (23.68%)\n",
      "Train Epoch: 8 [0/60000 (0%)]\tLoss Char: 0.000000 Loss Font: 1.621865\n",
      "Train Epoch: 8 [6400/60000 (11%)]\tLoss Char: 0.000000 Loss Font: 1.587676\n",
      "Train Epoch: 8 [12800/60000 (21%)]\tLoss Char: 0.000000 Loss Font: 1.592993\n",
      "Train Epoch: 8 [19200/60000 (32%)]\tLoss Char: 0.000000 Loss Font: 1.577030\n",
      "Train Epoch: 8 [25600/60000 (43%)]\tLoss Char: 0.000000 Loss Font: 1.586214\n",
      "Train Epoch: 8 [32000/60000 (53%)]\tLoss Char: 0.000000 Loss Font: 1.576831\n",
      "Train Epoch: 8 [38400/60000 (64%)]\tLoss Char: 0.000000 Loss Font: 1.601792\n",
      "Train Epoch: 8 [44800/60000 (75%)]\tLoss Char: 0.000000 Loss Font: 1.581439\n",
      "Train Epoch: 8 [51200/60000 (85%)]\tLoss Char: 0.000000 Loss Font: 1.599862\n",
      "Train Epoch: 8 [57600/60000 (96%)]\tLoss Char: 0.000000 Loss Font: 1.555409\n",
      "\n",
      "Test set: Accuracy Char : 0/10000 (0.00%)\n",
      "          Accuracy Font : 2377/10000 (23.77%)\n",
      "Train Epoch: 9 [0/60000 (0%)]\tLoss Char: 0.000000 Loss Font: 1.590144\n",
      "Train Epoch: 9 [6400/60000 (11%)]\tLoss Char: 0.000000 Loss Font: 1.543839\n",
      "Train Epoch: 9 [12800/60000 (21%)]\tLoss Char: 0.000000 Loss Font: 1.596469\n",
      "Train Epoch: 9 [19200/60000 (32%)]\tLoss Char: 0.000000 Loss Font: 1.582194\n",
      "Train Epoch: 9 [25600/60000 (43%)]\tLoss Char: 0.000000 Loss Font: 1.619278\n",
      "Train Epoch: 9 [32000/60000 (53%)]\tLoss Char: 0.000000 Loss Font: 1.572828\n",
      "Train Epoch: 9 [38400/60000 (64%)]\tLoss Char: 0.000000 Loss Font: 1.606395\n",
      "Train Epoch: 9 [44800/60000 (75%)]\tLoss Char: 0.000000 Loss Font: 1.589809\n",
      "Train Epoch: 9 [51200/60000 (85%)]\tLoss Char: 0.000000 Loss Font: 1.562686\n",
      "Train Epoch: 9 [57600/60000 (96%)]\tLoss Char: 0.000000 Loss Font: 1.601901\n",
      "\n",
      "Test set: Accuracy Char : 0/10000 (0.00%)\n",
      "          Accuracy Font : 2446/10000 (24.46%)\n",
      "Train Epoch: 10 [0/60000 (0%)]\tLoss Char: 0.000000 Loss Font: 1.586677\n",
      "Train Epoch: 10 [6400/60000 (11%)]\tLoss Char: 0.000000 Loss Font: 1.553357\n",
      "Train Epoch: 10 [12800/60000 (21%)]\tLoss Char: 0.000000 Loss Font: 1.615421\n",
      "Train Epoch: 10 [19200/60000 (32%)]\tLoss Char: 0.000000 Loss Font: 1.598702\n",
      "Train Epoch: 10 [25600/60000 (43%)]\tLoss Char: 0.000000 Loss Font: 1.575760\n",
      "Train Epoch: 10 [32000/60000 (53%)]\tLoss Char: 0.000000 Loss Font: 1.594650\n",
      "Train Epoch: 10 [38400/60000 (64%)]\tLoss Char: 0.000000 Loss Font: 1.549784\n"
     ]
    },
    {
     "name": "stdout",
     "output_type": "stream",
     "text": [
      "Train Epoch: 10 [44800/60000 (75%)]\tLoss Char: 0.000000 Loss Font: 1.548662\n",
      "Train Epoch: 10 [51200/60000 (85%)]\tLoss Char: 0.000000 Loss Font: 1.544883\n",
      "Train Epoch: 10 [57600/60000 (96%)]\tLoss Char: 0.000000 Loss Font: 1.607075\n",
      "\n",
      "Test set: Accuracy Char : 0/10000 (0.00%)\n",
      "          Accuracy Font : 2513/10000 (25.13%)\n",
      "Training set 60000 items\n",
      "Testing set  10000 items\n",
      "Train Epoch: 1 [0/60000 (0%)]\tLoss Char: 0.000000 Loss Font: 9.656064\n",
      "Train Epoch: 1 [6400/60000 (11%)]\tLoss Char: 0.000000 Loss Font: 1.795056\n",
      "Train Epoch: 1 [12800/60000 (21%)]\tLoss Char: 0.000000 Loss Font: 1.699390\n",
      "Train Epoch: 1 [19200/60000 (32%)]\tLoss Char: 0.000000 Loss Font: 1.727127\n",
      "Train Epoch: 1 [25600/60000 (43%)]\tLoss Char: 0.000000 Loss Font: 1.632308\n",
      "Train Epoch: 1 [32000/60000 (53%)]\tLoss Char: 0.000000 Loss Font: 1.598947\n",
      "Train Epoch: 1 [38400/60000 (64%)]\tLoss Char: 0.000000 Loss Font: 1.624567\n",
      "Train Epoch: 1 [44800/60000 (75%)]\tLoss Char: 0.000000 Loss Font: 1.529872\n",
      "Train Epoch: 1 [51200/60000 (85%)]\tLoss Char: 0.000000 Loss Font: 1.687177\n",
      "Train Epoch: 1 [57600/60000 (96%)]\tLoss Char: 0.000000 Loss Font: 1.607043\n",
      "\n",
      "Test set: Accuracy Char : 0/10000 (0.00%)\n",
      "          Accuracy Font : 2590/10000 (25.90%)\n",
      "Train Epoch: 2 [0/60000 (0%)]\tLoss Char: 0.000000 Loss Font: 1.594125\n",
      "Train Epoch: 2 [6400/60000 (11%)]\tLoss Char: 0.000000 Loss Font: 1.579009\n",
      "Train Epoch: 2 [12800/60000 (21%)]\tLoss Char: 0.000000 Loss Font: 1.566259\n",
      "Train Epoch: 2 [19200/60000 (32%)]\tLoss Char: 0.000000 Loss Font: 1.647211\n",
      "Train Epoch: 2 [25600/60000 (43%)]\tLoss Char: 0.000000 Loss Font: 1.596374\n",
      "Train Epoch: 2 [32000/60000 (53%)]\tLoss Char: 0.000000 Loss Font: 1.632504\n",
      "Train Epoch: 2 [38400/60000 (64%)]\tLoss Char: 0.000000 Loss Font: 1.581576\n",
      "Train Epoch: 2 [44800/60000 (75%)]\tLoss Char: 0.000000 Loss Font: 1.674812\n",
      "Train Epoch: 2 [51200/60000 (85%)]\tLoss Char: 0.000000 Loss Font: 1.657242\n",
      "Train Epoch: 2 [57600/60000 (96%)]\tLoss Char: 0.000000 Loss Font: 1.613886\n",
      "\n",
      "Test set: Accuracy Char : 0/10000 (0.00%)\n",
      "          Accuracy Font : 2682/10000 (26.82%)\n",
      "Train Epoch: 3 [0/60000 (0%)]\tLoss Char: 0.000000 Loss Font: 1.522983\n",
      "Train Epoch: 3 [6400/60000 (11%)]\tLoss Char: 0.000000 Loss Font: 1.511353\n",
      "Train Epoch: 3 [12800/60000 (21%)]\tLoss Char: 0.000000 Loss Font: 1.593244\n",
      "Train Epoch: 3 [19200/60000 (32%)]\tLoss Char: 0.000000 Loss Font: 1.512203\n",
      "Train Epoch: 3 [25600/60000 (43%)]\tLoss Char: 0.000000 Loss Font: 1.579239\n",
      "Train Epoch: 3 [32000/60000 (53%)]\tLoss Char: 0.000000 Loss Font: 1.595751\n",
      "Train Epoch: 3 [38400/60000 (64%)]\tLoss Char: 0.000000 Loss Font: 1.600208\n",
      "Train Epoch: 3 [44800/60000 (75%)]\tLoss Char: 0.000000 Loss Font: 1.517907\n",
      "Train Epoch: 3 [51200/60000 (85%)]\tLoss Char: 0.000000 Loss Font: 1.514487\n",
      "Train Epoch: 3 [57600/60000 (96%)]\tLoss Char: 0.000000 Loss Font: 1.579773\n",
      "\n",
      "Test set: Accuracy Char : 0/10000 (0.00%)\n",
      "          Accuracy Font : 2911/10000 (29.11%)\n",
      "Train Epoch: 4 [0/60000 (0%)]\tLoss Char: 0.000000 Loss Font: 1.623908\n",
      "Train Epoch: 4 [6400/60000 (11%)]\tLoss Char: 0.000000 Loss Font: 1.570667\n",
      "Train Epoch: 4 [12800/60000 (21%)]\tLoss Char: 0.000000 Loss Font: 1.523362\n",
      "Train Epoch: 4 [19200/60000 (32%)]\tLoss Char: 0.000000 Loss Font: 1.523974\n",
      "Train Epoch: 4 [25600/60000 (43%)]\tLoss Char: 0.000000 Loss Font: 1.578864\n",
      "Train Epoch: 4 [32000/60000 (53%)]\tLoss Char: 0.000000 Loss Font: 1.632126\n",
      "Train Epoch: 4 [38400/60000 (64%)]\tLoss Char: 0.000000 Loss Font: 1.561417\n",
      "Train Epoch: 4 [44800/60000 (75%)]\tLoss Char: 0.000000 Loss Font: 1.571264\n",
      "Train Epoch: 4 [51200/60000 (85%)]\tLoss Char: 0.000000 Loss Font: 1.567125\n",
      "Train Epoch: 4 [57600/60000 (96%)]\tLoss Char: 0.000000 Loss Font: 1.565243\n",
      "\n",
      "Test set: Accuracy Char : 0/10000 (0.00%)\n",
      "          Accuracy Font : 2979/10000 (29.79%)\n",
      "Train Epoch: 5 [0/60000 (0%)]\tLoss Char: 0.000000 Loss Font: 1.499576\n",
      "Train Epoch: 5 [6400/60000 (11%)]\tLoss Char: 0.000000 Loss Font: 1.570622\n",
      "Train Epoch: 5 [12800/60000 (21%)]\tLoss Char: 0.000000 Loss Font: 1.449196\n",
      "Train Epoch: 5 [19200/60000 (32%)]\tLoss Char: 0.000000 Loss Font: 1.615313\n",
      "Train Epoch: 5 [25600/60000 (43%)]\tLoss Char: 0.000000 Loss Font: 1.600682\n",
      "Train Epoch: 5 [32000/60000 (53%)]\tLoss Char: 0.000000 Loss Font: 1.566938\n",
      "Train Epoch: 5 [38400/60000 (64%)]\tLoss Char: 0.000000 Loss Font: 1.585481\n",
      "Train Epoch: 5 [44800/60000 (75%)]\tLoss Char: 0.000000 Loss Font: 1.545379\n",
      "Train Epoch: 5 [51200/60000 (85%)]\tLoss Char: 0.000000 Loss Font: 1.547626\n",
      "Train Epoch: 5 [57600/60000 (96%)]\tLoss Char: 0.000000 Loss Font: 1.573955\n",
      "\n",
      "Test set: Accuracy Char : 0/10000 (0.00%)\n",
      "          Accuracy Font : 2861/10000 (28.61%)\n",
      "Train Epoch: 6 [0/60000 (0%)]\tLoss Char: 0.000000 Loss Font: 1.531482\n",
      "Train Epoch: 6 [6400/60000 (11%)]\tLoss Char: 0.000000 Loss Font: 1.588406\n",
      "Train Epoch: 6 [12800/60000 (21%)]\tLoss Char: 0.000000 Loss Font: 1.549629\n",
      "Train Epoch: 6 [19200/60000 (32%)]\tLoss Char: 0.000000 Loss Font: 1.414004\n",
      "Train Epoch: 6 [25600/60000 (43%)]\tLoss Char: 0.000000 Loss Font: 1.542192\n",
      "Train Epoch: 6 [32000/60000 (53%)]\tLoss Char: 0.000000 Loss Font: 1.603770\n",
      "Train Epoch: 6 [38400/60000 (64%)]\tLoss Char: 0.000000 Loss Font: 1.529286\n",
      "Train Epoch: 6 [44800/60000 (75%)]\tLoss Char: 0.000000 Loss Font: 1.408592\n",
      "Train Epoch: 6 [51200/60000 (85%)]\tLoss Char: 0.000000 Loss Font: 1.475632\n",
      "Train Epoch: 6 [57600/60000 (96%)]\tLoss Char: 0.000000 Loss Font: 1.492214\n",
      "\n",
      "Test set: Accuracy Char : 0/10000 (0.00%)\n",
      "          Accuracy Font : 2771/10000 (27.71%)\n",
      "Train Epoch: 7 [0/60000 (0%)]\tLoss Char: 0.000000 Loss Font: 1.582236\n",
      "Train Epoch: 7 [6400/60000 (11%)]\tLoss Char: 0.000000 Loss Font: 1.519489\n",
      "Train Epoch: 7 [12800/60000 (21%)]\tLoss Char: 0.000000 Loss Font: 1.435033\n",
      "Train Epoch: 7 [19200/60000 (32%)]\tLoss Char: 0.000000 Loss Font: 1.464177\n",
      "Train Epoch: 7 [25600/60000 (43%)]\tLoss Char: 0.000000 Loss Font: 1.553958\n",
      "Train Epoch: 7 [32000/60000 (53%)]\tLoss Char: 0.000000 Loss Font: 1.450388\n",
      "Train Epoch: 7 [38400/60000 (64%)]\tLoss Char: 0.000000 Loss Font: 1.542008\n",
      "Train Epoch: 7 [44800/60000 (75%)]\tLoss Char: 0.000000 Loss Font: 1.564233\n",
      "Train Epoch: 7 [51200/60000 (85%)]\tLoss Char: 0.000000 Loss Font: 1.565110\n",
      "Train Epoch: 7 [57600/60000 (96%)]\tLoss Char: 0.000000 Loss Font: 1.563808\n",
      "\n",
      "Test set: Accuracy Char : 0/10000 (0.00%)\n",
      "          Accuracy Font : 3118/10000 (31.18%)\n",
      "Train Epoch: 8 [0/60000 (0%)]\tLoss Char: 0.000000 Loss Font: 1.569075\n",
      "Train Epoch: 8 [6400/60000 (11%)]\tLoss Char: 0.000000 Loss Font: 1.505847\n",
      "Train Epoch: 8 [12800/60000 (21%)]\tLoss Char: 0.000000 Loss Font: 1.507228\n",
      "Train Epoch: 8 [19200/60000 (32%)]\tLoss Char: 0.000000 Loss Font: 1.502464\n",
      "Train Epoch: 8 [25600/60000 (43%)]\tLoss Char: 0.000000 Loss Font: 1.504043\n",
      "Train Epoch: 8 [32000/60000 (53%)]\tLoss Char: 0.000000 Loss Font: 1.509239\n",
      "Train Epoch: 8 [38400/60000 (64%)]\tLoss Char: 0.000000 Loss Font: 1.551120\n",
      "Train Epoch: 8 [44800/60000 (75%)]\tLoss Char: 0.000000 Loss Font: 1.541323\n",
      "Train Epoch: 8 [51200/60000 (85%)]\tLoss Char: 0.000000 Loss Font: 1.494052\n",
      "Train Epoch: 8 [57600/60000 (96%)]\tLoss Char: 0.000000 Loss Font: 1.438854\n",
      "\n",
      "Test set: Accuracy Char : 0/10000 (0.00%)\n",
      "          Accuracy Font : 3112/10000 (31.12%)\n",
      "Train Epoch: 9 [0/60000 (0%)]\tLoss Char: 0.000000 Loss Font: 1.556447\n",
      "Train Epoch: 9 [6400/60000 (11%)]\tLoss Char: 0.000000 Loss Font: 1.473163\n",
      "Train Epoch: 9 [12800/60000 (21%)]\tLoss Char: 0.000000 Loss Font: 1.538456\n",
      "Train Epoch: 9 [19200/60000 (32%)]\tLoss Char: 0.000000 Loss Font: 1.504737\n",
      "Train Epoch: 9 [25600/60000 (43%)]\tLoss Char: 0.000000 Loss Font: 1.504232\n",
      "Train Epoch: 9 [32000/60000 (53%)]\tLoss Char: 0.000000 Loss Font: 1.524298\n",
      "Train Epoch: 9 [38400/60000 (64%)]\tLoss Char: 0.000000 Loss Font: 1.660060\n",
      "Train Epoch: 9 [44800/60000 (75%)]\tLoss Char: 0.000000 Loss Font: 1.534047\n",
      "Train Epoch: 9 [51200/60000 (85%)]\tLoss Char: 0.000000 Loss Font: 1.475493\n",
      "Train Epoch: 9 [57600/60000 (96%)]\tLoss Char: 0.000000 Loss Font: 1.551986\n",
      "\n",
      "Test set: Accuracy Char : 0/10000 (0.00%)\n",
      "          Accuracy Font : 3159/10000 (31.59%)\n",
      "Train Epoch: 10 [0/60000 (0%)]\tLoss Char: 0.000000 Loss Font: 1.507041\n",
      "Train Epoch: 10 [6400/60000 (11%)]\tLoss Char: 0.000000 Loss Font: 1.519866\n",
      "Train Epoch: 10 [12800/60000 (21%)]\tLoss Char: 0.000000 Loss Font: 1.509091\n",
      "Train Epoch: 10 [19200/60000 (32%)]\tLoss Char: 0.000000 Loss Font: 1.533725\n",
      "Train Epoch: 10 [25600/60000 (43%)]\tLoss Char: 0.000000 Loss Font: 1.423978\n",
      "Train Epoch: 10 [32000/60000 (53%)]\tLoss Char: 0.000000 Loss Font: 1.520505\n"
     ]
    },
    {
     "name": "stdout",
     "output_type": "stream",
     "text": [
      "Train Epoch: 10 [38400/60000 (64%)]\tLoss Char: 0.000000 Loss Font: 1.565489\n",
      "Train Epoch: 10 [44800/60000 (75%)]\tLoss Char: 0.000000 Loss Font: 1.481735\n",
      "Train Epoch: 10 [51200/60000 (85%)]\tLoss Char: 0.000000 Loss Font: 1.402487\n",
      "Train Epoch: 10 [57600/60000 (96%)]\tLoss Char: 0.000000 Loss Font: 1.550917\n",
      "\n",
      "Test set: Accuracy Char : 0/10000 (0.00%)\n",
      "          Accuracy Font : 3149/10000 (31.49%)\n",
      "Training set 60000 items\n",
      "Testing set  10000 items\n",
      "Train Epoch: 1 [0/60000 (0%)]\tLoss Char: 0.000000 Loss Font: 2.825813\n",
      "Train Epoch: 1 [6400/60000 (11%)]\tLoss Char: 0.000000 Loss Font: 1.688153\n",
      "Train Epoch: 1 [12800/60000 (21%)]\tLoss Char: 0.000000 Loss Font: 1.643066\n",
      "Train Epoch: 1 [19200/60000 (32%)]\tLoss Char: 0.000000 Loss Font: 1.702604\n",
      "Train Epoch: 1 [25600/60000 (43%)]\tLoss Char: 0.000000 Loss Font: 1.603987\n",
      "Train Epoch: 1 [32000/60000 (53%)]\tLoss Char: 0.000000 Loss Font: 1.615662\n",
      "Train Epoch: 1 [38400/60000 (64%)]\tLoss Char: 0.000000 Loss Font: 1.589470\n",
      "Train Epoch: 1 [44800/60000 (75%)]\tLoss Char: 0.000000 Loss Font: 1.537047\n",
      "Train Epoch: 1 [51200/60000 (85%)]\tLoss Char: 0.000000 Loss Font: 1.656805\n",
      "Train Epoch: 1 [57600/60000 (96%)]\tLoss Char: 0.000000 Loss Font: 1.625143\n",
      "\n",
      "Test set: Accuracy Char : 0/10000 (0.00%)\n",
      "          Accuracy Font : 2326/10000 (23.26%)\n",
      "Train Epoch: 2 [0/60000 (0%)]\tLoss Char: 0.000000 Loss Font: 1.622758\n",
      "Train Epoch: 2 [6400/60000 (11%)]\tLoss Char: 0.000000 Loss Font: 1.582301\n",
      "Train Epoch: 2 [12800/60000 (21%)]\tLoss Char: 0.000000 Loss Font: 1.599536\n",
      "Train Epoch: 2 [19200/60000 (32%)]\tLoss Char: 0.000000 Loss Font: 1.667719\n",
      "Train Epoch: 2 [25600/60000 (43%)]\tLoss Char: 0.000000 Loss Font: 1.636455\n",
      "Train Epoch: 2 [32000/60000 (53%)]\tLoss Char: 0.000000 Loss Font: 1.638394\n",
      "Train Epoch: 2 [38400/60000 (64%)]\tLoss Char: 0.000000 Loss Font: 1.623183\n",
      "Train Epoch: 2 [44800/60000 (75%)]\tLoss Char: 0.000000 Loss Font: 1.655211\n",
      "Train Epoch: 2 [51200/60000 (85%)]\tLoss Char: 0.000000 Loss Font: 1.669555\n",
      "Train Epoch: 2 [57600/60000 (96%)]\tLoss Char: 0.000000 Loss Font: 1.605633\n",
      "\n",
      "Test set: Accuracy Char : 0/10000 (0.00%)\n",
      "          Accuracy Font : 2511/10000 (25.11%)\n",
      "Train Epoch: 3 [0/60000 (0%)]\tLoss Char: 0.000000 Loss Font: 1.591736\n",
      "Train Epoch: 3 [6400/60000 (11%)]\tLoss Char: 0.000000 Loss Font: 1.546357\n",
      "Train Epoch: 3 [12800/60000 (21%)]\tLoss Char: 0.000000 Loss Font: 1.627643\n",
      "Train Epoch: 3 [19200/60000 (32%)]\tLoss Char: 0.000000 Loss Font: 1.570719\n",
      "Train Epoch: 3 [25600/60000 (43%)]\tLoss Char: 0.000000 Loss Font: 1.609860\n",
      "Train Epoch: 3 [32000/60000 (53%)]\tLoss Char: 0.000000 Loss Font: 1.611195\n",
      "Train Epoch: 3 [38400/60000 (64%)]\tLoss Char: 0.000000 Loss Font: 1.633492\n",
      "Train Epoch: 3 [44800/60000 (75%)]\tLoss Char: 0.000000 Loss Font: 1.543620\n",
      "Train Epoch: 3 [51200/60000 (85%)]\tLoss Char: 0.000000 Loss Font: 1.551203\n",
      "Train Epoch: 3 [57600/60000 (96%)]\tLoss Char: 0.000000 Loss Font: 1.567350\n",
      "\n",
      "Test set: Accuracy Char : 0/10000 (0.00%)\n",
      "          Accuracy Font : 2553/10000 (25.53%)\n",
      "Train Epoch: 4 [0/60000 (0%)]\tLoss Char: 0.000000 Loss Font: 1.609896\n",
      "Train Epoch: 4 [6400/60000 (11%)]\tLoss Char: 0.000000 Loss Font: 1.599163\n",
      "Train Epoch: 4 [12800/60000 (21%)]\tLoss Char: 0.000000 Loss Font: 1.543352\n",
      "Train Epoch: 4 [19200/60000 (32%)]\tLoss Char: 0.000000 Loss Font: 1.584212\n",
      "Train Epoch: 4 [25600/60000 (43%)]\tLoss Char: 0.000000 Loss Font: 1.544091\n",
      "Train Epoch: 4 [32000/60000 (53%)]\tLoss Char: 0.000000 Loss Font: 1.645373\n",
      "Train Epoch: 4 [38400/60000 (64%)]\tLoss Char: 0.000000 Loss Font: 1.571024\n",
      "Train Epoch: 4 [44800/60000 (75%)]\tLoss Char: 0.000000 Loss Font: 1.593065\n",
      "Train Epoch: 4 [51200/60000 (85%)]\tLoss Char: 0.000000 Loss Font: 1.622559\n",
      "Train Epoch: 4 [57600/60000 (96%)]\tLoss Char: 0.000000 Loss Font: 1.607946\n",
      "\n",
      "Test set: Accuracy Char : 0/10000 (0.00%)\n",
      "          Accuracy Font : 2576/10000 (25.76%)\n",
      "Train Epoch: 5 [0/60000 (0%)]\tLoss Char: 0.000000 Loss Font: 1.531393\n",
      "Train Epoch: 5 [6400/60000 (11%)]\tLoss Char: 0.000000 Loss Font: 1.546663\n",
      "Train Epoch: 5 [12800/60000 (21%)]\tLoss Char: 0.000000 Loss Font: 1.521937\n",
      "Train Epoch: 5 [19200/60000 (32%)]\tLoss Char: 0.000000 Loss Font: 1.616909\n",
      "Train Epoch: 5 [25600/60000 (43%)]\tLoss Char: 0.000000 Loss Font: 1.608058\n",
      "Train Epoch: 5 [32000/60000 (53%)]\tLoss Char: 0.000000 Loss Font: 1.550061\n",
      "Train Epoch: 5 [38400/60000 (64%)]\tLoss Char: 0.000000 Loss Font: 1.570547\n",
      "Train Epoch: 5 [44800/60000 (75%)]\tLoss Char: 0.000000 Loss Font: 1.608052\n",
      "Train Epoch: 5 [51200/60000 (85%)]\tLoss Char: 0.000000 Loss Font: 1.616230\n",
      "Train Epoch: 5 [57600/60000 (96%)]\tLoss Char: 0.000000 Loss Font: 1.529946\n",
      "\n",
      "Test set: Accuracy Char : 0/10000 (0.00%)\n",
      "          Accuracy Font : 2691/10000 (26.91%)\n",
      "Train Epoch: 6 [0/60000 (0%)]\tLoss Char: 0.000000 Loss Font: 1.579333\n",
      "Train Epoch: 6 [6400/60000 (11%)]\tLoss Char: 0.000000 Loss Font: 1.610747\n",
      "Train Epoch: 6 [12800/60000 (21%)]\tLoss Char: 0.000000 Loss Font: 1.596798\n",
      "Train Epoch: 6 [19200/60000 (32%)]\tLoss Char: 0.000000 Loss Font: 1.454703\n",
      "Train Epoch: 6 [25600/60000 (43%)]\tLoss Char: 0.000000 Loss Font: 1.553551\n",
      "Train Epoch: 6 [32000/60000 (53%)]\tLoss Char: 0.000000 Loss Font: 1.566311\n",
      "Train Epoch: 6 [38400/60000 (64%)]\tLoss Char: 0.000000 Loss Font: 1.591515\n",
      "Train Epoch: 6 [44800/60000 (75%)]\tLoss Char: 0.000000 Loss Font: 1.496846\n",
      "Train Epoch: 6 [51200/60000 (85%)]\tLoss Char: 0.000000 Loss Font: 1.542132\n",
      "Train Epoch: 6 [57600/60000 (96%)]\tLoss Char: 0.000000 Loss Font: 1.565157\n",
      "\n",
      "Test set: Accuracy Char : 0/10000 (0.00%)\n",
      "          Accuracy Font : 2574/10000 (25.74%)\n",
      "Train Epoch: 7 [0/60000 (0%)]\tLoss Char: 0.000000 Loss Font: 1.605275\n",
      "Train Epoch: 7 [6400/60000 (11%)]\tLoss Char: 0.000000 Loss Font: 1.605629\n",
      "Train Epoch: 7 [12800/60000 (21%)]\tLoss Char: 0.000000 Loss Font: 1.547379\n",
      "Train Epoch: 7 [19200/60000 (32%)]\tLoss Char: 0.000000 Loss Font: 1.552211\n",
      "Train Epoch: 7 [25600/60000 (43%)]\tLoss Char: 0.000000 Loss Font: 1.583635\n",
      "Train Epoch: 7 [32000/60000 (53%)]\tLoss Char: 0.000000 Loss Font: 1.496931\n",
      "Train Epoch: 7 [38400/60000 (64%)]\tLoss Char: 0.000000 Loss Font: 1.596224\n",
      "Train Epoch: 7 [44800/60000 (75%)]\tLoss Char: 0.000000 Loss Font: 1.593353\n",
      "Train Epoch: 7 [51200/60000 (85%)]\tLoss Char: 0.000000 Loss Font: 1.593982\n",
      "Train Epoch: 7 [57600/60000 (96%)]\tLoss Char: 0.000000 Loss Font: 1.562929\n",
      "\n",
      "Test set: Accuracy Char : 0/10000 (0.00%)\n",
      "          Accuracy Font : 2771/10000 (27.71%)\n",
      "Train Epoch: 8 [0/60000 (0%)]\tLoss Char: 0.000000 Loss Font: 1.628520\n",
      "Train Epoch: 8 [6400/60000 (11%)]\tLoss Char: 0.000000 Loss Font: 1.537203\n",
      "Train Epoch: 8 [12800/60000 (21%)]\tLoss Char: 0.000000 Loss Font: 1.549847\n",
      "Train Epoch: 8 [19200/60000 (32%)]\tLoss Char: 0.000000 Loss Font: 1.600624\n",
      "Train Epoch: 8 [25600/60000 (43%)]\tLoss Char: 0.000000 Loss Font: 1.560355\n",
      "Train Epoch: 8 [32000/60000 (53%)]\tLoss Char: 0.000000 Loss Font: 1.558959\n",
      "Train Epoch: 8 [38400/60000 (64%)]\tLoss Char: 0.000000 Loss Font: 1.628665\n",
      "Train Epoch: 8 [44800/60000 (75%)]\tLoss Char: 0.000000 Loss Font: 1.542355\n",
      "Train Epoch: 8 [51200/60000 (85%)]\tLoss Char: 0.000000 Loss Font: 1.539216\n",
      "Train Epoch: 8 [57600/60000 (96%)]\tLoss Char: 0.000000 Loss Font: 1.524890\n",
      "\n",
      "Test set: Accuracy Char : 0/10000 (0.00%)\n",
      "          Accuracy Font : 2820/10000 (28.20%)\n",
      "Train Epoch: 9 [0/60000 (0%)]\tLoss Char: 0.000000 Loss Font: 1.608081\n",
      "Train Epoch: 9 [6400/60000 (11%)]\tLoss Char: 0.000000 Loss Font: 1.582788\n",
      "Train Epoch: 9 [12800/60000 (21%)]\tLoss Char: 0.000000 Loss Font: 1.523861\n",
      "Train Epoch: 9 [19200/60000 (32%)]\tLoss Char: 0.000000 Loss Font: 1.581678\n",
      "Train Epoch: 9 [25600/60000 (43%)]\tLoss Char: 0.000000 Loss Font: 1.546132\n",
      "Train Epoch: 9 [32000/60000 (53%)]\tLoss Char: 0.000000 Loss Font: 1.532629\n",
      "Train Epoch: 9 [38400/60000 (64%)]\tLoss Char: 0.000000 Loss Font: 1.694926\n",
      "Train Epoch: 9 [44800/60000 (75%)]\tLoss Char: 0.000000 Loss Font: 1.570735\n",
      "Train Epoch: 9 [51200/60000 (85%)]\tLoss Char: 0.000000 Loss Font: 1.532235\n",
      "Train Epoch: 9 [57600/60000 (96%)]\tLoss Char: 0.000000 Loss Font: 1.586956\n",
      "\n",
      "Test set: Accuracy Char : 0/10000 (0.00%)\n",
      "          Accuracy Font : 2913/10000 (29.13%)\n",
      "Train Epoch: 10 [0/60000 (0%)]\tLoss Char: 0.000000 Loss Font: 1.526875\n",
      "Train Epoch: 10 [6400/60000 (11%)]\tLoss Char: 0.000000 Loss Font: 1.550395\n",
      "Train Epoch: 10 [12800/60000 (21%)]\tLoss Char: 0.000000 Loss Font: 1.577373\n",
      "Train Epoch: 10 [19200/60000 (32%)]\tLoss Char: 0.000000 Loss Font: 1.588580\n",
      "Train Epoch: 10 [25600/60000 (43%)]\tLoss Char: 0.000000 Loss Font: 1.513902\n"
     ]
    },
    {
     "name": "stdout",
     "output_type": "stream",
     "text": [
      "Train Epoch: 10 [32000/60000 (53%)]\tLoss Char: 0.000000 Loss Font: 1.510247\n",
      "Train Epoch: 10 [38400/60000 (64%)]\tLoss Char: 0.000000 Loss Font: 1.554902\n",
      "Train Epoch: 10 [44800/60000 (75%)]\tLoss Char: 0.000000 Loss Font: 1.514219\n",
      "Train Epoch: 10 [51200/60000 (85%)]\tLoss Char: 0.000000 Loss Font: 1.519567\n",
      "Train Epoch: 10 [57600/60000 (96%)]\tLoss Char: 0.000000 Loss Font: 1.611885\n",
      "\n",
      "Test set: Accuracy Char : 0/10000 (0.00%)\n",
      "          Accuracy Font : 2843/10000 (28.43%)\n",
      "Training set 60000 items\n",
      "Testing set  10000 items\n",
      "Train Epoch: 1 [0/60000 (0%)]\tLoss Char: 0.000000 Loss Font: 12.157612\n",
      "Train Epoch: 1 [6400/60000 (11%)]\tLoss Char: 0.000000 Loss Font: 1.734431\n",
      "Train Epoch: 1 [12800/60000 (21%)]\tLoss Char: 0.000000 Loss Font: 1.632718\n",
      "Train Epoch: 1 [19200/60000 (32%)]\tLoss Char: 0.000000 Loss Font: 1.668840\n",
      "Train Epoch: 1 [25600/60000 (43%)]\tLoss Char: 0.000000 Loss Font: 1.602250\n",
      "Train Epoch: 1 [32000/60000 (53%)]\tLoss Char: 0.000000 Loss Font: 1.574155\n",
      "Train Epoch: 1 [38400/60000 (64%)]\tLoss Char: 0.000000 Loss Font: 1.571677\n",
      "Train Epoch: 1 [44800/60000 (75%)]\tLoss Char: 0.000000 Loss Font: 1.564815\n",
      "Train Epoch: 1 [51200/60000 (85%)]\tLoss Char: 0.000000 Loss Font: 1.596604\n",
      "Train Epoch: 1 [57600/60000 (96%)]\tLoss Char: 0.000000 Loss Font: 1.614367\n",
      "\n",
      "Test set: Accuracy Char : 0/10000 (0.00%)\n",
      "          Accuracy Font : 2414/10000 (24.14%)\n",
      "Train Epoch: 2 [0/60000 (0%)]\tLoss Char: 0.000000 Loss Font: 1.623273\n",
      "Train Epoch: 2 [6400/60000 (11%)]\tLoss Char: 0.000000 Loss Font: 1.537701\n",
      "Train Epoch: 2 [12800/60000 (21%)]\tLoss Char: 0.000000 Loss Font: 1.603323\n",
      "Train Epoch: 2 [19200/60000 (32%)]\tLoss Char: 0.000000 Loss Font: 1.639210\n",
      "Train Epoch: 2 [25600/60000 (43%)]\tLoss Char: 0.000000 Loss Font: 1.575626\n",
      "Train Epoch: 2 [32000/60000 (53%)]\tLoss Char: 0.000000 Loss Font: 1.571010\n",
      "Train Epoch: 2 [38400/60000 (64%)]\tLoss Char: 0.000000 Loss Font: 1.619309\n",
      "Train Epoch: 2 [44800/60000 (75%)]\tLoss Char: 0.000000 Loss Font: 1.633442\n",
      "Train Epoch: 2 [51200/60000 (85%)]\tLoss Char: 0.000000 Loss Font: 1.659258\n",
      "Train Epoch: 2 [57600/60000 (96%)]\tLoss Char: 0.000000 Loss Font: 1.609913\n",
      "\n",
      "Test set: Accuracy Char : 0/10000 (0.00%)\n",
      "          Accuracy Font : 2514/10000 (25.14%)\n",
      "Train Epoch: 3 [0/60000 (0%)]\tLoss Char: 0.000000 Loss Font: 1.596083\n",
      "Train Epoch: 3 [6400/60000 (11%)]\tLoss Char: 0.000000 Loss Font: 1.544526\n",
      "Train Epoch: 3 [12800/60000 (21%)]\tLoss Char: 0.000000 Loss Font: 1.578499\n",
      "Train Epoch: 3 [19200/60000 (32%)]\tLoss Char: 0.000000 Loss Font: 1.557104\n",
      "Train Epoch: 3 [25600/60000 (43%)]\tLoss Char: 0.000000 Loss Font: 1.597835\n",
      "Train Epoch: 3 [32000/60000 (53%)]\tLoss Char: 0.000000 Loss Font: 1.588520\n",
      "Train Epoch: 3 [38400/60000 (64%)]\tLoss Char: 0.000000 Loss Font: 1.600041\n",
      "Train Epoch: 3 [44800/60000 (75%)]\tLoss Char: 0.000000 Loss Font: 1.576908\n",
      "Train Epoch: 3 [51200/60000 (85%)]\tLoss Char: 0.000000 Loss Font: 1.574253\n",
      "Train Epoch: 3 [57600/60000 (96%)]\tLoss Char: 0.000000 Loss Font: 1.582884\n",
      "\n",
      "Test set: Accuracy Char : 0/10000 (0.00%)\n",
      "          Accuracy Font : 2524/10000 (25.24%)\n",
      "Train Epoch: 4 [0/60000 (0%)]\tLoss Char: 0.000000 Loss Font: 1.611316\n",
      "Train Epoch: 4 [6400/60000 (11%)]\tLoss Char: 0.000000 Loss Font: 1.603034\n",
      "Train Epoch: 4 [12800/60000 (21%)]\tLoss Char: 0.000000 Loss Font: 1.531151\n",
      "Train Epoch: 4 [19200/60000 (32%)]\tLoss Char: 0.000000 Loss Font: 1.587628\n",
      "Train Epoch: 4 [25600/60000 (43%)]\tLoss Char: 0.000000 Loss Font: 1.504790\n",
      "Train Epoch: 4 [32000/60000 (53%)]\tLoss Char: 0.000000 Loss Font: 1.659124\n",
      "Train Epoch: 4 [38400/60000 (64%)]\tLoss Char: 0.000000 Loss Font: 1.583569\n",
      "Train Epoch: 4 [44800/60000 (75%)]\tLoss Char: 0.000000 Loss Font: 1.629107\n",
      "Train Epoch: 4 [51200/60000 (85%)]\tLoss Char: 0.000000 Loss Font: 1.584954\n",
      "Train Epoch: 4 [57600/60000 (96%)]\tLoss Char: 0.000000 Loss Font: 1.599848\n",
      "\n",
      "Test set: Accuracy Char : 0/10000 (0.00%)\n",
      "          Accuracy Font : 2576/10000 (25.76%)\n",
      "Train Epoch: 5 [0/60000 (0%)]\tLoss Char: 0.000000 Loss Font: 1.547359\n",
      "Train Epoch: 5 [6400/60000 (11%)]\tLoss Char: 0.000000 Loss Font: 1.587061\n",
      "Train Epoch: 5 [12800/60000 (21%)]\tLoss Char: 0.000000 Loss Font: 1.535544\n",
      "Train Epoch: 5 [19200/60000 (32%)]\tLoss Char: 0.000000 Loss Font: 1.609682\n",
      "Train Epoch: 5 [25600/60000 (43%)]\tLoss Char: 0.000000 Loss Font: 1.582257\n",
      "Train Epoch: 5 [32000/60000 (53%)]\tLoss Char: 0.000000 Loss Font: 1.578032\n",
      "Train Epoch: 5 [38400/60000 (64%)]\tLoss Char: 0.000000 Loss Font: 1.564640\n",
      "Train Epoch: 5 [44800/60000 (75%)]\tLoss Char: 0.000000 Loss Font: 1.602604\n",
      "Train Epoch: 5 [51200/60000 (85%)]\tLoss Char: 0.000000 Loss Font: 1.634696\n",
      "Train Epoch: 5 [57600/60000 (96%)]\tLoss Char: 0.000000 Loss Font: 1.553918\n",
      "\n",
      "Test set: Accuracy Char : 0/10000 (0.00%)\n",
      "          Accuracy Font : 2594/10000 (25.94%)\n",
      "Train Epoch: 6 [0/60000 (0%)]\tLoss Char: 0.000000 Loss Font: 1.563008\n",
      "Train Epoch: 6 [6400/60000 (11%)]\tLoss Char: 0.000000 Loss Font: 1.631989\n",
      "Train Epoch: 6 [12800/60000 (21%)]\tLoss Char: 0.000000 Loss Font: 1.591804\n",
      "Train Epoch: 6 [19200/60000 (32%)]\tLoss Char: 0.000000 Loss Font: 1.506861\n",
      "Train Epoch: 6 [25600/60000 (43%)]\tLoss Char: 0.000000 Loss Font: 1.542412\n",
      "Train Epoch: 6 [32000/60000 (53%)]\tLoss Char: 0.000000 Loss Font: 1.589757\n",
      "Train Epoch: 6 [38400/60000 (64%)]\tLoss Char: 0.000000 Loss Font: 1.589397\n",
      "Train Epoch: 6 [44800/60000 (75%)]\tLoss Char: 0.000000 Loss Font: 1.519219\n",
      "Train Epoch: 6 [51200/60000 (85%)]\tLoss Char: 0.000000 Loss Font: 1.584872\n",
      "Train Epoch: 6 [57600/60000 (96%)]\tLoss Char: 0.000000 Loss Font: 1.575235\n",
      "\n",
      "Test set: Accuracy Char : 0/10000 (0.00%)\n",
      "          Accuracy Font : 2527/10000 (25.27%)\n",
      "Train Epoch: 7 [0/60000 (0%)]\tLoss Char: 0.000000 Loss Font: 1.557342\n",
      "Train Epoch: 7 [6400/60000 (11%)]\tLoss Char: 0.000000 Loss Font: 1.549682\n",
      "Train Epoch: 7 [12800/60000 (21%)]\tLoss Char: 0.000000 Loss Font: 1.561510\n",
      "Train Epoch: 7 [19200/60000 (32%)]\tLoss Char: 0.000000 Loss Font: 1.540513\n",
      "Train Epoch: 7 [25600/60000 (43%)]\tLoss Char: 0.000000 Loss Font: 1.592457\n",
      "Train Epoch: 7 [32000/60000 (53%)]\tLoss Char: 0.000000 Loss Font: 1.566481\n",
      "Train Epoch: 7 [38400/60000 (64%)]\tLoss Char: 0.000000 Loss Font: 1.618109\n",
      "Train Epoch: 7 [44800/60000 (75%)]\tLoss Char: 0.000000 Loss Font: 1.563577\n",
      "Train Epoch: 7 [51200/60000 (85%)]\tLoss Char: 0.000000 Loss Font: 1.600618\n",
      "Train Epoch: 7 [57600/60000 (96%)]\tLoss Char: 0.000000 Loss Font: 1.559868\n",
      "\n",
      "Test set: Accuracy Char : 0/10000 (0.00%)\n",
      "          Accuracy Font : 2691/10000 (26.91%)\n",
      "Train Epoch: 8 [0/60000 (0%)]\tLoss Char: 0.000000 Loss Font: 1.630752\n",
      "Train Epoch: 8 [6400/60000 (11%)]\tLoss Char: 0.000000 Loss Font: 1.593839\n",
      "Train Epoch: 8 [12800/60000 (21%)]\tLoss Char: 0.000000 Loss Font: 1.559124\n",
      "Train Epoch: 8 [19200/60000 (32%)]\tLoss Char: 0.000000 Loss Font: 1.612678\n",
      "Train Epoch: 8 [25600/60000 (43%)]\tLoss Char: 0.000000 Loss Font: 1.575033\n",
      "Train Epoch: 8 [32000/60000 (53%)]\tLoss Char: 0.000000 Loss Font: 1.581735\n",
      "Train Epoch: 8 [38400/60000 (64%)]\tLoss Char: 0.000000 Loss Font: 1.614722\n",
      "Train Epoch: 8 [44800/60000 (75%)]\tLoss Char: 0.000000 Loss Font: 1.595125\n",
      "Train Epoch: 8 [51200/60000 (85%)]\tLoss Char: 0.000000 Loss Font: 1.544796\n",
      "Train Epoch: 8 [57600/60000 (96%)]\tLoss Char: 0.000000 Loss Font: 1.524048\n",
      "\n",
      "Test set: Accuracy Char : 0/10000 (0.00%)\n",
      "          Accuracy Font : 2572/10000 (25.72%)\n",
      "Train Epoch: 9 [0/60000 (0%)]\tLoss Char: 0.000000 Loss Font: 1.621507\n",
      "Train Epoch: 9 [6400/60000 (11%)]\tLoss Char: 0.000000 Loss Font: 1.594956\n",
      "Train Epoch: 9 [12800/60000 (21%)]\tLoss Char: 0.000000 Loss Font: 1.496274\n",
      "Train Epoch: 9 [19200/60000 (32%)]\tLoss Char: 0.000000 Loss Font: 1.587800\n",
      "Train Epoch: 9 [25600/60000 (43%)]\tLoss Char: 0.000000 Loss Font: 1.564708\n",
      "Train Epoch: 9 [32000/60000 (53%)]\tLoss Char: 0.000000 Loss Font: 1.562311\n",
      "Train Epoch: 9 [38400/60000 (64%)]\tLoss Char: 0.000000 Loss Font: 1.666289\n",
      "Train Epoch: 9 [44800/60000 (75%)]\tLoss Char: 0.000000 Loss Font: 1.579135\n",
      "Train Epoch: 9 [51200/60000 (85%)]\tLoss Char: 0.000000 Loss Font: 1.571988\n",
      "Train Epoch: 9 [57600/60000 (96%)]\tLoss Char: 0.000000 Loss Font: 1.598370\n",
      "\n",
      "Test set: Accuracy Char : 0/10000 (0.00%)\n",
      "          Accuracy Font : 2744/10000 (27.44%)\n",
      "Train Epoch: 10 [0/60000 (0%)]\tLoss Char: 0.000000 Loss Font: 1.548750\n",
      "Train Epoch: 10 [6400/60000 (11%)]\tLoss Char: 0.000000 Loss Font: 1.551017\n",
      "Train Epoch: 10 [12800/60000 (21%)]\tLoss Char: 0.000000 Loss Font: 1.584855\n"
     ]
    },
    {
     "name": "stdout",
     "output_type": "stream",
     "text": [
      "Train Epoch: 10 [19200/60000 (32%)]\tLoss Char: 0.000000 Loss Font: 1.563898\n",
      "Train Epoch: 10 [25600/60000 (43%)]\tLoss Char: 0.000000 Loss Font: 1.544111\n",
      "Train Epoch: 10 [32000/60000 (53%)]\tLoss Char: 0.000000 Loss Font: 1.569924\n",
      "Train Epoch: 10 [38400/60000 (64%)]\tLoss Char: 0.000000 Loss Font: 1.593858\n",
      "Train Epoch: 10 [44800/60000 (75%)]\tLoss Char: 0.000000 Loss Font: 1.512397\n",
      "Train Epoch: 10 [51200/60000 (85%)]\tLoss Char: 0.000000 Loss Font: 1.547071\n",
      "Train Epoch: 10 [57600/60000 (96%)]\tLoss Char: 0.000000 Loss Font: 1.627336\n",
      "\n",
      "Test set: Accuracy Char : 0/10000 (0.00%)\n",
      "          Accuracy Font : 2743/10000 (27.43%)\n"
     ]
    },
    {
     "data": {
      "image/png": "[encoded data removed]",
      "text/plain": [
       "<Figure size 720x288 with 1 Axes>"
      ]
     },
     "metadata": {
      "needs_background": "light"
     },
     "output_type": "display_data"
    }
   ],
   "source": [
    "architectures = [[64, 32, 16, 8], [32, 16, 8], [24, 12], [64], [32], [16]]\n",
    "\n",
    "for architecture in architectures:\n",
    "    model = FFNet(architecture, quadratic_model)\n",
    "    _, test_perfs_font = evaluate_resistance(model)\n",
    "    \n",
    "    architecture = ':'.join(map(str, [8] + architecture + [N_FONTS]))\n",
    "    resistance_reports[f\"Collateral task with net {architecture}\"] = test_perfs_font\n",
    "    \n",
    "show_results(resistance_reports, title=\"Resistance of FFNs with CNN protection\")\n"
   ]
  },
  {
   "cell_type": "markdown",
   "metadata": {},
   "source": [
    "## 3.2 CNN models"
   ]
  },
  {
   "cell_type": "code",
   "execution_count": 17,
   "metadata": {},
   "outputs": [],
   "source": [
    "class CNNet2(BaseNet):\n",
    "    def __init__(self, nn_modules, quadratic_model):\n",
    "        super(CNNet2, self).__init__(quadratic_model)\n",
    "\n",
    "        self.jc = nn.Linear(8, 784)\n",
    "            \n",
    "        self.cv1 = nn.Conv2d(1, 20, 5, 1)\n",
    "        self.cv2 = nn.Conv2d(20, 50, 5, 1)\n",
    "        self.ln1 = nn.Linear(4*4*50, 500)\n",
    "        self.ln2 = nn.Linear(500, N_FONTS)\n",
    "    \n",
    "    def conv_font(self, x):\n",
    "        \n",
    "        x = self.jc(x)\n",
    "        x = x.view(-1, 1, 28, 28)\n",
    "        \n",
    "        # --- CNN\n",
    "        x = F.relu(self.cv1(x))\n",
    "        x = F.max_pool2d(x, 2, 2)\n",
    "        x = F.relu(self.cv2(x))\n",
    "        x = F.max_pool2d(x, 2, 2)\n",
    "        x = x.view(-1, 4*4*50)\n",
    "        x = F.relu(self.ln1(x))\n",
    "        x = self.ln2(x)\n",
    "        return x\n",
    "         "
   ]
  },
  {
   "cell_type": "code",
   "execution_count": 22,
   "metadata": {},
   "outputs": [],
   "source": [
    "class CNNet(BaseNet):\n",
    "    def __init__(self, nn_modules, quadratic_model):\n",
    "        super(CNNet, self).__init__(quadratic_model)\n",
    "        # --- CNNs for font families\n",
    "        self.nn_modules = nn_modules\n",
    "        setattr(self, \"net_0\", nn.Linear(8, 784))\n",
    "        for i_layer, nn_module in enumerate(nn_modules):\n",
    "            setattr(self, f\"net_{i_layer + 1}\", nn_module)\n",
    "    \n",
    "    def conv_font(self, x):\n",
    "        switched_from_conv_lin = False\n",
    "        out_channels = []\n",
    "        # Make the junction\n",
    "        linear = getattr(self, \"net_0\")  \n",
    "        x = linear(x)\n",
    "        x = x.view(-1, 1, 28, 28)\n",
    "        # --- CNN\n",
    "        for i_layer, _ in enumerate(self.nn_modules):\n",
    "            layer = getattr(self, f\"net_{i_layer + 1}\")\n",
    "            if isinstance(layer, nn.Conv2d): # Conv layer\n",
    "                x = F.relu(layer(x))\n",
    "                x = F.max_pool2d(x, 2, 2)\n",
    "                out_channels.append(layer.out_channels)\n",
    "            else: # Linear layer\n",
    "                if not switched_from_conv_lin:\n",
    "                    x = x.view(-1, 4*4*out_channels[-1])\n",
    "                    switched_from_conv_lin = True\n",
    "                if i_layer < len(self.nn_modules) - 1:\n",
    "                    x = F.relu(layer(x))\n",
    "                else:\n",
    "                    x = layer(x)\n",
    "        return x\n",
    "         "
   ]
  },
  {
   "cell_type": "code",
   "execution_count": 23,
   "metadata": {
    "scrolled": true
   },
   "outputs": [
    {
     "name": "stdout",
     "output_type": "stream",
     "text": [
      "Training set 60000 items\n",
      "Testing set  10000 items\n",
      "Train Epoch: 1 [0/60000 (0%)]\tLoss Char: 0.000000 Loss Font: 2.120065\n",
      "Train Epoch: 1 [6400/60000 (11%)]\tLoss Char: 0.000000 Loss Font: 1.585263\n",
      "Train Epoch: 1 [12800/60000 (21%)]\tLoss Char: 0.000000 Loss Font: 1.595706\n",
      "Train Epoch: 1 [19200/60000 (32%)]\tLoss Char: 0.000000 Loss Font: 1.617869\n",
      "Train Epoch: 1 [25600/60000 (43%)]\tLoss Char: 0.000000 Loss Font: 1.571451\n",
      "Train Epoch: 1 [32000/60000 (53%)]\tLoss Char: 0.000000 Loss Font: 1.591128\n",
      "Train Epoch: 1 [38400/60000 (64%)]\tLoss Char: 0.000000 Loss Font: 1.578578\n",
      "Train Epoch: 1 [44800/60000 (75%)]\tLoss Char: 0.000000 Loss Font: 1.572873\n",
      "Train Epoch: 1 [51200/60000 (85%)]\tLoss Char: 0.000000 Loss Font: 1.561263\n",
      "Train Epoch: 1 [57600/60000 (96%)]\tLoss Char: 0.000000 Loss Font: 1.570320\n",
      "\n",
      "Test set: Accuracy Char : 0/10000 (0.00%)\n",
      "          Accuracy Font : 2769/10000 (27.69%)\n",
      "Train Epoch: 2 [0/60000 (0%)]\tLoss Char: 0.000000 Loss Font: 1.583106\n",
      "Train Epoch: 2 [6400/60000 (11%)]\tLoss Char: 0.000000 Loss Font: 1.564180\n",
      "Train Epoch: 2 [12800/60000 (21%)]\tLoss Char: 0.000000 Loss Font: 1.582932\n",
      "Train Epoch: 2 [19200/60000 (32%)]\tLoss Char: 0.000000 Loss Font: 1.608787\n",
      "Train Epoch: 2 [25600/60000 (43%)]\tLoss Char: 0.000000 Loss Font: 1.578125\n",
      "Train Epoch: 2 [32000/60000 (53%)]\tLoss Char: 0.000000 Loss Font: 1.587012\n",
      "Train Epoch: 2 [38400/60000 (64%)]\tLoss Char: 0.000000 Loss Font: 1.569417\n",
      "Train Epoch: 2 [44800/60000 (75%)]\tLoss Char: 0.000000 Loss Font: 1.592146\n",
      "Train Epoch: 2 [51200/60000 (85%)]\tLoss Char: 0.000000 Loss Font: 1.641212\n",
      "Train Epoch: 2 [57600/60000 (96%)]\tLoss Char: 0.000000 Loss Font: 1.576402\n",
      "\n",
      "Test set: Accuracy Char : 0/10000 (0.00%)\n",
      "          Accuracy Font : 2936/10000 (29.36%)\n",
      "Train Epoch: 3 [0/60000 (0%)]\tLoss Char: 0.000000 Loss Font: 1.528427\n",
      "Train Epoch: 3 [6400/60000 (11%)]\tLoss Char: 0.000000 Loss Font: 1.484684\n",
      "Train Epoch: 3 [12800/60000 (21%)]\tLoss Char: 0.000000 Loss Font: 1.593252\n",
      "Train Epoch: 3 [19200/60000 (32%)]\tLoss Char: 0.000000 Loss Font: 1.520518\n",
      "Train Epoch: 3 [25600/60000 (43%)]\tLoss Char: 0.000000 Loss Font: 1.547279\n",
      "Train Epoch: 3 [32000/60000 (53%)]\tLoss Char: 0.000000 Loss Font: 1.586496\n",
      "Train Epoch: 3 [38400/60000 (64%)]\tLoss Char: 0.000000 Loss Font: 1.583788\n",
      "Train Epoch: 3 [44800/60000 (75%)]\tLoss Char: 0.000000 Loss Font: 1.484812\n",
      "Train Epoch: 3 [51200/60000 (85%)]\tLoss Char: 0.000000 Loss Font: 1.486098\n",
      "Train Epoch: 3 [57600/60000 (96%)]\tLoss Char: 0.000000 Loss Font: 1.533408\n",
      "\n",
      "Test set: Accuracy Char : 0/10000 (0.00%)\n",
      "          Accuracy Font : 3268/10000 (32.68%)\n",
      "Training set 60000 items\n",
      "Testing set  10000 items\n",
      "Train Epoch: 1 [0/60000 (0%)]\tLoss Char: 0.000000 Loss Font: 1.713037\n",
      "Train Epoch: 1 [6400/60000 (11%)]\tLoss Char: 0.000000 Loss Font: 1.690314\n",
      "Train Epoch: 1 [12800/60000 (21%)]\tLoss Char: 0.000000 Loss Font: 1.603310\n",
      "Train Epoch: 1 [19200/60000 (32%)]\tLoss Char: 0.000000 Loss Font: 1.606745\n",
      "Train Epoch: 1 [25600/60000 (43%)]\tLoss Char: 0.000000 Loss Font: 1.568570\n",
      "Train Epoch: 1 [32000/60000 (53%)]\tLoss Char: 0.000000 Loss Font: 1.592874\n",
      "Train Epoch: 1 [38400/60000 (64%)]\tLoss Char: 0.000000 Loss Font: 1.572562\n",
      "Train Epoch: 1 [44800/60000 (75%)]\tLoss Char: 0.000000 Loss Font: 1.551076\n",
      "Train Epoch: 1 [51200/60000 (85%)]\tLoss Char: 0.000000 Loss Font: 1.571640\n",
      "Train Epoch: 1 [57600/60000 (96%)]\tLoss Char: 0.000000 Loss Font: 1.557046\n",
      "\n",
      "Test set: Accuracy Char : 0/10000 (0.00%)\n",
      "          Accuracy Font : 2892/10000 (28.92%)\n",
      "Train Epoch: 2 [0/60000 (0%)]\tLoss Char: 0.000000 Loss Font: 1.580187\n",
      "Train Epoch: 2 [6400/60000 (11%)]\tLoss Char: 0.000000 Loss Font: 1.571134\n",
      "Train Epoch: 2 [12800/60000 (21%)]\tLoss Char: 0.000000 Loss Font: 1.575861\n",
      "Train Epoch: 2 [19200/60000 (32%)]\tLoss Char: 0.000000 Loss Font: 1.590708\n",
      "Train Epoch: 2 [25600/60000 (43%)]\tLoss Char: 0.000000 Loss Font: 1.575818\n",
      "Train Epoch: 2 [32000/60000 (53%)]\tLoss Char: 0.000000 Loss Font: 1.580953\n",
      "Train Epoch: 2 [38400/60000 (64%)]\tLoss Char: 0.000000 Loss Font: 1.563702\n",
      "Train Epoch: 2 [44800/60000 (75%)]\tLoss Char: 0.000000 Loss Font: 1.609078\n",
      "Train Epoch: 2 [51200/60000 (85%)]\tLoss Char: 0.000000 Loss Font: 1.631232\n",
      "Train Epoch: 2 [57600/60000 (96%)]\tLoss Char: 0.000000 Loss Font: 1.575984\n",
      "\n",
      "Test set: Accuracy Char : 0/10000 (0.00%)\n",
      "          Accuracy Font : 3056/10000 (30.56%)\n",
      "Train Epoch: 3 [0/60000 (0%)]\tLoss Char: 0.000000 Loss Font: 1.510748\n",
      "Train Epoch: 3 [6400/60000 (11%)]\tLoss Char: 0.000000 Loss Font: 1.492220\n",
      "Train Epoch: 3 [12800/60000 (21%)]\tLoss Char: 0.000000 Loss Font: 1.563501\n",
      "Train Epoch: 3 [19200/60000 (32%)]\tLoss Char: 0.000000 Loss Font: 1.513450\n",
      "Train Epoch: 3 [25600/60000 (43%)]\tLoss Char: 0.000000 Loss Font: 1.535384\n",
      "Train Epoch: 3 [32000/60000 (53%)]\tLoss Char: 0.000000 Loss Font: 1.577170\n",
      "Train Epoch: 3 [38400/60000 (64%)]\tLoss Char: 0.000000 Loss Font: 1.591745\n",
      "Train Epoch: 3 [44800/60000 (75%)]\tLoss Char: 0.000000 Loss Font: 1.480693\n",
      "Train Epoch: 3 [51200/60000 (85%)]\tLoss Char: 0.000000 Loss Font: 1.485583\n",
      "Train Epoch: 3 [57600/60000 (96%)]\tLoss Char: 0.000000 Loss Font: 1.506190\n",
      "\n",
      "Test set: Accuracy Char : 0/10000 (0.00%)\n",
      "          Accuracy Font : 3316/10000 (33.16%)\n"
     ]
    },
    {
     "data": {
      "image/png": "[encoded data removed]",
      "text/plain": [
       "<Figure size 720x288 with 1 Axes>"
      ]
     },
     "metadata": {
      "needs_background": "light"
     },
     "output_type": "display_data"
    }
   ],
   "source": [
    "architectures = [\n",
    "    (\n",
    "        nn.Conv2d(1, 20, 5, 1),\n",
    "        nn.Conv2d(20, 50, 5, 1),\n",
    "        nn.Linear(4*4*50, 500),\n",
    "        nn.Linear(500, N_FONTS)\n",
    "    ),\n",
    "    (\n",
    "        nn.Conv2d(1, 30, 4, 1),\n",
    "        nn.Conv2d(30, 100, 4),\n",
    "        nn.Linear(100 * 4 * 4, 1000),\n",
    "        nn.Linear(1000, 100),\n",
    "        nn.Linear(100, N_FONTS)\n",
    "    )\n",
    "]\n",
    "for i, architecture in enumerate(architectures):\n",
    "    model = CNNet(architecture, quadratic_model)\n",
    "    _, test_perfs_font = evaluate_resistance(model)\n",
    "    \n",
    "    resistance_reports[f\"Collateral task with CNN {i}\"] = test_perfs_font\n",
    "    \n",
    "show_results(resistance_reports, title=\"Resistance of CNNs with CNN protection\")"
   ]
  },
  {
   "cell_type": "markdown",
   "metadata": {},
   "source": [
    "## 3.3 Non-DL models"
   ]
  },
  {
   "cell_type": "markdown",
   "metadata": {},
   "source": [
    "### Data preparation"
   ]
  },
  {
   "cell_type": "code",
   "execution_count": 18,
   "metadata": {},
   "outputs": [],
   "source": [
    "transform = BaseNet(quadratic_model)"
   ]
  },
  {
   "cell_type": "code",
   "execution_count": 19,
   "metadata": {},
   "outputs": [],
   "source": [
    "def get_input_onehot_labels(dataset, label=\"font\", one_hot=True):\n",
    "    data_input = dataset.tensors[0]\n",
    "    label_idx = {'char': 0, 'font': 1}[label]\n",
    "    label_size = {'char': 26, 'font': 5}[label]\n",
    "    labels = dataset.tensors[1][:, label_idx].view(-1, 1)\n",
    "    \n",
    "    data_label_onehot = torch.zeros(len(labels), label_size)\n",
    "    data_label_onehot.scatter_(1, labels, 1)\n",
    "    \n",
    "    return data_input, labels, data_label_onehot\n",
    "    "
   ]
  },
  {
   "cell_type": "markdown",
   "metadata": {},
   "source": [
    "Get dataset and transform in one hot vector"
   ]
  },
  {
   "cell_type": "code",
   "execution_count": 20,
   "metadata": {},
   "outputs": [
    {
     "name": "stdout",
     "output_type": "stream",
     "text": [
      "Training set 60000 items\n",
      "Testing set  10000 items\n"
     ]
    }
   ],
   "source": [
    "train_dataset, test_dataset = get_datasets()\n",
    "train_input, train_label, train_label_one_hot = get_input_onehot_labels(train_dataset, label=\"font\")\n",
    "test_input, test_label, test_label_one_hot = get_input_onehot_labels(test_dataset, label=\"font\")"
   ]
  },
  {
   "cell_type": "markdown",
   "metadata": {},
   "source": [
    "Apply the quadratic model transformation"
   ]
  },
  {
   "cell_type": "code",
   "execution_count": 21,
   "metadata": {},
   "outputs": [],
   "source": [
    "train_input = transform.quad(train_input).detach().numpy()\n",
    "test_input = transform.quad(test_input).detach().numpy()"
   ]
  },
  {
   "cell_type": "code",
   "execution_count": 22,
   "metadata": {},
   "outputs": [
    {
     "data": {
      "text/plain": [
       "((60000, 8), torch.Size([60000, 1]))"
      ]
     },
     "execution_count": 22,
     "metadata": {},
     "output_type": "execute_result"
    }
   ],
   "source": [
    "train_input.shape, train_label.shape"
   ]
  },
  {
   "cell_type": "code",
   "execution_count": 23,
   "metadata": {},
   "outputs": [],
   "source": [
    "ALL = train_input.shape[0]\n",
    "CPOWER = 'LOW'"
   ]
  },
  {
   "cell_type": "code",
   "execution_count": 24,
   "metadata": {},
   "outputs": [],
   "source": [
    "from sklearn import linear_model\n",
    "from sklearn import kernel_ridge\n",
    "from sklearn import svm"
   ]
  },
  {
   "cell_type": "code",
   "execution_count": 25,
   "metadata": {},
   "outputs": [],
   "source": [
    "def evaluate_sklearn(reg, one_hot=True, limit=int(10e10)):\n",
    "    train_labels = {True: train_label_one_hot, False: train_label}[one_hot]\n",
    "    reg.fit(train_input[:limit], train_labels[:limit].detach().numpy()) \n",
    "    output = reg.predict(test_input)\n",
    "    if one_hot:\n",
    "        pred = torch.tensor(output).argmax(1, keepdim=True)\n",
    "    else:\n",
    "        if isinstance(output, list):\n",
    "            pred = torch.tensor(list(map(round, output))).long().view(-1, 1)\n",
    "        else:\n",
    "            pred = torch.tensor(np.round(output)).long().view(-1, 1)\n",
    "    y = test_label.view_as(pred)\n",
    "    acc = pred.eq(y).sum().item() / len(pred)\n",
    "    return acc"
   ]
  },
  {
   "cell_type": "markdown",
   "metadata": {},
   "source": [
    "### Linear models"
   ]
  },
  {
   "cell_type": "code",
   "execution_count": 85,
   "metadata": {},
   "outputs": [
    {
     "name": "stdout",
     "output_type": "stream",
     "text": [
      "0.2639\n"
     ]
    }
   ],
   "source": [
    "reg = linear_model.Ridge(alpha=.9)\n",
    "acc = evaluate_sklearn(reg)\n",
    "print(acc)\n",
    "resistance_reports['linear model Ridge'] = acc * 100"
   ]
  },
  {
   "cell_type": "code",
   "execution_count": 86,
   "metadata": {},
   "outputs": [
    {
     "name": "stdout",
     "output_type": "stream",
     "text": [
      "0.2639\n"
     ]
    }
   ],
   "source": [
    "reg = linear_model.RidgeCV(alphas=[0.01, 0.1, 1.0, 10.0, 100], cv=5)\n",
    "acc = evaluate_sklearn(reg)\n",
    "print(acc)"
   ]
  },
  {
   "cell_type": "code",
   "execution_count": 31,
   "metadata": {},
   "outputs": [
    {
     "name": "stdout",
     "output_type": "stream",
     "text": [
      "0.3082\n"
     ]
    }
   ],
   "source": [
    "reg = linear_model.Lasso(alpha=0.1)\n",
    "acc = evaluate_sklearn(reg)\n",
    "print(acc)\n",
    "resistance_reports['linear model Lasso'] = acc * 100"
   ]
  },
  {
   "cell_type": "code",
   "execution_count": 32,
   "metadata": {},
   "outputs": [
    {
     "name": "stdout",
     "output_type": "stream",
     "text": [
      "0.1975\n"
     ]
    }
   ],
   "source": [
    "reg = linear_model.LassoLars(alpha=0.1)\n",
    "acc = evaluate_sklearn(reg)\n",
    "print(acc)"
   ]
  },
  {
   "cell_type": "code",
   "execution_count": 33,
   "metadata": {},
   "outputs": [
    {
     "name": "stdout",
     "output_type": "stream",
     "text": [
      "0.1938\n"
     ]
    },
    {
     "name": "stderr",
     "output_type": "stream",
     "text": [
      "/Users/tryffel/code/env/pysyft/lib/python3.7/site-packages/sklearn/utils/validation.py:761: DataConversionWarning: A column-vector y was passed when a 1d array was expected. Please change the shape of y to (n_samples, ), for example using ravel().\n",
      "  y = column_or_1d(y, warn=True)\n"
     ]
    }
   ],
   "source": [
    "reg = linear_model.BayesianRidge()\n",
    "acc = evaluate_sklearn(reg, one_hot=False)\n",
    "print(acc)"
   ]
  },
  {
   "cell_type": "code",
   "execution_count": 34,
   "metadata": {},
   "outputs": [
    {
     "name": "stderr",
     "output_type": "stream",
     "text": [
      "/Users/tryffel/code/env/pysyft/lib/python3.7/site-packages/sklearn/utils/validation.py:761: DataConversionWarning: A column-vector y was passed when a 1d array was expected. Please change the shape of y to (n_samples, ), for example using ravel().\n",
      "  y = column_or_1d(y, warn=True)\n"
     ]
    },
    {
     "name": "stdout",
     "output_type": "stream",
     "text": [
      "0.3208\n"
     ]
    }
   ],
   "source": [
    "reg = linear_model.LogisticRegression(random_state=0, solver='lbfgs',\n",
    "                         multi_class='multinomial', max_iter=1000)\n",
    "acc = evaluate_sklearn(reg, one_hot=False)\n",
    "print(acc)\n",
    "resistance_reports['logistic regression'] = acc * 100"
   ]
  },
  {
   "cell_type": "code",
   "execution_count": 35,
   "metadata": {},
   "outputs": [
    {
     "name": "stderr",
     "output_type": "stream",
     "text": [
      "/Users/tryffel/code/env/pysyft/lib/python3.7/site-packages/sklearn/utils/validation.py:761: DataConversionWarning: A column-vector y was passed when a 1d array was expected. Please change the shape of y to (n_samples, ), for example using ravel().\n",
      "  y = column_or_1d(y, warn=True)\n",
      "/Users/tryffel/code/env/pysyft/lib/python3.7/site-packages/sklearn/linear_model/logistic.py:758: ConvergenceWarning: lbfgs failed to converge. Increase the number of iterations.\n",
      "  \"of iterations.\", ConvergenceWarning)\n",
      "/Users/tryffel/code/env/pysyft/lib/python3.7/site-packages/sklearn/linear_model/logistic.py:758: ConvergenceWarning: lbfgs failed to converge. Increase the number of iterations.\n",
      "  \"of iterations.\", ConvergenceWarning)\n",
      "/Users/tryffel/code/env/pysyft/lib/python3.7/site-packages/sklearn/linear_model/logistic.py:758: ConvergenceWarning: lbfgs failed to converge. Increase the number of iterations.\n",
      "  \"of iterations.\", ConvergenceWarning)\n",
      "/Users/tryffel/code/env/pysyft/lib/python3.7/site-packages/sklearn/linear_model/logistic.py:758: ConvergenceWarning: lbfgs failed to converge. Increase the number of iterations.\n",
      "  \"of iterations.\", ConvergenceWarning)\n",
      "/Users/tryffel/code/env/pysyft/lib/python3.7/site-packages/sklearn/linear_model/logistic.py:758: ConvergenceWarning: lbfgs failed to converge. Increase the number of iterations.\n",
      "  \"of iterations.\", ConvergenceWarning)\n"
     ]
    },
    {
     "name": "stdout",
     "output_type": "stream",
     "text": [
      "0.3208\n"
     ]
    }
   ],
   "source": [
    "reg = linear_model.LogisticRegressionCV(cv=5, random_state=0, multi_class='multinomial')\n",
    "acc = evaluate_sklearn(reg, one_hot=False)\n",
    "print(acc)"
   ]
  },
  {
   "cell_type": "markdown",
   "metadata": {},
   "source": [
    "### Quadratic Discriminant Analysis"
   ]
  },
  {
   "cell_type": "code",
   "execution_count": 36,
   "metadata": {},
   "outputs": [],
   "source": [
    "from sklearn.discriminant_analysis import QuadraticDiscriminantAnalysis"
   ]
  },
  {
   "cell_type": "code",
   "execution_count": 37,
   "metadata": {},
   "outputs": [
    {
     "name": "stdout",
     "output_type": "stream",
     "text": [
      "0.4062\n",
      "CPU times: user 69.9 ms, sys: 15.9 ms, total: 85.8 ms\n",
      "Wall time: 22.4 ms\n"
     ]
    },
    {
     "name": "stderr",
     "output_type": "stream",
     "text": [
      "/Users/tryffel/code/env/pysyft/lib/python3.7/site-packages/sklearn/utils/validation.py:761: DataConversionWarning: A column-vector y was passed when a 1d array was expected. Please change the shape of y to (n_samples, ), for example using ravel().\n",
      "  y = column_or_1d(y, warn=True)\n"
     ]
    }
   ],
   "source": [
    "clf = QuadraticDiscriminantAnalysis()\n",
    "acc = evaluate_sklearn(clf, one_hot=False)\n",
    "print(acc)\n",
    "resistance_reports['Quadratic Discriminant Analysis'] = acc * 100"
   ]
  },
  {
   "cell_type": "markdown",
   "metadata": {},
   "source": [
    "### Kernel Ridge"
   ]
  },
  {
   "cell_type": "code",
   "execution_count": 218,
   "metadata": {},
   "outputs": [
    {
     "name": "stderr",
     "output_type": "stream",
     "text": [
      "/Users/tryffel/code/env/pysyft/lib/python3.7/site-packages/sklearn/linear_model/ridge.py:165: LinAlgWarning: Ill-conditioned matrix (rcond=8.74644e-10): result may not be accurate.\n",
      "  overwrite_a=False)\n"
     ]
    },
    {
     "name": "stdout",
     "output_type": "stream",
     "text": [
      "0.2045\n",
      "CPU times: user 41.7 s, sys: 2.69 s, total: 44.4 s\n",
      "Wall time: 16.4 s\n"
     ]
    }
   ],
   "source": [
    "clf = kernel_ridge.KernelRidge(alpha=1.0)\n",
    "acc = evaluate_sklearn(clf, one_hot=False, limit=15000)\n",
    "print(acc)"
   ]
  },
  {
   "cell_type": "markdown",
   "metadata": {},
   "source": [
    "### SVM"
   ]
  },
  {
   "cell_type": "code",
   "execution_count": 212,
   "metadata": {},
   "outputs": [
    {
     "name": "stderr",
     "output_type": "stream",
     "text": [
      "/Users/tryffel/code/env/pysyft/lib/python3.7/site-packages/sklearn/utils/validation.py:761: DataConversionWarning: A column-vector y was passed when a 1d array was expected. Please change the shape of y to (n_samples, ), for example using ravel().\n",
      "  y = column_or_1d(y, warn=True)\n"
     ]
    },
    {
     "name": "stdout",
     "output_type": "stream",
     "text": [
      "0.2598\n",
      "CPU times: user 16 s, sys: 72.6 ms, total: 16 s\n",
      "Wall time: 15.9 s\n"
     ]
    }
   ],
   "source": [
    "\n",
    "clf = svm.SVC(gamma='scale', kernel='linear')\n",
    "acc = evaluate_sklearn(clf, one_hot=False, limit=5000)\n",
    "print(acc)"
   ]
  },
  {
   "cell_type": "code",
   "execution_count": 38,
   "metadata": {},
   "outputs": [
    {
     "name": "stderr",
     "output_type": "stream",
     "text": [
      "/Users/tryffel/code/env/pysyft/lib/python3.7/site-packages/sklearn/utils/validation.py:761: DataConversionWarning: A column-vector y was passed when a 1d array was expected. Please change the shape of y to (n_samples, ), for example using ravel().\n",
      "  y = column_or_1d(y, warn=True)\n"
     ]
    },
    {
     "name": "stdout",
     "output_type": "stream",
     "text": [
      "0.5114\n",
      "CPU times: user 14.9 s, sys: 278 ms, total: 15.2 s\n",
      "Wall time: 15 s\n"
     ]
    }
   ],
   "source": [
    "\n",
    "clf = svm.SVC(gamma='scale', kernel='rbf')\n",
    "limit = {'LOW': 20000, 'MEDIUM': ALL, 'HIGH': ALL}\n",
    "acc = evaluate_sklearn(clf, one_hot=False, limit=limit[CPOWER])\n",
    "print(acc)\n",
    "resistance_reports['SVM (rbf)'] = acc * 100"
   ]
  },
  {
   "cell_type": "code",
   "execution_count": 216,
   "metadata": {},
   "outputs": [
    {
     "name": "stderr",
     "output_type": "stream",
     "text": [
      "/Users/tryffel/code/env/pysyft/lib/python3.7/site-packages/sklearn/utils/validation.py:761: DataConversionWarning: A column-vector y was passed when a 1d array was expected. Please change the shape of y to (n_samples, ), for example using ravel().\n",
      "  y = column_or_1d(y, warn=True)\n"
     ]
    },
    {
     "name": "stdout",
     "output_type": "stream",
     "text": [
      "0.2766\n",
      "CPU times: user 15.5 s, sys: 222 ms, total: 15.7 s\n",
      "Wall time: 15.7 s\n"
     ]
    }
   ],
   "source": [
    "\n",
    "clf = svm.SVC(gamma='scale', kernel='poly', coef0=0)\n",
    "acc = evaluate_sklearn(clf, one_hot=False, limit=20000)\n",
    "print(acc)"
   ]
  },
  {
   "cell_type": "code",
   "execution_count": 217,
   "metadata": {},
   "outputs": [
    {
     "name": "stderr",
     "output_type": "stream",
     "text": [
      "/Users/tryffel/code/env/pysyft/lib/python3.7/site-packages/sklearn/utils/validation.py:761: DataConversionWarning: A column-vector y was passed when a 1d array was expected. Please change the shape of y to (n_samples, ), for example using ravel().\n",
      "  y = column_or_1d(y, warn=True)\n"
     ]
    },
    {
     "name": "stdout",
     "output_type": "stream",
     "text": [
      "0.1821\n",
      "CPU times: user 13.2 s, sys: 110 ms, total: 13.3 s\n",
      "Wall time: 13.4 s\n"
     ]
    }
   ],
   "source": [
    "\n",
    "clf = svm.SVC(gamma='scale', kernel='sigmoid', coef0=0)\n",
    "acc = evaluate_sklearn(clf, one_hot=False, limit=20000)\n",
    "print(acc)"
   ]
  },
  {
   "cell_type": "markdown",
   "metadata": {},
   "source": [
    "### Stochastic gradient Descent"
   ]
  },
  {
   "cell_type": "code",
   "execution_count": 39,
   "metadata": {},
   "outputs": [
    {
     "name": "stdout",
     "output_type": "stream",
     "text": [
      "0.2579\n"
     ]
    },
    {
     "name": "stderr",
     "output_type": "stream",
     "text": [
      "/Users/tryffel/code/env/pysyft/lib/python3.7/site-packages/sklearn/linear_model/stochastic_gradient.py:166: FutureWarning: max_iter and tol parameters have been added in SGDClassifier in 0.19. If both are left unset, they default to max_iter=5 and tol=None. If tol is not None, max_iter defaults to max_iter=1000. From 0.21, default max_iter will be 1000, and default tol will be 1e-3.\n",
      "  FutureWarning)\n",
      "/Users/tryffel/code/env/pysyft/lib/python3.7/site-packages/sklearn/utils/validation.py:761: DataConversionWarning: A column-vector y was passed when a 1d array was expected. Please change the shape of y to (n_samples, ), for example using ravel().\n",
      "  y = column_or_1d(y, warn=True)\n"
     ]
    }
   ],
   "source": [
    "clf = linear_model.SGDClassifier(loss=\"hinge\", penalty=\"l2\")\n",
    "acc = evaluate_sklearn(clf, one_hot=False)\n",
    "print(acc)\n",
    "resistance_reports['SGDClassifier'] = acc * 100"
   ]
  },
  {
   "cell_type": "code",
   "execution_count": 40,
   "metadata": {},
   "outputs": [
    {
     "name": "stderr",
     "output_type": "stream",
     "text": [
      "/Users/tryffel/code/env/pysyft/lib/python3.7/site-packages/sklearn/utils/validation.py:761: DataConversionWarning: A column-vector y was passed when a 1d array was expected. Please change the shape of y to (n_samples, ), for example using ravel().\n",
      "  y = column_or_1d(y, warn=True)\n"
     ]
    },
    {
     "name": "stdout",
     "output_type": "stream",
     "text": [
      "0.2742\n"
     ]
    }
   ],
   "source": [
    "clf = linear_model.SGDClassifier(max_iter=1000, tol=1e-3, loss=\"log\")\n",
    "acc = evaluate_sklearn(clf, one_hot=False)\n",
    "print(acc)"
   ]
  },
  {
   "cell_type": "markdown",
   "metadata": {},
   "source": [
    "### K-Neighbors Classifier"
   ]
  },
  {
   "cell_type": "code",
   "execution_count": 41,
   "metadata": {},
   "outputs": [],
   "source": [
    "from sklearn.neighbors import KNeighborsClassifier"
   ]
  },
  {
   "cell_type": "code",
   "execution_count": 42,
   "metadata": {},
   "outputs": [
    {
     "name": "stderr",
     "output_type": "stream",
     "text": [
      "/Users/tryffel/code/env/pysyft/lib/python3.7/site-packages/ipykernel_launcher.py:3: DataConversionWarning: A column-vector y was passed when a 1d array was expected. Please change the shape of y to (n_samples, ), for example using ravel().\n",
      "  This is separate from the ipykernel package so we can avoid doing imports until\n"
     ]
    },
    {
     "name": "stdout",
     "output_type": "stream",
     "text": [
      "0.7004\n",
      "CPU times: user 940 ms, sys: 45.6 ms, total: 986 ms\n",
      "Wall time: 726 ms\n"
     ]
    }
   ],
   "source": [
    "\n",
    "clf = KNeighborsClassifier(n_neighbors=7)\n",
    "acc = evaluate_sklearn(clf, one_hot=False)\n",
    "print(acc)\n",
    "resistance_reports['K-Neighbors Classifier'] = acc * 100"
   ]
  },
  {
   "cell_type": "markdown",
   "metadata": {},
   "source": [
    "### Gaussian process (not scalable)"
   ]
  },
  {
   "cell_type": "code",
   "execution_count": 43,
   "metadata": {},
   "outputs": [],
   "source": [
    "from sklearn.gaussian_process import GaussianProcessClassifier\n",
    "from sklearn.gaussian_process.kernels import RBF"
   ]
  },
  {
   "cell_type": "code",
   "execution_count": 44,
   "metadata": {},
   "outputs": [
    {
     "name": "stderr",
     "output_type": "stream",
     "text": [
      "/Users/tryffel/code/env/pysyft/lib/python3.7/site-packages/sklearn/utils/validation.py:761: DataConversionWarning: A column-vector y was passed when a 1d array was expected. Please change the shape of y to (n_samples, ), for example using ravel().\n",
      "  y = column_or_1d(y, warn=True)\n"
     ]
    },
    {
     "name": "stdout",
     "output_type": "stream",
     "text": [
      "0.2124\n",
      "CPU times: user 14.8 s, sys: 2.8 s, total: 17.6 s\n",
      "Wall time: 2.86 s\n"
     ]
    }
   ],
   "source": [
    "\n",
    "kernel = 1.0 * RBF(1.0)\n",
    "gpc = GaussianProcessClassifier(kernel=kernel,\n",
    "        random_state=0)\n",
    "acc = evaluate_sklearn(gpc, one_hot=False, limit=400)\n",
    "print(acc)\n",
    "resistance_reports['Gaussian process'] = acc * 100"
   ]
  },
  {
   "cell_type": "markdown",
   "metadata": {},
   "source": [
    "### Naive Bayes"
   ]
  },
  {
   "cell_type": "code",
   "execution_count": 45,
   "metadata": {},
   "outputs": [],
   "source": [
    "from sklearn.naive_bayes import GaussianNB"
   ]
  },
  {
   "cell_type": "code",
   "execution_count": 46,
   "metadata": {},
   "outputs": [
    {
     "name": "stdout",
     "output_type": "stream",
     "text": [
      "0.3151\n",
      "CPU times: user 56.3 ms, sys: 15 ms, total: 71.3 ms\n",
      "Wall time: 19.2 ms\n"
     ]
    },
    {
     "name": "stderr",
     "output_type": "stream",
     "text": [
      "/Users/tryffel/code/env/pysyft/lib/python3.7/site-packages/sklearn/utils/validation.py:761: DataConversionWarning: A column-vector y was passed when a 1d array was expected. Please change the shape of y to (n_samples, ), for example using ravel().\n",
      "  y = column_or_1d(y, warn=True)\n"
     ]
    }
   ],
   "source": [
    "\n",
    "gnb = GaussianNB()\n",
    "acc = evaluate_sklearn(gnb, one_hot=False)\n",
    "print(acc)"
   ]
  },
  {
   "cell_type": "markdown",
   "metadata": {},
   "source": [
    "### Decision Tree Classifier"
   ]
  },
  {
   "cell_type": "code",
   "execution_count": 47,
   "metadata": {},
   "outputs": [],
   "source": [
    "from sklearn.tree import DecisionTreeClassifier"
   ]
  },
  {
   "cell_type": "code",
   "execution_count": 48,
   "metadata": {},
   "outputs": [
    {
     "name": "stdout",
     "output_type": "stream",
     "text": [
      "0.3704\n",
      "CPU times: user 245 ms, sys: 8.81 ms, total: 254 ms\n",
      "Wall time: 253 ms\n"
     ]
    }
   ],
   "source": [
    "\n",
    "clf = DecisionTreeClassifier(max_depth=5)\n",
    "acc = evaluate_sklearn(clf, one_hot=False)\n",
    "print(acc)\n",
    "\n",
    "resistance_reports['Decision Tree Classifier'] = acc * 100"
   ]
  },
  {
   "cell_type": "markdown",
   "metadata": {},
   "source": [
    "### Ensemble methods"
   ]
  },
  {
   "cell_type": "code",
   "execution_count": 16,
   "metadata": {},
   "outputs": [],
   "source": [
    "from sklearn.ensemble import RandomForestClassifier\n",
    "from sklearn.ensemble import AdaBoostClassifier\n",
    "from sklearn.ensemble import GradientBoostingClassifier"
   ]
  },
  {
   "cell_type": "code",
   "execution_count": 93,
   "metadata": {},
   "outputs": [
    {
     "name": "stderr",
     "output_type": "stream",
     "text": [
      "/Users/tryffel/code/env/pysyft/lib/python3.7/site-packages/ipykernel_launcher.py:3: DataConversionWarning: A column-vector y was passed when a 1d array was expected. Please change the shape of y to (n_samples,), for example using ravel().\n",
      "  This is separate from the ipykernel package so we can avoid doing imports until\n"
     ]
    },
    {
     "name": "stdout",
     "output_type": "stream",
     "text": [
      "0.5785\n",
      "CPU times: user 22.8 s, sys: 210 ms, total: 23 s\n",
      "Wall time: 23.1 s\n"
     ]
    }
   ],
   "source": [
    "\n",
    "clf = RandomForestClassifier(max_depth=30, n_estimators=100, max_features=4)\n",
    "acc = evaluate_sklearn(clf, one_hot=False)\n",
    "print(acc)\n",
    "resistance_reports['Random Forest Classifier'] = acc * 100"
   ]
  },
  {
   "cell_type": "code",
   "execution_count": 36,
   "metadata": {},
   "outputs": [
    {
     "name": "stderr",
     "output_type": "stream",
     "text": [
      "/Users/tryffel/code/env/pysyft/lib/python3.7/site-packages/sklearn/utils/validation.py:761: DataConversionWarning: A column-vector y was passed when a 1d array was expected. Please change the shape of y to (n_samples, ), for example using ravel().\n",
      "  y = column_or_1d(y, warn=True)\n"
     ]
    },
    {
     "name": "stdout",
     "output_type": "stream",
     "text": [
      "0.2896\n",
      "CPU times: user 12 s, sys: 31.7 ms, total: 12 s\n",
      "Wall time: 12 s\n"
     ]
    }
   ],
   "source": [
    "%%time\n",
    "clf = AdaBoostClassifier(n_estimators=200, learning_rate=1.)\n",
    "acc = evaluate_sklearn(clf, one_hot=False)\n",
    "print(acc)\n",
    "resistance_reports['AdaBoost Classifier'] = acc * 100"
   ]
  },
  {
   "cell_type": "code",
   "execution_count": 52,
   "metadata": {},
   "outputs": [
    {
     "name": "stderr",
     "output_type": "stream",
     "text": [
      "/Users/tryffel/code/env/pysyft/lib/python3.7/site-packages/sklearn/utils/validation.py:761: DataConversionWarning: A column-vector y was passed when a 1d array was expected. Please change the shape of y to (n_samples, ), for example using ravel().\n",
      "  y = column_or_1d(y, warn=True)\n"
     ]
    },
    {
     "name": "stdout",
     "output_type": "stream",
     "text": [
      "0.6007\n",
      "CPU times: user 18.7 s, sys: 57 ms, total: 18.8 s\n",
      "Wall time: 18.8 s\n"
     ]
    }
   ],
   "source": [
    "\n",
    "clf = GradientBoostingClassifier(n_estimators=10, learning_rate=1.0,\n",
    "    max_depth=10, random_state=0)\n",
    "acc = evaluate_sklearn(clf, one_hot=False)\n",
    "print(acc)\n",
    "resistance_reports['Gradient Boosting Classifier'] = acc * 100"
   ]
  },
  {
   "cell_type": "markdown",
   "metadata": {},
   "source": [
    "### (sklearn) Neural Network"
   ]
  },
  {
   "cell_type": "code",
   "execution_count": 53,
   "metadata": {},
   "outputs": [],
   "source": [
    "from sklearn.neural_network import MLPClassifier"
   ]
  },
  {
   "cell_type": "code",
   "execution_count": 54,
   "metadata": {},
   "outputs": [
    {
     "name": "stderr",
     "output_type": "stream",
     "text": [
      "/Users/tryffel/code/env/pysyft/lib/python3.7/site-packages/sklearn/neural_network/multilayer_perceptron.py:916: DataConversionWarning: A column-vector y was passed when a 1d array was expected. Please change the shape of y to (n_samples, ), for example using ravel().\n",
      "  y = column_or_1d(y, warn=True)\n"
     ]
    },
    {
     "name": "stdout",
     "output_type": "stream",
     "text": [
      "0.4508\n",
      "CPU times: user 49.4 s, sys: 5.35 s, total: 54.8 s\n",
      "Wall time: 13.9 s\n"
     ]
    }
   ],
   "source": [
    "\n",
    "clf = MLPClassifier(solver='lbfgs', alpha=1,\n",
    "                    hidden_layer_sizes=(10, 40, 10), random_state=1)\n",
    "acc = evaluate_sklearn(clf, one_hot=False)\n",
    "print(acc)"
   ]
  },
  {
   "cell_type": "markdown",
   "metadata": {},
   "source": [
    "## Summary"
   ]
  },
  {
   "cell_type": "code",
   "execution_count": 19,
   "metadata": {},
   "outputs": [],
   "source": [
    "def print_table(results):\n",
    "    n_cols = 2\n",
    "    title_length = 0\n",
    "    for title in results.keys():\n",
    "        title_length = max(title_length, len(title))\n",
    "    result_length = 8\n",
    "    table_length = 1 + n_cols + title_length + result_length\n",
    "    sep = '+'.join(\n",
    "        ['', '-'*title_length, '-'*result_length, '']\n",
    "    )\n",
    "    for title, serie in results.items():\n",
    "        print(sep)\n",
    "        title = (title + ' '*title_length)[:title_length]\n",
    "        if isinstance(serie, list):\n",
    "            result = round(np.mean(serie[-4:]), 2)\n",
    "        else:\n",
    "            result = round(serie, 2)\n",
    "        result = (' ' +str(result) + '%' + ' '*result_length)[:result_length]\n",
    "        line = '|'.join(\n",
    "            ['', title, result, '']\n",
    "        )\n",
    "        print(line)\n",
    "    print(sep)"
   ]
  },
  {
   "cell_type": "code",
   "execution_count": null,
   "metadata": {},
   "outputs": [],
   "source": [
    "print_table(resistance_reports)"
   ]
  },
  {
   "cell_type": "markdown",
   "metadata": {},
   "source": [
    "### Compative results"
   ]
  },
  {
   "cell_type": "markdown",
   "metadata": {},
   "source": [
    "+---------------------------------------+--------+--------+\n",
    "| Model                                 | Basic  |Resisted| \n",
    "+---------------------------------------+--------+--------+\n",
    "|Collateral task with net 8:64:32:16:8:5| 49.1%  | 29.5%  |\n",
    "+---------------------------------------+--------+--------+\n",
    "|Collateral task with net 8:32:16:8:5   | 47.76% | 25.46% |\n",
    "+---------------------------------------+--------+--------+\n",
    "|Collateral task with net 8:24:12:5     | 46.4%  | 24.26% |\n",
    "+---------------------------------------+--------+--------+\n",
    "|Collateral task with net 8:64:5        | 52.29% | 31.34% |\n",
    "+---------------------------------------+--------+--------+\n",
    "|Collateral task with net 8:32:5        | 48.47% | 28.37% |\n",
    "+---------------------------------------+--------+--------+\n",
    "|Collateral task with net 8:16:5        | 41.96% | 26.88% |\n",
    "+---------------------------------------+--------+--------+\n",
    "|linear model Ridge                     | 31.75% | 26.39% |\n",
    "+---------------------------------------+--------+--------+\n",
    "|linear model Lasso                     | 30.82% | 25.36% |\n",
    "+---------------------------------------+--------+--------+\n",
    "|logistic regression                    | 32.08% | 26.15% |\n",
    "+---------------------------------------+--------+--------+\n",
    "|Quadratic Discriminant Analysis        | 40.62% | 30.19% |\n",
    "+---------------------------------------+--------+--------+\n",
    "|SVM (rbf)                              | 51.14% | 28.59% |\n",
    "+---------------------------------------+--------+--------+\n",
    "|SGDClassifier                          | 25.79% | 24.69% |\n",
    "+---------------------------------------+--------+--------+\n",
    "|K-Neighbors Classifier                 | 70.04% | 56.75% | *\n",
    "+---------------------------------------+--------+--------+\n",
    "|Gaussian process                       | 21.24% | 20.39% |\n",
    "+---------------------------------------+--------+--------+\n",
    "|Decision Tree Classifier               | 37.04% | 28.48% |\n",
    "+---------------------------------------+--------+--------+\n",
    "|Random Forest Classifier               | 69.5%  | 55.87% | *\n",
    "+---------------------------------------+--------+--------+\n",
    "|AdaBoost Classifier                    | 37.34% | 28.69% |\n",
    "+---------------------------------------+--------+--------+\n",
    "|Gradient Boosting Classifier           | 60.07% | 45.02% | *\n",
    "+---------------------------------------+--------+--------+\n",
    "|Collateral task with CNN 0             |        | 45.7%  | *\n",
    "+---------------------------------------+--------+--------+\n",
    "|Collateral task with CNN 1             |        | 45.5%  | *\n",
    "+---------------------------------------+--------+--------+\n"
   ]
  },
  {
   "cell_type": "markdown",
   "metadata": {},
   "source": [
    "## Conclusion\n",
    "Overall, the models which use linear components behave quite poorly, while those based on completely different learning approaches (like K-Neighbors Classifier or Random Forest Classifier for example) manage to keep a pretty good accuracy in general. They also suffer from substantial accuracy drop in the sabotage setting (-15pt, while others loose more than 20pt), but as their initial performance was really good, they stand as outliers and robust adversaries which can help disclosing meaningful and sensitive information. For example, the K-Neighbors Classifier  succeeds in its predictions almost 3 times out of 5."
   ]
  },
  {
   "cell_type": "code",
   "execution_count": null,
   "metadata": {},
   "outputs": [],
   "source": []
  }
 ],
 "metadata": {
  "kernelspec": {
   "display_name": "Python 3",
   "language": "python",
   "name": "python3"
  },
  "language_info": {
   "codemirror_mode": {
    "name": "ipython",
    "version": 3
   },
   "file_extension": ".py",
   "mimetype": "text/x-python",
   "name": "python",
   "nbconvert_exporter": "python",
   "pygments_lexer": "ipython3",
   "version": "3.7.0"
  }
 },
 "nbformat": 4,
 "nbformat_minor": 2
}
