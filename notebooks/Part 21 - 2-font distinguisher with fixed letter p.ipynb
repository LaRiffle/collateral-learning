{
 "cells": [
  {
   "cell_type": "markdown",
   "metadata": {},
   "source": [
    "# Functional Encryption - Classification and information leakage\n",
    "\n",
    "### Purpose\n",
    "\n",
    "We want to train the model on the following task: given two images with the same character, but with two different fonts, can an adversarial model guess with a good accuracy which image has been selected by a challenger which only expose the output of the private model fed with a chosen image?\n",
    "\n",
    "We would know train the CL model to address this specific detection task. As reducing the dataset to two fonts + one unique character would make the subset too small (~920 items), we will fix them in advance using \"typical\" fonts and character and make a complete dataset out of it, reusing Part1. \"Typicalness\" for font is measured on results of Part 9 and for characters on the confusion matrix of Part 4.\n",
    "\n",
    "The fonts kepts are [1, 3] = cursive, Georgia and letter \"p\".\n",
    "\n",
    "_We will also try fantasy, Arial which is a bit harder_"
   ]
  },
  {
   "cell_type": "markdown",
   "metadata": {},
   "source": [
    "# 0. Build the dataset"
   ]
  },
  {
   "cell_type": "code",
   "execution_count": 1,
   "metadata": {},
   "outputs": [],
   "source": [
    "import matplotlib.pyplot as plt\n",
    "import numpy as np\n",
    "from string import ascii_lowercase\n",
    "from scipy.ndimage.interpolation import map_coordinates\n",
    "from scipy.ndimage.filters import gaussian_filter\n",
    "import torch.utils.data as utils\n",
    "import pickle"
   ]
  },
  {
   "cell_type": "markdown",
   "metadata": {},
   "source": [
    "## 0.1 Fonts"
   ]
  },
  {
   "cell_type": "markdown",
   "metadata": {},
   "source": [
    "We choose 5 fonts that we believe to be reasonably distinguishable:"
   ]
  },
  {
   "cell_type": "code",
   "execution_count": 2,
   "metadata": {},
   "outputs": [],
   "source": [
    "families = ['cursive', 'Georgia']"
   ]
  },
  {
   "cell_type": "markdown",
   "metadata": {},
   "source": [
    "Here what they look like!"
   ]
  },
  {
   "cell_type": "code",
   "execution_count": 3,
   "metadata": {},
   "outputs": [
    {
     "data": {
      "image/png": "[encoded data removed]",
      "text/plain": [
       "<Figure size 864x144 with 2 Axes>"
      ]
     },
     "metadata": {
      "needs_background": "light"
     },
     "output_type": "display_data"
    }
   ],
   "source": [
    "plt.figure(figsize=(12,2))\n",
    "for i, family in enumerate(families):\n",
    "    ax = plt.subplot(1, len(families), i+1)\n",
    "    ax.set_title(family)\n",
    "    ax.text(0.3, 0.4, 'abc', size=50, family=family)\n",
    "\n",
    "    # Rm axes, draw and get the rgba shape of the letter\n",
    "    plt.axis('off')\n",
    "plt.show()"
   ]
  },
  {
   "cell_type": "markdown",
   "metadata": {},
   "source": [
    "## 0.2 Noising process\n",
    "Our dataset is artificial. Hence we need to add some noise to make it more interesting for a classification task.\n",
    "Currently the noise boils down to:\n",
    "\n",
    " - A random but moderate rotation\n",
    " - A random but moderation size variation\n",
    " - A deformation using a Gaussian filter\n",
    "\n",
    "When we are done, we recenter the data (as it is done for MNIST).\n",
    "\n",
    "Let's do it for one character to see how it looks like!"
   ]
  },
  {
   "cell_type": "code",
   "execution_count": 4,
   "metadata": {},
   "outputs": [],
   "source": [
    "# First we build a dict to map numbers to letters \n",
    "letters = {index: letter for index, letter in enumerate(ascii_lowercase)} "
   ]
  },
  {
   "cell_type": "markdown",
   "metadata": {},
   "source": [
    "### Utils functions to handle rgb / rgba conversion"
   ]
  },
  {
   "cell_type": "code",
   "execution_count": 5,
   "metadata": {},
   "outputs": [],
   "source": [
    "def rgba_to_rgb(rgba):\n",
    "        if rgba[0] > 0:\n",
    "            return np.ones(3) * (256 - rgba[0])\n",
    "        return rgba[1:]\n",
    "    \n",
    "def convert_to_rgb(data):\n",
    "    return np.apply_along_axis(rgba_to_rgb, 2, data) "
   ]
  },
  {
   "cell_type": "markdown",
   "metadata": {},
   "source": [
    "### Deformation function"
   ]
  },
  {
   "cell_type": "code",
   "execution_count": 6,
   "metadata": {},
   "outputs": [],
   "source": [
    "def elastic_transform(image, alpha, sigma, random_state=None):\n",
    "    \"\"\"Elastic deformation of images as described in [Simard2003]_.\n",
    "    .. [Simard2003] Simard, Steinkraus and Platt, \"Best Practices for\n",
    "       Convolutional Neural Networks applied to Visual Document Analysis\", in\n",
    "       Proc. of the International Conference on Document Analysis and\n",
    "       Recognition, 2003.\n",
    "    \"\"\"\n",
    "    if random_state is None:\n",
    "        random_state = np.random.RandomState(None)\n",
    "\n",
    "    shape = image.shape\n",
    "    dx = gaussian_filter((random_state.rand(*shape) * 2 - 1), sigma, mode=\"constant\", cval=0) * alpha\n",
    "    dy = gaussian_filter((random_state.rand(*shape) * 2 - 1), sigma, mode=\"constant\", cval=0) * alpha\n",
    "    dz = np.zeros_like(dx)\n",
    "\n",
    "    x, y, z = np.meshgrid(np.arange(shape[0]), np.arange(shape[1]), np.arange(shape[2]))\n",
    "    indices = np.reshape(y+dy, (-1, 1)), np.reshape(x+dx, (-1, 1)), np.reshape(z, (-1, 1))\n",
    "\n",
    "    distored_image = map_coordinates(image, indices, order=1, mode='reflect')\n",
    "    return distored_image.reshape(image.shape)"
   ]
  },
  {
   "cell_type": "markdown",
   "metadata": {},
   "source": [
    "### Recentering function"
   ]
  },
  {
   "cell_type": "code",
   "execution_count": 7,
   "metadata": {},
   "outputs": [],
   "source": [
    "def center(data):\n",
    "    # Inverse black and white\n",
    "    wb_data = np.ones(data.shape) * 255 - data\n",
    "    \n",
    "    # normalize\n",
    "    prob_data = wb_data / np.sum(wb_data)\n",
    "    \n",
    "    # marginal distributions\n",
    "    dx = np.sum(prob_data, (1, 2))\n",
    "    dy = np.sum(prob_data, (0, 2))\n",
    "\n",
    "    # expected values\n",
    "    (X, Y, Z) = prob_data.shape\n",
    "    cx = np.sum(dx * np.arange(X))\n",
    "    cy = np.sum(dy * np.arange(Y))\n",
    "    \n",
    "    # Check bounds\n",
    "    assert cx > X/4 and cx < 3 * X/4, f\"ERROR: {cx} > {X/4} and {cx} < {3 * X/4}\"\n",
    "    assert cy > Y/4 and cy < 3 * Y/4, f\"ERROR: {cy} > {Y/4} and {cy} < {3 * Y/4}\"\n",
    "    \n",
    "    # print('Center', cx, cy)\n",
    "    \n",
    "    x_min = int(round(cx - X/4))\n",
    "    x_max = int(round(cx + X/4))\n",
    "    y_min = int(round(cy - Y/4))\n",
    "    y_max = int(round(cy + Y/4))\n",
    "    \n",
    "    return data[x_min:x_max, y_min:y_max, :]\n",
    "    "
   ]
  },
  {
   "cell_type": "markdown",
   "metadata": {},
   "source": [
    "### One first example!"
   ]
  },
  {
   "cell_type": "code",
   "execution_count": 8,
   "metadata": {},
   "outputs": [
    {
     "data": {
      "image/png": "[encoded data removed]",
      "text/plain": [
       "<Figure size 200x200 with 1 Axes>"
      ]
     },
     "metadata": {
      "needs_background": "light"
     },
     "output_type": "display_data"
    },
    {
     "data": {
      "image/png": "[encoded data removed]",
      "text/plain": [
       "<Figure size 432x288 with 1 Axes>"
      ]
     },
     "metadata": {
      "needs_background": "light"
     },
     "output_type": "display_data"
    },
    {
     "data": {
      "image/png": "[encoded data removed]",
      "text/plain": [
       "<Figure size 432x288 with 1 Axes>"
      ]
     },
     "metadata": {
      "needs_background": "light"
     },
     "output_type": "display_data"
    }
   ],
   "source": [
    "# Sample a rotation angle\n",
    "rotation = np.random.normal(0, 10) # 10 degrees (out of 180)\n",
    "# Sample a text size +/- 5% in std\n",
    "size = 100 + np.random.normal(0, 5) \n",
    "# Sample a family\n",
    "family_idx = np.random.randint(len(families))\n",
    "family = families[family_idx]\n",
    "# Sample a char\n",
    "letter_idx = np.random.randint(26)\n",
    "letter = letters[letter_idx]\n",
    "\n",
    "# Show rotated letter\n",
    "fig = plt.figure(figsize=(2,2), dpi=100)\n",
    "fig.text(0.4, 0.4, letter, size=size, rotation=rotation, family=family)\n",
    "plt.axis('off')\n",
    "plt.show()\n",
    "plt.close(fig)\n",
    "\n",
    "# Load the letter in smaller size\n",
    "fig = plt.figure(figsize=(2,2), dpi=100)\n",
    "fig.text(0.4, 0.4, letter, size=50, rotation=rotation, family=family)\n",
    "\n",
    "# Rm axes, draw and get the rgba shape of the letter\n",
    "plt.axis('off')\n",
    "fig.canvas.draw()\n",
    "data = np.frombuffer(fig.canvas.tostring_argb(), dtype=np.uint8)\n",
    "data = data.reshape(fig.canvas.get_width_height()[::-1] + (4,))\n",
    "plt.close(fig)\n",
    "# Convert to rgb\n",
    "data = convert_to_rgb(data)\n",
    "\n",
    "# Re-center the data\n",
    "data = center(data)\n",
    "\n",
    "plt.show()\n",
    "plt.axis('off')\n",
    "plt.imshow(data)\n",
    "plt.show()\n",
    "\n",
    "# Apply an elastic deformation\n",
    "data = elastic_transform(data, alpha=991, sigma=9)\n",
    "\n",
    "plt.axis('off')\n",
    "plt.imshow(data)\n",
    "plt.show()\n",
    "\n",
    "# Free memory space\n",
    "plt.close(fig)"
   ]
  },
  {
   "cell_type": "markdown",
   "metadata": {},
   "source": [
    "Feel free to change the rotation std, the text size std, and the `alpha` and `sigma` parameters in the deformation. You'll see that the task can be made incredibly harder!"
   ]
  },
  {
   "cell_type": "markdown",
   "metadata": {},
   "source": [
    "### Building the dataset\n",
    "Ok now we are equipped to build a complete dataset!"
   ]
  },
  {
   "cell_type": "code",
   "execution_count": 9,
   "metadata": {},
   "outputs": [],
   "source": [
    "# We define a variance parameter for rotation and one for text size\n",
    "std_rotation = 10\n",
    "std_size = 2.5 # 5% of reference size, here 50"
   ]
  },
  {
   "cell_type": "code",
   "execution_count": 10,
   "metadata": {
    "scrolled": true
   },
   "outputs": [],
   "source": [
    "def build_dataset(dataset_size, letters_choice, verbose=False):\n",
    "    dataset_data = []\n",
    "    dataset_target_char = []\n",
    "    dataset_target_family = []\n",
    "    for i in range(dataset_size):\n",
    "        rotation = np.random.normal(0, std_rotation)\n",
    "        size = 50 + np.random.normal(0, std_size) \n",
    "        family_idx = np.random.randint(len(families))\n",
    "        family = families[family_idx]\n",
    "        letter_idx = np.random.randint(len(letters_choice))\n",
    "        letter = letters_choice[letter_idx]\n",
    "        \n",
    "        if i % int(dataset_size/100) == 0:\n",
    "            print(round(i / dataset_size * 100), '%', letter)\n",
    "\n",
    "        fig = plt.figure(figsize=(2,2), dpi=28)\n",
    "        fig.text(0.4, 0.4, letter, size=size, rotation=rotation, family=family)\n",
    "\n",
    "        # Rm axes, draw and get the rgba shape of the letter\n",
    "        plt.axis('off')\n",
    "        fig.canvas.draw()\n",
    "        data = np.frombuffer(fig.canvas.tostring_argb(), dtype=np.uint8)\n",
    "        data = data.reshape(fig.canvas.get_width_height()[::-1] + (4,))\n",
    "\n",
    "        # Convert to rgb\n",
    "        data = convert_to_rgb(data)\n",
    "\n",
    "        # Center the data\n",
    "        data = center(data)\n",
    "\n",
    "        if verbose:\n",
    "            plt.show()\n",
    "            plt.axis('off')\n",
    "            plt.imshow(data)\n",
    "            plt.show()\n",
    "            \n",
    "        # Apply an elastic deformation\n",
    "        data = elastic_transform(data, alpha=991, sigma=9)\n",
    "\n",
    "        if verbose:\n",
    "            plt.axis('off')\n",
    "            plt.imshow(data)\n",
    "            plt.show()\n",
    "\n",
    "        # Free memory space\n",
    "        plt.close(fig)\n",
    "\n",
    "        # Append data to the datasets\n",
    "        target_char = np.array([letter_idx])\n",
    "        target_family = np.array([family_idx])\n",
    "        dataset_data.append(data[:,:,0])\n",
    "        dataset_target_char.append(target_char)\n",
    "        dataset_target_family.append(target_family)\n",
    "        \n",
    "    return dataset_data, dataset_target_char, dataset_target_family"
   ]
  },
  {
   "cell_type": "code",
   "execution_count": 11,
   "metadata": {},
   "outputs": [],
   "source": [
    "letters_choice = letters\n",
    "\n",
    "def save_dataset(info, data, target_char, target_family):\n",
    "    with open('dataset/character_dataset_cursive_georgia_{}.pkl'.format(info), 'wb') as output:\n",
    "        dataset = data, target_char, target_family\n",
    "        pickle.dump(dataset, output, pickle.HIGHEST_PROTOCOL)\n",
    "\n",
    "        \n",
    "# We build 10000 per 10000 for memory purposes\n",
    "# WARNING: This step takes time, and you may need to restart you notebook for memory purposes.\n",
    "#for i in range(6):\n",
    "#    print(f\"Train{i}\")\n",
    "#    train_data, train_target_char, train_target_family = build_dataset(10000, letters_choice)\n",
    "#    save_dataset(f\"train{i}\", train_data, train_target_char, train_target_family)\n",
    "    \n",
    "#print(\"Test\")\n",
    "#test_data, test_target_char, test_target_family = build_dataset(10000, letters_choice)\n",
    "#save_dataset(\"test\", test_data, test_target_char, test_target_family)"
   ]
  },
  {
   "cell_type": "code",
   "execution_count": 12,
   "metadata": {
    "scrolled": true
   },
   "outputs": [
    {
     "name": "stdout",
     "output_type": "stream",
     "text": [
      "Test\n",
      "0 % p\n",
      "1 % p\n",
      "2 % p\n",
      "3 % p\n",
      "4 % p\n",
      "5 % p\n",
      "6 % p\n",
      "7 % p\n",
      "8 % p\n",
      "9 % p\n",
      "10 % p\n",
      "11 % p\n",
      "12 % p\n",
      "13 % p\n",
      "14 % p\n",
      "15 % p\n",
      "16 % p\n",
      "17 % p\n",
      "18 % p\n",
      "19 % p\n",
      "20 % p\n",
      "21 % p\n",
      "22 % p\n",
      "23 % p\n",
      "24 % p\n",
      "25 % p\n",
      "26 % p\n",
      "27 % p\n",
      "28 % p\n",
      "29 % p\n",
      "30 % p\n",
      "31 % p\n",
      "32 % p\n",
      "33 % p\n",
      "34 % p\n",
      "35 % p\n",
      "36 % p\n",
      "37 % p\n",
      "38 % p\n",
      "39 % p\n",
      "40 % p\n",
      "41 % p\n",
      "42 % p\n",
      "43 % p\n",
      "44 % p\n",
      "45 % p\n",
      "46 % p\n",
      "47 % p\n",
      "48 % p\n",
      "49 % p\n",
      "50 % p\n",
      "51 % p\n",
      "52 % p\n",
      "53 % p\n",
      "54 % p\n",
      "55 % p\n",
      "56 % p\n",
      "57 % p\n",
      "58 % p\n",
      "59 % p\n",
      "60 % p\n",
      "61 % p\n",
      "62 % p\n",
      "63 % p\n",
      "64 % p\n",
      "65 % p\n",
      "66 % p\n",
      "67 % p\n",
      "68 % p\n",
      "69 % p\n",
      "70 % p\n",
      "71 % p\n",
      "72 % p\n",
      "73 % p\n",
      "74 % p\n",
      "75 % p\n",
      "76 % p\n",
      "77 % p\n",
      "78 % p\n",
      "79 % p\n",
      "80 % p\n",
      "81 % p\n",
      "82 % p\n",
      "83 % p\n",
      "84 % p\n",
      "85 % p\n",
      "86 % p\n",
      "87 % p\n",
      "88 % p\n",
      "89 % p\n",
      "90 % p\n",
      "91 % p\n",
      "92 % p\n",
      "93 % p\n",
      "94 % p\n",
      "95 % p\n",
      "96 % p\n",
      "97 % p\n",
      "98 % p\n",
      "99 % p\n"
     ]
    }
   ],
   "source": [
    "letters_choice = ['p']\n",
    "\n",
    "def save_dataset(info, data, target_char, target_family):\n",
    "    with open('dataset/character_dataset_cursive_georgia_p_{}.pkl'.format(info), 'wb') as output:\n",
    "        dataset = data, target_char, target_family\n",
    "        pickle.dump(dataset, output, pickle.HIGHEST_PROTOCOL)\n",
    "\n",
    "        \n",
    "# We build 10000 per 10000 for memory purposes\n",
    "# WARNING: This step takes time, and you may need to restart you notebook for memory purposes.\n",
    "for i in range(0):\n",
    "    print(f\"Train{i}\")\n",
    "    train_data, train_target_char, train_target_family = build_dataset(10000, letters_choice)\n",
    "    save_dataset(f\"train{i}\", train_data, train_target_char, train_target_family)\n",
    "    \n",
    "print(\"Test\")\n",
    "test_data, test_target_char, test_target_family = build_dataset(10000, letters_choice)\n",
    "save_dataset(\"test\", test_data, test_target_char, test_target_family)"
   ]
  },
  {
   "cell_type": "markdown",
   "metadata": {},
   "source": [
    "Ok we now have our dataset! Let's use it!"
   ]
  },
  {
   "cell_type": "markdown",
   "metadata": {},
   "source": [
    "### Conclusion"
   ]
  },
  {
   "cell_type": "markdown",
   "metadata": {},
   "source": [
    "We use it now in part 21 bis to make a CL task which is quite close to what we've been doing previously, except that:\n",
    "- Training is now done with arbitrary chars and 2 fonts\n",
    "- Collateral Learning is done with a selected char and 2 fonts"
   ]
  },
  {
   "cell_type": "markdown",
   "metadata": {},
   "source": [
    "### Appendix\n",
    "Here is an utility function to draw some samples of the dataset"
   ]
  },
  {
   "cell_type": "code",
   "execution_count": 13,
   "metadata": {},
   "outputs": [
    {
     "name": "stdout",
     "output_type": "stream",
     "text": [
      "Training set 60000 items\n",
      "Testing set  10000 items\n"
     ]
    }
   ],
   "source": [
    "# Allow to load packages from parent\n",
    "import sys, os\n",
    "sys.path.insert(1, os.path.realpath(os.path.pardir))\n",
    "import random, math\n",
    "import learn\n",
    "data = learn.load_data()\n",
    "train_data, train_target_char, train_target_family, test_data, test_target_char, test_target_family = data"
   ]
  },
  {
   "cell_type": "code",
   "execution_count": 14,
   "metadata": {},
   "outputs": [
    {
     "ename": "IndexError",
     "evalue": "list index out of range",
     "output_type": "error",
     "traceback": [
      "\u001b[0;31m---------------------------------------------------------------------------\u001b[0m",
      "\u001b[0;31mIndexError\u001b[0m                                Traceback (most recent call last)",
      "\u001b[0;32m<ipython-input-14-5a0add04bb0b>\u001b[0m in \u001b[0;36m<module>\u001b[0;34m\u001b[0m\n\u001b[1;32m     14\u001b[0m \u001b[0;34m\u001b[0m\u001b[0m\n\u001b[1;32m     15\u001b[0m \u001b[0;34m\u001b[0m\u001b[0m\n\u001b[0;32m---> 16\u001b[0;31m \u001b[0mshow_examples\u001b[0m\u001b[0;34m(\u001b[0m\u001b[0mtest_data\u001b[0m\u001b[0;34m,\u001b[0m \u001b[0mtest_target_char\u001b[0m\u001b[0;34m,\u001b[0m \u001b[0mtest_target_family\u001b[0m\u001b[0;34m)\u001b[0m\u001b[0;34m\u001b[0m\u001b[0m\n\u001b[0m",
      "\u001b[0;32m<ipython-input-14-5a0add04bb0b>\u001b[0m in \u001b[0;36mshow_examples\u001b[0;34m(data, target_char, target_family, n_examples)\u001b[0m\n\u001b[1;32m      7\u001b[0m         \u001b[0mimage\u001b[0m \u001b[0;34m=\u001b[0m \u001b[0mdata\u001b[0m\u001b[0;34m[\u001b[0m\u001b[0midx\u001b[0m\u001b[0;34m]\u001b[0m\u001b[0;34m\u001b[0m\u001b[0m\n\u001b[1;32m      8\u001b[0m         \u001b[0mletter\u001b[0m \u001b[0;34m=\u001b[0m \u001b[0mletters\u001b[0m\u001b[0;34m[\u001b[0m\u001b[0mtarget_char\u001b[0m\u001b[0;34m[\u001b[0m\u001b[0midx\u001b[0m\u001b[0;34m]\u001b[0m\u001b[0;34m[\u001b[0m\u001b[0;36m0\u001b[0m\u001b[0;34m]\u001b[0m\u001b[0;34m]\u001b[0m\u001b[0;34m\u001b[0m\u001b[0m\n\u001b[0;32m----> 9\u001b[0;31m         \u001b[0mfamily\u001b[0m \u001b[0;34m=\u001b[0m \u001b[0mfamilies\u001b[0m\u001b[0;34m[\u001b[0m\u001b[0mtarget_family\u001b[0m\u001b[0;34m[\u001b[0m\u001b[0midx\u001b[0m\u001b[0;34m]\u001b[0m\u001b[0;34m[\u001b[0m\u001b[0;36m0\u001b[0m\u001b[0;34m]\u001b[0m\u001b[0;34m]\u001b[0m\u001b[0;34m\u001b[0m\u001b[0m\n\u001b[0m\u001b[1;32m     10\u001b[0m         \u001b[0max\u001b[0m\u001b[0;34m.\u001b[0m\u001b[0mset_title\u001b[0m\u001b[0;34m(\u001b[0m\u001b[0;34mf\"{letter} ({family})\"\u001b[0m\u001b[0;34m)\u001b[0m\u001b[0;34m\u001b[0m\u001b[0m\n\u001b[1;32m     11\u001b[0m         \u001b[0mplt\u001b[0m\u001b[0;34m.\u001b[0m\u001b[0maxis\u001b[0m\u001b[0;34m(\u001b[0m\u001b[0;34m'off'\u001b[0m\u001b[0;34m)\u001b[0m\u001b[0;34m\u001b[0m\u001b[0m\n",
      "\u001b[0;31mIndexError\u001b[0m: list index out of range"
     ]
    },
    {
     "data": {
      "image/png": "[encoded data removed]",
      "text/plain": [
       "<Figure size 1008x864 with 1 Axes>"
      ]
     },
     "metadata": {
      "needs_background": "light"
     },
     "output_type": "display_data"
    }
   ],
   "source": [
    "def show_examples(data, target_char, target_family, n_examples=20):\n",
    "    n_rows = math.ceil(n_examples / 5)\n",
    "    plt.figure(figsize=(14, 3*n_rows))\n",
    "    for i in range(n_examples):\n",
    "        ax = plt.subplot(n_rows, 5, i+1)\n",
    "        idx = random.randint(0, len(data))\n",
    "        image = data[idx]\n",
    "        letter = letters[target_char[idx][0]]\n",
    "        family = families[target_family[idx][0]]\n",
    "        ax.set_title(f\"{letter} ({family})\")\n",
    "        plt.axis('off')\n",
    "        ax.imshow(image, cmap='gist_gray')\n",
    "    plt.show()\n",
    "        \n",
    "        \n",
    "show_examples(test_data, test_target_char, test_target_family)"
   ]
  },
  {
   "cell_type": "code",
   "execution_count": null,
   "metadata": {},
   "outputs": [],
   "source": []
  },
  {
   "cell_type": "code",
   "execution_count": null,
   "metadata": {},
   "outputs": [],
   "source": []
  }
 ],
 "metadata": {
  "kernelspec": {
   "display_name": "Python 3",
   "language": "python",
   "name": "python3"
  },
  "language_info": {
   "codemirror_mode": {
    "name": "ipython",
    "version": 3
   },
   "file_extension": ".py",
   "mimetype": "text/x-python",
   "name": "python",
   "nbconvert_exporter": "python",
   "pygments_lexer": "ipython3",
   "version": "3.7.0"
  }
 },
 "nbformat": 4,
 "nbformat_minor": 2
}
