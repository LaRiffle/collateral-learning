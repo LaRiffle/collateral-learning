{
 "cells": [
  {
   "cell_type": "markdown",
   "metadata": {},
   "source": [
    "# Functional Encryption - Classification and information leakage\n",
    "\n",
    "Our start point is the work on encrypted classification using Function Encryption of the paper [Reading in the Dark: Classifying Encrypted Digits with Functional Encryption](https://eprint.iacr.org/2018/206), and the associated [GitHub repository](https://github.com/edufoursans/reading-in-the-dark).\n",
    "\n",
    "More specifically, the paper provides a new Functional Encryption scheme for quadratic multi-variate polynomials, which can under some hypothesis be seen as a single hidden layer neural network with a quadratic activation.\n",
    "In the paper, the output corresponds to element per class, and it is made in clear. We analyse how this output can disclose information about the initial input or about charasteristics of this input.\n",
    "\n",
    "To this aim, we have just built a dataset which is very similar to MNIST, used in the original paper but which is composed of 26 letter characters of 5 differents fonts. Our goal is two-fold:\n",
    " - Evaluate how the output in clear can be leverage with a public NN to make better prediction than a simple `argmax` function in the character recognition task.\n",
    " - Analyse to what extent the output in clear of the model trained for character recognition can reveal information about the font used, using an \"adversarial\" network.\n",
    " \n",
    "We have used the output and modified the output of our quadratic net to improve the character classification accuracy. But can we use this now this output of the private model that we freeze, in order to learn to perform another _adversarial_ classification task, where we want instead to detect the font of the letter used."
   ]
  },
  {
   "cell_type": "markdown",
   "metadata": {},
   "source": [
    "# 3 Collateral Learning\n"
   ]
  },
  {
   "cell_type": "markdown",
   "metadata": {},
   "source": [
    "We will use the code directly from the repo, to make the notebook more readable. Functions are similar to those presented earlier."
   ]
  },
  {
   "cell_type": "code",
   "execution_count": 1,
   "metadata": {},
   "outputs": [],
   "source": [
    "# Allow to load packages from parent\n",
    "import sys, os\n",
    "sys.path.insert(1, os.path.realpath(os.path.pardir))"
   ]
  },
  {
   "cell_type": "code",
   "execution_count": 2,
   "metadata": {},
   "outputs": [],
   "source": [
    "import torch\n",
    "import torch.nn as nn\n",
    "import torch.nn.functional as F\n",
    "\n",
    "import learn\n",
    "from learn import main, train, test, show_results, show_confusion_matrix"
   ]
  },
  {
   "cell_type": "markdown",
   "metadata": {},
   "source": [
    "## 3.1 Loading the quadratic baseline\n",
    "Let's train the baseline model and this how we can use its output to train a \"adversarial/collateral\" network!"
   ]
  },
  {
   "cell_type": "code",
   "execution_count": 3,
   "metadata": {},
   "outputs": [],
   "source": [
    "class QuadNet(nn.Module):\n",
    "    def __init__(self, output_size):\n",
    "        super(QuadNet, self).__init__()\n",
    "        self.proj1 = nn.Linear(784, 50)\n",
    "        self.diag1 = nn.Linear(50, output_size)\n",
    "\n",
    "    def forward(self, x):\n",
    "        x = x.view(-1, 784)\n",
    "        x = self.proj1(x)\n",
    "        x = x * x\n",
    "        x = self.diag1(x)\n",
    "        return F.log_softmax(x, dim=1)\n",
    "    \n",
    "    def transform(self, x):\n",
    "        \"\"\"Same as forward but without the log_softmax\"\"\"\n",
    "        x = x.view(-1, 784)\n",
    "        x = self.proj1(x)\n",
    "        x = x * x\n",
    "        x = self.diag1(x)\n",
    "        return x"
   ]
  },
  {
   "cell_type": "code",
   "execution_count": 4,
   "metadata": {
    "scrolled": true
   },
   "outputs": [
    {
     "name": "stdout",
     "output_type": "stream",
     "text": [
      "Training set 60000 items\n",
      "Testing set  10000 items\n",
      "Learning on char with quad \n",
      "Train Epoch: 1 [0/60000 (0%)]\tLoss: 3.566816\n",
      "Train Epoch: 1 [19200/60000 (32%)]\tLoss: 1.068456\n",
      "Train Epoch: 1 [38400/60000 (64%)]\tLoss: 0.743918\n",
      "Train Epoch: 1 [57600/60000 (96%)]\tLoss: 0.899912\n",
      "\n",
      "Test set: Average loss: 0.4613, Accuracy: 8620/10000 (86.20%)\n",
      "\n",
      "Train Epoch: 2 [0/60000 (0%)]\tLoss: 0.556004\n",
      "Train Epoch: 2 [19200/60000 (32%)]\tLoss: 0.520704\n",
      "Train Epoch: 2 [38400/60000 (64%)]\tLoss: 0.547655\n",
      "Train Epoch: 2 [57600/60000 (96%)]\tLoss: 0.548369\n",
      "\n",
      "Test set: Average loss: 0.3148, Accuracy: 9089/10000 (90.89%)\n",
      "\n",
      "Train Epoch: 3 [0/60000 (0%)]\tLoss: 0.729023\n",
      "Train Epoch: 3 [19200/60000 (32%)]\tLoss: 0.406217\n",
      "Train Epoch: 3 [38400/60000 (64%)]\tLoss: 0.516341\n",
      "Train Epoch: 3 [57600/60000 (96%)]\tLoss: 0.624141\n",
      "\n",
      "Test set: Average loss: 0.2497, Accuracy: 9291/10000 (92.91%)\n",
      "\n",
      "Train Epoch: 4 [0/60000 (0%)]\tLoss: 0.482792\n",
      "Train Epoch: 4 [19200/60000 (32%)]\tLoss: 0.415880\n",
      "Train Epoch: 4 [38400/60000 (64%)]\tLoss: 0.667348\n",
      "Train Epoch: 4 [57600/60000 (96%)]\tLoss: 0.368116\n",
      "\n",
      "Test set: Average loss: 0.2405, Accuracy: 9307/10000 (93.07%)\n",
      "\n",
      "Train Epoch: 5 [0/60000 (0%)]\tLoss: 0.366283\n",
      "Train Epoch: 5 [19200/60000 (32%)]\tLoss: 0.590755\n",
      "Train Epoch: 5 [38400/60000 (64%)]\tLoss: 0.477535\n",
      "Train Epoch: 5 [57600/60000 (96%)]\tLoss: 0.316233\n",
      "\n",
      "Test set: Average loss: 0.2114, Accuracy: 9407/10000 (94.07%)\n",
      "\n",
      "Train Epoch: 6 [0/60000 (0%)]\tLoss: 0.411002\n",
      "Train Epoch: 6 [19200/60000 (32%)]\tLoss: 0.417819\n",
      "Train Epoch: 6 [38400/60000 (64%)]\tLoss: 0.431435\n",
      "Train Epoch: 6 [57600/60000 (96%)]\tLoss: 0.379600\n",
      "\n",
      "Test set: Average loss: 0.1946, Accuracy: 9444/10000 (94.44%)\n",
      "\n",
      "Train Epoch: 7 [0/60000 (0%)]\tLoss: 0.358466\n",
      "Train Epoch: 7 [19200/60000 (32%)]\tLoss: 0.400960\n",
      "Train Epoch: 7 [38400/60000 (64%)]\tLoss: 0.439882\n",
      "Train Epoch: 7 [57600/60000 (96%)]\tLoss: 0.504175\n",
      "\n",
      "Test set: Average loss: 0.1794, Accuracy: 9500/10000 (95.00%)\n",
      "\n",
      "Train Epoch: 8 [0/60000 (0%)]\tLoss: 0.358222\n",
      "Train Epoch: 8 [19200/60000 (32%)]\tLoss: 0.422379\n",
      "Train Epoch: 8 [38400/60000 (64%)]\tLoss: 0.432706\n",
      "Train Epoch: 8 [57600/60000 (96%)]\tLoss: 0.395461\n",
      "\n",
      "Test set: Average loss: 0.1811, Accuracy: 9510/10000 (95.10%)\n",
      "\n",
      "Train Epoch: 9 [0/60000 (0%)]\tLoss: 0.298544\n",
      "Train Epoch: 9 [19200/60000 (32%)]\tLoss: 0.380680\n",
      "Train Epoch: 9 [38400/60000 (64%)]\tLoss: 0.477118\n",
      "Train Epoch: 9 [57600/60000 (96%)]\tLoss: 0.283423\n",
      "\n",
      "Test set: Average loss: 0.1633, Accuracy: 9522/10000 (95.22%)\n",
      "\n",
      "Train Epoch: 10 [0/60000 (0%)]\tLoss: 0.306852\n",
      "Train Epoch: 10 [19200/60000 (32%)]\tLoss: 0.345957\n",
      "Train Epoch: 10 [38400/60000 (64%)]\tLoss: 0.486935\n",
      "Train Epoch: 10 [57600/60000 (96%)]\tLoss: 0.383446\n",
      "\n",
      "Test set: Average loss: 0.1660, Accuracy: 9522/10000 (95.22%)\n",
      "\n"
     ]
    }
   ],
   "source": [
    "results = {}\n",
    "quad_model = QuadNet(26)\n",
    "results['QuadNet'], model, pred_labels = main(model=quad_model, model_type='quad', task='char', return_model=True, return_pred_label=True)"
   ]
  },
  {
   "cell_type": "markdown",
   "metadata": {},
   "source": [
    "We save the model so that we won't have to train it again. _Make sure have the correct path and directories._"
   ]
  },
  {
   "cell_type": "code",
   "execution_count": 5,
   "metadata": {},
   "outputs": [],
   "source": [
    "torch.save(model.state_dict(), '../data/models/quad_char.pt')"
   ]
  },
  {
   "cell_type": "markdown",
   "metadata": {},
   "source": [
    "Let's also show the confusion matrix"
   ]
  },
  {
   "cell_type": "code",
   "execution_count": 6,
   "metadata": {},
   "outputs": [
    {
     "data": {
      "image/png": "[encoded data removed]",
      "text/plain": [
       "<matplotlib.figure.Figure at 0x1a2e90bc18>"
      ]
     },
     "metadata": {},
     "output_type": "display_data"
    }
   ],
   "source": [
    "show_confusion_matrix(pred_labels, task='char')"
   ]
  },
  {
   "cell_type": "markdown",
   "metadata": {},
   "source": [
    "## 2.2 Setting up the adversarial task\n",
    "\n",
    "We will now use the output of the trained baseline model which is freezed as an input of another model called the `adversarial_model` which will try to predict on another task, namely the family recognition"
   ]
  },
  {
   "cell_type": "markdown",
   "metadata": {},
   "source": [
    "There are little change compared to the usual test, train and main functions."
   ]
  },
  {
   "cell_type": "code",
   "execution_count": 7,
   "metadata": {},
   "outputs": [],
   "source": [
    "def adversarial_train(args, adversarial_model, model, train_loader, adv_optimizer, epoch):\n",
    "    adversarial_model.train()\n",
    "    for batch_idx, (data, target) in enumerate(train_loader):\n",
    "        data = model.transform(data)  # <-- This is new\n",
    "        adv_optimizer.zero_grad()\n",
    "        output = adversarial_model(data)\n",
    "        loss = F.nll_loss(output, target)\n",
    "\n",
    "        loss.backward()\n",
    "        adv_optimizer.step()\n",
    "        if batch_idx % args.log_interval == 0:\n",
    "            print('Train Epoch: {} [{}/{} ({:.0f}%)]\\tLoss: {:.6f}'.format(\n",
    "                epoch, batch_idx * len(data), len(train_loader.dataset),\n",
    "                       100. * batch_idx / len(train_loader), loss.item()))\n",
    "\n",
    "\n",
    "def adversarial_test(args, adversarial_model, model, test_loader):\n",
    "    adversarial_model.eval()\n",
    "    test_loss = 0\n",
    "    correct = 0\n",
    "    pred_labels = None\n",
    "    with torch.no_grad():\n",
    "        for data, target in test_loader:\n",
    "            data = model.transform(data) # <-- This is new\n",
    "            output = adversarial_model(data)\n",
    "            test_loss += F.nll_loss(output, target, reduction='sum').item()  # sum up batch loss\n",
    "            pred = output.argmax(dim=1, keepdim=True)  # get the index of the max log-probability\n",
    "            correct += pred.eq(target.view_as(pred)).sum().item()\n",
    "            \n",
    "            pred_labels_batch = torch.stack((pred, target.view_as(pred))).view(2, args.test_batch_size)\n",
    "            if pred_labels is None:\n",
    "                pred_labels = pred_labels_batch\n",
    "            else:\n",
    "                pred_labels = torch.cat((pred_labels, pred_labels_batch), dim=1).view(2, -1)\n",
    "\n",
    "    test_loss /= len(test_loader.dataset)\n",
    "\n",
    "    acc = 100. * correct / len(test_loader.dataset)\n",
    "    print('\\nTest set: Average loss: {:.4f}, Accuracy: {}/{} ({:.2f}%)\\n'.format(\n",
    "        test_loss, correct, len(test_loader.dataset), acc))\n",
    "    \n",
    "    return acc, pred_labels.transpose(0, 1)\n"
   ]
  },
  {
   "cell_type": "markdown",
   "metadata": {},
   "source": [
    "This is the Adversarial model that we will use. We use the same CNN structure as seen previously."
   ]
  },
  {
   "cell_type": "code",
   "execution_count": 8,
   "metadata": {},
   "outputs": [],
   "source": [
    "class AdversarialCNN(nn.Module):\n",
    "    def __init__(self, output_size):\n",
    "        super(AdversarialCNN, self).__init__()\n",
    "        self.lin1 = nn.Linear(26, 784)\n",
    "        self.conv1 = nn.Conv2d(1, 20, 5, 1)\n",
    "        self.conv2 = nn.Conv2d(20, 50, 5, 1)\n",
    "        self.fc1 = nn.Linear(4*4*50, 500)\n",
    "        self.fc2 = nn.Linear(500, output_size)\n",
    "\n",
    "    def forward(self, x):\n",
    "        x = self.lin1(x)\n",
    "        x = x.view(-1, 1, 28, 28)\n",
    "        x = F.relu(self.conv1(x))\n",
    "        x = F.max_pool2d(x, 2, 2)\n",
    "        x = F.relu(self.conv2(x))\n",
    "        x = F.max_pool2d(x, 2, 2)\n",
    "        x = x.view(-1, 4*4*50)\n",
    "        x = F.relu(self.fc1(x))\n",
    "        x = self.fc2(x)\n",
    "        return F.log_softmax(x, dim=1)"
   ]
  },
  {
   "cell_type": "code",
   "execution_count": 9,
   "metadata": {},
   "outputs": [],
   "source": [
    "import torch.optim as optim\n",
    "import torch.utils.data as utils\n",
    "\n",
    "class Parser:\n",
    "    def __init__(self):\n",
    "        self.epochs = 10\n",
    "        self.lr = 0.01\n",
    "        self.momentum = 0.5\n",
    "        self.seed = 1\n",
    "        self.test_batch_size = 1000\n",
    "        self.batch_size = 64\n",
    "        self.no_cuda = False\n",
    "        self.save_model = False\n",
    "        self.log_interval = 300\n",
    "        \n",
    "def build_tensor_dataset(data, target):\n",
    "    normed_data = [(d - d.mean()) / d.std() for d in data]\n",
    "    normed_data = torch.stack([torch.Tensor(d).reshape(1, 28, 28) for d in normed_data])\n",
    "    target = torch.LongTensor([i[0] for i in target])\n",
    "    tensor_dataset = utils.TensorDataset(normed_data, target)\n",
    "    return tensor_dataset\n",
    "    "
   ]
  },
  {
   "cell_type": "markdown",
   "metadata": {},
   "source": [
    "The base quadratic model is already trained to detect char, which it does not to badly.\n",
    "We compute explicitely the weight sum of the quadratic model parameters to verify that this private model is left unchanged after the collateral learning phase."
   ]
  },
  {
   "cell_type": "code",
   "execution_count": 10,
   "metadata": {},
   "outputs": [
    {
     "data": {
      "text/plain": [
       "tensor(9.5949, grad_fn=<AddBackward0>)"
      ]
     },
     "execution_count": 10,
     "metadata": {},
     "output_type": "execute_result"
    }
   ],
   "source": [
    "quad_param_norm = quad_model.proj1.weight.norm() + quad_model.diag1.weight.norm()\n",
    "quad_param_norm"
   ]
  },
  {
   "cell_type": "markdown",
   "metadata": {},
   "source": [
    "We new try to detect using its output, the family of the original input data."
   ]
  },
  {
   "cell_type": "code",
   "execution_count": 11,
   "metadata": {},
   "outputs": [
    {
     "name": "stdout",
     "output_type": "stream",
     "text": [
      "Training set 60000 items\n",
      "Testing set  10000 items\n"
     ]
    }
   ],
   "source": [
    "data = learn.load_data()\n",
    "train_data, train_target_char, train_target_family, test_data, test_target_char, test_target_family = data"
   ]
  },
  {
   "cell_type": "code",
   "execution_count": 12,
   "metadata": {},
   "outputs": [],
   "source": [
    "def adversarial_phase(model):\n",
    "    args = Parser()\n",
    "    use_cuda = not args.no_cuda and torch.cuda.is_available()\n",
    "\n",
    "    torch.manual_seed(args.seed)\n",
    "\n",
    "    # setting = the family recognition task\n",
    "    train_dataset = build_tensor_dataset(train_data, train_target_family)\n",
    "    test_dataset = build_tensor_dataset(test_data, test_target_family)\n",
    "    adversarial_output_size = 5\n",
    "    \n",
    "    train_loader = utils.DataLoader(\n",
    "        train_dataset,\n",
    "        batch_size=args.batch_size, shuffle=True\n",
    "    )\n",
    "    \n",
    "    test_loader = utils.DataLoader(\n",
    "        test_dataset,\n",
    "        batch_size=args.test_batch_size, shuffle=True\n",
    "    )\n",
    "    \n",
    "    adversarial_model = AdversarialCNN(output_size=adversarial_output_size)\n",
    "    adversarial_optimizer = optim.SGD(adversarial_model.parameters(), lr=args.lr, momentum=args.momentum)\n",
    "    \n",
    "    test_perfs = []\n",
    "    for epoch in range(1, args.epochs + 1):\n",
    "        adversarial_train(args, adversarial_model, model, train_loader, adversarial_optimizer, epoch)\n",
    "        acc, pred_labels = adversarial_test(args, adversarial_model, model, test_loader)\n",
    "        test_perfs.append(acc)\n",
    "        \n",
    "    return test_perfs, pred_labels\n",
    "        \n"
   ]
  },
  {
   "cell_type": "code",
   "execution_count": 13,
   "metadata": {
    "scrolled": true
   },
   "outputs": [
    {
     "name": "stdout",
     "output_type": "stream",
     "text": [
      "Train Epoch: 1 [0/60000 (0%)]\tLoss: 1.618377\n",
      "Train Epoch: 1 [19200/60000 (32%)]\tLoss: 0.955480\n",
      "Train Epoch: 1 [38400/60000 (64%)]\tLoss: 1.055913\n",
      "Train Epoch: 1 [57600/60000 (96%)]\tLoss: 0.682603\n",
      "\n",
      "Test set: Average loss: 0.7344, Accuracy: 6976/10000 (69.76%)\n",
      "\n",
      "Train Epoch: 2 [0/60000 (0%)]\tLoss: 0.715674\n",
      "Train Epoch: 2 [19200/60000 (32%)]\tLoss: 0.766397\n",
      "Train Epoch: 2 [38400/60000 (64%)]\tLoss: 0.664516\n",
      "Train Epoch: 2 [57600/60000 (96%)]\tLoss: 0.471019\n",
      "\n",
      "Test set: Average loss: 0.7100, Accuracy: 7070/10000 (70.70%)\n",
      "\n",
      "Train Epoch: 3 [0/60000 (0%)]\tLoss: 0.560507\n",
      "Train Epoch: 3 [19200/60000 (32%)]\tLoss: 0.678985\n",
      "Train Epoch: 3 [38400/60000 (64%)]\tLoss: 0.638161\n",
      "Train Epoch: 3 [57600/60000 (96%)]\tLoss: 0.632982\n",
      "\n",
      "Test set: Average loss: 0.6778, Accuracy: 7205/10000 (72.05%)\n",
      "\n",
      "Train Epoch: 4 [0/60000 (0%)]\tLoss: 0.662801\n",
      "Train Epoch: 4 [19200/60000 (32%)]\tLoss: 0.697922\n",
      "Train Epoch: 4 [38400/60000 (64%)]\tLoss: 0.530857\n",
      "Train Epoch: 4 [57600/60000 (96%)]\tLoss: 0.584230\n",
      "\n",
      "Test set: Average loss: 0.5136, Accuracy: 7993/10000 (79.93%)\n",
      "\n",
      "Train Epoch: 5 [0/60000 (0%)]\tLoss: 0.504364\n",
      "Train Epoch: 5 [19200/60000 (32%)]\tLoss: 0.493894\n",
      "Train Epoch: 5 [38400/60000 (64%)]\tLoss: 0.572026\n",
      "Train Epoch: 5 [57600/60000 (96%)]\tLoss: 0.413474\n",
      "\n",
      "Test set: Average loss: 0.5260, Accuracy: 7911/10000 (79.11%)\n",
      "\n",
      "Train Epoch: 6 [0/60000 (0%)]\tLoss: 0.400631\n",
      "Train Epoch: 6 [19200/60000 (32%)]\tLoss: 0.401179\n",
      "Train Epoch: 6 [38400/60000 (64%)]\tLoss: 0.540664\n",
      "Train Epoch: 6 [57600/60000 (96%)]\tLoss: 0.439324\n",
      "\n",
      "Test set: Average loss: 0.4978, Accuracy: 8016/10000 (80.16%)\n",
      "\n",
      "Train Epoch: 7 [0/60000 (0%)]\tLoss: 0.375631\n",
      "Train Epoch: 7 [19200/60000 (32%)]\tLoss: 0.375174\n",
      "Train Epoch: 7 [38400/60000 (64%)]\tLoss: 0.424319\n",
      "Train Epoch: 7 [57600/60000 (96%)]\tLoss: 0.377061\n",
      "\n",
      "Test set: Average loss: 0.5226, Accuracy: 7949/10000 (79.49%)\n",
      "\n",
      "Train Epoch: 8 [0/60000 (0%)]\tLoss: 0.445431\n",
      "Train Epoch: 8 [19200/60000 (32%)]\tLoss: 0.499888\n",
      "Train Epoch: 8 [38400/60000 (64%)]\tLoss: 0.335451\n",
      "Train Epoch: 8 [57600/60000 (96%)]\tLoss: 0.268807\n",
      "\n",
      "Test set: Average loss: 0.4800, Accuracy: 8086/10000 (80.86%)\n",
      "\n",
      "Train Epoch: 9 [0/60000 (0%)]\tLoss: 0.375674\n",
      "Train Epoch: 9 [19200/60000 (32%)]\tLoss: 0.374158\n",
      "Train Epoch: 9 [38400/60000 (64%)]\tLoss: 0.235958\n",
      "Train Epoch: 9 [57600/60000 (96%)]\tLoss: 0.495629\n",
      "\n",
      "Test set: Average loss: 0.4551, Accuracy: 8186/10000 (81.86%)\n",
      "\n",
      "Train Epoch: 10 [0/60000 (0%)]\tLoss: 0.389535\n",
      "Train Epoch: 10 [19200/60000 (32%)]\tLoss: 0.524381\n",
      "Train Epoch: 10 [38400/60000 (64%)]\tLoss: 0.202686\n",
      "Train Epoch: 10 [57600/60000 (96%)]\tLoss: 0.353109\n",
      "\n",
      "Test set: Average loss: 0.4802, Accuracy: 8118/10000 (81.18%)\n",
      "\n"
     ]
    }
   ],
   "source": [
    "test_perfs, pred_labels = adversarial_phase(quad_model)"
   ]
  },
  {
   "cell_type": "markdown",
   "metadata": {},
   "source": [
    "The learning curve:"
   ]
  },
  {
   "cell_type": "code",
   "execution_count": 14,
   "metadata": {},
   "outputs": [
    {
     "data": {
      "text/plain": [
       "[69.76, 70.7, 72.05, 79.93, 79.11, 80.16, 79.49, 80.86, 81.86, 81.18]"
      ]
     },
     "execution_count": 14,
     "metadata": {},
     "output_type": "execute_result"
    }
   ],
   "source": [
    "test_perfs"
   ]
  },
  {
   "cell_type": "markdown",
   "metadata": {},
   "source": [
    "### Discussion\n",
    "\n",
    "First, let's verify that the private model weights have not changed"
   ]
  },
  {
   "cell_type": "code",
   "execution_count": 15,
   "metadata": {},
   "outputs": [],
   "source": [
    "assert quad_param_norm == quad_model.proj1.weight.norm() + quad_model.diag1.weight.norm()"
   ]
  },
  {
   "cell_type": "markdown",
   "metadata": {},
   "source": [
    "Second, one could ask the difference with the setting where we put a CNN (the same) on top of the private network to learn family recognition in Part 3. The major difference is that in Part 3 we could modify the private network weights, while here we couldn't, and moreover the weights were optimised to perform a completely different task!"
   ]
  },
  {
   "cell_type": "markdown",
   "metadata": {},
   "source": [
    "Last, as this experiment shows, the prediction accuracy of the model is embarrassingly good! This shows that the information contained in the 26 neurons output is far more important than just information about characters. In particular, we can infer quite precisely information about the font of the original data.\n",
    "\n",
    "For the sake of curiosity, we build the confusion matrix of the predictor and compare it to the one with the QuadNet only the the one with the QuadNet + CNN (See Part3)."
   ]
  },
  {
   "cell_type": "code",
   "execution_count": 16,
   "metadata": {},
   "outputs": [
    {
     "data": {
      "image/png": "[encoded data removed]",
      "text/plain": [
       "<matplotlib.figure.Figure at 0x1a2ef21860>"
      ]
     },
     "metadata": {},
     "output_type": "display_data"
    }
   ],
   "source": [
    "show_confusion_matrix(pred_labels, task='family')"
   ]
  },
  {
   "cell_type": "code",
   "execution_count": null,
   "metadata": {},
   "outputs": [],
   "source": []
  },
  {
   "cell_type": "code",
   "execution_count": null,
   "metadata": {},
   "outputs": [],
   "source": []
  }
 ],
 "metadata": {
  "kernelspec": {
   "display_name": "Python 3",
   "language": "python",
   "name": "python3"
  },
  "language_info": {
   "codemirror_mode": {
    "name": "ipython",
    "version": 3
   },
   "file_extension": ".py",
   "mimetype": "text/x-python",
   "name": "python",
   "nbconvert_exporter": "python",
   "pygments_lexer": "ipython3",
   "version": "3.6.8"
  }
 },
 "nbformat": 4,
 "nbformat_minor": 2
}
