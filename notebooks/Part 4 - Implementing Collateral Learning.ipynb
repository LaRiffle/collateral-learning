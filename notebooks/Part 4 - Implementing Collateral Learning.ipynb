{
 "cells": [
  {
   "cell_type": "markdown",
   "metadata": {},
   "source": [
    "# Functional Encryption - Classification and information leakage\n",
    "\n",
    "Our start point is the work on encrypted classification using Function Encryption of the paper [Reading in the Dark: Classifying Encrypted Digits with Functional Encryption](https://eprint.iacr.org/2018/206), and the associated [GitHub repository](https://github.com/edufoursans/reading-in-the-dark).\n",
    "\n",
    "More specifically, the paper provides a new Functional Encryption scheme for quadratic multi-variate polynomials, which can under some hypothesis be seen as a single hidden layer neural network with a quadratic activation.\n",
    "In the paper, the output corresponds to element per class, and it is made in clear. We analyse how this output can disclose information about the initial input or about charasteristics of this input.\n",
    "\n",
    "To this aim, we have just built a dataset which is very similar to MNIST, used in the original paper but which is composed of 26 letter characters of 5 differents fonts. Our goal is two-fold:\n",
    " - Evaluate how the output in clear can be leverage with a public NN to make better prediction than a simple `argmax` function in the character recognition task.\n",
    " - Analyse to what extent the output in clear of the model trained for character recognition can reveal information about the font used, using an \"adversarial\" network.\n",
    " \n",
    "We have used the output and modified the output of our quadratic net to improve the character classification accuracy. But can we use this now this output of the private model that we freeze, in order to learn to perform another _adversarial_ classification task, where we want instead to detect the font of the letter used."
   ]
  },
  {
   "cell_type": "markdown",
   "metadata": {},
   "source": [
    "# 3 Collateral Learning\n"
   ]
  },
  {
   "cell_type": "markdown",
   "metadata": {},
   "source": [
    "We will use the code directly from the repo, to make the notebook more readable. Functions are similar to those presented earlier."
   ]
  },
  {
   "cell_type": "code",
   "execution_count": 1,
   "metadata": {},
   "outputs": [],
   "source": [
    "# Allow to load packages from parent\n",
    "import sys, os\n",
    "sys.path.insert(1, os.path.realpath(os.path.pardir))"
   ]
  },
  {
   "cell_type": "code",
   "execution_count": 2,
   "metadata": {},
   "outputs": [],
   "source": [
    "import torch\n",
    "import torch.nn as nn\n",
    "import torch.nn.functional as F\n",
    "\n",
    "import learn\n",
    "from learn import main, train, test, show_results, show_confusion_matrix"
   ]
  },
  {
   "cell_type": "markdown",
   "metadata": {},
   "source": [
    "## 3.1 Loading the quadratic baseline\n",
    "Let's train the baseline model and this how we can use its output to train a \"adversarial/collateral\" network!"
   ]
  },
  {
   "cell_type": "code",
   "execution_count": 3,
   "metadata": {},
   "outputs": [],
   "source": [
    "class QuadNet(nn.Module):\n",
    "    def __init__(self, output_size):\n",
    "        super(QuadNet, self).__init__()\n",
    "        self.proj1 = nn.Linear(784, 50)\n",
    "        self.diag1 = nn.Linear(50, output_size)\n",
    "\n",
    "    def forward(self, x):\n",
    "        x = x.view(-1, 784)\n",
    "        x = self.proj1(x)\n",
    "        x = x * x\n",
    "        x = self.diag1(x)\n",
    "        return F.log_softmax(x, dim=1)\n",
    "    \n",
    "    def transform(self, x):\n",
    "        \"\"\"Same as forward but without the log_softmax\"\"\"\n",
    "        x = x.view(-1, 784)\n",
    "        x = self.proj1(x)\n",
    "        x = x * x\n",
    "        x = self.diag1(x)\n",
    "        return x"
   ]
  },
  {
   "cell_type": "code",
   "execution_count": 4,
   "metadata": {
    "scrolled": true
   },
   "outputs": [
    {
     "name": "stdout",
     "output_type": "stream",
     "text": [
      "Training set 60000 items\n",
      "Testing set  10000 items\n",
      "Learning on char with quad \n",
      "Train Epoch: 1 [0/60000 (0%)]\tLoss: 3.521713\n",
      "Train Epoch: 1 [19200/60000 (32%)]\tLoss: 0.920842\n",
      "Train Epoch: 1 [38400/60000 (64%)]\tLoss: 0.593655\n",
      "Train Epoch: 1 [57600/60000 (96%)]\tLoss: 0.587010\n",
      "\n",
      "Test set: Average loss: 0.4031, Accuracy: 8766/10000 (87.66%)\n",
      "\n",
      "Train Epoch: 2 [0/60000 (0%)]\tLoss: 0.661931\n",
      "Train Epoch: 2 [19200/60000 (32%)]\tLoss: 0.694133\n",
      "Train Epoch: 2 [38400/60000 (64%)]\tLoss: 0.468505\n",
      "Train Epoch: 2 [57600/60000 (96%)]\tLoss: 0.520628\n",
      "\n",
      "Test set: Average loss: 0.2725, Accuracy: 9207/10000 (92.07%)\n",
      "\n",
      "Train Epoch: 3 [0/60000 (0%)]\tLoss: 0.414044\n",
      "Train Epoch: 3 [19200/60000 (32%)]\tLoss: 0.335611\n",
      "Train Epoch: 3 [38400/60000 (64%)]\tLoss: 0.626019\n",
      "Train Epoch: 3 [57600/60000 (96%)]\tLoss: 0.399890\n",
      "\n",
      "Test set: Average loss: 0.2370, Accuracy: 9306/10000 (93.06%)\n",
      "\n",
      "Train Epoch: 4 [0/60000 (0%)]\tLoss: 0.519229\n",
      "Train Epoch: 4 [19200/60000 (32%)]\tLoss: 0.454395\n",
      "Train Epoch: 4 [38400/60000 (64%)]\tLoss: 0.378815\n",
      "Train Epoch: 4 [57600/60000 (96%)]\tLoss: 0.421035\n",
      "\n",
      "Test set: Average loss: 0.1861, Accuracy: 9507/10000 (95.07%)\n",
      "\n",
      "Train Epoch: 5 [0/60000 (0%)]\tLoss: 0.315173\n",
      "Train Epoch: 5 [19200/60000 (32%)]\tLoss: 0.575797\n",
      "Train Epoch: 5 [38400/60000 (64%)]\tLoss: 0.652574\n",
      "Train Epoch: 5 [57600/60000 (96%)]\tLoss: 0.369550\n",
      "\n",
      "Test set: Average loss: 0.2049, Accuracy: 9409/10000 (94.09%)\n",
      "\n",
      "Train Epoch: 6 [0/60000 (0%)]\tLoss: 0.415670\n",
      "Train Epoch: 6 [19200/60000 (32%)]\tLoss: 0.383049\n",
      "Train Epoch: 6 [38400/60000 (64%)]\tLoss: 0.418166\n",
      "Train Epoch: 6 [57600/60000 (96%)]\tLoss: 0.319972\n",
      "\n",
      "Test set: Average loss: 0.1904, Accuracy: 9447/10000 (94.47%)\n",
      "\n",
      "Train Epoch: 7 [0/60000 (0%)]\tLoss: 0.479742\n",
      "Train Epoch: 7 [19200/60000 (32%)]\tLoss: 0.466220\n",
      "Train Epoch: 7 [38400/60000 (64%)]\tLoss: 0.369417\n",
      "Train Epoch: 7 [57600/60000 (96%)]\tLoss: 0.298051\n",
      "\n",
      "Test set: Average loss: 0.1805, Accuracy: 9513/10000 (95.13%)\n",
      "\n",
      "Train Epoch: 8 [0/60000 (0%)]\tLoss: 0.338167\n",
      "Train Epoch: 8 [19200/60000 (32%)]\tLoss: 0.339636\n",
      "Train Epoch: 8 [38400/60000 (64%)]\tLoss: 0.328363\n",
      "Train Epoch: 8 [57600/60000 (96%)]\tLoss: 0.341291\n",
      "\n",
      "Test set: Average loss: 0.1600, Accuracy: 9560/10000 (95.60%)\n",
      "\n",
      "Train Epoch: 9 [0/60000 (0%)]\tLoss: 0.303952\n",
      "Train Epoch: 9 [19200/60000 (32%)]\tLoss: 0.372552\n",
      "Train Epoch: 9 [38400/60000 (64%)]\tLoss: 0.294637\n",
      "Train Epoch: 9 [57600/60000 (96%)]\tLoss: 0.747143\n",
      "\n",
      "Test set: Average loss: 0.1904, Accuracy: 9446/10000 (94.46%)\n",
      "\n",
      "Train Epoch: 10 [0/60000 (0%)]\tLoss: 0.348929\n",
      "Train Epoch: 10 [19200/60000 (32%)]\tLoss: 0.376583\n",
      "Train Epoch: 10 [38400/60000 (64%)]\tLoss: 0.326725\n",
      "Train Epoch: 10 [57600/60000 (96%)]\tLoss: 0.495274\n",
      "\n",
      "Test set: Average loss: 0.1602, Accuracy: 9545/10000 (95.45%)\n",
      "\n"
     ]
    }
   ],
   "source": [
    "results = {}\n",
    "quad_model = QuadNet(26)\n",
    "results['QuadNet'], model, pred_labels = main(model=quad_model, model_type='quad', task='char', return_model=True, return_pred_label=True)"
   ]
  },
  {
   "cell_type": "code",
   "execution_count": 5,
   "metadata": {},
   "outputs": [
    {
     "data": {
      "image/png": "[encoded data removed]",
      "text/plain": [
       "<matplotlib.figure.Figure at 0x1a2966d8d0>"
      ]
     },
     "metadata": {},
     "output_type": "display_data"
    }
   ],
   "source": [
    "show_confusion_matrix(pred_labels, task='char')"
   ]
  },
  {
   "cell_type": "markdown",
   "metadata": {},
   "source": [
    "## 2.2 Setting up the adversarial task\n",
    "\n",
    "We will now use the output of the trained baseline model which is freezed as an input of another model called the `adversarial_model` which will try to predict on another task, namely the family recognition"
   ]
  },
  {
   "cell_type": "markdown",
   "metadata": {},
   "source": [
    "There are little change compared to the usual test, train and main functions."
   ]
  },
  {
   "cell_type": "code",
   "execution_count": 13,
   "metadata": {},
   "outputs": [],
   "source": [
    "def adversarial_train(args, adversarial_model, model, train_loader, adv_optimizer, epoch):\n",
    "    adversarial_model.train()\n",
    "    for batch_idx, (data, target) in enumerate(train_loader):\n",
    "        data = model.transform(data)  # <-- This is new\n",
    "        adv_optimizer.zero_grad()\n",
    "        output = adversarial_model(data)\n",
    "        loss = F.nll_loss(output, target)\n",
    "\n",
    "        loss.backward()\n",
    "        adv_optimizer.step()\n",
    "        if batch_idx % args.log_interval == 0:\n",
    "            print('Train Epoch: {} [{}/{} ({:.0f}%)]\\tLoss: {:.6f}'.format(\n",
    "                epoch, batch_idx * len(data), len(train_loader.dataset),\n",
    "                       100. * batch_idx / len(train_loader), loss.item()))\n",
    "\n",
    "\n",
    "def adversarial_test(args, adversarial_model, model, test_loader):\n",
    "    adversarial_model.eval()\n",
    "    test_loss = 0\n",
    "    correct = 0\n",
    "    pred_labels = None\n",
    "    with torch.no_grad():\n",
    "        for data, target in test_loader:\n",
    "            data = model.transform(data) # <-- This is new\n",
    "            output = adversarial_model(data)\n",
    "            test_loss += F.nll_loss(output, target, reduction='sum').item()  # sum up batch loss\n",
    "            pred = output.argmax(dim=1, keepdim=True)  # get the index of the max log-probability\n",
    "            correct += pred.eq(target.view_as(pred)).sum().item()\n",
    "            \n",
    "            pred_labels_batch = torch.stack((pred, target.view_as(pred))).view(2, args.test_batch_size)\n",
    "            if pred_labels is None:\n",
    "                pred_labels = pred_labels_batch\n",
    "            else:\n",
    "                pred_labels = torch.cat((pred_labels, pred_labels_batch), dim=1).view(2, -1)\n",
    "\n",
    "    test_loss /= len(test_loader.dataset)\n",
    "\n",
    "    acc = 100. * correct / len(test_loader.dataset)\n",
    "    print('\\nTest set: Average loss: {:.4f}, Accuracy: {}/{} ({:.2f}%)\\n'.format(\n",
    "        test_loss, correct, len(test_loader.dataset), acc))\n",
    "    \n",
    "    return acc, pred_labels.transpose(0, 1)\n"
   ]
  },
  {
   "cell_type": "markdown",
   "metadata": {},
   "source": [
    "This is the Adversarial model that we will use. We use the same CNN structure as seen previously."
   ]
  },
  {
   "cell_type": "code",
   "execution_count": 14,
   "metadata": {},
   "outputs": [],
   "source": [
    "class AdversarialCNN(nn.Module):\n",
    "    def __init__(self, output_size):\n",
    "        super(AdversarialCNN, self).__init__()\n",
    "        self.lin1 = nn.Linear(26, 784)\n",
    "        self.conv1 = nn.Conv2d(1, 20, 5, 1)\n",
    "        self.conv2 = nn.Conv2d(20, 50, 5, 1)\n",
    "        self.fc1 = nn.Linear(4*4*50, 500)\n",
    "        self.fc2 = nn.Linear(500, output_size)\n",
    "\n",
    "    def forward(self, x):\n",
    "        x = self.lin1(x)\n",
    "        x = x.view(-1, 1, 28, 28)\n",
    "        x = F.relu(self.conv1(x))\n",
    "        x = F.max_pool2d(x, 2, 2)\n",
    "        x = F.relu(self.conv2(x))\n",
    "        x = F.max_pool2d(x, 2, 2)\n",
    "        x = x.view(-1, 4*4*50)\n",
    "        x = F.relu(self.fc1(x))\n",
    "        x = self.fc2(x)\n",
    "        return F.log_softmax(x, dim=1)"
   ]
  },
  {
   "cell_type": "code",
   "execution_count": 15,
   "metadata": {},
   "outputs": [],
   "source": [
    "import torch.optim as optim\n",
    "import torch.utils.data as utils\n",
    "\n",
    "class Parser:\n",
    "    def __init__(self):\n",
    "        self.epochs = 10\n",
    "        self.lr = 0.01\n",
    "        self.momentum = 0.5\n",
    "        self.seed = 1\n",
    "        self.test_batch_size = 1000\n",
    "        self.batch_size = 64\n",
    "        self.no_cuda = False\n",
    "        self.save_model = False\n",
    "        self.log_interval = 300\n",
    "        \n",
    "def build_tensor_dataset(data, target):\n",
    "    normed_data = [(d - d.mean()) / d.std() for d in data]\n",
    "    normed_data = torch.stack([torch.Tensor(d).reshape(1, 28, 28) for d in normed_data])\n",
    "    target = torch.LongTensor([i[0] for i in target])\n",
    "    tensor_dataset = utils.TensorDataset(normed_data, target)\n",
    "    return tensor_dataset\n",
    "    "
   ]
  },
  {
   "cell_type": "markdown",
   "metadata": {},
   "source": [
    "The base quadratic model is already trained to detect char, which it does not to badly.\n",
    "We compute explicitely the weight sum of the quadratic model parameters to verify that this private model is left unchanged after the collateral learning phase."
   ]
  },
  {
   "cell_type": "code",
   "execution_count": 16,
   "metadata": {},
   "outputs": [
    {
     "data": {
      "text/plain": [
       "tensor(9.4264, grad_fn=<AddBackward0>)"
      ]
     },
     "execution_count": 16,
     "metadata": {},
     "output_type": "execute_result"
    }
   ],
   "source": [
    "quad_param_norm = quad_model.proj1.weight.norm() + quad_model.diag1.weight.norm()\n",
    "quad_param_norm"
   ]
  },
  {
   "cell_type": "markdown",
   "metadata": {},
   "source": [
    "We new try to detect using its output, the family of the original input data."
   ]
  },
  {
   "cell_type": "code",
   "execution_count": 17,
   "metadata": {},
   "outputs": [
    {
     "name": "stdout",
     "output_type": "stream",
     "text": [
      "Training set 60000 items\n",
      "Testing set  10000 items\n"
     ]
    }
   ],
   "source": [
    "data = learn.load_data()\n",
    "train_data, train_target_char, train_target_family, test_data, test_target_char, test_target_family = data"
   ]
  },
  {
   "cell_type": "code",
   "execution_count": 18,
   "metadata": {},
   "outputs": [],
   "source": [
    "def adversarial_phase(model):\n",
    "    args = Parser()\n",
    "    use_cuda = not args.no_cuda and torch.cuda.is_available()\n",
    "\n",
    "    torch.manual_seed(args.seed)\n",
    "\n",
    "    # setting = the family recognition task\n",
    "    train_dataset = build_tensor_dataset(train_data, train_target_family)\n",
    "    test_dataset = build_tensor_dataset(test_data, test_target_family)\n",
    "    adversarial_output_size = 5\n",
    "    \n",
    "    train_loader = utils.DataLoader(\n",
    "        train_dataset,\n",
    "        batch_size=args.batch_size, shuffle=True\n",
    "    )\n",
    "    \n",
    "    test_loader = utils.DataLoader(\n",
    "        test_dataset,\n",
    "        batch_size=args.test_batch_size, shuffle=True\n",
    "    )\n",
    "    \n",
    "    adversarial_model = AdversarialCNN(output_size=adversarial_output_size)\n",
    "    adversarial_optimizer = optim.SGD(adversarial_model.parameters(), lr=args.lr, momentum=args.momentum)\n",
    "    \n",
    "    for epoch in range(1, args.epochs + 1):\n",
    "        adversarial_train(args, adversarial_model, model, train_loader, adversarial_optimizer, epoch)\n",
    "        _, pred_labels = adversarial_test(args, adversarial_model, model, test_loader)\n",
    "        \n",
    "    return pred_labels\n",
    "        \n"
   ]
  },
  {
   "cell_type": "code",
   "execution_count": 19,
   "metadata": {
    "scrolled": true
   },
   "outputs": [
    {
     "name": "stdout",
     "output_type": "stream",
     "text": [
      "Train Epoch: 1 [0/60000 (0%)]\tLoss: 1.627350\n",
      "Train Epoch: 1 [19200/60000 (32%)]\tLoss: 0.961033\n",
      "Train Epoch: 1 [38400/60000 (64%)]\tLoss: 0.810053\n",
      "Train Epoch: 1 [57600/60000 (96%)]\tLoss: 0.609674\n",
      "\n",
      "Test set: Average loss: 0.7730, Accuracy: 6916/10000 (69.16%)\n",
      "\n",
      "Train Epoch: 2 [0/60000 (0%)]\tLoss: 0.621831\n",
      "Train Epoch: 2 [19200/60000 (32%)]\tLoss: 0.633529\n",
      "Train Epoch: 2 [38400/60000 (64%)]\tLoss: 0.469181\n",
      "Train Epoch: 2 [57600/60000 (96%)]\tLoss: 0.688018\n",
      "\n",
      "Test set: Average loss: 0.6727, Accuracy: 7203/10000 (72.03%)\n",
      "\n",
      "Train Epoch: 3 [0/60000 (0%)]\tLoss: 0.818333\n",
      "Train Epoch: 3 [19200/60000 (32%)]\tLoss: 0.806722\n",
      "Train Epoch: 3 [38400/60000 (64%)]\tLoss: 0.681538\n",
      "Train Epoch: 3 [57600/60000 (96%)]\tLoss: 0.580781\n",
      "\n",
      "Test set: Average loss: 0.5730, Accuracy: 7794/10000 (77.94%)\n",
      "\n",
      "Train Epoch: 4 [0/60000 (0%)]\tLoss: 0.542309\n",
      "Train Epoch: 4 [19200/60000 (32%)]\tLoss: 0.574850\n",
      "Train Epoch: 4 [38400/60000 (64%)]\tLoss: 0.416458\n",
      "Train Epoch: 4 [57600/60000 (96%)]\tLoss: 0.363376\n",
      "\n",
      "Test set: Average loss: 0.5134, Accuracy: 7931/10000 (79.31%)\n",
      "\n",
      "Train Epoch: 5 [0/60000 (0%)]\tLoss: 0.531522\n",
      "Train Epoch: 5 [19200/60000 (32%)]\tLoss: 0.269408\n",
      "Train Epoch: 5 [38400/60000 (64%)]\tLoss: 0.507421\n",
      "Train Epoch: 5 [57600/60000 (96%)]\tLoss: 0.310024\n",
      "\n",
      "Test set: Average loss: 0.5119, Accuracy: 7883/10000 (78.83%)\n",
      "\n",
      "Train Epoch: 6 [0/60000 (0%)]\tLoss: 0.338808\n",
      "Train Epoch: 6 [19200/60000 (32%)]\tLoss: 0.384196\n",
      "Train Epoch: 6 [38400/60000 (64%)]\tLoss: 0.394502\n",
      "Train Epoch: 6 [57600/60000 (96%)]\tLoss: 0.382196\n",
      "\n",
      "Test set: Average loss: 0.4619, Accuracy: 8178/10000 (81.78%)\n",
      "\n",
      "Train Epoch: 7 [0/60000 (0%)]\tLoss: 0.435725\n",
      "Train Epoch: 7 [19200/60000 (32%)]\tLoss: 0.214953\n",
      "Train Epoch: 7 [38400/60000 (64%)]\tLoss: 0.317955\n",
      "Train Epoch: 7 [57600/60000 (96%)]\tLoss: 0.537848\n",
      "\n",
      "Test set: Average loss: 0.4430, Accuracy: 8219/10000 (82.19%)\n",
      "\n",
      "Train Epoch: 8 [0/60000 (0%)]\tLoss: 0.468289\n",
      "Train Epoch: 8 [19200/60000 (32%)]\tLoss: 0.333215\n",
      "Train Epoch: 8 [38400/60000 (64%)]\tLoss: 0.420050\n",
      "Train Epoch: 8 [57600/60000 (96%)]\tLoss: 0.448809\n",
      "\n",
      "Test set: Average loss: 0.4282, Accuracy: 8345/10000 (83.45%)\n",
      "\n",
      "Train Epoch: 9 [0/60000 (0%)]\tLoss: 0.363909\n",
      "Train Epoch: 9 [19200/60000 (32%)]\tLoss: 0.221742\n",
      "Train Epoch: 9 [38400/60000 (64%)]\tLoss: 0.328586\n",
      "Train Epoch: 9 [57600/60000 (96%)]\tLoss: 0.282612\n",
      "\n",
      "Test set: Average loss: 0.4233, Accuracy: 8357/10000 (83.57%)\n",
      "\n",
      "Train Epoch: 10 [0/60000 (0%)]\tLoss: 0.241536\n",
      "Train Epoch: 10 [19200/60000 (32%)]\tLoss: 0.384661\n",
      "Train Epoch: 10 [38400/60000 (64%)]\tLoss: 0.295528\n",
      "Train Epoch: 10 [57600/60000 (96%)]\tLoss: 0.522694\n",
      "\n",
      "Test set: Average loss: 0.4189, Accuracy: 8355/10000 (83.55%)\n",
      "\n"
     ]
    }
   ],
   "source": [
    "pred_labels = adversarial_phase(quad_model)"
   ]
  },
  {
   "cell_type": "markdown",
   "metadata": {},
   "source": [
    "### Discussion\n",
    "\n",
    "First, let's verify that the private model weights have not changed"
   ]
  },
  {
   "cell_type": "code",
   "execution_count": 20,
   "metadata": {},
   "outputs": [],
   "source": [
    "assert quad_param_norm == quad_model.proj1.weight.norm() + quad_model.diag1.weight.norm()"
   ]
  },
  {
   "cell_type": "markdown",
   "metadata": {},
   "source": [
    "Second, one could ask the difference with the setting where we put a CNN (the same) on top of the private network to learn family recognition in Part 3. The major difference is that in Part 3 we could modify the private network weights, while here we couldn't, and moreover the weights were optimised to perform a completely different task!"
   ]
  },
  {
   "cell_type": "markdown",
   "metadata": {},
   "source": [
    "Last, as this experiment shows, the prediction accuracy of the model is embarrassingly good! This shows that the information contained in the 26 neurons output is far more important than just information about characters. In particular, we can infer quite precisely information about the font of the original data.\n",
    "\n",
    "For the sake of curiosity, we build the confusion matrix of the predictor and compare it to the one with the QuadNet only the the one with the QuadNet + CNN (See Part3)."
   ]
  },
  {
   "cell_type": "code",
   "execution_count": 24,
   "metadata": {},
   "outputs": [
    {
     "data": {
      "image/png": "[encoded data removed]",
      "text/plain": [
       "<matplotlib.figure.Figure at 0x1a29ac1e48>"
      ]
     },
     "metadata": {},
     "output_type": "display_data"
    }
   ],
   "source": [
    "show_confusion_matrix(pred_labels, task='family')"
   ]
  },
  {
   "cell_type": "code",
   "execution_count": null,
   "metadata": {},
   "outputs": [],
   "source": []
  },
  {
   "cell_type": "code",
   "execution_count": null,
   "metadata": {},
   "outputs": [],
   "source": []
  }
 ],
 "metadata": {
  "kernelspec": {
   "display_name": "Python 3",
   "language": "python",
   "name": "python3"
  },
  "language_info": {
   "codemirror_mode": {
    "name": "ipython",
    "version": 3
   },
   "file_extension": ".py",
   "mimetype": "text/x-python",
   "name": "python",
   "nbconvert_exporter": "python",
   "pygments_lexer": "ipython3",
   "version": "3.6.4"
  }
 },
 "nbformat": 4,
 "nbformat_minor": 2
}
