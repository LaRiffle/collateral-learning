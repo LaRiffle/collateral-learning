{
 "cells": [
  {
   "cell_type": "markdown",
   "metadata": {},
   "source": [
    "# Functional Encryption - Classification and information leakage\n",
    "\n",
    "Our start point is the work on encrypted classification using Function Encryption of the paper [Reading in the Dark: Classifying Encrypted Digits with Functional Encryption](https://eprint.iacr.org/2018/206), and the associated [GitHub repository](https://github.com/edufoursans/reading-in-the-dark).\n",
    "\n",
    "More specifically, the paper provides a new Functional Encryption scheme for quadratic multi-variate polynomials, which can under some hypothesis be seen as a single hidden layer neural network with a quadratic activation.\n",
    "In the paper, the output corresponds to element per class, and it is made in clear. We analyse how this output can disclose information about the initial input or about charasteristics of this input.\n",
    "\n",
    "To this aim, we have just built a dataset which is very similar to MNIST, used in the original paper but which is composed of 26 letter characters of 5 differents fonts. Our goal is two-fold:\n",
    " - Evaluate how the output in clear can be leverage with a public NN to make better prediction than a simple `argmax` function in the character recognition task.\n",
    " - Analyse to what extent the output in clear of the model trained for character recognition can reveal information about the font used, using an \"adversarial\" network.\n",
    " \n",
    " \n",
    "### Purpose\n",
    "\n",
    "We will now reduce the number of outputs of the private quadratic model to this how the accuracy on the main and on the collateral learning tasks evolves. To do this, we will add a CNN on top of the private NN also for the main task (here character recognition)."
   ]
  },
  {
   "cell_type": "code",
   "execution_count": 1,
   "metadata": {},
   "outputs": [],
   "source": [
    "FORCE_RETRAIN = False  # Should you retrain models that you already trained and stored.\n",
    "# Set it to True if you change of model."
   ]
  },
  {
   "cell_type": "markdown",
   "metadata": {},
   "source": [
    "# 1. Main task\n"
   ]
  },
  {
   "cell_type": "markdown",
   "metadata": {},
   "source": [
    "We will use the code directly from the repo, to make the notebook more readable. Functions are similar to those presented earlier."
   ]
  },
  {
   "cell_type": "code",
   "execution_count": 2,
   "metadata": {},
   "outputs": [],
   "source": [
    "# Allow to load packages from parent\n",
    "import sys, os\n",
    "sys.path.insert(1, os.path.realpath(os.path.pardir))"
   ]
  },
  {
   "cell_type": "code",
   "execution_count": 3,
   "metadata": {},
   "outputs": [],
   "source": [
    "import torch\n",
    "import torch.nn as nn\n",
    "import torch.nn.functional as F\n",
    "import torch.utils.data as utils\n",
    "\n",
    "import learn\n",
    "from learn import main, train, test, show_results, get_test_loader"
   ]
  },
  {
   "cell_type": "code",
   "execution_count": 4,
   "metadata": {},
   "outputs": [],
   "source": [
    "OUT_SIZE_RANGE = [2, 4, 8, 16, 26] # range of size of output for the private quadratic part\n",
    "PREC_FRAC = 3 # precision fractional parameter for the fixed precision\n",
    "\n",
    "class Parser:\n",
    "    \"\"\"Parameters for the training\"\"\"\n",
    "    def __init__(self):\n",
    "        self.epochs = 20\n",
    "        self.lr = 0.002\n",
    "        self.momentum = 0.5\n",
    "        self.test_batch_size = 1000\n",
    "        self.batch_size = 64\n",
    "        self.log_interval = 300"
   ]
  },
  {
   "cell_type": "markdown",
   "metadata": {},
   "source": [
    "Let's define the quadratic model with its CNN part."
   ]
  },
  {
   "cell_type": "code",
   "execution_count": 5,
   "metadata": {},
   "outputs": [],
   "source": [
    "class QuadConvNet(nn.Module):\n",
    "    def __init__(self, private_output_size, output_size):\n",
    "        super(QuadConvNet, self).__init__()\n",
    "        self.proj1 = nn.Linear(784, 50)\n",
    "        self.diag1 = nn.Linear(50, private_output_size)\n",
    "        \n",
    "        # --- Junction\n",
    "        self.jct = nn.Linear(private_output_size, 784)\n",
    "        \n",
    "        # --- CNN\n",
    "        self.conv1 = nn.Conv2d(1, 20, 5, 1)\n",
    "        self.conv2 = nn.Conv2d(20, 50, 5, 1)\n",
    "        self.fc1 = nn.Linear(4*4*50, 500)\n",
    "        self.fc2 = nn.Linear(500, output_size)\n",
    "\n",
    "    def forward(self, x):\n",
    "        # -- Private Quad\n",
    "        x = x.view(-1, 784)\n",
    "        x = self.proj1(x)\n",
    "        x = x * x\n",
    "        x = self.diag1(x)\n",
    "        \n",
    "        # --- Junction\n",
    "        x = self.jct(x)\n",
    "        x = x.view(-1, 1, 28, 28)\n",
    "        \n",
    "        # --- CNN\n",
    "        x = F.relu(self.conv1(x))\n",
    "        x = F.max_pool2d(x, 2, 2)\n",
    "        x = F.relu(self.conv2(x))\n",
    "        x = F.max_pool2d(x, 2, 2)\n",
    "        x = x.view(-1, 4*4*50)\n",
    "        x = F.relu(self.fc1(x))\n",
    "        x = self.fc2(x)\n",
    "        return F.log_softmax(x, dim=1)\n",
    "    \n",
    "    def transform(self, x):\n",
    "        \"\"\"Same as forward up to the junction part\n",
    "        Used for the collateral training\"\"\"\n",
    "        x = x.view(-1, 784)\n",
    "        x = self.proj1(x)\n",
    "        x = x * x\n",
    "        x = self.diag1(x)\n",
    "        return x\n",
    "    \n",
    "    def fixp_forward(self, x, precision_fractional):\n",
    "        \"\"\"Like forward but with the private part converted in fixed precision\"\"\"\n",
    "        # -- Private Quad\n",
    "        self.private_fix_precision_(precision_fractional)  # <-- New\n",
    "        x.fix_precision_(precision_fractional)  # <-- New\n",
    "        x = x.view(-1, 784)\n",
    "        x = self.proj1(x)\n",
    "        x = x * x\n",
    "        x = self.diag1(x)\n",
    "        x.float_precision_()  # <-- New\n",
    "        self.private_float_precision_()  # <-- New\n",
    "        \n",
    "        # --- Junction\n",
    "        x = self.jct(x)\n",
    "        x = x.view(-1, 1, 28, 28)\n",
    "        \n",
    "        # --- CNN\n",
    "        x = F.relu(self.conv1(x))\n",
    "        x = F.max_pool2d(x, 2, 2)\n",
    "        x = F.relu(self.conv2(x))\n",
    "        x = F.max_pool2d(x, 2, 2)\n",
    "        x = x.view(-1, 4*4*50)\n",
    "        x = F.relu(self.fc1(x))\n",
    "        x = self.fc2(x)\n",
    "        return F.log_softmax(x, dim=1)\n",
    "    \n",
    "    def private_fix_precision_(self, precision_fractional):\n",
    "        \"\"\"Perform fix_precision_() just on the private / quad parameters\"\"\"\n",
    "        self.proj1.bias.fix_precision_(precision_fractional=precision_fractional)\n",
    "        self.proj1.weight.fix_precision_(precision_fractional=precision_fractional)\n",
    "        self.diag1.bias.fix_precision_(precision_fractional=precision_fractional)\n",
    "        self.diag1.weight.fix_precision_(precision_fractional=precision_fractional)\n",
    "        \n",
    "    def private_float_precision_(self):\n",
    "        \"\"\"Perform float_precision_() just on the private / quad parameters\"\"\"\n",
    "        self.proj1.bias.float_precision_()\n",
    "        self.proj1.weight.float_precision_()\n",
    "        self.diag1.bias.float_precision_()\n",
    "        self.diag1.weight.float_precision_()\n",
    "        \n",
    "        "
   ]
  },
  {
   "cell_type": "code",
   "execution_count": 6,
   "metadata": {},
   "outputs": [
    {
     "name": "stdout",
     "output_type": "stream",
     "text": [
      "Training set 60000 items\n",
      "Testing set  10000 items\n",
      "\n",
      "Test set: Average loss: 0.9871, Accuracy: 6757/10000 (67.57%)\n",
      "\n",
      "Training set 60000 items\n",
      "Testing set  10000 items\n",
      "\n",
      "Test set: Average loss: 0.3897, Accuracy: 8788/10000 (87.88%)\n",
      "\n",
      "Training set 60000 items\n",
      "Testing set  10000 items\n",
      "\n",
      "Test set: Average loss: 0.1227, Accuracy: 9620/10000 (96.20%)\n",
      "\n",
      "Training set 60000 items\n",
      "Testing set  10000 items\n",
      "\n",
      "Test set: Average loss: 0.1081, Accuracy: 9661/10000 (96.61%)\n",
      "\n",
      "Training set 60000 items\n",
      "Testing set  10000 items\n",
      "\n",
      "Test set: Average loss: 0.1060, Accuracy: 9656/10000 (96.56%)\n",
      "\n"
     ]
    }
   ],
   "source": [
    "def get_label(private_output_size):\n",
    "    return f'QuadConvNet priv_out_size = {private_output_size}'\n",
    "\n",
    "results = {}\n",
    "quadconv_models = {}\n",
    "for private_output_size in OUT_SIZE_RANGE:\n",
    "    label = get_label(private_output_size)\n",
    "    quadconv_model = QuadConvNet(private_output_size, 26)\n",
    "    path = f'../data/models/part7/{label}.pt'\n",
    "    if not FORCE_RETRAIN:\n",
    "        try:\n",
    "            quadconv_model.load_state_dict(torch.load(path))\n",
    "            quadconv_model.eval()\n",
    "            args = Parser()\n",
    "            test_loader = get_test_loader(args)\n",
    "            acc = test(args=args, model=quadconv_model, test_loader=test_loader)\n",
    "            results[label] = [acc] * args.epochs\n",
    "        except FileNotFoundError:\n",
    "            FORCE_RETRAIN = True\n",
    "    \n",
    "    if FORCE_RETRAIN:\n",
    "        results[label] = main(\n",
    "            model=quadconv_model, args=Parser(), model_type='quad', task='char'\n",
    "        )\n",
    "        torch.save(quadconv_model.state_dict(), path)\n",
    "    quadconv_models[label] = quadconv_model\n"
   ]
  },
  {
   "cell_type": "markdown",
   "metadata": {},
   "source": [
    "### Result\n",
    "The correlation between the size of the ouput and the accuracy is clear (TODO: minimal size of output)"
   ]
  },
  {
   "cell_type": "code",
   "execution_count": 7,
   "metadata": {},
   "outputs": [
    {
     "data": {
      "image/png": "[encoded data removed]",
      "text/plain": [
       "<matplotlib.figure.Figure at 0x1a2d7ea320>"
      ]
     },
     "metadata": {},
     "output_type": "display_data"
    }
   ],
   "source": [
    "show_results(results, 'Quadratic models with CNN part depending on the quadratic output size', ymin=40)"
   ]
  },
  {
   "cell_type": "markdown",
   "metadata": {},
   "source": [
    "## Evaluation of models in fixed_precision\n",
    "We again check that the performance remain similair between the float and the fixed precision model"
   ]
  },
  {
   "cell_type": "code",
   "execution_count": 8,
   "metadata": {},
   "outputs": [],
   "source": [
    "import syft as sy\n",
    "hook = sy.TorchHook(torch)"
   ]
  },
  {
   "cell_type": "code",
   "execution_count": 9,
   "metadata": {},
   "outputs": [],
   "source": [
    "def fixp_test(model, test_loader):\n",
    "    test_loss = 0\n",
    "    correct = 0\n",
    "    with torch.no_grad():\n",
    "        for data, target in test_loader:\n",
    "            output = model.fixp_forward(data, PREC_FRAC) # <-- forward call with the private part in fixed precision\n",
    "            test_loss += F.nll_loss(output, target, reduction='sum').item()  \n",
    "            pred = output.argmax(1, keepdim=True) \n",
    "            correct += pred.eq(target.view_as(pred)).sum().item()\n",
    "\n",
    "    test_loss /= len(test_loader.dataset)\n",
    "\n",
    "    acc = 100. * correct / len(test_loader.dataset)\n",
    "    print('\\nTest set: Average loss: {:.4f}, Accuracy: {}/{} ({:.2f}%)\\n'.format(\n",
    "        test_loss, correct, len(test_loader.dataset), acc))\n",
    "    \n",
    "    return [acc]\n",
    "\n"
   ]
  },
  {
   "cell_type": "markdown",
   "metadata": {},
   "source": [
    "Get the data we didn't load earlier"
   ]
  },
  {
   "cell_type": "code",
   "execution_count": 10,
   "metadata": {},
   "outputs": [
    {
     "name": "stdout",
     "output_type": "stream",
     "text": [
      "Training set 60000 items\n",
      "Testing set  10000 items\n"
     ]
    }
   ],
   "source": [
    "data = learn.load_data()\n",
    "train_data, train_target_char, train_target_family, test_data, test_target_char, test_target_family = data\n",
    "test_target = test_target_char\n",
    "test_dataset = learn.build_tensor_dataset(test_data, test_target)"
   ]
  },
  {
   "cell_type": "markdown",
   "metadata": {},
   "source": [
    "Launch a test estimation on each model where the quadratic part is set in fixed precision"
   ]
  },
  {
   "cell_type": "code",
   "execution_count": 11,
   "metadata": {
    "scrolled": true
   },
   "outputs": [
    {
     "name": "stderr",
     "output_type": "stream",
     "text": [
      "/Users/ryffel/Documents/Code/PySyft/syft/frameworks/torch/tensors/interpreters/native.py:194: UserWarning: Implicit dimension choice for log_softmax has been deprecated. Change the call to include dim=X as an argument.\n",
      "  response = eval(cmd)(*args)\n"
     ]
    },
    {
     "name": "stdout",
     "output_type": "stream",
     "text": [
      "\n",
      "Test set: Average loss: 0.0010, Accuracy: 6754/10000 (67.54%)\n",
      "\n",
      "Acc [67.54] QuadConvNet priv_out_size = 2\n",
      "\n",
      "Test set: Average loss: 0.0004, Accuracy: 8789/10000 (87.89%)\n",
      "\n",
      "Acc [87.89] QuadConvNet priv_out_size = 4\n",
      "\n",
      "Test set: Average loss: 0.0001, Accuracy: 9620/10000 (96.20%)\n",
      "\n",
      "Acc [96.2] QuadConvNet priv_out_size = 8\n",
      "\n",
      "Test set: Average loss: 0.0001, Accuracy: 9660/10000 (96.60%)\n",
      "\n",
      "Acc [96.6] QuadConvNet priv_out_size = 16\n",
      "\n",
      "Test set: Average loss: 0.0001, Accuracy: 9656/10000 (96.56%)\n",
      "\n",
      "Acc [96.56] QuadConvNet priv_out_size = 26\n"
     ]
    }
   ],
   "source": [
    "args = Parser()\n",
    "for private_output_size in OUT_SIZE_RANGE:\n",
    "    label = get_label(private_output_size)\n",
    "    quadconv_model = quadconv_models[label] # retrieve the model\n",
    "    quadconv_model.eval()\n",
    "    test_loader = utils.DataLoader(\n",
    "        test_dataset,\n",
    "        batch_size=args.test_batch_size, shuffle=True\n",
    "    )\n",
    "    acc = fixp_test(quadconv_model, test_loader)\n",
    "    results[f'Fix prec. {label}'] = acc * len(results[label])\n",
    "    print('Acc', acc, label)"
   ]
  },
  {
   "cell_type": "markdown",
   "metadata": {},
   "source": [
    "### Comparison between fixed precision and float models"
   ]
  },
  {
   "cell_type": "code",
   "execution_count": 12,
   "metadata": {},
   "outputs": [
    {
     "data": {
      "image/png": "[encoded data removed]",
      "text/plain": [
       "<matplotlib.figure.Figure at 0x1a350501d0>"
      ]
     },
     "metadata": {},
     "output_type": "display_data"
    }
   ],
   "source": [
    "show_results(results, 'Comparison between fixed precision and float models', ymin=55)"
   ]
  },
  {
   "cell_type": "markdown",
   "metadata": {},
   "source": [
    "#  2. Collateral task"
   ]
  },
  {
   "cell_type": "markdown",
   "metadata": {},
   "source": [
    "We will copy the parameters of the quadratic part of the QuadConvNets in a simple QuadNet to be closer to what we did in Part 4."
   ]
  },
  {
   "cell_type": "code",
   "execution_count": 13,
   "metadata": {},
   "outputs": [],
   "source": [
    "class QuadNet(nn.Module):\n",
    "    def __init__(self, output_size):\n",
    "        super(QuadNet, self).__init__()\n",
    "        self.proj1 = nn.Linear(784, 50)\n",
    "        self.diag1 = nn.Linear(50, output_size)\n",
    "\n",
    "    def forward(self, x):\n",
    "        x = x.view(-1, 784)\n",
    "        x = self.proj1(x)\n",
    "        x = x * x\n",
    "        x = self.diag1(x)\n",
    "        return F.log_softmax(x, dim=1)\n",
    "    \n",
    "    def transform(self, x):\n",
    "        \"\"\"Same as forward but without the log_softmax\"\"\"\n",
    "        x = x.view(-1, 784)\n",
    "        x = self.proj1(x)\n",
    "        x = x * x\n",
    "        x = self.diag1(x)\n",
    "        return x\n",
    "    \n",
    "    def feed(self, quad_conv_net):\n",
    "        \"\"\"Copy the weights of the QuadConvNet\"\"\"\n",
    "        self.proj1.bias = nn.Parameter(quad_conv_net.proj1.bias.clone())\n",
    "        self.proj1.weight = nn.Parameter(quad_conv_net.proj1.weight.clone())\n",
    "        self.diag1.bias = nn.Parameter(quad_conv_net.diag1.bias.clone())\n",
    "        self.diag1.weight = nn.Parameter(quad_conv_net.diag1.weight.clone())"
   ]
  },
  {
   "cell_type": "markdown",
   "metadata": {},
   "source": [
    "## Setting up the adversarial task\n",
    "\n",
    "We will now use the output of the trained baseline model which is freezed as an input of another model called the `collateral_model` which will try to predict on another task, namely the family recognition.\n",
    "We will use function from our library which are very close to the one seen in Part 4."
   ]
  },
  {
   "cell_type": "code",
   "execution_count": 14,
   "metadata": {},
   "outputs": [],
   "source": [
    "from learn.collateral import collateral_task"
   ]
  },
  {
   "cell_type": "code",
   "execution_count": 15,
   "metadata": {},
   "outputs": [],
   "source": [
    "class CollateralCNN(nn.Module):\n",
    "    def __init__(self, input_size, output_size):\n",
    "        super(CollateralCNN, self).__init__()\n",
    "        self.lin1 = nn.Linear(input_size, 784)\n",
    "        self.conv1 = nn.Conv2d(1, 20, 5, 1)\n",
    "        self.conv2 = nn.Conv2d(20, 50, 5, 1)\n",
    "        self.fc1 = nn.Linear(4*4*50, 500)\n",
    "        self.fc2 = nn.Linear(500, output_size)\n",
    "\n",
    "    def forward(self, x):\n",
    "        x = self.lin1(x)\n",
    "        x = x.view(-1, 1, 28, 28)\n",
    "        x = F.relu(self.conv1(x))\n",
    "        x = F.max_pool2d(x, 2, 2)\n",
    "        x = F.relu(self.conv2(x))\n",
    "        x = F.max_pool2d(x, 2, 2)\n",
    "        x = x.view(-1, 4*4*50)\n",
    "        x = F.relu(self.fc1(x))\n",
    "        x = self.fc2(x)\n",
    "        return F.log_softmax(x, dim=1)"
   ]
  },
  {
   "cell_type": "code",
   "execution_count": 18,
   "metadata": {},
   "outputs": [
    {
     "name": "stdout",
     "output_type": "stream",
     "text": [
      "Training set 60000 items\n",
      "Testing set  10000 items\n"
     ]
    },
    {
     "name": "stderr",
     "output_type": "stream",
     "text": [
      "/Users/ryffel/Documents/Code/PySyft/syft/frameworks/torch/tensors/interpreters/native.py:194: UserWarning: Implicit dimension choice for log_softmax has been deprecated. Change the call to include dim=X as an argument.\n",
      "  response = eval(cmd)(*args)\n"
     ]
    },
    {
     "name": "stdout",
     "output_type": "stream",
     "text": [
      "Train Epoch: 1 [0/60000 (0%)]\tLoss: 3.821211\n",
      "Train Epoch: 1 [19200/60000 (32%)]\tLoss: 1.493250\n",
      "Train Epoch: 1 [38400/60000 (64%)]\tLoss: 1.416878\n",
      "Train Epoch: 1 [57600/60000 (96%)]\tLoss: 1.233757\n",
      "\n",
      "Test set: Average loss: 0.0013, Accuracy: 4550/10000 (45.50%)\n",
      "\n",
      "Train Epoch: 2 [0/60000 (0%)]\tLoss: 1.244986\n",
      "Train Epoch: 2 [19200/60000 (32%)]\tLoss: 1.207846\n",
      "Train Epoch: 2 [38400/60000 (64%)]\tLoss: 1.125212\n",
      "Train Epoch: 2 [57600/60000 (96%)]\tLoss: 1.079855\n",
      "\n",
      "Test set: Average loss: 0.0011, Accuracy: 5443/10000 (54.43%)\n",
      "\n",
      "Train Epoch: 3 [0/60000 (0%)]\tLoss: 1.107322\n",
      "Train Epoch: 3 [19200/60000 (32%)]\tLoss: 1.067610\n",
      "Train Epoch: 3 [38400/60000 (64%)]\tLoss: 0.926968\n",
      "Train Epoch: 3 [57600/60000 (96%)]\tLoss: 0.918141\n",
      "\n",
      "Test set: Average loss: 0.0010, Accuracy: 5830/10000 (58.30%)\n",
      "\n",
      "Train Epoch: 4 [0/60000 (0%)]\tLoss: 1.063862\n",
      "Train Epoch: 4 [19200/60000 (32%)]\tLoss: 0.845083\n",
      "Train Epoch: 4 [38400/60000 (64%)]\tLoss: 0.904375\n",
      "Train Epoch: 4 [57600/60000 (96%)]\tLoss: 0.818335\n",
      "\n",
      "Test set: Average loss: 0.0009, Accuracy: 6160/10000 (61.60%)\n",
      "\n",
      "Train Epoch: 5 [0/60000 (0%)]\tLoss: 0.785465\n",
      "Train Epoch: 5 [19200/60000 (32%)]\tLoss: 0.783688\n",
      "Train Epoch: 5 [38400/60000 (64%)]\tLoss: 0.860503\n",
      "Train Epoch: 5 [57600/60000 (96%)]\tLoss: 1.032208\n",
      "\n",
      "Test set: Average loss: 0.0009, Accuracy: 6275/10000 (62.75%)\n",
      "\n",
      "Train Epoch: 6 [0/60000 (0%)]\tLoss: 0.947139\n",
      "Train Epoch: 6 [19200/60000 (32%)]\tLoss: 0.829454\n",
      "Train Epoch: 6 [38400/60000 (64%)]\tLoss: 0.796072\n",
      "Train Epoch: 6 [57600/60000 (96%)]\tLoss: 0.832104\n",
      "\n",
      "Test set: Average loss: 0.0010, Accuracy: 6108/10000 (61.08%)\n",
      "\n",
      "Train Epoch: 7 [0/60000 (0%)]\tLoss: 1.164895\n",
      "Train Epoch: 7 [19200/60000 (32%)]\tLoss: 0.927520\n",
      "Train Epoch: 7 [38400/60000 (64%)]\tLoss: 0.674119\n",
      "Train Epoch: 7 [57600/60000 (96%)]\tLoss: 0.808325\n",
      "\n",
      "Test set: Average loss: 0.0008, Accuracy: 6587/10000 (65.87%)\n",
      "\n",
      "Train Epoch: 8 [0/60000 (0%)]\tLoss: 0.879710\n",
      "Train Epoch: 8 [19200/60000 (32%)]\tLoss: 0.679881\n",
      "Train Epoch: 8 [38400/60000 (64%)]\tLoss: 0.728419\n",
      "Train Epoch: 8 [57600/60000 (96%)]\tLoss: 0.774857\n",
      "\n",
      "Test set: Average loss: 0.0008, Accuracy: 6655/10000 (66.55%)\n",
      "\n",
      "Train Epoch: 9 [0/60000 (0%)]\tLoss: 0.852819\n",
      "Train Epoch: 9 [19200/60000 (32%)]\tLoss: 0.512936\n",
      "Train Epoch: 9 [38400/60000 (64%)]\tLoss: 0.829079\n",
      "Train Epoch: 9 [57600/60000 (96%)]\tLoss: 0.856672\n",
      "\n",
      "Test set: Average loss: 0.0008, Accuracy: 6805/10000 (68.05%)\n",
      "\n",
      "Train Epoch: 10 [0/60000 (0%)]\tLoss: 0.801288\n",
      "Train Epoch: 10 [19200/60000 (32%)]\tLoss: 0.803160\n",
      "Train Epoch: 10 [38400/60000 (64%)]\tLoss: 0.792920\n",
      "Train Epoch: 10 [57600/60000 (96%)]\tLoss: 0.509443\n",
      "\n",
      "Test set: Average loss: 0.0007, Accuracy: 7154/10000 (71.54%)\n",
      "\n",
      "Train Epoch: 11 [0/60000 (0%)]\tLoss: 0.493960\n",
      "Train Epoch: 11 [19200/60000 (32%)]\tLoss: 0.776403\n",
      "Train Epoch: 11 [38400/60000 (64%)]\tLoss: 0.383046\n",
      "Train Epoch: 11 [57600/60000 (96%)]\tLoss: 0.737819\n",
      "\n",
      "Test set: Average loss: 0.0007, Accuracy: 6954/10000 (69.54%)\n",
      "\n",
      "Train Epoch: 12 [0/60000 (0%)]\tLoss: 0.582526\n",
      "Train Epoch: 12 [19200/60000 (32%)]\tLoss: 0.494407\n",
      "Train Epoch: 12 [38400/60000 (64%)]\tLoss: 0.705317\n",
      "Train Epoch: 12 [57600/60000 (96%)]\tLoss: 0.521954\n",
      "\n",
      "Test set: Average loss: 0.0007, Accuracy: 7024/10000 (70.24%)\n",
      "\n",
      "Train Epoch: 13 [0/60000 (0%)]\tLoss: 0.528389\n",
      "Train Epoch: 13 [19200/60000 (32%)]\tLoss: 0.664297\n",
      "Train Epoch: 13 [38400/60000 (64%)]\tLoss: 0.584911\n",
      "Train Epoch: 13 [57600/60000 (96%)]\tLoss: 0.621994\n",
      "\n",
      "Test set: Average loss: 0.0007, Accuracy: 7226/10000 (72.26%)\n",
      "\n",
      "Train Epoch: 14 [0/60000 (0%)]\tLoss: 0.566852\n",
      "Train Epoch: 14 [19200/60000 (32%)]\tLoss: 0.437728\n",
      "Train Epoch: 14 [38400/60000 (64%)]\tLoss: 0.612185\n",
      "Train Epoch: 14 [57600/60000 (96%)]\tLoss: 0.444594\n",
      "\n",
      "Test set: Average loss: 0.0007, Accuracy: 7110/10000 (71.10%)\n",
      "\n",
      "Train Epoch: 15 [0/60000 (0%)]\tLoss: 0.726852\n",
      "Train Epoch: 15 [19200/60000 (32%)]\tLoss: 0.555407\n",
      "Train Epoch: 15 [38400/60000 (64%)]\tLoss: 0.406782\n",
      "Train Epoch: 15 [57600/60000 (96%)]\tLoss: 0.591298\n",
      "\n",
      "Test set: Average loss: 0.0007, Accuracy: 7286/10000 (72.86%)\n",
      "\n",
      "Train Epoch: 16 [0/60000 (0%)]\tLoss: 0.541754\n",
      "Train Epoch: 16 [19200/60000 (32%)]\tLoss: 0.452750\n",
      "Train Epoch: 16 [38400/60000 (64%)]\tLoss: 0.480874\n",
      "Train Epoch: 16 [57600/60000 (96%)]\tLoss: 0.610636\n",
      "\n",
      "Test set: Average loss: 0.0006, Accuracy: 7425/10000 (74.25%)\n",
      "\n",
      "Train Epoch: 17 [0/60000 (0%)]\tLoss: 0.643153\n",
      "Train Epoch: 17 [19200/60000 (32%)]\tLoss: 0.435309\n",
      "Train Epoch: 17 [38400/60000 (64%)]\tLoss: 0.452636\n",
      "Train Epoch: 17 [57600/60000 (96%)]\tLoss: 0.604488\n",
      "\n",
      "Test set: Average loss: 0.0007, Accuracy: 7344/10000 (73.44%)\n",
      "\n",
      "Train Epoch: 18 [0/60000 (0%)]\tLoss: 0.651082\n",
      "Train Epoch: 18 [19200/60000 (32%)]\tLoss: 0.399230\n",
      "Train Epoch: 18 [38400/60000 (64%)]\tLoss: 0.527504\n",
      "Train Epoch: 18 [57600/60000 (96%)]\tLoss: 0.526987\n",
      "\n",
      "Test set: Average loss: 0.0006, Accuracy: 7445/10000 (74.45%)\n",
      "\n",
      "Train Epoch: 19 [0/60000 (0%)]\tLoss: 0.340671\n",
      "Train Epoch: 19 [19200/60000 (32%)]\tLoss: 0.307798\n",
      "Train Epoch: 19 [38400/60000 (64%)]\tLoss: 0.345927\n",
      "Train Epoch: 19 [57600/60000 (96%)]\tLoss: 0.354281\n",
      "\n",
      "Test set: Average loss: 0.0007, Accuracy: 7297/10000 (72.97%)\n",
      "\n",
      "Train Epoch: 20 [0/60000 (0%)]\tLoss: 0.502492\n",
      "Train Epoch: 20 [19200/60000 (32%)]\tLoss: 0.449259\n",
      "Train Epoch: 20 [38400/60000 (64%)]\tLoss: 0.473340\n",
      "Train Epoch: 20 [57600/60000 (96%)]\tLoss: 0.479001\n",
      "\n",
      "Test set: Average loss: 0.0006, Accuracy: 7531/10000 (75.31%)\n",
      "\n",
      "Training set 60000 items\n",
      "Testing set  10000 items\n",
      "Train Epoch: 1 [0/60000 (0%)]\tLoss: 3.599430\n",
      "Train Epoch: 1 [19200/60000 (32%)]\tLoss: 1.418060\n",
      "Train Epoch: 1 [38400/60000 (64%)]\tLoss: 1.210964\n",
      "Train Epoch: 1 [57600/60000 (96%)]\tLoss: 1.388805\n",
      "\n",
      "Test set: Average loss: 0.0012, Accuracy: 4929/10000 (49.29%)\n",
      "\n",
      "Train Epoch: 2 [0/60000 (0%)]\tLoss: 1.201266\n",
      "Train Epoch: 2 [19200/60000 (32%)]\tLoss: 1.136029\n",
      "Train Epoch: 2 [38400/60000 (64%)]\tLoss: 1.099893\n",
      "Train Epoch: 2 [57600/60000 (96%)]\tLoss: 0.952709\n",
      "\n",
      "Test set: Average loss: 0.0011, Accuracy: 5278/10000 (52.78%)\n",
      "\n",
      "Train Epoch: 3 [0/60000 (0%)]\tLoss: 1.282154\n",
      "Train Epoch: 3 [19200/60000 (32%)]\tLoss: 1.028724\n",
      "Train Epoch: 3 [38400/60000 (64%)]\tLoss: 0.965068\n",
      "Train Epoch: 3 [57600/60000 (96%)]\tLoss: 0.810241\n",
      "\n",
      "Test set: Average loss: 0.0009, Accuracy: 6219/10000 (62.19%)\n",
      "\n",
      "Train Epoch: 4 [0/60000 (0%)]\tLoss: 0.941699\n",
      "Train Epoch: 4 [19200/60000 (32%)]\tLoss: 1.091933\n",
      "Train Epoch: 4 [38400/60000 (64%)]\tLoss: 0.733926\n",
      "Train Epoch: 4 [57600/60000 (96%)]\tLoss: 0.801046\n",
      "\n",
      "Test set: Average loss: 0.0009, Accuracy: 6243/10000 (62.43%)\n",
      "\n",
      "Train Epoch: 5 [0/60000 (0%)]\tLoss: 0.734827\n",
      "Train Epoch: 5 [19200/60000 (32%)]\tLoss: 0.896122\n",
      "Train Epoch: 5 [38400/60000 (64%)]\tLoss: 0.854124\n",
      "Train Epoch: 5 [57600/60000 (96%)]\tLoss: 0.621869\n",
      "\n",
      "Test set: Average loss: 0.0008, Accuracy: 6771/10000 (67.71%)\n",
      "\n",
      "Train Epoch: 6 [0/60000 (0%)]\tLoss: 0.726701\n",
      "Train Epoch: 6 [19200/60000 (32%)]\tLoss: 0.674274\n",
      "Train Epoch: 6 [38400/60000 (64%)]\tLoss: 0.749900\n",
      "Train Epoch: 6 [57600/60000 (96%)]\tLoss: 0.808810\n",
      "\n",
      "Test set: Average loss: 0.0008, Accuracy: 6584/10000 (65.84%)\n",
      "\n",
      "Train Epoch: 7 [0/60000 (0%)]\tLoss: 0.804186\n",
      "Train Epoch: 7 [19200/60000 (32%)]\tLoss: 0.768447\n",
      "Train Epoch: 7 [38400/60000 (64%)]\tLoss: 0.619231\n",
      "Train Epoch: 7 [57600/60000 (96%)]\tLoss: 0.680964\n",
      "\n",
      "Test set: Average loss: 0.0007, Accuracy: 7031/10000 (70.31%)\n",
      "\n",
      "Train Epoch: 8 [0/60000 (0%)]\tLoss: 0.645052\n",
      "Train Epoch: 8 [19200/60000 (32%)]\tLoss: 0.622830\n",
      "Train Epoch: 8 [38400/60000 (64%)]\tLoss: 0.593132\n",
      "Train Epoch: 8 [57600/60000 (96%)]\tLoss: 0.777531\n",
      "\n",
      "Test set: Average loss: 0.0008, Accuracy: 6690/10000 (66.90%)\n",
      "\n",
      "Train Epoch: 9 [0/60000 (0%)]\tLoss: 0.868655\n",
      "Train Epoch: 9 [19200/60000 (32%)]\tLoss: 0.590569\n",
      "Train Epoch: 9 [38400/60000 (64%)]\tLoss: 0.517473\n",
      "Train Epoch: 9 [57600/60000 (96%)]\tLoss: 0.710713\n",
      "\n",
      "Test set: Average loss: 0.0007, Accuracy: 7354/10000 (73.54%)\n",
      "\n",
      "Train Epoch: 10 [0/60000 (0%)]\tLoss: 0.537500\n",
      "Train Epoch: 10 [19200/60000 (32%)]\tLoss: 0.508195\n",
      "Train Epoch: 10 [38400/60000 (64%)]\tLoss: 0.595507\n",
      "Train Epoch: 10 [57600/60000 (96%)]\tLoss: 0.421855\n",
      "\n",
      "Test set: Average loss: 0.0007, Accuracy: 7366/10000 (73.66%)\n",
      "\n",
      "Train Epoch: 11 [0/60000 (0%)]\tLoss: 0.446667\n",
      "Train Epoch: 11 [19200/60000 (32%)]\tLoss: 0.587008\n",
      "Train Epoch: 11 [38400/60000 (64%)]\tLoss: 0.619149\n",
      "Train Epoch: 11 [57600/60000 (96%)]\tLoss: 0.601074\n",
      "\n",
      "Test set: Average loss: 0.0006, Accuracy: 7626/10000 (76.26%)\n",
      "\n",
      "Train Epoch: 12 [0/60000 (0%)]\tLoss: 0.453367\n",
      "Train Epoch: 12 [19200/60000 (32%)]\tLoss: 0.503695\n"
     ]
    },
    {
     "name": "stdout",
     "output_type": "stream",
     "text": [
      "Train Epoch: 12 [38400/60000 (64%)]\tLoss: 0.633699\n",
      "Train Epoch: 12 [57600/60000 (96%)]\tLoss: 0.555091\n",
      "\n",
      "Test set: Average loss: 0.0007, Accuracy: 7455/10000 (74.55%)\n",
      "\n",
      "Train Epoch: 13 [0/60000 (0%)]\tLoss: 0.667321\n",
      "Train Epoch: 13 [19200/60000 (32%)]\tLoss: 0.647235\n",
      "Train Epoch: 13 [38400/60000 (64%)]\tLoss: 0.612087\n",
      "Train Epoch: 13 [57600/60000 (96%)]\tLoss: 0.544608\n",
      "\n",
      "Test set: Average loss: 0.0006, Accuracy: 7474/10000 (74.74%)\n",
      "\n",
      "Train Epoch: 14 [0/60000 (0%)]\tLoss: 0.788787\n",
      "Train Epoch: 14 [19200/60000 (32%)]\tLoss: 0.585897\n",
      "Train Epoch: 14 [38400/60000 (64%)]\tLoss: 0.458476\n",
      "Train Epoch: 14 [57600/60000 (96%)]\tLoss: 0.631188\n",
      "\n",
      "Test set: Average loss: 0.0006, Accuracy: 7714/10000 (77.14%)\n",
      "\n",
      "Train Epoch: 15 [0/60000 (0%)]\tLoss: 0.535138\n",
      "Train Epoch: 15 [19200/60000 (32%)]\tLoss: 0.506887\n",
      "Train Epoch: 15 [38400/60000 (64%)]\tLoss: 0.384454\n",
      "Train Epoch: 15 [57600/60000 (96%)]\tLoss: 0.613687\n",
      "\n",
      "Test set: Average loss: 0.0007, Accuracy: 7346/10000 (73.46%)\n",
      "\n",
      "Train Epoch: 16 [0/60000 (0%)]\tLoss: 0.491599\n",
      "Train Epoch: 16 [19200/60000 (32%)]\tLoss: 0.399752\n",
      "Train Epoch: 16 [38400/60000 (64%)]\tLoss: 0.488287\n",
      "Train Epoch: 16 [57600/60000 (96%)]\tLoss: 0.501173\n",
      "\n",
      "Test set: Average loss: 0.0006, Accuracy: 7759/10000 (77.59%)\n",
      "\n",
      "Train Epoch: 17 [0/60000 (0%)]\tLoss: 0.356528\n",
      "Train Epoch: 17 [19200/60000 (32%)]\tLoss: 0.395521\n",
      "Train Epoch: 17 [38400/60000 (64%)]\tLoss: 0.434777\n",
      "Train Epoch: 17 [57600/60000 (96%)]\tLoss: 0.400955\n",
      "\n",
      "Test set: Average loss: 0.0006, Accuracy: 7631/10000 (76.31%)\n",
      "\n",
      "Train Epoch: 18 [0/60000 (0%)]\tLoss: 0.539733\n",
      "Train Epoch: 18 [19200/60000 (32%)]\tLoss: 0.374912\n",
      "Train Epoch: 18 [38400/60000 (64%)]\tLoss: 0.567078\n",
      "Train Epoch: 18 [57600/60000 (96%)]\tLoss: 0.399634\n",
      "\n",
      "Test set: Average loss: 0.0005, Accuracy: 7833/10000 (78.33%)\n",
      "\n",
      "Train Epoch: 19 [0/60000 (0%)]\tLoss: 0.282841\n",
      "Train Epoch: 19 [19200/60000 (32%)]\tLoss: 0.577403\n",
      "Train Epoch: 19 [38400/60000 (64%)]\tLoss: 0.319674\n",
      "Train Epoch: 19 [57600/60000 (96%)]\tLoss: 0.270847\n",
      "\n",
      "Test set: Average loss: 0.0005, Accuracy: 7870/10000 (78.70%)\n",
      "\n",
      "Train Epoch: 20 [0/60000 (0%)]\tLoss: 0.461286\n",
      "Train Epoch: 20 [19200/60000 (32%)]\tLoss: 0.369455\n",
      "Train Epoch: 20 [38400/60000 (64%)]\tLoss: 0.366738\n",
      "Train Epoch: 20 [57600/60000 (96%)]\tLoss: 0.333567\n",
      "\n",
      "Test set: Average loss: 0.0006, Accuracy: 7666/10000 (76.66%)\n",
      "\n"
     ]
    }
   ],
   "source": [
    "OUT_SIZE_RANGE = [2, 4, 8, 16, 26]\n",
    "args = Parser()\n",
    "\n",
    "for private_output_size in OUT_SIZE_RANGE: # TODO change range\n",
    "    label = get_label(private_output_size)\n",
    "    quadconv_model = quadconv_models[label] # retrieve the model\n",
    "    quadconv_model.eval()\n",
    "    quad_model = QuadNet(private_output_size)\n",
    "    quad_model.feed(quadconv_model) # Take the weights from the quadconv_model\n",
    "    quad_model.fix_precision() # Put the weights in fiex precision\n",
    "    collateral_model = CollateralCNN(input_size=private_output_size, output_size=26)\n",
    "    results[f'Collateral {label}'] = collateral_task(args, quad_model, collateral_model, PREC_FRAC)\n",
    "    \n",
    "    # TODO finish\n",
    "    path = f'../data/models/part7/Collateral {label}.pt'\n",
    "    if False:\n",
    "        if not FORCE_RETRAIN:\n",
    "            try:\n",
    "                model.load_state_dict(torch.load(path))\n",
    "                model.eval()\n",
    "                # TODO add test phase\n",
    "            except FileNotFoundError:\n",
    "                FORCE_RETRAIN = True\n",
    "\n",
    "        if FORCE_RETRAIN:\n",
    "            results[label] = main(\n",
    "                model=quadconv_model, args=Parser(), model_type='quad', task='char'\n",
    "            )\n",
    "            quadconv_models[label] = quadconv_model\n",
    "            torch.save(quadconv_model.state_dict(), path)"
   ]
  },
  {
   "cell_type": "markdown",
   "metadata": {},
   "source": [
    "Let's print the accuracy from the collateral models."
   ]
  },
  {
   "cell_type": "code",
   "execution_count": 22,
   "metadata": {},
   "outputs": [
    {
     "data": {
      "image/png": "[encoded data removed]",
      "text/plain": [
       "<matplotlib.figure.Figure at 0x1a307994a8>"
      ]
     },
     "metadata": {},
     "output_type": "display_data"
    }
   ],
   "source": [
    "collateral_results = {k: v for k, v in results.items() if 'Collateral ' in k}\n",
    "show_results(collateral_results, 'Collateral accuracy depending on private model output size', ymin=-8)"
   ]
  },
  {
   "cell_type": "markdown",
   "metadata": {},
   "source": [
    "#### Discussion\n",
    "\n",
    "We observe that the collateral learning performs a bit worse in the case we identified to be best in terms of size of the private output and accuracy in the main task, so when `private_output_size = 8`. Indeed we are closer from a 70% accuracy while we claim around 80% in the \"uncompressed\" scenario where `private_output_size = 26`.\n",
    "\n",
    "You may notice that in the case `private_output_size = 26` we have slightly different results than in part 6. The reason for this is that the Quad model that we use here is a bit different as it has been trained using a CNN on its output, while in Part 6 we only add the Quadratic part."
   ]
  },
  {
   "cell_type": "markdown",
   "metadata": {},
   "source": [
    "### Conclusion\n",
    "\n",
    "We have vasted interests to use a smaller private output size, because implementation is easier in Functional Encryption and the collateral learning is made harder.\n",
    "However, this technic is not sufficient to prevent from collateral learning in general. Some other techniques should be investigated."
   ]
  },
  {
   "cell_type": "code",
   "execution_count": null,
   "metadata": {},
   "outputs": [],
   "source": []
  }
 ],
 "metadata": {
  "kernelspec": {
   "display_name": "Python 3",
   "language": "python",
   "name": "python3"
  },
  "language_info": {
   "codemirror_mode": {
    "name": "ipython",
    "version": 3
   },
   "file_extension": ".py",
   "mimetype": "text/x-python",
   "name": "python",
   "nbconvert_exporter": "python",
   "pygments_lexer": "ipython3",
   "version": "3.6.8"
  }
 },
 "nbformat": 4,
 "nbformat_minor": 2
}
