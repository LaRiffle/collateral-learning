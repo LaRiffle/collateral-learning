{
 "cells": [
  {
   "cell_type": "markdown",
   "metadata": {},
   "source": [
    "# Functional Encryption - Classification and information leakage\n",
    "\n",
    " \n",
    "We do the same operation than in Part 9 with a model which has been more trained to resist against adversaries"
   ]
  },
  {
   "cell_type": "markdown",
   "metadata": {},
   "source": [
    "# 9 Converting the model to integers (Extended results)\n"
   ]
  },
  {
   "cell_type": "markdown",
   "metadata": {},
   "source": [
    "Load torch and syft packages"
   ]
  },
  {
   "cell_type": "code",
   "execution_count": 23,
   "metadata": {},
   "outputs": [],
   "source": [
    "# Allow to load packages from parent\n",
    "import sys, os\n",
    "sys.path.insert(1, os.path.realpath(os.path.pardir))"
   ]
  },
  {
   "cell_type": "code",
   "execution_count": 24,
   "metadata": {},
   "outputs": [],
   "source": [
    "import torch"
   ]
  },
  {
   "cell_type": "code",
   "execution_count": 25,
   "metadata": {},
   "outputs": [],
   "source": [
    "from math import log2, ceil\n",
    "\n",
    "import torch.nn as nn\n",
    "import torch.nn.functional as F\n",
    "import torch.utils.data as utils\n",
    "\n",
    "import learn\n",
    "from learn import collateral"
   ]
  },
  {
   "cell_type": "code",
   "execution_count": 26,
   "metadata": {},
   "outputs": [],
   "source": [
    "PRIVATE_OUTPUT_SIZE = 4\n",
    "N_CHARS = 10\n",
    "N_FONTS = 2"
   ]
  },
  {
   "cell_type": "code",
   "execution_count": null,
   "metadata": {},
   "outputs": [],
   "source": [
    "fonts = ['cursive', 'Georgia']\n",
    "letter = \"6\""
   ]
  },
  {
   "cell_type": "markdown",
   "metadata": {},
   "source": [
    "Let's load the quadratic model that we saved in Part 8! _Be sure that the path and file name match._"
   ]
  },
  {
   "cell_type": "code",
   "execution_count": 27,
   "metadata": {},
   "outputs": [],
   "source": [
    "class CollateralNet(nn.Module):\n",
    "    def __init__(self, private_output_size):\n",
    "        super(CollateralNet, self).__init__()\n",
    "        self.proj1 = nn.Linear(784, 40)\n",
    "        self.diag1 = nn.Linear(40, private_output_size, bias=False)\n",
    "\n",
    "        # --- FFN for characters\n",
    "        self.lin1 = nn.Linear(private_output_size, 32)\n",
    "        self.lin2 = nn.Linear(32, N_CHARS)\n",
    "\n",
    "        # --- Junction\n",
    "        self.jct = nn.Linear(private_output_size, 784)\n",
    "\n",
    "        # --- CNN for families\n",
    "        self.conv1 = nn.Conv2d(1, 20, 5, 1)\n",
    "        self.conv2 = nn.Conv2d(20, 50, 5, 1)\n",
    "        self.fc1 = nn.Linear(4 * 4 * 50, 500)\n",
    "        self.fc2 = nn.Linear(500, N_FONTS)\n",
    "        \n",
    "        # FFN for families\n",
    "        self.lin3 = nn.Linear(private_output_size, 64)\n",
    "        self.lin4 = nn.Linear(64, 32)\n",
    "        self.lin5 = nn.Linear(32, 16)\n",
    "        self.lin6 = nn.Linear(16, 8)\n",
    "        self.lin7 = nn.Linear(8, N_CHARS)\n",
    "\n",
    "    def quad(self, x):\n",
    "        # --- Quadratic\n",
    "        x = x.view(-1, 784)\n",
    "        x = self.proj1(x)\n",
    "        x = x * x\n",
    "        x = self.diag1(x)\n",
    "        return x\n",
    "\n",
    "    def char_net(self, x):\n",
    "        # --- FFN\n",
    "        x = F.relu(x)\n",
    "        x = F.relu(self.lin1(x))\n",
    "        x = self.lin2(x)\n",
    "        return x\n",
    "\n",
    "    def font_net(self, x):\n",
    "        # --- Junction\n",
    "        x = self.jct(x)\n",
    "        x = x.view(-1, 1, 28, 28)\n",
    "\n",
    "        # --- CNN\n",
    "        x = F.relu(self.conv1(x))\n",
    "        x = F.max_pool2d(x, 2, 2)\n",
    "        x = F.relu(self.conv2(x))\n",
    "        x = F.max_pool2d(x, 2, 2)\n",
    "        x = x.view(-1, 4 * 4 * 50)\n",
    "        x = F.relu(self.fc1(x))\n",
    "        x = self.fc2(x)\n",
    "        return x\n",
    "\n",
    "    def forward_char(self, x):\n",
    "        x = self.quad(x)\n",
    "        x = self.char_net(x)\n",
    "        return F.log_softmax(x, dim=1)\n",
    "\n",
    "    def forward_font(self, x):\n",
    "        x = self.quad(x)\n",
    "        x = self.font_net(x)\n",
    "        return F.log_softmax(x, dim=1)\n",
    "    \n",
    "    # We add the ability to freeze some layers to ensure that the collateral task does\n",
    "    # not modify the quadratic net\n",
    "    \n",
    "    def get_params(self, net):\n",
    "        \"\"\"Select the params for a given part of the net\"\"\"\n",
    "        if net == 'quad':\n",
    "            layers = [self.proj1, self.diag1]\n",
    "        elif net == 'char':\n",
    "            layers = [self.lin1, self.lin2]\n",
    "        elif net == 'font':\n",
    "            layers = [self.jct, self.fc1, self.fc2, self.conv1, self.conv2]\n",
    "        else:\n",
    "            raise AttributeError(f'{net} type not recognized')\n",
    "        params = [p for layer in layers for p in layer.parameters()]\n",
    "        return params\n",
    "\n",
    "    def freeze(self, net):\n",
    "        \"\"\"Freeze a part of the net\"\"\"\n",
    "        net_params = self.get_params(net)\n",
    "        for param in net_params:\n",
    "            param.requires_grad = False\n",
    "\n",
    "    def unfreeze(self):\n",
    "        \"\"\"Unfreeze the net\"\"\"\n",
    "        for param in self.parameters():\n",
    "            param.requires_grad = True"
   ]
  },
  {
   "cell_type": "code",
   "execution_count": 36,
   "metadata": {},
   "outputs": [
    {
     "data": {
      "text/plain": [
       "CollateralNet(\n",
       "  (proj1): Linear(in_features=784, out_features=40, bias=True)\n",
       "  (diag1): Linear(in_features=40, out_features=4, bias=False)\n",
       "  (lin1): Linear(in_features=4, out_features=32, bias=True)\n",
       "  (lin2): Linear(in_features=32, out_features=10, bias=True)\n",
       "  (jct): Linear(in_features=4, out_features=784, bias=True)\n",
       "  (conv1): Conv2d(1, 20, kernel_size=(5, 5), stride=(1, 1))\n",
       "  (conv2): Conv2d(20, 50, kernel_size=(5, 5), stride=(1, 1))\n",
       "  (fc1): Linear(in_features=800, out_features=500, bias=True)\n",
       "  (fc2): Linear(in_features=500, out_features=2, bias=True)\n",
       "  (lin3): Linear(in_features=4, out_features=64, bias=True)\n",
       "  (lin4): Linear(in_features=64, out_features=32, bias=True)\n",
       "  (lin5): Linear(in_features=32, out_features=16, bias=True)\n",
       "  (lin6): Linear(in_features=16, out_features=8, bias=True)\n",
       "  (lin7): Linear(in_features=8, out_features=10, bias=True)\n",
       ")"
      ]
     },
     "execution_count": 36,
     "metadata": {},
     "output_type": "execute_result"
    }
   ],
   "source": [
    "#path = '../data/models/quadconvnet_part8.pt'\n",
    "path = 'models/quadconvnet_0.5_0.002_1.7_4_0_par2.pt'\n",
    "model = CollateralNet(private_output_size=PRIVATE_OUTPUT_SIZE)\n",
    "results = {}\n",
    "\n",
    "model.load_state_dict(torch.load(path))\n",
    "model.eval()"
   ]
  },
  {
   "cell_type": "markdown",
   "metadata": {},
   "source": [
    "Here is a function to analyse a tensor distribution"
   ]
  },
  {
   "cell_type": "code",
   "execution_count": 37,
   "metadata": {},
   "outputs": [],
   "source": [
    "import numpy as np\n",
    "import seaborn as sns\n",
    "import matplotlib.pyplot as plt\n",
    "\n",
    "def print_hist(data):\n",
    "    x = data.view(-1).abs()\n",
    "    # the histogram of the data\n",
    "    n, bins, patches = plt.hist(x, 50, density=True, facecolor='g', alpha=0.75)\n",
    "    plt.xlabel('Weight amplitude')\n",
    "    plt.ylabel('Probability')\n",
    "    plt.title('Weight amplitude distribution')\n",
    "    plt.grid(True)\n",
    "    plt.show()\n",
    "    \n",
    "    \n",
    "def print_data(data):\n",
    "    ax = sns.heatmap(data, linewidth=0.5)\n",
    "    plt.show()"
   ]
  },
  {
   "cell_type": "markdown",
   "metadata": {},
   "source": [
    "And our function to convert tensors to integers with a precision parameter, and vice-versa"
   ]
  },
  {
   "cell_type": "code",
   "execution_count": 38,
   "metadata": {},
   "outputs": [],
   "source": [
    "def fix_precision(tensor, precision_bits, rm_outlier_frac=100, parameter=True):\n",
    "    tensor = (tensor * 2**precision_bits).long()\n",
    "    max_value = max(\n",
    "        np.abs(np.percentile(tensor, rm_outlier_frac)),\n",
    "        np.abs(np.percentile(tensor, 100 - rm_outlier_frac))\n",
    "    )\n",
    "    cp_tensor = 1 * tensor\n",
    "    tensor = tensor.clamp(min=-max_value, max=max_value)\n",
    "    if parameter:\n",
    "        return nn.Parameter(tensor, requires_grad=False)\n",
    "    else:\n",
    "        return tensor\n",
    "    \n",
    "def float_precision(tensor, precision_bits):\n",
    "    tensor = tensor.float()/2**precision_bits\n",
    "    return tensor"
   ]
  },
  {
   "cell_type": "code",
   "execution_count": 39,
   "metadata": {},
   "outputs": [],
   "source": [
    "class Parser:\n",
    "    \"\"\"Parameters for the testing\"\"\"\n",
    "    def __init__(self):\n",
    "        self.batch_size = 64\n",
    "        self.test_batch_size = 10"
   ]
  },
  {
   "cell_type": "code",
   "execution_count": 40,
   "metadata": {},
   "outputs": [
    {
     "name": "stdout",
     "output_type": "stream",
     "text": [
      "Training set 60000 items\n",
      "Testing set  10000 items\n"
     ]
    }
   ],
   "source": [
    "args = Parser()\n",
    "\n",
    "data = learn.load_data()\n",
    "train_data, train_target_char, train_target_family, test_data, test_target_char, test_target_family = data\n",
    "test_target = test_target_char\n",
    "test_dataset = learn.build_tensor_dataset(test_data, test_target)\n",
    "test_loader = utils.DataLoader(\n",
    "    test_dataset,\n",
    "    batch_size=args.test_batch_size, shuffle=True\n",
    ")"
   ]
  },
  {
   "cell_type": "markdown",
   "metadata": {},
   "source": [
    "Our test function modifies the data first in the encrypted setting (ie values are integers) and then converts back the output to float to run the public part of the net used to predict digits."
   ]
  },
  {
   "cell_type": "code",
   "execution_count": 41,
   "metadata": {},
   "outputs": [],
   "source": [
    "def test(model, test_loader, prec):\n",
    "    data_prec, proj_prec, diag_prec = prec \n",
    "    correct = 0\n",
    "    with torch.no_grad():\n",
    "        for data, target in test_loader:\n",
    "            # Private Part\n",
    "            data = fix_precision(data, data_prec, parameter=False)\n",
    "            private_output = model.quad(data)\n",
    "            # Public Part\n",
    "            output = float_precision(private_output, sum(prec))\n",
    "            output = model.char_net(output)\n",
    "\n",
    "            pred = output.argmax(1, keepdim=True)  # get the index of the max log-probability\n",
    "\n",
    "            correct += pred.eq(target.view_as(pred)).sum().item()\n",
    "\n",
    "    acc = 100. * correct / len(test_loader.dataset)\n",
    "    print('\\nTest set: Accuracy: {}/{} ({:.2f}%)\\n'.format(\n",
    "        correct, len(test_loader.dataset), acc))\n",
    "    \n",
    "    return acc"
   ]
  },
  {
   "cell_type": "markdown",
   "metadata": {},
   "source": [
    "Given a precision setting, this returns the accuracy of the main task and the maximum number of bits needed to store the output."
   ]
  },
  {
   "cell_type": "code",
   "execution_count": 178,
   "metadata": {},
   "outputs": [],
   "source": [
    "def test_compression(prec, rm_outlier_frac=100, show_distrib=False, cv=6):\n",
    "    data = collateral.data.load_resistance_data(font1=None, font2=None, cv=cv)\n",
    "    train_data, train_target_char, train_target_family, test_data, test_target_char, test_target_family = data\n",
    "    # Merge the target datasets\n",
    "    train_target = list(zip(train_target_char, train_target_family))\n",
    "    test_target = list(zip(test_target_char, test_target_family))\n",
    "\n",
    "    # We use here the slightly modified version of this function\n",
    "    train_dataset = learn.utils.build_tensor_dataset(train_data, train_target_char)\n",
    "    test_dataset = learn.utils.build_tensor_dataset(test_data, test_target_char)\n",
    "    \n",
    "    model = CollateralNet(private_output_size=PRIVATE_OUTPUT_SIZE)\n",
    "    model.load_state_dict(torch.load(path))\n",
    "    model.eval()\n",
    "\n",
    "    data_prec, proj_prec, diag_prec = prec \n",
    "    \n",
    "    if show_distrib and False:\n",
    "        print_hist(model.proj1.weight.detach())\n",
    "        print_hist(model.proj1.bias.detach())\n",
    "        print_hist(model.diag1.weight.detach())\n",
    "        \n",
    "    # Convert the model\n",
    "    model.proj1.weight = fix_precision(model.proj1.weight, proj_prec, rm_outlier_frac)\n",
    "    model.proj1.bias = fix_precision(model.proj1.bias, proj_prec + data_prec, rm_outlier_frac)\n",
    "    model.diag1.weight = fix_precision(model.diag1.weight, diag_prec, rm_outlier_frac)\n",
    "        \n",
    "    if show_distrib:\n",
    "        print_hist(model.proj1.weight)\n",
    "        print_hist(model.proj1.bias)\n",
    "        print_hist(model.diag1.weight)\n",
    "    \n",
    "    data_sample = fix_precision(test_dataset[0][0], data_prec, parameter=False)\n",
    "    n_bits = (\n",
    "        ceil(log2(torch.max(data_sample))) * 2 +\n",
    "        ceil(log2(max(\n",
    "            torch.max(model.proj1.bias / 2 ** data_prec),\n",
    "            torch.max(model.proj1.weight)\n",
    "        ) * 2)) * 2 + \n",
    "        ceil(log2(torch.max(model.diag1.weight) * 2))   \n",
    "    )\n",
    "    print(\"approx size\", n_bits)\n",
    "        \n",
    "    test_dataset_prec = torch.utils.data.TensorDataset(\n",
    "        fix_precision(test_dataset.tensors[0], data_prec, parameter=False),\n",
    "        test_dataset.tensors[1]\n",
    "    )\n",
    "    test_loader_prec = torch.utils.data.DataLoader(test_dataset_prec, batch_size=args.test_batch_size)\n",
    "    acc_char = test(model, test_loader_prec, prec)\n",
    "    \n",
    "    return model, data_prec, acc_char\n",
    "    "
   ]
  },
  {
   "cell_type": "code",
   "execution_count": 179,
   "metadata": {},
   "outputs": [
    {
     "name": "stdout",
     "output_type": "stream",
     "text": [
      "Training set 60000 items\n",
      "Testing set  10000 items\n",
      "approx size 19\n",
      "\n",
      "Test set: Accuracy: 9953/10000 (99.53%)\n",
      "\n"
     ]
    }
   ],
   "source": [
    "prec=(3, 7, 5) # (3, 7, 5)\n",
    "data_prec, proj_prec, diag_prec = prec \n",
    "model, data_prec, acc_char = test_compression(prec=prec, rm_outlier_frac=99.9, show_distrib=False)"
   ]
  },
  {
   "cell_type": "code",
   "execution_count": 181,
   "metadata": {},
   "outputs": [
    {
     "name": "stdout",
     "output_type": "stream",
     "text": [
      "Training set 60000 items\n",
      "Testing set  10000 items\n",
      "approx size 17\n",
      "\n",
      "Test set: Accuracy: 9782/10000 (97.82%)\n",
      "\n",
      "Training set 60000 items\n",
      "Testing set  10000 items\n",
      "approx size 19\n",
      "\n",
      "Test set: Accuracy: 9789/10000 (97.89%)\n",
      "\n",
      "Training set 60000 items\n",
      "Testing set  10000 items\n",
      "approx size 19\n",
      "\n",
      "Test set: Accuracy: 9705/10000 (97.05%)\n",
      "\n",
      "Training set 60000 items\n",
      "Testing set  10000 items\n",
      "approx size 17\n",
      "\n",
      "Test set: Accuracy: 9761/10000 (97.61%)\n",
      "\n",
      "Training set 60000 items\n",
      "Testing set  10000 items\n",
      "approx size 19\n",
      "\n",
      "Test set: Accuracy: 9775/10000 (97.75%)\n",
      "\n",
      "Training set 60000 items\n",
      "Testing set  10000 items\n",
      "approx size 19\n",
      "\n",
      "Test set: Accuracy: 9805/10000 (98.05%)\n",
      "\n",
      "Training set 60000 items\n",
      "Testing set  10000 items\n",
      "approx size 19\n",
      "\n",
      "Test set: Accuracy: 9789/10000 (97.89%)\n",
      "\n",
      "97.72285714285714 0.3020271646115056\n"
     ]
    }
   ],
   "source": [
    "acc_chars = [] \n",
    "for cv in range(7):\n",
    "    path = f'models/quadconvnet_0.5_0.002_1.7_4_{cv}_par2.pt'\n",
    "    prec=(3, 7, 5) # (3, 7, 5)\n",
    "    data_prec, proj_prec, diag_prec = prec \n",
    "    model, data_prec, acc_char = test_compression(prec=prec, rm_outlier_frac=99.9, show_distrib=False, cv=cv)\n",
    "    acc_chars.append(acc_char)\n",
    "\n",
    "print(np.mean(acc_chars), np.std(acc_chars))"
   ]
  },
  {
   "cell_type": "markdown",
   "metadata": {},
   "source": [
    "So, as you observe, we keep a 98% accuracy with weight and data inputs integers between 0 and 16 (so on 4 bits)!.\n",
    "Experiments show that the total output is around 27 bits long, so we'll construct a discrete log algorithm which can work for output up to 30 bits long (so < 10^9)\n"
   ]
  },
  {
   "cell_type": "markdown",
   "metadata": {},
   "source": [
    "Let's save this model now"
   ]
  },
  {
   "cell_type": "code",
   "execution_count": 44,
   "metadata": {},
   "outputs": [],
   "source": [
    "saving_path = '/Users/tryffel/code/reading-in-the-dark/mnist/objects/ml_models/quad_conv.pt'\n",
    "torch.save(model.state_dict(), saving_path)"
   ]
  },
  {
   "cell_type": "code",
   "execution_count": 62,
   "metadata": {},
   "outputs": [],
   "source": [
    "proj = model.proj1.weight.t().tolist()\n",
    "proj.append((model.proj1.bias / 8).tolist())\n",
    "diag = model.diag1.weight.t().tolist()"
   ]
  },
  {
   "cell_type": "code",
   "execution_count": 63,
   "metadata": {},
   "outputs": [
    {
     "data": {
      "text/plain": [
       "(785, 40)"
      ]
     },
     "execution_count": 63,
     "metadata": {},
     "output_type": "execute_result"
    }
   ],
   "source": [
    "len(proj), len(proj[0])"
   ]
  },
  {
   "cell_type": "code",
   "execution_count": 64,
   "metadata": {},
   "outputs": [
    {
     "data": {
      "text/plain": [
       "(40, 4)"
      ]
     },
     "execution_count": 64,
     "metadata": {},
     "output_type": "execute_result"
    }
   ],
   "source": [
    "len(diag), len(diag[0])"
   ]
  },
  {
   "cell_type": "code",
   "execution_count": 67,
   "metadata": {},
   "outputs": [
    {
     "name": "stdout",
     "output_type": "stream",
     "text": [
      "[[3, -5, -3, -1, 0, 3, -3, 0, 2, 2, 0, 1, -2, 2, 3, 0, 1, -1, -1, 2, 0, 3, -2, 1, 1, 0, 0, 2, 1, -1, 0, 1, -2, 3, -3, -3, -1, 2, -4, -1], [0, -1, 0, 0, -3, 3, 1, 0, 1, 4, 3, -3, 4, 0, -3, -4, 1, -1, -1, -1, -1, 3, -2, 1, -3, 0, -2, 2, 0, -2, 1, 0, -3, -3, 0, 1, 2, 3, -2, 0], [1, -1, -1, -1, -2, -3, -3, -1, 1, -1, -1, -2, 4, -1, -3, 3, -1, -3, -2, -1, -1, 3, 0, -3, 0, 2, -1, 1, -4, -1, -1, -1, 1, 3, 2, 1, 2, -2, -2, -3], [3, -2, -3, 4, 0, 0, 1, 1, 2, 1, -3, 0, 3, 0, 0, 2, 3, 4, 3, -2, 0, 3, -4, -3, 3, -1, 0, -1, 2, 2, -2, -4, -4, 2, 1, -2, -3, 0, -3, -1], [0, -5, 1, 0, -2, 0, 3, -2, 0, -3, -2, -4, 0, 3, 3, -3, -3, -4, 0, -2, 1, 0, -4, -3, 0, 2, 2, -2, 1, 3, -3, 3, 0, -2, 0, 2, 1, 4, 1, -1], [2, 0, 0, -1, 4, 1, 0, 0, 0, 2, 4, -3, 4, 0, 2, 1, 4, 0, 1, 3, -2, 0, 0, 3, 3, 1, 0, 2, 3, -1, -2, 3, 3, 1, -3, 3, 4, -1, 0, 0], [1, -6, 0, -3, 2, 3, -3, -2, -2, 4, -3, -2, 1, -3, 1, -4, -3, 0, 2, 0, -2, -2, -1, 1, -1, -3, 0, 2, -2, 0, -1, 3, 0, 4, 4, -2, -1, 4, -3, 0], [1, -4, -1, 3, 2, 0, -3, 0, -2, 0, -1, -4, -4, 2, -3, -2, -1, -4, 3, -3, 0, 1, 3, 3, -4, 2, -3, -1, 0, 4, -2, 0, -2, 3, 0, 1, 1, -1, 2, -1], [1, 0, 0, -4, 0, 0, -1, 1, 2, 3, 1, -2, -1, 0, 1, 2, 3, 3, -3, 0, -1, 0, 2, 0, -3, 0, 2, -2, 2, 1, 0, 3, 1, 0, 3, -1, -3, 4, -4, -1], [0, -5, 1, 0, -3, 2, 0, 3, 0, 0, -1, 1, -1, 4, -1, 0, 0, 2, 1, 4, -2, 0, -2, 1, 3, 0, 3, 2, 1, -1, -3, 0, -1, 2, -4, -4, 4, 0, 1, 3], [0, -2, 0, -1, -3, -3, 3, 1, 2, 2, 2, 1, -1, -2, 3, 0, 4, 3, 1, -3, -2, 1, 1, 1, 0, 4, -3, 1, 1, 4, 3, -4, -3, 1, -2, -5, 0, -3, 2, 0], [5, -2, 0, -3, 3, 4, -4, -1, -4, 0, -3, 0, 0, -3, 2, 2, -3, 0, 1, 1, -3, 3, -4, 0, -1, 0, 3, 2, 1, 0, 3, 1, -2, -2, 0, -5, -1, 1, 0, -3], [5, -3, 0, -4, 2, 3, -1, -5, -1, -2, 0, -1, 2, 3, 1, -1, 0, 3, 4, 4, -2, 3, -2, 0, -3, 0, 2, 0, 3, 1, 2, -1, 2, 1, 1, -2, 3, -4, 3, 0], [-1, 0, -3, 1, 2, -4, 0, 0, -2, -2, 0, -4, -2, 2, 0, -2, -1, -3, -3, 4, 0, 2, 0, 0, 2, 4, 2, -2, 0, -2, 4, -4, -2, 2, 2, 2, 0, -3, 0, 2], [-1, -4, 2, -4, 2, 3, 0, 1, 4, -1, -1, -2, 1, -2, 2, -3, 1, 1, -3, 1, -3, 0, 0, 0, -1, -1, -3, -1, 4, 0, 1, 3, 2, 0, 0, -5, 0, -2, -3, -3], [1, -5, -2, 3, 0, -3, 3, -1, -4, 3, 0, -1, 3, -1, 0, -4, -2, 3, -4, 0, -2, 1, 0, -2, 0, -4, 1, 0, -3, 4, 3, 3, 0, -3, 0, -4, -2, 3, 0, -3], [4, -4, -3, -4, 0, 0, 4, 0, -1, 1, 0, 0, 3, 3, -2, 0, -2, -2, 0, 4, 0, 3, 2, -3, -3, 4, -1, -3, 2, 1, 0, -2, -3, 1, -3, 3, 0, -2, 4, -3], [3, 1, -1, 0, 1, -2, 0, -4, -4, 1, 0, -4, -1, -3, 3, -4, -3, -3, -1, 0, -3, 2, 0, -2, -3, -2, 2, 0, -3, -3, -2, 3, 0, -1, 2, -1, 2, 3, 2, 2], [5, 0, 0, -3, 1, 0, 0, -1, 1, 4, -1, -3, -2, 0, -2, 2, -1, -1, 2, -2, 3, 0, 1, 1, -2, -2, 1, -1, 1, 0, 3, -5, 2, 1, 4, -1, 2, -3, 3, 5], [3, -5, -1, 1, -2, 4, 2, -3, 4, -4, 1, -2, -1, 3, -2, -1, -2, 4, -3, 1, -1, -1, 3, 0, -1, 4, 2, 3, 1, -2, 0, 1, 1, -1, 0, 1, -2, 1, 0, 4], [2, -5, -1, -3, 0, 0, 0, -3, -2, 0, 2, 0, -4, -2, -2, -3, -2, 0, -1, 0, 0, 2, 3, 0, 1, 1, 0, 0, 4, 2, 0, -4, 1, -3, 4, 0, 0, 3, 2, 3], [4, -3, 3, 0, 4, 2, 0, -3, -1, 0, 3, 1, -4, 0, 1, 0, -4, 0, 0, 0, -3, 0, -1, 3, -4, 0, 1, 2, 2, 0, -2, -4, -3, 3, 1, 3, -3, 3, -3, 2], [0, 0, 0, 1, 0, 2, 3, 1, 3, 2, -2, -4, 3, 2, 4, -4, -1, 3, 2, 3, -4, -1, 0, 4, -1, 1, -4, 0, -3, 1, -2, 0, -4, 4, 1, 2, 2, 0, -2, -2], [-1, -3, -1, -3, 4, 2, 3, 3, 3, -3, 2, 0, 0, 4, 1, -1, -4, -1, -3, -2, -4, -1, 1, 3, 1, -2, 3, 0, 1, 1, 1, 0, -1, 3, 2, -1, 0, 4, 0, 0], [-2, -2, -2, 3, 1, -2, -3, 3, -3, 2, 0, 0, 2, -2, -3, -3, -3, -3, 1, 3, -3, 0, -4, 1, -2, 3, 3, 2, -2, 0, 1, -1, -3, 0, 4, -1, 3, 0, 2, -1], [0, -2, -3, 0, 0, -1, -3, -4, 0, -1, 2, 1, 2, -2, 2, 0, 1, 4, 2, -3, 0, -2, 1, -2, -1, 0, 2, 2, 1, -1, 3, -1, 0, -2, -2, -3, 1, 0, -1, 1], [-1, 1, -1, -2, -2, 0, 2, 3, 4, -2, 2, -2, 3, 0, -2, -2, -3, 1, 3, 2, 0, -3, -5, 0, 1, 0, -2, -2, -3, 1, -1, 2, 0, 2, -3, -4, 0, -4, 0, 0], [-3, 0, -2, -2, -4, 1, 0, -2, 0, -2, -1, 3, 4, -2, -3, 3, -1, -3, -4, 2, -1, 2, -1, 0, -1, 4, 1, -3, 1, -3, 2, -2, 0, 1, 0, 0, 0, -4, 2, 0], [4, -1, -4, 0, 3, -1, 0, 1, -2, 3, 4, -4, 1, -3, -3, 0, 3, 4, 2, 2, 4, 1, -1, -1, -2, -1, -2, 0, 0, 4, 4, 2, 1, 0, 1, 1, -1, -1, 1, 4], [2, -1, 2, -4, 4, 3, -2, 2, 4, 4, 4, -5, 1, 3, -2, -2, 3, -2, 1, -3, 1, 2, -4, 2, 3, 0, -3, 1, 1, 3, -3, 0, 0, 1, 1, 0, -4, 1, -1, 4], [0, -6, 2, -4, 0, 0, -3, 0, -3, -1, 3, -1, 2, 0, -3, 2, 0, 0, 0, 0, -2, -4, -2, -3, 2, -1, 1, -3, 4, -2, 4, 2, 0, 4, 4, 0, 2, -1, 3, 0], [1, -1, -2, 3, -2, -3, 0, 1, -2, -2, 4, 1, -1, -1, 1, 2, 0, 1, 1, -3, 0, -1, -4, 3, -2, 2, 0, 0, 0, 0, 2, 0, -3, -3, -2, -1, 0, 1, 4, -2], [-1, 1, 3, 0, 0, 1, 0, -3, 1, 0, -3, 2, -4, 0, -3, 0, 0, 2, -3, 3, -1, -2, -4, -3, 0, -4, 3, -2, -3, 2, 1, 0, -1, 1, -2, -2, 2, 0, 0, -1], [5, -2, 0, 3, 2, 3, 3, -5, 1, 1, 5, 0, -2, -1, -1, -4, 0, 0, -4, 0, 2, -2, -4, -4, 4, 3, -1, 0, -1, 4, 0, 0, -3, 3, -2, 0, 0, 4, 0, 2], [2, 1, 0, -3, 2, -4, 2, -1, 2, -1, 2, -3, -1, 4, 0, 0, 2, -1, 0, -1, 4, 0, 0, 3, -2, 1, -1, -4, -3, 2, 2, -4, -1, 0, -4, -2, 0, 3, 0, 2], [-2, 0, -2, 3, -3, 2, 2, -1, 0, 0, -1, 2, 3, 2, 0, 3, 2, 0, 3, -2, 2, -2, 0, 0, -3, -3, -4, 3, 3, 2, -4, 0, 2, 3, 0, 2, -2, 0, 0, -2], [2, -4, 1, -4, 2, -4, -3, 1, -1, 0, 3, 1, -2, 0, -1, 2, -4, 2, 0, 1, 4, 0, -4, 3, 4, -3, 4, -1, 2, 1, -3, 0, 2, 1, 3, 3, 3, -4, 2, -2], [0, -3, 4, 3, -3, -2, -4, -5, 2, -3, -2, -4, 1, 2, 0, -2, -2, -4, 4, 3, 0, 1, -4, 0, 4, -1, 1, 0, 2, -1, -3, 0, -1, 1, 3, 3, 3, -2, -1, 3], [-1, -3, 3, -4, -2, 3, -3, 0, 0, -3, -1, -2, 2, 1, 3, 0, -3, 1, 4, 3, -4, 1, 3, 4, -2, 0, 2, 3, 3, -3, -2, -1, -2, 4, -2, 1, 0, -2, 1, 0], [-2, 1, -3, 0, -4, 3, 0, 2, 3, 1, 1, -3, 0, 1, 3, 0, 0, 0, 3, -1, -2, 0, 0, -1, -4, -4, -3, 3, -3, -2, 3, 2, -4, -1, -2, -1, 1, -1, -4, 1], [2, -1, -2, 4, -2, 3, 0, 3, -2, 1, 0, 1, -2, -3, 1, 1, 0, 0, 0, 0, -3, 3, -4, 3, 3, 3, 0, 2, 3, 0, 3, 2, 0, 0, -1, 0, 0, 0, -2, 0], [-2, 0, 2, 1, 0, 2, -4, 3, -4, -2, 4, 1, -4, 0, 1, -4, -1, 0, 0, -2, 2, -3, 2, 3, 3, -2, 2, 2, 2, -1, 1, -2, 0, -2, 1, -2, 3, 0, 0, 4], [6, -3, -1, 1, 4, 2, 1, -2, 4, 4, -3, -4, 2, 1, 2, 1, -3, -3, 0, -1, -1, -1, 1, -1, 0, 0, 2, 0, 1, -1, 1, -1, 1, -1, 4, 2, 3, 2, -3, 1], [3, 0, 1, -1, 3, -1, -4, 1, 3, 0, -2, 2, -2, -1, 2, -4, 0, -1, 0, 2, 3, -2, 0, 0, 4, 3, -3, 0, 1, 0, -2, -4, 0, -2, 3, -2, 0, 0, -2, -1], [4, 0, 0, 4, 2, -4, 0, 2, -1, -2, 0, 2, 1, -1, 3, -2, -3, 3, -1, -3, 0, 0, 0, 0, 3, 3, -2, -3, -3, -2, 2, -2, -4, -2, 2, 2, -3, 0, -1, 1], [0, -3, 0, -1, -2, -3, -1, 3, -1, 0, -2, 3, 0, 0, -1, 3, -3, 3, 2, 1, -2, -3, 2, -3, -2, 1, 2, -1, 0, 0, 3, -3, -4, -3, 0, 0, -1, -2, -1, -2], [0, 2, -4, -1, 2, 1, -1, -4, 4, -2, 0, 2, 0, 0, 1, -3, 0, 0, 1, 0, 3, 2, -3, 1, 4, 3, 1, -3, 0, 4, 0, 0, 1, 0, 0, -4, -3, 3, 3, 0], [-1, -3, -4, 0, 4, 1, 0, -2, -3, 2, 0, 1, 0, 3, -3, -2, 1, 4, 0, 2, -2, 0, 2, -2, 4, -2, -3, -1, 0, 4, 0, 3, -4, 4, 0, 2, -2, 4, 3, -2], [2, -5, -1, -3, 0, -3, -3, 0, 3, 3, 3, 1, 3, -3, 0, 2, -2, 3, 3, -3, -4, 1, -1, 2, 0, -1, 0, 3, -3, 0, -3, 0, -4, 1, -1, -2, -1, 4, 2, -3], [0, -5, 1, 0, -3, 0, -4, -3, -3, 3, 0, 1, 3, -1, -2, -3, 3, 1, 1, 0, -1, 1, 2, -4, 2, 1, 0, 4, 1, -4, -3, 1, -3, 0, 4, 0, -2, 3, 4, 0], [4, 0, -2, 2, 0, 0, 3, 0, 3, 4, 0, 0, 0, 0, 2, -4, 2, 0, 0, -2, -1, 1, -1, 4, 0, 0, -3, -2, 0, -3, 4, -3, -2, 0, 2, 3, -4, -3, 3, -2], [1, 0, 0, 0, 0, 2, -1, -1, 3, -2, 3, 2, -2, -4, -1, -3, -4, 0, 4, 0, -3, 1, 2, 0, 1, 2, -2, -3, 1, 1, 4, 3, -2, 3, 0, 0, 0, 4, -2, 4], [0, 1, 0, 1, 3, 4, 1, 0, 4, 1, 1, -3, -4, -3, 1, -4, 2, 0, 3, -2, 3, 0, 3, 0, -1, -2, 0, 2, 0, 0, -3, 3, -2, 2, -3, -3, -2, 4, 0, 2], [3, 0, 1, -2, -1, -3, -2, 0, -1, 2, -2, 3, 0, -2, 0, -3, 0, -2, -4, 1, -4, 0, -5, 3, -1, -1, 1, -3, 0, 0, -3, -4, -3, 3, 0, 1, -1, 2, 0, -3], [2, -4, 3, -1, -1, 0, -1, -4, 0, 0, -1, -4, -3, -3, 4, 1, 4, 3, 1, 4, 0, 0, 2, 0, 2, 0, 0, -1, -3, -2, 0, 2, -3, -1, -3, -2, 3, 0, 4, 2], [4, -2, -2, 0, 0, -2, 0, 3, -2, -3, 0, -1, 3, 4, -3, 2, 0, 0, 4, -3, 3, 2, -2, -4, 3, 1, 4, 0, 0, -1, 2, 2, -4, 2, 0, 1, 2, -3, 2, -1], [-1, -3, 0, -2, 0, 2, 2, 0, 0, 3, 4, -3, -2, -3, 2, -2, 3, 0, 3, -2, 0, -1, -1, -4, 3, 0, 1, 0, -2, 3, 3, 2, 3, 0, -1, 2, 2, 1, 1, -2], [1, 2, 0, 4, -3, -3, -4, 0, 3, 0, 0, 2, 4, 0, -1, 3, -2, 2, 0, 1, 2, 0, -2, 3, -2, -4, -3, -1, 2, -1, 0, 1, 3, -2, -3, -3, -1, -2, 3, -3], [1, -2, -3, 0, -3, 1, -3, 0, -3, 0, 4, 0, 3, -1, 1, 3, 3, 2, 1, 2, 0, -3, -2, -3, 3, -1, -3, -1, 3, -1, -4, -2, -2, 0, 3, -3, 2, -3, 3, 3], [0, 1, -3, 4, -2, -1, 0, 2, -1, -2, 2, 0, 0, 2, 0, 0, -1, -2, 0, -2, 0, -1, -1, 0, -4, -3, 3, 3, 1, 3, 1, -3, 1, 0, 1, 0, 0, 2, -3, 3], [4, -2, 2, 0, 4, 0, 0, 3, 0, -2, 0, -4, 2, 2, -3, -2, 3, 0, 2, 0, -3, -4, 0, 2, 2, 2, 3, 2, -4, 3, 0, -1, -3, 1, -2, 0, 1, 2, -1, -1], [-1, 1, -4, -3, 1, 1, 0, -4, 3, 0, 0, -1, -1, -2, -1, 0, -2, 0, -4, 2, 0, 4, 1, 2, -1, -1, -2, 3, -1, 1, -3, 0, 2, 1, -1, 1, 1, 1, -3, -1], [-1, -2, -3, -1, -1, 0, 0, 0, 3, 0, 0, 1, -3, -1, 4, 0, -2, -1, 1, 1, -3, 1, 1, -3, -1, -1, -3, -1, 2, -1, 4, 2, -4, -2, -4, -4, 0, 1, 2, -1], [-2, 2, 2, 3, 1, 3, 2, 3, 3, 0, -2, 0, -2, -3, 3, 4, 1, -4, -1, 0, 0, -3, -2, 1, -4, 3, 4, 2, -3, 0, -2, -2, -4, -3, 0, 0, 3, -1, -3, 0], [-1, -1, 1, -1, -3, 1, 0, -2, 2, 0, 0, -1, 3, 0, -1, -4, -3, -2, 1, -4, -2, -2, 0, 2, 4, 2, -3, -3, 3, -3, -1, 1, 4, 4, 1, -1, -3, -2, -3, 3], [-1, -6, -1, -1, -3, -3, 0, 3, 0, -2, 0, 1, -1, -3, 0, -2, 2, 0, 0, -2, 2, 3, 0, 0, -2, 1, -1, 1, -3, 0, 1, -2, -4, -4, -2, -4, 0, 2, 1, 0], [-2, -4, 0, -2, 3, -1, 1, 0, 0, 0, 0, -4, -4, -1, 1, 0, -3, 0, 3, 0, 4, 0, -2, 3, -3, -3, -2, 4, -3, -3, 2, 1, 3, -3, 2, -3, 1, 3, -2, 2], [0, -2, -2, -2, -3, -2, 3, -3, 0, -2, 4, 3, -2, -3, 0, 0, 0, 0, -2, -3, 0, 1, 0, 3, -2, -1, 1, -4, 2, 0, -1, -1, -3, -3, -3, -2, 4, 0, -1, 0], [3, 1, 3, -3, 0, 0, 2, 2, 2, -2, -4, -2, -1, 0, -2, -2, 3, 0, 0, -4, 3, 4, -2, -1, 4, -2, -4, -1, -4, 1, 0, -4, -2, 0, 3, 3, -3, -3, -1, 2], [-2, 1, 1, -2, 2, -1, -3, 3, 3, -3, -3, 0, -4, -2, 3, 0, -2, 2, -2, -1, 0, 3, 0, 1, 2, -2, -3, 4, 3, 3, 2, 0, 0, 4, -1, -2, 0, -2, -3, 0], [1, -4, -4, -3, 1, 2, 3, -1, -3, -2, 0, -2, -1, 2, 0, 0, -2, 3, 0, -4, 1, -2, 3, 0, -3, -1, 0, -1, -3, 4, 0, -2, 0, -3, -1, -3, -3, 3, -1, 2], [-2, -2, 0, 4, -2, 0, 2, 0, -2, 0, -1, 0, 1, 4, 4, -2, 2, 0, 2, 0, -2, -3, -2, -1, -4, -2, -4, -2, 4, -3, 0, 3, -4, 0, 1, -2, -1, -2, 0, -3], [4, -2, -4, -1, 0, -3, 3, 3, 2, 2, -2, -3, -2, -2, 2, -4, -2, 2, -3, -2, -3, 4, 0, -2, -2, -4, 0, -1, 2, -3, 0, -3, 4, 0, 7, -4, 2, 1, -1, 2], [-1, 4, -4, -3, 3, -2, 0, 2, 2, -1, 1, 1, 0, -4, 4, -4, -3, 0, -3, -1, 0, 3, 0, 4, 0, 2, 2, -1, 0, 2, 3, 0, 2, 2, 4, 0, 2, -2, -2, -3], [-1, 3, -4, 3, 1, -2, 3, -3, -4, -4, 3, -3, 3, 0, -3, 0, 3, 0, -1, 0, -4, 4, 1, 4, 2, -1, 1, -2, -4, 3, 3, 3, -3, -1, -1, 3, 3, 0, 2, -3], [-2, 0, 0, 1, -2, 0, -4, -3, -2, 1, -3, -1, 2, -3, -1, -3, 0, -2, 3, 3, -2, -3, 0, 2, 0, 0, 0, 0, -2, 0, 0, -2, -4, -2, 1, 3, -2, -4, -1, -3], [-1, -5, 1, -4, -4, 3, -1, -3, -1, 3, 0, 2, -2, 4, -3, -2, 4, -1, 1, 1, 3, -2, -3, -2, -1, 4, 0, -4, -3, 3, -1, 2, 0, -1, 0, 2, 2, -2, 3, -2], [3, 0, -2, 0, 2, 0, 2, -4, -3, 1, 4, 0, -1, -3, 0, 3, 3, 0, 2, 3, -3, -2, 3, -3, -1, 0, -3, 2, 0, 3, 1, 1, 2, 3, -3, -4, 0, 3, -3, 4], [0, 1, 3, -1, 0, 4, -3, 1, 0, 1, -3, 0, -4, -3, -3, 2, 0, -2, -3, 1, -2, -3, -3, 3, 1, -3, -1, 2, 0, 0, -3, -4, 3, 3, 4, 0, 1, -2, 0, 0], [0, -2, -2, 0, 2, 3, -2, -3, 0, -3, 3, 0, 4, 3, 0, -2, 0, 0, 2, -1, 0, 1, -3, 2, 0, 2, 3, 2, 1, 3, 0, 0, -1, -4, 1, 3, -1, -2, 2, 1], [5, -5, 3, 2, 0, -1, 3, 0, 0, 0, 2, 1, 4, -1, -3, 2, 0, -2, -2, 3, 0, 1, 0, 2, 3, -3, 2, 0, 2, 3, 0, 3, -4, 0, 2, 2, -3, -2, 1, 3], [0, 0, 2, 1, -2, 4, -2, 0, -1, -3, -1, -1, 3, 0, 0, 2, -2, 1, 2, 3, -2, 2, 2, 3, 3, 0, 2, 2, 0, 3, 3, -2, -4, 0, -2, 3, 0, 1, 2, -3], [-1, -4, 0, -3, -3, 1, 1, -3, 0, 2, -1, 3, -1, 0, 0, 0, -2, -3, 3, -1, -1, 0, -4, -3, 0, 1, 0, 4, -3, 4, -1, 3, -2, -2, -4, 0, -2, 3, 2, 4], [0, -3, 0, 0, 2, -1, -2, -4, 0, -2, 0, 1, 1, -1, 1, 1, -1, -3, -3, 0, 2, 1, 1, -4, 3, 1, 2, -1, 2, -2, 0, 0, 2, 2, 4, -5, 0, 0, -1, 2], [6, 2, -3, -3, 2, -4, 3, -4, 0, 3, 0, 1, 3, -4, -2, 3, -2, 3, -3, 2, 2, 0, 2, 0, 0, -2, 0, -2, 0, 3, -2, 3, 0, 0, 3, 3, 3, 3, 0, -1], [-2, 0, -2, -2, -3, 2, -2, -4, -2, 1, 2, -3, -1, -1, 0, 2, -2, -2, -3, 1, -2, 3, 3, 2, 4, -4, 0, 0, 1, -4, -2, 0, 2, -4, -4, 3, -4, 0, -1, 2], [-2, 0, -1, 2, -4, 3, 0, 0, -4, 0, 4, 0, -2, -2, 0, -2, -1, -2, -3, -2, -1, 2, -4, -2, -3, 1, 1, 0, 0, 0, 2, -3, 1, -3, 2, -1, -3, -3, -2, 4], [4, -5, -4, -4, 1, 1, -4, -4, 4, -1, -1, -5, -1, 0, 2, -4, 0, -2, 2, -2, 0, 0, 3, -1, 4, -2, -3, 4, 1, -1, -4, 3, 0, 0, 2, -5, 0, -2, -1, 3], [-2, 2, 0, 0, -3, 3, 2, 2, 0, 4, 4, 1, 0, 3, 0, -4, 0, 2, -3, 2, 0, -3, 2, 0, 3, 4, 0, 2, -2, -3, 0, -3, -4, -3, 3, 0, 3, 2, 2, 0], [1, 1, 2, 1, -3, 2, 2, -1, 0, 0, 2, 0, -3, 3, -4, -2, 2, 4, 4, 1, -1, 0, -2, 3, 1, 0, 3, 1, 3, 2, 0, 1, 1, 3, -1, -1, 1, -2, 3, 4], [1, 2, 0, -2, 3, -2, -1, -4, -3, -1, 3, -2, 0, 1, 0, 0, 3, 0, 1, 0, -1, 2, 2, -3, -2, 0, 4, 3, -1, 3, -2, 0, 0, -3, -3, 0, 4, 0, 1, -1], [-2, -1, -2, -3, -2, 1, -2, 0, 2, 1, -3, 0, 2, 3, -3, -1, 0, -3, 1, 1, 1, 2, -1, 2, -3, 3, -1, -2, -2, 3, -3, -2, -2, 3, 2, 0, 0, -2, -2, 4], [6, -2, 3, 3, -2, 3, 0, 2, 3, 3, -1, -2, 0, -3, -2, 3, 3, 0, -1, 0, 0, -1, 2, 1, -1, 1, 0, 1, -1, -1, 3, 1, 3, 0, -2, 0, 2, 0, -1, -2], [4, -2, -1, 1, -1, 4, 0, -2, 0, -3, 4, 1, 3, -1, 3, -2, 0, -2, 1, 0, 1, 4, 2, 4, -1, 0, -3, 3, 0, -1, -2, 1, -3, 0, -3, -1, -3, -2, 3, 0], [3, 1, -2, 0, 2, -2, -1, 3, 0, 2, 4, 0, 1, 1, -2, -3, 2, -3, -3, -1, 4, 3, 0, 0, 0, 0, 4, 0, 0, -3, -3, 0, -1, 2, -3, 2, -2, -4, 2, -2], [0, 2, 0, -3, 2, 0, -3, 0, 2, 0, 1, -4, -2, 1, 3, -4, 1, 4, 3, -4, 0, 4, -2, 0, 4, 2, -2, 4, 0, 4, -3, 1, 2, -2, -2, 1, 0, -4, -3, 0], [0, 0, -2, 4, -4, -5, -4, -4, 1, 4, -1, -1, -2, 0, -2, 0, 1, 3, -2, 4, -4, 0, 2, -2, 4, -1, -1, 3, -1, 0, -2, 4, 1, 3, 4, 6, 0, -3, -3, -3], [4, -2, 1, -1, -2, -6, -3, -3, 2, 0, 0, 3, -6, -5, -1, 2, -4, 4, 1, 2, 2, 0, -3, -3, -1, 2, 0, 4, -3, 3, -3, 0, 3, 1, 2, 2, 0, 1, 2, 5], [0, 0, 3, 5, -1, -4, -5, 0, -4, -1, -6, 0, -7, -3, -3, 4, -2, 3, 0, 1, 1, -1, -2, -3, 4, 1, 1, -1, 4, -4, -2, 0, 5, -2, 4, 1, -2, -3, 4, 0], [4, 7, 4, 6, -3, -4, -3, -1, -5, 4, -1, 0, -2, -4, -4, 4, 2, 0, 2, 1, 2, 3, -1, 1, -1, -4, 0, 3, 1, 0, -5, 1, 0, 4, 7, 2, -1, -4, -2, 2], [1, 5, 0, 3, 3, 0, -1, -1, -2, 3, -4, 4, -4, -4, -4, -4, -2, 2, -1, 0, -2, -1, 0, 3, 1, -2, 0, 1, 2, -1, -1, 0, 0, 1, 2, 5, -5, 0, 5, 0], [1, 4, -4, 5, -2, -4, -1, 0, 3, 0, -6, -2, -4, 0, 0, 0, -4, 1, 0, 2, -2, 5, -1, 2, 0, 0, 1, 3, 0, -4, -3, 2, 2, -2, 9, 1, -5, -2, 1, 1], [3, 6, -4, -1, 0, 0, -5, -2, -2, -2, -4, -3, -3, 2, -2, 1, -1, 3, -4, 3, 1, 0, 1, -3, 1, 2, 1, -2, -4, 3, -3, 2, -3, -3, 2, -2, 0, 2, 5, 0], [3, 0, 1, -2, 1, 1, 3, -3, -3, 3, 2, 1, 3, 0, -1, 3, 0, 0, 0, 3, 0, 2, -2, 2, 4, -4, 2, 1, 1, 3, -4, -2, 0, 1, 0, 2, 0, 0, -3, -1], [4, -1, -1, 1, 0, -3, -5, 2, 2, 2, 0, 0, 0, 0, 3, 2, -3, 0, 0, -3, -2, 2, -1, -1, 4, -2, -2, -1, 1, -1, -2, 2, 2, -3, -1, 3, 3, 1, -1, 3], [1, 0, -1, 2, -1, 3, 0, -3, -1, -4, -1, 2, 0, -2, 0, 2, 0, 4, -2, -2, 1, -3, 0, -3, 0, 0, 0, 0, -3, 2, 0, -3, -3, 4, 0, 2, 1, 2, 2, -3], [-1, 0, -4, 2, -2, -1, 0, -1, 0, 2, 5, 0, -1, 3, 4, 2, 0, 2, 4, 3, -1, -2, 1, -1, 2, 2, 0, -3, -1, 2, -1, 3, -1, -3, -4, -1, -3, 1, 3, 4], [3, -1, -4, 2, 0, -3, 2, 3, -2, 0, 0, -4, 1, -3, 1, 1, -1, 1, 2, 3, 0, -4, 2, 1, 1, 0, -1, -1, -3, 0, 1, 2, 1, 0, 1, -3, -3, -4, 3, 1], [4, -5, 0, -3, 1, 0, -4, -4, 4, -1, 1, 1, 2, 2, -2, -4, 3, 2, 4, 2, 0, -3, -1, -2, -3, 4, -3, -1, 4, 1, -2, -3, 3, 4, -2, -3, -3, 2, 2, 2], [3, -5, 2, 3, 4, 1, 0, -3, 4, 3, 1, -4, -3, -2, -3, 3, 0, 0, 1, 3, 3, 0, -3, 0, 0, -4, -1, 0, -2, 0, 3, -1, -4, -3, 0, -2, 2, -2, 2, 2], [0, -4, -2, -4, 2, 0, -2, -1, -3, 2, 0, -3, 3, 1, 3, -2, 0, -3, -4, 3, 2, -1, -2, 1, -1, 1, 0, 1, -1, 4, 1, 3, -3, -3, 2, 0, 3, 3, -1, 0], [2, -3, 0, -4, 0, 4, 1, -1, 3, 0, -2, 0, -1, 2, 2, -4, -2, 1, 3, 3, 3, -3, 0, 1, 0, 3, -1, 3, -1, 1, 1, 0, 3, 3, 0, -2, -3, -1, -2, -3], [1, 0, 2, -4, -2, 0, 0, -5, 1, -1, 0, -1, 2, -1, 3, 2, -3, 1, 4, 1, 4, 0, 0, 3, 4, 3, 2, 0, 0, 3, -3, 0, -4, 0, -3, 1, 3, 3, -1, 4], [5, -3, 2, 3, 4, 1, -1, -3, -4, -4, 4, 1, 4, -2, 0, -4, 2, 1, 3, 0, -4, 3, -3, 2, 0, -1, 1, 0, 1, 4, -1, 3, 0, -2, -3, 0, -3, -4, -3, 2], [-2, -2, 1, 2, 3, 2, 2, 3, 0, 3, -2, 0, 0, 0, -3, -2, 0, 1, 2, 2, 0, -1, -1, -1, 1, 4, 0, 2, 1, -2, 0, -1, -1, 3, 4, 2, 3, 1, -3, 2], [-2, -3, 0, 4, -3, 1, 3, 2, 1, 0, -2, -3, 0, 1, 2, -1, -2, 2, 3, -4, 0, -1, -4, 3, 2, -2, 2, 4, -1, 0, 2, -4, 2, 3, 0, 1, -1, 2, 1, 0], [1, 0, 2, -4, 2, 0, -3, -2, -2, 1, -3, -4, -1, 3, 2, -4, -4, -4, 0, 4, -4, 4, -2, 4, 1, 0, 0, 1, -2, 0, -2, -3, 2, -2, 4, -3, -2, 3, -1, 0], [1, 0, 3, 2, 2, 1, -2, -3, 1, -2, -3, 0, -3, -1, 3, 3, 0, 1, 0, 3, 0, 0, 1, -1, -3, 2, 3, -3, 0, -4, -4, 3, -3, 1, -2, 0, 1, 4, -1, -1], [4, 0, -2, -2, -2, 2, 3, -2, 0, 2, 1, 3, -4, 1, -3, -4, 2, 0, 0, -2, -2, -3, -1, 0, -2, -1, -1, -1, -1, -1, 2, -1, -2, -1, -1, -5, -3, -4, 1, -1], [0, -3, 2, -3, 0, 0, -1, -2, 0, 3, 0, -4, 0, 0, -2, 3, 1, 1, -2, -2, 2, 1, -4, 4, 0, 0, -3, 3, -4, 0, 2, 0, 0, 0, 0, -1, 0, 3, 1, 4], [5, -5, -3, 0, 1, 3, 0, 0, 0, 0, 0, 1, 0, 1, 0, 3, 1, -2, -3, 3, -3, 2, -3, 2, 4, 4, 4, 4, 3, 2, 3, -1, 1, 2, 1, -3, 0, 0, 2, -4], [2, 1, 3, -3, 2, 0, -2, 0, 2, 0, -2, -1, 0, -1, 1, 0, 3, 0, 2, 1, 0, 0, 0, -3, 2, 1, 2, -3, 0, 0, 4, 2, -4, 3, -1, 2, -4, 1, 3, -2], [2, -3, 2, 0, 0, -3, 0, -1, -2, 0, -5, -2, -5, -6, 0, 3, -1, 0, -3, 2, 2, 1, 3, 0, 4, -3, 0, -3, 1, 1, -2, -3, 4, 0, -1, 2, 0, 1, 5, 1], [0, 3, 5, 4, -2, -10, -3, 0, -3, 5, -5, -4, -1, -2, 5, -2, 0, 3, -3, 0, 0, -2, 2, -2, 2, -1, -2, -1, 3, 1, -5, 5, 0, -2, 0, 6, -1, -2, -1, -4], [0, 9, 5, -1, 0, -5, 0, 0, 0, 2, -9, -2, -5, -6, 2, -3, 2, 0, 0, -1, -1, 1, -2, 0, -1, -2, 3, -6, 0, 4, -4, 0, 0, 0, 0, 10, -3, 3, 3, 3], [0, 3, 6, 3, 2, -7, 0, 6, 0, -1, -10, 4, -6, -2, 4, 2, -4, 6, -1, 3, 4, 2, 0, -4, 4, 4, 3, -6, 3, 4, 0, -1, 3, 1, 6, 10, -3, 3, 2, 3], [5, 7, -1, 2, -2, -3, -7, 5, 1, 4, -5, 2, -4, -9, 0, 3, -2, 2, -2, 4, -3, 3, 4, -5, 3, -3, 2, 0, 4, -3, -4, 2, -2, -1, 1, 3, -5, 0, 2, 8], [3, 11, 2, 0, -2, -8, -4, 3, 0, 2, -10, 2, -5, -5, -7, 0, -8, 4, -2, -4, 2, 3, 0, -6, 3, 0, -1, 4, 5, 2, -2, 3, 4, 0, 10, 1, -2, -3, 3, 9], [8, 7, -3, 3, -4, -7, -1, 3, -2, 0, -11, 3, 5, -3, -1, -4, -3, 2, -8, -4, 1, 4, 1, -7, -3, -1, -1, 0, 3, -3, 4, 0, 1, -2, 7, 8, -5, 4, 5, 9], [-1, 8, 0, 1, 2, -7, -2, 3, -1, 0, -6, -1, -1, 0, 0, 0, -6, 5, -4, 2, 2, 5, -3, -2, -2, 3, -2, 5, 1, 1, 6, 5, 2, 3, 7, 8, 0, 0, 4, 2], [-1, 6, 3, 0, 2, -3, -4, 3, -4, 2, -1, 4, 2, -6, -5, 2, 0, -3, 0, 0, -3, 0, -4, -3, -6, 1, -4, 4, -3, 0, -2, 0, 5, 1, 9, 4, -1, -1, 3, 0], [4, 7, -4, 0, -4, -8, 1, 2, 1, -1, -5, 2, 1, 3, -4, -1, 0, 2, -1, 3, 0, 0, -6, 2, 1, -2, -3, -2, 0, 4, 0, 0, 6, -2, 10, -7, -4, -1, 1, -4], [7, 4, -4, -1, 2, -6, -5, 1, -4, 2, 0, -2, -3, 4, -1, 4, 3, 1, 2, -2, 1, 0, -4, 0, 2, 1, -5, 2, 0, -1, -4, -1, 0, 0, 8, 0, 3, -2, 0, 0], [0, 0, 2, 4, -3, 3, 0, 0, 2, -2, 0, 3, 0, -2, 1, -4, 1, -2, -2, 4, -2, 3, 0, 2, 0, -2, 0, 0, 2, -3, 4, 1, 4, 0, 5, -6, 1, 1, 0, 0], [6, 0, -4, -1, 0, 0, -1, 0, 4, 4, 0, -4, -1, 0, 0, 0, 1, -2, 4, -2, -1, 3, -5, 0, 0, 4, 1, -1, -1, 0, 0, -1, 0, -3, 0, 2, 2, 0, -1, 0], [-2, -4, -1, -2, -2, 3, -1, 0, -3, 4, 3, -3, 1, 2, 1, 0, 2, -3, 0, -4, 0, 2, -5, -1, 1, 0, 2, 4, 2, 0, -2, 0, -3, 3, 1, -1, 2, -2, 0, 3], [1, 2, 1, -1, 0, -3, 3, 0, -3, 4, 1, 0, 1, 0, 0, 2, -3, 0, 0, 2, -2, 0, 3, 2, 1, 1, 2, 1, -4, -3, 1, 0, 0, -3, 2, 0, 0, 0, -3, -3], [1, 1, 2, -2, 0, 0, 3, 2, 0, -1, -3, 0, -1, -3, -2, 3, 2, -2, -1, -2, 0, 2, 1, -1, 0, 1, -2, -2, 0, 1, 4, -4, -1, 4, 0, -1, -3, -4, 0, 4], [0, -3, 2, 4, -3, 4, 1, -3, 4, 2, 3, -5, -3, -1, 0, 3, 4, -1, 3, -4, 4, 2, 1, 3, -2, -3, 4, 1, 0, -3, 0, -4, 1, 4, 1, 2, 0, 1, 3, 0], [-2, 0, 0, -2, 3, 0, 3, 0, 4, -1, 1, 3, 1, -4, 4, -3, 0, 2, -2, 0, -3, 0, 2, 0, 0, 1, 3, 2, 2, 0, -2, -5, 3, -3, -4, -4, -1, 2, 3, 0], [1, -2, 0, -2, -4, -1, 0, -1, 4, -1, -2, -1, 3, 0, 0, 0, 0, 4, -3, 2, 3, 3, -4, 3, -1, 0, 0, 1, 0, 0, 1, 0, 4, 0, 0, -2, 0, -3, 2, 0], [2, -5, -4, -1, 4, 0, -2, 2, -3, 0, 3, 0, 0, 4, 0, 3, 3, 2, 2, 4, -1, -3, 2, -1, -2, -2, 0, 0, 0, 3, 0, -3, 0, -1, 0, 0, -2, -2, 0, 0], [-1, -5, 0, 2, 0, -4, -2, 2, 0, -1, 0, -3, 0, 0, 4, -1, 0, 2, 1, 1, -3, -2, -1, 1, 1, -1, -4, 1, -1, 1, -3, 1, -1, 0, -3, 1, 0, 1, -2, 4], [-2, 2, -3, 1, -1, 0, 1, 0, 0, 1, 0, 3, -3, 0, 0, -4, 0, -3, 0, -3, -4, -2, 0, -3, -2, 0, -1, -3, 0, 3, 2, 0, -2, 1, 2, -3, -1, -1, 2, -1], [-1, -2, 4, -1, -3, 4, -4, -1, 2, 0, 4, -3, -3, 3, 2, 2, 0, -2, 3, -1, 0, 4, -3, 0, 4, 2, 0, 0, -1, -4, 4, 3, 2, 3, 2, 0, 4, 0, 4, 2], [6, 0, -3, 0, 2, -2, 1, 2, 4, -4, 0, 0, 1, -2, -2, -4, 1, -1, 1, -4, 0, -3, 3, -3, 1, 0, 0, -1, -1, -4, 4, 0, 3, 1, -3, 3, 4, -2, 1, 4], [0, 0, -3, 3, -3, -1, -4, 2, 1, 1, -1, 2, 1, -3, 0, 1, 0, 1, 0, 3, -2, 0, -1, 3, 4, -1, -1, -1, 4, 4, 1, 0, -1, 4, 2, -1, 0, 2, 1, 2], [1, -2, 1, 0, 2, 3, -3, 2, -3, 3, -3, -4, -1, 0, 2, -1, 0, 4, -2, 1, 2, -3, 3, 4, 1, -2, -3, -2, -2, -4, -1, 0, 3, -2, 0, 0, 1, 0, 1, 0], [-2, 0, -1, -1, 3, 0, -3, -2, -2, 2, -1, -3, 0, 0, 4, 2, 2, 0, -2, -1, 3, 1, 2, -5, -1, 0, 0, 3, 1, 1, -3, 0, -4, -2, 3, -2, 3, 3, 2, 3], [-5, -3, 0, -3, 5, -2, 0, 4, -1, -2, 1, -6, 0, -4, 2, 0, 3, 3, 2, 4, -1, -1, -3, -5, 7, -2, 0, 4, 2, 0, 2, 5, 0, 0, -2, 3, 0, 0, 0, 0], [-8, 0, 7, 0, -1, -1, -4, -1, 1, 0, -5, -2, -3, -5, 3, -3, -1, -1, 0, 0, 3, -1, 4, 0, 3, 2, -3, -1, 5, 3, 1, 7, 1, 0, 0, 4, 2, -3, -2, 0], [-4, 3, 4, -1, 0, -3, 0, 2, 2, 6, -15, 7, -8, -2, 2, -4, 2, 2, -2, 1, 0, 0, 5, 0, 7, -2, -1, -5, 5, 4, -1, 5, 0, -1, -3, 15, -5, 1, 0, 2], [3, -1, 4, -1, -1, -10, -7, 1, -4, 4, -15, 9, -6, -8, 7, 0, -2, 3, -2, -4, 0, -7, 4, -1, 6, -4, 4, -4, 1, -1, -3, 6, -6, -1, -9, 8, -8, 2, 3, 8], [3, 4, 8, 1, -2, -1, -2, 11, -1, 4, -17, 1, -8, -8, 0, 1, 0, 8, 0, -4, -3, 3, 2, -1, 9, 2, -9, -4, -1, -2, -5, 9, -9, 1, -3, 6, -5, -2, -3, 7], [5, 11, 10, -2, -6, -1, -5, 5, 0, 2, -17, 3, -8, 0, -2, -2, -7, 7, -1, 1, -2, 4, 0, 4, 1, 2, -3, 0, -6, 0, 0, 8, -4, -5, -2, 0, -3, -3, -1, 2], [4, 12, 7, -9, -1, 0, -6, 10, 0, 0, -17, -1, -6, -8, -1, 3, -9, 5, 1, 1, -1, 4, 2, 3, 2, 0, -7, -3, -3, 0, -2, 4, 1, -3, -2, 6, -8, 2, 4, 4], [12, 5, 6, -2, -2, 0, -3, 9, -4, 0, -7, 0, 3, -9, -2, -1, -9, 5, 2, 1, 1, 6, 2, 2, -4, 2, 4, -6, -2, -7, 3, -2, 7, 0, -1, 7, -3, -1, 14, 6], [5, 6, 5, 2, 0, -4, -4, 4, 0, 0, -8, 1, -3, -1, -4, 6, -1, 7, 2, 0, 0, 3, 4, 0, -11, 1, -2, -2, -5, -3, 3, -2, 5, 3, 1, 4, -3, -2, 9, 6], [12, 7, 2, 6, -2, -1, 0, 4, -2, 3, -12, 0, 0, 1, -4, 0, 0, -5, 0, -2, 2, 1, 2, -4, -8, -2, -5, -8, -8, 0, 6, 1, 12, 0, -2, 5, 0, 0, 8, -1], [2, 2, -3, 4, -6, -1, 3, 2, 2, 4, -4, -3, 0, 0, -3, -3, -3, 2, 1, 2, -1, 6, -1, -4, -1, -3, -4, -1, -4, -5, 3, 7, 7, 0, 0, 2, 4, -4, 6, -5], [0, 0, -4, 5, 2, -2, -2, 3, 1, 2, -1, 0, -2, -3, -5, 0, 0, -3, 0, -4, -4, 4, -2, 1, 1, 0, -4, 2, 0, -3, -2, 5, 0, 0, 1, 3, 0, 0, 0, -1], [1, -1, 0, 0, 0, -2, -1, -2, -3, 4, -1, 3, -2, -3, -1, -4, 3, 0, 1, -2, 0, 4, -7, 1, 0, 2, 3, -2, 2, -1, -1, 1, 4, 2, 0, -5, 0, -2, 0, 3], [2, -2, -4, 0, 2, 0, 2, 1, 1, -4, -4, -1, 0, 0, -3, 3, 0, 2, 0, 0, 1, -2, -4, 2, -1, 1, 2, 4, -3, 2, -2, -2, 0, 3, 1, 0, -1, -2, -1, 0], [5, -5, -2, -4, -4, 0, 1, -2, 2, 0, 1, -1, -3, -3, -4, -4, -3, 0, -3, 2, 0, -2, 2, -1, 2, -3, 2, 3, 0, -3, -1, 3, 1, 0, -1, 0, 2, 0, 4, -1], [-1, -2, 2, 2, 2, 0, -3, 0, 1, -3, -3, 0, 2, 0, 0, -4, 1, -2, -4, 2, -2, 2, 0, 0, 3, 1, 1, 0, 0, 4, 0, -1, 0, 4, 2, 2, -3, 3, 3, 3], [-2, 1, 0, -2, 3, -2, -3, 3, -3, 4, 2, -1, -4, -3, -3, 2, -2, 3, -3, 4, 0, 0, -2, 4, -1, 0, 3, 4, 4, 1, -3, 0, 0, 2, 0, -5, -4, 0, -2, 3], [-1, 0, -2, 0, 2, 3, -4, 0, 0, -3, -1, 1, 2, 0, -1, 2, -1, 2, 2, 0, 1, 0, -4, -1, -3, 4, 0, 3, -1, 1, 3, -4, 1, 0, 0, -4, -2, 2, 3, -2], [-1, -6, -1, 1, 1, 2, 2, -1, 0, 0, -3, -2, 0, 3, 2, -1, -2, -3, -2, -4, -2, 2, -1, 2, 2, 4, 0, 0, -3, 2, -1, 1, 0, 1, 2, 1, -4, 3, 3, 0], [-1, -4, -2, 0, -3, 0, 1, 1, -2, -3, -2, -3, 1, 1, -4, -4, 1, 0, 0, 3, 0, 3, 2, -1, 0, -3, 1, 0, -3, 2, 3, 4, 2, 1, 0, -1, 1, -2, 2, -2], [2, -1, -1, -1, -4, 3, -4, 0, 1, 1, 0, 0, -2, 0, 4, 0, 3, 3, 0, -4, 0, 0, -3, -3, 2, 4, 0, -1, 0, -2, 0, 0, 1, 0, 1, 2, 0, 0, 4, 0], [-2, -3, 2, -4, 3, 0, -3, -2, 0, -3, -2, 2, 0, 0, 3, 0, 1, -3, 3, 3, -4, -1, 0, 1, 0, -2, 1, 0, 0, -4, 0, -3, 2, 3, 0, 0, -3, -2, 2, -3], [0, 0, 2, 2, 0, -3, -3, 3, 2, -3, -1, -2, -2, -2, 2, -4, -1, 2, 2, -2, 1, 0, -3, 2, 0, -2, 4, 0, 1, -2, -3, -4, -1, -3, -2, -2, 3, 3, -3, 0], [5, 2, 3, -2, 3, -1, -2, 1, -3, 1, -2, 0, 0, 0, 0, -2, 0, 1, 4, 4, -1, 0, 0, 0, 1, -1, 0, -3, -2, -2, 1, -2, 2, 0, 3, 0, 0, 3, -4, 0], [3, -5, 0, -1, 2, 0, 1, 0, -1, 0, 0, -2, 3, 2, 1, 0, 3, 1, 0, -3, -4, 2, -3, 0, -2, 1, 0, 4, 4, -3, -4, 1, 4, 1, 3, 0, -1, 3, 0, 1], [0, -1, -2, 1, -2, 2, 0, 3, -1, -2, 0, 3, 1, 4, 1, 3, 1, 4, 3, -1, 3, -4, -1, 0, 0, 1, 3, 3, 1, 0, 3, 3, 2, 0, 0, 2, 1, 4, 3, 0], [-2, 0, 5, -1, -1, 2, 0, -2, 0, 2, 0, 0, -4, -1, 1, -1, -1, -2, 0, -2, 0, 4, 1, 2, 2, 1, -3, 4, -1, 3, 4, 0, -2, -4, -4, -4, 0, 0, 0, -2], [-2, -4, 0, 0, -1, 5, 2, 2, 1, 3, 0, 0, -1, -4, 2, -5, -3, 2, 4, 1, -2, -1, 2, -2, 6, -1, 3, -2, -4, 1, 0, 5, -1, 2, -1, -2, 0, 4, 2, -6], [-11, 1, 3, 1, 3, 1, 2, 3, -2, 3, 0, -4, -4, -2, 0, 0, 1, 3, 0, 0, -2, 0, -1, -5, 5, 0, -3, 3, 4, 4, 6, 9, -2, 1, -9, 9, 0, 2, 2, -8], [-6, 0, 10, 2, 0, -5, 1, 0, 0, 4, -7, 0, -7, -3, 6, 0, 3, 1, 2, -4, -2, -6, 4, -7, 0, 0, -2, 0, 8, 5, -2, 10, 0, -4, -10, 11, -5, 0, 1, -9], [-5, 3, 3, -5, 3, -2, 2, -4, -6, 5, -8, 1, -8, -6, 3, 1, 0, -1, 2, 3, 1, -8, 8, -5, 1, -2, -4, -1, 0, -1, -1, 14, -2, -2, -9, 16, 0, 1, -2, -5], [-2, 7, 9, 0, 1, 0, -4, 7, -4, 1, -11, -3, -10, -5, 3, 2, 3, 3, 1, 0, 3, -6, 4, 1, 5, -4, -7, 2, 5, 4, 1, 9, -4, -7, -11, 4, -3, 0, -7, -2], [-2, 14, 7, 5, -6, -2, -1, 0, -5, -1, -10, 3, -3, -7, 0, -4, 0, 0, 3, 0, 5, 0, 5, -1, 3, 2, -4, 6, 7, -2, 2, 10, -7, -1, -9, 7, 0, 0, -7, 7], [0, 9, 7, -2, -3, 1, -8, 1, -5, 6, -13, 5, -3, -4, 0, 1, 0, 5, 4, -3, -2, -4, 0, -4, 5, 4, 0, 3, 3, 0, 6, 11, -14, -2, -5, 4, 2, 1, -3, 6], [3, 5, 11, -6, -2, 1, 0, 3, -6, 3, -9, 3, 0, -6, 0, 4, -10, 6, 2, 2, -3, -6, 2, 3, 2, 2, -3, -1, 0, -3, -2, 1, -6, -6, -3, 5, -3, -4, 5, 15], [7, 6, 2, -8, -2, 2, 0, 1, -7, -1, -14, 4, 0, -5, -1, 4, -11, 3, 0, 4, -3, -4, -3, 3, 5, 5, -9, -7, -1, -7, -4, 2, 0, -4, -4, 0, -12, 2, 9, 8], [6, 7, 9, -6, -4, 4, -3, 4, -6, 3, -9, -1, 1, -8, -4, 2, -9, 3, 4, -3, 0, -4, 0, 11, -12, 0, -11, -11, -6, -5, -4, -2, 5, 1, -7, 5, -12, 0, 7, 0], [0, 6, 6, 0, -5, 0, -1, -1, 1, 0, -8, 6, 4, -6, -5, 7, -4, 0, -1, 1, -1, 2, -1, 4, -14, 2, -6, -10, -11, -3, -5, 0, 9, 0, -2, 5, -5, 0, 9, 0], [5, 8, 5, 0, -3, 0, 0, -3, 2, 2, -10, -5, 2, -6, -1, 0, 9, -6, -1, 4, 0, 0, -9, 0, -11, 4, -2, -11, -4, -1, 3, 1, 8, 5, -3, 2, 2, 0, 6, -2], [3, 0, 6, 1, -3, 0, 4, 3, 2, 3, -7, -9, 4, -2, -1, 2, 6, 2, 2, 0, 0, 3, -1, 2, 0, -2, -11, 0, -5, -5, 2, 6, 4, 0, -6, -3, -1, 0, 0, -2], [0, -1, -5, 1, -1, 0, 4, 0, 0, -1, 0, -6, 3, -4, -6, -4, -3, 2, 3, -2, 0, -1, -1, 0, 3, -1, 0, 1, 0, 0, 1, 4, 6, -2, 0, -4, 0, -1, 4, -4], [2, 1, 3, 2, 3, -2, -4, 2, 0, -3, -2, 2, 0, 2, -1, -1, 0, 0, 3, 0, 0, 3, 0, -2, 0, 3, -6, 3, -3, 2, 0, -1, 0, 0, -2, 2, -1, -4, 1, -1], [1, -5, -1, 3, 4, -1, -3, 2, 4, 3, -2, 1, 4, -1, -1, -2, -2, 1, -2, 4, 0, -1, -3, 0, 0, 4, 0, -3, -4, -1, -3, 2, -1, 1, 2, -4, -1, -1, 0, 0], [0, 2, 1, 2, -2, 4, -4, -4, 2, -2, 3, 3, -1, 1, -2, -4, 2, 0, 1, -4, 0, -4, 2, 4, 0, 0, 0, -2, -1, -2, 4, -1, 2, -1, 0, 3, 4, 2, -1, 4], [1, 0, 0, 0, 3, -3, -4, -4, -3, -1, -3, -4, 1, 3, 0, -2, -2, -3, -3, 3, -2, 3, 3, 4, -2, -1, 1, 0, 0, -3, 4, 0, -2, 4, 2, -1, -1, 3, -2, 4], [2, 1, 2, -1, 0, 0, 1, -2, -3, 0, 2, 2, -2, -3, 3, -1, 3, -2, 0, -2, -2, -2, 3, -2, 0, 0, 0, 0, 0, 4, 0, 4, -1, 2, 0, -1, 0, 0, 3, 4], [4, 2, 4, -1, 3, 0, -4, 3, 0, -2, 2, -3, 3, -3, 3, 3, -1, -3, 0, -2, -2, 1, 0, 0, 4, -3, 1, -3, -2, 2, -2, 0, 1, -1, 0, -2, 3, 1, 0, 0], [-2, -5, -3, 0, -1, -2, -1, -2, 2, -4, 0, -4, -1, -1, 0, 1, -2, 4, 0, 3, -2, -2, -3, 0, -2, -1, 0, -1, -2, 0, 0, -3, 2, -1, 0, 2, 0, 0, -1, 0], [2, 0, 2, -4, -1, 0, -3, 0, 4, 0, 4, 2, 0, 0, -3, 0, -3, -3, 0, -4, 0, 2, 2, 3, 3, 0, 1, 2, -1, 4, 2, 2, 4, 0, 3, 0, 2, 2, 4, 1], [-1, 2, 0, 0, -4, -3, 2, 1, -4, 2, 0, 0, -1, 2, 0, -1, 0, 2, 2, -2, 3, 4, 0, 3, 2, 2, 1, 4, 3, 0, -1, 0, 0, 1, -4, -2, 0, 1, 0, 3], [1, -4, -3, 2, 2, 1, 3, 2, -1, -1, -1, -1, 0, 2, 2, -4, -2, 4, 3, 0, 4, 1, -1, 1, 4, -1, 1, -3, 1, -1, 2, -3, 3, 2, 0, -4, -2, -2, 0, 1], [-2, -1, -3, -3, 2, 2, 3, -3, 2, 2, 0, -2, -3, -4, -1, 1, -1, 4, 2, 3, 0, 1, -4, -1, 3, 0, -1, -3, 0, -1, 3, -4, 1, -4, 0, -3, -2, 0, 1, -1], [4, -1, 1, 0, -3, 2, 1, -1, 2, -3, -3, -1, 0, -2, -1, 0, 0, 4, -2, -2, 2, -1, 2, 0, 0, -3, 4, 3, 2, 3, -2, -1, 0, 1, 0, -3, 3, 3, -1, -1], [1, 1, -3, -4, 0, -3, 2, 0, -3, 0, 0, 1, -2, 0, 2, -1, -4, -3, 4, 1, 3, -2, -1, 2, 0, 2, 3, -2, -3, -3, 0, 2, 1, 1, -4, -4, 2, -3, 1, 0], [2, 1, -2, -3, 2, 0, -1, 2, 0, 0, 2, -4, 0, -1, 3, 1, 1, 4, 3, -1, -2, -5, 0, 0, -1, -4, 3, -2, 2, 0, 3, 0, 2, 1, 0, -3, 4, -1, 0, -2], [-9, -9, 0, 2, 0, 4, 4, 0, -4, 3, 3, -4, 3, 3, 3, -2, -2, 0, -1, -2, 0, -2, 5, -4, -3, -4, 5, 3, 0, 5, -1, 2, 0, 2, -11, 0, -3, 0, 1, -8], [-3, -7, 8, 1, 1, 7, 1, -7, -1, 1, -1, 0, 1, -4, -1, -4, 2, 0, 0, 1, 5, 0, 0, -1, 0, -5, 0, 0, 3, 5, 5, 6, -6, -4, -10, 5, -3, -2, -4, -6], [-2, -1, 9, -4, -1, 0, -2, -12, -3, 1, -2, -1, 0, 0, 5, 1, 0, 0, 1, 1, 1, -4, 10, -6, 3, -6, -6, -9, 0, 6, -5, 7, -2, -3, -12, 13, -4, 1, 1, -5], [-9, 1, 7, 0, 2, 3, -1, -4, 0, 1, -3, -4, 4, -4, -2, 1, 2, 0, 0, 2, 0, -10, 8, -6, 3, -6, 1, -1, 5, -5, 4, 6, -9, -4, -9, 4, 1, -2, 0, -2], [-1, 5, 7, 4, 7, -2, 2, -5, -6, 0, -1, -2, 0, -3, 1, -5, 3, -3, 1, 0, 2, -6, 5, -8, 0, 0, -2, -3, 3, -8, -2, 8, -7, 0, -14, 2, -2, -4, -4, -6], [0, 3, 3, 4, 1, -1, -2, -4, 0, 2, -3, -6, 3, 0, 0, -1, 4, -1, 0, 1, 4, -12, -3, -8, 3, -3, -1, 0, 5, -8, 0, 8, -4, 3, -17, 1, -1, 2, -1, -3], [-8, 3, 9, 3, 1, -1, -4, 0, -1, 2, -5, -1, -1, -2, 6, 4, 6, -1, 4, -1, 7, -4, -4, -9, 5, 4, -2, 2, 7, -1, 1, 1, -8, 0, -12, 10, 3, 0, -2, 1], [-5, 6, 5, -9, 0, 3, 5, -7, 2, 0, -6, 2, 0, -8, 2, 3, -6, -1, 1, -3, 4, -6, -3, -8, 5, 2, -6, 1, 3, -6, -2, 1, -14, 1, -9, 11, 3, 0, -2, 11], [1, 1, 5, -15, 0, 7, -1, 1, 4, 6, -8, 3, 3, -11, 4, 3, -10, 0, 4, -3, 0, -4, -1, -7, -5, 3, -5, 0, 1, -7, -1, -4, -12, 1, -6, 9, -7, 0, 0, 1], [-1, 11, 5, -13, -4, -1, 0, -4, 7, 2, -14, -1, 8, -12, 3, 1, -10, 2, 5, 4, 7, -6, 1, -2, -7, 2, -10, -11, -1, -8, -2, -6, 1, 1, -9, 1, -15, 4, 3, -2], [0, 9, -1, -2, -6, 6, -1, 0, 7, 1, -11, 7, 9, -8, -8, -1, -6, 0, 3, 4, 2, -10, -7, -3, -14, 2, -9, -14, -1, -5, -5, 0, 6, -6, -9, 5, -3, -2, 10, -4], [-1, 7, 8, 5, -3, 3, -7, -6, 11, -1, -14, 2, 6, -11, -3, -3, 8, 1, 3, 3, 0, -7, -3, -3, -10, -2, -7, -8, -5, -3, 1, 4, 9, 0, -13, 4, 5, 0, 6, -4], [0, 0, 4, 2, -2, 3, 0, -1, 3, 2, -9, 0, 0, -7, -5, -1, 12, 0, -2, 3, 0, 0, -3, 0, -4, -1, -8, 0, -2, 0, 4, 3, 1, 0, -9, 3, 2, -1, 11, -2], [2, -4, 3, 1, 0, 0, 1, 0, 0, 0, 0, -5, -1, -7, 0, 4, 3, 1, 0, 0, 2, -4, 2, 0, 4, -1, -6, -3, -1, 4, -2, 2, 5, -2, -4, -1, 1, -4, 0, 2], [2, 1, 4, -3, 2, 4, -1, 3, -3, -3, -1, -2, 4, 1, -3, 0, 0, -1, 4, -4, 0, 1, 0, 0, 0, -3, -5, 1, -5, -1, -4, 3, -4, -4, -3, 3, -2, 1, 1, -1], [-1, -1, 1, -1, -3, 3, 3, -3, -2, 0, 2, -3, -2, -1, -1, -3, 0, 2, -1, 0, -1, 1, -3, 0, 3, 3, -3, -3, -1, 3, -3, 0, 0, 0, 0, -4, -2, 2, 2, 0], [5, -3, -2, -4, -3, -2, 1, 0, -2, -4, -2, 1, -2, 4, 1, 3, 1, 2, 3, 4, 0, -2, 0, 4, -1, -4, 1, -2, -1, 0, -3, 3, 0, 0, -2, 1, -1, -3, -2, 0], [5, 0, 0, 0, -2, 0, -1, 0, -4, 4, 2, -1, -1, 2, 0, -4, 2, -2, -2, 2, 3, -4, -4, -3, -1, 2, -1, -2, 2, -1, -1, 0, -2, 4, 1, 1, 2, -2, 4, 0], [0, 1, 2, 0, -1, 1, 0, -2, 1, 2, 4, 0, -1, -2, 1, -4, 0, -3, 0, -4, 3, 0, -3, 1, 4, 2, 4, 1, -1, -1, 0, -1, 0, -3, 0, 0, -1, -4, -1, 2], [0, 1, 3, 2, 3, -1, 0, 1, 3, 0, 2, -4, 0, 2, 3, 2, 1, 1, -2, 1, 3, -2, -3, 1, 2, -2, 4, -2, -4, -1, 0, 1, 2, 2, -3, -4, 0, 0, -4, 0], [1, -3, -4, 4, 1, -4, 3, -2, 0, 2, 0, 0, 0, 0, 0, 2, 2, 0, 4, 3, -1, 4, -3, 3, 0, 0, -3, 0, 1, 1, -2, -3, 1, -3, -3, 1, -1, -1, 2, 4], [-2, -2, 1, -1, -3, 1, -3, 1, 0, -3, -3, -5, 4, -2, 0, -3, 0, 2, 1, 4, 0, 1, -4, -1, 1, 1, 3, 2, 3, 0, 0, 0, -2, 0, 3, -2, -2, 0, 4, 1], [2, -4, 3, -4, -3, -1, 1, -3, -1, -3, 3, 2, -2, 1, 1, -2, -1, 0, 0, 0, -1, 0, -4, -3, 4, -3, 0, -1, 0, 1, 2, -4, -4, 2, 0, 1, -3, 0, -2, 4], [2, 0, 3, -2, -1, -1, 1, 2, 2, -3, 3, -2, 2, 1, 0, -3, 2, 2, 4, 0, -2, 4, 2, -3, 3, 1, 4, 2, -2, 2, -1, 1, -1, 3, 1, 2, 0, -3, -3, -2], [2, -3, -4, 0, 0, 0, 3, -1, 3, 2, 1, 1, 1, -1, 2, -4, 0, 1, 0, -2, 2, -1, 1, 3, 0, 4, -3, 2, -1, 2, -4, 0, 0, -2, -1, 3, 0, -1, -3, -2], [1, 0, 1, 0, 0, 4, -1, -2, 4, 0, 0, -4, 0, 0, -1, 2, 0, 4, 1, 0, 1, 1, -4, -4, 0, -2, 0, -4, 0, 4, 0, 3, -3, 0, -2, 0, -2, -2, 2, 1], [0, -3, 4, 4, 3, 2, 0, 1, -1, 0, 0, 2, 3, 3, 2, -1, 2, 2, 1, 3, -4, -3, 0, 0, -1, 0, 1, 1, -4, 4, 3, -1, 0, 4, 0, 0, -4, 1, -1, 1], [-6, -4, 0, 0, 1, 1, 1, -4, -3, 0, 6, -6, 3, -3, 1, 0, -2, -2, -2, 1, 3, 2, 1, -3, -4, 2, 5, 0, 0, 0, 3, -5, -7, 2, -2, -6, 3, 1, 0, -2], [-9, -2, 0, 1, -1, 8, 2, -6, 0, -4, 5, -6, -5, 0, 1, -2, 0, -2, 2, -3, 0, -1, 3, -4, -6, -2, 3, 2, 3, 5, 0, 0, -7, -2, -11, -8, 5, -1, -2, -3], [-8, 2, 0, 0, -3, 2, 0, -12, -1, -2, 0, 1, -1, -9, 2, -4, -3, -3, 4, -2, 0, -3, 9, -3, -3, -7, 2, 1, -2, 0, -2, 0, -4, -1, -11, 0, 7, 0, -2, -9], [-6, 0, 5, 2, 0, 6, -6, -8, 1, -2, 7, -7, -3, -8, 7, 1, -5, 1, 9, 1, -4, -8, 1, -5, 0, 0, 1, -1, -1, -1, -5, 1, 0, 2, -13, 1, 6, 4, 0, -4], [-4, 2, -1, 0, 2, 0, -2, -4, 0, -3, 10, -4, -5, -12, -3, 7, -2, -1, -1, -1, -4, 0, -4, -7, 2, 2, -2, -2, 0, 0, -16, 3, 0, -2, -13, 0, 6, -4, 0, -7], [-10, 3, 2, 0, 7, -1, 1, -3, 3, 0, 7, 2, 0, 0, -6, 3, 4, -1, 1, 0, 4, 4, -3, -6, 3, 5, -2, -4, 1, -9, -7, 1, -1, 5, -15, 4, 2, 0, -3, -12], [0, 4, 1, 4, 0, -6, 4, 1, 5, -3, 8, -3, 2, -7, 0, 4, 6, 0, 0, -1, 7, 1, -2, -8, 0, -1, -3, 0, 7, -10, -5, 0, -5, 0, -6, 6, 3, 2, -5, -4], [-12, 3, -1, 6, 3, -3, -2, -5, 8, -3, 1, -2, -1, 1, 2, 4, 6, 0, 0, 1, 10, 1, -3, -4, 6, 1, 0, 4, 2, -2, -2, 3, -9, 1, -9, -3, 8, 1, -7, -2], [-12, 7, 2, -7, 3, 3, 0, -4, 11, 3, 2, 1, 0, -2, -1, 6, 2, 0, 3, -1, 8, 4, 0, -5, 1, 1, 1, 6, 5, -2, 0, -1, -14, -2, -5, 0, 2, 0, -8, 7], [-1, 3, -1, -16, 0, 0, 1, -2, 17, 8, -1, 11, -1, -1, -4, 4, -10, 6, 2, 4, -1, 2, -2, -8, -4, 3, 3, 10, -3, -6, -2, 0, -17, 3, -7, 3, -1, 0, 1, 4], [2, 9, -1, -17, -2, 8, 0, 0, 17, 1, -3, -4, 0, -9, 0, 3, -12, 6, 6, 0, 4, 3, -7, -13, -7, -3, 0, -7, 0, -2, -3, -2, 1, 1, -11, 6, -2, -6, 1, 6], [-3, 10, -2, -8, -3, 4, 0, 0, 16, -4, -7, 1, 4, -8, 1, 3, -8, 0, 8, -2, 0, -5, 2, -11, -13, -4, 2, -16, -1, -4, -6, 2, 1, -4, -12, 1, -1, -5, 0, 2], [-4, 7, 5, 4, 0, 4, 0, 1, 10, 0, -5, -8, -1, -12, 0, 4, 11, -1, 0, 2, 8, -4, -6, -12, -13, -1, -12, -15, 4, -4, 0, 2, 9, -7, -15, 4, -2, -6, 4, -6], [1, 7, 9, 5, 1, 0, 0, 0, 12, -2, -13, -3, 2, -9, -2, 0, 15, -2, -4, 3, 0, -2, 1, -6, 1, -4, -17, -11, -1, 0, 0, 5, 11, -2, -7, 5, 6, -6, 4, 1], [-2, 5, 4, 4, 2, -2, 5, 3, 7, 3, -8, -2, 3, -9, -3, -5, 6, 0, 0, -3, 1, -5, 2, -3, 6, 1, -12, -2, 0, 4, 4, 7, -1, -4, -8, 5, 0, -4, 0, -4], [2, 2, 5, 3, 1, 0, 1, -2, -2, 4, -5, -1, 1, -3, -1, -3, 0, -4, -1, -1, -1, 1, 1, 2, 2, 3, -5, 3, -1, 4, 5, 4, -4, 0, -6, -2, 1, -1, -3, -3], [-1, 3, 4, 0, 0, -3, 4, 1, -3, -3, 0, 2, 3, -4, 4, 2, 1, 1, 0, 0, -4, -1, 0, -3, -2, 2, 1, -1, 1, -4, -1, 1, -2, 2, -4, 0, 2, 0, -4, 3], [1, 0, -2, 1, -3, 0, -4, 0, 2, 0, 0, 0, -1, 0, -3, 2, -3, 0, -2, -3, 2, -3, 0, 4, 0, -2, 3, 3, 3, 1, -3, -3, -2, 1, -2, 2, 1, 0, 3, 2], [1, -2, 3, -1, 0, 4, -4, -3, -2, -3, 4, -2, -4, -3, 0, 3, -4, -2, -2, 4, -1, 3, 3, 0, -1, -2, -3, 0, -1, 1, 1, 0, 2, 4, 4, 0, -1, 3, -3, -3], [0, -1, -2, -4, 0, 0, 2, 3, 4, 0, 4, 0, 0, 0, 0, -2, 2, -1, -1, -2, -2, -1, -2, 2, -3, -3, -3, 3, -3, 0, -3, 0, 2, 0, -2, -1, -2, -4, -2, 1], [-1, -1, 0, 4, 4, 0, 0, -1, 0, 0, -2, -1, -2, 0, -1, 0, 0, -1, -1, 0, -3, 3, 2, -3, 0, -4, 2, 2, -4, 0, 3, 3, 1, -2, 0, -4, 0, 3, 0, -2], [4, -6, 0, -3, 2, -3, -2, -5, 2, -1, -3, 3, 3, -3, -3, -2, 0, 2, -3, 3, -2, 3, -2, 0, 4, 0, -3, 0, -2, -2, -4, 0, 3, 2, 0, 1, 3, 0, 0, 1], [5, -4, 0, 0, -2, 0, -4, 1, -4, 2, 0, -2, 2, 0, -3, 3, 4, 0, 0, 3, 0, -4, 0, 0, 1, 2, -4, 4, 0, 0, 0, -1, 0, 3, 2, 2, -3, -4, -4, 0], [2, -3, 2, 3, 0, -4, -5, -4, 2, 3, -3, 2, -2, -2, 3, 0, 4, -3, 1, 2, 1, -2, 0, -3, -2, -3, 3, -3, 0, 1, 4, 0, 0, 1, -2, -2, -1, 0, -2, -1], [0, -2, -2, 2, -3, 2, -3, 0, -3, 3, -1, 1, -3, -3, -2, 3, -2, -1, -1, -2, 2, 3, 1, 1, -3, -1, 1, -2, 1, -1, 0, 1, -2, 3, -3, -2, -2, -2, 2, 0], [-2, 0, -1, -2, -3, 2, -4, -3, 2, 4, -2, -2, 0, 0, 1, -2, 0, 2, 1, -1, -2, -3, 0, 2, -1, 0, 2, -1, 3, 4, 3, 2, 0, -1, -2, -4, 4, 4, 0, 1], [3, 1, -1, 2, -1, 2, -2, 1, -2, 0, 0, 3, -4, -1, 3, 2, 3, 3, -2, 0, 0, 2, 3, 2, 3, -1, 0, -2, 2, 1, -3, -4, -2, 0, 2, -1, 1, -1, 1, 1], [4, 2, 2, 3, 0, 2, 3, 0, 0, 0, 4, 0, -4, -1, 0, -3, -4, 4, 2, 0, 1, -3, 1, 2, 0, -4, 3, -1, 0, -2, 5, -2, 0, -3, 1, 0, 0, 3, -4, 1], [-4, -7, 2, -2, 3, 6, 1, 1, -3, 0, 6, -4, -3, -1, -3, 0, 0, 0, -1, 3, 3, -5, 11, 2, -8, 0, 4, 3, 0, 2, 4, -9, -5, 0, -6, -6, 3, 0, -3, 2], [-12, 1, 3, 0, -2, 11, 2, 1, -1, 3, 11, -10, -3, -6, -5, -6, 1, -1, 3, -2, 0, -7, 10, -3, -5, -3, 3, 9, -5, -2, 8, -2, -7, 4, -12, -6, 3, -1, -2, -7], [-10, 4, -3, 3, 1, -1, -3, -7, -3, -1, 2, -5, -1, -11, 0, 0, 0, 2, 6, 1, 3, -7, 13, -4, -2, -7, 0, 4, 0, 0, -5, 1, -6, -1, -8, -5, 1, 2, -2, -10], [-4, -1, 8, -1, 2, 0, -2, -10, 0, -4, 4, -13, -4, -11, 5, 3, 2, 5, 1, -1, 1, -1, 7, -2, -7, -5, 1, 3, -4, -5, -7, -5, 1, -1, -11, 1, 3, 2, 0, -7], [-6, 7, 3, 3, 3, 3, -3, -1, 5, -5, 4, -8, -5, -7, -2, 2, 1, 1, 0, 0, -1, 7, -2, -4, 2, 3, 1, -6, 1, -12, -11, -11, 8, -1, -11, 0, 0, -6, -2, -7], [-3, 7, 6, 1, 1, -2, -2, -2, 12, -1, 14, 4, -7, -9, -1, 0, 6, 0, 0, 0, 0, 3, -10, -6, 4, 8, 4, 3, 3, -9, -2, -3, 4, -2, -12, 5, 7, -5, -8, -11], [3, 8, 9, 7, -3, -6, 3, -1, 12, -3, 17, 1, -1, -1, -1, 5, 9, -4, -1, 2, 1, 5, -9, 2, 3, 0, 0, 0, 9, -3, 0, -7, 5, -5, -10, 10, 3, -2, -10, -5], [-5, 5, 0, 14, -5, -1, 5, 0, 17, 3, 12, -2, -1, 2, -1, -5, 2, -10, 6, 0, 6, 8, -3, 5, 12, 2, 2, 6, 3, -1, 3, 3, -2, 4, -10, 5, 9, 3, -3, 0], [-5, 0, 2, -2, 5, -2, 4, 3, 14, 1, 7, 3, -4, 6, 4, 4, 1, -9, 6, 4, 0, 13, -5, 7, 8, 0, 8, 17, 0, 0, 0, -3, -13, 5, -2, 3, 4, -4, -4, 4], [0, -8, 10, -8, -2, 5, 2, 6, 9, 7, 3, 5, -2, -1, 0, 2, -14, 0, 6, -3, 0, 16, 0, 0, -8, 2, 4, 10, 6, 3, 2, -1, -14, 0, -5, 0, -10, -4, -1, 1], [4, 1, 9, -17, 4, 2, 2, 3, 6, 6, 3, -4, -4, -8, -4, 2, -5, 2, 13, 5, 3, 4, -2, 1, -11, 3, 13, 3, -4, 5, 5, -4, 1, -5, -10, 6, -8, -2, 2, 5], [6, 12, 1, -17, 2, 0, -6, 4, 3, -3, 14, 3, 4, -12, -7, 0, -2, 0, 12, 0, 2, 10, 2, -10, -17, -5, 17, -14, -8, 7, 0, 1, 0, -3, -8, 7, -4, -2, 2, -1], [7, 10, 3, -4, 1, 2, -3, 5, 4, -1, 10, 5, -2, -11, -9, -1, 7, 4, 7, 0, 5, -1, -3, -13, -5, 0, 15, -17, -2, 9, -7, 2, 5, -2, -16, 8, -4, 3, 5, -5], [3, 11, 7, 5, -5, 0, -2, 3, 0, -1, 3, 0, -1, -11, -7, 1, 13, -4, 3, 0, 0, 5, -4, -11, 3, 2, 5, -14, 1, 5, -1, 5, 0, -4, -15, 7, 10, 0, 6, -3], [-1, 4, 7, 6, -2, 3, 7, 4, 0, 7, 0, -2, 3, -8, -1, -3, 5, -5, 7, 1, 0, 1, -5, -3, 9, 2, 0, 0, 5, -3, 3, 2, 5, -5, -17, 9, 3, -6, -1, -1], [-3, 4, 2, 0, -2, -2, 5, 0, 2, 4, 1, -4, 3, -6, 1, -1, 5, 1, 1, 2, 3, -5, -3, 2, 5, 1, -7, 3, -3, 1, 0, 0, 0, -6, 0, 3, -3, 1, -3, 0], [2, -1, 0, 2, -2, 2, -2, 1, 1, 2, -2, -1, -1, -4, 0, -2, 4, 1, -2, 0, 1, 0, -3, 0, 3, 2, -4, -2, -2, 1, 0, 0, 3, -2, 1, 0, 2, 3, 3, -4], [2, -5, 2, 3, 2, 4, 2, 1, -1, 0, -3, -5, -2, 0, 1, 3, 2, -4, 1, -4, -1, 3, 0, 3, -2, 0, -3, 1, 0, -3, 3, -1, 3, 3, -1, 1, 0, -1, 4, 3], [0, -3, -1, 2, 1, 1, 0, 1, -1, 2, 2, -3, 0, 4, 2, -4, 0, 2, 0, 4, -2, -1, -3, 3, 1, 0, 0, -1, -1, 0, -3, 3, -2, 0, 0, 2, 3, 2, 0, -2], [0, -2, 4, -4, 1, -2, 3, 2, -2, -2, 0, 1, -1, 0, 3, -3, -1, 1, -4, 2, -1, 1, 0, 3, -1, 2, -1, 1, 0, 3, 0, -1, 3, 0, -2, 3, 0, 4, 2, 0], [1, -3, 4, -4, 1, -1, 0, 2, 0, 1, -2, 3, 1, 1, 4, 0, 0, -4, -3, 0, 3, 3, 2, 2, 0, 0, -2, 1, 4, -1, 1, 0, 2, -2, -4, 1, -2, 2, 0, 5], [1, -4, 4, -3, 1, -3, 2, -2, -2, 0, 0, 1, -1, -2, 0, 1, -1, 0, 4, 1, -3, 4, 3, -3, 2, 4, 4, 4, 3, 0, -3, 1, 1, 3, 0, 0, -1, 2, 0, 3], [4, 0, 0, 0, -3, 0, -2, -1, 4, 2, 2, -5, 0, 0, -1, -1, 4, 1, -4, 2, 0, 0, -1, -3, 1, 0, 4, -2, -3, -3, 3, 2, 3, 0, -2, 2, -1, -1, 2, -3], [0, -4, 0, -1, 1, 0, 2, -2, -3, 0, -1, 2, 2, 2, 2, 0, 3, -2, 0, -1, 3, -1, -3, 1, 3, 1, 2, -4, 2, -1, -3, 1, -2, -2, -2, 2, -3, 1, 1, 5], [-2, 0, 1, -3, 2, 3, 1, -4, 0, 3, 0, -4, 4, 1, -2, -4, -2, 2, 1, 0, 3, 2, 0, -2, 1, -2, -2, -1, -3, -3, -2, 2, 1, 0, 3, 0, 2, -3, 0, 3], [5, -1, 3, 0, -1, -3, 0, 1, 4, -1, 1, 0, -3, 1, 4, 1, 0, 4, -4, 1, -3, -4, 0, -3, 1, 4, 2, -3, 1, 2, 3, -2, 3, 1, -2, -5, 0, 3, 3, 0], [5, 0, -2, -4, -2, -2, 0, -3, 0, 1, 3, 2, -2, 3, -3, 0, 3, -1, 2, 1, 0, 1, -2, -2, 0, -2, 0, -3, -3, -2, -2, -5, -1, -1, 0, 0, -3, -3, 2, 0], [1, 0, 0, -3, 4, -2, -4, 1, 1, -2, 5, 1, 2, 3, 3, 0, -1, 3, 3, -1, 0, -1, 5, 0, -3, 2, -2, -3, 0, -5, 1, -2, 1, 0, -3, -6, 0, -4, -6, -3], [0, -3, 0, 1, -4, -2, -5, 5, 2, -1, 11, 0, -5, 1, -6, 0, 4, -1, 2, 0, 1, -7, 5, 3, -7, -3, 2, 3, 2, 1, 5, -6, 0, 0, 0, -8, 8, -3, -2, 0], [-6, -3, -2, 0, -2, -2, -3, 5, 1, 1, 10, -10, -8, -5, -7, 1, 3, -1, -1, 4, -1, -3, 12, 0, -4, 0, 5, 5, -5, -1, 0, -11, -6, 3, 0, -3, 6, 2, -9, -1], [-6, 2, 0, -4, -1, 0, 0, 4, -7, 3, 5, -10, -2, -6, -2, 5, 3, 3, -4, -1, -3, -3, 5, -6, -2, -6, 5, 6, -6, 0, -12, -8, -6, 4, 0, -4, 3, 4, 2, -3], [-9, 0, -7, -6, 0, 2, -3, -2, 0, -1, 6, -13, -4, -8, 2, 2, 0, 1, -2, 2, -1, -2, -1, -7, 0, -4, -3, 0, -8, -2, -14, -16, -6, -1, 0, -2, -1, 0, 4, -7], [-5, 9, -3, 4, 0, -6, -4, 0, -1, -2, 7, -8, -3, 1, 4, -1, 0, 2, -1, 2, 0, 4, 4, 2, 0, 0, -1, 1, -3, -6, -9, -13, 2, -1, 0, 1, -1, -5, -2, -2], [0, 9, 6, -1, 4, -7, -1, -1, 4, -4, 12, 0, -1, -3, -3, 0, 4, 0, 1, 5, -3, 2, -2, 7, 0, 2, 0, -1, -1, -2, 0, -9, 10, -6, -3, 0, -1, -4, -8, -5], [7, 9, 8, -4, 0, -5, -5, -1, -1, 1, 16, 4, -2, 3, -4, 1, 9, -2, 3, 2, -1, 1, -1, 8, 3, 4, -7, 3, -2, -3, -4, 0, 4, 5, 4, 0, 7, -1, -12, -5], [-4, 1, 6, 12, 2, -4, 4, -2, -5, 6, 10, -1, -3, -2, -1, 3, 8, -9, 3, 0, -5, -2, -5, 11, 11, -1, -7, 6, -3, -3, 0, 4, -4, 8, 4, 1, 7, -2, -7, -3], [0, 7, 4, 4, -1, -9, 4, 0, -3, 1, 5, 4, 0, -1, 0, 2, 5, -11, 11, -5, 0, 2, -5, 17, 13, 1, -11, 15, -1, 0, -3, 2, -9, -7, 4, 2, 3, -2, -9, 8], [0, 0, 4, -9, 5, -6, 5, 0, -16, 4, 1, 6, -7, 7, 1, 0, -10, 0, 2, -1, -1, 7, -2, 10, 0, 0, -4, 13, 5, 4, -1, 1, -15, -11, 4, 4, -7, -3, 0, 5], [-5, -8, 12, -17, 3, -4, -1, -5, -17, 0, 8, 4, -7, 3, 0, -1, -11, 6, 1, -3, 3, 4, 5, 10, -10, -3, 3, 2, -1, 9, -4, 2, -3, -8, -3, 2, -12, 0, 1, 4], [-3, 4, 7, -16, 1, -2, -2, 1, -17, -1, 11, 3, -1, -6, 5, -9, -1, 1, 4, -5, 4, 11, 10, 10, -10, -1, 16, -9, -4, 6, -8, -1, -6, -4, -9, 9, -2, 5, 2, 0], [0, 11, 6, -6, 0, -4, -4, 0, -8, 1, 14, 5, 3, -12, -1, -4, 4, -3, 0, 0, 4, 6, -2, 7, -9, -4, 16, -10, 0, 1, -2, 0, -2, -7, -11, 6, 1, 2, 3, -5], [-2, 9, 10, -1, -5, -1, 0, 0, -1, 0, 12, 5, 0, -9, -1, -4, 13, -10, 0, -1, 1, 5, 0, 2, 3, -5, 13, -7, 0, -2, -2, 2, 5, -2, -15, 3, 8, -2, 0, -4], [0, 4, 5, 1, -1, -2, -3, 0, -3, 1, 5, 0, -1, -2, -3, -4, 9, -7, 7, -2, 2, -1, 0, 0, 9, 0, 15, 3, -1, -3, -3, -1, 6, -7, -17, 6, 5, -3, 1, -2], [-4, 0, -1, 3, -1, -4, -1, 5, 1, 0, 4, -6, 2, 0, 0, 1, -1, -5, 4, 3, -3, -7, 0, 1, 0, 1, 0, 1, -2, -1, 2, 0, 0, -3, -1, 2, -2, -5, 0, -1], [0, -4, -4, 1, 0, -2, -1, -1, 0, -1, -1, 2, 1, 1, 4, 3, 3, 4, -2, -4, 3, 1, -1, -2, 0, -2, 0, 0, 1, 2, 3, -1, -4, -1, -5, 1, -4, 1, 0, -4], [1, -1, -1, -4, -1, 0, -1, 1, -2, -3, 1, 2, 1, -3, 1, 1, 0, 2, -1, 0, 4, -3, 2, 0, 3, 1, 0, 1, 4, 4, -1, -1, 1, -2, -1, -4, -3, 4, 4, -3], [-1, -2, 0, -4, -2, 3, -2, -2, 2, -4, 3, 1, 0, 4, 4, -2, 0, -1, 0, -4, -3, -3, -2, 3, -2, 1, -1, 0, -2, 0, 3, 1, 0, 1, -2, -3, 0, -1, 3, 0], [1, 1, -2, -3, 3, 1, -3, -2, 2, 3, 1, 3, -3, -1, -1, -3, 2, -3, -3, -4, 0, 2, -1, 3, 3, -2, -2, 0, -2, 3, -2, 0, -2, 4, -1, 2, -4, 0, -3, -2], [4, 0, 0, -1, 3, 2, 1, -1, 0, 4, -3, -2, -2, 1, -2, 3, 1, 0, -3, -3, 0, -3, 0, -2, 0, -1, -2, 3, 0, -2, -2, 0, 0, -2, 0, 0, 1, -1, 0, -2], [5, 0, 3, -2, -3, 0, 0, -4, 2, 0, -1, 3, 4, 0, -4, -4, 0, -3, 2, 0, 1, 4, 0, -1, 2, 0, 3, 2, 4, 2, 1, -3, 3, 2, -2, 0, -3, -2, 2, 4], [2, -3, -4, 0, -2, 0, 1, 0, 2, -2, -2, -4, -1, 1, -2, -3, -4, 3, -1, 3, 4, -2, 3, 2, 0, -2, 1, -1, 0, 2, 0, -4, 2, -2, 4, -1, 3, 2, 1, 0], [2, -1, 1, 0, 0, 3, -2, 0, 3, 4, 1, 2, 4, 0, -2, -4, -3, 0, 0, 4, 3, 0, 0, 2, 0, 0, -1, 3, -2, 0, -4, 3, 0, 2, -2, -2, 0, -1, 1, 2], [-1, -2, 0, 2, 0, -1, -1, 3, 0, 0, 0, 0, 0, 1, 0, 1, 0, 4, 3, -2, 3, 4, 0, 0, 4, -4, 0, -3, 0, 0, 0, 2, 3, 4, -3, -1, 0, -1, 0, 0], [1, -2, 0, 3, 4, -1, 3, 2, 0, -4, -3, 3, 3, -1, -1, -2, -2, -4, 0, 3, 4, 3, 0, 0, 1, 3, -4, 1, 2, -2, -1, -4, -1, -2, 0, -2, 3, -4, 4, 0], [0, 0, 0, -2, 3, 3, -4, -1, 1, -1, 4, 3, 0, 0, 2, 0, 3, 2, 3, -2, 0, 4, 1, 2, 3, 2, 3, 4, -2, -3, 4, 0, 0, -1, -2, 3, 0, 2, 1, 1], [-5, 0, 0, -1, -4, -3, 0, 0, -2, 5, 4, 0, -4, 0, 0, -1, 5, -1, 1, 0, 0, 1, 7, -3, -5, 0, -2, -2, 1, 0, 3, -1, 5, 2, 6, 1, 6, -1, -3, 0], [2, -3, -10, -1, -2, -5, -8, 5, 0, 5, 17, 3, -5, 2, -5, 3, -1, 4, 0, 4, 0, -9, 15, 6, 0, -1, 6, 1, -2, -4, 7, -10, 0, 2, 11, -8, 2, 0, -5, 2], [-11, -4, -7, 7, -4, -9, -7, 6, 2, 2, 11, 0, -2, -2, -3, 7, -2, 2, -7, 4, 2, -3, 17, 0, -3, -4, 2, 7, 1, -4, -4, -6, 1, 0, 12, 0, 1, 3, -5, 0], [-7, 0, -3, -2, -1, -10, 0, 2, 0, 0, 12, -6, -3, -5, -2, 6, 0, 0, 3, -3, -3, -3, 13, 0, -7, -6, 0, 9, -5, 0, -14, -9, -3, 0, 8, -2, 3, 1, -7, -7], [-7, 10, -8, -8, -1, -12, -4, -1, 5, -3, 2, -2, -4, 0, -1, 5, 2, 4, -1, 2, -10, -9, -5, 0, -4, 3, -5, 4, -6, -11, -17, -10, 0, 0, 4, 5, -1, -2, -3, 0], [-4, 10, -13, -7, -10, -12, -6, -1, 6, 4, 8, -11, 2, 4, 0, -2, 5, -3, -1, -2, -6, 0, 0, 1, 3, 5, -2, 2, -4, -10, -7, -12, 1, -5, 8, -1, -1, -7, -5, -2], [-2, 8, -6, -7, -9, -12, -1, 10, -2, 8, 7, -1, 5, 1, 1, 2, 10, -2, -2, -2, -2, -3, -9, 4, 5, 2, 1, 0, -3, 0, 0, -8, 11, -10, 4, 1, -3, -10, -3, -4], [-3, 7, 6, 7, -10, -6, -3, 2, 1, 5, 15, 8, 1, -1, -5, -7, 4, 3, 5, 2, -6, 0, -6, 1, 9, -1, 3, -6, -5, 2, 7, 6, 17, 2, 7, -1, -3, -6, -7, 2], [0, 8, 5, 11, -8, -5, 0, 5, -11, 4, 14, -2, 2, -1, -4, 0, 2, -6, 4, -4, -4, -7, -5, -8, 9, 0, 9, 5, -3, 1, 1, 5, 3, 0, 5, 1, -2, 0, -2, 3], [2, 11, 3, 17, 2, -8, 4, 1, -7, 5, 5, -3, 2, -4, -8, -6, -4, -7, 5, -4, -2, -6, -4, -7, 11, 2, -5, 12, 3, 3, 1, 0, -1, 0, 4, -5, -9, -2, -6, 7], [-3, 0, -5, 0, -4, -6, 3, -7, -11, 3, 8, 5, -1, 3, 0, -5, -10, 0, 2, -3, 5, -9, -1, -2, -4, 1, -10, 13, -3, 5, -1, -2, -6, -8, 5, 1, -8, -4, 2, 9], [-4, -8, -3, -16, 0, -7, 0, -8, -12, -6, 8, 0, -5, 10, -4, -5, -1, 5, 2, -1, 3, -4, 2, 1, -8, 2, -17, 6, -1, 0, 0, 1, -4, -9, 2, 3, -9, -3, 2, 7], [-3, -10, 3, -16, 1, -3, -3, -4, -13, -4, 4, 6, 3, 4, -4, -2, 0, 8, -1, 1, -3, 0, 5, 3, -10, 2, -6, 1, 1, -5, -10, 1, -5, -6, 0, -4, 0, 1, 5, 4], [-6, -4, 6, -9, 2, -3, 0, 1, -4, 0, 17, -1, 0, 0, -4, -6, 8, -7, -2, 2, 1, 0, -2, 11, -11, -3, -4, -8, -3, -1, -6, -9, 5, -11, 0, -10, 10, 6, 1, -5], [-15, 4, 8, 3, 0, -1, -8, -3, -2, 1, 13, 6, 0, -8, 0, -2, 11, -14, -9, -5, 0, -1, 2, 10, -3, -4, 0, -6, -2, -3, -6, -3, 0, -12, -2, 2, 5, 0, 0, -2], [0, 1, 2, 2, -2, -1, -4, 1, -2, 5, 10, -2, 2, -6, -1, 0, 1, -6, 0, 0, 4, 3, 1, 3, 2, -3, 12, -4, -3, -1, -9, -3, -2, -7, -4, 2, 7, -3, 2, -2], [0, -2, -3, -1, 0, 0, -1, 5, 1, 2, 1, 0, 2, 2, -1, 0, 2, -5, 4, 2, -4, 1, -5, -1, 3, -3, 9, 3, -1, 2, 0, 0, -2, -7, 2, -1, -2, -1, 0, -5], [-1, -3, 0, 3, 1, 0, -2, 0, -1, 1, 2, -5, 3, 0, -3, -4, 0, 1, -3, 1, 4, -5, 0, 3, 1, 2, 1, 4, 4, 0, -1, 0, 0, -2, -4, -2, 4, -3, 1, 2], [-3, 0, 1, 1, 3, 2, 2, 1, 0, -2, -3, -3, 0, 0, 0, -2, 1, -3, 1, 3, 2, 1, -2, 4, 2, -2, -3, -3, 0, -1, 3, 1, 3, -3, 3, 2, 2, 1, -3, 1], [5, -1, 1, 3, 0, 1, 3, 2, -2, 4, 1, -3, 3, -1, 0, -2, -1, 1, -1, 0, 0, 3, -2, 0, -1, 0, 4, 0, 0, 0, 2, -2, -2, 0, 1, 0, 2, -2, 3, 0], [4, -1, -2, 0, 3, 0, -1, -4, 3, 2, 2, 0, 1, 3, -2, -3, 4, 3, 3, 0, -1, 2, 3, 3, -3, 4, 1, 4, 0, -4, 0, -2, -2, 4, 0, -5, -3, -3, -2, 2], [5, 2, -2, 4, 1, 0, 0, -3, 1, 3, -1, 2, -4, -2, 0, 0, 0, 0, -1, 4, 1, -1, 2, 0, -4, -1, 1, 0, 2, -1, 1, 1, 3, -3, 3, 2, -4, -1, 2, 0], [2, -2, 0, 2, 0, 4, 0, -1, -3, 2, 3, -3, 0, 2, 0, -2, 2, 3, 2, 0, 2, -1, 2, 0, 4, 4, 0, 2, -1, 4, 2, 3, 1, 3, 2, -4, 2, 0, -3, 0], [6, -1, 2, 2, -2, 3, 0, 2, 1, 1, 0, 2, -3, 2, 4, -3, -3, 0, 1, 0, 2, 0, 2, 0, -3, 0, 1, 3, -2, 2, -4, -2, 2, 2, 3, 0, 1, -3, -2, 0], [-1, -5, 0, -1, 2, -3, -2, 0, 0, 0, -2, -1, 0, 4, 1, 3, -3, -1, -4, -3, 3, 4, 3, 2, 0, -3, 0, 1, 0, 3, -4, 0, -1, 2, -1, -1, -3, -1, -2, -1], [-2, -4, -2, 0, -2, -1, -1, 0, -2, 3, -2, 1, 0, -1, 3, 3, 2, -1, 0, -2, 3, 3, -1, 4, 3, 0, 1, -1, -4, -1, 4, 0, -3, -2, -1, 0, 1, -1, 1, -3], [3, -3, -2, 2, -3, -2, 0, -2, -2, -1, 3, 0, 0, 4, 0, 1, 0, 0, 2, -4, -1, -3, 3, -1, -1, -2, 0, 3, 0, -2, 0, 3, 0, -3, 0, -3, -3, 1, -1, -1], [4, -6, -2, -3, 4, -3, 0, 0, -1, -2, 6, -3, -1, 0, -2, -3, 0, 1, 2, 1, 1, 1, 5, -1, -3, -4, -1, -3, 3, -1, 3, -1, 3, -4, -2, -3, 1, 0, 0, 3], [-1, -1, -5, 2, -3, 0, 2, 0, 2, 2, 9, 1, 1, 4, -4, 2, 0, 1, -1, -3, 0, -7, 2, 0, -6, -2, 1, -1, 0, -4, 6, -4, 0, 0, 8, -6, -3, -4, -3, 3], [-2, 0, -3, 1, -2, -7, -3, 2, 0, 0, 4, 5, -1, 2, -8, 5, 4, 2, -1, 2, -4, -1, 6, 0, -5, -4, 1, -3, -2, -1, 0, -5, 0, -3, 11, -8, 0, -3, -8, -2], [-1, 4, -4, 5, -2, -5, 1, 2, 0, 3, 6, 6, -11, 7, -5, 9, -2, 2, 0, 0, 0, 0, 17, 4, -1, -1, 0, 0, 2, -4, -1, 0, 2, 5, 15, -11, -1, 3, 0, -2], [-11, -2, -4, 4, 2, -8, -5, -4, 6, 5, 3, 3, -8, 0, -2, 0, 4, -8, 4, -4, 0, 2, 10, 9, -5, 0, 4, 0, -10, -3, -15, 4, -3, 0, 14, -8, -7, 1, -2, -8], [-4, -1, 0, -4, -1, -12, 0, -4, -4, 3, -4, -2, -4, 0, 0, 5, 0, -16, -2, -3, -8, -4, 2, 7, -1, -1, -1, -2, -15, 0, -16, 3, -5, 0, 17, 0, -4, 3, -2, -5], [-1, 8, -3, -7, 0, -11, -9, -6, -3, 1, 1, -1, -5, 2, 2, 1, 11, -5, 2, -2, -7, 6, -2, 6, 3, 5, 0, -5, -8, -4, -2, -2, -7, -1, 8, 0, 0, 0, 1, -1], [-10, -2, -7, -10, -2, -8, -9, -5, 1, 3, -4, 4, 2, 4, 3, -2, 5, 0, 4, 0, 0, 9, -4, 0, 2, 5, 8, -1, -5, -1, 3, 7, 1, -8, 9, 7, 3, -3, -1, 0], [-9, -1, -2, -5, 1, -4, -7, -4, -7, 5, 0, 4, 0, -4, -6, -5, 1, 8, 5, 4, 6, 11, 0, -9, 5, 0, 6, -3, 2, 0, 0, 9, 13, -5, 15, 1, 0, -2, -1, -5], [-2, -1, 0, 1, 0, -6, -3, -3, -10, 0, 5, 3, -3, 3, -7, -4, -6, 6, 2, 6, 6, 12, 1, -10, 9, -2, 7, 4, 1, 5, 3, 9, 12, -2, 7, -2, -4, 6, 6, -3], [4, 16, 2, 9, 0, -8, -4, 2, -3, 1, 0, -3, 0, 0, -5, -5, -7, -10, 2, 4, 8, 0, -3, -17, 12, -2, 3, 8, -4, 6, 0, 4, -3, -2, 11, -1, -10, 3, 4, 5], [4, 6, 5, 0, 0, -4, -2, 2, 0, 1, 7, 1, -7, 6, -5, -5, -2, -2, 0, 7, 1, -1, 3, -13, -5, -3, 2, 13, -1, 7, 0, 1, -1, 7, 1, -1, -10, -7, 1, 8], [0, -5, 4, 0, -3, 0, 3, 2, 5, 0, 0, 3, 0, 6, 0, -5, 1, -1, -2, 5, 0, -7, 2, -13, -13, 5, -10, 0, -1, -2, -1, -2, -6, 11, 0, 8, -6, -5, 4, 12], [1, -5, 5, -14, 1, -1, 1, 1, 2, 0, 3, 1, 5, 1, -3, 0, 1, 0, -10, -1, 1, 0, 0, -6, -8, 1, -17, 5, 0, -5, -1, -3, -2, 0, 6, 2, -3, 2, 1, 0], [0, 0, 6, -15, -3, 3, 0, -5, 6, 0, 10, 0, -1, 0, -5, -11, 4, -4, -5, -7, -1, -9, 1, -3, -6, -3, -17, -2, 0, -11, -7, -7, 9, 0, 1, -9, 10, 5, 1, -5], [0, 2, -2, -3, 2, 1, -1, 0, 5, 0, 10, 3, -2, 3, -13, -3, -3, -11, -1, -3, 0, -6, 1, -1, -5, -5, -7, -1, -5, -10, -4, -2, 10, -3, 5, -7, 6, 2, 0, 0], [-4, -8, -1, 4, 0, 3, -6, -1, 3, 1, 13, -2, 3, -1, -2, 3, 0, -12, -5, 4, -1, 2, 0, -3, -3, 5, -2, 0, -7, -8, -7, -3, 0, 0, 5, -7, 3, -1, -4, -5], [-4, 4, 0, 4, -2, 1, 1, -1, 0, 3, 9, -5, 1, 6, -4, 0, 1, -7, 0, -4, 2, -4, -9, -2, -2, -1, -2, 5, 0, -1, -5, 2, 1, -1, 3, -3, 0, 0, 2, -3], [3, -1, 3, -1, -3, -3, 2, -2, -2, 1, 0, -2, -2, 4, -3, 0, -4, -1, 0, -2, -2, 0, -3, 0, 0, 3, 4, 0, 0, 2, 2, -3, 3, -3, 3, 0, 3, 0, 4, -3], [4, 1, -3, 0, 2, 3, 0, 3, -1, 1, -1, 2, -2, 2, 4, 1, 4, 0, -3, 0, 0, 2, 0, -2, -2, -3, 3, 3, -2, -4, -3, -2, -2, 3, -1, 0, 0, -3, 0, -1], [0, -1, 3, 2, -2, -4, -1, 0, 4, 2, 1, -1, -3, 0, -4, -3, -4, -2, 0, -2, 0, -1, -4, 0, 0, 0, 1, 1, 2, 4, 0, 3, 1, 0, 1, 1, 0, -2, 2, -1], [0, -4, -3, -1, 0, 0, -3, 1, -3, 3, 3, 2, -1, 2, 0, 1, -4, 3, -1, -1, 0, -4, 3, 0, 1, 0, -2, 1, 0, 3, -2, 2, -4, -3, 2, -2, -1, -2, 3, 2], [0, -1, 3, 0, 1, 2, -2, 1, 3, -2, -3, -2, -3, 3, 0, -4, 0, -2, 0, 2, -4, -1, 0, 2, 0, -3, -1, 2, -1, 3, -4, 0, 3, -1, 0, 3, 1, -1, 0, 0], [2, -3, 2, 4, 0, 3, -3, 3, 0, 3, 0, 2, -1, -2, -1, 0, -2, -4, -3, -3, -3, -3, 0, -2, 1, 3, 0, 0, 2, 1, 0, -1, -2, 3, -2, -1, 3, 4, 0, 2], [-1, -4, 3, 1, -4, 2, -4, -4, -2, 1, 0, 1, -1, 4, 0, -4, -3, -3, -2, 2, 3, 4, -4, -4, 2, -2, -1, 3, 1, 0, 0, -2, 2, -1, 3, 3, 1, -2, -2, 0], [3, -1, 2, -4, 1, 4, 3, 1, -2, -2, 0, 0, -1, 4, 1, 0, 2, 0, 0, 2, 1, 4, 0, -2, -2, 0, 1, 0, -2, -3, 1, 0, 0, -3, 3, 0, 1, 2, 4, 1], [3, -4, -3, 0, 0, -1, -4, 1, 2, 0, 2, -5, 2, -3, 3, -1, 0, 0, 3, 0, -1, -1, -2, 4, 0, -1, 0, -3, -4, 1, 1, 4, -1, -1, 2, 2, 0, 3, -4, 1], [0, 0, -1, 4, -2, -1, -2, 0, 0, 0, 2, -2, -2, 0, -1, -1, -3, -4, -4, 2, 3, 4, -1, 2, 5, -4, -3, 2, 0, 2, 5, -1, -3, -1, 2, -4, 0, 1, 1, 0], [0, -8, -2, 0, -3, -3, 0, 2, -1, -1, -1, -3, 1, 1, -1, 3, -1, 3, -2, 1, -1, 1, 0, -1, -2, 2, 1, -1, 3, -4, 1, -4, 2, 1, 0, 0, 4, 3, -2, 1], [1, 1, -5, -4, -5, -6, -4, -2, -2, 3, 3, 2, 1, 1, -11, 2, 3, 4, 5, -2, 2, -7, 8, 2, 0, 3, -2, -7, 0, -1, 2, 5, 1, 0, 12, -1, -1, 2, 5, 1], [-2, 3, -2, 5, -3, -8, -3, 9, 0, 2, -6, 6, -7, 11, -6, 6, 2, 1, 6, 4, 3, -3, 7, 0, 2, -2, 0, -7, 1, -3, -2, 7, 6, 1, 15, -3, -2, -4, 0, -1], [0, 2, 0, 3, 0, -5, 1, 0, 2, 4, -7, 11, -5, 13, -10, 6, 0, 4, 0, -3, 1, -5, 14, -1, -1, -7, 5, 0, 0, 0, 1, 9, 1, 2, 11, -17, -2, -2, -2, -4], [-5, 1, 0, 7, 3, -10, 2, 0, -1, 0, -4, 4, -3, 13, -3, 6, 2, -8, 0, -2, -1, 6, 17, 8, -7, -1, 6, -2, 4, -2, -16, 13, 1, 3, 8, -16, -6, -2, 0, 0], [-12, 0, 0, 0, 5, -5, 0, -11, 0, -5, -10, 3, -2, 9, 3, 8, 0, -16, 6, -4, -1, 6, 0, 10, -3, -2, 4, -2, -2, 1, -16, 10, 0, 0, 3, -9, -5, 6, -2, -4], [-1, 4, 2, -9, 4, -8, -7, -12, 0, -6, -10, -5, -5, 6, 6, 1, 0, -11, 5, 2, -4, 1, -4, 12, -6, 4, -1, -1, -7, -1, -1, 12, 0, 9, 8, -11, 3, -4, 2, 0], [-3, 0, -7, -2, 9, -8, -8, -15, -3, 4, -10, -5, 2, 2, -1, -5, -2, 4, -4, -3, 1, 4, -1, 8, 2, 3, -5, -6, -8, 0, 2, 17, 0, 4, 9, -7, 5, 1, 1, 0], [-8, -7, -7, -2, 8, -4, -3, -14, 0, 3, 0, 2, 6, -2, 0, -8, -6, 10, 0, 0, 6, 5, 3, 6, 7, -1, 0, -4, 2, 0, 11, 13, 9, -3, 0, -1, -3, 0, 9, -2], [-7, -4, -8, 10, 4, 0, -1, -6, -5, 1, -2, 0, 2, 1, 0, -1, -3, -2, -5, 6, 7, 6, -1, 5, 14, -6, -1, 0, 1, 0, 11, 4, 7, -14, 3, 4, -1, 4, 5, 0], [-2, 8, 3, 6, 3, -5, 1, -3, -1, 0, -10, -5, 1, -4, -1, -5, -2, -4, -14, 2, 3, 5, -2, -3, 4, 1, 10, 6, 5, 6, 9, -4, 5, -10, 0, -3, -12, 1, 7, 13], [0, 6, 7, 3, 10, 0, 0, 3, 0, 0, 1, 3, -4, 0, -7, -5, -4, -9, -9, 2, 5, -2, 9, 4, -2, 0, 9, 1, 7, 6, 5, -5, -5, 0, 3, 0, -7, -8, 0, 9], [-6, 4, 0, -4, 7, 0, 0, 3, 4, -1, 2, -5, -5, 2, -8, -1, 8, -2, -8, 0, 0, 1, 4, 0, -8, 2, 7, 0, 6, -2, -5, -4, 2, 14, 8, 1, 1, -11, -4, -2], [-6, 9, -9, -6, 1, -9, 2, -2, 8, 0, 2, 6, 3, 5, -3, -5, 2, 6, -10, -2, -6, 0, 3, -2, -3, -1, 2, -1, 2, 1, 1, 0, 0, 0, 6, 6, 6, -6, -6, -2], [-3, 4, 1, -6, 0, -1, -1, 1, 14, 2, 6, 8, 8, 0, 0, -6, 0, 0, -4, -2, 0, 0, 1, -7, -6, -2, -5, 0, -4, -1, 0, 0, 7, 3, 5, 6, 6, 5, -9, 2], [-1, 4, -5, 1, -4, -1, 0, -3, 3, 4, 1, 4, -3, 7, -7, -3, -2, -16, -1, 0, 3, -5, 1, -2, 2, -4, -8, -4, -9, -2, 2, -1, 14, 0, 9, -4, 4, 3, -6, -6], [-4, 0, -5, 1, -6, 0, -3, -2, 2, 2, 9, 0, 2, 4, -1, 0, -5, -8, -8, 1, -3, 0, -2, -6, -1, 3, -8, 4, -8, 1, 0, 3, 2, 1, 0, -5, 4, 0, 5, -5], [0, 2, -7, 2, 2, -1, -1, 0, -1, -3, 8, -6, -3, 1, 1, 0, 1, -2, 0, 0, -3, 2, -4, 0, -3, -2, 0, 2, -4, 2, -3, 0, 0, -4, 1, -4, 2, 0, 4, -2], [3, 3, -4, -3, -1, 2, 4, -2, 4, -2, 5, -3, 4, 4, 3, -2, 1, -1, 1, -2, 1, -1, -1, 0, -2, -1, 2, -1, 1, -1, -4, -2, -1, -4, -1, 2, -2, 3, 1, -1], [-3, -2, -4, -3, -3, 4, -4, 3, -1, -2, -3, 4, 1, -3, -3, 3, -4, -4, 0, -1, -4, 0, -1, 2, 1, -2, 1, -2, -1, 0, 4, -4, 1, -3, 2, 3, -1, -4, 0, -3], [0, -4, -4, -2, 0, 3, -1, 0, -3, 3, -3, 3, -1, 0, -3, -2, -2, 0, 0, -1, -4, -1, 2, -2, 3, 4, -2, -3, 2, -1, -1, 3, 3, 4, -2, 1, -3, 2, 1, 0], [-1, 0, 0, -1, 0, 1, 2, 1, -3, 0, -2, 0, -1, -3, -1, 1, 3, -1, 1, -2, -3, -3, -3, 0, 3, -1, 3, 0, 3, -3, 4, -4, -1, -2, -3, -4, -2, 0, 4, 0], [4, -5, -3, 0, 2, 4, 0, 0, 0, 3, 2, 3, 0, 4, 0, -1, 2, 0, -1, 3, 4, 2, -4, -3, -2, 2, -3, 0, -3, 0, 0, 2, 3, 0, -3, -4, 2, 0, -2, 3], [-2, 2, -3, -4, -1, 2, -4, 0, -4, 1, 3, 3, 3, 3, -3, 0, 3, -2, -2, 1, 3, 0, 2, 0, -1, -2, 1, 3, 3, 0, -3, 1, 2, 1, -2, 1, 4, 2, 3, 1], [-2, 1, -4, -2, -1, 3, 0, -5, 0, -3, 0, 2, 1, 4, 4, 4, 2, -4, -2, 2, 3, 2, -4, -1, 0, 0, 1, 2, -1, -4, 0, 0, -4, -1, 0, 2, -3, -1, 4, 1], [5, 0, 3, 0, -3, -3, 1, -3, -2, 1, 1, -5, 3, -1, -1, 2, 0, -4, 0, 4, -1, -3, 0, 2, 1, 0, 1, -2, 0, -4, 2, -3, 3, -3, 3, -4, 1, -1, 2, 3], [2, -5, 4, 4, -3, -1, 3, -5, 1, 2, -3, -2, -1, -3, 3, 0, 0, 1, -2, 1, 4, 0, -1, 4, -1, 2, 2, -2, 2, -4, -1, -3, -2, -1, 0, 1, -1, 0, 0, 0], [2, 2, 0, -1, -3, -2, 3, -4, -3, 2, 0, -2, 2, -4, -1, 3, 2, 1, -2, 0, -3, 2, -3, -2, 0, 0, -2, 0, -4, 0, 4, -3, -1, 3, -2, -2, 1, -4, -1, -2], [5, -1, 0, -1, 1, -1, 3, -2, -1, -1, -7, 0, 0, -5, -8, -3, -1, 0, 6, 0, 1, 0, -4, 2, -1, 2, -3, 1, -1, 0, 5, 0, -2, -2, 4, 1, 4, 3, 6, -9], [1, 3, -7, 0, -2, -1, 3, 0, 0, 6, 1, 10, 4, 7, -9, 1, -3, 5, 10, 2, 4, -5, 3, 4, 2, -1, 1, 0, 3, 1, 4, 7, -3, 0, 0, -1, -1, -3, 7, -1], [2, 3, -12, 0, -7, -6, 0, 5, -1, 0, -9, 7, -5, 9, -9, 9, 2, 4, 10, 0, 0, -4, 15, 4, -1, -4, 3, -3, 2, -1, 5, 12, -2, -1, 2, -3, 0, 3, 0, 0], [2, 4, -6, 6, -4, -6, 0, 7, 0, -5, 0, 9, 2, 6, 0, 8, -1, 4, 2, -4, 0, 2, 17, 7, -7, -4, 3, 1, 4, 2, 1, 9, 1, 1, -3, -13, 0, 1, 4, -1], [3, 0, 6, 5, -4, -6, -2, 11, 0, -5, 3, 4, -1, 17, 3, 6, 0, 2, 7, -3, 0, 1, 17, 5, -4, -1, 3, -10, 4, 4, -10, 12, 7, 3, -4, -7, 0, 0, -3, 4], [-8, 8, 0, -4, 0, -4, -6, 8, -6, 0, -7, 1, 2, 12, 7, 5, -4, -11, 11, 4, 1, 0, 0, 2, 0, -3, -1, -2, 5, 5, -15, 10, 5, 9, -7, -15, 2, 3, 4, -4], [0, 4, -4, -4, 2, -1, -5, 1, -9, 1, -2, -2, -2, 1, 10, 2, -1, -4, -3, 3, 1, -9, -9, 5, -1, 0, 0, 8, -1, 7, 1, 13, -4, 8, -5, -13, 5, 0, 2, 0], [0, 0, -8, -2, 12, -2, -12, -2, -2, 4, -9, -2, 1, 0, 8, -7, 2, 4, -12, 2, 1, -9, -5, 6, 4, 0, 0, 0, -5, 8, 0, 17, -5, 2, -5, -16, 5, -1, 9, -7], [1, 8, -4, 0, 7, -3, -9, -11, 3, 0, -5, 0, -2, 5, -7, -6, -5, 13, -12, -2, 7, -4, 4, 13, 14, 1, -8, -9, 5, -3, 6, 6, -4, 1, -12, -7, 0, -2, 5, -7], [-5, 6, 3, 9, 7, -1, 0, -8, 0, 0, -10, 4, 13, 8, -11, -2, -6, 0, -11, 4, -2, -6, -4, 10, 17, -7, -9, -8, 11, -3, 4, -4, -5, -5, -2, 6, -8, -1, 7, 0], [-6, -10, 12, 8, 4, -2, 3, -4, 0, 4, -4, 11, 8, 2, -8, 0, 2, -11, -15, 1, 5, -5, -3, 13, 3, -2, 4, -13, 10, -4, 2, -3, 0, -16, 2, -2, -11, 6, -2, 7], [-3, -3, 6, -4, 6, -9, 3, 3, 2, -7, -9, 7, -1, 2, 0, 0, 0, -4, -9, 0, 0, 0, -1, 7, 0, 6, 3, -5, 5, 5, 0, -3, -2, -6, 12, 1, -5, -1, -5, 6], [1, 7, -3, -3, 8, -3, 2, -2, -2, 6, -3, 5, 0, 17, -3, -4, 6, 0, -11, 5, 2, -4, 3, 5, -14, 3, 15, 1, 11, -1, 0, -5, -8, 4, 17, 1, 1, -3, -6, 13], [3, 6, -3, -7, 4, -9, 0, -8, 1, 6, -2, 0, -4, 17, -7, 2, 0, 1, -12, -2, -3, 1, 1, 2, -9, 4, 13, -2, 4, 0, -7, -5, -4, 7, 10, 11, 2, 0, -4, 0], [1, 4, -7, -9, 0, -6, -4, 0, 9, 7, 2, -1, -1, 10, -3, -1, -3, 0, -7, 2, -4, 2, 0, 5, -2, -5, 3, -8, 1, 5, -1, -4, 8, 2, 11, 5, 2, -2, -8, 6], [-1, 2, -8, 5, -3, -5, -2, -1, 1, 2, -4, 1, -5, 14, 0, 0, -2, -12, -6, 0, -3, 0, 0, -1, -8, -3, 5, -7, -3, 1, -1, 0, 9, 0, 11, 9, -2, 4, -4, 0], [0, 3, -9, 3, -4, 1, -1, -6, -3, 3, 1, -6, -1, 10, 6, 5, -4, -3, -11, 4, -3, -3, -3, 0, 2, 1, -2, -2, -10, 6, 4, 5, 5, -3, 2, 0, -1, -3, 4, -8], [0, 3, 0, -2, 3, -4, -4, -3, 4, -1, 6, -2, 2, 3, 0, 7, 0, -2, -5, 0, -4, 0, -10, 0, 0, 2, -3, 4, 0, 0, 3, 4, -1, 2, 4, 1, 2, 2, 1, -5], [1, -1, -3, -3, 0, 2, -4, -4, 0, 0, 2, -1, 0, 1, 1, 1, 0, -2, -4, 2, 1, -3, -1, -3, -1, 0, 3, 2, 4, -1, 2, -3, 0, 1, 0, 3, 4, 1, -2, 0], [4, -3, -2, 0, 4, 1, 2, -3, 4, -3, -3, 0, 0, -2, 3, 2, 1, 4, -2, 2, -3, 2, 0, 4, 1, -2, 2, 2, 2, 3, -1, 3, -3, 0, -4, 0, -1, 3, 2, 3], [5, -2, 0, 0, -1, 2, -2, 1, 0, 0, 4, 2, -2, -1, -3, 1, 3, 4, 2, 0, -1, -1, 3, -2, 1, -1, -4, -2, 1, 2, -3, -1, -2, 0, -1, 0, 3, -1, 3, -1], [2, -3, 0, 0, -1, 2, -3, -4, 0, 2, 3, 1, -3, -2, 2, -2, 1, -2, -3, 4, -2, 1, 3, 1, 0, 3, 2, -1, 0, 0, 3, 3, 0, 0, 3, 2, 1, 1, -1, 2], [-2, -5, -4, 1, -2, -4, -1, -1, -3, 1, 3, 3, -1, 1, -2, 1, 3, 4, 2, -2, -4, 2, -2, 0, 0, 2, 3, 2, 0, 3, -3, 0, -3, 0, 3, 3, -4, -1, 3, 1], [1, -1, 4, 0, -1, 1, 0, 0, 0, -4, 0, -1, 2, 3, -1, 3, 1, 2, -1, 3, -2, 0, 0, 3, -1, 0, 4, 0, 0, -1, 0, 0, 0, 1, 2, -3, 3, 0, -1, 0], [1, -5, 1, -1, -1, 1, 2, 0, 0, 2, 0, 3, 0, -4, 3, 3, 0, 2, -1, -4, 0, -3, 1, 0, -1, 3, 1, 3, 0, 0, -3, 1, -4, -1, 3, 1, 1, 0, 1, -3], [5, 1, -2, -2, 4, 1, -1, -3, 4, 2, 2, 0, 2, 0, 4, 0, -4, -3, 0, 4, 3, -1, -1, 0, -3, -1, -2, 1, 0, 2, 0, -2, -1, 0, 2, 0, 4, 1, 2, -3], [1, -5, -2, 2, 0, -1, -1, -1, -4, -2, 0, 1, 0, 4, 0, 0, 2, 1, 2, 0, 4, 2, 0, 0, 1, 4, -3, -2, -2, -2, -4, 0, -3, 0, 2, 3, 3, -3, 1, -3], [2, 3, 0, -2, 3, 3, 1, 0, -2, 2, -4, 2, 1, 0, -5, 1, -4, -1, 2, 0, 2, -4, 1, 0, 3, -4, 0, 4, 0, 0, 5, 1, -2, 1, 2, -1, -1, 3, -1, -1], [0, -1, 0, 0, 4, -3, -1, -4, 0, -2, 0, 0, 0, 0, -10, -2, 0, 2, 0, 0, 0, 0, 0, 5, 6, -4, 0, 1, 4, 2, 0, 4, 1, 4, -1, -4, -1, -1, 4, -5], [5, 3, -6, -1, -1, 0, 1, 1, -1, -1, 0, 6, 1, 2, -12, 6, 3, -1, 5, 0, -3, -7, 9, 4, -4, -2, -1, 0, 4, 0, 9, 1, -2, 3, 0, 0, 3, -2, 3, -4], [-1, 4, -7, -1, -2, 2, -1, 0, 2, 3, 0, 13, -1, 8, -12, 12, -1, 4, 6, -2, -1, -6, 10, 3, -8, -2, 2, 5, 5, -3, 5, 7, 2, -1, -2, 3, 3, 2, 8, -8], [1, 8, -10, 4, -7, 3, 1, 2, 2, -7, -5, 5, 1, 1, 3, 6, 1, 2, 3, 0, 0, -3, 15, 0, -4, 0, 5, 8, 4, -1, 4, 9, 2, -4, -7, 4, 4, 0, 11, 0], [4, 6, -5, 3, -10, 4, -4, 15, -3, -6, 3, 3, 5, 3, 3, 10, 0, 1, 7, -1, -1, 5, 13, -4, -5, -2, 0, 0, -3, 3, -6, 4, 7, -1, -3, 5, 3, -1, 2, 0], [3, 6, -4, 1, -10, -8, -6, 15, -12, -1, -3, -1, 0, 9, 13, 4, -5, -7, 5, -3, -1, -1, -1, 0, -6, 1, 0, -4, -5, 13, -8, 0, 6, 5, -8, -4, 4, 9, 11, -8], [2, 4, -8, 0, -6, -5, -1, 6, -8, -2, 0, 9, -4, 2, 9, -2, -1, -1, -3, 1, -1, 0, -8, 0, 3, -2, 5, 6, -8, 3, -4, -2, -2, 0, -11, -4, 9, 6, 14, -9], [-4, 1, -1, 6, 5, 6, -2, 6, -5, 2, 3, 10, -4, -4, 12, -12, -4, 6, -9, 4, 0, -3, -5, 3, 3, 0, 0, 3, -1, 1, 6, -3, -5, 2, -9, -2, 0, 1, 10, -3], [1, 10, 1, 0, 0, 4, -5, 7, 1, 2, 4, 1, -8, -1, -1, -4, 0, 5, -11, 0, 0, -3, 4, 0, 14, -1, -2, -1, 3, 0, 10, -7, -5, 3, -3, -15, 8, -6, 11, -4], [-6, 7, 1, 0, 2, 0, 0, 0, 5, 0, -1, 0, 2, 10, -14, -1, 0, 3, -5, -1, -5, -3, 1, 4, 8, -8, -7, -3, 12, -3, 0, -3, -1, -4, 0, -5, 0, -2, 1, 2], [-4, -3, -5, -2, 2, -3, -1, 0, 6, 0, -10, 7, 10, 9, -8, -1, 2, -10, -1, -3, 0, -7, -2, 8, 13, -1, -12, -3, 17, 0, -3, -11, 0, -2, 4, -2, -7, 6, 2, 14], [-17, -13, -3, 1, -2, -10, 0, 5, 3, -5, -11, 9, -4, 3, -6, -1, 10, -5, -4, 5, 9, -1, -8, 13, -2, 0, 0, -3, 14, 2, 4, -3, 0, -4, 6, 2, -1, 3, 1, 8], [-10, -4, -1, 0, 3, 0, 3, 5, 1, 4, -3, 0, -3, 8, -6, 0, 10, -4, -8, 0, 1, -1, -2, 10, -7, 3, 8, 2, 11, 0, 9, 7, 4, 0, 0, 9, 0, 1, -2, 9], [1, 4, -2, -3, 3, -5, 2, 1, 2, 9, -2, 5, 1, 12, 1, -2, 6, -1, -5, 1, -4, 1, -1, 2, -11, 2, 12, -3, 12, -1, 4, 7, 4, 0, 0, 10, 0, -5, -7, 3], [0, 4, -11, -5, 2, -7, 4, 2, 2, 6, 0, 5, -4, 11, -4, -1, 3, 0, 2, 1, 2, -2, 0, 3, -16, -1, 5, -3, 0, 7, 3, -1, 5, 4, -1, 9, -1, 1, -5, -2], [0, 5, -7, 5, 4, 0, 0, 0, 0, 8, 1, 7, 0, 17, 1, 3, 2, -8, -2, -3, -6, 1, -7, 3, -8, 0, 0, -4, -2, 8, 1, 0, 6, 0, 1, 8, -2, 5, -5, -4], [-2, 4, -4, 7, -2, -5, 1, -3, 2, 0, -1, 4, -2, 10, 2, 3, 2, -6, -6, -2, -2, -1, -1, 3, 0, -1, 0, 2, -5, 9, 5, 9, 6, 0, 3, 6, -3, 2, -1, -3], [-2, 0, 0, 2, -3, -6, -1, -4, 0, 4, 0, 3, 2, 4, -2, 3, -4, 1, -2, 4, 3, 2, -4, 0, -1, 1, -2, 3, 0, 1, 5, 6, -6, 0, 3, 3, 3, -1, -2, -4], [0, 0, 3, 1, 1, 1, -3, 1, -2, 0, -4, -2, -4, 2, -4, -1, 0, 3, 0, 0, 1, 2, 2, 4, 0, 0, 4, 0, -1, -1, 4, 3, -4, 4, 0, 1, 1, 2, -2, 0], [2, -1, -2, -2, 2, 1, 3, -3, -4, -1, 1, 0, 2, 0, -1, -2, 2, 0, 3, -2, -2, 1, 3, 4, 1, 3, 2, -3, 4, 2, -3, 0, 3, 0, 1, 0, -2, -2, -1, 0], [1, -4, 0, -2, -1, 1, 0, -4, 4, 0, 0, 0, -3, -3, -3, 3, -3, -3, 0, -4, -3, 0, -2, 1, -3, 4, -4, 0, 0, 3, 0, 0, 0, 3, 0, -2, -2, 2, -1, 0], [5, -2, 1, 2, 3, -3, -2, -4, 0, 0, 0, -4, 1, 2, -1, 0, -1, -3, -3, 0, 3, -3, 2, 2, 4, -2, 0, 0, -3, -1, -2, 2, 3, 4, 3, 0, 1, -1, -2, 5], [2, 2, -2, -4, 0, 0, -4, -4, -1, -2, 3, 0, 2, 3, 1, 1, 0, 0, -1, 2, 0, 0, 0, -3, 1, 0, 4, -2, 3, -3, 1, 0, 2, 4, 0, -3, 0, -1, 2, 4], [4, 2, -2, -1, -3, 2, -4, -4, -2, -2, 2, 2, -3, -3, 0, -2, 0, 0, -2, -3, 2, 2, -3, -2, -2, -1, -1, -1, -3, 1, 3, 0, -4, 2, 3, -3, 1, -2, 3, 2], [4, 0, 0, 0, -3, 2, 3, 0, 0, 4, 0, -1, 2, 3, -2, 1, 2, 0, -2, 3, 2, 0, -2, 0, -1, 4, 3, 1, -1, -3, -2, 3, 0, 4, -4, 0, 2, -1, 3, -2], [0, -2, -3, 0, 1, 0, 0, 0, -3, 2, -2, 0, -2, 0, -3, 1, 1, -2, 0, -1, 1, 2, 1, 0, -1, -4, 0, 4, 0, -1, 2, 3, -3, 0, -1, -2, 1, 1, -3, 4], [1, -2, 1, 3, 2, 1, 0, -1, 3, -2, -4, -4, -2, 1, 0, -1, 0, -2, -1, 0, -1, -1, -3, -2, -1, -2, 0, 4, 0, 1, -1, -3, -1, 3, -3, -4, 2, 4, -3, 4], [3, -3, 2, -1, -1, -2, 0, 3, 2, -2, 3, 1, -3, -2, 0, -1, 1, 1, 0, -3, -2, 0, -2, -1, 4, 1, -4, 4, -1, -4, 0, 0, -3, 4, -3, 1, -4, 2, 2, -2], [0, 0, 3, 1, 6, -2, 6, -3, 3, 2, 1, -1, -3, -4, -7, 1, 0, -3, 4, -3, 1, 0, 1, -1, 1, 3, 2, -2, -1, 0, 5, -1, -1, 1, -2, -3, -1, 3, 6, -2], [-6, -4, 6, 4, 7, 4, 2, -6, 4, -3, 4, 2, -3, -5, -16, 3, 1, -2, 7, 4, -3, -1, 1, 1, -2, 2, -3, 4, 5, -2, 3, 1, 5, 0, -2, 0, 0, 1, 7, 0], [-6, 1, 3, 3, -1, 5, 4, -7, 1, -2, 2, 5, -5, -1, -2, 5, -5, 1, 5, 0, 2, -7, 11, 6, -2, 2, 3, 5, 3, -3, 7, 10, 5, 0, -2, 5, 3, -1, 4, 1], [3, 2, -1, 3, 0, 2, 7, 1, -2, -3, 0, 6, 1, 6, 12, 10, -4, 1, -4, 1, 0, -2, 12, 2, 0, 0, 3, 3, 7, -1, -3, 7, 4, -5, 0, 7, 8, -3, 1, -6], [12, 7, -4, -2, -5, 0, -2, 3, -11, -4, 1, 1, 9, 4, 8, 6, 0, -1, 0, 0, -1, 3, 10, -1, -9, -3, -2, 3, 4, 6, -4, 0, 2, 0, -11, 9, -1, 2, 4, 0], [10, 11, -17, -2, -2, 0, -11, 6, -7, 0, 0, 4, 2, 8, 13, 0, 0, 1, -8, 5, 3, 6, -1, -7, -1, 0, -8, 4, 5, 6, -15, -4, 7, -5, -12, 12, 4, 4, 9, -1], [4, 2, -4, 5, -13, -3, -9, 1, -5, 1, 0, 10, 0, 0, 8, 4, 3, 5, -4, 4, -3, 4, -14, -8, 2, -4, 1, 0, -14, 5, -6, -5, 0, -10, -4, 8, -1, 1, 11, -11], [4, -1, 8, 3, -13, 3, -11, 15, -3, 0, -1, 17, -3, 0, 9, -6, 5, 6, -4, 3, -7, 4, -7, 1, 2, -5, -6, -1, -2, 4, 6, -13, -4, -9, -7, 2, 0, 0, 8, -6], [1, 9, 0, 3, -12, 10, -8, 10, 3, -5, -1, 10, -12, 1, 2, -8, -1, 5, 0, -4, -8, -2, 0, 2, 10, -6, -2, -3, -2, -11, 12, -8, 0, 3, -3, -12, 0, -1, 9, 0], [1, 14, -5, 0, -8, 10, -7, 8, 3, -6, -3, 3, 4, 5, -7, -3, 0, -4, 11, -2, -1, 1, 1, -2, 8, 0, 5, 0, 0, -7, 4, -4, 4, 8, 0, -10, -2, 7, 12, 5], [-4, 13, -2, 3, -6, 7, -6, 3, 4, -1, -2, 4, 10, 1, -8, 8, 7, -4, 3, -4, 5, 0, -1, -2, 2, -1, -13, 5, 12, 3, 2, -9, 0, 5, -5, -5, 4, 5, 4, 14], [-10, -4, -8, -5, -5, 0, 1, 6, 4, 0, -5, 5, 7, 3, -2, 6, 4, -3, 0, -3, 3, -4, -6, 0, 0, -3, -8, 4, 17, 0, 2, -14, 1, -3, 0, -4, 9, 1, 2, 17], [-7, -11, -7, -1, 2, 0, -1, 8, 0, 1, -10, 6, 2, 5, 0, 4, 9, 3, 7, -3, -2, -3, 0, 8, 1, 0, 2, 7, 10, -1, 10, 0, 2, -3, -3, 5, 8, 2, -2, 15], [-2, -3, -9, -8, 3, 1, 1, 1, -2, 13, -5, 13, -1, 10, 5, -1, 2, -1, 8, 2, -4, -7, -6, 8, -7, 2, 11, 5, 11, 1, 7, 3, 4, 4, -1, 12, 4, -4, 2, 8], [0, 2, -7, -4, 10, -2, 0, 4, 1, 6, -1, 7, -3, 8, 0, 0, 4, 0, 0, -4, -3, -3, -2, 7, -5, 1, 8, -2, 7, 3, 4, -2, 8, -3, 0, 11, 4, -2, -1, -2], [1, -1, -7, -2, 5, -8, 0, -6, 0, 2, -2, 5, 3, 12, 5, -2, 4, -6, 8, -1, -5, -5, -4, 9, -13, -4, 6, 6, 7, 3, 10, -1, 3, 3, 0, 6, 1, 3, -3, -2], [0, 7, -5, 8, 3, -7, 3, -4, 2, 3, -1, 0, -4, 1, 2, 0, 1, -4, 5, 3, 0, -3, -10, 4, -4, -1, 0, 0, 4, 2, 8, 6, 3, 0, -3, 9, -2, 2, 0, -9], [0, -2, -1, 1, 3, -4, 3, -5, -2, -2, 0, 2, -5, 2, 3, 0, 4, 0, 0, 1, -2, -1, -4, 0, -4, 1, 1, 0, 0, -2, -1, 0, -1, -4, -1, 4, -1, -2, -1, -5], [-2, 1, 0, 0, -3, 2, -2, -4, -4, -4, 4, -1, -3, 0, 1, 2, 1, 3, 0, 3, -1, 0, -2, 0, -2, 1, 0, 0, 0, 3, -1, 0, 2, 1, 4, 0, 0, 3, -1, -1], [5, -2, 0, -4, -3, -1, 1, 2, 0, 1, 4, -5, 0, 1, 0, 3, 0, 0, 0, 0, 3, -3, -3, 1, -1, 2, 1, 0, -3, -1, -2, -1, 2, -1, 0, 3, 1, -1, 1, 4], [-2, 0, -2, -4, 2, 4, 2, -4, 1, -1, 2, 0, -4, 3, -1, 2, -2, 0, -4, 0, 4, -3, -2, -3, 0, 2, -1, 1, -1, -1, -1, 3, 3, -3, 2, -2, 4, -2, -2, 3], [1, -2, 3, 2, 0, 3, -4, -1, -4, 0, -1, 3, 0, -2, -2, 1, 4, -1, -2, 0, 0, -2, 0, 3, 3, 0, -4, 1, -1, 2, 0, -4, 0, 1, 0, -4, 0, 2, -4, -1], [-2, 1, -4, -3, 3, 3, -4, -2, 3, 1, -3, 2, -2, 2, -4, -3, -1, 0, -1, -4, 1, 3, 0, 0, -1, 1, -4, -1, 2, 1, 0, 1, 0, 3, -4, -3, 1, 0, -1, 3], [-2, -4, 4, -2, 0, -3, 1, 1, 0, 2, 3, -1, 0, 1, 1, 0, 0, 0, 1, 1, 0, 2, -4, 0, 0, 1, 1, 0, 1, 3, 1, -2, -4, -3, 0, 3, 4, 3, 4, -1], [-1, 1, 3, -3, -3, 0, 0, -1, 0, -1, -3, -1, -2, -2, 1, -2, 2, 2, 2, -2, 0, 0, 3, 0, 0, -3, -1, 1, 4, -1, -1, 4, -3, -2, 0, 2, 2, -3, -2, 2], [0, 0, -1, -3, 0, 0, 2, -4, 0, 0, -2, 3, -3, 0, 3, -2, 0, 3, 1, -3, -1, -2, -1, 4, 0, 2, -2, 0, 3, 0, 0, 2, -1, -1, 0, 0, 0, -2, 1, 0], [0, 0, 3, 3, -3, -4, -3, -2, -2, 0, 3, 3, -3, -3, -3, 0, 0, 2, -1, -4, -1, 4, 2, -1, -2, -3, 0, -1, 1, -3, 2, -4, 0, 2, -1, 0, 1, -1, 0, 2], [2, 3, 0, 2, -2, 3, 2, -4, 3, 1, 4, 0, -4, -1, -2, -3, 1, -2, 3, -3, -1, -2, 4, -2, 1, 0, 4, 3, -3, 1, 3, 1, 2, 3, 0, -2, -3, 0, 0, 1], [-2, 4, -1, -1, 2, 7, 7, -2, 1, -2, 3, 0, -4, -3, -1, 0, -1, -1, 2, -2, 1, 3, 4, 5, 0, -3, 0, 3, 3, 3, 3, 5, 0, 3, 0, -4, -2, -1, 5, -3], [-5, 0, 0, 0, 3, 4, 3, -4, -1, 4, -4, 1, -2, -2, -7, 3, 2, 0, 5, 0, 0, 0, 6, 5, 2, 1, -1, 2, 1, 1, 3, 5, 6, 8, -2, -1, 3, -3, 8, -2], [-2, 2, 4, 4, 2, 10, 6, -5, -2, 0, -2, -1, -7, -1, -10, 7, -3, 2, 2, 3, -2, -3, 8, 0, -4, 1, -1, 4, 4, -2, 10, -2, 5, 4, -3, 1, -3, 2, 8, -1], [-2, -1, 0, 1, 0, 5, 12, 0, -4, -2, 0, 4, 0, 0, 5, 12, 1, 4, -2, 0, 0, 1, 11, 1, -3, 4, 4, 3, -3, 0, 5, 6, 10, -1, 1, 7, 2, 5, 2, -3], [0, 1, -9, -5, 7, 6, 10, -8, -2, 6, 0, 4, 8, 8, 10, 2, 3, -3, -5, 2, 4, 6, 7, -3, -3, -2, 1, 2, -2, 3, -2, 0, 7, 6, -3, 6, 4, 8, 5, 1], [-1, 5, -9, 0, 11, 5, 2, -11, -4, -1, 1, 8, 8, 2, 17, 2, 0, 9, -2, -2, 1, 5, 2, -3, -3, 0, -1, 5, -3, 9, -8, -4, 8, -3, -4, 8, 5, 3, 7, -4], [-5, -7, 0, 9, -4, 7, -7, 0, -1, -1, 3, 11, 1, 0, 17, -2, -7, 11, -9, 0, 0, 1, -7, 0, 1, -6, -6, -4, -10, 4, -8, -9, 5, -7, -3, 12, 1, -3, 8, -17], [-8, -6, -2, 7, -4, 16, -9, 9, 0, -2, 5, 16, -7, 4, 8, -11, -1, 3, 0, -2, 0, 4, -2, -2, 9, 0, -2, -2, -9, -8, 0, -11, -10, -10, -1, 4, -2, -2, 1, -3], [-4, -5, -2, -1, -1, 9, -3, 8, -6, -7, -1, 12, -16, 0, 1, 0, 0, 4, 1, -2, 2, 5, 1, -10, 4, 0, 6, -3, 0, -10, 8, -10, -7, 1, 0, 2, 3, 1, 9, 2], [3, 12, 0, 1, -4, 6, -6, 2, -4, -8, 1, 1, -2, 0, -5, 6, -5, -3, 3, -4, 5, 6, -5, -10, 9, -5, 1, 5, 0, -6, 0, -7, 4, 7, -4, -1, 1, 10, 7, 1], [1, 12, 1, 0, 0, 3, -2, 3, 0, -9, -2, 2, 6, 0, -4, 12, 0, -3, 7, 0, -1, 6, -5, 3, 5, 1, -7, 2, 6, 10, 5, -8, 4, 6, 2, -11, 1, 0, 0, 11], [-9, -1, -2, -2, 2, 2, -9, 7, -1, -3, -1, 7, 10, 9, 0, 9, 0, -2, 2, 2, 0, 2, -6, -1, -3, 2, -9, 1, 5, 5, 0, -14, -2, -2, -3, -6, 9, -2, -4, 14], [-10, -10, -7, 0, 7, 0, -4, 2, -3, 0, -10, -4, 4, 1, 7, 9, 0, 0, 10, 1, -1, -6, -1, 1, -1, -3, -4, 4, 0, -2, 7, -3, 2, 3, 1, 3, 6, -2, 3, 8], [0, -7, -3, 1, 8, 0, 1, 3, -2, 10, -3, -2, 4, -1, 9, 2, 4, 1, 3, -3, -4, -9, 1, 4, 0, 2, 3, 3, 1, 0, 11, -1, 10, 0, -3, 5, 2, 2, -2, 3], [1, -1, -3, -1, 1, -4, 1, 4, -1, 5, -3, 4, -2, 0, 2, 0, 5, -3, 3, 1, -6, -9, -4, 6, -2, -4, 9, 0, 5, 8, 4, -3, 2, 2, -6, 5, 3, 6, -2, 0], [-5, 4, -1, 5, 0, -5, -2, 1, -6, 6, -2, 6, -1, -3, 4, -4, 7, 2, 7, -3, -2, -5, 1, 2, 0, 2, 2, 2, 3, 4, 9, 0, 1, 4, -4, 6, 6, 1, -8, 0], [5, 2, -2, 1, 1, 0, -6, 2, -1, 0, -3, 0, -2, 3, 1, 3, 5, 4, 0, 0, 2, 1, 1, 7, 0, 0, 8, 3, -1, 5, 3, 1, 0, 0, 0, 10, 7, 5, -6, -3], [-2, 2, -2, 2, -2, -1, -2, -3, -1, -3, 2, -2, 0, 2, 3, -2, 0, 1, -3, 3, 2, 4, 2, 0, 1, 0, 0, 0, -2, 3, -1, 3, 3, -2, 3, 1, -1, 3, -5, -4], [4, -2, -3, -3, 0, 0, -2, 2, 0, 2, -1, -3, 0, 1, -3, 4, 2, 2, 3, -1, 3, -3, -2, 0, -3, -1, 2, 2, -2, 3, -4, 0, -3, 3, 0, -3, 1, -3, -1, -2], [0, -5, -2, 4, 0, -3, -2, -4, 2, -1, -2, -3, 0, -3, 0, 2, 0, 0, -2, 3, -2, 0, 0, 4, -2, 0, 1, -1, 0, 1, 2, 3, -3, -2, 2, -2, 0, -4, 3, 0], [5, 1, 2, 2, -1, 4, 3, 1, -4, 4, 0, 0, -1, 0, 2, 2, -1, 0, -2, -2, -3, 3, 0, -1, -2, 3, 3, -4, -3, -2, 1, 1, -1, 4, -1, 0, 0, 0, -1, 3], [3, -2, 4, 0, 3, 0, 0, 3, 0, -1, 3, -4, 0, 0, 4, 2, -1, -1, 3, 0, 2, 0, 1, -3, -1, -3, 4, -3, -2, 1, 0, -4, 2, -1, 2, -5, 0, -3, -1, 0], [3, 1, 1, -3, 1, 0, 2, -2, 2, 0, -2, 0, -1, 1, -3, 0, -2, -2, 0, -3, -1, -1, -1, -1, 0, 3, 0, -4, 2, -3, 3, -1, -4, -3, 1, 0, 0, -2, 1, -3], [-1, -2, -4, -1, 4, -1, 0, -4, 3, 0, 1, 0, 3, -4, 2, -4, -3, 4, 1, 0, -2, 4, 2, 4, 2, 3, 0, 0, -2, 0, -4, 1, -3, 3, 0, -1, 2, -4, 3, 2], [-2, -5, 2, -3, -2, 2, 3, 0, 1, -3, 0, -5, 0, -3, -3, 2, 1, -4, 0, 0, 0, 2, -1, -2, 1, -1, -2, 3, 3, -3, -1, -1, -2, -3, 4, 0, 0, -2, -1, -2], [-1, 2, 2, 2, 0, 3, -4, 2, 2, 0, -3, -1, -3, 1, 2, -3, 0, 4, 3, -1, -2, 0, -4, 2, 4, 0, -1, 1, 1, -2, 0, 3, -4, 3, 3, -1, -4, 2, 4, 0], [-2, -3, 1, 0, 0, 3, -4, -3, 4, -4, 3, -2, 1, -3, -3, 0, -2, 3, -2, -4, -3, 3, 0, -3, 0, 3, 3, -2, 4, 0, 3, 0, -1, -3, 0, 1, 1, -3, -2, 0], [0, 2, -1, -3, 4, 3, 2, -1, 0, 1, 1, 0, 2, 3, 0, 1, -1, 3, -3, 0, 3, 2, -2, -1, 0, 3, -1, 0, 0, 0, 0, 0, -3, 0, 2, 0, -3, -3, -4, 3], [-4, 1, 0, -3, -2, 0, 1, -4, 3, -4, -1, 1, 3, 0, -2, 0, -2, 1, 5, 0, 1, 0, 4, 3, 1, 2, -1, -2, -2, 1, 1, 3, 5, 3, 5, -5, -3, 2, 4, 3], [-7, -6, -3, 0, 1, 10, 7, 4, -3, 0, 1, -3, -7, -1, -8, 7, -1, 4, -3, -2, 4, 0, 1, -3, 0, 0, 4, 5, -1, -3, 1, -1, -1, 7, 0, -7, 3, 0, 1, -6], [-1, 7, 4, 1, 5, 12, 8, 0, 0, 0, -8, 4, -9, -3, -7, 5, -5, 3, -2, -3, -3, 4, 3, 1, -2, 1, 3, 0, -2, -4, 6, 1, 6, 2, 4, 0, 3, 0, 0, -8], [-3, -1, 2, 1, 5, 3, 4, -6, 0, 0, -2, 0, 1, -5, 4, 10, 2, 1, -5, 4, -2, 3, 5, 1, 2, -1, -1, -3, -2, -2, 4, -3, 8, 9, 0, -2, 3, 0, 4, -3], [0, 2, -5, -2, 8, 3, 9, -10, -3, 0, 0, -1, 8, -1, 6, 13, 1, 5, -5, -1, 2, 1, 10, -2, -6, 5, 2, -1, -1, 9, -5, -2, 0, 7, -4, 0, 4, 9, 2, -2], [0, 4, -1, 2, 4, 4, 6, -8, -2, 0, 1, 4, 6, -1, 9, 9, 9, -1, -10, 0, 4, 6, 12, 1, -3, 4, 0, 3, -11, 8, -6, -5, 0, 0, -1, 0, -1, 6, 1, -6], [-5, -6, 6, 10, 3, 0, -1, -6, 0, -7, 0, 11, 10, 12, 17, -1, -3, 9, -15, 1, 5, -1, 1, 1, -2, 0, -8, -3, -10, 0, -11, 0, 3, -7, -3, -1, -3, -5, 4, -5], [-3, -8, 7, 6, 5, 8, -3, 2, 3, -8, 3, 8, 0, 3, 4, -11, -1, 8, -3, 3, -2, -2, -4, -4, 6, -6, -4, -5, -5, -12, -4, -4, -8, -5, 3, 1, -3, -6, -2, -8], [-3, -9, 0, 1, 7, 7, 0, 3, -4, -10, -8, 14, -14, 4, 1, -2, -12, 7, 0, -1, 0, 3, -7, -11, 7, -7, 0, -5, 1, -10, 6, -12, -4, -1, 0, 1, 5, 0, -2, -2], [-2, 0, 0, 7, 4, 5, -2, 1, -3, -8, 1, 9, -12, 4, -4, 5, 0, 6, 8, 1, 0, 9, -11, -3, 0, -1, -1, 0, 0, 0, -1, -6, -2, 5, -2, -8, 5, 5, -3, -4], [-4, 0, -1, 3, 7, 7, -10, 2, -4, -11, -3, 0, -1, 3, -6, 13, -10, 8, 12, -1, -2, 14, -1, -6, 9, 5, -1, 0, -3, 11, -3, -7, -3, -3, 3, -2, 7, 0, -2, 3], [-1, 1, -3, 5, 6, 7, -4, 5, 10, -5, 3, 7, -3, 6, 0, 9, 3, 4, 11, 1, -3, 5, -4, -6, 7, -1, -5, 5, 3, 10, 1, 0, -1, 6, 3, -2, 7, 0, -5, 10], [-3, 3, -1, 3, 0, 10, -2, 7, 6, -1, -1, 2, 3, -1, 0, 9, -2, 4, 3, -5, 1, 0, -7, 0, 6, -3, -8, 2, -5, -5, 6, 0, 0, 7, 2, -2, 3, 2, -8, 13], [1, -8, -2, 7, 6, 6, -7, 5, 1, 1, 0, 7, 3, 0, 11, 5, 5, 3, 0, 0, -2, -6, 6, 3, -2, 0, 0, 10, -2, -5, 2, -10, 4, 4, -4, 2, 10, -2, -4, 12], [0, 0, -3, 2, 1, 0, -7, 4, -2, 0, 1, 0, 0, -4, 8, 2, 6, 1, 8, -3, -1, -13, -2, 4, 0, -5, 4, 10, -5, -1, 1, -6, 3, 1, 1, 2, 4, 4, -7, -2], [1, -1, 0, 0, -4, -3, -4, 3, -3, 4, 3, 2, -2, -6, 3, 4, 6, 4, 0, -2, -4, 1, 2, 1, -2, 2, 4, 6, -8, 0, 0, 3, 0, -2, 4, 1, 7, 3, -9, 4], [1, 0, 4, 6, -4, -6, 0, 0, 4, -2, 0, 4, 1, 1, 0, 5, 1, -2, 0, 0, -3, 0, 2, 4, -4, 3, 7, 3, -9, 0, 1, 4, 0, 4, 2, 6, 4, 0, -7, -3], [1, 0, 0, 4, -1, 2, 2, 4, 4, 1, 1, 7, -1, 0, 3, 2, -1, 0, 0, -4, -2, 2, 2, 4, 4, -4, 0, 0, 0, 0, -3, -2, -3, 2, 2, 0, 0, -3, 0, -1], [-3, -3, 0, -4, -4, 0, 2, -1, -3, 3, -1, -2, 0, 1, 3, 0, 0, 0, 2, -1, -1, 4, -1, -2, 4, 0, -2, -1, 0, -1, 3, -3, -2, 1, 2, -5, -1, 4, 5, 3], [6, 2, 0, -3, -3, 3, -4, 3, -3, -3, -2, -3, -3, 1, 1, -3, -4, 4, -1, -2, 0, -4, 0, -3, 2, -3, -4, -2, 3, 4, 0, -2, 0, 1, 0, -1, 1, 0, 0, 4], [3, -5, 0, -4, -2, -2, 0, -4, -3, 1, 0, 3, 1, -3, 1, -3, -4, 3, -4, -3, 0, 3, 3, -1, -1, -1, 1, 0, 1, 2, -1, 1, -3, 2, 4, -1, -3, 1, 1, -2], [-2, 0, 1, -3, 3, -3, 0, -1, -1, 3, -2, 2, 4, 3, -3, -2, 0, 0, 0, 0, -3, 3, -1, 1, 0, 0, 2, -2, -2, 0, 2, 0, -2, 3, -1, 3, -1, -2, 4, -2], [0, -2, -1, 0, 1, -3, -2, 1, 0, 4, 0, 1, 0, 3, 2, 1, -2, 0, 0, 0, -4, -1, 0, 0, 0, 4, 0, 4, 3, -2, 3, 1, -1, -2, 1, -4, -1, 1, 2, 0], [1, -2, 2, -4, -3, -2, 3, 0, -1, 0, 0, -2, 4, 4, 1, 0, -3, 2, -4, -4, -3, -1, -1, -3, -2, -3, -1, 0, 2, 0, 0, -2, 1, 4, -1, -3, 0, -1, 4, -2], [-1, 2, 1, -4, 3, -1, -1, -3, 2, 4, -1, 2, -4, 0, 3, -2, 0, 1, 0, 3, 3, 0, 1, 1, 0, 0, 1, 1, -4, 1, 4, -2, -4, -3, -4, 0, 3, -3, 0, -3], [4, 1, 4, 2, 0, 4, 2, -4, 3, 3, -2, -3, 0, 4, 3, -4, 3, 2, -4, 1, -2, -4, -4, -2, 2, -1, -2, 1, 1, 2, 4, 3, 0, -1, 3, -4, 4, -4, -2, -2], [4, 0, 0, -4, 4, 2, -4, 0, -1, 3, 0, 2, -3, -3, 0, 2, -2, 0, -2, 3, 3, 2, -3, 0, 0, 1, 4, 1, 0, 2, -1, -3, -1, -1, -2, -5, -2, -1, -3, -1], [-2, -1, 2, 3, -2, -3, -2, -4, 1, 3, 1, 1, -3, 0, 0, 2, 0, 2, 3, -2, -2, 3, 1, 0, 2, -2, 2, 2, -3, 0, 0, 3, -1, 3, -1, 1, 0, 2, 2, -1], [3, -1, 4, 0, 4, 0, -3, 1, -1, 1, 0, -4, 3, 0, 2, 4, -3, 2, 2, 4, 2, -3, 0, -3, 2, 0, 2, -2, 1, -3, 3, 3, -3, -1, -1, -4, 3, 2, 1, -4], [-8, -4, 1, 0, 0, 4, 2, 0, -3, 0, -4, -2, 2, -7, -1, -1, 0, -5, -6, 0, 0, -1, -2, -4, 0, 4, 0, 1, 2, 0, 1, -1, 7, -1, -1, -4, 2, -3, -4, -2], [-4, 2, 10, 3, 1, 7, 6, 5, 0, 0, -6, 5, -2, -6, -7, 14, -1, -4, -4, 1, -1, 3, 4, -4, -1, 1, -3, 7, 0, 1, 5, 3, 0, 3, 1, -7, -4, 0, -1, -11], [1, 4, 10, 2, 8, 3, 8, -1, 0, 0, 2, 8, -5, 0, 0, 12, -4, -3, -9, 2, 0, 6, 9, -9, 0, 2, -1, 1, 0, 0, 1, 0, 11, 4, 0, 2, 0, -1, -5, 0], [0, 12, 0, -2, 6, 5, 11, -5, 1, 4, 3, 3, -4, 2, 4, 7, -2, 1, -7, -3, 0, 3, 3, -1, 0, 1, 5, 0, -6, 5, 1, 0, 9, 8, -1, 2, -2, 5, -1, 5], [4, 9, 8, 5, 3, 11, -1, 0, 2, -3, 4, 2, 14, 1, 8, 7, -3, -8, -8, 0, 5, 2, 8, 5, 9, 1, 0, -5, -11, 10, -5, -4, 2, 0, -3, -2, -3, 0, 0, 0], [3, 7, 11, 9, 4, 0, 6, -1, 2, -1, 1, -4, 12, 4, 12, -3, -5, 2, -13, -2, 4, -9, 7, 2, -4, 3, -2, -7, -6, 3, -6, -6, -4, 0, 3, -1, 0, -6, -4, -4], [-4, 0, 4, 6, 3, -2, 3, 5, 4, -4, 2, 9, 3, 4, 17, -10, -6, 5, 0, 0, -4, -11, 1, 4, -1, -1, -1, -4, -1, -9, -4, -4, -1, -11, 1, 0, 0, -7, 0, -2], [-2, -8, 4, 6, 0, 1, 4, 3, 1, -6, 4, 9, -6, -3, 3, -5, -2, 2, 4, 6, 5, 0, -10, -5, 5, -8, 2, -6, -8, -17, 8, -5, -6, -4, 4, 3, 0, -1, -2, -4], [0, -3, -2, 0, -1, 3, -1, -4, -1, -9, 1, 6, -8, -2, -7, -3, -2, 3, 10, 5, -1, 7, -6, -7, 0, -6, -1, -3, -11, -1, -2, -6, -1, 5, 0, 2, 4, 1, -8, -7], [0, 5, -5, 1, 2, 6, -5, -3, 1, -12, -1, 6, -6, 0, -4, 7, -1, 11, 13, 5, 1, 6, -5, 2, 4, -1, -2, 4, -6, 15, 0, -4, -4, 1, 0, -1, 0, -5, 0, 1], [0, 3, 0, 0, -3, 8, 2, -1, 3, -12, -3, 3, 4, 0, 2, 11, 3, 4, 8, 5, 3, 3, -4, 3, 0, 5, -6, 3, -2, 2, 7, -5, -1, -1, 0, -6, 3, 0, 0, 2], [-6, 9, -2, 2, -2, 8, -7, 2, 7, -4, -5, 1, 5, 0, 0, 7, 7, 2, 6, 0, 4, -3, -7, 0, 4, 0, -3, 0, -8, -3, 2, -3, -1, 5, 2, -1, 5, 0, -1, 6], [-3, 1, -2, 5, 2, 3, -2, 2, -3, -3, -2, 1, 2, 2, 2, 8, 5, 4, 1, -5, -6, -2, -3, 3, 3, 1, 0, 4, -9, -4, 3, 0, -1, 6, 4, -1, 6, 2, -6, 11], [-1, -8, 1, 0, 0, -3, 2, 4, 0, 0, 3, 4, -2, -5, 9, 3, -6, 1, 4, -4, -2, -7, 0, 3, 3, 3, 7, 3, -13, 0, -2, 4, -1, -3, 9, -1, 10, 0, -8, 1], [-2, -2, 1, 3, -5, 0, -3, 1, 1, -1, 3, 0, 4, -3, 4, 0, -3, 6, 0, -4, -1, -4, 0, 4, 0, 4, 0, 1, -12, 1, 3, 5, 1, 0, 3, 3, 1, 6, -9, 9], [-4, -3, 0, 3, 0, -5, 2, 1, -3, 0, -4, -2, -3, 0, 5, -2, 0, 4, 0, 0, -4, 6, 0, -2, -3, -1, 5, 6, -6, -2, -3, 3, 1, -2, -2, 5, 4, 2, -4, 1], [3, 2, 1, 1, -3, 1, 3, 0, 3, 0, 0, 3, 1, 4, 5, 0, 3, -3, 3, -4, -3, 0, 3, 2, -4, 4, 1, 3, -2, -3, 2, 0, -2, -2, -3, -3, 5, 1, -2, -4], [-2, 0, 2, 3, -1, -2, -1, 0, -2, 0, 0, -2, 0, -2, 1, -2, 4, -1, 1, 1, 4, -4, -4, -2, -3, 0, 2, 0, -3, 1, -4, 0, 3, 4, -3, -5, 2, 1, 0, 0], [2, 2, -2, -4, -2, -3, -3, -1, -1, -2, -2, -4, 0, -2, 4, 3, 2, 2, -1, 1, -3, 0, 3, 3, -1, -3, 0, 0, 3, -1, 0, -1, -1, -3, 0, -1, 0, -2, 0, -1], [-1, -2, 2, 3, 0, -3, 3, 3, -2, 4, 3, 3, -1, -4, 3, 0, -4, 3, 2, 2, -3, 4, 0, 0, 3, -4, -3, 0, 0, 0, 0, 0, -4, 0, 3, -3, 0, 3, -3, 3], [0, -3, -2, -1, 3, 3, -3, -2, 0, 2, 0, 0, 1, -3, 2, 0, 2, 1, -1, 1, 3, 0, 2, -1, -3, 2, -2, 2, 2, -1, 4, 1, 4, -3, 0, -3, -3, 0, -1, -3], [4, -5, 2, 3, -4, 0, 0, 1, -1, 1, 4, -1, -3, 1, 4, -4, 3, 4, -4, -2, -3, -1, 3, 2, 0, 3, -3, -2, 0, -1, 1, 1, 2, -1, 3, -1, 2, -2, 3, 1], [-2, -4, -4, -1, 0, 4, -3, -4, -1, -4, -3, 2, -3, 0, 1, 0, -3, -1, 1, -3, -1, 3, -2, -4, -4, 4, 3, 0, 0, -2, 4, 0, 0, 0, 0, -4, 3, 0, 3, 0], [-1, -3, 4, 4, -2, 2, 0, -3, 0, 2, 1, -5, 2, 2, -2, 0, 1, -3, 3, -3, 2, -1, 2, 0, 2, 1, 1, 2, -3, 2, 2, -3, -2, -3, 4, -1, -1, -2, -3, 0], [3, -1, 4, -2, 3, 3, -1, 0, 0, 4, -2, 0, 0, 2, 0, -1, 2, 4, 1, -1, 0, 1, 0, -3, 0, 2, 3, -3, 0, -3, 2, -4, -1, -3, -1, -4, -2, 2, -2, 4], [4, -3, 0, 0, 0, 2, 1, 3, 0, -2, 4, -5, 0, 0, 1, -1, -1, 0, -2, 2, 0, -2, -4, 3, -2, 1, 0, 3, -2, 1, -2, -3, -4, -1, 0, 1, 0, -1, -3, 3], [0, -6, 0, 0, -4, 4, 3, 0, 4, 3, 0, -3, -4, 2, 3, 1, 3, 2, -1, 3, 0, 2, -3, 4, 3, 1, 0, 0, 0, 0, 2, 0, -3, 2, 1, -3, -2, -4, 3, 2], [-2, -4, -1, 3, -1, 2, 1, -1, 0, 0, 1, -4, -4, 1, 0, -5, -1, -1, -5, -2, 3, -1, -4, -3, 1, -1, 2, -1, 3, 3, 5, -2, 3, -2, 2, -4, 0, 4, -4, 0], [-3, 1, 5, -2, -1, 3, -2, 2, -2, 0, 1, 3, -2, -4, -5, 1, -4, 0, 1, 2, -2, 0, 4, -3, -4, 1, 3, 2, -4, 4, 7, 2, 3, -2, 5, -2, -1, 1, 0, -7], [-3, 1, 4, 0, -4, 2, 8, 8, -5, -5, -1, 2, -5, 0, -10, 5, -4, -8, -4, 4, 2, 4, 3, -3, -2, 3, 0, 4, 1, 5, 5, 2, 0, -3, -1, -5, -3, 2, -3, -4], [0, 3, 4, 4, -5, 1, 9, 4, 0, -3, 3, 2, -4, 1, -11, 7, -4, 2, -17, 1, 2, -1, 10, -8, 1, -1, -4, 6, 0, 2, 0, -5, 14, 3, 0, 3, -2, 0, -12, -2], [-3, 9, 11, 4, -8, -2, 8, 5, -1, -5, 3, 3, -4, 5, 0, 7, -1, -1, -15, -2, 6, 4, 6, -8, -4, 2, 6, 2, 0, 7, -8, 0, 6, -3, -4, -2, -6, -2, -14, -1], [1, 10, 17, 2, -3, -3, 15, 5, 0, -1, 9, -6, 1, 2, 6, 8, 4, -4, -11, 0, 6, -2, 9, 2, -1, 4, 3, 3, -4, 9, -6, -2, 3, -3, 0, -3, -4, 1, -15, -2], [0, 7, 8, 5, -2, 1, 14, 8, -1, -5, 7, -4, 14, 1, 10, -1, 0, 0, -3, 4, 1, -5, 7, 0, 0, 5, 0, -7, -8, 10, -2, -3, 2, -3, 2, -6, 0, -3, -9, -7], [-4, 4, -3, 0, 0, 9, 15, 5, 5, -10, -3, 6, 13, 4, 17, -6, -1, -2, 13, 2, -1, 0, -1, -6, 0, 3, -1, -16, -2, -3, 0, -1, 0, -1, 9, -1, -6, -4, -3, -3], [-10, -4, -2, 5, 1, 5, 7, 0, -5, -6, 1, 13, 0, -1, 14, -11, -6, -5, 10, 0, 0, 2, -2, -3, 3, -7, 2, -4, -8, -15, 2, 1, -4, -7, 2, 0, -4, 0, -3, 0], [-10, -5, -4, 3, -2, 1, 3, -3, -8, -5, 0, 3, -10, -1, 0, -14, -5, 0, 8, 4, 3, 2, -9, 0, 7, -8, -5, -7, -6, -10, -5, -3, -3, 2, 12, 2, 1, -5, -3, -3], [0, -1, 1, 0, -5, 8, 5, -5, 4, -13, 3, 6, -13, -8, 0, -3, -1, 5, 6, 0, -2, 1, 0, 1, 0, 2, -2, 0, -2, 5, 1, 0, -6, -1, 0, 0, 5, 0, -4, 4], [-2, 0, 0, -1, -4, 3, 0, 0, 8, -7, 4, -3, -1, -1, 2, 7, -3, 5, 5, 5, -2, 0, 2, 6, 6, 4, -8, 3, -3, 10, -5, 0, -7, 0, 6, -4, 3, 4, -5, 0], [0, 1, 0, 3, -1, 8, -4, 4, 1, -13, 3, -4, 0, -3, -2, 11, -2, 8, 7, 2, 0, -3, -5, 2, 7, -1, -5, -5, -7, -1, 3, 0, -8, 2, 2, -1, 5, 4, -3, 3], [3, 1, 0, 1, -5, 5, 2, 4, -2, -5, -3, 4, 3, 0, 3, 6, 0, 3, -1, -1, -3, -4, -4, 0, 1, 0, -3, 0, -7, 4, 2, 4, -9, 0, 2, 1, 4, -2, -1, 12], [6, 0, -1, -2, -4, -2, 0, -1, 0, -1, -8, 3, 0, 3, -1, 2, 1, 6, 0, 0, 0, -4, 2, -4, 1, -1, 6, -3, -12, 0, 2, 7, -10, 0, 9, 2, 1, 0, -7, 2], [4, 2, -1, 4, -3, 5, 0, 0, 0, -2, 2, 1, 0, -3, 3, -3, 4, 0, -3, -3, -3, -4, -2, -2, 0, 0, 4, 1, -5, 3, -2, 9, -2, -2, 2, 0, 4, 2, -4, 5], [-3, 1, 4, 0, 3, 1, 2, 1, 2, -1, -4, 5, 2, -1, -1, 1, 0, -2, 2, -3, 4, -3, 2, 2, 5, 4, 1, 0, -5, 3, 3, 5, 0, 2, 1, 0, 2, 1, 1, 4], [1, -1, -2, -3, 0, -1, -1, 2, 3, -1, 0, -3, 0, 3, 0, -4, -4, 2, -4, -1, 0, 0, 3, 0, 0, -1, 0, -4, 1, -1, 2, 2, -3, 2, 4, 1, 2, 0, 2, -3], [2, 1, -2, 2, -1, 0, 1, -2, -2, 0, -1, 2, 2, 1, 3, 2, 0, 0, 4, 2, -3, 4, 2, -4, 3, 3, -3, 0, 0, 2, -1, 2, 2, 4, 3, -1, 0, -4, -2, -1], [0, -3, 0, 2, 2, 3, 2, -3, -1, -1, 3, 1, -3, 0, 4, 3, 3, 0, 4, -4, 3, -2, 0, -1, -2, 2, 2, 2, -2, 2, 0, 1, 0, 2, 2, 2, -4, 1, -3, 3], [4, -3, -3, 0, 3, 3, -4, 0, 2, 0, 0, -1, -2, -2, 4, -1, 0, 0, 2, -1, 0, -1, -3, 0, 4, -4, 3, 0, -1, 2, 0, -3, 4, 3, -3, -1, 1, 1, -1, 0], [0, 0, -2, 0, -2, 2, -3, 3, 0, 1, 0, 3, 0, 2, 2, 0, 1, -1, 1, -4, 0, 2, -2, 1, 1, 4, 2, 2, 2, 0, 1, -3, 3, 2, -3, 0, -3, -4, -2, -3], [5, -2, 2, 2, -3, -4, -1, -5, 2, 0, -3, 0, -2, 0, 3, 1, -2, 1, -2, 3, -2, 0, -4, 2, 5, 3, 1, 0, -1, 0, 1, 0, -2, 1, -3, -2, -4, 0, 4, -2], [0, -2, 1, 0, -3, 0, 0, 0, -3, -4, -1, -2, -1, -1, -2, -4, 3, -3, 4, 2, 1, -1, 1, -3, 4, -1, -2, 1, -1, -2, -1, -2, -2, 0, -1, -3, -3, 2, -1, -3], [2, 1, -2, -1, 3, -2, -2, 1, 0, 0, 0, -2, 4, 1, 3, -3, -4, 0, 0, 0, -4, 3, 1, 0, 3, 0, 0, -1, 0, 3, 0, 2, 1, 1, 1, 0, 2, 1, 0, 5], [-2, -5, 0, -3, -4, -4, 2, -5, 4, 2, 1, 2, -2, 0, 0, -1, 1, -1, -4, -1, 0, 4, 0, 2, 1, 0, -2, 2, 0, 0, 0, -2, -2, 0, -2, -1, 0, -4, 3, -3], [1, -6, 3, 2, 4, -4, -4, 0, 3, -2, -1, -1, -4, -2, -2, 2, 4, 3, 4, -1, 0, 4, 2, 3, -1, 1, 0, 4, 4, 2, 1, -1, 3, 3, 0, -2, 2, 2, 0, -3], [0, -2, 1, -1, 2, -3, -2, -2, 1, 1, -1, -5, 3, -1, 0, 0, 4, 1, 1, 4, -2, 0, 3, 0, -3, -4, 3, 3, -2, -2, 1, -1, 4, -3, -1, -1, 2, 0, 3, -4], [3, -5, -1, 3, -4, 0, -4, -2, -1, 4, 3, -1, 1, 1, 3, -3, 3, 2, -3, 0, -1, 0, -2, 0, 1, -2, 3, -2, 3, 4, 0, -3, 1, -3, 0, 1, 1, -1, 2, -1], [0, 1, -5, 2, -1, 4, 5, 3, 3, 0, 2, 0, 1, -1, -7, -2, -2, -3, 0, 0, 4, 2, 4, -2, -2, 3, 0, -1, -1, 2, -1, -1, 0, -2, 0, -3, -2, 0, 3, -5], [-4, 0, 2, 1, -6, 6, 5, 10, 0, 0, -1, -5, -2, -8, -13, 4, -3, -1, -4, 1, 5, 7, 1, -2, 0, 3, -5, 2, 2, 0, 4, -1, -2, -3, -3, 3, -3, -3, -2, -10], [0, 1, 0, 0, -11, 4, 5, 7, 0, -2, -8, 0, -4, 0, -5, 11, 1, 0, -7, -2, -1, 7, 11, -6, 1, 4, -4, 2, 2, 1, 1, -3, 3, -1, 2, 2, -3, -1, -4, -4], [4, 6, 2, 0, -7, -2, 8, 6, -1, -3, 4, -4, -2, -3, 8, 15, 1, -1, -12, 4, 0, 5, 9, -8, 0, 3, -4, 3, 4, 0, -3, -6, 4, -4, 1, -1, -7, -3, -9, -4], [-2, 11, 6, -1, -6, 1, 17, 1, 0, -1, 2, -8, 6, -3, 5, 3, 1, -1, -16, 5, 7, -3, 5, -8, -3, 4, -1, -2, 5, 7, 1, 4, 3, -9, 2, -4, -9, -7, -1, -1], [-4, 7, 9, 3, -1, 1, 17, 0, 2, -6, 3, -4, 6, 4, 9, -3, 2, -1, 0, -2, 0, -3, 7, -2, -5, 3, 2, -4, 0, 6, 3, 0, -1, -12, 0, -1, -3, -5, -5, -5], [-11, 3, 0, -1, 1, 0, 17, 2, 2, -5, 0, -1, 15, 4, 3, -5, -3, -7, 9, 0, -1, -1, 2, -5, -5, 0, -3, -9, 0, -6, 1, 0, -4, 0, 2, 1, 0, -4, -13, -5], [-5, -1, -1, -1, 0, 3, 12, 5, 4, -8, -3, 3, 6, 1, 7, -11, 2, -3, 3, 1, 2, -2, 4, -2, -1, 0, 0, -8, 1, -7, 4, 1, 3, 0, 2, 4, 0, 0, -12, -1], [-10, 0, -9, 2, -3, 4, 9, 0, 1, -6, -3, 9, -2, 5, 10, -17, 0, -2, 2, 0, 0, -1, -2, -1, 0, -1, 0, -4, -1, -8, 0, 9, 0, 0, 9, 1, 2, 1, -6, -6], [-6, -2, -4, 4, 0, 2, 1, 2, 0, -8, -2, 5, -13, 0, -3, -8, -2, 2, 7, -1, -1, 0, -5, 0, 0, -5, -1, -10, 2, 4, 1, 10, -10, -3, 9, 5, -2, -2, -4, 0], [-8, 1, -7, -2, -4, 7, -2, 4, 3, -8, 3, -1, -9, 0, 2, 0, 1, 3, 3, 1, 0, 0, -6, 1, 3, 4, 3, -6, 4, 3, 1, 2, -8, 0, 3, -8, -1, 1, -3, -3], [-1, 2, 0, 0, -3, 9, 4, 7, -3, -10, -1, 6, -5, 0, -6, 0, 4, 1, 0, -5, -6, 0, -2, -6, 2, -2, 1, -17, 2, 0, 0, 3, -10, 3, 4, 0, 4, 1, -8, 8], [-6, -1, 0, 2, 2, 6, 7, 4, -3, -10, -1, 1, -1, -1, 0, 0, 2, 4, -2, -2, -5, -8, -7, 2, 1, 4, 0, -7, -4, -3, 0, 10, -6, 0, 5, -5, 1, -1, -7, 4], [-1, 2, -3, 5, 4, 8, 4, 5, 1, -5, -1, 3, -3, -3, -5, 7, 1, 2, -9, -4, -3, 0, -4, -4, 3, 0, -1, -3, -1, 1, 0, 10, -3, -3, 5, -5, 0, 4, -2, 8], [-2, 0, 5, 4, 1, 5, 3, 1, -2, -4, -2, 5, 2, 0, 3, 2, 0, 0, 1, 2, 0, -2, -2, 1, 0, 2, 5, 2, 3, 0, -4, 1, -2, 4, 0, -3, 1, -1, -5, 8], [-4, 1, -2, 0, -3, 0, 2, -2, -4, 1, -1, 4, -6, 0, 0, -2, 4, 4, 0, 2, -4, 3, 0, 2, 3, 0, 0, 0, 1, -1, 1, 2, 0, -1, -1, -4, 1, -2, -6, 1], [0, -1, 0, -1, 3, -4, 2, 1, 0, -1, 1, 4, 3, -3, 0, -4, 0, 0, 2, 1, -2, 1, 1, -1, 0, 1, -1, -2, -4, -2, -4, 3, -3, 0, 0, -1, 2, 0, 1, 0], [0, -2, 2, 3, -2, 3, 1, 2, -2, -4, -2, 0, 2, -3, 3, 1, 0, 1, 2, 2, -2, 0, 3, 2, 0, -1, -1, 2, 0, 0, 0, 0, 4, -3, -2, 0, 3, 4, -3, 2], [3, -3, -4, -3, -3, 1, -1, -2, -1, 0, 2, 3, 0, -2, -1, 1, 3, -1, 0, 0, 0, 1, 0, 0, -1, 3, -2, 1, -1, -4, 4, 2, 0, -1, -2, -2, -1, 1, -3, -1], [5, -2, 0, 1, 4, -4, 0, -4, 0, 1, 3, -2, 2, 1, 0, -3, 0, 0, -1, -1, -1, -3, -4, -1, -1, -2, 0, 3, -2, 0, 0, 0, 1, -3, 0, -2, 4, -4, 3, -3], [4, -6, -2, 2, -4, -4, -2, 0, 0, -2, 5, 0, 3, -3, 4, 3, 3, 4, 2, 0, 0, 0, 3, -1, -1, 0, 1, -1, 0, 0, 2, 3, 0, 0, -1, -2, -3, 0, 4, 2], [5, -5, 0, 4, 0, 3, 1, -1, 0, -3, 1, 0, 2, -1, 0, 1, 2, 2, 0, -4, 0, 0, 0, 2, 1, 0, 2, -2, 3, 1, -1, 0, -3, -3, -2, -1, 2, -1, 3, -3], [-2, -3, 0, 1, 3, -1, -2, -2, -3, -1, 0, -3, -2, 3, -1, 0, 1, 1, 2, -3, -4, 1, 0, -2, 3, -4, -1, 0, 0, 0, 2, 2, -2, 0, -2, -1, 1, -3, -2, -1], [-1, -1, 0, -1, 0, 1, 2, 0, -4, -4, 4, -1, 4, -3, 0, -2, 0, 3, 3, -4, -2, 1, -1, -1, 2, -3, -1, 3, 3, 3, 0, -2, -3, 0, -1, 0, 0, -3, -2, 4], [1, -3, -4, 3, 0, -4, 0, 3, 0, 1, 0, -4, 0, 0, -4, 4, -4, -1, 0, -2, 2, -2, -3, -3, 2, -1, 2, 1, 1, -4, 0, 2, 0, 0, -2, 2, 3, 1, -2, 0], [3, -5, -1, 0, 4, -2, 3, 0, 0, -3, 0, 0, -1, -4, 4, 2, 2, -2, -3, 1, 4, -1, 0, 2, 4, 3, 0, 1, -2, -2, 0, 0, -3, 0, -2, 2, 0, 3, 0, 1], [3, 2, 3, -1, -4, 2, 1, 2, 2, 0, 0, 0, 1, 0, -3, 3, 2, -2, 0, 4, -3, 4, 0, 4, 0, 0, 0, 1, -3, 2, 0, 0, -4, 0, 0, 2, 3, 2, 2, -1], [1, 2, -4, 0, -3, 4, -4, 0, 2, 2, 3, 0, 3, -2, 3, 2, -4, -1, 0, -3, -3, 0, 2, -2, 1, -3, -3, 1, 3, -2, 2, 3, 2, -1, -1, 2, 2, -1, 4, -2], [0, 0, 0, 0, -2, -2, -4, 3, 0, 1, 4, 1, -3, 0, 2, -2, -2, 3, 2, 1, -1, 2, -1, -4, -1, 4, -2, -1, 1, 2, -2, -2, 3, -2, 0, 0, 4, -4, 1, -4], [-2, 4, 0, 0, -4, 1, -4, 6, 3, 1, 2, -6, 1, -2, 0, 0, 2, 2, -2, -1, -3, 2, 0, -5, 1, 3, 2, 0, -1, 4, -3, -1, 3, 0, 3, 0, -3, 2, 4, -4], [-3, 0, -3, -3, -7, -1, -1, 0, 0, -6, -2, 0, -2, 0, -5, 9, 2, -3, -3, 2, 2, 0, 5, -6, -1, 1, 0, 5, -1, 3, -3, 0, 4, -3, -1, 2, 0, 0, -1, -4], [-4, 1, 4, -1, -6, 4, 1, -3, 0, -4, -2, -2, -1, 0, 3, 10, 2, 1, -4, 2, 4, 7, 6, -9, -1, 5, -7, 0, 5, 1, -3, 0, 6, 0, 1, 0, -2, 0, -4, -6], [-1, 6, -5, 2, -5, 8, 1, -2, 0, -3, 5, -10, 1, 3, 7, 7, 0, 0, -9, 3, 2, 3, 7, -6, 3, 4, -1, 2, 1, 2, -3, 0, 2, -1, 4, -4, 1, -3, -4, 6], [-3, 8, -3, 1, -3, 4, 15, -3, 0, 1, 1, -6, 4, 8, 5, -7, 5, 2, -2, 1, 1, 0, 13, -6, 0, 2, -1, -7, 9, 1, 1, 7, 1, -6, 6, 1, -2, -6, -5, 7], [-6, 5, -2, -1, 0, 0, 10, 3, 3, -3, -3, -3, 6, 2, 3, -4, 3, -7, 11, 3, 3, 1, 7, -3, -2, -3, -1, -6, 7, -4, 2, 7, 0, -5, 4, -4, 0, 3, -4, 0], [-11, 2, -17, 2, -2, 0, 15, 8, 4, -7, 5, -1, 12, 0, 5, -6, 0, -5, 9, -4, -3, -2, -2, -4, 0, -2, 0, -8, -1, -5, -1, 0, 7, -2, 2, 4, 3, 5, -8, -6], [-10, -1, -11, 6, -1, 7, 13, 3, 2, -6, -4, 2, 3, -2, 5, -16, -4, -1, 4, -4, -3, -1, -9, 0, 4, -2, 8, -8, 4, 0, 2, 7, 2, -2, -2, 1, -1, 2, -5, -10], [-7, -5, -3, 5, -8, 5, 12, 8, 4, -1, 0, 6, -6, 1, 8, -13, -5, 0, 0, 0, -2, -2, -7, 0, -7, 0, 7, -6, 6, -1, -3, 12, -4, -4, -4, 3, 2, -1, -3, -7], [-8, -5, -3, 1, -7, 12, 17, 1, -2, -6, 0, -1, 5, -4, -3, -6, 2, -1, -2, -4, -6, -3, -3, -2, 8, -2, 3, -1, 3, 1, 1, 10, -6, 4, 1, 0, -1, -1, -6, -2], [-9, 1, -1, -1, 1, 11, 9, 6, 1, -7, 1, 0, 1, 0, -9, -6, 2, 0, -1, 1, -1, -11, -7, -2, 3, 2, 2, -5, 0, -2, -1, 12, 0, -1, 6, 0, 0, 4, -3, 5], [0, 1, -2, 4, 3, 8, 10, 4, 0, -4, 3, 3, 2, -7, -6, -2, -3, 0, -6, -4, 2, -3, -4, -1, 1, 0, -2, -4, -2, 0, 1, 7, 0, 1, -1, -4, -3, 3, -5, 3], [4, -1, 2, 2, 1, 3, 2, 2, -2, -4, -1, 2, 3, -9, 3, -4, 0, 3, 1, 2, -2, 0, 0, -1, 2, 3, 1, -6, 2, 4, -2, 0, -2, 0, -5, 0, -1, 0, -3, 2], [1, 3, -1, 0, 0, 2, 1, -2, 1, -2, 4, 9, -3, -5, 2, 0, -4, -3, -5, 2, -2, -2, 4, -3, 7, -3, -1, 0, 2, 1, 0, -2, 3, -2, -1, -4, 3, 0, -2, 2], [3, -3, 1, -2, 3, -4, -2, -1, -1, 4, 0, 0, 0, 0, 5, -3, 0, 1, -2, -4, -3, 4, -3, 0, 0, -2, 0, -1, -1, 0, -4, 0, 2, 4, -1, 2, -4, 0, 1, 2], [-2, -5, 0, 2, 1, -3, -4, 1, 1, 3, 3, 2, 1, 0, 4, 0, -2, -1, 1, -2, 2, -3, 2, -1, -3, -4, 3, 1, 0, 3, 1, -3, 1, -2, -3, 2, 0, 0, -3, 2], [5, -5, 3, -2, 1, 3, 0, -4, 0, -2, 2, -5, -2, 0, 2, -2, -1, 1, -1, 3, 1, 1, 1, 4, -4, -1, -2, -1, 2, -3, 0, -2, 1, -1, 3, -3, -2, -1, -1, 0], [-1, 1, 2, 2, 2, 4, 1, -2, 0, 0, 4, 1, -2, 1, 4, 0, 2, -2, -3, 4, 0, 0, 1, 2, 0, 0, 0, 1, 3, 4, 2, 0, 0, -3, 2, -2, 2, -3, 3, 1], [2, 0, 0, -1, -4, 1, 2, -5, -4, -1, 2, 3, 4, -2, 2, -1, -2, 2, -1, 0, -2, 4, 0, 0, -1, -2, 1, -1, 0, 3, 0, -2, 1, 4, 3, -3, -1, 0, 0, 0], [0, -4, 0, -1, 1, 1, 1, 1, 0, 1, 0, -1, 0, 3, 0, 3, 2, 3, 1, 0, 0, 2, -1, 4, 0, 0, 0, 0, -2, -1, 1, -2, 0, 0, 4, 2, 4, -4, 1, 0], [0, 2, 2, -1, -2, 3, 0, -5, 3, 1, 2, -2, -1, -3, -2, -2, 1, 0, -3, 1, 3, 3, 2, 1, -1, 1, -4, 4, -1, -1, 0, -2, 1, 0, -4, 0, -1, 3, -2, -1], [6, -4, 0, 1, 0, -3, 0, 2, 1, 4, 1, -1, -1, 2, -1, 2, 0, -2, -3, -3, -1, 4, -2, 3, 3, 3, 1, 3, 3, -2, -1, -3, -1, -3, -2, 0, -1, 0, -2, -1], [0, -5, -2, -1, 0, 2, -3, 2, 0, 3, 0, -2, -3, 4, -2, -3, -2, 1, 1, 0, 1, -3, 3, 0, 1, 4, -3, 1, 2, -4, 3, -1, 3, 0, -1, -3, -2, 0, 1, 0], [3, -1, 0, -4, 4, 0, -2, 0, -1, 1, 0, -3, 1, -2, 3, -2, 0, -2, 0, -2, -4, -3, 2, 3, -3, -2, 1, 4, 4, -2, 2, -3, 3, -1, 0, 3, 1, -4, 2, -2], [3, -1, 1, -1, -3, 2, 2, 0, -2, -2, 2, -2, 1, 0, 2, -4, 0, -3, 3, 0, 3, 0, -2, -3, -2, 0, -3, 3, -1, 0, 2, 2, 3, 0, -3, 0, -3, 3, 1, 4], [3, -5, 0, -4, 0, 0, 0, 0, -4, 4, 4, -1, 0, -2, 2, 2, -4, -1, -1, -1, 3, 1, 0, 4, 2, 0, -2, 4, 1, -3, -2, -3, 0, 1, -1, 0, 0, 0, 0, 2], [0, -1, -4, -2, 4, -3, -4, 0, 2, 0, -3, -2, 3, 0, -1, -2, -2, 4, 0, -2, -2, 2, -4, 0, -1, -2, 0, 3, -3, -1, 1, 0, -1, 3, 3, 2, -1, 4, 1, -1], [4, -4, 0, 0, 1, -3, -2, 0, 4, -2, 0, 2, 1, 1, -2, 2, 1, 3, -4, 0, 3, 4, 2, 2, 2, -1, 4, -1, 0, -2, -2, 2, 0, 1, 0, -4, 2, 0, 2, -2], [-3, 2, -2, -3, 1, 0, 0, -1, 1, -3, -1, 0, 2, -2, 2, 0, 2, 0, 2, -2, 0, 2, 0, 0, -4, 1, 0, -3, 4, 1, -3, -2, -1, 1, 2, -2, 0, -4, 0, -4], [1, -1, 1, 0, -4, -2, -1, 0, 0, -4, 0, 2, 0, 0, 1, 0, 0, 5, -4, 0, 1, 4, 2, -1, -2, 3, 3, 0, 2, 4, -1, -3, 5, 0, -5, -4, -2, -1, -3, -2], [-5, 1, -1, -2, -1, -3, 0, 3, 1, 3, -4, 0, 0, 3, 3, 0, -3, 0, -2, 3, -1, 4, 8, -3, -1, -2, 2, 0, 0, 3, -2, -6, 1, -2, -5, -3, -2, -3, -1, -4], [-6, -1, -10, 0, -5, -3, 0, -1, -5, -3, -9, -3, 1, -3, -3, 0, 1, 1, -3, 4, 0, 10, 9, -1, -4, -1, 0, 2, 0, 4, 3, -4, 8, -3, -6, -5, -6, 2, 0, -3], [-6, -6, -6, 0, 0, -1, 5, -2, 0, 1, -3, -6, 0, 3, 2, -4, 3, 1, 3, -2, -1, 6, 14, 0, 0, -2, 2, -1, 7, 1, 0, -1, -1, 0, 2, -2, -5, 0, 0, 0], [-11, 6, -4, 0, -1, -11, 12, -1, -4, 4, -4, -3, 12, 1, 0, -3, 0, -2, 5, -4, 3, 8, 8, -3, -5, -2, -5, -10, 7, 0, 5, 3, 2, -1, 1, -4, -4, -2, -1, 0], [-9, 3, -7, 2, -3, -4, 17, -1, -2, 5, -2, -5, 11, 4, 1, -9, 0, -7, 2, -1, 2, -1, 4, -7, -13, -3, 0, -10, 8, 0, 2, 4, 1, -5, 7, -1, -4, 6, -3, -4], [-1, 3, -7, 1, 4, 5, 14, 3, -2, 3, -1, 0, 9, -2, -1, -12, -3, 0, 4, 3, -3, -6, 0, 1, -3, -4, 3, -8, 10, -5, 3, 2, 2, -1, -1, 0, 1, 1, -7, -8], [-5, 4, -3, 2, -1, 2, 11, 7, 5, -2, -3, 0, 12, 0, 0, -11, 3, 0, -8, -1, 1, -7, 7, 1, -6, -3, 0, 2, 2, -3, 2, 8, -3, 0, 0, 0, -6, 1, -2, -5], [-1, 0, -5, -2, -3, 9, 12, 8, -3, 2, 8, -2, 3, -1, -3, -7, 0, -4, -9, -1, -2, -6, 5, 3, -5, 0, -4, 5, 4, 0, -1, 3, -3, 0, -2, -2, 0, -3, -4, -2], [-9, 8, -7, 1, -1, 9, 13, 3, -5, -3, 3, 1, 5, -4, 1, -2, 0, 0, -4, 2, 2, -10, -5, 3, -2, 0, 1, 1, 0, -1, 0, 3, 1, -3, -2, 0, -4, -2, -1, -6], [3, 3, 0, 3, 1, 4, 4, 3, 0, 2, 2, -2, 0, -3, 3, 0, 1, -1, -5, 4, 0, -3, -1, 1, 0, -2, -2, -6, 0, 3, 2, 0, -1, -2, 0, 3, 0, 0, -2, -5], [0, -1, 6, 1, -2, 0, 0, -1, 1, 0, 0, 4, 4, 0, 0, -2, 0, -2, 2, 1, -2, -3, -5, 3, -3, -1, 4, 2, 2, 2, -3, 3, 0, 4, 2, 0, 0, -3, 2, 2], [2, 0, 0, -2, -2, 0, 1, -1, 1, -2, -1, 3, -2, -2, 2, -4, 1, 2, -2, 2, -1, 0, -2, 4, 3, -4, 4, 0, -3, -2, 2, 0, 0, -1, 2, 3, 2, 3, -2, 0], [0, -4, 2, 3, -3, 0, 2, 3, 0, -3, 0, -1, -3, 3, -2, 0, 3, 4, -2, 1, -3, 0, -1, 1, 4, -2, 4, -3, 1, -3, 3, 0, 0, 2, 0, 1, -3, 1, 0, 2], [5, -2, -2, 3, 2, -1, 0, 1, 0, 2, 2, 1, -4, -1, 3, 3, 0, -2, -2, -3, 3, 0, 1, 0, 0, 3, 0, -2, 1, -3, -1, 2, -1, 1, 0, 1, 0, -2, -1, 1], [3, 1, 2, 1, 2, 2, 0, 0, 3, 3, 2, 1, -2, 0, -1, 1, 0, 0, -4, 3, 0, -3, -2, -1, 2, 2, -1, -1, 1, -2, -1, -3, -3, 0, 3, -4, -4, -2, -1, -3], [4, -1, 0, 3, -1, -1, 0, -3, 0, -4, -2, -1, 1, 2, 4, 4, -3, -3, -1, 0, 1, 2, 3, -3, -1, 2, 2, 3, 2, 0, 0, -3, 0, -4, 0, -3, -3, 1, 2, 4], [4, 0, 2, -4, 0, 0, -2, -2, 0, 1, 1, 2, 0, -3, -1, -1, -2, 2, -3, 0, 4, 0, -1, 1, -2, -2, 0, -1, -3, 3, -2, 2, -4, -2, 0, 0, 3, 3, 0, -2], [2, 1, 0, -3, -4, 1, 3, 0, 4, 3, -3, -4, -1, 0, 2, -1, 0, 4, 0, -3, 0, -3, 0, 0, 2, 0, 0, -4, 0, -3, 1, -2, -3, -2, -2, -2, 0, 3, -2, 0], [0, -4, -2, -3, 0, 0, -1, 2, -1, -1, -3, 1, -1, 0, 4, -4, -1, -1, -1, 1, -4, -1, -1, 3, 4, 0, 0, 0, 0, -4, 3, -3, -4, 2, 1, -2, -1, -4, 0, 4], [-2, -1, -1, 1, -2, 0, -1, -2, 0, 3, 0, -2, 3, -2, 1, -2, -2, -1, -3, -2, 4, -2, -2, 3, -1, -2, 3, 3, 0, -2, 0, 2, 3, 0, 1, -2, -3, -4, -2, -1], [3, 2, 1, -4, 4, 1, 0, 0, 0, 4, -3, -5, 3, 0, 1, 3, 1, -3, 1, -2, -2, -1, -4, 3, 2, -4, -4, -2, 2, 1, 2, 0, 2, 2, 3, -4, 0, 3, 1, 2], [0, 0, 0, 2, 0, -4, -4, 0, -4, 0, 3, -4, 3, 3, -1, -2, -3, 3, 1, 0, -1, 0, -1, -2, -2, -4, 4, 2, -1, -1, 2, -1, 2, 3, 0, 0, 4, 3, 4, 0], [0, 1, -2, -3, -2, 0, 1, 0, 0, -2, 0, -3, -1, -2, 0, -4, -3, -3, -2, 2, 0, -1, 0, -2, 2, 2, -1, 0, -3, -3, 0, -2, 0, 2, 3, -2, 0, -1, 0, 4], [1, -6, 3, 0, -1, 4, 0, 2, 1, -1, -2, -2, -2, 2, 0, -3, -1, 2, -2, -3, -2, -1, -1, 3, 1, 0, -3, 4, 2, -3, -1, -3, 1, 0, -3, 2, 0, -4, 4, -2], [2, -2, 0, 4, -2, -3, -3, -3, 0, 2, 1, -5, 3, -4, 0, -1, -3, -3, -2, 0, 1, -2, -3, 0, 4, -3, 2, 1, 1, 3, -2, -3, -3, 2, 3, -5, 4, -2, 1, 4], [-2, -5, 0, -3, 1, 0, 0, 0, 1, 3, 2, -1, 4, -2, -1, -3, -2, 0, 2, -2, 0, -2, -4, 0, -2, -2, 2, 0, 4, -4, 0, -3, -3, 4, 1, 3, 1, -4, 4, 2], [4, 0, 2, 0, -2, -4, -2, -1, 2, 0, 1, 0, 0, 4, 1, -3, -4, 1, 0, 0, 0, 4, -1, 3, -1, 1, 2, -2, 3, 0, 3, 0, -3, -3, -2, 0, -3, 0, 2, -3], [-1, -2, -2, 2, -1, -1, -2, -4, 4, 4, -2, -2, 3, -2, 0, -1, 1, -2, -4, -4, -1, 0, -1, -2, -1, 0, -2, 3, 0, -2, -1, -3, -2, 0, 0, 1, 2, 2, 3, 0], [-4, 0, -5, 2, 0, -3, -6, 2, -2, -2, -4, 2, 2, 0, -2, -4, -2, 3, 1, 2, -3, -2, 0, 0, -1, 0, -3, 0, 4, 4, -4, 4, -2, -3, 0, 6, -1, -2, 2, -2], [0, 0, -11, 3, -5, -6, -3, 0, -4, 0, -6, -8, 2, 0, -6, 0, 6, 2, -2, 2, -3, 2, 1, 4, -6, 0, -1, 0, 4, -1, 0, 1, -4, 3, 0, 3, -5, 1, 0, -3], [1, 0, -1, -3, -2, -9, -4, 3, -4, 7, -1, -7, -2, 0, -7, -9, -1, -5, -3, 0, -3, 3, -3, 4, -1, 4, 0, 1, 1, 1, -1, 0, 1, 0, 0, 2, 0, 4, 1, -3], [-6, 0, -9, 0, -5, 0, 3, 4, 0, 0, -2, -4, 0, 0, -9, -8, 2, 0, 0, 0, 2, 0, 3, -1, -1, -3, -2, -5, 0, 0, -3, -1, 0, 3, 2, 1, 0, 3, -3, -3], [-5, 3, 0, 4, -4, -5, 2, 4, -1, 3, -7, 0, 0, -3, -12, -8, 0, -2, 0, 4, 2, 0, 6, -1, -2, 0, -1, -2, 8, 0, 0, 0, 1, 0, -2, -1, -8, -1, 0, 0], [-6, 5, -2, 3, 0, 0, 6, 9, -2, 6, -4, -2, 3, 4, -4, -2, -1, 0, 0, 0, -3, -4, 7, 1, -3, 3, 1, -3, 6, -4, 0, 4, 3, 4, 3, 1, -4, -2, -4, 0], [-2, 7, -2, -3, -2, 1, 1, 6, 3, 4, 3, -6, 0, -1, -5, -1, 4, -6, -2, 4, 0, -2, 2, -3, -3, 1, -1, -1, 6, 2, -3, -5, 2, 4, -1, -4, -6, 2, -2, 0], [-4, 0, -1, -5, -2, 7, 5, 4, 3, 0, 0, -5, 4, -2, -9, 0, 2, 0, -3, 2, 0, 0, -2, -2, -7, -2, -1, 0, 3, 0, 1, -5, 3, 1, 0, -1, 2, 0, -3, 0], [-4, 4, -5, -5, -2, -1, 7, 0, -2, 1, 0, 0, 2, 0, -3, 3, -2, 0, -3, -1, 1, -5, -5, 2, -3, -1, 4, -1, 0, 0, -3, 1, 0, -2, 1, -1, -1, -2, -4, -2], [-4, -2, -4, 4, 1, 5, 1, 4, 0, 0, 2, 1, -3, -3, -1, 0, 4, -1, 0, 2, 1, 0, 2, 1, -1, 1, 2, 0, 2, 1, 3, -5, 2, 2, 2, -1, 2, -2, 2, 2], [-4, 2, -3, 4, 1, -2, -2, 1, -3, 2, -1, -5, -2, 0, 2, 2, 0, 2, -2, 0, -4, -3, 3, 4, -1, -2, 4, 0, 0, 0, 1, 2, 1, -1, 4, 0, 2, -2, 0, 2], [1, -4, 0, -2, -3, 0, 3, 1, 3, -4, 0, -3, -2, 4, 1, 0, 0, -2, -1, 1, 3, 3, 3, 0, 2, 1, 0, 1, 2, -2, 0, 3, 1, -3, -1, 3, -2, 3, 4, 3], [3, -4, 4, 0, 2, 1, -1, -1, 0, 3, 3, -2, 2, 3, 4, 3, 0, -1, 4, 3, -1, 3, 3, 0, 1, -3, 1, -3, -4, 2, -2, -2, -4, 0, 1, -4, 0, -2, -3, 1], [4, -1, 0, -1, 2, -3, 1, 0, 0, 1, -1, -2, 1, 0, -3, -3, -3, -1, -2, 0, 1, 0, -1, 1, -2, -2, 2, -2, 2, 4, 0, 3, 3, 0, -4, -3, 2, 2, 3, 0], [0, 0, 3, -2, 0, -2, 3, -1, -1, 0, 0, 0, 2, 0, 0, -4, -3, -3, -4, 0, -1, 2, 0, -3, 3, -4, -2, 0, -4, 0, 2, -1, 0, 1, -3, -4, 0, 2, 3, -2], [-1, -3, -1, 0, 0, 3, -3, -1, 0, 2, -1, -2, 2, 0, 1, -3, 0, 2, 1, 0, 0, 4, -3, -4, -2, -3, 1, 2, -1, 2, -2, 0, -3, 3, 0, 0, -2, 2, 2, 1], [4, 0, 3, -2, 0, 0, 1, 0, -3, 1, 0, -1, 0, 0, -2, 3, 1, -4, 1, -1, 2, 0, 0, 0, 0, 0, 3, 1, 1, 3, 0, 1, -1, -2, 1, 0, -1, 2, 0, -3], [-2, -1, 1, 1, 0, 2, 3, -3, -2, 1, -1, -4, 3, 0, 4, -4, 0, -1, 2, 3, 2, -3, -3, 0, 2, 4, 4, -2, -1, 0, 0, 1, 1, -3, -1, -1, -2, -3, -3, 0], [3, -2, -3, 2, -3, 1, 0, 2, 0, 1, 0, -2, -2, 3, -2, -1, 3, 4, -3, 2, 3, 2, -1, -2, 1, 1, 3, 0, 2, 3, -2, -4, 0, 0, 1, 2, 2, 2, 0, 0], [4, -1, 3, -2, -1, 0, 0, -3, 0, -2, 1, 0, 1, -2, 4, -2, 1, -3, -2, 3, 0, -4, -2, 0, 0, 0, 4, 0, -4, -1, 2, 4, -2, 3, 4, 0, -4, 2, 0, 3], [4, -2, 3, -1, 2, 4, 3, 0, -1, -2, -2, 2, 2, 3, 0, -4, 3, -1, 0, -3, -4, -1, 0, -3, 0, 0, -3, 1, -3, -4, 2, 1, -1, -1, 1, 3, 0, 1, 1, 1], [0, 2, 4, 0, 0, 3, -3, 3, 0, -2, -2, -4, -4, 2, 4, -2, -4, -3, -2, -1, 2, -2, -4, 2, 1, 4, 0, 1, -3, 4, -2, 0, 3, 0, 4, 0, -2, -4, 2, -3], [2, -1, 0, -2, -2, 0, -3, 3, 0, 2, -2, -2, 0, 1, -1, 1, 2, 2, 0, -3, -1, -1, 3, -3, 3, 2, 0, -3, 3, 1, -4, -1, 0, 2, 0, 0, 0, 0, -1, 2], [5, 0, 0, -4, 0, 0, 0, -5, 4, -1, -3, 0, 4, 1, -2, -3, -4, -2, -1, -1, 3, -1, 0, 2, 0, 2, 0, -1, 1, 2, -1, -1, 0, 3, 1, 3, 4, -4, -2, -3], [3, 0, 0, -2, -2, -3, 2, 2, -1, -3, 2, -4, 4, -3, 0, -4, 4, 0, 2, -3, -3, 1, 3, 2, -3, 1, 4, -3, 2, -3, -3, -3, 3, 3, 1, 3, -3, 2, 2, 2], [3, 0, 0, -1, -3, 3, -1, 2, -1, -4, 2, 1, -1, 1, 0, -4, 0, 2, 4, -2, -4, -1, 0, 0, -2, -2, -1, 4, 0, 2, 1, -4, 3, 0, 1, -3, -2, 1, -3, -1], [-2, 1, -3, -1, -2, -2, 0, -2, 0, 0, 0, 0, -4, 3, -3, 3, -1, -3, -3, 0, -3, -1, -4, 4, 3, -2, -1, 2, 1, -1, -3, -1, -2, 1, 3, 2, 0, 4, -2, 0], [2, 0, -2, 0, -1, -3, -1, 0, 2, 0, 3, -1, 0, 4, 0, 1, 1, -1, 0, 1, 0, -3, -3, 4, -5, 1, 0, -3, -2, 1, 2, -1, -3, 0, -1, -3, 1, 2, 0, -4], [3, -2, 0, 3, -4, 3, 0, 2, -5, 0, -2, -1, 3, 1, -3, 2, 0, 2, 2, -3, 2, 3, 1, -2, 0, -2, -3, 1, 4, 0, 2, 3, 0, -2, -1, 0, -2, 1, -1, 2], [5, 0, 0, 0, -5, -3, -5, 2, 0, 2, -3, -5, 1, 3, -5, -3, 4, -5, 4, 0, -3, -2, 2, -4, -1, -3, 2, -1, -2, 0, 3, -3, -5, 2, 4, 6, -3, 2, -4, -2], [0, -2, -1, 3, -5, -6, 2, 3, 2, 5, 1, -1, -3, -3, -4, 0, -1, -1, -4, 1, -2, 2, 0, 0, -7, 1, 0, 0, 0, 2, -3, -2, -5, 0, -4, 0, 0, 3, -3, 0], [1, 0, -7, -2, 2, -5, -5, -1, 1, 6, -4, -6, 0, -2, -14, -3, 0, 0, -2, 4, -3, 0, 0, 4, -6, 0, 3, 0, -1, -1, 4, 1, 1, 0, 3, 1, -3, 4, 0, 1], [1, 0, -1, -3, 0, -3, -6, 4, 2, 3, 0, -8, -2, -2, -10, 0, 0, -3, -3, 2, 3, 0, 3, -2, -4, 2, -3, -3, 2, 3, -1, -4, 3, 4, 5, 0, -1, -2, -4, -3], [-1, -2, -3, -3, -3, 0, -7, 6, 0, 5, 3, -1, 0, 0, -6, 0, -4, -5, 1, 2, -3, 4, 5, 0, -1, -4, 4, 4, 6, 2, -3, -1, 0, 0, 5, 0, 3, 0, -5, 0], [3, -8, -2, 3, 3, -1, -4, -1, -3, 0, 0, -1, 0, -4, -1, -1, 3, 0, 0, 0, -1, -2, 0, -3, -6, -1, -2, -2, 0, 2, 0, 1, -2, 2, 5, 3, -2, 0, -4, -3], [4, -1, -5, 2, 2, -1, 3, -2, 0, 0, 5, -7, 2, -1, -6, 1, 0, 0, -1, -3, 1, -3, 2, -3, -1, 3, -3, 4, 0, 1, -1, -2, -3, -1, 4, 3, 1, 2, -1, 0], [3, -1, 0, -2, 1, -2, -1, 0, -4, -1, 5, -5, -3, 0, 0, 0, -1, -4, -2, 1, 2, 1, 1, 3, 0, 1, -2, 2, 0, 1, -4, -4, 3, -2, -1, -3, -1, -2, 4, 2], [-1, -1, 3, -1, 3, 3, -3, 0, -4, -1, -3, -4, -3, 2, 1, 3, 3, 1, -4, -1, 2, -3, -1, -1, -2, 3, 0, -1, 2, 0, -1, 1, 1, 4, -1, -4, 0, -1, -1, -1], [5, -4, 0, -3, 3, -3, 2, 0, 1, 0, 0, -3, 0, -1, -1, 3, 3, 3, -3, -2, 1, 3, 0, 0, 0, 3, 3, 0, 3, -3, -1, -2, -2, 4, -3, -1, -4, 0, 0, -1], [0, -4, 2, 1, 0, -3, -2, 0, -2, -2, -1, -4, -1, -3, 1, 2, 3, -2, -1, -3, -2, 0, -1, -2, 4, 0, 4, -2, -2, 3, 0, 0, 0, 4, 0, 0, 1, 0, 4, 0], [-2, -3, 0, 2, -2, 1, -1, -5, -1, -1, 3, -5, -3, 0, -2, 1, 1, 2, 2, 0, -2, -2, 2, 3, 2, -2, 0, -2, 4, 2, 0, 0, -1, 1, -2, -1, 2, -3, -3, 4], [-2, 1, 3, -2, -1, 1, 0, -3, -1, 1, 2, 0, -4, -1, -2, -3, 0, 3, 3, 1, -4, 0, -3, 1, 4, 3, -1, 1, 2, 2, 2, 1, 0, 0, -1, -2, -1, 2, 4, -1], [1, -2, 4, 2, 2, 0, -3, 1, 1, 3, -3, 3, -3, -1, 0, -4, -1, 0, 3, 3, -2, 4, -1, 1, 0, 0, 1, -1, 2, 3, 0, -1, 3, 2, 2, 2, 0, -2, 3, 3], [0, -4, -1, -2, 1, 4, 0, 1, -1, -1, -3, -3, -2, 3, -1, 1, 4, 1, 0, 2, -3, 4, -3, -2, -1, -1, 4, 0, 0, -1, 0, -1, 2, 1, -3, -3, -2, -3, 0, -1], [1, -5, -1, 0, -3, 2, -2, 3, -1, 0, 0, -1, 4, 3, 2, 3, -4, -2, 2, -2, -1, 3, 0, 0, 0, -2, 0, 3, 0, 0, 0, -4, -2, -2, 1, -3, -3, 4, -3, -2], [0, -5, -3, 0, -3, 0, 1, -4, 3, -3, -3, 3, -1, 2, -2, 0, 2, -2, 3, -2, 2, 4, 3, 0, 2, 1, 2, 1, 0, 3, -3, 2, -4, 0, 3, -4, -2, 1, -4, 2], [0, 0, 1, 2, 3, 1, -1, 0, 1, -2, 0, -4, -1, 1, 0, 2, 2, 2, 2, -4, 1, 0, -1, -2, -3, -2, -2, -3, 0, 3, 2, 0, 1, -2, -2, -1, -3, 3, 1, 3], [1, -2, 4, 2, 0, 1, -2, 2, -2, 1, 4, -3, 2, 3, 3, 0, 1, 3, 2, 3, -1, 2, -3, 0, -4, 0, 0, -2, -3, 1, 0, -1, -3, 0, -1, -5, -3, 4, 1, 0], [-1, 0, 3, 1, -3, -2, 1, 3, 3, 2, 0, -2, 2, 3, -3, -4, 2, 3, -2, -3, 4, 4, -3, 0, -3, -2, 2, 2, 0, -2, -4, 1, -3, 1, 4, 2, 0, 0, 2, 1], [-2, -5, 0, -2, 0, 3, -4, -4, -2, 4, -1, 1, -1, 4, 3, -2, 4, 3, -4, -2, 2, 0, 1, -3, 4, -4, -1, 2, 3, 0, 2, -2, 2, -1, 0, 1, -2, 0, 2, 4], [4, -4, -1, 2, 2, -2, 0, 1, 2, 3, 2, -3, 2, 0, 2, 1, -2, -3, 0, -3, -2, 1, 3, -1, 2, -2, 3, -3, 0, 0, 2, -4, 1, 4, 0, -5, -2, -1, 2, -4], [2, -3, -1, 2, 4, -1, -3, 1, 2, 2, 3, 3, -2, -2, -3, 2, -2, 4, -4, -3, 0, 3, -3, 2, -3, -2, -2, 1, -4, 0, -2, -4, 0, 3, -3, -2, 4, -4, 1, 4], [5, -1, 0, -4, 0, -2, 3, 0, -3, 1, 3, 1, 3, 4, 0, 0, 0, 0, 2, 2, -3, -1, -2, 1, 4, 4, 0, -1, 2, -3, -4, 3, 0, -1, -3, -4, 3, 0, 0, 0], [1, 0, 0, -1, -3, -2, 0, 0, -2, 2, 0, 1, -2, -3, -1, -1, 2, -2, 0, 2, 4, -1, -1, 1, 3, 0, -4, 0, 4, 2, 1, -1, 3, 0, 2, 3, -2, 3, 1, 0], [1, -4, 2, 1, 0, -2, 3, 0, 2, 0, -2, -4, 2, 2, 1, -1, -1, -4, 0, 0, 2, 0, 2, -1, -3, 0, 0, 3, -3, -4, -2, -4, 1, -2, -2, -4, 1, 2, -2, 3], [4, -3, 1, -1, -1, 0, 2, 3, 2, 0, 0, -3, -2, 2, 0, -1, 3, -3, 3, 0, 0, 0, -4, -1, 1, -1, 0, -4, -3, 1, 1, 2, 4, 0, 3, 0, -2, 1, 0, -1], [6, 1, 0, -2, 1, 0, 3, -3, 0, 1, 4, 0, -2, 0, 0, 0, -1, -4, 0, 4, -3, 2, 3, 4, 4, -1, -3, 0, 1, 0, 1, -2, -3, 2, -1, 3, -1, -1, 4, 1], [3, -6, -3, -2, 1, 0, -5, -1, 0, -2, -3, 0, 3, 3, 3, -4, 1, -3, -2, -2, 1, 0, 0, 3, 0, 1, 4, 0, 0, -1, 0, 3, -4, -2, -1, 0, 1, 1, -3, 2], [0, -4, 2, 1, -2, 0, 0, -4, 0, 0, -4, -5, 2, 5, 0, -5, 1, 2, 0, 0, 1, 2, 1, 0, -3, 2, 3, 0, -2, -1, -1, -2, 1, 0, -1, 4, 4, 2, -1, -4], [4, 0, 3, 4, 0, -4, 2, 0, 1, -1, 0, -3, -1, -3, -6, 0, 3, -5, 2, 3, -1, 4, 1, -3, 2, -4, 4, 3, 0, 1, -3, -3, 0, 1, -1, -3, -4, 0, -2, -4], [7, -8, -2, 1, 1, 1, 1, 0, 0, 0, 0, -2, 3, -1, -2, -5, -1, 0, -2, -3, -2, 0, -3, 3, 3, 1, 2, 4, -3, -1, 2, -2, -3, 3, 5, -3, 0, 0, -1, 0], [1, -1, 0, 0, 1, -1, 0, 2, 2, 3, 3, -1, 0, 0, 1, 1, 2, 2, 1, -2, 2, 1, -1, 4, 1, 0, 2, 0, -3, -2, 2, -1, 0, 1, 7, -3, -4, 1, 2, -1], [-1, -5, 1, 2, -4, -4, 0, 1, 4, 4, 0, -6, 0, 2, 0, -3, -2, 4, -4, 4, -1, -4, 1, 0, -2, -4, 1, 4, 1, 0, 3, -4, 0, 0, 8, -2, -3, 3, -4, 0], [5, -3, 3, -1, -1, 3, -2, -2, 0, -2, -2, -3, 2, 3, 2, -1, -2, -2, -2, 2, 2, -3, 2, 3, -1, -3, 4, -3, -1, 0, -2, -2, 2, 0, 5, -3, 0, 0, -1, 0], [-2, -5, 3, 2, 0, 0, 0, -2, 0, 1, -2, -2, 1, 2, 0, 1, -1, 1, 3, 0, -4, -2, -4, 3, 3, 4, 0, 4, 0, 3, 0, -4, -2, 2, 3, 3, -2, -2, 3, -1], [0, -6, 2, -3, 4, 0, 0, 0, 0, 1, 0, -4, 0, 0, -3, 3, 0, 2, 3, 2, 0, -3, 2, -2, 2, 3, 3, -2, 0, 0, -1, -1, 2, -1, 3, 1, 0, -4, -3, 1], [3, -3, -1, 0, 2, 0, -2, 0, -2, -3, -3, 0, 4, 3, -1, -3, 0, 0, -3, -4, -4, 3, -2, 4, -2, 2, 1, 0, 0, 1, 0, 0, -2, 3, -4, -2, 0, -1, 1, -1], [4, -2, -2, -2, 0, 0, 1, 0, -3, 2, -1, -3, 1, 1, -1, 1, -3, 0, -3, -1, 0, -3, 2, 0, 0, 4, -2, 0, 4, 0, 3, -2, 3, -2, 2, -1, -1, 0, 2, -2], [0, 1, 2, -4, 0, -3, -1, -1, -1, 3, 2, 0, -1, -1, 4, -3, 4, 3, -3, 3, 0, -2, -2, -2, 4, 3, 4, 1, 4, -3, -1, -3, -3, 1, -1, -4, -1, -1, 4, -2], [3, -3, 3, -1, -1, 0, 2, 0, -2, 3, 3, -2, 4, -2, -4, -3, 3, 3, 2, 0, 2, 4, -2, 1, 0, -4, 0, 0, 0, 0, -4, 0, 3, 4, -1, 0, 0, 3, 1, -3], [4, 0, 3, -2, 1, 0, -3, -3, -2, -1, -3, -1, 4, -3, -4, -3, 4, 4, -1, 0, -2, 4, 3, 1, 0, 0, 0, 1, 3, -2, 4, -2, 2, 0, -4, -1, -2, 0, 0, 2], [1, -6, 2, -4, 0, -3, -3, 3, 2, 2, 2, 2, -3, -2, 3, 0, 0, 0, 0, -2, 2, -1, 3, -3, 1, 2, 0, -1, 4, 0, -4, 0, 1, 3, 3, 0, -1, 0, -2, 2], [0, -3, 4, -4, 0, -3, -2, 2, -3, -1, 1, -2, 4, 3, -2, 0, 0, -1, 4, -1, -4, -2, -3, 1, -3, -1, -1, -3, -3, 2, -1, -1, -3, 3, 0, 1, -2, -1, 1, -3], [3, -4, -1, 3, -1, -2, 2, -3, -2, 0, -2, 0, 4, 3, 4, 1, -4, 0, -4, 0, 3, 3, -4, 1, 2, 4, -2, 0, -2, -1, -2, -1, 0, -2, -2, -2, -3, 3, 4, 4], [1, -2, -4, 1, 3, -2, -4, 0, -2, 0, 0, 2, 0, 1, 3, 1, 4, -3, 2, 2, -4, 2, 0, 3, 2, 0, -3, 0, -2, -2, -4, 0, 1, 4, 1, -4, -3, -2, 3, 0], [0, -5, -1, 0, -3, 2, 0, 1, 0, -2, -1, 3, 2, -1, -2, 1, 0, 0, 4, -2, -3, -1, -1, -4, 2, -2, 4, -2, 4, -2, -1, 0, 0, -3, -3, -3, 0, -2, -3, 2], [5, -2, -2, -3, -1, 0, 0, -1, 3, 1, -1, -3, 4, 0, -1, 3, 1, 2, 1, -3, -2, 1, 2, 1, 2, 1, 3, -1, 2, 1, -1, -3, -1, 0, 0, 0, 3, -2, 0, 0], [-1, -2, -3, 1, 1, -1, -3, 2, 1, 0, -3, -5, -3, 3, -2, -4, 0, 0, -3, 0, 3, 3, 1, 4, 4, 1, 4, 3, 1, 1, 2, 0, 2, 1, -1, -2, 0, 4, 2, 2], [4, 1, -2, 3, -1, -2, 1, 1, -2, 1, -1, -2, -1, -1, -3, 0, 3, -2, -2, -2, -2, -3, 2, 0, 0, -4, 1, 2, 3, 0, 3, 2, -3, 4, -3, -1, -3, -1, -1, 2], [-1, -1, 2, 1, -2, 0, -2, 2, 0, -1, -3, 1, 1, -3, -3, -1, -3, -1, 0, -2, 0, 0, -1, 4, 0, -1, -1, 0, 0, 0, 0, 3, -3, 2, 3, -3, 3, -1, -2, 1], [1, 0, 1, -2, 4, 3, -4, 0, 3, -1, -3, -3, -3, 3, -3, 3, 1, -2, -3, 3, 3, 4, 1, -3, 4, -2, -4, 0, 0, -3, -2, -4, 4, -3, -3, 0, 3, 3, 2, 3], [4, 1, 0, -2, 4, 2, -1, -4, -2, -2, -1, -3, -2, 0, -2, 0, -1, 0, 3, -1, -2, 0, -1, 0, -2, 2, 3, 4, 0, 2, -1, 1, -4, 1, -3, -4, 0, 0, 0, -3], [3, 0, -2, 2, 3, 4, 2, 0, 0, -1, 0, -3, 4, -3, 0, -3, -2, 1, 3, 2, 3, 4, 3, -1, 2, -3, 0, -3, -2, -1, 0, 0, 2, 3, 1, 2, -1, -3, 3, 0], [4, 1, 0, 0, 3, 0, 0, 1, 0, 4, -3, -4, 1, -3, 0, -4, 4, 3, 2, -3, -2, -1, 0, 0, -3, -3, 0, 1, -1, 3, -2, 2, 0, -1, 1, -2, 3, -1, 0, 4], [3, -6, -4, 2, -2, -3, -3, 0, -1, 3, 0, -2, -1, 3, 0, -1, -1, 1, -4, 0, 1, -1, -3, -3, 0, -2, -2, 0, 0, 0, -2, -2, -3, -1, 4, 3, -2, 0, 4, 4], [-1, -4, 2, 4, 3, -1, -3, 2, 1, 1, 1, -1, 4, -3, 2, 0, -2, 2, 3, 1, 0, -3, -3, -1, -3, -1, -1, -2, -1, 0, 0, 3, 0, 3, 0, 2, -2, 3, 0, 0], [0, 0, 1, 2, 2, -4, 2, 0, 0, -1, 2, 0, 0, 1, 3, -5, 4, 0, 3, -3, 2, 0, -2, 0, -3, 0, -2, 4, 4, 4, 1, -1, 3, 0, 4, -4, 3, 0, -4, 0], [1, -6, 4, 2, 4, -4, 0, 2, -2, 2, -6, -5, 0, 2, 0, 2, 3, -1, 0, 0, 0, -2, 0, -1, -2, 0, 2, 4, 4, -4, -1, -1, 1, -2, 4, -4, 0, 3, -3, 0], [5, -3, 4, 3, -4, 0, 2, -3, -4, -1, 4, -1, -1, -3, 3, -1, 0, 4, 1, -2, 0, 2, 0, 2, 0, 0, 4, -2, 0, -2, 1, 2, 3, -1, 5, 0, 0, 0, -2, 1], [-1, -2, 1, 1, 0, -3, -3, -3, -3, -3, 0, 1, 1, 0, 2, -2, 0, 1, -1, 0, 3, 2, 0, -3, 0, 2, 2, -2, 2, -1, 2, 2, 3, -2, -2, -1, -4, 0, 0, -3], [5, -2, 4, 1, 1, -1, -3, 0, -1, -3, 0, -3, 1, 1, -3, 2, 2, -1, -3, -3, -1, -1, -2, 2, -3, -2, -3, 1, 2, 1, -3, 2, 0, 4, 2, 1, 0, 2, 1, 1], [0, -3, 3, 3, -4, -4, 0, 2, 2, -3, -3, 0, -2, -2, -3, 0, -1, -2, 0, -2, -3, -3, -2, -1, 4, -3, -4, -1, 0, 0, 4, -2, 0, -1, -3, -2, -1, 1, 0, -2], [4, 1, 0, 2, 1, 4, -3, -1, 3, 0, 4, -3, -4, -3, 4, 0, -2, 0, 0, 0, 1, 3, 1, 0, -3, 4, 3, 0, -1, -4, 0, -3, 3, -1, -2, 0, -2, 0, 0, 2], [1, 2, 4, -1, 4, 1, -1, 3, 2, -2, -2, 0, -2, -2, 0, -3, 0, 3, 3, -3, 3, -3, 3, -1, -2, 2, 3, 4, 1, -2, -3, 3, 1, 0, -1, 0, 0, -2, 2, 2], [0, -3, -4, 2, 1, 2, 0, 1, 1, -2, -1, 1, 2, 0, -4, -3, -2, 3, -1, -3, 0, -3, 0, 1, -3, 1, -3, -3, -1, -3, 0, 2, -1, -1, 0, -4, 2, -3, 0, 0], [-2, 0, -2, 0, 0, 3, 3, -1, -1, 0, -3, 1, 0, -3, 4, -3, 2, 0, 3, 2, 0, 0, -3, -2, 3, -3, -2, -1, -3, 2, 3, 1, 1, 2, 3, 1, 3, 1, 3, 1], [-1, -1, -2, 3, -2, 0, -4, -1, -3, 2, -1, 0, -2, 1, 3, 1, -2, 0, 1, 2, -2, -2, 3, 0, 1, 2, 3, 1, 3, 4, -1, -4, -4, 2, -3, 2, 0, 0, -2, -3], [5, -2, 3, -1, 0, 1, 0, 0, 0, 0, 0, 0, 0, 1, 0, 2, -1, -1, -3, -2, -3, 2, -4, 1, 0, 4, 3, -2, 0, 3, 1, 0, 0, 0, -2, -5, 0, 1, 1, -2], [5, -4, -1, 1, 1, 0, -4, 1, -1, 3, 4, -4, 3, 0, 0, 0, 0, 0, -3, 4, -2, 3, -3, 3, 0, 0, -2, -3, 0, -1, 2, -4, -2, -1, 4, 1, -4, 0, 1, -3], [4, -2, -2, -4, 0, 1, -4, 0, 3, 3, -3, 3, -3, -1, 0, -1, 0, -3, 1, 1, -1, -3, -2, 0, 0, 4, 0, -3, 3, 4, -1, 0, 3, 4, 0, 3, -1, 2, 0, -3], [0, -3, -1, -3, 3, 4, -2, 0, 4, 2, 3, 3, 0, -3, 1, -3, -1, 3, 3, 0, 3, 0, 1, 0, 1, 4, -4, 0, -2, 1, -4, -1, 2, -1, 0, 3, -3, -3, 1, 0], [2, -3, 0, 1, 0, 1, 3, 3, 0, 2, 0, -1, 0, 2, 2, -3, -1, -3, 0, -4, -2, 4, -4, 4, 4, -2, 0, 2, -1, -1, 1, -3, -1, -2, 0, 2, -1, 0, 1, 2], [2, 1, 1, 1, -3, 0, -3, 1, 0, 2, 3, 1, -2, -2, -4, 0, 3, -3, 0, -3, -3, -3, -2, 4, 4, -3, -2, -1, -3, 0, -3, 3, 3, 0, 3, 2, -3, 0, -3, 3], [-3, 3, -9, 0, 4, 4, 4, -8, 3, -1, -9, 10, 4, -3, 12, 0, 0, 7, 1, 2, -3, -1, 1, 9, 5, 0, 4, 6, -1, -4, 0, 0, 1, 0, -5, -6, -1, -2, -3, 20]]\n",
      "[[1, 3, 0, 13], [7, 1, -3, 13], [-13, 5, -2, 5], [10, 11, 0, 0], [-6, -2, 7, 5], [10, -11, 1, 2], [8, -1, 3, -10], [-5, 5, -5, 10], [-9, 0, -9, -3], [0, -3, 10, -3], [-9, 8, -4, -10], [13, 4, 6, 10], [5, -5, -12, 3], [12, 11, -2, 0], [11, -2, -4, -9], [1, -8, -7, -12], [0, -2, 12, -2], [1, 7, -1, -10], [-11, 3, 0, -11], [-1, 3, -1, 2], [-4, 6, 0, 0], [-2, -4, -8, 10], [8, 2, -14, -1], [-10, -3, -6, 7], [-3, -2, 13, -1], [4, 0, -4, -2], [-4, -5, -11, 9], [2, 9, 8, -7], [-11, 0, 6, -8], [1, 0, -12, -4], [4, 0, -13, -4], [-9, 5, 9, -7], [7, 10, 1, -7], [0, 3, -9, 6], [-11, 6, 1, -11], [-9, -2, 1, 10], [1, 4, 10, -3], [-1, 3, -7, -1], [-8, -5, 10, 0], [1, -4, 11, 8]]\n"
     ]
    }
   ],
   "source": [
    "print(proj)\n",
    "print(diag)"
   ]
  },
  {
   "cell_type": "markdown",
   "metadata": {},
   "source": [
    "## Collateral efficiency\n",
    "Let's also test the impact of weight conversion and compression the the CNN model against which resistance had been built. You can observe that there is no visible impact."
   ]
  },
  {
   "cell_type": "code",
   "execution_count": 114,
   "metadata": {},
   "outputs": [],
   "source": [
    "import torch.optim as optim"
   ]
  },
  {
   "cell_type": "code",
   "execution_count": 132,
   "metadata": {},
   "outputs": [],
   "source": [
    "class Parser:\n",
    "    \"\"\"Parameters for the training\"\"\"\n",
    "    def __init__(self):\n",
    "        self.epochs = 10\n",
    "        self.sabotage_epochs = 50\n",
    "        self.new_adversary_epochs = 50\n",
    "        self.lr = 0.002001\n",
    "        self.momentum = 0.5\n",
    "        self.test_batch_size = 1000\n",
    "        self.batch_size = 64\n",
    "        self.log_interval = 100"
   ]
  },
  {
   "cell_type": "code",
   "execution_count": 143,
   "metadata": {},
   "outputs": [],
   "source": [
    "def test_collateral(prec, rm_outlier_frac):\n",
    "    model = CollateralNet(private_output_size=PRIVATE_OUTPUT_SIZE)\n",
    "    model.load_state_dict(torch.load(path))\n",
    "    model.eval()\n",
    "\n",
    "    data_prec, proj_prec, diag_prec = prec \n",
    "        \n",
    "    # Convert the model\n",
    "    model.proj1.weight = nn.Parameter(\n",
    "        fix_precision(model.proj1.weight, proj_prec, rm_outlier_frac).float() / 2**proj_prec\n",
    "        , requires_grad=False)\n",
    "    model.proj1.bias = nn.Parameter(\n",
    "        fix_precision(model.proj1.bias, proj_prec + data_prec, rm_outlier_frac).float() / 2**(proj_prec + data_prec)\n",
    "        , requires_grad=False)\n",
    "    model.diag1.weight = nn.Parameter(\n",
    "        fix_precision(model.diag1.weight, diag_prec, rm_outlier_frac).float() / 2**diag_prec\n",
    "        , requires_grad=False)\n",
    "        \n",
    "    \n",
    "    args = Parser()\n",
    "    alpha = 1.7\n",
    "    \n",
    "    train_dataset, test_dataset = collateral.data.get_collateral_datasets(*fonts, letter)\n",
    "\n",
    "    optimizer = optim.SGD(model.parameters(), lr=args.lr, momentum=args.momentum)\n",
    "    \n",
    "    train_dataset_prec = torch.utils.data.TensorDataset(\n",
    "        fix_precision(train_dataset.tensors[0], data_prec, parameter=False).float() / 2**data_prec,\n",
    "        train_dataset.tensors[1]\n",
    "    )\n",
    "    train_loader_prec = torch.utils.data.DataLoader(train_dataset_prec, batch_size=args.batch_size)\n",
    "    \n",
    "    test_dataset_prec = torch.utils.data.TensorDataset(\n",
    "        fix_precision(test_dataset.tensors[0], data_prec, parameter=False).float() / 2**data_prec,\n",
    "        test_dataset.tensors[1]\n",
    "    )\n",
    "    test_loader_prec = torch.utils.data.DataLoader(test_dataset_prec, batch_size=args.test_batch_size)\n",
    "    \n",
    "    test_perfs_char = []\n",
    "    test_perfs_font = []\n",
    "    for epoch in range(1, args.new_adversary_epochs + 1):\n",
    "        \n",
    "        initial_phase = False\n",
    "        perturbate = False\n",
    "        recover = True\n",
    "        new_adversary = False\n",
    "        \n",
    "        collateral.train(\n",
    "            args, model, train_loader_prec, optimizer, epoch, alpha,\n",
    "            initial_phase, perturbate, recover, new_adversary\n",
    "        )\n",
    "        test_perf_char, test_perf_font = collateral.test(args, model, test_loader_prec, new_adversary)\n",
    "        test_perfs_char.append(test_perf_char)\n",
    "        test_perfs_font.append(test_perf_font)\n",
    "\n",
    "    return test_perfs_char, test_perfs_font\n",
    "    "
   ]
  },
  {
   "cell_type": "code",
   "execution_count": 144,
   "metadata": {},
   "outputs": [
    {
     "name": "stdout",
     "output_type": "stream",
     "text": [
      "Training set 60000 items\n",
      "Testing set  10000 items\n",
      "Train Epoch: 1 [0/60000 (0%)]\tLoss Char: 0.000000 Loss Font: 0.696381\n",
      "Train Epoch: 1 [6400/60000 (11%)]\tLoss Char: 0.000000 Loss Font: 0.688837\n",
      "Train Epoch: 1 [12800/60000 (21%)]\tLoss Char: 0.000000 Loss Font: 0.694149\n",
      "Train Epoch: 1 [19200/60000 (32%)]\tLoss Char: 0.000000 Loss Font: 0.695527\n",
      "Train Epoch: 1 [25600/60000 (43%)]\tLoss Char: 0.000000 Loss Font: 0.681827\n",
      "Train Epoch: 1 [32000/60000 (53%)]\tLoss Char: 0.000000 Loss Font: 0.700897\n",
      "Train Epoch: 1 [38400/60000 (64%)]\tLoss Char: 0.000000 Loss Font: 0.693258\n",
      "Train Epoch: 1 [44800/60000 (75%)]\tLoss Char: 0.000000 Loss Font: 0.691493\n",
      "Train Epoch: 1 [51200/60000 (85%)]\tLoss Char: 0.000000 Loss Font: 0.688664\n",
      "Train Epoch: 1 [57600/60000 (96%)]\tLoss Char: 0.000000 Loss Font: 0.689833\n",
      "\n",
      "Test set: Accuracy Char : 9988/10000 (99.88%)\n",
      "          Accuracy Font : 5274/10000 (52.74%)\n",
      "Train Epoch: 2 [0/60000 (0%)]\tLoss Char: 0.000000 Loss Font: 0.681593\n",
      "Train Epoch: 2 [6400/60000 (11%)]\tLoss Char: 0.000000 Loss Font: 0.687208\n",
      "Train Epoch: 2 [12800/60000 (21%)]\tLoss Char: 0.000000 Loss Font: 0.692635\n",
      "Train Epoch: 2 [19200/60000 (32%)]\tLoss Char: 0.000000 Loss Font: 0.691360\n",
      "Train Epoch: 2 [25600/60000 (43%)]\tLoss Char: 0.000000 Loss Font: 0.674954\n",
      "Train Epoch: 2 [32000/60000 (53%)]\tLoss Char: 0.000000 Loss Font: 0.705193\n",
      "Train Epoch: 2 [38400/60000 (64%)]\tLoss Char: 0.000000 Loss Font: 0.695406\n",
      "Train Epoch: 2 [44800/60000 (75%)]\tLoss Char: 0.000000 Loss Font: 0.687477\n",
      "Train Epoch: 2 [51200/60000 (85%)]\tLoss Char: 0.000000 Loss Font: 0.686623\n",
      "Train Epoch: 2 [57600/60000 (96%)]\tLoss Char: 0.000000 Loss Font: 0.687451\n",
      "\n",
      "Test set: Accuracy Char : 9992/10000 (99.92%)\n",
      "          Accuracy Font : 5329/10000 (53.29%)\n",
      "Train Epoch: 3 [0/60000 (0%)]\tLoss Char: 0.000000 Loss Font: 0.678783\n",
      "Train Epoch: 3 [6400/60000 (11%)]\tLoss Char: 0.000000 Loss Font: 0.686926\n",
      "Train Epoch: 3 [12800/60000 (21%)]\tLoss Char: 0.000000 Loss Font: 0.691507\n",
      "Train Epoch: 3 [19200/60000 (32%)]\tLoss Char: 0.000000 Loss Font: 0.690836\n",
      "Train Epoch: 3 [25600/60000 (43%)]\tLoss Char: 0.000000 Loss Font: 0.672577\n",
      "Train Epoch: 3 [32000/60000 (53%)]\tLoss Char: 0.000000 Loss Font: 0.702231\n",
      "Train Epoch: 3 [38400/60000 (64%)]\tLoss Char: 0.000000 Loss Font: 0.695539\n",
      "Train Epoch: 3 [44800/60000 (75%)]\tLoss Char: 0.000000 Loss Font: 0.686318\n",
      "Train Epoch: 3 [51200/60000 (85%)]\tLoss Char: 0.000000 Loss Font: 0.684264\n",
      "Train Epoch: 3 [57600/60000 (96%)]\tLoss Char: 0.000000 Loss Font: 0.687680\n",
      "\n",
      "Test set: Accuracy Char : 9995/10000 (99.95%)\n",
      "          Accuracy Font : 5342/10000 (53.42%)\n",
      "Train Epoch: 4 [0/60000 (0%)]\tLoss Char: 0.000000 Loss Font: 0.676559\n",
      "Train Epoch: 4 [6400/60000 (11%)]\tLoss Char: 0.000000 Loss Font: 0.686564\n",
      "Train Epoch: 4 [12800/60000 (21%)]\tLoss Char: 0.000000 Loss Font: 0.692136\n",
      "Train Epoch: 4 [19200/60000 (32%)]\tLoss Char: 0.000000 Loss Font: 0.691221\n",
      "Train Epoch: 4 [25600/60000 (43%)]\tLoss Char: 0.000000 Loss Font: 0.670019\n",
      "Train Epoch: 4 [32000/60000 (53%)]\tLoss Char: 0.000000 Loss Font: 0.697782\n",
      "Train Epoch: 4 [38400/60000 (64%)]\tLoss Char: 0.000000 Loss Font: 0.696065\n",
      "Train Epoch: 4 [44800/60000 (75%)]\tLoss Char: 0.000000 Loss Font: 0.684860\n",
      "Train Epoch: 4 [51200/60000 (85%)]\tLoss Char: 0.000000 Loss Font: 0.681431\n",
      "Train Epoch: 4 [57600/60000 (96%)]\tLoss Char: 0.000000 Loss Font: 0.687990\n",
      "\n",
      "Test set: Accuracy Char : 9995/10000 (99.95%)\n",
      "          Accuracy Font : 5373/10000 (53.73%)\n",
      "Train Epoch: 5 [0/60000 (0%)]\tLoss Char: 0.000000 Loss Font: 0.677375\n",
      "Train Epoch: 5 [6400/60000 (11%)]\tLoss Char: 0.000000 Loss Font: 0.685357\n",
      "Train Epoch: 5 [12800/60000 (21%)]\tLoss Char: 0.000000 Loss Font: 0.692363\n",
      "Train Epoch: 5 [19200/60000 (32%)]\tLoss Char: 0.000000 Loss Font: 0.691760\n",
      "Train Epoch: 5 [25600/60000 (43%)]\tLoss Char: 0.000000 Loss Font: 0.668645\n",
      "Train Epoch: 5 [32000/60000 (53%)]\tLoss Char: 0.000000 Loss Font: 0.692814\n",
      "Train Epoch: 5 [38400/60000 (64%)]\tLoss Char: 0.000000 Loss Font: 0.694649\n",
      "Train Epoch: 5 [44800/60000 (75%)]\tLoss Char: 0.000000 Loss Font: 0.683270\n",
      "Train Epoch: 5 [51200/60000 (85%)]\tLoss Char: 0.000000 Loss Font: 0.678096\n",
      "Train Epoch: 5 [57600/60000 (96%)]\tLoss Char: 0.000000 Loss Font: 0.688363\n",
      "\n",
      "Test set: Accuracy Char : 9998/10000 (99.98%)\n",
      "          Accuracy Font : 5388/10000 (53.88%)\n",
      "Train Epoch: 6 [0/60000 (0%)]\tLoss Char: 0.000000 Loss Font: 0.677777\n",
      "Train Epoch: 6 [6400/60000 (11%)]\tLoss Char: 0.000000 Loss Font: 0.683712\n",
      "Train Epoch: 6 [12800/60000 (21%)]\tLoss Char: 0.000000 Loss Font: 0.691483\n",
      "Train Epoch: 6 [19200/60000 (32%)]\tLoss Char: 0.000000 Loss Font: 0.691395\n",
      "Train Epoch: 6 [25600/60000 (43%)]\tLoss Char: 0.000000 Loss Font: 0.665864\n",
      "Train Epoch: 6 [32000/60000 (53%)]\tLoss Char: 0.000000 Loss Font: 0.686350\n",
      "Train Epoch: 6 [38400/60000 (64%)]\tLoss Char: 0.000000 Loss Font: 0.696227\n",
      "Train Epoch: 6 [44800/60000 (75%)]\tLoss Char: 0.000000 Loss Font: 0.681484\n",
      "Train Epoch: 6 [51200/60000 (85%)]\tLoss Char: 0.000000 Loss Font: 0.676317\n",
      "Train Epoch: 6 [57600/60000 (96%)]\tLoss Char: 0.000000 Loss Font: 0.687926\n",
      "\n",
      "Test set: Accuracy Char : 9999/10000 (99.99%)\n",
      "          Accuracy Font : 5391/10000 (53.91%)\n",
      "Train Epoch: 7 [0/60000 (0%)]\tLoss Char: 0.000000 Loss Font: 0.678085\n",
      "Train Epoch: 7 [6400/60000 (11%)]\tLoss Char: 0.000000 Loss Font: 0.683123\n",
      "Train Epoch: 7 [12800/60000 (21%)]\tLoss Char: 0.000000 Loss Font: 0.691943\n",
      "Train Epoch: 7 [19200/60000 (32%)]\tLoss Char: 0.000000 Loss Font: 0.691215\n",
      "Train Epoch: 7 [25600/60000 (43%)]\tLoss Char: 0.000000 Loss Font: 0.665455\n",
      "Train Epoch: 7 [32000/60000 (53%)]\tLoss Char: 0.000000 Loss Font: 0.680688\n",
      "Train Epoch: 7 [38400/60000 (64%)]\tLoss Char: 0.000000 Loss Font: 0.695750\n",
      "Train Epoch: 7 [44800/60000 (75%)]\tLoss Char: 0.000000 Loss Font: 0.679561\n",
      "Train Epoch: 7 [51200/60000 (85%)]\tLoss Char: 0.000000 Loss Font: 0.674507\n",
      "Train Epoch: 7 [57600/60000 (96%)]\tLoss Char: 0.000000 Loss Font: 0.688193\n",
      "\n",
      "Test set: Accuracy Char : 9999/10000 (99.99%)\n",
      "          Accuracy Font : 5418/10000 (54.18%)\n",
      "Train Epoch: 8 [0/60000 (0%)]\tLoss Char: 0.000000 Loss Font: 0.678321\n",
      "Train Epoch: 8 [6400/60000 (11%)]\tLoss Char: 0.000000 Loss Font: 0.682429\n",
      "Train Epoch: 8 [12800/60000 (21%)]\tLoss Char: 0.000000 Loss Font: 0.692453\n",
      "Train Epoch: 8 [19200/60000 (32%)]\tLoss Char: 0.000000 Loss Font: 0.692590\n",
      "Train Epoch: 8 [25600/60000 (43%)]\tLoss Char: 0.000000 Loss Font: 0.665972\n",
      "Train Epoch: 8 [32000/60000 (53%)]\tLoss Char: 0.000000 Loss Font: 0.676562\n",
      "Train Epoch: 8 [38400/60000 (64%)]\tLoss Char: 0.000000 Loss Font: 0.696270\n",
      "Train Epoch: 8 [44800/60000 (75%)]\tLoss Char: 0.000000 Loss Font: 0.679397\n",
      "Train Epoch: 8 [51200/60000 (85%)]\tLoss Char: 0.000000 Loss Font: 0.672536\n",
      "Train Epoch: 8 [57600/60000 (96%)]\tLoss Char: 0.000000 Loss Font: 0.688200\n",
      "\n",
      "Test set: Accuracy Char : 9999/10000 (99.99%)\n",
      "          Accuracy Font : 5371/10000 (53.71%)\n",
      "Train Epoch: 9 [0/60000 (0%)]\tLoss Char: 0.000000 Loss Font: 0.680262\n",
      "Train Epoch: 9 [6400/60000 (11%)]\tLoss Char: 0.000000 Loss Font: 0.681977\n",
      "Train Epoch: 9 [12800/60000 (21%)]\tLoss Char: 0.000000 Loss Font: 0.693345\n",
      "Train Epoch: 9 [19200/60000 (32%)]\tLoss Char: 0.000000 Loss Font: 0.692322\n",
      "Train Epoch: 9 [25600/60000 (43%)]\tLoss Char: 0.000000 Loss Font: 0.665488\n",
      "Train Epoch: 9 [32000/60000 (53%)]\tLoss Char: 0.000000 Loss Font: 0.672845\n",
      "Train Epoch: 9 [38400/60000 (64%)]\tLoss Char: 0.000000 Loss Font: 0.697394\n",
      "Train Epoch: 9 [44800/60000 (75%)]\tLoss Char: 0.000000 Loss Font: 0.680703\n",
      "Train Epoch: 9 [51200/60000 (85%)]\tLoss Char: 0.000000 Loss Font: 0.670975\n",
      "Train Epoch: 9 [57600/60000 (96%)]\tLoss Char: 0.000000 Loss Font: 0.687028\n",
      "\n",
      "Test set: Accuracy Char : 9999/10000 (99.99%)\n",
      "          Accuracy Font : 5388/10000 (53.88%)\n",
      "Train Epoch: 10 [0/60000 (0%)]\tLoss Char: 0.000000 Loss Font: 0.680408\n",
      "Train Epoch: 10 [6400/60000 (11%)]\tLoss Char: 0.000000 Loss Font: 0.680298\n",
      "Train Epoch: 10 [12800/60000 (21%)]\tLoss Char: 0.000000 Loss Font: 0.691186\n",
      "Train Epoch: 10 [19200/60000 (32%)]\tLoss Char: 0.000000 Loss Font: 0.692651\n",
      "Train Epoch: 10 [25600/60000 (43%)]\tLoss Char: 0.000000 Loss Font: 0.664470\n",
      "Train Epoch: 10 [32000/60000 (53%)]\tLoss Char: 0.000000 Loss Font: 0.670685\n",
      "Train Epoch: 10 [38400/60000 (64%)]\tLoss Char: 0.000000 Loss Font: 0.696616\n",
      "Train Epoch: 10 [44800/60000 (75%)]\tLoss Char: 0.000000 Loss Font: 0.681160\n",
      "Train Epoch: 10 [51200/60000 (85%)]\tLoss Char: 0.000000 Loss Font: 0.669814\n"
     ]
    },
    {
     "name": "stdout",
     "output_type": "stream",
     "text": [
      "Train Epoch: 10 [57600/60000 (96%)]\tLoss Char: 0.000000 Loss Font: 0.687288\n",
      "\n",
      "Test set: Accuracy Char : 9999/10000 (99.99%)\n",
      "          Accuracy Font : 5369/10000 (53.69%)\n",
      "Train Epoch: 11 [0/60000 (0%)]\tLoss Char: 0.000000 Loss Font: 0.683382\n",
      "Train Epoch: 11 [6400/60000 (11%)]\tLoss Char: 0.000000 Loss Font: 0.679464\n",
      "Train Epoch: 11 [12800/60000 (21%)]\tLoss Char: 0.000000 Loss Font: 0.691261\n",
      "Train Epoch: 11 [19200/60000 (32%)]\tLoss Char: 0.000000 Loss Font: 0.692540\n",
      "Train Epoch: 11 [25600/60000 (43%)]\tLoss Char: 0.000000 Loss Font: 0.663808\n",
      "Train Epoch: 11 [32000/60000 (53%)]\tLoss Char: 0.000000 Loss Font: 0.666749\n",
      "Train Epoch: 11 [38400/60000 (64%)]\tLoss Char: 0.000000 Loss Font: 0.696775\n",
      "Train Epoch: 11 [44800/60000 (75%)]\tLoss Char: 0.000000 Loss Font: 0.681743\n",
      "Train Epoch: 11 [51200/60000 (85%)]\tLoss Char: 0.000000 Loss Font: 0.668213\n",
      "Train Epoch: 11 [57600/60000 (96%)]\tLoss Char: 0.000000 Loss Font: 0.685006\n",
      "\n",
      "Test set: Accuracy Char : 9999/10000 (99.99%)\n",
      "          Accuracy Font : 5386/10000 (53.86%)\n",
      "Train Epoch: 12 [0/60000 (0%)]\tLoss Char: 0.000000 Loss Font: 0.684261\n",
      "Train Epoch: 12 [6400/60000 (11%)]\tLoss Char: 0.000000 Loss Font: 0.678899\n",
      "Train Epoch: 12 [12800/60000 (21%)]\tLoss Char: 0.000000 Loss Font: 0.691317\n",
      "Train Epoch: 12 [19200/60000 (32%)]\tLoss Char: 0.000000 Loss Font: 0.693394\n",
      "Train Epoch: 12 [25600/60000 (43%)]\tLoss Char: 0.000000 Loss Font: 0.664582\n",
      "Train Epoch: 12 [32000/60000 (53%)]\tLoss Char: 0.000000 Loss Font: 0.666079\n",
      "Train Epoch: 12 [38400/60000 (64%)]\tLoss Char: 0.000000 Loss Font: 0.699937\n",
      "Train Epoch: 12 [44800/60000 (75%)]\tLoss Char: 0.000000 Loss Font: 0.681862\n",
      "Train Epoch: 12 [51200/60000 (85%)]\tLoss Char: 0.000000 Loss Font: 0.665900\n",
      "Train Epoch: 12 [57600/60000 (96%)]\tLoss Char: 0.000000 Loss Font: 0.684980\n",
      "\n",
      "Test set: Accuracy Char : 10000/10000 (100.00%)\n",
      "          Accuracy Font : 5406/10000 (54.06%)\n",
      "Train Epoch: 13 [0/60000 (0%)]\tLoss Char: 0.000000 Loss Font: 0.684904\n",
      "Train Epoch: 13 [6400/60000 (11%)]\tLoss Char: 0.000000 Loss Font: 0.677682\n",
      "Train Epoch: 13 [12800/60000 (21%)]\tLoss Char: 0.000000 Loss Font: 0.691665\n",
      "Train Epoch: 13 [19200/60000 (32%)]\tLoss Char: 0.000000 Loss Font: 0.692236\n",
      "Train Epoch: 13 [25600/60000 (43%)]\tLoss Char: 0.000000 Loss Font: 0.664350\n",
      "Train Epoch: 13 [32000/60000 (53%)]\tLoss Char: 0.000000 Loss Font: 0.663160\n",
      "Train Epoch: 13 [38400/60000 (64%)]\tLoss Char: 0.000000 Loss Font: 0.699757\n",
      "Train Epoch: 13 [44800/60000 (75%)]\tLoss Char: 0.000000 Loss Font: 0.682027\n",
      "Train Epoch: 13 [51200/60000 (85%)]\tLoss Char: 0.000000 Loss Font: 0.666935\n",
      "Train Epoch: 13 [57600/60000 (96%)]\tLoss Char: 0.000000 Loss Font: 0.684874\n",
      "\n",
      "Test set: Accuracy Char : 10000/10000 (100.00%)\n",
      "          Accuracy Font : 5407/10000 (54.07%)\n",
      "Train Epoch: 14 [0/60000 (0%)]\tLoss Char: 0.000000 Loss Font: 0.684253\n",
      "Train Epoch: 14 [6400/60000 (11%)]\tLoss Char: 0.000000 Loss Font: 0.676415\n",
      "Train Epoch: 14 [12800/60000 (21%)]\tLoss Char: 0.000000 Loss Font: 0.691665\n",
      "Train Epoch: 14 [19200/60000 (32%)]\tLoss Char: 0.000000 Loss Font: 0.691105\n",
      "Train Epoch: 14 [25600/60000 (43%)]\tLoss Char: 0.000000 Loss Font: 0.664483\n",
      "Train Epoch: 14 [32000/60000 (53%)]\tLoss Char: 0.000000 Loss Font: 0.663911\n",
      "Train Epoch: 14 [38400/60000 (64%)]\tLoss Char: 0.000000 Loss Font: 0.697780\n",
      "Train Epoch: 14 [44800/60000 (75%)]\tLoss Char: 0.000000 Loss Font: 0.683348\n",
      "Train Epoch: 14 [51200/60000 (85%)]\tLoss Char: 0.000000 Loss Font: 0.666018\n",
      "Train Epoch: 14 [57600/60000 (96%)]\tLoss Char: 0.000000 Loss Font: 0.683535\n",
      "\n",
      "Test set: Accuracy Char : 10000/10000 (100.00%)\n",
      "          Accuracy Font : 5419/10000 (54.19%)\n",
      "Train Epoch: 15 [0/60000 (0%)]\tLoss Char: 0.000000 Loss Font: 0.686296\n",
      "Train Epoch: 15 [6400/60000 (11%)]\tLoss Char: 0.000000 Loss Font: 0.675384\n",
      "Train Epoch: 15 [12800/60000 (21%)]\tLoss Char: 0.000000 Loss Font: 0.692610\n",
      "Train Epoch: 15 [19200/60000 (32%)]\tLoss Char: 0.000000 Loss Font: 0.688101\n",
      "Train Epoch: 15 [25600/60000 (43%)]\tLoss Char: 0.000000 Loss Font: 0.663611\n",
      "Train Epoch: 15 [32000/60000 (53%)]\tLoss Char: 0.000000 Loss Font: 0.662550\n",
      "Train Epoch: 15 [38400/60000 (64%)]\tLoss Char: 0.000000 Loss Font: 0.698858\n",
      "Train Epoch: 15 [44800/60000 (75%)]\tLoss Char: 0.000000 Loss Font: 0.683026\n",
      "Train Epoch: 15 [51200/60000 (85%)]\tLoss Char: 0.000000 Loss Font: 0.664657\n",
      "Train Epoch: 15 [57600/60000 (96%)]\tLoss Char: 0.000000 Loss Font: 0.682869\n",
      "\n",
      "Test set: Accuracy Char : 10000/10000 (100.00%)\n",
      "          Accuracy Font : 5423/10000 (54.23%)\n",
      "Train Epoch: 16 [0/60000 (0%)]\tLoss Char: 0.000000 Loss Font: 0.689034\n",
      "Train Epoch: 16 [6400/60000 (11%)]\tLoss Char: 0.000000 Loss Font: 0.674443\n",
      "Train Epoch: 16 [12800/60000 (21%)]\tLoss Char: 0.000000 Loss Font: 0.688832\n",
      "Train Epoch: 16 [19200/60000 (32%)]\tLoss Char: 0.000000 Loss Font: 0.692155\n",
      "Train Epoch: 16 [25600/60000 (43%)]\tLoss Char: 0.000000 Loss Font: 0.663750\n",
      "Train Epoch: 16 [32000/60000 (53%)]\tLoss Char: 0.000000 Loss Font: 0.664181\n",
      "Train Epoch: 16 [38400/60000 (64%)]\tLoss Char: 0.000000 Loss Font: 0.698358\n",
      "Train Epoch: 16 [44800/60000 (75%)]\tLoss Char: 0.000000 Loss Font: 0.683820\n",
      "Train Epoch: 16 [51200/60000 (85%)]\tLoss Char: 0.000000 Loss Font: 0.663268\n",
      "Train Epoch: 16 [57600/60000 (96%)]\tLoss Char: 0.000000 Loss Font: 0.682880\n",
      "\n",
      "Test set: Accuracy Char : 10000/10000 (100.00%)\n",
      "          Accuracy Font : 5410/10000 (54.10%)\n",
      "Train Epoch: 17 [0/60000 (0%)]\tLoss Char: 0.000000 Loss Font: 0.691605\n",
      "Train Epoch: 17 [6400/60000 (11%)]\tLoss Char: 0.000000 Loss Font: 0.672657\n",
      "Train Epoch: 17 [12800/60000 (21%)]\tLoss Char: 0.000000 Loss Font: 0.688819\n",
      "Train Epoch: 17 [19200/60000 (32%)]\tLoss Char: 0.000000 Loss Font: 0.686678\n",
      "Train Epoch: 17 [25600/60000 (43%)]\tLoss Char: 0.000000 Loss Font: 0.664842\n",
      "Train Epoch: 17 [32000/60000 (53%)]\tLoss Char: 0.000000 Loss Font: 0.663528\n",
      "Train Epoch: 17 [38400/60000 (64%)]\tLoss Char: 0.000000 Loss Font: 0.695802\n",
      "Train Epoch: 17 [44800/60000 (75%)]\tLoss Char: 0.000000 Loss Font: 0.683674\n",
      "Train Epoch: 17 [51200/60000 (85%)]\tLoss Char: 0.000000 Loss Font: 0.664334\n",
      "Train Epoch: 17 [57600/60000 (96%)]\tLoss Char: 0.000000 Loss Font: 0.683041\n",
      "\n",
      "Test set: Accuracy Char : 10000/10000 (100.00%)\n",
      "          Accuracy Font : 5457/10000 (54.57%)\n",
      "Train Epoch: 18 [0/60000 (0%)]\tLoss Char: 0.000000 Loss Font: 0.688675\n",
      "Train Epoch: 18 [6400/60000 (11%)]\tLoss Char: 0.000000 Loss Font: 0.669871\n",
      "Train Epoch: 18 [12800/60000 (21%)]\tLoss Char: 0.000000 Loss Font: 0.687979\n",
      "Train Epoch: 18 [19200/60000 (32%)]\tLoss Char: 0.000000 Loss Font: 0.689797\n",
      "Train Epoch: 18 [25600/60000 (43%)]\tLoss Char: 0.000000 Loss Font: 0.661711\n",
      "Train Epoch: 18 [32000/60000 (53%)]\tLoss Char: 0.000000 Loss Font: 0.663981\n",
      "Train Epoch: 18 [38400/60000 (64%)]\tLoss Char: 0.000000 Loss Font: 0.700009\n",
      "Train Epoch: 18 [44800/60000 (75%)]\tLoss Char: 0.000000 Loss Font: 0.682487\n",
      "Train Epoch: 18 [51200/60000 (85%)]\tLoss Char: 0.000000 Loss Font: 0.663821\n",
      "Train Epoch: 18 [57600/60000 (96%)]\tLoss Char: 0.000000 Loss Font: 0.683154\n",
      "\n",
      "Test set: Accuracy Char : 10000/10000 (100.00%)\n",
      "          Accuracy Font : 5446/10000 (54.46%)\n",
      "Train Epoch: 19 [0/60000 (0%)]\tLoss Char: 0.000000 Loss Font: 0.687355\n",
      "Train Epoch: 19 [6400/60000 (11%)]\tLoss Char: 0.000000 Loss Font: 0.669563\n",
      "Train Epoch: 19 [12800/60000 (21%)]\tLoss Char: 0.000000 Loss Font: 0.688216\n",
      "Train Epoch: 19 [19200/60000 (32%)]\tLoss Char: 0.000000 Loss Font: 0.685210\n",
      "Train Epoch: 19 [25600/60000 (43%)]\tLoss Char: 0.000000 Loss Font: 0.665411\n",
      "Train Epoch: 19 [32000/60000 (53%)]\tLoss Char: 0.000000 Loss Font: 0.663749\n",
      "Train Epoch: 19 [38400/60000 (64%)]\tLoss Char: 0.000000 Loss Font: 0.700905\n",
      "Train Epoch: 19 [44800/60000 (75%)]\tLoss Char: 0.000000 Loss Font: 0.682693\n",
      "Train Epoch: 19 [51200/60000 (85%)]\tLoss Char: 0.000000 Loss Font: 0.663639\n",
      "Train Epoch: 19 [57600/60000 (96%)]\tLoss Char: 0.000000 Loss Font: 0.682816\n",
      "\n",
      "Test set: Accuracy Char : 10000/10000 (100.00%)\n",
      "          Accuracy Font : 5463/10000 (54.63%)\n",
      "Train Epoch: 20 [0/60000 (0%)]\tLoss Char: 0.000000 Loss Font: 0.688727\n",
      "Train Epoch: 20 [6400/60000 (11%)]\tLoss Char: 0.000000 Loss Font: 0.670392\n",
      "Train Epoch: 20 [12800/60000 (21%)]\tLoss Char: 0.000000 Loss Font: 0.685503\n",
      "Train Epoch: 20 [19200/60000 (32%)]\tLoss Char: 0.000000 Loss Font: 0.686835\n",
      "Train Epoch: 20 [25600/60000 (43%)]\tLoss Char: 0.000000 Loss Font: 0.668431\n",
      "Train Epoch: 20 [32000/60000 (53%)]\tLoss Char: 0.000000 Loss Font: 0.662481\n"
     ]
    },
    {
     "name": "stdout",
     "output_type": "stream",
     "text": [
      "Train Epoch: 20 [38400/60000 (64%)]\tLoss Char: 0.000000 Loss Font: 0.696285\n",
      "Train Epoch: 20 [44800/60000 (75%)]\tLoss Char: 0.000000 Loss Font: 0.682676\n",
      "Train Epoch: 20 [51200/60000 (85%)]\tLoss Char: 0.000000 Loss Font: 0.664621\n",
      "Train Epoch: 20 [57600/60000 (96%)]\tLoss Char: 0.000000 Loss Font: 0.681711\n",
      "\n",
      "Test set: Accuracy Char : 10000/10000 (100.00%)\n",
      "          Accuracy Font : 5527/10000 (55.27%)\n",
      "Train Epoch: 21 [0/60000 (0%)]\tLoss Char: 0.000000 Loss Font: 0.683505\n",
      "Train Epoch: 21 [6400/60000 (11%)]\tLoss Char: 0.000000 Loss Font: 0.668380\n",
      "Train Epoch: 21 [12800/60000 (21%)]\tLoss Char: 0.000000 Loss Font: 0.683663\n"
     ]
    },
    {
     "ename": "KeyboardInterrupt",
     "evalue": "",
     "output_type": "error",
     "traceback": [
      "\u001b[0;31m---------------------------------------------------------------------------\u001b[0m",
      "\u001b[0;31mKeyboardInterrupt\u001b[0m                         Traceback (most recent call last)",
      "\u001b[0;32m<ipython-input-144-9704ef20d2dc>\u001b[0m in \u001b[0;36m<module>\u001b[0;34m\u001b[0m\n\u001b[1;32m      1\u001b[0m \u001b[0mprec\u001b[0m\u001b[0;34m=\u001b[0m\u001b[0;34m(\u001b[0m\u001b[0;36m3\u001b[0m\u001b[0;34m,\u001b[0m \u001b[0;36m7\u001b[0m\u001b[0;34m,\u001b[0m \u001b[0;36m5\u001b[0m\u001b[0;34m)\u001b[0m\u001b[0;34m\u001b[0m\u001b[0m\n\u001b[0;32m----> 2\u001b[0;31m \u001b[0mtest_perfs_char\u001b[0m\u001b[0;34m,\u001b[0m \u001b[0mtest_perfs_font\u001b[0m \u001b[0;34m=\u001b[0m \u001b[0mtest_collateral\u001b[0m\u001b[0;34m(\u001b[0m\u001b[0mprec\u001b[0m\u001b[0;34m,\u001b[0m \u001b[0mrm_outlier_frac\u001b[0m\u001b[0;34m=\u001b[0m\u001b[0;36m99.9\u001b[0m\u001b[0;34m)\u001b[0m\u001b[0;34m\u001b[0m\u001b[0m\n\u001b[0m",
      "\u001b[0;32m<ipython-input-143-57e67c94522d>\u001b[0m in \u001b[0;36mtest_collateral\u001b[0;34m(prec, rm_outlier_frac)\u001b[0m\n\u001b[1;32m     48\u001b[0m         collateral.train(\n\u001b[1;32m     49\u001b[0m             \u001b[0margs\u001b[0m\u001b[0;34m,\u001b[0m \u001b[0mmodel\u001b[0m\u001b[0;34m,\u001b[0m \u001b[0mtrain_loader_prec\u001b[0m\u001b[0;34m,\u001b[0m \u001b[0moptimizer\u001b[0m\u001b[0;34m,\u001b[0m \u001b[0mepoch\u001b[0m\u001b[0;34m,\u001b[0m \u001b[0malpha\u001b[0m\u001b[0;34m,\u001b[0m\u001b[0;34m\u001b[0m\u001b[0m\n\u001b[0;32m---> 50\u001b[0;31m             \u001b[0minitial_phase\u001b[0m\u001b[0;34m,\u001b[0m \u001b[0mperturbate\u001b[0m\u001b[0;34m,\u001b[0m \u001b[0mrecover\u001b[0m\u001b[0;34m,\u001b[0m \u001b[0mnew_adversary\u001b[0m\u001b[0;34m\u001b[0m\u001b[0m\n\u001b[0m\u001b[1;32m     51\u001b[0m         )\n\u001b[1;32m     52\u001b[0m         \u001b[0mtest_perf_char\u001b[0m\u001b[0;34m,\u001b[0m \u001b[0mtest_perf_font\u001b[0m \u001b[0;34m=\u001b[0m \u001b[0mcollateral\u001b[0m\u001b[0;34m.\u001b[0m\u001b[0mtest\u001b[0m\u001b[0;34m(\u001b[0m\u001b[0margs\u001b[0m\u001b[0;34m,\u001b[0m \u001b[0mmodel\u001b[0m\u001b[0;34m,\u001b[0m \u001b[0mtest_loader_prec\u001b[0m\u001b[0;34m,\u001b[0m \u001b[0mnew_adversary\u001b[0m\u001b[0;34m)\u001b[0m\u001b[0;34m\u001b[0m\u001b[0m\n",
      "\u001b[0;32m~/code/collateral-learning/learn/collateral/train.py\u001b[0m in \u001b[0;36mtrain\u001b[0;34m(args, model, train_loader, optimizer, epoch, alpha, initial_phase, perturbate, recover, new_collateral)\u001b[0m\n\u001b[1;32m     42\u001b[0m                 \u001b[0moutput_font\u001b[0m \u001b[0;34m=\u001b[0m \u001b[0mmodel\u001b[0m\u001b[0;34m.\u001b[0m\u001b[0mforward_adv_font\u001b[0m\u001b[0;34m(\u001b[0m\u001b[0mdata\u001b[0m\u001b[0;34m)\u001b[0m\u001b[0;34m\u001b[0m\u001b[0m\n\u001b[1;32m     43\u001b[0m             \u001b[0;32melse\u001b[0m\u001b[0;34m:\u001b[0m\u001b[0;34m\u001b[0m\u001b[0m\n\u001b[0;32m---> 44\u001b[0;31m                 \u001b[0moutput_font\u001b[0m \u001b[0;34m=\u001b[0m \u001b[0mmodel\u001b[0m\u001b[0;34m.\u001b[0m\u001b[0mforward_font\u001b[0m\u001b[0;34m(\u001b[0m\u001b[0mdata\u001b[0m\u001b[0;34m)\u001b[0m\u001b[0;34m\u001b[0m\u001b[0m\n\u001b[0m\u001b[1;32m     45\u001b[0m             \u001b[0mloss_font\u001b[0m \u001b[0;34m=\u001b[0m \u001b[0mF\u001b[0m\u001b[0;34m.\u001b[0m\u001b[0mnll_loss\u001b[0m\u001b[0;34m(\u001b[0m\u001b[0moutput_font\u001b[0m\u001b[0;34m,\u001b[0m \u001b[0mtarget_font\u001b[0m\u001b[0;34m)\u001b[0m\u001b[0;34m\u001b[0m\u001b[0m\n\u001b[1;32m     46\u001b[0m             \u001b[0mloss_font\u001b[0m\u001b[0;34m.\u001b[0m\u001b[0mbackward\u001b[0m\u001b[0;34m(\u001b[0m\u001b[0;34m)\u001b[0m\u001b[0;34m\u001b[0m\u001b[0m\n",
      "\u001b[0;32m<ipython-input-27-f2caeb7970c5>\u001b[0m in \u001b[0;36mforward_font\u001b[0;34m(self, x)\u001b[0m\n\u001b[1;32m     62\u001b[0m     \u001b[0;32mdef\u001b[0m \u001b[0mforward_font\u001b[0m\u001b[0;34m(\u001b[0m\u001b[0mself\u001b[0m\u001b[0;34m,\u001b[0m \u001b[0mx\u001b[0m\u001b[0;34m)\u001b[0m\u001b[0;34m:\u001b[0m\u001b[0;34m\u001b[0m\u001b[0m\n\u001b[1;32m     63\u001b[0m         \u001b[0mx\u001b[0m \u001b[0;34m=\u001b[0m \u001b[0mself\u001b[0m\u001b[0;34m.\u001b[0m\u001b[0mquad\u001b[0m\u001b[0;34m(\u001b[0m\u001b[0mx\u001b[0m\u001b[0;34m)\u001b[0m\u001b[0;34m\u001b[0m\u001b[0m\n\u001b[0;32m---> 64\u001b[0;31m         \u001b[0mx\u001b[0m \u001b[0;34m=\u001b[0m \u001b[0mself\u001b[0m\u001b[0;34m.\u001b[0m\u001b[0mfont_net\u001b[0m\u001b[0;34m(\u001b[0m\u001b[0mx\u001b[0m\u001b[0;34m)\u001b[0m\u001b[0;34m\u001b[0m\u001b[0m\n\u001b[0m\u001b[1;32m     65\u001b[0m         \u001b[0;32mreturn\u001b[0m \u001b[0mF\u001b[0m\u001b[0;34m.\u001b[0m\u001b[0mlog_softmax\u001b[0m\u001b[0;34m(\u001b[0m\u001b[0mx\u001b[0m\u001b[0;34m,\u001b[0m \u001b[0mdim\u001b[0m\u001b[0;34m=\u001b[0m\u001b[0;36m1\u001b[0m\u001b[0;34m)\u001b[0m\u001b[0;34m\u001b[0m\u001b[0m\n\u001b[1;32m     66\u001b[0m \u001b[0;34m\u001b[0m\u001b[0m\n",
      "\u001b[0;32m<ipython-input-27-f2caeb7970c5>\u001b[0m in \u001b[0;36mfont_net\u001b[0;34m(self, x)\u001b[0m\n\u001b[1;32m     42\u001b[0m     \u001b[0;32mdef\u001b[0m \u001b[0mfont_net\u001b[0m\u001b[0;34m(\u001b[0m\u001b[0mself\u001b[0m\u001b[0;34m,\u001b[0m \u001b[0mx\u001b[0m\u001b[0;34m)\u001b[0m\u001b[0;34m:\u001b[0m\u001b[0;34m\u001b[0m\u001b[0m\n\u001b[1;32m     43\u001b[0m         \u001b[0;31m# --- Junction\u001b[0m\u001b[0;34m\u001b[0m\u001b[0;34m\u001b[0m\u001b[0m\n\u001b[0;32m---> 44\u001b[0;31m         \u001b[0mx\u001b[0m \u001b[0;34m=\u001b[0m \u001b[0mself\u001b[0m\u001b[0;34m.\u001b[0m\u001b[0mjct\u001b[0m\u001b[0;34m(\u001b[0m\u001b[0mx\u001b[0m\u001b[0;34m)\u001b[0m\u001b[0;34m\u001b[0m\u001b[0m\n\u001b[0m\u001b[1;32m     45\u001b[0m         \u001b[0mx\u001b[0m \u001b[0;34m=\u001b[0m \u001b[0mx\u001b[0m\u001b[0;34m.\u001b[0m\u001b[0mview\u001b[0m\u001b[0;34m(\u001b[0m\u001b[0;34m-\u001b[0m\u001b[0;36m1\u001b[0m\u001b[0;34m,\u001b[0m \u001b[0;36m1\u001b[0m\u001b[0;34m,\u001b[0m \u001b[0;36m28\u001b[0m\u001b[0;34m,\u001b[0m \u001b[0;36m28\u001b[0m\u001b[0;34m)\u001b[0m\u001b[0;34m\u001b[0m\u001b[0m\n\u001b[1;32m     46\u001b[0m \u001b[0;34m\u001b[0m\u001b[0m\n",
      "\u001b[0;32m~/code/env/pysyft/lib/python3.7/site-packages/torch/nn/modules/module.py\u001b[0m in \u001b[0;36m__call__\u001b[0;34m(self, *input, **kwargs)\u001b[0m\n\u001b[1;32m    488\u001b[0m         \u001b[0;32mfor\u001b[0m \u001b[0mhook\u001b[0m \u001b[0;32min\u001b[0m \u001b[0mself\u001b[0m\u001b[0;34m.\u001b[0m\u001b[0m_forward_pre_hooks\u001b[0m\u001b[0;34m.\u001b[0m\u001b[0mvalues\u001b[0m\u001b[0;34m(\u001b[0m\u001b[0;34m)\u001b[0m\u001b[0;34m:\u001b[0m\u001b[0;34m\u001b[0m\u001b[0m\n\u001b[1;32m    489\u001b[0m             \u001b[0mhook\u001b[0m\u001b[0;34m(\u001b[0m\u001b[0mself\u001b[0m\u001b[0;34m,\u001b[0m \u001b[0minput\u001b[0m\u001b[0;34m)\u001b[0m\u001b[0;34m\u001b[0m\u001b[0m\n\u001b[0;32m--> 490\u001b[0;31m         \u001b[0;32mif\u001b[0m \u001b[0mtorch\u001b[0m\u001b[0;34m.\u001b[0m\u001b[0m_C\u001b[0m\u001b[0;34m.\u001b[0m\u001b[0m_get_tracing_state\u001b[0m\u001b[0;34m(\u001b[0m\u001b[0;34m)\u001b[0m\u001b[0;34m:\u001b[0m\u001b[0;34m\u001b[0m\u001b[0m\n\u001b[0m\u001b[1;32m    491\u001b[0m             \u001b[0mresult\u001b[0m \u001b[0;34m=\u001b[0m \u001b[0mself\u001b[0m\u001b[0;34m.\u001b[0m\u001b[0m_slow_forward\u001b[0m\u001b[0;34m(\u001b[0m\u001b[0;34m*\u001b[0m\u001b[0minput\u001b[0m\u001b[0;34m,\u001b[0m \u001b[0;34m**\u001b[0m\u001b[0mkwargs\u001b[0m\u001b[0;34m)\u001b[0m\u001b[0;34m\u001b[0m\u001b[0m\n\u001b[1;32m    492\u001b[0m         \u001b[0;32melse\u001b[0m\u001b[0;34m:\u001b[0m\u001b[0;34m\u001b[0m\u001b[0m\n",
      "\u001b[0;31mKeyboardInterrupt\u001b[0m: "
     ]
    }
   ],
   "source": [
    "prec=(3, 7, 5)\n",
    "test_perfs_char, test_perfs_font = test_collateral(prec, rm_outlier_frac=99.9)"
   ]
  },
  {
   "cell_type": "code",
   "execution_count": null,
   "metadata": {},
   "outputs": [],
   "source": []
  }
 ],
 "metadata": {
  "kernelspec": {
   "display_name": "Python 3",
   "language": "python",
   "name": "python3"
  },
  "language_info": {
   "codemirror_mode": {
    "name": "ipython",
    "version": 3
   },
   "file_extension": ".py",
   "mimetype": "text/x-python",
   "name": "python",
   "nbconvert_exporter": "python",
   "pygments_lexer": "ipython3",
   "version": "3.7.0"
  }
 },
 "nbformat": 4,
 "nbformat_minor": 2
}
