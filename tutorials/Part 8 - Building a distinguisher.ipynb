{
 "cells": [
  {
   "cell_type": "markdown",
   "metadata": {},
   "source": [
    "# Functional Encryption - Classification and information leakage\n",
    " \n",
    "We would like to have a measure of the leakage with cryptology notions. In particular, we will look at the notion of [advantage](https://en.wikipedia.org/wiki/Advantage_(cryptography)) in the distinction task.\n",
    "\n",
    "> An adversary's advantage is a measure of how successfully it can attack a cryptographic algorithm, by distinguishing it from an idealized version of that type of algorithm -- Wikipedia\n",
    "\n",
    "\n",
    "Let $Q$ be the real quadratic network, and let $Q_{ideal}$ be the real one with no collateral leakage (ie accuracy on the collateral task would be 50%). The adversary $F$ is a probabilistic algorithm given $Q$ or $Q_{ideal}$ as input and which outputs 1 or 0 (depending on the font). $F$'s job is to distinguish $Q$ from $Q_{ideal}$ based on making queries given data samples. We say: $Adv(F)=|\\Pr[F(Q)=1]-\\Pr[F(Q_{ideal})=1]|$\n",
    "\n",
    "Because the adversary is sharp, it will fix a digit and try to distinguish on this one the font used. We chose $6$ because we are fair and wanted a digit of average difficulty.\n",
    "\n",
    "So to be clear: when building the resistance, we must provide equal resistance against all kind of digits for the couple of fonts selected, but the adversary can be specialized in a single digit. Therefore the problem is a bit unbalanced and we expect worse results compared to the Part 6. Therefore, we already start with longer sabotage and attack phases to get a more realistic view of what we should expect."
   ]
  },
  {
   "cell_type": "markdown",
   "metadata": {},
   "source": [
    "# 8. Collateral Learning assessed with Advantage\n"
   ]
  },
  {
   "cell_type": "markdown",
   "metadata": {},
   "source": [
    "We will use the code directly from the repo, to make the notebook more readable. Functions are similar to those presented earlier."
   ]
  },
  {
   "cell_type": "code",
   "execution_count": 1,
   "metadata": {},
   "outputs": [],
   "source": [
    "# Allow to load packages from parent\n",
    "import sys, os\n",
    "sys.path.insert(1, os.path.realpath(os.path.pardir))"
   ]
  },
  {
   "cell_type": "code",
   "execution_count": 2,
   "metadata": {},
   "outputs": [],
   "source": [
    "import random\n",
    "\n",
    "import numpy as np\n",
    "\n",
    "import torch\n",
    "import torch.nn as nn\n",
    "import torch.optim as optim\n",
    "import torch.nn.functional as F\n",
    "import torch.utils.data as utils\n",
    "\n",
    "import learn\n",
    "from learn import show_results\n",
    "# We now import from the collateral module\n",
    "from learn import collateral"
   ]
  },
  {
   "cell_type": "code",
   "execution_count": 58,
   "metadata": {},
   "outputs": [],
   "source": [
    "class Parser:\n",
    "    \"\"\"Parameters for the training\"\"\"\n",
    "    def __init__(self):\n",
    "        self.epochs = 10\n",
    "        self.sabotage_epochs = 10 # PUT 50 to get a proper resistance, but expect a long computation!\n",
    "        self.new_adversary_epochs = 50 \n",
    "        self.lr = 0.002\n",
    "        self.momentum = 0.5\n",
    "        self.test_batch_size = 1000\n",
    "        self.batch_size = 64\n",
    "        self.log_interval = 300"
   ]
  },
  {
   "cell_type": "code",
   "execution_count": 4,
   "metadata": {},
   "outputs": [],
   "source": [
    "PRIVATE_OUTPUT_SIZE = 10\n",
    "N_CHARS = 10\n",
    "N_FONTS = 2"
   ]
  },
  {
   "cell_type": "markdown",
   "metadata": {},
   "source": [
    "## 8.1 Loading $Q$ with resistance"
   ]
  },
  {
   "cell_type": "code",
   "execution_count": 110,
   "metadata": {},
   "outputs": [],
   "source": [
    "class CollateralNet(nn.Module):\n",
    "    def __init__(self):\n",
    "        super(CollateralNet, self).__init__()\n",
    "        self.proj1 = nn.Linear(784, 40)\n",
    "        self.diag1 = nn.Linear(40, PRIVATE_OUTPUT_SIZE, bias=False)\n",
    "\n",
    "        # --- FFN for characters\n",
    "        self.lin1 = nn.Linear(PRIVATE_OUTPUT_SIZE, 32)\n",
    "        self.lin2 = nn.Linear(32, N_CHARS)\n",
    "\n",
    "        # --- Junction\n",
    "        self.jct = nn.Linear(PRIVATE_OUTPUT_SIZE, 784)\n",
    "\n",
    "        # --- CNN for families\n",
    "        self.conv1 = nn.Conv2d(1, 20, 5, 1)\n",
    "        self.conv2 = nn.Conv2d(20, 50, 5, 1)\n",
    "        self.fc1 = nn.Linear(4 * 4 * 50, 500)\n",
    "        self.fc2 = nn.Linear(500, N_FONTS)\n",
    "        \n",
    "        \n",
    "        # FFN for families\n",
    "        self.lin3 = nn.Linear(PRIVATE_OUTPUT_SIZE, 64)\n",
    "        self.lin4 = nn.Linear(64, 32)\n",
    "        self.lin5 = nn.Linear(32, 16)\n",
    "        self.lin6 = nn.Linear(16, 8)\n",
    "        self.lin7 = nn.Linear(8, N_CHARS)\n",
    "\n",
    "    def quad(self, x):\n",
    "        # --- Quadratic\n",
    "        x = x.view(-1, 784)\n",
    "        x = self.proj1(x)\n",
    "        x = x * x\n",
    "        x = self.diag1(x)\n",
    "        return x\n",
    "\n",
    "    def char_net(self, x):\n",
    "        # --- FFN\n",
    "        x = F.relu(x)\n",
    "        x = F.relu(self.lin1(x))\n",
    "        x = self.lin2(x)\n",
    "        return x\n",
    "\n",
    "    def font_net(self, x):\n",
    "        # --- Junction\n",
    "        x = self.jct(x)\n",
    "        x = x.view(-1, 1, 28, 28)\n",
    "\n",
    "        # --- CNN\n",
    "        x = F.relu(self.conv1(x))\n",
    "        x = F.max_pool2d(x, 2, 2)\n",
    "        x = F.relu(self.conv2(x))\n",
    "        x = F.max_pool2d(x, 2, 2)\n",
    "        x = x.view(-1, 4 * 4 * 50)\n",
    "        x = F.relu(self.fc1(x))\n",
    "        x = self.fc2(x)\n",
    "        return x\n",
    "\n",
    "    def forward_char(self, x):\n",
    "        x = self.quad(x)\n",
    "        x = self.char_net(x)\n",
    "        return F.log_softmax(x, dim=1)\n",
    "\n",
    "    def forward_font(self, x):\n",
    "        x = self.quad(x)\n",
    "        x = self.font_net(x)\n",
    "        return F.log_softmax(x, dim=1)\n",
    "    \n",
    "    # We add the ability to freeze some layers to ensure that the collateral task does\n",
    "    # not modify the quadratic net\n",
    "    \n",
    "    def get_params(self, net):\n",
    "        \"\"\"Select the params for a given part of the net\"\"\"\n",
    "        if net == 'quad':\n",
    "            layers = [self.proj1, self.diag1]\n",
    "        elif net == 'char':\n",
    "            layers = [self.lin1, self.lin2]\n",
    "        elif net == 'font':\n",
    "            layers = [self.jct, self.fc1, self.fc2, self.conv1, self.conv2]\n",
    "        else:\n",
    "            raise AttributeError(f'{net} type not recognized')\n",
    "        params = [p for layer in layers for p in layer.parameters()]\n",
    "        return params\n",
    "\n",
    "    def freeze(self, net):\n",
    "        \"\"\"Freeze a part of the net\"\"\"\n",
    "        net_params = self.get_params(net)\n",
    "        for param in net_params:\n",
    "            param.requires_grad = False\n",
    "\n",
    "    def unfreeze(self):\n",
    "        \"\"\"Unfreeze the net\"\"\"\n",
    "        for param in self.parameters():\n",
    "            param.requires_grad = True"
   ]
  },
  {
   "cell_type": "code",
   "execution_count": 111,
   "metadata": {},
   "outputs": [],
   "source": [
    "def build_resistance(model, alpha=0):\n",
    "    \"\"\"\n",
    "    Perform a dual learning phase with sabotage\n",
    "    \"\"\"\n",
    "    args = Parser()\n",
    "    # We are just building Q so we don't need the 3rd phase, it will be assessed later!\n",
    "    args.new_adversary_epochs = 0\n",
    "    \n",
    "    train_loader, test_loader = collateral.get_data_loaders(args)\n",
    "\n",
    "    # optimizer = optim.Adam(model.parameters(), lr=args.lr)\n",
    "    optimizer = optim.SGD(model.parameters(), lr=args.lr, momentum=args.momentum)\n",
    "    \n",
    "    test_perfs_char = []\n",
    "    test_perfs_font = []\n",
    "    \n",
    "    for epoch in range(1, args.epochs + args.sabotage_epochs + args.new_adversary_epochs + 1):\n",
    "        initial_phase = epoch <= args.epochs\n",
    "        if initial_phase:\n",
    "            print(\"(initial phase)\")\n",
    "        perturbate = epoch > args.epochs and epoch <= args.epochs + args.sabotage_epochs\n",
    "        if perturbate:\n",
    "            print(\"(perturbate)\")\n",
    "        recover = epoch > args.epochs + args.sabotage_epochs\n",
    "        if recover:\n",
    "            print(\"(recover)\")\n",
    "        collateral.train(\n",
    "            args, model, train_loader, optimizer, epoch, alpha, \n",
    "            initial_phase, perturbate, recover, False\n",
    "        )\n",
    "        test_perf_char, test_perf_font = collateral.test(args, model, test_loader, False)\n",
    "        test_perfs_char.append(test_perf_char)\n",
    "        test_perfs_font.append(test_perf_font)\n",
    "\n",
    "    return test_perfs_char, test_perfs_font"
   ]
  },
  {
   "cell_type": "markdown",
   "metadata": {},
   "source": [
    "We could use the same $Q$ than in part 6, but we could like a better resistance so we rebuild a new one."
   ]
  },
  {
   "cell_type": "code",
   "execution_count": 112,
   "metadata": {
    "scrolled": true
   },
   "outputs": [
    {
     "name": "stdout",
     "output_type": "stream",
     "text": [
      "Model loaded!\n"
     ]
    }
   ],
   "source": [
    "path = '../data/models/quadconvnet_part8_out10.pt'\n",
    "path = 'models/test_quadconvnet_0.5_0.002_1.7_10.pt'\n",
    "model = CollateralNet()\n",
    "results = {}\n",
    "\n",
    "try:\n",
    "    model.load_state_dict(torch.load(path))\n",
    "    model.eval()\n",
    "    print('Model loaded!')\n",
    "except FileNotFoundError:\n",
    "    print('Computing model...')\n",
    "    alpha=1.7\n",
    "    test_perfs_char_perturbate, test_perfs_font_perturbate = build_resistance(model, alpha=alpha)\n",
    "    results[f\"Main task with perturbation alpha={alpha}\"] = test_perfs_char_perturbate\n",
    "    results[f\"Collateral task with perturbation alpha={alpha}\"] = test_perfs_font_perturbate\n",
    "    \n",
    "    model.results = results\n",
    "    # save model\n",
    "    torch.save(model.state_dict(), path)"
   ]
  },
  {
   "cell_type": "markdown",
   "metadata": {},
   "source": [
    "## 8.2 Testing distinguishability againts multiples nets"
   ]
  },
  {
   "cell_type": "markdown",
   "metadata": {},
   "source": [
    "We load the `Q` net that we have thoroughly built and it will be given to our new network structure"
   ]
  },
  {
   "cell_type": "code",
   "execution_count": 113,
   "metadata": {},
   "outputs": [],
   "source": [
    "quadratic_model = model\n",
    "quadratic_model.freeze('quad')"
   ]
  },
  {
   "cell_type": "markdown",
   "metadata": {},
   "source": [
    "We now perform only the last phase with the new adversary, note that we change the data loader"
   ]
  },
  {
   "cell_type": "code",
   "execution_count": 122,
   "metadata": {},
   "outputs": [],
   "source": [
    "fonts = ['cursive', 'Georgia']\n",
    "letter = \"6\"\n",
    "\n",
    "def evaluate_resistance(model, alpha=0):\n",
    "    args = Parser()\n",
    "    \n",
    "    train_loader, test_loader = collateral.data.get_collateral_data_loaders(args, *fonts, letter)\n",
    "\n",
    "    optimizer = optim.SGD(model.parameters(), lr=args.lr, momentum=args.momentum)\n",
    "    \n",
    "    test_perfs_char = []\n",
    "    test_perfs_font = []\n",
    "    \n",
    "    for epoch in range(1, args.new_adversary_epochs + 1):\n",
    "        \n",
    "        print(model.proj1.weight[30:35, 60])\n",
    "        initial_phase = False\n",
    "        perturbate = False\n",
    "        recover = True\n",
    "        \n",
    "        new_adversary = True\n",
    "        \n",
    "        collateral.train(\n",
    "            args, model, train_loader, optimizer, epoch, alpha,\n",
    "            initial_phase, perturbate, recover, new_adversary\n",
    "        )\n",
    "        test_perf_char, test_perf_font = collateral.test(args, model, test_loader, new_adversary)\n",
    "        test_perfs_char.append(test_perf_char)\n",
    "        test_perfs_font.append(test_perf_font)\n",
    "\n",
    "    return test_perfs_char, test_perfs_font"
   ]
  },
  {
   "cell_type": "markdown",
   "metadata": {},
   "source": [
    "Here is the basic structure of a network like those seen previously. There is a quadratic part which inherits from the `Q` loaded, and a method `conv_font` is left empty so that we can provide arbitrary adversary by inheriting from this `BaseNet`."
   ]
  },
  {
   "cell_type": "code",
   "execution_count": 123,
   "metadata": {},
   "outputs": [],
   "source": [
    "class BaseNet(nn.Module):\n",
    "    def __init__(self, quadratic_model):\n",
    "        super(BaseNet, self).__init__()\n",
    "        self.proj1 = quadratic_model.proj1\n",
    "        self.diag1 = quadratic_model.diag1\n",
    "        \n",
    "    def quad(self, x):\n",
    "        \"\"\"Same as forward up to the junction part\n",
    "        Used for the collateral training\"\"\"\n",
    "        # --- Quadratic \n",
    "        x = x.view(-1, 784)\n",
    "        x = self.proj1(x)\n",
    "        x = x * x\n",
    "        x = self.diag1(x)\n",
    "        return x\n",
    "    \n",
    "    def conv_font(self, x):\n",
    "        pass\n",
    "    \n",
    "    def forward_adv_font(self, x):\n",
    "        x = self.quad(x)\n",
    "        x = self.conv_font(x)\n",
    "        return F.log_softmax(x, dim=1)\n",
    "    \n",
    "    def get_params(self, net):\n",
    "        \"\"\"Select the params for a given part of the net\"\"\"\n",
    "        if net == 'quad':\n",
    "            layers = [self.proj1, self.diag1]\n",
    "        else:\n",
    "            raise AttributeError(f'{net} type not recognized')\n",
    "        params = [p for layer in layers for p in layer.parameters()]\n",
    "        return params\n",
    "    \n",
    "    def freeze(self, net):\n",
    "        \"\"\"Freeze a part of the net\"\"\"\n",
    "        net_params = self.get_params(net)\n",
    "        for param in net_params:\n",
    "            param.requires_grad = False\n",
    "            \n",
    "    def unfreeze(self):\n",
    "        \"\"\"Unfreeze the net\"\"\"\n",
    "        for param in self.parameters():\n",
    "            param.requires_grad = True"
   ]
  },
  {
   "cell_type": "code",
   "execution_count": 124,
   "metadata": {},
   "outputs": [],
   "source": [
    "resistance_reports = {}"
   ]
  },
  {
   "cell_type": "markdown",
   "metadata": {},
   "source": [
    "### 6.2.1 Fully connected models "
   ]
  },
  {
   "cell_type": "markdown",
   "metadata": {},
   "source": [
    "Here we inherit from BaseNet and we only have to specify `conv_font` and declare the layers used."
   ]
  },
  {
   "cell_type": "code",
   "execution_count": 125,
   "metadata": {},
   "outputs": [],
   "source": [
    "class FFNet(BaseNet):\n",
    "    def __init__(self, architecture, quadratic_model):\n",
    "        super(FFNet, self).__init__(quadratic_model)\n",
    "        # --- FFNs for font families\n",
    "        self.architecture = architecture\n",
    "        n_layer = len(architecture) + 1\n",
    "        input_size = PRIVATE_OUTPUT_SIZE\n",
    "        for i_layer, output_size in enumerate(architecture):\n",
    "            setattr(self, f\"net_{i_layer}\", nn.Linear(input_size, output_size))\n",
    "            input_size = output_size\n",
    "        setattr(self, f\"net_{n_layer}\", nn.Linear(input_size, N_FONTS)) \n",
    "    \n",
    "    def conv_font(self, x):\n",
    "        # --- FFN\n",
    "        architecture = self.architecture\n",
    "        n_layer = len(architecture) + 1\n",
    "        for i_layer, output_size in enumerate(architecture):\n",
    "            linear = getattr(self, f\"net_{i_layer}\")\n",
    "            x = F.relu(linear(x))\n",
    "        linear = getattr(self, f\"net_{n_layer}\")  \n",
    "        x = linear(x)\n",
    "        return x\n",
    "        \n",
    "        "
   ]
  },
  {
   "cell_type": "code",
   "execution_count": 126,
   "metadata": {
    "scrolled": true
   },
   "outputs": [
    {
     "name": "stdout",
     "output_type": "stream",
     "text": [
      "\n",
      "----- [64, 32, 16, 8]\n",
      "FFNet(\n",
      "  (proj1): Linear(in_features=784, out_features=40, bias=True)\n",
      "  (diag1): Linear(in_features=40, out_features=10, bias=False)\n",
      "  (net_0): Linear(in_features=10, out_features=64, bias=True)\n",
      "  (net_1): Linear(in_features=64, out_features=32, bias=True)\n",
      "  (net_2): Linear(in_features=32, out_features=16, bias=True)\n",
      "  (net_3): Linear(in_features=16, out_features=8, bias=True)\n",
      "  (net_5): Linear(in_features=8, out_features=2, bias=True)\n",
      ")\n",
      "Training set 60000 items\n",
      "Testing set  10000 items\n",
      "tensor([-0.0020, -0.0108,  0.0148, -0.0320, -0.0066])\n",
      "Train Epoch: 1 [0/60000 (0%)]\tLoss Char: 0.000000 Loss Font: 0.718810\n",
      "Train Epoch: 1 [19200/60000 (32%)]\tLoss Char: 0.000000 Loss Font: 0.684452\n",
      "Train Epoch: 1 [38400/60000 (64%)]\tLoss Char: 0.000000 Loss Font: 0.686363\n",
      "Train Epoch: 1 [57600/60000 (96%)]\tLoss Char: 0.000000 Loss Font: 0.688123\n",
      "\n",
      "Test set: Accuracy Char : 0/10000 (0.00%)\n",
      "          Accuracy Font : 5239/10000 (52.39%)\n",
      "tensor([-0.0020, -0.0108,  0.0148, -0.0320, -0.0066], grad_fn=<SelectBackward>)\n",
      "Train Epoch: 2 [0/60000 (0%)]\tLoss Char: 0.000000 Loss Font: 0.660340\n",
      "Train Epoch: 2 [19200/60000 (32%)]\tLoss Char: 0.000000 Loss Font: 0.645407\n",
      "Train Epoch: 2 [38400/60000 (64%)]\tLoss Char: 0.000000 Loss Font: 0.664727\n",
      "Train Epoch: 2 [57600/60000 (96%)]\tLoss Char: 0.000000 Loss Font: 0.647761\n",
      "\n",
      "Test set: Accuracy Char : 0/10000 (0.00%)\n",
      "          Accuracy Font : 6594/10000 (65.94%)\n",
      "tensor([-0.0020, -0.0108,  0.0148, -0.0320, -0.0066], grad_fn=<SelectBackward>)\n",
      "Train Epoch: 3 [0/60000 (0%)]\tLoss Char: 0.000000 Loss Font: 0.634458\n",
      "Train Epoch: 3 [19200/60000 (32%)]\tLoss Char: 0.000000 Loss Font: 0.587245\n",
      "Train Epoch: 3 [38400/60000 (64%)]\tLoss Char: 0.000000 Loss Font: 0.618701\n",
      "Train Epoch: 3 [57600/60000 (96%)]\tLoss Char: 0.000000 Loss Font: 0.582242\n",
      "\n",
      "Test set: Accuracy Char : 0/10000 (0.00%)\n",
      "          Accuracy Font : 6587/10000 (65.87%)\n",
      "tensor([-0.0020, -0.0108,  0.0148, -0.0320, -0.0066], grad_fn=<SelectBackward>)\n",
      "Train Epoch: 4 [0/60000 (0%)]\tLoss Char: 0.000000 Loss Font: 0.643366\n",
      "Train Epoch: 4 [19200/60000 (32%)]\tLoss Char: 0.000000 Loss Font: 0.533711\n",
      "Train Epoch: 4 [38400/60000 (64%)]\tLoss Char: 0.000000 Loss Font: 0.620570\n",
      "Train Epoch: 4 [57600/60000 (96%)]\tLoss Char: 0.000000 Loss Font: 0.603983\n",
      "\n",
      "Test set: Accuracy Char : 0/10000 (0.00%)\n",
      "          Accuracy Font : 6735/10000 (67.35%)\n",
      "tensor([-0.0020, -0.0108,  0.0148, -0.0320, -0.0066], grad_fn=<SelectBackward>)\n",
      "Train Epoch: 5 [0/60000 (0%)]\tLoss Char: 0.000000 Loss Font: 0.567920\n",
      "Train Epoch: 5 [19200/60000 (32%)]\tLoss Char: 0.000000 Loss Font: 0.613715\n",
      "Train Epoch: 5 [38400/60000 (64%)]\tLoss Char: 0.000000 Loss Font: 0.588555\n",
      "Train Epoch: 5 [57600/60000 (96%)]\tLoss Char: 0.000000 Loss Font: 0.588048\n",
      "\n",
      "Test set: Accuracy Char : 0/10000 (0.00%)\n",
      "          Accuracy Font : 6596/10000 (65.96%)\n",
      "tensor([-0.0020, -0.0108,  0.0148, -0.0320, -0.0066], grad_fn=<SelectBackward>)\n",
      "Train Epoch: 6 [0/60000 (0%)]\tLoss Char: 0.000000 Loss Font: 0.551376\n",
      "Train Epoch: 6 [19200/60000 (32%)]\tLoss Char: 0.000000 Loss Font: 0.560764\n",
      "Train Epoch: 6 [38400/60000 (64%)]\tLoss Char: 0.000000 Loss Font: 0.613330\n",
      "Train Epoch: 6 [57600/60000 (96%)]\tLoss Char: 0.000000 Loss Font: 0.508350\n",
      "\n",
      "Test set: Accuracy Char : 0/10000 (0.00%)\n",
      "          Accuracy Font : 6445/10000 (64.45%)\n",
      "tensor([-0.0020, -0.0108,  0.0148, -0.0320, -0.0066], grad_fn=<SelectBackward>)\n",
      "Train Epoch: 7 [0/60000 (0%)]\tLoss Char: 0.000000 Loss Font: 0.684851\n",
      "Train Epoch: 7 [19200/60000 (32%)]\tLoss Char: 0.000000 Loss Font: 0.579256\n",
      "Train Epoch: 7 [38400/60000 (64%)]\tLoss Char: 0.000000 Loss Font: 0.512023\n",
      "Train Epoch: 7 [57600/60000 (96%)]\tLoss Char: 0.000000 Loss Font: 0.622171\n",
      "\n",
      "Test set: Accuracy Char : 0/10000 (0.00%)\n",
      "          Accuracy Font : 7073/10000 (70.73%)\n",
      "tensor([-0.0020, -0.0108,  0.0148, -0.0320, -0.0066], grad_fn=<SelectBackward>)\n",
      "Train Epoch: 8 [0/60000 (0%)]\tLoss Char: 0.000000 Loss Font: 0.574226\n",
      "Train Epoch: 8 [19200/60000 (32%)]\tLoss Char: 0.000000 Loss Font: 0.544816\n",
      "Train Epoch: 8 [38400/60000 (64%)]\tLoss Char: 0.000000 Loss Font: 0.603654\n",
      "Train Epoch: 8 [57600/60000 (96%)]\tLoss Char: 0.000000 Loss Font: 0.565505\n",
      "\n",
      "Test set: Accuracy Char : 0/10000 (0.00%)\n",
      "          Accuracy Font : 7248/10000 (72.48%)\n",
      "tensor([-0.0020, -0.0108,  0.0148, -0.0320, -0.0066], grad_fn=<SelectBackward>)\n",
      "Train Epoch: 9 [0/60000 (0%)]\tLoss Char: 0.000000 Loss Font: 0.587445\n",
      "Train Epoch: 9 [19200/60000 (32%)]\tLoss Char: 0.000000 Loss Font: 0.567299\n",
      "Train Epoch: 9 [38400/60000 (64%)]\tLoss Char: 0.000000 Loss Font: 0.533782\n",
      "Train Epoch: 9 [57600/60000 (96%)]\tLoss Char: 0.000000 Loss Font: 0.590205\n",
      "\n",
      "Test set: Accuracy Char : 0/10000 (0.00%)\n",
      "          Accuracy Font : 6715/10000 (67.15%)\n",
      "tensor([-0.0020, -0.0108,  0.0148, -0.0320, -0.0066], grad_fn=<SelectBackward>)\n",
      "Train Epoch: 10 [0/60000 (0%)]\tLoss Char: 0.000000 Loss Font: 0.613353\n",
      "Train Epoch: 10 [19200/60000 (32%)]\tLoss Char: 0.000000 Loss Font: 0.500187\n",
      "Train Epoch: 10 [38400/60000 (64%)]\tLoss Char: 0.000000 Loss Font: 0.564345\n",
      "Train Epoch: 10 [57600/60000 (96%)]\tLoss Char: 0.000000 Loss Font: 0.524172\n",
      "\n",
      "Test set: Accuracy Char : 0/10000 (0.00%)\n",
      "          Accuracy Font : 7466/10000 (74.66%)\n",
      "tensor([-0.0020, -0.0108,  0.0148, -0.0320, -0.0066], grad_fn=<SelectBackward>)\n",
      "Train Epoch: 11 [0/60000 (0%)]\tLoss Char: 0.000000 Loss Font: 0.432867\n",
      "Train Epoch: 11 [19200/60000 (32%)]\tLoss Char: 0.000000 Loss Font: 0.472330\n",
      "Train Epoch: 11 [38400/60000 (64%)]\tLoss Char: 0.000000 Loss Font: 0.541815\n",
      "Train Epoch: 11 [57600/60000 (96%)]\tLoss Char: 0.000000 Loss Font: 0.539533\n",
      "\n",
      "Test set: Accuracy Char : 0/10000 (0.00%)\n",
      "          Accuracy Font : 7411/10000 (74.11%)\n",
      "tensor([-0.0020, -0.0108,  0.0148, -0.0320, -0.0066], grad_fn=<SelectBackward>)\n",
      "Train Epoch: 12 [0/60000 (0%)]\tLoss Char: 0.000000 Loss Font: 0.472464\n",
      "Train Epoch: 12 [19200/60000 (32%)]\tLoss Char: 0.000000 Loss Font: 0.510915\n",
      "Train Epoch: 12 [38400/60000 (64%)]\tLoss Char: 0.000000 Loss Font: 0.579518\n",
      "Train Epoch: 12 [57600/60000 (96%)]\tLoss Char: 0.000000 Loss Font: 0.436813\n",
      "\n",
      "Test set: Accuracy Char : 0/10000 (0.00%)\n",
      "          Accuracy Font : 7752/10000 (77.52%)\n",
      "tensor([-0.0020, -0.0108,  0.0148, -0.0320, -0.0066], grad_fn=<SelectBackward>)\n",
      "Train Epoch: 13 [0/60000 (0%)]\tLoss Char: 0.000000 Loss Font: 0.435081\n",
      "Train Epoch: 13 [19200/60000 (32%)]\tLoss Char: 0.000000 Loss Font: 0.545237\n",
      "Train Epoch: 13 [38400/60000 (64%)]\tLoss Char: 0.000000 Loss Font: 0.508475\n",
      "Train Epoch: 13 [57600/60000 (96%)]\tLoss Char: 0.000000 Loss Font: 0.474248\n",
      "\n",
      "Test set: Accuracy Char : 0/10000 (0.00%)\n",
      "          Accuracy Font : 7871/10000 (78.71%)\n",
      "tensor([-0.0020, -0.0108,  0.0148, -0.0320, -0.0066], grad_fn=<SelectBackward>)\n",
      "Train Epoch: 14 [0/60000 (0%)]\tLoss Char: 0.000000 Loss Font: 0.407262\n",
      "Train Epoch: 14 [19200/60000 (32%)]\tLoss Char: 0.000000 Loss Font: 0.444260\n",
      "Train Epoch: 14 [38400/60000 (64%)]\tLoss Char: 0.000000 Loss Font: 0.450477\n"
     ]
    },
    {
     "ename": "KeyboardInterrupt",
     "evalue": "",
     "output_type": "error",
     "traceback": [
      "\u001b[0;31m---------------------------------------------------------------------------\u001b[0m",
      "\u001b[0;31mKeyboardInterrupt\u001b[0m                         Traceback (most recent call last)",
      "\u001b[0;32m<ipython-input-126-d51ce4c95435>\u001b[0m in \u001b[0;36m<module>\u001b[0;34m\u001b[0m\n\u001b[1;32m      5\u001b[0m     \u001b[0mmodel\u001b[0m \u001b[0;34m=\u001b[0m \u001b[0mFFNet\u001b[0m\u001b[0;34m(\u001b[0m\u001b[0marchitecture\u001b[0m\u001b[0;34m,\u001b[0m \u001b[0mquadratic_model\u001b[0m\u001b[0;34m)\u001b[0m\u001b[0;34m\u001b[0m\u001b[0m\n\u001b[1;32m      6\u001b[0m     \u001b[0mprint\u001b[0m\u001b[0;34m(\u001b[0m\u001b[0mmodel\u001b[0m\u001b[0;34m)\u001b[0m\u001b[0;34m\u001b[0m\u001b[0m\n\u001b[0;32m----> 7\u001b[0;31m     \u001b[0m_\u001b[0m\u001b[0;34m,\u001b[0m \u001b[0mtest_perfs_font\u001b[0m \u001b[0;34m=\u001b[0m \u001b[0mevaluate_resistance\u001b[0m\u001b[0;34m(\u001b[0m\u001b[0mmodel\u001b[0m\u001b[0;34m)\u001b[0m\u001b[0;34m\u001b[0m\u001b[0m\n\u001b[0m\u001b[1;32m      8\u001b[0m \u001b[0;34m\u001b[0m\u001b[0m\n\u001b[1;32m      9\u001b[0m     \u001b[0marchitecture\u001b[0m \u001b[0;34m=\u001b[0m \u001b[0;34m':'\u001b[0m\u001b[0;34m.\u001b[0m\u001b[0mjoin\u001b[0m\u001b[0;34m(\u001b[0m\u001b[0mmap\u001b[0m\u001b[0;34m(\u001b[0m\u001b[0mstr\u001b[0m\u001b[0;34m,\u001b[0m \u001b[0;34m[\u001b[0m\u001b[0;36m8\u001b[0m\u001b[0;34m]\u001b[0m \u001b[0;34m+\u001b[0m \u001b[0marchitecture\u001b[0m \u001b[0;34m+\u001b[0m \u001b[0;34m[\u001b[0m\u001b[0mN_FONTS\u001b[0m\u001b[0;34m]\u001b[0m\u001b[0;34m)\u001b[0m\u001b[0;34m)\u001b[0m\u001b[0;34m\u001b[0m\u001b[0m\n",
      "\u001b[0;32m<ipython-input-122-ca5d34b41410>\u001b[0m in \u001b[0;36mevaluate_resistance\u001b[0;34m(model, alpha)\u001b[0m\n\u001b[1;32m     23\u001b[0m         collateral.train(\n\u001b[1;32m     24\u001b[0m             \u001b[0margs\u001b[0m\u001b[0;34m,\u001b[0m \u001b[0mmodel\u001b[0m\u001b[0;34m,\u001b[0m \u001b[0mtrain_loader\u001b[0m\u001b[0;34m,\u001b[0m \u001b[0moptimizer\u001b[0m\u001b[0;34m,\u001b[0m \u001b[0mepoch\u001b[0m\u001b[0;34m,\u001b[0m \u001b[0malpha\u001b[0m\u001b[0;34m,\u001b[0m\u001b[0;34m\u001b[0m\u001b[0m\n\u001b[0;32m---> 25\u001b[0;31m             \u001b[0minitial_phase\u001b[0m\u001b[0;34m,\u001b[0m \u001b[0mperturbate\u001b[0m\u001b[0;34m,\u001b[0m \u001b[0mrecover\u001b[0m\u001b[0;34m,\u001b[0m \u001b[0mnew_adversary\u001b[0m\u001b[0;34m\u001b[0m\u001b[0m\n\u001b[0m\u001b[1;32m     26\u001b[0m         )\n\u001b[1;32m     27\u001b[0m         \u001b[0mtest_perf_char\u001b[0m\u001b[0;34m,\u001b[0m \u001b[0mtest_perf_font\u001b[0m \u001b[0;34m=\u001b[0m \u001b[0mcollateral\u001b[0m\u001b[0;34m.\u001b[0m\u001b[0mtest\u001b[0m\u001b[0;34m(\u001b[0m\u001b[0margs\u001b[0m\u001b[0;34m,\u001b[0m \u001b[0mmodel\u001b[0m\u001b[0;34m,\u001b[0m \u001b[0mtest_loader\u001b[0m\u001b[0;34m,\u001b[0m \u001b[0mnew_adversary\u001b[0m\u001b[0;34m)\u001b[0m\u001b[0;34m\u001b[0m\u001b[0m\n",
      "\u001b[0;32m~/code/collateral-learning/learn/collateral/train.py\u001b[0m in \u001b[0;36mtrain\u001b[0;34m(args, model, train_loader, optimizer, epoch, alpha, initial_phase, perturbate, recover, new_collateral)\u001b[0m\n\u001b[1;32m     45\u001b[0m             \u001b[0mloss_font\u001b[0m \u001b[0;34m=\u001b[0m \u001b[0mF\u001b[0m\u001b[0;34m.\u001b[0m\u001b[0mnll_loss\u001b[0m\u001b[0;34m(\u001b[0m\u001b[0moutput_font\u001b[0m\u001b[0;34m,\u001b[0m \u001b[0mtarget_font\u001b[0m\u001b[0;34m)\u001b[0m\u001b[0;34m\u001b[0m\u001b[0m\n\u001b[1;32m     46\u001b[0m             \u001b[0mloss_font\u001b[0m\u001b[0;34m.\u001b[0m\u001b[0mbackward\u001b[0m\u001b[0;34m(\u001b[0m\u001b[0;34m)\u001b[0m\u001b[0;34m\u001b[0m\u001b[0m\n\u001b[0;32m---> 47\u001b[0;31m             \u001b[0moptimizer\u001b[0m\u001b[0;34m.\u001b[0m\u001b[0mstep\u001b[0m\u001b[0;34m(\u001b[0m\u001b[0;34m)\u001b[0m\u001b[0;34m\u001b[0m\u001b[0m\n\u001b[0m\u001b[1;32m     48\u001b[0m             \u001b[0mmodel\u001b[0m\u001b[0;34m.\u001b[0m\u001b[0munfreeze\u001b[0m\u001b[0;34m(\u001b[0m\u001b[0;34m)\u001b[0m\u001b[0;34m\u001b[0m\u001b[0m\n\u001b[1;32m     49\u001b[0m \u001b[0;34m\u001b[0m\u001b[0m\n",
      "\u001b[0;32m~/code/env/pysyft/lib/python3.7/site-packages/torch/optim/sgd.py\u001b[0m in \u001b[0;36mstep\u001b[0;34m(self, closure)\u001b[0m\n\u001b[1;32m     93\u001b[0m                     \u001b[0md_p\u001b[0m\u001b[0;34m.\u001b[0m\u001b[0madd_\u001b[0m\u001b[0;34m(\u001b[0m\u001b[0mweight_decay\u001b[0m\u001b[0;34m,\u001b[0m \u001b[0mp\u001b[0m\u001b[0;34m.\u001b[0m\u001b[0mdata\u001b[0m\u001b[0;34m)\u001b[0m\u001b[0;34m\u001b[0m\u001b[0m\n\u001b[1;32m     94\u001b[0m                 \u001b[0;32mif\u001b[0m \u001b[0mmomentum\u001b[0m \u001b[0;34m!=\u001b[0m \u001b[0;36m0\u001b[0m\u001b[0;34m:\u001b[0m\u001b[0;34m\u001b[0m\u001b[0m\n\u001b[0;32m---> 95\u001b[0;31m                     \u001b[0mparam_state\u001b[0m \u001b[0;34m=\u001b[0m \u001b[0mself\u001b[0m\u001b[0;34m.\u001b[0m\u001b[0mstate\u001b[0m\u001b[0;34m[\u001b[0m\u001b[0mp\u001b[0m\u001b[0;34m]\u001b[0m\u001b[0;34m\u001b[0m\u001b[0m\n\u001b[0m\u001b[1;32m     96\u001b[0m                     \u001b[0;32mif\u001b[0m \u001b[0;34m'momentum_buffer'\u001b[0m \u001b[0;32mnot\u001b[0m \u001b[0;32min\u001b[0m \u001b[0mparam_state\u001b[0m\u001b[0;34m:\u001b[0m\u001b[0;34m\u001b[0m\u001b[0m\n\u001b[1;32m     97\u001b[0m                         \u001b[0mbuf\u001b[0m \u001b[0;34m=\u001b[0m \u001b[0mparam_state\u001b[0m\u001b[0;34m[\u001b[0m\u001b[0;34m'momentum_buffer'\u001b[0m\u001b[0;34m]\u001b[0m \u001b[0;34m=\u001b[0m \u001b[0mtorch\u001b[0m\u001b[0;34m.\u001b[0m\u001b[0mzeros_like\u001b[0m\u001b[0;34m(\u001b[0m\u001b[0mp\u001b[0m\u001b[0;34m.\u001b[0m\u001b[0mdata\u001b[0m\u001b[0;34m)\u001b[0m\u001b[0;34m\u001b[0m\u001b[0m\n",
      "\u001b[0;32m~/code/env/pysyft/lib/python3.7/site-packages/torch/tensor.py\u001b[0m in \u001b[0;36m__hash__\u001b[0;34m(self)\u001b[0m\n\u001b[1;32m    428\u001b[0m         \u001b[0;32mreturn\u001b[0m \u001b[0miter\u001b[0m\u001b[0;34m(\u001b[0m\u001b[0mimap\u001b[0m\u001b[0;34m(\u001b[0m\u001b[0;32mlambda\u001b[0m \u001b[0mi\u001b[0m\u001b[0;34m:\u001b[0m \u001b[0mself\u001b[0m\u001b[0;34m[\u001b[0m\u001b[0mi\u001b[0m\u001b[0;34m]\u001b[0m\u001b[0;34m,\u001b[0m \u001b[0mrange\u001b[0m\u001b[0;34m(\u001b[0m\u001b[0mself\u001b[0m\u001b[0;34m.\u001b[0m\u001b[0msize\u001b[0m\u001b[0;34m(\u001b[0m\u001b[0;36m0\u001b[0m\u001b[0;34m)\u001b[0m\u001b[0;34m)\u001b[0m\u001b[0;34m)\u001b[0m\u001b[0;34m)\u001b[0m\u001b[0;34m\u001b[0m\u001b[0m\n\u001b[1;32m    429\u001b[0m \u001b[0;34m\u001b[0m\u001b[0m\n\u001b[0;32m--> 430\u001b[0;31m     \u001b[0;32mdef\u001b[0m \u001b[0m__hash__\u001b[0m\u001b[0;34m(\u001b[0m\u001b[0mself\u001b[0m\u001b[0;34m)\u001b[0m\u001b[0;34m:\u001b[0m\u001b[0;34m\u001b[0m\u001b[0m\n\u001b[0m\u001b[1;32m    431\u001b[0m         \u001b[0;32mreturn\u001b[0m \u001b[0mid\u001b[0m\u001b[0;34m(\u001b[0m\u001b[0mself\u001b[0m\u001b[0;34m)\u001b[0m\u001b[0;34m\u001b[0m\u001b[0m\n\u001b[1;32m    432\u001b[0m \u001b[0;34m\u001b[0m\u001b[0m\n",
      "\u001b[0;31mKeyboardInterrupt\u001b[0m: "
     ]
    }
   ],
   "source": [
    "architectures = [[64, 32, 16, 8], [32, 16, 8], [24, 12], [64], [32], [16]]\n",
    "\n",
    "for architecture in architectures:\n",
    "    print('\\n-----', architecture)\n",
    "    model = FFNet(architecture, quadratic_model)\n",
    "    print(model)\n",
    "    _, test_perfs_font = evaluate_resistance(model)\n",
    "    \n",
    "    architecture = ':'.join(map(str, [8] + architecture + [N_FONTS]))\n",
    "    resistance_reports[f\"Collateral task with net {architecture}\"] = test_perfs_font\n",
    "    \n",
    "show_results(resistance_reports, title=\"Resistance of FFNs with CNN protection\")\n"
   ]
  },
  {
   "cell_type": "markdown",
   "metadata": {},
   "source": [
    "### 6.2.2 CNN models"
   ]
  },
  {
   "cell_type": "code",
   "execution_count": 14,
   "metadata": {},
   "outputs": [],
   "source": [
    "class CNNet(BaseNet):\n",
    "    def __init__(self, nn_modules, quadratic_model):\n",
    "        super(CNNet, self).__init__(quadratic_model)\n",
    "        # --- CNNs for font families\n",
    "        self.nn_modules = nn_modules\n",
    "        setattr(self, \"net_0\", nn.Linear(PRIVATE_OUTPUT_SIZE, 784))\n",
    "        for i_layer, nn_module in enumerate(nn_modules):\n",
    "            setattr(self, f\"net_{i_layer + 1}\", nn_module)\n",
    "    \n",
    "    def conv_font(self, x):\n",
    "        switched_from_conv_lin = False\n",
    "        out_channels = []\n",
    "        # Make the junction\n",
    "        linear = getattr(self, \"net_0\")  \n",
    "        x = linear(x)\n",
    "        x = x.view(-1, 1, 28, 28)\n",
    "        # --- CNN\n",
    "        for i_layer, _ in enumerate(self.nn_modules):\n",
    "            layer = getattr(self, f\"net_{i_layer + 1}\")\n",
    "            if isinstance(layer, nn.Conv2d): # Conv layer\n",
    "                x = F.relu(layer(x))\n",
    "                x = F.max_pool2d(x, 2, 2)\n",
    "                out_channels.append(layer.out_channels)\n",
    "            else: # Linear layer\n",
    "                if not switched_from_conv_lin:\n",
    "                    x = x.view(-1, 4*4*out_channels[-1])\n",
    "                    switched_from_conv_lin = True\n",
    "                if i_layer < len(self.nn_modules) - 1:\n",
    "                    x = F.relu(layer(x))\n",
    "                else:\n",
    "                    x = layer(x)\n",
    "        return x\n",
    "         "
   ]
  },
  {
   "cell_type": "code",
   "execution_count": 15,
   "metadata": {
    "scrolled": true
   },
   "outputs": [
    {
     "name": "stdout",
     "output_type": "stream",
     "text": [
      "Training set 60000 items\n",
      "Testing set  10000 items\n",
      "Train Epoch: 1 [0/60000 (0%)]\tLoss Char: 0.000000 Loss Font: 0.911390\n",
      "Train Epoch: 1 [19200/60000 (32%)]\tLoss Char: 0.000000 Loss Font: 0.667801\n",
      "Train Epoch: 1 [38400/60000 (64%)]\tLoss Char: 0.000000 Loss Font: 0.685084\n",
      "Train Epoch: 1 [57600/60000 (96%)]\tLoss Char: 0.000000 Loss Font: 0.683268\n",
      "\n",
      "Test set: Accuracy Char : 0/10000 (0.00%)\n",
      "          Accuracy Font : 5860/10000 (58.60%)\n",
      "Train Epoch: 2 [0/60000 (0%)]\tLoss Char: 0.000000 Loss Font: 0.650930\n",
      "Train Epoch: 2 [19200/60000 (32%)]\tLoss Char: 0.000000 Loss Font: 0.662303\n",
      "Train Epoch: 2 [38400/60000 (64%)]\tLoss Char: 0.000000 Loss Font: 0.687251\n",
      "Train Epoch: 2 [57600/60000 (96%)]\tLoss Char: 0.000000 Loss Font: 0.638498\n",
      "\n",
      "Test set: Accuracy Char : 0/10000 (0.00%)\n",
      "          Accuracy Font : 6114/10000 (61.14%)\n",
      "Train Epoch: 3 [0/60000 (0%)]\tLoss Char: 0.000000 Loss Font: 0.664561\n",
      "Train Epoch: 3 [19200/60000 (32%)]\tLoss Char: 0.000000 Loss Font: 0.618946\n",
      "Train Epoch: 3 [38400/60000 (64%)]\tLoss Char: 0.000000 Loss Font: 0.624185\n",
      "Train Epoch: 3 [57600/60000 (96%)]\tLoss Char: 0.000000 Loss Font: 0.675070\n",
      "\n",
      "Test set: Accuracy Char : 0/10000 (0.00%)\n",
      "          Accuracy Font : 6415/10000 (64.15%)\n",
      "Train Epoch: 4 [0/60000 (0%)]\tLoss Char: 0.000000 Loss Font: 0.626867\n",
      "Train Epoch: 4 [19200/60000 (32%)]\tLoss Char: 0.000000 Loss Font: 0.614342\n",
      "Train Epoch: 4 [38400/60000 (64%)]\tLoss Char: 0.000000 Loss Font: 0.562274\n",
      "Train Epoch: 4 [57600/60000 (96%)]\tLoss Char: 0.000000 Loss Font: 0.590366\n",
      "\n",
      "Test set: Accuracy Char : 0/10000 (0.00%)\n",
      "          Accuracy Font : 6544/10000 (65.44%)\n",
      "Train Epoch: 5 [0/60000 (0%)]\tLoss Char: 0.000000 Loss Font: 0.596705\n",
      "Train Epoch: 5 [19200/60000 (32%)]\tLoss Char: 0.000000 Loss Font: 0.628992\n",
      "Train Epoch: 5 [38400/60000 (64%)]\tLoss Char: 0.000000 Loss Font: 0.642429\n",
      "Train Epoch: 5 [57600/60000 (96%)]\tLoss Char: 0.000000 Loss Font: 0.564583\n",
      "\n",
      "Test set: Accuracy Char : 0/10000 (0.00%)\n",
      "          Accuracy Font : 6614/10000 (66.14%)\n",
      "Train Epoch: 6 [0/60000 (0%)]\tLoss Char: 0.000000 Loss Font: 0.592426\n",
      "Train Epoch: 6 [19200/60000 (32%)]\tLoss Char: 0.000000 Loss Font: 0.574638\n",
      "Train Epoch: 6 [38400/60000 (64%)]\tLoss Char: 0.000000 Loss Font: 0.579814\n",
      "Train Epoch: 6 [57600/60000 (96%)]\tLoss Char: 0.000000 Loss Font: 0.559498\n",
      "\n",
      "Test set: Accuracy Char : 0/10000 (0.00%)\n",
      "          Accuracy Font : 6295/10000 (62.95%)\n",
      "Train Epoch: 7 [0/60000 (0%)]\tLoss Char: 0.000000 Loss Font: 0.662299\n",
      "Train Epoch: 7 [19200/60000 (32%)]\tLoss Char: 0.000000 Loss Font: 0.551563\n",
      "Train Epoch: 7 [38400/60000 (64%)]\tLoss Char: 0.000000 Loss Font: 0.585619\n",
      "Train Epoch: 7 [57600/60000 (96%)]\tLoss Char: 0.000000 Loss Font: 0.636200\n",
      "\n",
      "Test set: Accuracy Char : 0/10000 (0.00%)\n",
      "          Accuracy Font : 6878/10000 (68.78%)\n",
      "Train Epoch: 8 [0/60000 (0%)]\tLoss Char: 0.000000 Loss Font: 0.652154\n",
      "Train Epoch: 8 [19200/60000 (32%)]\tLoss Char: 0.000000 Loss Font: 0.625389\n",
      "Train Epoch: 8 [38400/60000 (64%)]\tLoss Char: 0.000000 Loss Font: 0.597918\n",
      "Train Epoch: 8 [57600/60000 (96%)]\tLoss Char: 0.000000 Loss Font: 0.614232\n",
      "\n",
      "Test set: Accuracy Char : 0/10000 (0.00%)\n",
      "          Accuracy Font : 7013/10000 (70.13%)\n",
      "Train Epoch: 9 [0/60000 (0%)]\tLoss Char: 0.000000 Loss Font: 0.620657\n",
      "Train Epoch: 9 [19200/60000 (32%)]\tLoss Char: 0.000000 Loss Font: 0.599668\n",
      "Train Epoch: 9 [38400/60000 (64%)]\tLoss Char: 0.000000 Loss Font: 0.743383\n",
      "Train Epoch: 9 [57600/60000 (96%)]\tLoss Char: 0.000000 Loss Font: 0.546876\n",
      "\n",
      "Test set: Accuracy Char : 0/10000 (0.00%)\n",
      "          Accuracy Font : 6930/10000 (69.30%)\n",
      "Train Epoch: 10 [0/60000 (0%)]\tLoss Char: 0.000000 Loss Font: 0.595817\n",
      "Train Epoch: 10 [19200/60000 (32%)]\tLoss Char: 0.000000 Loss Font: 0.587947\n",
      "Train Epoch: 10 [38400/60000 (64%)]\tLoss Char: 0.000000 Loss Font: 0.594132\n",
      "Train Epoch: 10 [57600/60000 (96%)]\tLoss Char: 0.000000 Loss Font: 0.577100\n",
      "\n",
      "Test set: Accuracy Char : 0/10000 (0.00%)\n",
      "          Accuracy Font : 7090/10000 (70.90%)\n"
     ]
    },
    {
     "data": {
      "image/png": "[encoded data removed]",
      "text/plain": [
       "<Figure size 720x288 with 1 Axes>"
      ]
     },
     "metadata": {
      "needs_background": "light"
     },
     "output_type": "display_data"
    }
   ],
   "source": [
    "architectures = [\n",
    "    (\n",
    "        nn.Conv2d(1, 20, 5, 1),\n",
    "        nn.Conv2d(20, 50, 5, 1),\n",
    "        nn.Linear(4*4*50, 500),\n",
    "        nn.Linear(500, N_FONTS)\n",
    "    )\n",
    "]\n",
    "\"\"\"\n",
    ",\n",
    "    (\n",
    "        nn.Conv2d(1, 30, 4, 1),\n",
    "        nn.Conv2d(30, 100, 4),\n",
    "        nn.Linear(100 * 4 * 4, 1000),\n",
    "        nn.Linear(1000, 100),\n",
    "        nn.Linear(100, N_FONTS)\n",
    "    )\n",
    "\"\"\"\n",
    "for i, architecture in enumerate(architectures):\n",
    "    model = CNNet(architecture, quadratic_model)\n",
    "    _, test_perfs_font = evaluate_resistance(model)\n",
    "    \n",
    "    resistance_reports[f\"Collateral task with CNN {i}\"] = test_perfs_font\n",
    "    \n",
    "show_results(resistance_reports, title=\"Resistance of CNNs with CNN protection\")"
   ]
  },
  {
   "cell_type": "code",
   "execution_count": 16,
   "metadata": {},
   "outputs": [
    {
     "data": {
      "image/png": "[encoded data removed]",
      "text/plain": [
       "<Figure size 720x288 with 1 Axes>"
      ]
     },
     "metadata": {
      "needs_background": "light"
     },
     "output_type": "display_data"
    }
   ],
   "source": [
    "show_results(\n",
    "    {k:v for k, v in resistance_reports.items() if 'CNN' in k}, \n",
    "    title=\"Resistance of CNNs with CNN protection\"\n",
    ")"
   ]
  },
  {
   "cell_type": "markdown",
   "metadata": {},
   "source": [
    "## 6.3 Non-NN models\n",
    "\n",
    "We now test many models from the sklearn library"
   ]
  },
  {
   "cell_type": "markdown",
   "metadata": {},
   "source": [
    "### Data preparation"
   ]
  },
  {
   "cell_type": "code",
   "execution_count": 17,
   "metadata": {},
   "outputs": [],
   "source": [
    "transform = BaseNet(quadratic_model)"
   ]
  },
  {
   "cell_type": "code",
   "execution_count": 18,
   "metadata": {},
   "outputs": [],
   "source": [
    "def get_input_onehot_labels(dataset, label=\"font\", one_hot=True):\n",
    "    data_input = dataset.tensors[0]\n",
    "    label_idx = {'char': 0, 'font': 1}[label]\n",
    "    label_size = {'char': N_CHARS, 'font': N_FONTS}[label]\n",
    "    labels = dataset.tensors[1][:, label_idx].view(-1, 1)\n",
    "    \n",
    "    data_label_onehot = torch.zeros(len(labels), label_size)\n",
    "    data_label_onehot.scatter_(1, labels, 1)\n",
    "    \n",
    "    return data_input, labels, data_label_onehot\n",
    "    "
   ]
  },
  {
   "cell_type": "markdown",
   "metadata": {},
   "source": [
    "Get dataset and transform in one hot vector"
   ]
  },
  {
   "cell_type": "code",
   "execution_count": 19,
   "metadata": {},
   "outputs": [
    {
     "name": "stdout",
     "output_type": "stream",
     "text": [
      "Training set 60000 items\n",
      "Testing set  10000 items\n"
     ]
    }
   ],
   "source": [
    "train_dataset, test_dataset = collateral.data.get_datasets(None, None)\n",
    "train_input, train_label, train_label_one_hot = get_input_onehot_labels(train_dataset, label=\"font\")\n",
    "test_input, test_label, test_label_one_hot = get_input_onehot_labels(test_dataset, label=\"font\")"
   ]
  },
  {
   "cell_type": "markdown",
   "metadata": {},
   "source": [
    "Apply the quadratic model transformation"
   ]
  },
  {
   "cell_type": "code",
   "execution_count": 20,
   "metadata": {},
   "outputs": [],
   "source": [
    "train_input = transform.quad(train_input).detach().numpy()\n",
    "test_input = transform.quad(test_input).detach().numpy()"
   ]
  },
  {
   "cell_type": "code",
   "execution_count": 21,
   "metadata": {},
   "outputs": [],
   "source": [
    "train_label = train_label.reshape(-1)\n",
    "test_label = test_label.reshape(-1)"
   ]
  },
  {
   "cell_type": "code",
   "execution_count": 22,
   "metadata": {},
   "outputs": [
    {
     "data": {
      "text/plain": [
       "((60000, 10), torch.Size([60000]))"
      ]
     },
     "execution_count": 22,
     "metadata": {},
     "output_type": "execute_result"
    }
   ],
   "source": [
    "train_input.shape, train_label.shape"
   ]
  },
  {
   "cell_type": "code",
   "execution_count": 23,
   "metadata": {},
   "outputs": [],
   "source": [
    "ALL = train_input.shape[0]\n",
    "CPOWER = 'LOW'"
   ]
  },
  {
   "cell_type": "code",
   "execution_count": 24,
   "metadata": {},
   "outputs": [],
   "source": [
    "from sklearn import linear_model\n",
    "from sklearn import kernel_ridge\n",
    "from sklearn import svm"
   ]
  },
  {
   "cell_type": "code",
   "execution_count": 25,
   "metadata": {},
   "outputs": [],
   "source": [
    "def evaluate_sklearn(reg, one_hot=True, limit=int(10e10)):\n",
    "    train_labels = {True: train_label_one_hot, False: train_label}[one_hot]\n",
    "    reg.fit(train_input[:limit], train_labels[:limit].detach().numpy()) \n",
    "    output = reg.predict(test_input)\n",
    "    if one_hot:\n",
    "        pred = torch.tensor(output).argmax(1, keepdim=True)\n",
    "    else:\n",
    "        if isinstance(output, list):\n",
    "            pred = torch.tensor(list(map(round, output))).long().view(-1, 1)\n",
    "        else:\n",
    "            pred = torch.tensor(np.round(output)).long().view(-1, 1)\n",
    "    y = test_label.view_as(pred)\n",
    "    acc = pred.eq(y).sum().item() / len(pred)\n",
    "    return acc"
   ]
  },
  {
   "cell_type": "markdown",
   "metadata": {},
   "source": [
    "### Linear models"
   ]
  },
  {
   "cell_type": "code",
   "execution_count": 26,
   "metadata": {},
   "outputs": [
    {
     "name": "stdout",
     "output_type": "stream",
     "text": [
      "0.502\n"
     ]
    }
   ],
   "source": [
    "reg = linear_model.Ridge(alpha=.9)\n",
    "acc = evaluate_sklearn(reg)\n",
    "print(acc)\n",
    "resistance_reports['linear model Ridge'] = acc * 100"
   ]
  },
  {
   "cell_type": "code",
   "execution_count": 27,
   "metadata": {},
   "outputs": [
    {
     "name": "stdout",
     "output_type": "stream",
     "text": [
      "0.502\n"
     ]
    }
   ],
   "source": [
    "reg = linear_model.RidgeCV(alphas=[0.01, 0.1, 1.0, 10.0, 100], cv=5)\n",
    "acc = evaluate_sklearn(reg)\n",
    "print(acc)"
   ]
  },
  {
   "cell_type": "code",
   "execution_count": 28,
   "metadata": {},
   "outputs": [
    {
     "name": "stdout",
     "output_type": "stream",
     "text": [
      "0.5005\n"
     ]
    }
   ],
   "source": [
    "reg = linear_model.Lasso(alpha=0.1)\n",
    "acc = evaluate_sklearn(reg)\n",
    "print(acc)\n",
    "resistance_reports['linear model Lasso'] = acc * 100"
   ]
  },
  {
   "cell_type": "code",
   "execution_count": 29,
   "metadata": {},
   "outputs": [
    {
     "name": "stdout",
     "output_type": "stream",
     "text": [
      "0.5005\n"
     ]
    }
   ],
   "source": [
    "reg = linear_model.LassoLars(alpha=0.1)\n",
    "acc = evaluate_sklearn(reg)\n",
    "print(acc)"
   ]
  },
  {
   "cell_type": "code",
   "execution_count": 30,
   "metadata": {},
   "outputs": [
    {
     "name": "stdout",
     "output_type": "stream",
     "text": [
      "0.5032\n"
     ]
    }
   ],
   "source": [
    "reg = linear_model.BayesianRidge()\n",
    "acc = evaluate_sklearn(reg, one_hot=False)\n",
    "print(acc)"
   ]
  },
  {
   "cell_type": "code",
   "execution_count": 31,
   "metadata": {},
   "outputs": [
    {
     "name": "stdout",
     "output_type": "stream",
     "text": [
      "0.5019\n"
     ]
    }
   ],
   "source": [
    "reg = linear_model.LogisticRegression(random_state=0, solver='lbfgs',\n",
    "                         multi_class='multinomial', max_iter=1000)\n",
    "acc = evaluate_sklearn(reg, one_hot=False)\n",
    "print(acc)\n",
    "resistance_reports['logistic regression'] = acc * 100"
   ]
  },
  {
   "cell_type": "code",
   "execution_count": 32,
   "metadata": {},
   "outputs": [
    {
     "name": "stdout",
     "output_type": "stream",
     "text": [
      "0.5031\n"
     ]
    }
   ],
   "source": [
    "reg = linear_model.LogisticRegressionCV(cv=5, random_state=0, multi_class='multinomial')\n",
    "acc = evaluate_sklearn(reg, one_hot=False)\n",
    "print(acc)"
   ]
  },
  {
   "cell_type": "markdown",
   "metadata": {},
   "source": [
    "### Quadratic Discriminant Analysis"
   ]
  },
  {
   "cell_type": "code",
   "execution_count": 33,
   "metadata": {},
   "outputs": [],
   "source": [
    "from sklearn.discriminant_analysis import QuadraticDiscriminantAnalysis"
   ]
  },
  {
   "cell_type": "code",
   "execution_count": 34,
   "metadata": {},
   "outputs": [
    {
     "name": "stdout",
     "output_type": "stream",
     "text": [
      "0.5465\n"
     ]
    }
   ],
   "source": [
    "clf = QuadraticDiscriminantAnalysis()\n",
    "acc = evaluate_sklearn(clf, one_hot=False)\n",
    "print(acc)\n",
    "resistance_reports['Quadratic Discriminant Analysis'] = acc * 100"
   ]
  },
  {
   "cell_type": "markdown",
   "metadata": {},
   "source": [
    "### Kernel Ridge"
   ]
  },
  {
   "cell_type": "code",
   "execution_count": 35,
   "metadata": {},
   "outputs": [
    {
     "name": "stderr",
     "output_type": "stream",
     "text": [
      "/Users/tryffel/code/env/pysyft/lib/python3.7/site-packages/sklearn/linear_model/ridge.py:165: LinAlgWarning: Ill-conditioned matrix (rcond=8.07553e-11): result may not be accurate.\n",
      "  overwrite_a=False)\n"
     ]
    },
    {
     "name": "stdout",
     "output_type": "stream",
     "text": [
      "0.5053\n"
     ]
    }
   ],
   "source": [
    "clf = kernel_ridge.KernelRidge(alpha=1.0)\n",
    "limit = {'LOW': 15000, 'MEDIUM': ALL, 'HIGH': ALL}\n",
    "acc = evaluate_sklearn(clf, one_hot=False, limit=limit[CPOWER])\n",
    "print(acc)"
   ]
  },
  {
   "cell_type": "markdown",
   "metadata": {},
   "source": [
    "### SVM"
   ]
  },
  {
   "cell_type": "code",
   "execution_count": 36,
   "metadata": {},
   "outputs": [
    {
     "name": "stdout",
     "output_type": "stream",
     "text": [
      "0.5108\n"
     ]
    }
   ],
   "source": [
    "clf = svm.SVC(gamma='scale', kernel='linear')\n",
    "limit = {'LOW': 5000, 'MEDIUM': 15000, 'HIGH': ALL}\n",
    "acc = evaluate_sklearn(clf, one_hot=False, limit=limit[CPOWER])\n",
    "\n",
    "print(acc)"
   ]
  },
  {
   "cell_type": "code",
   "execution_count": 37,
   "metadata": {},
   "outputs": [
    {
     "name": "stdout",
     "output_type": "stream",
     "text": [
      "0.5574\n"
     ]
    }
   ],
   "source": [
    "clf = svm.SVC(gamma='scale', kernel='rbf')\n",
    "limit = {'LOW': 20000, 'MEDIUM': ALL, 'HIGH': ALL}\n",
    "acc = evaluate_sklearn(clf, one_hot=False, limit=limit[CPOWER])\n",
    "print(acc)\n",
    "resistance_reports['SVM (rbf)'] = acc * 100"
   ]
  },
  {
   "cell_type": "code",
   "execution_count": 38,
   "metadata": {},
   "outputs": [
    {
     "name": "stdout",
     "output_type": "stream",
     "text": [
      "0.5065\n"
     ]
    }
   ],
   "source": [
    "clf = svm.SVC(gamma='scale', kernel='poly', coef0=0)\n",
    "limit = {'LOW': 20000, 'MEDIUM': ALL, 'HIGH': ALL}\n",
    "acc = evaluate_sklearn(clf, one_hot=False, limit=limit[CPOWER])\n",
    "print(acc)"
   ]
  },
  {
   "cell_type": "code",
   "execution_count": 39,
   "metadata": {},
   "outputs": [
    {
     "name": "stdout",
     "output_type": "stream",
     "text": [
      "0.4882\n"
     ]
    }
   ],
   "source": [
    "clf = svm.SVC(gamma='scale', kernel='sigmoid', coef0=0)\n",
    "limit = {'LOW': 20000, 'MEDIUM': ALL, 'HIGH': ALL}\n",
    "acc = evaluate_sklearn(clf, one_hot=False, limit=limit[CPOWER])\n",
    "print(acc)"
   ]
  },
  {
   "cell_type": "markdown",
   "metadata": {},
   "source": [
    "### Stochastic gradient Descent"
   ]
  },
  {
   "cell_type": "code",
   "execution_count": 40,
   "metadata": {},
   "outputs": [
    {
     "name": "stdout",
     "output_type": "stream",
     "text": [
      "0.5003\n"
     ]
    },
    {
     "name": "stderr",
     "output_type": "stream",
     "text": [
      "/Users/tryffel/code/env/pysyft/lib/python3.7/site-packages/sklearn/linear_model/stochastic_gradient.py:166: FutureWarning: max_iter and tol parameters have been added in SGDClassifier in 0.19. If both are left unset, they default to max_iter=5 and tol=None. If tol is not None, max_iter defaults to max_iter=1000. From 0.21, default max_iter will be 1000, and default tol will be 1e-3.\n",
      "  FutureWarning)\n"
     ]
    }
   ],
   "source": [
    "clf = linear_model.SGDClassifier(loss=\"hinge\", penalty=\"l2\")\n",
    "acc = evaluate_sklearn(clf, one_hot=False)\n",
    "print(acc)\n",
    "resistance_reports['SGDClassifier'] = acc * 100"
   ]
  },
  {
   "cell_type": "code",
   "execution_count": 41,
   "metadata": {},
   "outputs": [
    {
     "name": "stdout",
     "output_type": "stream",
     "text": [
      "0.4919\n"
     ]
    }
   ],
   "source": [
    "clf = linear_model.SGDClassifier(max_iter=1000, tol=1e-3, loss=\"log\")\n",
    "acc = evaluate_sklearn(clf, one_hot=False)\n",
    "print(acc)"
   ]
  },
  {
   "cell_type": "markdown",
   "metadata": {},
   "source": [
    "### K-Neighbors Classifier"
   ]
  },
  {
   "cell_type": "code",
   "execution_count": 42,
   "metadata": {},
   "outputs": [],
   "source": [
    "from sklearn.neighbors import KNeighborsClassifier"
   ]
  },
  {
   "cell_type": "code",
   "execution_count": 43,
   "metadata": {},
   "outputs": [
    {
     "name": "stdout",
     "output_type": "stream",
     "text": [
      "0.8018\n"
     ]
    }
   ],
   "source": [
    "clf = KNeighborsClassifier(n_neighbors=7)\n",
    "acc = evaluate_sklearn(clf, one_hot=False)\n",
    "print(acc)\n",
    "resistance_reports['K-Neighbors Classifier'] = acc * 100"
   ]
  },
  {
   "cell_type": "markdown",
   "metadata": {},
   "source": [
    "### Gaussian process (not scalable)"
   ]
  },
  {
   "cell_type": "code",
   "execution_count": 44,
   "metadata": {},
   "outputs": [],
   "source": [
    "from sklearn.gaussian_process import GaussianProcessClassifier\n",
    "from sklearn.gaussian_process.kernels import RBF"
   ]
  },
  {
   "cell_type": "code",
   "execution_count": 45,
   "metadata": {},
   "outputs": [
    {
     "name": "stdout",
     "output_type": "stream",
     "text": [
      "0.6193\n"
     ]
    }
   ],
   "source": [
    "kernel = 1.0 * RBF(1.0)\n",
    "gpc = GaussianProcessClassifier(kernel=kernel,\n",
    "        random_state=0)\n",
    "limit = {'LOW': 1700, 'MEDIUM': 5000, 'HIGH': 20000}\n",
    "acc = evaluate_sklearn(gpc, one_hot=False, limit=limit[CPOWER])\n",
    "print(acc)\n",
    "resistance_reports['Gaussian process'] = acc * 100"
   ]
  },
  {
   "cell_type": "markdown",
   "metadata": {},
   "source": [
    "### Naive Bayes"
   ]
  },
  {
   "cell_type": "code",
   "execution_count": 46,
   "metadata": {},
   "outputs": [],
   "source": [
    "from sklearn.naive_bayes import GaussianNB"
   ]
  },
  {
   "cell_type": "code",
   "execution_count": 47,
   "metadata": {},
   "outputs": [
    {
     "name": "stdout",
     "output_type": "stream",
     "text": [
      "0.5326\n"
     ]
    }
   ],
   "source": [
    "\n",
    "gnb = GaussianNB()\n",
    "acc = evaluate_sklearn(gnb, one_hot=False)\n",
    "print(acc)"
   ]
  },
  {
   "cell_type": "markdown",
   "metadata": {},
   "source": [
    "### Decision Tree Classifier"
   ]
  },
  {
   "cell_type": "code",
   "execution_count": 48,
   "metadata": {},
   "outputs": [],
   "source": [
    "from sklearn.tree import DecisionTreeClassifier"
   ]
  },
  {
   "cell_type": "code",
   "execution_count": 49,
   "metadata": {},
   "outputs": [
    {
     "name": "stdout",
     "output_type": "stream",
     "text": [
      "0.5591\n"
     ]
    }
   ],
   "source": [
    "\n",
    "clf = DecisionTreeClassifier(max_depth=5)\n",
    "acc = evaluate_sklearn(clf, one_hot=False)\n",
    "print(acc)\n",
    "\n",
    "resistance_reports['Decision Tree Classifier'] = acc * 100"
   ]
  },
  {
   "cell_type": "markdown",
   "metadata": {},
   "source": [
    "### Ensemble methods"
   ]
  },
  {
   "cell_type": "code",
   "execution_count": 50,
   "metadata": {},
   "outputs": [],
   "source": [
    "from sklearn.ensemble import RandomForestClassifier\n",
    "from sklearn.ensemble import AdaBoostClassifier\n",
    "from sklearn.ensemble import GradientBoostingClassifier"
   ]
  },
  {
   "cell_type": "code",
   "execution_count": 51,
   "metadata": {},
   "outputs": [
    {
     "name": "stdout",
     "output_type": "stream",
     "text": [
      "0.8046\n"
     ]
    }
   ],
   "source": [
    "clf = RandomForestClassifier(max_depth=30, n_estimators=100, max_features=4)\n",
    "acc = evaluate_sklearn(clf, one_hot=False)\n",
    "print(acc)\n",
    "resistance_reports['Random Forest Classifier'] = acc * 100"
   ]
  },
  {
   "cell_type": "code",
   "execution_count": 52,
   "metadata": {},
   "outputs": [
    {
     "name": "stdout",
     "output_type": "stream",
     "text": [
      "0.5659\n"
     ]
    }
   ],
   "source": [
    "clf = AdaBoostClassifier(n_estimators=200, learning_rate=1.)\n",
    "acc = evaluate_sklearn(clf, one_hot=False)\n",
    "print(acc)\n",
    "resistance_reports['AdaBoost Classifier'] = acc * 100"
   ]
  },
  {
   "cell_type": "code",
   "execution_count": 53,
   "metadata": {},
   "outputs": [
    {
     "name": "stdout",
     "output_type": "stream",
     "text": [
      "0.6891\n"
     ]
    }
   ],
   "source": [
    "clf = GradientBoostingClassifier(n_estimators=10, learning_rate=1.0,\n",
    "    max_depth=10, random_state=0)\n",
    "acc = evaluate_sklearn(clf, one_hot=False)\n",
    "print(acc)\n",
    "resistance_reports['Gradient Boosting Classifier'] = acc * 100"
   ]
  },
  {
   "cell_type": "markdown",
   "metadata": {},
   "source": [
    "### (sklearn) Neural Network"
   ]
  },
  {
   "cell_type": "code",
   "execution_count": 54,
   "metadata": {},
   "outputs": [],
   "source": [
    "from sklearn.neural_network import MLPClassifier"
   ]
  },
  {
   "cell_type": "code",
   "execution_count": 55,
   "metadata": {},
   "outputs": [
    {
     "name": "stdout",
     "output_type": "stream",
     "text": [
      "0.5487\n"
     ]
    }
   ],
   "source": [
    "clf = MLPClassifier(solver='lbfgs', alpha=1,\n",
    "                    hidden_layer_sizes=(10, 40, 10), random_state=1)\n",
    "acc = evaluate_sklearn(clf, one_hot=False)\n",
    "print(acc)"
   ]
  },
  {
   "cell_type": "markdown",
   "metadata": {},
   "source": [
    "## Summary"
   ]
  },
  {
   "cell_type": "code",
   "execution_count": 56,
   "metadata": {},
   "outputs": [],
   "source": [
    "def print_table(results):\n",
    "    n_cols = 2\n",
    "    title_length = 0\n",
    "    for title in results.keys():\n",
    "        title_length = max(title_length, len(title))\n",
    "    result_length = 8\n",
    "    table_length = 1 + n_cols + title_length + result_length\n",
    "    sep = '+'.join(\n",
    "        ['', '-'*title_length, '-'*result_length, '']\n",
    "    )\n",
    "    for title, serie in results.items():\n",
    "        print(sep)\n",
    "        title = (title + ' '*title_length)[:title_length]\n",
    "        if isinstance(serie, list):\n",
    "            result = round(np.mean(serie[-4:]), 2)\n",
    "        else:\n",
    "            result = round(serie, 2)\n",
    "        result = (' ' +str(result) + '%' + ' '*result_length)[:result_length]\n",
    "        line = '|'.join(\n",
    "            ['', title, result, '']\n",
    "        )\n",
    "        print(line)\n",
    "    print(sep)"
   ]
  },
  {
   "cell_type": "code",
   "execution_count": 57,
   "metadata": {},
   "outputs": [
    {
     "name": "stdout",
     "output_type": "stream",
     "text": [
      "+---------------------------------------+--------+\n",
      "|Collateral task with net 8:64:32:16:8:2| 59.42% |\n",
      "+---------------------------------------+--------+\n",
      "|Collateral task with net 8:32:16:8:2   | 63.96% |\n",
      "+---------------------------------------+--------+\n",
      "|Collateral task with net 8:24:12:2     | 65.53% |\n",
      "+---------------------------------------+--------+\n",
      "|Collateral task with net 8:64:2        | 68.38% |\n",
      "+---------------------------------------+--------+\n",
      "|Collateral task with net 8:32:2        | 66.31% |\n",
      "+---------------------------------------+--------+\n",
      "|Collateral task with net 8:16:2        | 64.11% |\n",
      "+---------------------------------------+--------+\n",
      "|Collateral task with CNN 0             | 69.78% |\n",
      "+---------------------------------------+--------+\n",
      "|linear model Ridge                     | 50.2%  |\n",
      "+---------------------------------------+--------+\n",
      "|linear model Lasso                     | 50.05% |\n",
      "+---------------------------------------+--------+\n",
      "|logistic regression                    | 50.19% |\n",
      "+---------------------------------------+--------+\n",
      "|Quadratic Discriminant Analysis        | 54.65% |\n",
      "+---------------------------------------+--------+\n",
      "|SVM (rbf)                              | 55.74% |\n",
      "+---------------------------------------+--------+\n",
      "|SGDClassifier                          | 50.03% |\n",
      "+---------------------------------------+--------+\n",
      "|K-Neighbors Classifier                 | 80.18% |\n",
      "+---------------------------------------+--------+\n",
      "|Gaussian process                       | 61.93% |\n",
      "+---------------------------------------+--------+\n",
      "|Decision Tree Classifier               | 55.91% |\n",
      "+---------------------------------------+--------+\n",
      "|Random Forest Classifier               | 80.46% |\n",
      "+---------------------------------------+--------+\n",
      "|AdaBoost Classifier                    | 56.59% |\n",
      "+---------------------------------------+--------+\n",
      "|Gradient Boosting Classifier           | 68.91% |\n",
      "+---------------------------------------+--------+\n"
     ]
    }
   ],
   "source": [
    "print_table(resistance_reports)"
   ]
  },
  {
   "cell_type": "markdown",
   "metadata": {},
   "source": [
    "### Compative results\n",
    "\n",
    "If you kept sabotage epochs at 10 you might have high collateral accuracies.\n",
    "Here is the table you would get after a long resistance phase:"
   ]
  },
  {
   "cell_type": "markdown",
   "metadata": {},
   "source": [
    "```\n",
    "+---------------------------------------+--------+\n",
    "|Collateral task with net 8:64:32:16:8:2| 55.52% |\n",
    "+---------------------------------------+--------+\n",
    "|Collateral task with net 8:32:16:8:2   | 54.71% |\n",
    "+---------------------------------------+--------+\n",
    "|Collateral task with net 8:24:12:2     | 54.54% |\n",
    "+---------------------------------------+--------+\n",
    "|Collateral task with net 8:64:2        | 55.16% |\n",
    "+---------------------------------------+--------+\n",
    "|Collateral task with net 8:32:2        | 54.53% |\n",
    "+---------------------------------------+--------+\n",
    "|Collateral task with net 8:16:2        | 54.57% |\n",
    "+---------------------------------------+--------+\n",
    "|linear model Ridge                     | 49.66% |\n",
    "+---------------------------------------+--------+\n",
    "|linear model Lasso                     | 50.05% |\n",
    "+---------------------------------------+--------+\n",
    "|logistic regression                    | 49.69% |\n",
    "+---------------------------------------+--------+\n",
    "|Quadratic Discriminant Analysis        | 50.25% |\n",
    "+---------------------------------------+--------+\n",
    "|SVM (rbf)                              | 53.2%  |\n",
    "+---------------------------------------+--------+\n",
    "|SGDClassifier                          | 49.96% |\n",
    "+---------------------------------------+--------+\n",
    "|K-Neighbors Classifier                 | 58.22% | *\n",
    "+---------------------------------------+--------+\n",
    "|Gaussian process                       | 50.05% |\n",
    "+---------------------------------------+--------+\n",
    "|Decision Tree Classifier               | 52.43% |\n",
    "+---------------------------------------+--------+\n",
    "|Random Forest Classifier               | 59.2%  | *\n",
    "+---------------------------------------+--------+\n",
    "|AdaBoost Classifier                    | 54.01% |\n",
    "+---------------------------------------+--------+\n",
    "|Gradient Boosting Classifier           | 57.04% | *\n",
    "+---------------------------------------+--------+\n",
    "```"
   ]
  },
  {
   "cell_type": "markdown",
   "metadata": {},
   "source": [
    "## Conclusion\n",
    "\n",
    "The long term resistance has proved to be very effective and the collateral accuracy we get is even lower than previous results of Part 6!\n",
    "For Neural Networks the results are very good as we don't exceed 55-56%. For other models likes K-Neighbors or Random Forest, we observe also a significant drop as we get under 60%\n",
    "\n",
    "> This is only true if you set at least 50 epochs to build resistance"
   ]
  },
  {
   "cell_type": "markdown",
   "metadata": {},
   "source": [
    "You can find extended results in Part 8 bis, but they are a bit long to compute!"
   ]
  },
  {
   "cell_type": "code",
   "execution_count": null,
   "metadata": {},
   "outputs": [],
   "source": []
  }
 ],
 "metadata": {
  "kernelspec": {
   "display_name": "Python 3",
   "language": "python",
   "name": "python3"
  },
  "language_info": {
   "codemirror_mode": {
    "name": "ipython",
    "version": 3
   },
   "file_extension": ".py",
   "mimetype": "text/x-python",
   "name": "python",
   "nbconvert_exporter": "python",
   "pygments_lexer": "ipython3",
   "version": "3.7.0"
  }
 },
 "nbformat": 4,
 "nbformat_minor": 2
}
