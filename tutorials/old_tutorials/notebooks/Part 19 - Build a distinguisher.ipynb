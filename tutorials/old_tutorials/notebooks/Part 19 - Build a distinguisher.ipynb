{
 "cells": [
  {
   "cell_type": "markdown",
   "metadata": {},
   "source": [
    "# Functional Encryption - Classification and information leakage\n",
    " \n",
    "\n",
    "### Purpose\n",
    "\n",
    "We want to train the model on the following task: given two images with the same character, but with two different fonts, can an adversarial model guess with a good accuracy which image has been selected by a challenger which only expose the output of the private model fed with a chosen image?\n",
    "\n",
    "The first dummy approach is to keep the same network as before, and choose the font the most likely among the two possible according to the collateral model. This is sub-optimal but illustrates the possible performances of the CL model on this distinguish task, which is very common in the cryptography field."
   ]
  },
  {
   "cell_type": "markdown",
   "metadata": {},
   "source": [
    "## 1. Parameters and imports\n"
   ]
  },
  {
   "cell_type": "markdown",
   "metadata": {},
   "source": [
    "We will use the code directly from the repo, to make the notebook more readable. Functions are similar to those presented earlier."
   ]
  },
  {
   "cell_type": "code",
   "execution_count": 1,
   "metadata": {},
   "outputs": [],
   "source": [
    "# Allow to load packages from parent\n",
    "import sys, os\n",
    "sys.path.insert(1, os.path.realpath(os.path.pardir))"
   ]
  },
  {
   "cell_type": "code",
   "execution_count": 2,
   "metadata": {},
   "outputs": [],
   "source": [
    "import random\n",
    "\n",
    "import numpy as np\n",
    "\n",
    "import torch\n",
    "import torch.nn as nn\n",
    "import torch.optim as optim\n",
    "import torch.nn.functional as F\n",
    "import torch.utils.data as utils\n",
    "\n",
    "import learn\n",
    "from learn import load_data, show_results"
   ]
  },
  {
   "cell_type": "code",
   "execution_count": 3,
   "metadata": {},
   "outputs": [],
   "source": [
    "torch.set_num_threads(4)"
   ]
  },
  {
   "cell_type": "code",
   "execution_count": 4,
   "metadata": {},
   "outputs": [],
   "source": [
    "class Parser:\n",
    "    \"\"\"Parameters for the training\"\"\"\n",
    "    def __init__(self):\n",
    "        self.epochs = 10\n",
    "        self.sabotage_epochs = 10\n",
    "        self.new_adversary_epochs = 10\n",
    "        self.lr = 0.002\n",
    "        self.momentum = 0.5\n",
    "        self.test_batch_size = 1000\n",
    "        self.batch_size = 64\n",
    "        self.log_interval = 100"
   ]
  },
  {
   "cell_type": "markdown",
   "metadata": {},
   "source": [
    "Some utility functions"
   ]
  },
  {
   "cell_type": "code",
   "execution_count": 5,
   "metadata": {},
   "outputs": [],
   "source": [
    "def build_tensor_dataset(data, target):\n",
    "    \"\"\"Utility function to cast our data into a normalized torch TensorDataset\"\"\"\n",
    "    normed_data = [(d - d.mean()) / d.std() for d in data]\n",
    "    normed_data = torch.stack([torch.Tensor(d).reshape(1, 28, 28) for d in normed_data])\n",
    "    target = torch.LongTensor([[i[0][0], i[1][0]] for i in target])\n",
    "    tensor_dataset = utils.TensorDataset(normed_data, target)\n",
    "    return tensor_dataset\n",
    "\n",
    "\n",
    "def get_datasets():\n",
    "    data = load_data()\n",
    "    train_data, train_target_char, train_target_family, test_data, test_target_char, test_target_family = data\n",
    "    # Merge the target datasets\n",
    "    train_target = list(zip(train_target_char, train_target_family))\n",
    "    test_target = list(zip(test_target_char, test_target_family))\n",
    "\n",
    "    # We use here the slightly modified version of this function\n",
    "    train_dataset = build_tensor_dataset(train_data, train_target)\n",
    "    test_dataset = build_tensor_dataset(test_data, test_target)\n",
    "    \n",
    "    return train_dataset, test_dataset\n",
    "\n",
    "def get_data_loaders():\n",
    "    torch.manual_seed(1)\n",
    "    args = Parser()\n",
    "\n",
    "    train_dataset, test_dataset = get_datasets()\n",
    "\n",
    "    train_loader = utils.DataLoader(\n",
    "        train_dataset,\n",
    "        batch_size=args.batch_size, shuffle=True\n",
    "    )\n",
    "\n",
    "    test_loader = utils.DataLoader(\n",
    "        test_dataset,\n",
    "        batch_size=args.test_batch_size, shuffle=True\n",
    "    )\n",
    "    return train_loader, test_loader"
   ]
  },
  {
   "cell_type": "markdown",
   "metadata": {},
   "source": [
    "## 2. Building resistance"
   ]
  },
  {
   "cell_type": "markdown",
   "metadata": {},
   "source": [
    "Let's define the model with the describes architecture. Basically you have 3 blocs: 1 quadratic and 2 CNN."
   ]
  },
  {
   "cell_type": "code",
   "execution_count": 6,
   "metadata": {},
   "outputs": [],
   "source": [
    "N_CHARS = 26\n",
    "N_FONTS = 5\n",
    "class QuadConvNet(nn.Module):\n",
    "    def __init__(self):\n",
    "        super(QuadConvNet, self).__init__()\n",
    "        self.proj1 = nn.Linear(784, 50)\n",
    "        self.diag1 = nn.Linear(50, 8)\n",
    "        \n",
    "        # --- FFN for characters\n",
    "        self.lin1 = nn.Linear(8, 16)\n",
    "        self.lin2 = nn.Linear(16, N_CHARS)\n",
    "        \n",
    "        # --- Junction\n",
    "        self.jct = nn.Linear(8, 784)\n",
    "        \n",
    "        # --- CNN for families\n",
    "        self.conv1 = nn.Conv2d(1, 20, 5, 1)\n",
    "        self.conv2 = nn.Conv2d(20, 50, 5, 1)\n",
    "        self.fc1 = nn.Linear(4*4*50, 500)\n",
    "        self.fc2 = nn.Linear(500, N_FONTS)\n",
    "\n",
    "    def quad(self, x):\n",
    "        \"\"\"Same as forward up to the junction part\n",
    "        Used for the collateral training\"\"\"\n",
    "        # --- Quadratic \n",
    "        x = x.view(-1, 784)\n",
    "        x = self.proj1(x)\n",
    "        x = x * x\n",
    "        x = self.diag1(x)\n",
    "        return x\n",
    "    \n",
    "    def conv_char(self, x):\n",
    "        # --- FFN\n",
    "        x = F.relu(self.lin1(x))\n",
    "        x = self.lin2(x)\n",
    "        return x\n",
    "        \n",
    "    def conv_font(self, x):\n",
    "        # --- Junction\n",
    "        x = self.jct(x)\n",
    "        x = x.view(-1, 1, 28, 28)\n",
    "        \n",
    "        # --- CNN\n",
    "        x = F.relu(self.conv1(x))\n",
    "        x = F.max_pool2d(x, 2, 2)\n",
    "        x = F.relu(self.conv2(x))\n",
    "        x = F.max_pool2d(x, 2, 2)\n",
    "        x = x.view(-1, 4*4*50)\n",
    "        x = F.relu(self.fc1(x))\n",
    "        x = self.fc2(x)\n",
    "        return x\n",
    "\n",
    "    def forward_char(self, x):\n",
    "        x = self.quad(x)\n",
    "        x = self.conv_char(x)\n",
    "        return F.log_softmax(x, dim=1)\n",
    "    \n",
    "    def forward_font(self, x):\n",
    "        x = self.quad(x)\n",
    "        x = self.conv_font(x)\n",
    "        return F.log_softmax(x, dim=1)\n",
    "    \n",
    "    def get_params(self, net):\n",
    "        \"\"\"Select the params for a given part of the net\"\"\"\n",
    "        if net == 'quad':\n",
    "            layers = [self.proj1, self.diag1]\n",
    "        elif net == 'char':\n",
    "            layers = [self.lin1, self.lin2]\n",
    "        elif net == 'font':\n",
    "            layers = [self.jct, self.fc1, self.fc2, self.conv1, self.conv2]\n",
    "        else:\n",
    "            raise AttributeError(f'{net} type not recognized')\n",
    "        params = [p for layer in layers for p in layer.parameters()]\n",
    "        return params\n",
    "    \n",
    "    def freeze(self, net):\n",
    "        \"\"\"Freeze a part of the net\"\"\"\n",
    "        net_params = self.get_params(net)\n",
    "        for param in net_params:\n",
    "            param.requires_grad = False\n",
    "            \n",
    "    def unfreeze(self):\n",
    "        \"\"\"Unfreeze the net\"\"\"\n",
    "        for param in self.parameters():\n",
    "            param.requires_grad = True\n",
    "        \n",
    "        "
   ]
  },
  {
   "cell_type": "markdown",
   "metadata": {},
   "source": [
    "Next, we define the train and test functions. They assume the train_load return two labels: the char and the font of some input.\n",
    "\n",
    "In the training phase we execute the 3 steps as described aboved.\n",
    "\n",
    "In the test function, we just test the performance for the main and collateral tasks."
   ]
  },
  {
   "cell_type": "code",
   "execution_count": 7,
   "metadata": {},
   "outputs": [],
   "source": [
    "import torch"
   ]
  },
  {
   "cell_type": "code",
   "execution_count": 8,
   "metadata": {},
   "outputs": [],
   "source": [
    "def train(args, model, train_loader, optimizer, epoch, alpha, initial_phase, perturbate, new_collateral):\n",
    "    model.train()\n",
    "    for batch_idx, (data, target) in enumerate(train_loader):\n",
    "        # Split the two targets\n",
    "        target_char = target[:, 0]\n",
    "        target_font = target[:, 1]\n",
    "        \n",
    "        \n",
    "        # Phase 1\n",
    "        if initial_phase: # Optimise Q + C\n",
    "            optimizer.zero_grad()\n",
    "            output = model.forward_char(data)\n",
    "            loss_char = F.nll_loss(output, target_char)\n",
    "            loss_char.backward()\n",
    "            optimizer.step()\n",
    "        elif perturbate: # Optimise Freezed(Q) + C\n",
    "            model.freeze('quad')\n",
    "            optimizer.zero_grad()\n",
    "            output_char = model.forward_char(data)\n",
    "            loss_char = F.nll_loss(output_char, target_char)\n",
    "            loss_char.backward()\n",
    "            optimizer.step()\n",
    "            model.unfreeze()\n",
    "            \n",
    "        # Phase 2\n",
    "        if (initial_phase or perturbate): # Optimise Freezed(Q) + F\n",
    "            model.freeze('quad')\n",
    "            output_font = model.forward_font(data)\n",
    "            loss_font = F.nll_loss(output_font, target_font)\n",
    "            loss_font.backward()\n",
    "            optimizer.step()\n",
    "            model.unfreeze()\n",
    "        elif new_collateral: # Optimise Freezed(Q) + new F\n",
    "            model.freeze('quad')\n",
    "            optimizer.zero_grad()\n",
    "            output_font = model.forward_adv_font(data)\n",
    "            loss_font = F.nll_loss(output_font, target_font)\n",
    "            loss_font.backward()\n",
    "            optimizer.step()\n",
    "            model.unfreeze()\n",
    "            \n",
    "        # Phase 3\n",
    "        if perturbate: # Optimize Q\n",
    "            model.freeze('font')\n",
    "            model.freeze('char')\n",
    "            optimizer.zero_grad()\n",
    "            output_char = model.forward_char(data)\n",
    "            loss_char = F.nll_loss(output_char, target_char)\n",
    "\n",
    "            output_font = model.forward_font(data)\n",
    "            loss_font = F.nll_loss(output_font, target_font)\n",
    "\n",
    "            loss = loss_char - alpha * loss_font\n",
    "            loss.backward()\n",
    "            optimizer.step()\n",
    "            model.unfreeze()\n",
    "            \n",
    "            \n",
    "        if new_collateral:\n",
    "            loss_char = torch.zeros(1)\n",
    "        \n",
    "        if batch_idx % args.log_interval == 0:\n",
    "            print('Train Epoch: {} [{}/{} ({:.0f}%)]\\tLoss Char: {:.6f} Loss Font: {:.6f}'.format(\n",
    "                epoch, batch_idx * len(data), len(train_loader.dataset),\n",
    "                       100. * batch_idx / len(train_loader), loss_char.item(), loss_font.item()))"
   ]
  },
  {
   "cell_type": "code",
   "execution_count": 9,
   "metadata": {},
   "outputs": [],
   "source": [
    "def test(args, model, test_loader, new_adversary):\n",
    "    model.eval()\n",
    "    correct_char = 0\n",
    "    correct_font = 0\n",
    "    with torch.no_grad():\n",
    "        for data, target in test_loader:\n",
    "            # Split the two targets\n",
    "            target_char = target[:, 0]\n",
    "            target_font = target[:, 1]\n",
    "\n",
    "            # Char evaluation\n",
    "            if not new_adversary:\n",
    "                output = model.forward_char(data)\n",
    "                pred = output.argmax(1, keepdim=True)\n",
    "                correct_char += pred.eq(target_char.view_as(pred)).sum().item()\n",
    "            \n",
    "            # Font evaluation\n",
    "            if not new_adversary:\n",
    "                output = model.forward_font(data)\n",
    "            else:\n",
    "                output = model.forward_adv_font(data)\n",
    "            pred = output.argmax(1, keepdim=True)\n",
    "            correct_font += pred.eq(target_font.view_as(pred)).sum().item()\n",
    "\n",
    "    acc_char = 100. * correct_char / len(test_loader.dataset)\n",
    "    acc_font = 100. * correct_font / len(test_loader.dataset)\n",
    "    print('\\nTest set: Accuracy Char : {}/{} ({:.2f}%)\\n          Accuracy Font : {}/{} ({:.2f}%)'.format(\n",
    "        correct_char, len(test_loader.dataset), acc_char, correct_font, len(test_loader.dataset), acc_font))\n",
    "\n",
    "    return acc_char, acc_font"
   ]
  },
  {
   "cell_type": "code",
   "execution_count": 10,
   "metadata": {},
   "outputs": [],
   "source": [
    "def build_resistance(model, alpha=0):\n",
    "    \"\"\"\n",
    "    Perform a learning + a sabotage phase\n",
    "    \"\"\"\n",
    "    args = Parser()\n",
    "    \n",
    "    train_loader, test_loader = get_data_loaders()\n",
    "\n",
    "    optimizer = optim.SGD(model.parameters(), lr=args.lr, momentum=args.momentum)\n",
    "    \n",
    "    test_perfs_char = []\n",
    "    test_perfs_font = []\n",
    "    \n",
    "    for epoch in range(1, args.epochs + args.sabotage_epochs + 1):\n",
    "        initial_phase = epoch <= args.epochs\n",
    "        if initial_phase:\n",
    "            print(\"(initial phase)\")\n",
    "        perturbate = epoch > args.epochs and epoch <= args.epochs + args.sabotage_epochs\n",
    "        if perturbate:\n",
    "            print(\"(perturbate)\")\n",
    "        new_adversary = False\n",
    "        \n",
    "        train(args, model, train_loader, optimizer, epoch, alpha, initial_phase, perturbate, new_adversary)\n",
    "        test_perf_char, test_perf_font = test(args, model, test_loader, new_adversary)\n",
    "        test_perfs_char.append(test_perf_char)\n",
    "        test_perfs_font.append(test_perf_font)\n",
    "\n",
    "    return test_perfs_char, test_perfs_font"
   ]
  },
  {
   "cell_type": "code",
   "execution_count": 11,
   "metadata": {
    "scrolled": true
   },
   "outputs": [
    {
     "name": "stdout",
     "output_type": "stream",
     "text": [
      "Model loaded!\n"
     ]
    }
   ],
   "source": [
    "path = '../data/models/quadconvnet_part17.pt'\n",
    "model = QuadConvNet()\n",
    "results = {}\n",
    "\n",
    "try:\n",
    "    model.load_state_dict(torch.load(path))\n",
    "    model.eval()\n",
    "    print('Model loaded!')\n",
    "except FileNotFoundError:\n",
    "    print('Computing model...')\n",
    "    alpha=1.5\n",
    "    test_perfs_char_perturbate, test_perfs_font_perturbate = build_resistance(model, alpha=alpha)\n",
    "    results[f\"Main task with perturbation alpha={alpha}\"] = test_perfs_char_perturbate\n",
    "    results[f\"Collateral task with perturbation alpha={alpha}\"] = test_perfs_font_perturbate\n",
    "    \n",
    "    model.results = results\n",
    "    # save model\n",
    "    torch.save(model.state_dict(), path)"
   ]
  },
  {
   "cell_type": "markdown",
   "metadata": {},
   "source": [
    "# 3. Testing distinguishability"
   ]
  },
  {
   "cell_type": "code",
   "execution_count": 12,
   "metadata": {},
   "outputs": [],
   "source": [
    "quadratic_model = model\n",
    "quadratic_model.freeze('quad')"
   ]
  },
  {
   "cell_type": "code",
   "execution_count": 13,
   "metadata": {},
   "outputs": [],
   "source": [
    "def evaluate_resistance(model, alpha=0):\n",
    "    \"\"\"\n",
    "    Perform a learning phase for the CL model\n",
    "    \"\"\"\n",
    "    args = Parser()\n",
    "    \n",
    "    train_loader, test_loader = get_data_loaders()\n",
    "\n",
    "    optimizer = optim.SGD(model.parameters(), lr=args.lr, momentum=args.momentum)\n",
    "    \n",
    "    test_perfs_char = []\n",
    "    test_perfs_font = []\n",
    "    \n",
    "    for epoch in range(1, args.new_adversary_epochs + 1):\n",
    "        initial_phase = False\n",
    "        perturbate = False\n",
    "        new_adversary = True\n",
    "        \n",
    "        train(args, model, train_loader, optimizer, epoch, alpha, initial_phase, perturbate, new_adversary)\n",
    "        test_perf_char, test_perf_font = test(args, model, test_loader, new_adversary)\n",
    "        test_perfs_char.append(test_perf_char)\n",
    "        test_perfs_font.append(test_perf_font)\n",
    "\n",
    "    return test_perfs_char, test_perfs_font"
   ]
  },
  {
   "cell_type": "code",
   "execution_count": 14,
   "metadata": {},
   "outputs": [],
   "source": [
    "class BaseNet(nn.Module):\n",
    "    def __init__(self, quadratic_model):\n",
    "        super(BaseNet, self).__init__()\n",
    "        self.proj1 = quadratic_model.proj1\n",
    "        self.diag1 = quadratic_model.diag1\n",
    "        \n",
    "    def quad(self, x):\n",
    "        \"\"\"Same as forward up to the junction part\n",
    "        Used for the collateral training\"\"\"\n",
    "        # --- Quadratic \n",
    "        x = x.view(-1, 784)\n",
    "        x = self.proj1(x)\n",
    "        x = x * x\n",
    "        x = self.diag1(x)\n",
    "        return x\n",
    "    \n",
    "    def conv_font(self, x):\n",
    "        pass\n",
    "    \n",
    "    def forward_adv_font(self, x):\n",
    "        x = self.quad(x)\n",
    "        x = self.conv_font(x)\n",
    "        return F.log_softmax(x, dim=1)\n",
    "    \n",
    "    def get_params(self, net):\n",
    "        \"\"\"Select the params for a given part of the net\"\"\"\n",
    "        if net == 'quad':\n",
    "            layers = [self.proj1, self.diag1]\n",
    "        else:\n",
    "            raise AttributeError(f'{net} type not recognized')\n",
    "        params = [p for layer in layers for p in layer.parameters()]\n",
    "        return params\n",
    "    \n",
    "    def freeze(self, net):\n",
    "        \"\"\"Freeze a part of the net\"\"\"\n",
    "        net_params = self.get_params(net)\n",
    "        for param in net_params:\n",
    "            param.requires_grad = False\n",
    "            \n",
    "    def unfreeze(self):\n",
    "        \"\"\"Unfreeze the net\"\"\"\n",
    "        for param in self.parameters():\n",
    "            param.requires_grad = True"
   ]
  },
  {
   "cell_type": "code",
   "execution_count": 15,
   "metadata": {},
   "outputs": [],
   "source": [
    "resistance_reports = {}"
   ]
  },
  {
   "cell_type": "markdown",
   "metadata": {},
   "source": [
    "## 3.1 Fully connected models "
   ]
  },
  {
   "cell_type": "code",
   "execution_count": 16,
   "metadata": {},
   "outputs": [],
   "source": [
    "class FFNet(BaseNet):\n",
    "    def __init__(self, architecture, quadratic_model):\n",
    "        super(FFNet, self).__init__(quadratic_model)\n",
    "        # --- FFNs for font families\n",
    "        self.architecture = architecture\n",
    "        n_layer = len(architecture) + 1\n",
    "        input_size = 8\n",
    "        for i_layer, output_size in enumerate(architecture):\n",
    "            setattr(self, f\"net_{i_layer}\", nn.Linear(input_size, output_size))\n",
    "            input_size = output_size\n",
    "        setattr(self, f\"net_{n_layer}\", nn.Linear(input_size, N_FONTS)) \n",
    "    \n",
    "    def conv_font(self, x):\n",
    "        # --- FFN\n",
    "        architecture = self.architecture\n",
    "        n_layer = len(architecture) + 1\n",
    "        for i_layer, output_size in enumerate(architecture):\n",
    "            linear = getattr(self, f\"net_{i_layer}\")\n",
    "            x = F.relu(linear(x))\n",
    "        linear = getattr(self, f\"net_{n_layer}\")  \n",
    "        x = linear(x)\n",
    "        return x\n",
    "        \n",
    "        "
   ]
  },
  {
   "cell_type": "code",
   "execution_count": 17,
   "metadata": {
    "scrolled": true
   },
   "outputs": [
    {
     "name": "stdout",
     "output_type": "stream",
     "text": [
      "Training set 60000 items\n",
      "Testing set  10000 items\n",
      "Train Epoch: 1 [0/60000 (0%)]\tLoss Char: 0.000000 Loss Font: 15.329388\n",
      "Train Epoch: 1 [6400/60000 (11%)]\tLoss Char: 0.000000 Loss Font: 1.828937\n",
      "Train Epoch: 1 [12800/60000 (21%)]\tLoss Char: 0.000000 Loss Font: 1.644107\n",
      "Train Epoch: 1 [19200/60000 (32%)]\tLoss Char: 0.000000 Loss Font: 1.723098\n",
      "Train Epoch: 1 [25600/60000 (43%)]\tLoss Char: 0.000000 Loss Font: 1.606900\n",
      "Train Epoch: 1 [32000/60000 (53%)]\tLoss Char: 0.000000 Loss Font: 1.608513\n",
      "Train Epoch: 1 [38400/60000 (64%)]\tLoss Char: 0.000000 Loss Font: 1.587319\n",
      "Train Epoch: 1 [44800/60000 (75%)]\tLoss Char: 0.000000 Loss Font: 1.511784\n",
      "Train Epoch: 1 [51200/60000 (85%)]\tLoss Char: 0.000000 Loss Font: 1.648162\n",
      "Train Epoch: 1 [57600/60000 (96%)]\tLoss Char: 0.000000 Loss Font: 1.624784\n",
      "\n",
      "Test set: Accuracy Char : 0/10000 (0.00%)\n",
      "          Accuracy Font : 2659/10000 (26.59%)\n",
      "Train Epoch: 2 [0/60000 (0%)]\tLoss Char: 0.000000 Loss Font: 1.630493\n",
      "Train Epoch: 2 [6400/60000 (11%)]\tLoss Char: 0.000000 Loss Font: 1.564158\n",
      "Train Epoch: 2 [12800/60000 (21%)]\tLoss Char: 0.000000 Loss Font: 1.584117\n",
      "Train Epoch: 2 [19200/60000 (32%)]\tLoss Char: 0.000000 Loss Font: 1.647059\n",
      "Train Epoch: 2 [25600/60000 (43%)]\tLoss Char: 0.000000 Loss Font: 1.593234\n",
      "Train Epoch: 2 [32000/60000 (53%)]\tLoss Char: 0.000000 Loss Font: 1.600248\n",
      "Train Epoch: 2 [38400/60000 (64%)]\tLoss Char: 0.000000 Loss Font: 1.554542\n",
      "Train Epoch: 2 [44800/60000 (75%)]\tLoss Char: 0.000000 Loss Font: 1.623613\n",
      "Train Epoch: 2 [51200/60000 (85%)]\tLoss Char: 0.000000 Loss Font: 1.631684\n",
      "Train Epoch: 2 [57600/60000 (96%)]\tLoss Char: 0.000000 Loss Font: 1.608945\n",
      "\n",
      "Test set: Accuracy Char : 0/10000 (0.00%)\n",
      "          Accuracy Font : 2744/10000 (27.44%)\n",
      "Train Epoch: 3 [0/60000 (0%)]\tLoss Char: 0.000000 Loss Font: 1.575326\n",
      "Train Epoch: 3 [6400/60000 (11%)]\tLoss Char: 0.000000 Loss Font: 1.490240\n",
      "Train Epoch: 3 [12800/60000 (21%)]\tLoss Char: 0.000000 Loss Font: 1.603537\n",
      "Train Epoch: 3 [19200/60000 (32%)]\tLoss Char: 0.000000 Loss Font: 1.545147\n",
      "Train Epoch: 3 [25600/60000 (43%)]\tLoss Char: 0.000000 Loss Font: 1.547804\n",
      "Train Epoch: 3 [32000/60000 (53%)]\tLoss Char: 0.000000 Loss Font: 1.600495\n",
      "Train Epoch: 3 [38400/60000 (64%)]\tLoss Char: 0.000000 Loss Font: 1.606581\n",
      "Train Epoch: 3 [44800/60000 (75%)]\tLoss Char: 0.000000 Loss Font: 1.505785\n",
      "Train Epoch: 3 [51200/60000 (85%)]\tLoss Char: 0.000000 Loss Font: 1.526811\n",
      "Train Epoch: 3 [57600/60000 (96%)]\tLoss Char: 0.000000 Loss Font: 1.552548\n",
      "\n",
      "Test set: Accuracy Char : 0/10000 (0.00%)\n",
      "          Accuracy Font : 2955/10000 (29.55%)\n",
      "Train Epoch: 4 [0/60000 (0%)]\tLoss Char: 0.000000 Loss Font: 1.629076\n",
      "Train Epoch: 4 [6400/60000 (11%)]\tLoss Char: 0.000000 Loss Font: 1.567298\n",
      "Train Epoch: 4 [12800/60000 (21%)]\tLoss Char: 0.000000 Loss Font: 1.486230\n",
      "Train Epoch: 4 [19200/60000 (32%)]\tLoss Char: 0.000000 Loss Font: 1.503881\n",
      "Train Epoch: 4 [25600/60000 (43%)]\tLoss Char: 0.000000 Loss Font: 1.517559\n",
      "Train Epoch: 4 [32000/60000 (53%)]\tLoss Char: 0.000000 Loss Font: 1.641209\n",
      "Train Epoch: 4 [38400/60000 (64%)]\tLoss Char: 0.000000 Loss Font: 1.553753\n",
      "Train Epoch: 4 [44800/60000 (75%)]\tLoss Char: 0.000000 Loss Font: 1.562542\n",
      "Train Epoch: 4 [51200/60000 (85%)]\tLoss Char: 0.000000 Loss Font: 1.545266\n",
      "Train Epoch: 4 [57600/60000 (96%)]\tLoss Char: 0.000000 Loss Font: 1.538322\n",
      "\n",
      "Test set: Accuracy Char : 0/10000 (0.00%)\n",
      "          Accuracy Font : 3072/10000 (30.72%)\n",
      "Train Epoch: 5 [0/60000 (0%)]\tLoss Char: 0.000000 Loss Font: 1.487338\n",
      "Train Epoch: 5 [6400/60000 (11%)]\tLoss Char: 0.000000 Loss Font: 1.517941\n",
      "Train Epoch: 5 [12800/60000 (21%)]\tLoss Char: 0.000000 Loss Font: 1.462270\n",
      "Train Epoch: 5 [19200/60000 (32%)]\tLoss Char: 0.000000 Loss Font: 1.588836\n",
      "Train Epoch: 5 [25600/60000 (43%)]\tLoss Char: 0.000000 Loss Font: 1.526134\n",
      "Train Epoch: 5 [32000/60000 (53%)]\tLoss Char: 0.000000 Loss Font: 1.513654\n",
      "Train Epoch: 5 [38400/60000 (64%)]\tLoss Char: 0.000000 Loss Font: 1.525552\n",
      "Train Epoch: 5 [44800/60000 (75%)]\tLoss Char: 0.000000 Loss Font: 1.579615\n",
      "Train Epoch: 5 [51200/60000 (85%)]\tLoss Char: 0.000000 Loss Font: 1.556802\n",
      "Train Epoch: 5 [57600/60000 (96%)]\tLoss Char: 0.000000 Loss Font: 1.554646\n",
      "\n",
      "Test set: Accuracy Char : 0/10000 (0.00%)\n",
      "          Accuracy Font : 3032/10000 (30.32%)\n",
      "Train Epoch: 6 [0/60000 (0%)]\tLoss Char: 0.000000 Loss Font: 1.504105\n",
      "Train Epoch: 6 [6400/60000 (11%)]\tLoss Char: 0.000000 Loss Font: 1.644585\n",
      "Train Epoch: 6 [12800/60000 (21%)]\tLoss Char: 0.000000 Loss Font: 1.527899\n",
      "Train Epoch: 6 [19200/60000 (32%)]\tLoss Char: 0.000000 Loss Font: 1.388118\n",
      "Train Epoch: 6 [25600/60000 (43%)]\tLoss Char: 0.000000 Loss Font: 1.531768\n",
      "Train Epoch: 6 [32000/60000 (53%)]\tLoss Char: 0.000000 Loss Font: 1.565640\n",
      "Train Epoch: 6 [38400/60000 (64%)]\tLoss Char: 0.000000 Loss Font: 1.419881\n",
      "Train Epoch: 6 [44800/60000 (75%)]\tLoss Char: 0.000000 Loss Font: 1.438623\n",
      "Train Epoch: 6 [51200/60000 (85%)]\tLoss Char: 0.000000 Loss Font: 1.460725\n",
      "Train Epoch: 6 [57600/60000 (96%)]\tLoss Char: 0.000000 Loss Font: 1.498752\n",
      "\n",
      "Test set: Accuracy Char : 0/10000 (0.00%)\n",
      "          Accuracy Font : 2783/10000 (27.83%)\n",
      "Train Epoch: 7 [0/60000 (0%)]\tLoss Char: 0.000000 Loss Font: 1.551041\n",
      "Train Epoch: 7 [6400/60000 (11%)]\tLoss Char: 0.000000 Loss Font: 1.467631\n",
      "Train Epoch: 7 [12800/60000 (21%)]\tLoss Char: 0.000000 Loss Font: 1.522558\n",
      "Train Epoch: 7 [19200/60000 (32%)]\tLoss Char: 0.000000 Loss Font: 1.478901\n",
      "Train Epoch: 7 [25600/60000 (43%)]\tLoss Char: 0.000000 Loss Font: 1.558277\n",
      "Train Epoch: 7 [32000/60000 (53%)]\tLoss Char: 0.000000 Loss Font: 1.471014\n",
      "Train Epoch: 7 [38400/60000 (64%)]\tLoss Char: 0.000000 Loss Font: 1.535641\n",
      "Train Epoch: 7 [44800/60000 (75%)]\tLoss Char: 0.000000 Loss Font: 1.554401\n",
      "Train Epoch: 7 [51200/60000 (85%)]\tLoss Char: 0.000000 Loss Font: 1.462881\n",
      "Train Epoch: 7 [57600/60000 (96%)]\tLoss Char: 0.000000 Loss Font: 1.563792\n",
      "\n",
      "Test set: Accuracy Char : 0/10000 (0.00%)\n",
      "          Accuracy Font : 3227/10000 (32.27%)\n",
      "Train Epoch: 8 [0/60000 (0%)]\tLoss Char: 0.000000 Loss Font: 1.623521\n",
      "Train Epoch: 8 [6400/60000 (11%)]\tLoss Char: 0.000000 Loss Font: 1.573085\n",
      "Train Epoch: 8 [12800/60000 (21%)]\tLoss Char: 0.000000 Loss Font: 1.465152\n",
      "Train Epoch: 8 [19200/60000 (32%)]\tLoss Char: 0.000000 Loss Font: 1.506393\n",
      "Train Epoch: 8 [25600/60000 (43%)]\tLoss Char: 0.000000 Loss Font: 1.464335\n",
      "Train Epoch: 8 [32000/60000 (53%)]\tLoss Char: 0.000000 Loss Font: 1.506051\n",
      "Train Epoch: 8 [38400/60000 (64%)]\tLoss Char: 0.000000 Loss Font: 1.615875\n",
      "Train Epoch: 8 [44800/60000 (75%)]\tLoss Char: 0.000000 Loss Font: 1.549576\n",
      "Train Epoch: 8 [51200/60000 (85%)]\tLoss Char: 0.000000 Loss Font: 1.495692\n",
      "Train Epoch: 8 [57600/60000 (96%)]\tLoss Char: 0.000000 Loss Font: 1.462843\n",
      "\n",
      "Test set: Accuracy Char : 0/10000 (0.00%)\n",
      "          Accuracy Font : 3381/10000 (33.81%)\n",
      "Train Epoch: 9 [0/60000 (0%)]\tLoss Char: 0.000000 Loss Font: 1.560728\n",
      "Train Epoch: 9 [6400/60000 (11%)]\tLoss Char: 0.000000 Loss Font: 1.451951\n",
      "Train Epoch: 9 [12800/60000 (21%)]\tLoss Char: 0.000000 Loss Font: 1.518270\n",
      "Train Epoch: 9 [19200/60000 (32%)]\tLoss Char: 0.000000 Loss Font: 1.531188\n",
      "Train Epoch: 9 [25600/60000 (43%)]\tLoss Char: 0.000000 Loss Font: 1.487830\n",
      "Train Epoch: 9 [32000/60000 (53%)]\tLoss Char: 0.000000 Loss Font: 1.445520\n",
      "Train Epoch: 9 [38400/60000 (64%)]\tLoss Char: 0.000000 Loss Font: 1.603211\n",
      "Train Epoch: 9 [44800/60000 (75%)]\tLoss Char: 0.000000 Loss Font: 1.500353\n",
      "Train Epoch: 9 [51200/60000 (85%)]\tLoss Char: 0.000000 Loss Font: 1.496972\n",
      "Train Epoch: 9 [57600/60000 (96%)]\tLoss Char: 0.000000 Loss Font: 1.498919\n",
      "\n",
      "Test set: Accuracy Char : 0/10000 (0.00%)\n",
      "          Accuracy Font : 3259/10000 (32.59%)\n",
      "Train Epoch: 10 [0/60000 (0%)]\tLoss Char: 0.000000 Loss Font: 1.505093\n",
      "Train Epoch: 10 [6400/60000 (11%)]\tLoss Char: 0.000000 Loss Font: 1.544929\n",
      "Train Epoch: 10 [12800/60000 (21%)]\tLoss Char: 0.000000 Loss Font: 1.454334\n",
      "Train Epoch: 10 [19200/60000 (32%)]\tLoss Char: 0.000000 Loss Font: 1.524341\n",
      "Train Epoch: 10 [25600/60000 (43%)]\tLoss Char: 0.000000 Loss Font: 1.434272\n",
      "Train Epoch: 10 [32000/60000 (53%)]\tLoss Char: 0.000000 Loss Font: 1.472030\n",
      "Train Epoch: 10 [38400/60000 (64%)]\tLoss Char: 0.000000 Loss Font: 1.459724\n",
      "Train Epoch: 10 [44800/60000 (75%)]\tLoss Char: 0.000000 Loss Font: 1.490126\n",
      "Train Epoch: 10 [51200/60000 (85%)]\tLoss Char: 0.000000 Loss Font: 1.391511\n",
      "Train Epoch: 10 [57600/60000 (96%)]\tLoss Char: 0.000000 Loss Font: 1.541887\n",
      "\n",
      "Test set: Accuracy Char : 0/10000 (0.00%)\n",
      "          Accuracy Font : 3344/10000 (33.44%)\n"
     ]
    },
    {
     "data": {
      "image/png": "[encoded data removed]",
      "text/plain": [
       "<Figure size 720x288 with 1 Axes>"
      ]
     },
     "metadata": {
      "needs_background": "light"
     },
     "output_type": "display_data"
    }
   ],
   "source": [
    "architectures = [[64]]\n",
    "\n",
    "model = None \n",
    "for architecture in architectures:\n",
    "    model = FFNet(architecture, quadratic_model)\n",
    "    _, test_perfs_font = evaluate_resistance(model)\n",
    "    \n",
    "    architecture = ':'.join(map(str, [8] + architecture + [N_FONTS]))\n",
    "    resistance_reports[f\"Collateral task with net {architecture}\"] = test_perfs_font\n",
    "    \n",
    "show_results(resistance_reports, title=\"Resistance of FFNs with CNN protection\")\n"
   ]
  },
  {
   "cell_type": "code",
   "execution_count": 18,
   "metadata": {},
   "outputs": [
    {
     "name": "stdout",
     "output_type": "stream",
     "text": [
      "Training set 60000 items\n",
      "Testing set  10000 items\n"
     ]
    }
   ],
   "source": [
    "train_dataset, test_dataset = get_datasets()"
   ]
  },
  {
   "cell_type": "code",
   "execution_count": 19,
   "metadata": {},
   "outputs": [],
   "source": [
    "\n",
    "def get_pair_distinguish(dataset):\n",
    "    \"\"\"Get two samples with arbitrary character but different font\"\"\"\n",
    "    idx = np.random.randint(len(dataset))\n",
    "    sample1 = dataset[idx]\n",
    "    labels1 = sample1[1]\n",
    "    found = False\n",
    "    while not found:\n",
    "        idx = np.random.randint(len(dataset))\n",
    "        sample2 = dataset[idx]\n",
    "        labels2 = sample2[1]\n",
    "        # If different font\n",
    "        if labels1[1] != labels2[1]:\n",
    "            return sample1, sample2\n",
    "    \n",
    "\n",
    "def test_distinguish(model, test_dataset):\n",
    "    model.eval()\n",
    "    n_tests = 20000\n",
    "    correct_font = 0\n",
    "    acc_by_class = {}\n",
    "    with torch.no_grad():\n",
    "        for i in range(n_tests):\n",
    "            samples = get_pair_distinguish(test_dataset)\n",
    "            \n",
    "            beta = np.random.randint(2)\n",
    "            selected_sample = samples[beta]\n",
    "            \n",
    "            data = selected_sample[0]\n",
    "            target_font = selected_sample[1][1]\n",
    "            #print('***', target_font)\n",
    "            \n",
    "            possible_fonts = [el[1][1].item() for el in samples]\n",
    "            #print(possible_fonts)\n",
    "            filter_output = torch.ones(N_FONTS) * -100\n",
    "            for font in possible_fonts:\n",
    "                filter_output[font] = 0\n",
    "            #print(filter_output)\n",
    "            \n",
    "            output = model.forward_adv_font(data)\n",
    "            \n",
    "            #print(output)\n",
    "            \n",
    "            output = output + filter_output\n",
    "            \n",
    "            #print(output)\n",
    "            \n",
    "            pred = output.argmax(1, keepdim=True)\n",
    "            \n",
    "            is_correct = pred.eq(target_font.view_as(pred)).sum().item()\n",
    "            correct_font += is_correct\n",
    "            \n",
    "            sorted(possible_fonts)\n",
    "            key = '-'.join(map(str, sorted(possible_fonts, reverse=True)))\n",
    "            if key not in acc_by_class:\n",
    "                acc_by_class[key] = [0, 0]\n",
    "            acc_by_class[key][0] += is_correct\n",
    "            acc_by_class[key][1] += 1\n",
    "            \n",
    "            #print('-----')\n",
    "            \n",
    "    print('Acc', round(100*correct_font/n_tests, 2), '%')\n",
    "    \n",
    "    res = []\n",
    "    for k, v in acc_by_class.items():\n",
    "        acc_by_class[k] = (round(100*v[0] / v[1], 2), v[1])\n",
    "        res.append((k, acc_by_class[k][0], acc_by_class[k][1]))\n",
    "        \n",
    "    res = sorted(res, key=lambda x: x[1])\n",
    "        \n",
    "    for r in res:\n",
    "        print(r[0], r[1], '\\t', r[2])\n",
    "        "
   ]
  },
  {
   "cell_type": "code",
   "execution_count": 20,
   "metadata": {},
   "outputs": [
    {
     "name": "stdout",
     "output_type": "stream",
     "text": [
      "Acc 64.8 %\n",
      "3-0 58.11 \t 2017\n",
      "3-2 60.65 \t 1957\n",
      "4-2 62.02 \t 2014\n",
      "2-0 64.31 \t 1880\n",
      "4-0 65.18 \t 2068\n",
      "3-1 65.2 \t 1971\n",
      "4-3 66.1 \t 2065\n",
      "1-0 66.98 \t 2035\n",
      "2-1 67.59 \t 1919\n",
      "4-1 71.55 \t 2074\n"
     ]
    }
   ],
   "source": [
    "test_distinguish(model, test_dataset)"
   ]
  },
  {
   "cell_type": "code",
   "execution_count": 21,
   "metadata": {},
   "outputs": [
    {
     "name": "stdout",
     "output_type": "stream",
     "text": [
      "Acc 65.44 %\n",
      "3-0 57.39 \t 2016\n",
      "4-2 63.28 \t 1991\n",
      "2-0 63.39 \t 1961\n",
      "4-0 64.39 \t 2053\n",
      "3-2 64.47 \t 1956\n",
      "4-3 64.64 \t 2070\n",
      "3-1 65.18 \t 2108\n",
      "1-0 70.1 \t 1953\n",
      "2-1 70.36 \t 1869\n",
      "4-1 71.63 \t 2023\n"
     ]
    }
   ],
   "source": [
    "test_distinguish(model, test_dataset)"
   ]
  },
  {
   "cell_type": "code",
   "execution_count": 22,
   "metadata": {},
   "outputs": [
    {
     "name": "stdout",
     "output_type": "stream",
     "text": [
      "Acc 64.22 %\n",
      "3-0 57.1 \t 2107\n",
      "3-2 60.34 \t 1891\n",
      "4-2 60.35 \t 1985\n",
      "2-0 62.76 \t 1939\n",
      "3-1 63.32 \t 2099\n",
      "4-0 64.31 \t 2034\n",
      "4-3 66.49 \t 2116\n",
      "2-1 66.65 \t 1904\n",
      "1-0 68.4 \t 1940\n",
      "4-1 72.8 \t 1985\n"
     ]
    }
   ],
   "source": [
    "test_distinguish(model, test_dataset)"
   ]
  },
  {
   "cell_type": "markdown",
   "metadata": {},
   "source": [
    "## 3.2 CNN models"
   ]
  },
  {
   "cell_type": "code",
   "execution_count": null,
   "metadata": {},
   "outputs": [],
   "source": []
  },
  {
   "cell_type": "code",
   "execution_count": 23,
   "metadata": {},
   "outputs": [],
   "source": [
    "class CNNet2(BaseNet):\n",
    "    def __init__(self, nn_modules, quadratic_model):\n",
    "        super(CNNet2, self).__init__(quadratic_model)\n",
    "\n",
    "        self.jc = nn.Linear(8, 784)\n",
    "            \n",
    "        self.cv1 = nn.Conv2d(1, 20, 5, 1)\n",
    "        self.cv2 = nn.Conv2d(20, 50, 5, 1)\n",
    "        self.ln1 = nn.Linear(4*4*50, 500)\n",
    "        self.ln2 = nn.Linear(500, N_FONTS)\n",
    "    \n",
    "    def conv_font(self, x):\n",
    "        \n",
    "        x = self.jc(x)\n",
    "        x = x.view(-1, 1, 28, 28)\n",
    "        \n",
    "        # --- CNN\n",
    "        x = F.relu(self.cv1(x))\n",
    "        x = F.max_pool2d(x, 2, 2)\n",
    "        x = F.relu(self.cv2(x))\n",
    "        x = F.max_pool2d(x, 2, 2)\n",
    "        x = x.view(-1, 4*4*50)\n",
    "        x = F.relu(self.ln1(x))\n",
    "        x = self.ln2(x)\n",
    "        return x\n",
    "         "
   ]
  },
  {
   "cell_type": "code",
   "execution_count": 24,
   "metadata": {},
   "outputs": [],
   "source": [
    "class CNNet(BaseNet):\n",
    "    def __init__(self, nn_modules, quadratic_model):\n",
    "        super(CNNet, self).__init__(quadratic_model)\n",
    "        # --- CNNs for font families\n",
    "        self.nn_modules = nn_modules\n",
    "        setattr(self, \"net_0\", nn.Linear(8, 784))\n",
    "        for i_layer, nn_module in enumerate(nn_modules):\n",
    "            setattr(self, f\"net_{i_layer + 1}\", nn_module)\n",
    "    \n",
    "    def conv_font(self, x):\n",
    "        switched_from_conv_lin = False\n",
    "        out_channels = []\n",
    "        # Make the junction\n",
    "        linear = getattr(self, \"net_0\")  \n",
    "        x = linear(x)\n",
    "        x = x.view(-1, 1, 28, 28)\n",
    "        # --- CNN\n",
    "        for i_layer, _ in enumerate(self.nn_modules):\n",
    "            layer = getattr(self, f\"net_{i_layer + 1}\")\n",
    "            if isinstance(layer, nn.Conv2d): # Conv layer\n",
    "                x = F.relu(layer(x))\n",
    "                x = F.max_pool2d(x, 2, 2)\n",
    "                out_channels.append(layer.out_channels)\n",
    "            else: # Linear layer\n",
    "                if not switched_from_conv_lin:\n",
    "                    x = x.view(-1, 4*4*out_channels[-1])\n",
    "                    switched_from_conv_lin = True\n",
    "                if i_layer < len(self.nn_modules) - 1:\n",
    "                    x = F.relu(layer(x))\n",
    "                else:\n",
    "                    x = layer(x)\n",
    "        return x\n",
    "         "
   ]
  },
  {
   "cell_type": "code",
   "execution_count": 25,
   "metadata": {
    "scrolled": true
   },
   "outputs": [
    {
     "name": "stdout",
     "output_type": "stream",
     "text": [
      "Training set 60000 items\n",
      "Testing set  10000 items\n",
      "Train Epoch: 1 [0/60000 (0%)]\tLoss Char: 0.000000 Loss Font: 4.567784\n",
      "Train Epoch: 1 [6400/60000 (11%)]\tLoss Char: 0.000000 Loss Font: 1.583681\n",
      "Train Epoch: 1 [12800/60000 (21%)]\tLoss Char: 0.000000 Loss Font: 1.589296\n",
      "Train Epoch: 1 [19200/60000 (32%)]\tLoss Char: 0.000000 Loss Font: 1.597754\n",
      "Train Epoch: 1 [25600/60000 (43%)]\tLoss Char: 0.000000 Loss Font: 1.565761\n",
      "Train Epoch: 1 [32000/60000 (53%)]\tLoss Char: 0.000000 Loss Font: 1.584847\n",
      "Train Epoch: 1 [38400/60000 (64%)]\tLoss Char: 0.000000 Loss Font: 1.570419\n",
      "Train Epoch: 1 [44800/60000 (75%)]\tLoss Char: 0.000000 Loss Font: 1.567336\n",
      "Train Epoch: 1 [51200/60000 (85%)]\tLoss Char: 0.000000 Loss Font: 1.559918\n",
      "Train Epoch: 1 [57600/60000 (96%)]\tLoss Char: 0.000000 Loss Font: 1.575880\n",
      "\n",
      "Test set: Accuracy Char : 0/10000 (0.00%)\n",
      "          Accuracy Font : 2759/10000 (27.59%)\n",
      "Train Epoch: 2 [0/60000 (0%)]\tLoss Char: 0.000000 Loss Font: 1.579337\n",
      "Train Epoch: 2 [6400/60000 (11%)]\tLoss Char: 0.000000 Loss Font: 1.583392\n",
      "Train Epoch: 2 [12800/60000 (21%)]\tLoss Char: 0.000000 Loss Font: 1.587342\n",
      "Train Epoch: 2 [19200/60000 (32%)]\tLoss Char: 0.000000 Loss Font: 1.591198\n",
      "Train Epoch: 2 [25600/60000 (43%)]\tLoss Char: 0.000000 Loss Font: 1.572777\n",
      "Train Epoch: 2 [32000/60000 (53%)]\tLoss Char: 0.000000 Loss Font: 1.592597\n",
      "Train Epoch: 2 [38400/60000 (64%)]\tLoss Char: 0.000000 Loss Font: 1.575225\n",
      "Train Epoch: 2 [44800/60000 (75%)]\tLoss Char: 0.000000 Loss Font: 1.615896\n",
      "Train Epoch: 2 [51200/60000 (85%)]\tLoss Char: 0.000000 Loss Font: 1.624103\n",
      "Train Epoch: 2 [57600/60000 (96%)]\tLoss Char: 0.000000 Loss Font: 1.568680\n",
      "\n",
      "Test set: Accuracy Char : 0/10000 (0.00%)\n",
      "          Accuracy Font : 2948/10000 (29.48%)\n",
      "Train Epoch: 3 [0/60000 (0%)]\tLoss Char: 0.000000 Loss Font: 1.518966\n",
      "Train Epoch: 3 [6400/60000 (11%)]\tLoss Char: 0.000000 Loss Font: 1.497970\n",
      "Train Epoch: 3 [12800/60000 (21%)]\tLoss Char: 0.000000 Loss Font: 1.573567\n",
      "Train Epoch: 3 [19200/60000 (32%)]\tLoss Char: 0.000000 Loss Font: 1.526398\n",
      "Train Epoch: 3 [25600/60000 (43%)]\tLoss Char: 0.000000 Loss Font: 1.543521\n",
      "Train Epoch: 3 [32000/60000 (53%)]\tLoss Char: 0.000000 Loss Font: 1.586151\n",
      "Train Epoch: 3 [38400/60000 (64%)]\tLoss Char: 0.000000 Loss Font: 1.582643\n",
      "Train Epoch: 3 [44800/60000 (75%)]\tLoss Char: 0.000000 Loss Font: 1.490471\n",
      "Train Epoch: 3 [51200/60000 (85%)]\tLoss Char: 0.000000 Loss Font: 1.502114\n",
      "Train Epoch: 3 [57600/60000 (96%)]\tLoss Char: 0.000000 Loss Font: 1.527326\n",
      "\n",
      "Test set: Accuracy Char : 0/10000 (0.00%)\n",
      "          Accuracy Font : 3308/10000 (33.08%)\n",
      "Train Epoch: 4 [0/60000 (0%)]\tLoss Char: 0.000000 Loss Font: 1.563392\n",
      "Train Epoch: 4 [6400/60000 (11%)]\tLoss Char: 0.000000 Loss Font: 1.531386\n",
      "Train Epoch: 4 [12800/60000 (21%)]\tLoss Char: 0.000000 Loss Font: 1.467034\n",
      "Train Epoch: 4 [19200/60000 (32%)]\tLoss Char: 0.000000 Loss Font: 1.451552\n",
      "Train Epoch: 4 [25600/60000 (43%)]\tLoss Char: 0.000000 Loss Font: 1.490439\n",
      "Train Epoch: 4 [32000/60000 (53%)]\tLoss Char: 0.000000 Loss Font: 1.600219\n",
      "Train Epoch: 4 [38400/60000 (64%)]\tLoss Char: 0.000000 Loss Font: 1.495165\n",
      "Train Epoch: 4 [44800/60000 (75%)]\tLoss Char: 0.000000 Loss Font: 1.510510\n",
      "Train Epoch: 4 [51200/60000 (85%)]\tLoss Char: 0.000000 Loss Font: 1.462634\n",
      "Train Epoch: 4 [57600/60000 (96%)]\tLoss Char: 0.000000 Loss Font: 1.463726\n",
      "\n",
      "Test set: Accuracy Char : 0/10000 (0.00%)\n",
      "          Accuracy Font : 3608/10000 (36.08%)\n",
      "Train Epoch: 5 [0/60000 (0%)]\tLoss Char: 0.000000 Loss Font: 1.481435\n",
      "Train Epoch: 5 [6400/60000 (11%)]\tLoss Char: 0.000000 Loss Font: 1.473765\n",
      "Train Epoch: 5 [12800/60000 (21%)]\tLoss Char: 0.000000 Loss Font: 1.394829\n",
      "Train Epoch: 5 [19200/60000 (32%)]\tLoss Char: 0.000000 Loss Font: 1.548920\n",
      "Train Epoch: 5 [25600/60000 (43%)]\tLoss Char: 0.000000 Loss Font: 1.518602\n",
      "Train Epoch: 5 [32000/60000 (53%)]\tLoss Char: 0.000000 Loss Font: 1.439857\n",
      "Train Epoch: 5 [38400/60000 (64%)]\tLoss Char: 0.000000 Loss Font: 1.519858\n",
      "Train Epoch: 5 [44800/60000 (75%)]\tLoss Char: 0.000000 Loss Font: 1.451725\n",
      "Train Epoch: 5 [51200/60000 (85%)]\tLoss Char: 0.000000 Loss Font: 1.449947\n",
      "Train Epoch: 5 [57600/60000 (96%)]\tLoss Char: 0.000000 Loss Font: 1.455738\n",
      "\n",
      "Test set: Accuracy Char : 0/10000 (0.00%)\n",
      "          Accuracy Font : 3871/10000 (38.71%)\n",
      "Train Epoch: 6 [0/60000 (0%)]\tLoss Char: 0.000000 Loss Font: 1.438944\n",
      "Train Epoch: 6 [6400/60000 (11%)]\tLoss Char: 0.000000 Loss Font: 1.542356\n",
      "Train Epoch: 6 [12800/60000 (21%)]\tLoss Char: 0.000000 Loss Font: 1.459964\n",
      "Train Epoch: 6 [19200/60000 (32%)]\tLoss Char: 0.000000 Loss Font: 1.304806\n",
      "Train Epoch: 6 [25600/60000 (43%)]\tLoss Char: 0.000000 Loss Font: 1.407155\n",
      "Train Epoch: 6 [32000/60000 (53%)]\tLoss Char: 0.000000 Loss Font: 1.514606\n",
      "Train Epoch: 6 [38400/60000 (64%)]\tLoss Char: 0.000000 Loss Font: 1.379315\n",
      "Train Epoch: 6 [44800/60000 (75%)]\tLoss Char: 0.000000 Loss Font: 1.326113\n",
      "Train Epoch: 6 [51200/60000 (85%)]\tLoss Char: 0.000000 Loss Font: 1.389891\n",
      "Train Epoch: 6 [57600/60000 (96%)]\tLoss Char: 0.000000 Loss Font: 1.338343\n",
      "\n",
      "Test set: Accuracy Char : 0/10000 (0.00%)\n",
      "          Accuracy Font : 3537/10000 (35.37%)\n",
      "Train Epoch: 7 [0/60000 (0%)]\tLoss Char: 0.000000 Loss Font: 1.545165\n",
      "Train Epoch: 7 [6400/60000 (11%)]\tLoss Char: 0.000000 Loss Font: 1.351742\n",
      "Train Epoch: 7 [12800/60000 (21%)]\tLoss Char: 0.000000 Loss Font: 1.335123\n",
      "Train Epoch: 7 [19200/60000 (32%)]\tLoss Char: 0.000000 Loss Font: 1.360462\n",
      "Train Epoch: 7 [25600/60000 (43%)]\tLoss Char: 0.000000 Loss Font: 1.334644\n",
      "Train Epoch: 7 [32000/60000 (53%)]\tLoss Char: 0.000000 Loss Font: 1.328435\n",
      "Train Epoch: 7 [38400/60000 (64%)]\tLoss Char: 0.000000 Loss Font: 1.469804\n",
      "Train Epoch: 7 [44800/60000 (75%)]\tLoss Char: 0.000000 Loss Font: 1.467998\n",
      "Train Epoch: 7 [51200/60000 (85%)]\tLoss Char: 0.000000 Loss Font: 1.366151\n",
      "Train Epoch: 7 [57600/60000 (96%)]\tLoss Char: 0.000000 Loss Font: 1.504221\n",
      "\n",
      "Test set: Accuracy Char : 0/10000 (0.00%)\n",
      "          Accuracy Font : 4287/10000 (42.87%)\n",
      "Train Epoch: 8 [0/60000 (0%)]\tLoss Char: 0.000000 Loss Font: 1.477695\n",
      "Train Epoch: 8 [6400/60000 (11%)]\tLoss Char: 0.000000 Loss Font: 1.349150\n",
      "Train Epoch: 8 [12800/60000 (21%)]\tLoss Char: 0.000000 Loss Font: 1.309026\n",
      "Train Epoch: 8 [19200/60000 (32%)]\tLoss Char: 0.000000 Loss Font: 1.379462\n",
      "Train Epoch: 8 [25600/60000 (43%)]\tLoss Char: 0.000000 Loss Font: 1.337900\n",
      "Train Epoch: 8 [32000/60000 (53%)]\tLoss Char: 0.000000 Loss Font: 1.374052\n",
      "Train Epoch: 8 [38400/60000 (64%)]\tLoss Char: 0.000000 Loss Font: 1.460948\n",
      "Train Epoch: 8 [44800/60000 (75%)]\tLoss Char: 0.000000 Loss Font: 1.358082\n",
      "Train Epoch: 8 [51200/60000 (85%)]\tLoss Char: 0.000000 Loss Font: 1.374594\n",
      "Train Epoch: 8 [57600/60000 (96%)]\tLoss Char: 0.000000 Loss Font: 1.306072\n",
      "\n",
      "Test set: Accuracy Char : 0/10000 (0.00%)\n",
      "          Accuracy Font : 4093/10000 (40.93%)\n",
      "Train Epoch: 9 [0/60000 (0%)]\tLoss Char: 0.000000 Loss Font: 1.379416\n",
      "Train Epoch: 9 [6400/60000 (11%)]\tLoss Char: 0.000000 Loss Font: 1.312365\n",
      "Train Epoch: 9 [12800/60000 (21%)]\tLoss Char: 0.000000 Loss Font: 1.318921\n",
      "Train Epoch: 9 [19200/60000 (32%)]\tLoss Char: 0.000000 Loss Font: 1.309644\n",
      "Train Epoch: 9 [25600/60000 (43%)]\tLoss Char: 0.000000 Loss Font: 1.322119\n",
      "Train Epoch: 9 [32000/60000 (53%)]\tLoss Char: 0.000000 Loss Font: 1.229257\n",
      "Train Epoch: 9 [38400/60000 (64%)]\tLoss Char: 0.000000 Loss Font: 1.497790\n",
      "Train Epoch: 9 [44800/60000 (75%)]\tLoss Char: 0.000000 Loss Font: 1.209449\n",
      "Train Epoch: 9 [51200/60000 (85%)]\tLoss Char: 0.000000 Loss Font: 1.330096\n",
      "Train Epoch: 9 [57600/60000 (96%)]\tLoss Char: 0.000000 Loss Font: 1.324091\n",
      "\n",
      "Test set: Accuracy Char : 0/10000 (0.00%)\n",
      "          Accuracy Font : 4197/10000 (41.97%)\n",
      "Train Epoch: 10 [0/60000 (0%)]\tLoss Char: 0.000000 Loss Font: 1.407174\n",
      "Train Epoch: 10 [6400/60000 (11%)]\tLoss Char: 0.000000 Loss Font: 1.400394\n",
      "Train Epoch: 10 [12800/60000 (21%)]\tLoss Char: 0.000000 Loss Font: 1.298555\n",
      "Train Epoch: 10 [19200/60000 (32%)]\tLoss Char: 0.000000 Loss Font: 1.360920\n",
      "Train Epoch: 10 [25600/60000 (43%)]\tLoss Char: 0.000000 Loss Font: 1.207923\n",
      "Train Epoch: 10 [32000/60000 (53%)]\tLoss Char: 0.000000 Loss Font: 1.280194\n",
      "Train Epoch: 10 [38400/60000 (64%)]\tLoss Char: 0.000000 Loss Font: 1.299121\n",
      "Train Epoch: 10 [44800/60000 (75%)]\tLoss Char: 0.000000 Loss Font: 1.221730\n",
      "Train Epoch: 10 [51200/60000 (85%)]\tLoss Char: 0.000000 Loss Font: 1.168615\n"
     ]
    },
    {
     "name": "stdout",
     "output_type": "stream",
     "text": [
      "Train Epoch: 10 [57600/60000 (96%)]\tLoss Char: 0.000000 Loss Font: 1.355709\n",
      "\n",
      "Test set: Accuracy Char : 0/10000 (0.00%)\n",
      "          Accuracy Font : 4419/10000 (44.19%)\n"
     ]
    },
    {
     "data": {
      "image/png": "[encoded data removed]",
      "text/plain": [
       "<Figure size 720x288 with 1 Axes>"
      ]
     },
     "metadata": {
      "needs_background": "light"
     },
     "output_type": "display_data"
    }
   ],
   "source": [
    "architectures = [\n",
    "    (\n",
    "        nn.Conv2d(1, 20, 5, 1),\n",
    "        nn.Conv2d(20, 50, 5, 1),\n",
    "        nn.Linear(4*4*50, 500),\n",
    "        nn.Linear(500, N_FONTS)\n",
    "    )\n",
    "]\n",
    "# ,\n",
    "#    (\n",
    "#        nn.Conv2d(1, 30, 4, 1),\n",
    "#        nn.Conv2d(30, 100, 4),\n",
    "#        nn.Linear(100 * 4 * 4, 1000),\n",
    "#        nn.Linear(1000, 100),\n",
    "#        nn.Linear(100, N_FONTS)\n",
    "#    )\n",
    "for i, architecture in enumerate(architectures):\n",
    "    model = CNNet(architecture, quadratic_model)\n",
    "    _, test_perfs_font = evaluate_resistance(model)\n",
    "    \n",
    "    resistance_reports[f\"Collateral task with CNN {i}\"] = test_perfs_font\n",
    "    \n",
    "show_results(resistance_reports, title=\"Resistance of CNNs with CNN protection\")"
   ]
  },
  {
   "cell_type": "code",
   "execution_count": 26,
   "metadata": {},
   "outputs": [
    {
     "data": {
      "text/plain": [
       "CNNet(\n",
       "  (proj1): Linear(in_features=784, out_features=50, bias=True)\n",
       "  (diag1): Linear(in_features=50, out_features=8, bias=True)\n",
       "  (net_0): Linear(in_features=8, out_features=784, bias=True)\n",
       "  (net_1): Conv2d(1, 20, kernel_size=(5, 5), stride=(1, 1))\n",
       "  (net_2): Conv2d(20, 50, kernel_size=(5, 5), stride=(1, 1))\n",
       "  (net_3): Linear(in_features=800, out_features=500, bias=True)\n",
       "  (net_4): Linear(in_features=500, out_features=5, bias=True)\n",
       ")"
      ]
     },
     "execution_count": 26,
     "metadata": {},
     "output_type": "execute_result"
    }
   ],
   "source": [
    "model"
   ]
  },
  {
   "cell_type": "code",
   "execution_count": 27,
   "metadata": {},
   "outputs": [
    {
     "name": "stdout",
     "output_type": "stream",
     "text": [
      "Acc 73.88 %\n",
      "3-0 64.76 \t 2043\n",
      "4-2 68.65 \t 2013\n",
      "4-0 72.02 \t 2037\n",
      "2-0 73.22 \t 1908\n",
      "3-2 74.24 \t 1984\n",
      "2-1 74.88 \t 1903\n",
      "3-1 75.31 \t 2009\n",
      "4-3 75.76 \t 2100\n",
      "1-0 78.93 \t 1970\n",
      "4-1 81.11 \t 2033\n"
     ]
    }
   ],
   "source": [
    "test_distinguish(model, test_dataset)"
   ]
  },
  {
   "cell_type": "code",
   "execution_count": 28,
   "metadata": {},
   "outputs": [
    {
     "name": "stdout",
     "output_type": "stream",
     "text": [
      "Acc 73.94 %\n",
      "3-0 65.4 \t 2029\n",
      "4-2 69.91 \t 2004\n",
      "4-0 71.81 \t 2072\n",
      "3-1 73.38 \t 1961\n",
      "4-3 73.63 \t 2059\n",
      "2-0 74.45 \t 2000\n",
      "2-1 75.12 \t 1873\n",
      "3-2 75.65 \t 1996\n",
      "1-0 77.83 \t 2030\n",
      "4-1 82.54 \t 1976\n"
     ]
    }
   ],
   "source": [
    "test_distinguish(model, test_dataset)"
   ]
  },
  {
   "cell_type": "markdown",
   "metadata": {},
   "source": [
    "## Summary"
   ]
  },
  {
   "cell_type": "markdown",
   "metadata": {},
   "source": [
    "First, recall that the lowest accuracy is 50%, so any result close to 50% means that the resistance is effective. For the FFN, we observe a 67% accuracy, which is not that high and indicates that the collateral model is struggling to distinguish fonts. We have provide the accuracy also for the couples of font distinguished, because all distinction are not of the same difficulty. For example 3-0 which stands for Georgia-serif is hard while 4-1 (cursive-arial) is more easy.\n",
    "For the CNN, the distinction is made more efficienty, in 3/4 of the times, which seems more problematic. We see that the model orders the couple to distinguish by the same order of difficulty than the FFN.\n",
    "\n",
    "Here is a representation of the fonts which can help confirming the distinction difficulty reported by the models."
   ]
  },
  {
   "cell_type": "code",
   "execution_count": 29,
   "metadata": {},
   "outputs": [],
   "source": [
    "import matplotlib.pyplot as plt"
   ]
  },
  {
   "cell_type": "code",
   "execution_count": 30,
   "metadata": {},
   "outputs": [],
   "source": [
    "families = ['serif', 'cursive', 'fantasy', 'Georgia', 'arial']"
   ]
  },
  {
   "cell_type": "code",
   "execution_count": 31,
   "metadata": {},
   "outputs": [
    {
     "data": {
      "image/png": "[encoded data removed]",
      "text/plain": [
       "<Figure size 864x144 with 5 Axes>"
      ]
     },
     "metadata": {
      "needs_background": "light"
     },
     "output_type": "display_data"
    }
   ],
   "source": [
    "plt.figure(figsize=(12,2))\n",
    "for i, family in enumerate(families):\n",
    "    ax = plt.subplot(1, 5, i+1)\n",
    "    ax.set_title(f'{i} {family}')\n",
    "    ax.text(0.3, 0.4, 'abc', size=50, family=family)\n",
    "\n",
    "    # Rm axes, draw and get the rgba shape of the letter\n",
    "    plt.axis('off')\n",
    "plt.show()"
   ]
  },
  {
   "cell_type": "code",
   "execution_count": null,
   "metadata": {},
   "outputs": [],
   "source": []
  }
 ],
 "metadata": {
  "kernelspec": {
   "display_name": "Python 3",
   "language": "python",
   "name": "python3"
  },
  "language_info": {
   "codemirror_mode": {
    "name": "ipython",
    "version": 3
   },
   "file_extension": ".py",
   "mimetype": "text/x-python",
   "name": "python",
   "nbconvert_exporter": "python",
   "pygments_lexer": "ipython3",
   "version": "3.7.0"
  }
 },
 "nbformat": 4,
 "nbformat_minor": 2
}
