{
 "cells": [
  {
   "cell_type": "markdown",
   "metadata": {},
   "source": [
    "# Functional Encryption - Classification and information leakage\n",
    "\n",
    "\n",
    "## Purpose\n",
    "\n",
    "We do like part 4 except we put a public network over the private output not only for the collateral task but also for main one.\n",
    "\n",
    "Actually, we also provide more epochs for the main task to train as this training is fast and more epochs are required when the model gets deeper. The model isn't deeper for the collateral task so we don't have to increase the number of epochs there.\n",
    "\n",
    "More over, we provide a parameter `PRIVATE_OUTPUT_SIZE = 26` which controls the size of the private output, as this doesn't need anymore to be 26 for we have another public network on top of it. For now we leave it to 26.\n"
   ]
  },
  {
   "cell_type": "markdown",
   "metadata": {},
   "source": [
    "# 3 Collateral Learning\n"
   ]
  },
  {
   "cell_type": "markdown",
   "metadata": {},
   "source": [
    "We will use the code directly from the repo, to make the notebook more readable. Functions are similar to those presented earlier."
   ]
  },
  {
   "cell_type": "code",
   "execution_count": 1,
   "metadata": {},
   "outputs": [],
   "source": [
    "# Allow to load packages from parent\n",
    "import sys, os\n",
    "sys.path.insert(1, os.path.realpath(os.path.pardir))"
   ]
  },
  {
   "cell_type": "code",
   "execution_count": 2,
   "metadata": {},
   "outputs": [],
   "source": [
    "import torch\n",
    "import torch.nn as nn\n",
    "import torch.nn.functional as F\n",
    "\n",
    "import learn\n",
    "from learn import main, train, test, show_results, show_confusion_matrix"
   ]
  },
  {
   "cell_type": "markdown",
   "metadata": {},
   "source": [
    "## 3.1 Loading the quadratic baseline\n",
    "Let's train the baseline model and this how we can use its output to train a \"adversarial/collateral\" network!"
   ]
  },
  {
   "cell_type": "code",
   "execution_count": 3,
   "metadata": {},
   "outputs": [],
   "source": [
    "PRIVATE_OUTPUT_SIZE = 26\n",
    "N_CHARS = 26\n",
    "\n",
    "class QuadNet(nn.Module):\n",
    "    def __init__(self):\n",
    "        super(QuadNet, self).__init__()\n",
    "        self.proj1 = nn.Linear(784, 50)\n",
    "        self.diag1 = nn.Linear(50, PRIVATE_OUTPUT_SIZE)\n",
    "        \n",
    "        # --- FFN for characters\n",
    "        self.lin1 = nn.Linear(PRIVATE_OUTPUT_SIZE, 16)\n",
    "        self.lin2 = nn.Linear(16, N_CHARS)\n",
    "\n",
    "    def forward(self, x):\n",
    "        x = x.view(-1, 784)\n",
    "        x = self.proj1(x)\n",
    "        x = x * x\n",
    "        x = self.diag1(x)\n",
    "        \n",
    "        x = F.relu(self.lin1(x))\n",
    "        x = self.lin2(x)\n",
    "        return F.log_softmax(x, dim=1)\n",
    "    \n",
    "    def transform(self, x):\n",
    "        \"\"\"Same as forward but without the log_softmax\"\"\"\n",
    "        x = x.view(-1, 784)\n",
    "        x = self.proj1(x)\n",
    "        x = x * x\n",
    "        x = self.diag1(x)\n",
    "        return x"
   ]
  },
  {
   "cell_type": "code",
   "execution_count": 4,
   "metadata": {
    "scrolled": true
   },
   "outputs": [
    {
     "name": "stdout",
     "output_type": "stream",
     "text": [
      "Training set 60000 items\n",
      "Testing set  10000 items\n",
      "Learning on char with quad \n",
      "Train Epoch: 1 [0/60000 (0%)]\tLoss: 3.389418\n",
      "Train Epoch: 1 [19200/60000 (32%)]\tLoss: 2.225192\n",
      "Train Epoch: 1 [38400/60000 (64%)]\tLoss: 1.104812\n",
      "Train Epoch: 1 [57600/60000 (96%)]\tLoss: 1.117243\n",
      "\n",
      "Test set: Average loss: 0.6908, Accuracy: 7785/10000 (77.85%)\n",
      "\n",
      "Train Epoch: 2 [0/60000 (0%)]\tLoss: 1.022729\n",
      "Train Epoch: 2 [19200/60000 (32%)]\tLoss: 0.697004\n",
      "Train Epoch: 2 [38400/60000 (64%)]\tLoss: 0.688055\n",
      "Train Epoch: 2 [57600/60000 (96%)]\tLoss: 0.468081\n",
      "\n",
      "Test set: Average loss: 0.4380, Accuracy: 8616/10000 (86.16%)\n",
      "\n",
      "Train Epoch: 3 [0/60000 (0%)]\tLoss: 0.638604\n",
      "Train Epoch: 3 [19200/60000 (32%)]\tLoss: 0.554180\n",
      "Train Epoch: 3 [38400/60000 (64%)]\tLoss: 0.312565\n",
      "Train Epoch: 3 [57600/60000 (96%)]\tLoss: 0.361070\n",
      "\n",
      "Test set: Average loss: 0.3730, Accuracy: 8807/10000 (88.07%)\n",
      "\n",
      "Train Epoch: 4 [0/60000 (0%)]\tLoss: 0.491259\n",
      "Train Epoch: 4 [19200/60000 (32%)]\tLoss: 0.455272\n",
      "Train Epoch: 4 [38400/60000 (64%)]\tLoss: 0.448896\n",
      "Train Epoch: 4 [57600/60000 (96%)]\tLoss: 0.564415\n",
      "\n",
      "Test set: Average loss: 0.3274, Accuracy: 8996/10000 (89.96%)\n",
      "\n",
      "Train Epoch: 5 [0/60000 (0%)]\tLoss: 0.386529\n",
      "Train Epoch: 5 [19200/60000 (32%)]\tLoss: 0.418060\n",
      "Train Epoch: 5 [38400/60000 (64%)]\tLoss: 0.296133\n",
      "Train Epoch: 5 [57600/60000 (96%)]\tLoss: 0.295343\n",
      "\n",
      "Test set: Average loss: 0.2875, Accuracy: 9127/10000 (91.27%)\n",
      "\n",
      "Train Epoch: 6 [0/60000 (0%)]\tLoss: 0.363184\n",
      "Train Epoch: 6 [19200/60000 (32%)]\tLoss: 0.209843\n",
      "Train Epoch: 6 [38400/60000 (64%)]\tLoss: 0.428138\n",
      "Train Epoch: 6 [57600/60000 (96%)]\tLoss: 0.291234\n",
      "\n",
      "Test set: Average loss: 0.2109, Accuracy: 9407/10000 (94.07%)\n",
      "\n",
      "Train Epoch: 7 [0/60000 (0%)]\tLoss: 0.406966\n",
      "Train Epoch: 7 [19200/60000 (32%)]\tLoss: 0.251360\n",
      "Train Epoch: 7 [38400/60000 (64%)]\tLoss: 0.309581\n",
      "Train Epoch: 7 [57600/60000 (96%)]\tLoss: 0.404694\n",
      "\n",
      "Test set: Average loss: 0.2704, Accuracy: 9169/10000 (91.69%)\n",
      "\n",
      "Train Epoch: 8 [0/60000 (0%)]\tLoss: 0.468454\n",
      "Train Epoch: 8 [19200/60000 (32%)]\tLoss: 0.298405\n",
      "Train Epoch: 8 [38400/60000 (64%)]\tLoss: 0.335043\n",
      "Train Epoch: 8 [57600/60000 (96%)]\tLoss: 0.221466\n",
      "\n",
      "Test set: Average loss: 0.2129, Accuracy: 9405/10000 (94.05%)\n",
      "\n",
      "Train Epoch: 9 [0/60000 (0%)]\tLoss: 0.342599\n",
      "Train Epoch: 9 [19200/60000 (32%)]\tLoss: 0.298111\n",
      "Train Epoch: 9 [38400/60000 (64%)]\tLoss: 0.302483\n",
      "Train Epoch: 9 [57600/60000 (96%)]\tLoss: 0.281064\n",
      "\n",
      "Test set: Average loss: 0.2053, Accuracy: 9418/10000 (94.18%)\n",
      "\n",
      "Train Epoch: 10 [0/60000 (0%)]\tLoss: 0.244026\n",
      "Train Epoch: 10 [19200/60000 (32%)]\tLoss: 0.321229\n",
      "Train Epoch: 10 [38400/60000 (64%)]\tLoss: 0.265925\n",
      "Train Epoch: 10 [57600/60000 (96%)]\tLoss: 0.317089\n",
      "\n",
      "Test set: Average loss: 0.2389, Accuracy: 9286/10000 (92.86%)\n",
      "\n",
      "Train Epoch: 11 [0/60000 (0%)]\tLoss: 0.390120\n",
      "Train Epoch: 11 [19200/60000 (32%)]\tLoss: 0.254761\n",
      "Train Epoch: 11 [38400/60000 (64%)]\tLoss: 0.390738\n",
      "Train Epoch: 11 [57600/60000 (96%)]\tLoss: 0.283476\n",
      "\n",
      "Test set: Average loss: 0.1814, Accuracy: 9489/10000 (94.89%)\n",
      "\n",
      "Train Epoch: 12 [0/60000 (0%)]\tLoss: 0.193827\n",
      "Train Epoch: 12 [19200/60000 (32%)]\tLoss: 0.333772\n",
      "Train Epoch: 12 [38400/60000 (64%)]\tLoss: 0.367259\n",
      "Train Epoch: 12 [57600/60000 (96%)]\tLoss: 0.224733\n",
      "\n",
      "Test set: Average loss: 0.1770, Accuracy: 9492/10000 (94.92%)\n",
      "\n",
      "Train Epoch: 13 [0/60000 (0%)]\tLoss: 0.317861\n",
      "Train Epoch: 13 [19200/60000 (32%)]\tLoss: 0.210921\n",
      "Train Epoch: 13 [38400/60000 (64%)]\tLoss: 0.421103\n",
      "Train Epoch: 13 [57600/60000 (96%)]\tLoss: 0.287263\n",
      "\n",
      "Test set: Average loss: 0.1787, Accuracy: 9476/10000 (94.76%)\n",
      "\n",
      "Train Epoch: 14 [0/60000 (0%)]\tLoss: 0.274237\n",
      "Train Epoch: 14 [19200/60000 (32%)]\tLoss: 0.307915\n",
      "Train Epoch: 14 [38400/60000 (64%)]\tLoss: 0.523612\n",
      "Train Epoch: 14 [57600/60000 (96%)]\tLoss: 0.292569\n",
      "\n",
      "Test set: Average loss: 0.1769, Accuracy: 9457/10000 (94.57%)\n",
      "\n",
      "Train Epoch: 15 [0/60000 (0%)]\tLoss: 0.199281\n",
      "Train Epoch: 15 [19200/60000 (32%)]\tLoss: 0.235846\n",
      "Train Epoch: 15 [38400/60000 (64%)]\tLoss: 0.357758\n",
      "Train Epoch: 15 [57600/60000 (96%)]\tLoss: 0.332640\n",
      "\n",
      "Test set: Average loss: 0.2171, Accuracy: 9353/10000 (93.53%)\n",
      "\n",
      "Train Epoch: 16 [0/60000 (0%)]\tLoss: 0.262278\n",
      "Train Epoch: 16 [19200/60000 (32%)]\tLoss: 0.174383\n",
      "Train Epoch: 16 [38400/60000 (64%)]\tLoss: 0.257567\n",
      "Train Epoch: 16 [57600/60000 (96%)]\tLoss: 0.244480\n",
      "\n",
      "Test set: Average loss: 0.1841, Accuracy: 9466/10000 (94.66%)\n",
      "\n",
      "Train Epoch: 17 [0/60000 (0%)]\tLoss: 0.239903\n",
      "Train Epoch: 17 [19200/60000 (32%)]\tLoss: 0.327705\n",
      "Train Epoch: 17 [38400/60000 (64%)]\tLoss: 0.197647\n",
      "Train Epoch: 17 [57600/60000 (96%)]\tLoss: 0.248870\n",
      "\n",
      "Test set: Average loss: 0.4423, Accuracy: 8626/10000 (86.26%)\n",
      "\n",
      "Train Epoch: 18 [0/60000 (0%)]\tLoss: 0.695912\n",
      "Train Epoch: 18 [19200/60000 (32%)]\tLoss: 0.261519\n",
      "Train Epoch: 18 [38400/60000 (64%)]\tLoss: 0.473333\n",
      "Train Epoch: 18 [57600/60000 (96%)]\tLoss: 0.351205\n",
      "\n",
      "Test set: Average loss: 0.1853, Accuracy: 9448/10000 (94.48%)\n",
      "\n",
      "Train Epoch: 19 [0/60000 (0%)]\tLoss: 0.224805\n",
      "Train Epoch: 19 [19200/60000 (32%)]\tLoss: 0.201729\n",
      "Train Epoch: 19 [38400/60000 (64%)]\tLoss: 0.219984\n",
      "Train Epoch: 19 [57600/60000 (96%)]\tLoss: 0.277918\n",
      "\n",
      "Test set: Average loss: 0.2016, Accuracy: 9404/10000 (94.04%)\n",
      "\n",
      "Train Epoch: 20 [0/60000 (0%)]\tLoss: 0.266311\n",
      "Train Epoch: 20 [19200/60000 (32%)]\tLoss: 0.282272\n",
      "Train Epoch: 20 [38400/60000 (64%)]\tLoss: 0.313212\n",
      "Train Epoch: 20 [57600/60000 (96%)]\tLoss: 0.186318\n",
      "\n",
      "Test set: Average loss: 0.1856, Accuracy: 9434/10000 (94.34%)\n",
      "\n"
     ]
    }
   ],
   "source": [
    "results = {}\n",
    "quad_model = QuadNet()\n",
    "results[f'Main task {PRIVATE_OUTPUT_SIZE}'], model, pred_labels = main(model=quad_model, epochs=20, model_type='quad', task='char', return_model=True, return_pred_label=True)\n"
   ]
  },
  {
   "cell_type": "markdown",
   "metadata": {},
   "source": [
    "We save the model so that we won't have to train it again. _Make sure have the correct path and directories._"
   ]
  },
  {
   "cell_type": "code",
   "execution_count": 5,
   "metadata": {},
   "outputs": [],
   "source": [
    "torch.save(model.state_dict(), '../data/models/quad_char.pt')"
   ]
  },
  {
   "cell_type": "markdown",
   "metadata": {},
   "source": [
    "Let's also show the confusion matrix"
   ]
  },
  {
   "cell_type": "code",
   "execution_count": 6,
   "metadata": {},
   "outputs": [
    {
     "data": {
      "image/png": "[encoded data removed]",
      "text/plain": [
       "<Figure size 1008x1008 with 2 Axes>"
      ]
     },
     "metadata": {
      "needs_background": "light"
     },
     "output_type": "display_data"
    }
   ],
   "source": [
    "show_confusion_matrix(pred_labels, task='char')"
   ]
  },
  {
   "cell_type": "markdown",
   "metadata": {},
   "source": [
    "## 2.2 Setting up the adversarial task\n",
    "\n",
    "We will now use the output of the trained baseline model which is freezed as an input of another model called the `adversarial_model` which will try to predict on another task, namely the family recognition"
   ]
  },
  {
   "cell_type": "markdown",
   "metadata": {},
   "source": [
    "There are little change compared to the usual test, train and main functions."
   ]
  },
  {
   "cell_type": "code",
   "execution_count": 7,
   "metadata": {},
   "outputs": [],
   "source": [
    "def adversarial_train(args, adversarial_model, model, train_loader, adv_optimizer, epoch):\n",
    "    adversarial_model.train()\n",
    "    for batch_idx, (data, target) in enumerate(train_loader):\n",
    "        data = model.transform(data)  # <-- This is new\n",
    "        adv_optimizer.zero_grad()\n",
    "        output = adversarial_model(data)\n",
    "        loss = F.nll_loss(output, target)\n",
    "\n",
    "        loss.backward()\n",
    "        adv_optimizer.step()\n",
    "        if batch_idx % args.log_interval == 0:\n",
    "            print('Train Epoch: {} [{}/{} ({:.0f}%)]\\tLoss: {:.6f}'.format(\n",
    "                epoch, batch_idx * len(data), len(train_loader.dataset),\n",
    "                       100. * batch_idx / len(train_loader), loss.item()))\n",
    "\n",
    "\n",
    "def adversarial_test(args, adversarial_model, model, test_loader):\n",
    "    adversarial_model.eval()\n",
    "    test_loss = 0\n",
    "    correct = 0\n",
    "    pred_labels = None\n",
    "    with torch.no_grad():\n",
    "        for data, target in test_loader:\n",
    "            data = model.transform(data) # <-- This is new\n",
    "            output = adversarial_model(data)\n",
    "            test_loss += F.nll_loss(output, target, reduction='sum').item()  # sum up batch loss\n",
    "            pred = output.argmax(dim=1, keepdim=True)  # get the index of the max log-probability\n",
    "            correct += pred.eq(target.view_as(pred)).sum().item()\n",
    "            \n",
    "            pred_labels_batch = torch.stack((pred, target.view_as(pred))).view(2, args.test_batch_size)\n",
    "            if pred_labels is None:\n",
    "                pred_labels = pred_labels_batch\n",
    "            else:\n",
    "                pred_labels = torch.cat((pred_labels, pred_labels_batch), dim=1).view(2, -1)\n",
    "\n",
    "    test_loss /= len(test_loader.dataset)\n",
    "\n",
    "    acc = 100. * correct / len(test_loader.dataset)\n",
    "    print('\\nTest set: Average loss: {:.4f}, Accuracy: {}/{} ({:.2f}%)\\n'.format(\n",
    "        test_loss, correct, len(test_loader.dataset), acc))\n",
    "    \n",
    "    return acc, pred_labels.transpose(0, 1)\n"
   ]
  },
  {
   "cell_type": "markdown",
   "metadata": {},
   "source": [
    "This is the Adversarial model that we will use. We use the same CNN structure as seen previously."
   ]
  },
  {
   "cell_type": "code",
   "execution_count": 8,
   "metadata": {},
   "outputs": [],
   "source": [
    "class AdversarialCNN(nn.Module):\n",
    "    def __init__(self, output_size):\n",
    "        super(AdversarialCNN, self).__init__()\n",
    "        self.lin1 = nn.Linear(PRIVATE_OUTPUT_SIZE, 784)\n",
    "        self.conv1 = nn.Conv2d(1, 20, 5, 1)\n",
    "        self.conv2 = nn.Conv2d(20, 50, 5, 1)\n",
    "        self.fc1 = nn.Linear(4*4*50, 500)\n",
    "        self.fc2 = nn.Linear(500, output_size)\n",
    "\n",
    "    def forward(self, x):\n",
    "        x = self.lin1(x)\n",
    "        x = x.view(-1, 1, 28, 28)\n",
    "        x = F.relu(self.conv1(x))\n",
    "        x = F.max_pool2d(x, 2, 2)\n",
    "        x = F.relu(self.conv2(x))\n",
    "        x = F.max_pool2d(x, 2, 2)\n",
    "        x = x.view(-1, 4*4*50)\n",
    "        x = F.relu(self.fc1(x))\n",
    "        x = self.fc2(x)\n",
    "        return F.log_softmax(x, dim=1)"
   ]
  },
  {
   "cell_type": "code",
   "execution_count": 9,
   "metadata": {},
   "outputs": [],
   "source": [
    "import torch.optim as optim\n",
    "import torch.utils.data as utils\n",
    "\n",
    "class Parser:\n",
    "    def __init__(self):\n",
    "        self.epochs = 10\n",
    "        self.lr = 0.01\n",
    "        self.momentum = 0.5\n",
    "        self.seed = 1\n",
    "        self.test_batch_size = 1000\n",
    "        self.batch_size = 64\n",
    "        self.no_cuda = False\n",
    "        self.save_model = False\n",
    "        self.log_interval = 300\n",
    "        \n",
    "def build_tensor_dataset(data, target):\n",
    "    normed_data = [(d - d.mean()) / d.std() for d in data]\n",
    "    normed_data = torch.stack([torch.Tensor(d).reshape(1, 28, 28) for d in normed_data])\n",
    "    target = torch.LongTensor([i[0] for i in target])\n",
    "    tensor_dataset = utils.TensorDataset(normed_data, target)\n",
    "    return tensor_dataset\n",
    "    "
   ]
  },
  {
   "cell_type": "markdown",
   "metadata": {},
   "source": [
    "The base quadratic model is already trained to detect char, which it does not to badly.\n",
    "We compute explicitely the weight sum of the quadratic model parameters to verify that this private model is left unchanged after the collateral learning phase."
   ]
  },
  {
   "cell_type": "code",
   "execution_count": 10,
   "metadata": {},
   "outputs": [
    {
     "data": {
      "text/plain": [
       "tensor(6.9117, grad_fn=<AddBackward0>)"
      ]
     },
     "execution_count": 10,
     "metadata": {},
     "output_type": "execute_result"
    }
   ],
   "source": [
    "quad_param_norm = quad_model.proj1.weight.norm() + quad_model.diag1.weight.norm()\n",
    "quad_param_norm"
   ]
  },
  {
   "cell_type": "markdown",
   "metadata": {},
   "source": [
    "We new try to detect using its output, the family of the original input data."
   ]
  },
  {
   "cell_type": "code",
   "execution_count": 11,
   "metadata": {},
   "outputs": [
    {
     "name": "stdout",
     "output_type": "stream",
     "text": [
      "Training set 60000 items\n",
      "Testing set  10000 items\n"
     ]
    }
   ],
   "source": [
    "data = learn.load_data()\n",
    "train_data, train_target_char, train_target_family, test_data, test_target_char, test_target_family = data"
   ]
  },
  {
   "cell_type": "code",
   "execution_count": 12,
   "metadata": {},
   "outputs": [],
   "source": [
    "def adversarial_phase(model):\n",
    "    args = Parser()\n",
    "    use_cuda = not args.no_cuda and torch.cuda.is_available()\n",
    "\n",
    "    torch.manual_seed(args.seed)\n",
    "\n",
    "    # setting = the family recognition task\n",
    "    train_dataset = build_tensor_dataset(train_data, train_target_family)\n",
    "    test_dataset = build_tensor_dataset(test_data, test_target_family)\n",
    "    adversarial_output_size = 5\n",
    "    \n",
    "    train_loader = utils.DataLoader(\n",
    "        train_dataset,\n",
    "        batch_size=args.batch_size, shuffle=True\n",
    "    )\n",
    "    \n",
    "    test_loader = utils.DataLoader(\n",
    "        test_dataset,\n",
    "        batch_size=args.test_batch_size, shuffle=True\n",
    "    )\n",
    "    \n",
    "    adversarial_model = AdversarialCNN(output_size=adversarial_output_size)\n",
    "    adversarial_optimizer = optim.SGD(adversarial_model.parameters(), lr=args.lr, momentum=args.momentum)\n",
    "    \n",
    "    test_perfs = []\n",
    "    for epoch in range(1, args.epochs + 1):\n",
    "        adversarial_train(args, adversarial_model, model, train_loader, adversarial_optimizer, epoch)\n",
    "        acc, pred_labels = adversarial_test(args, adversarial_model, model, test_loader)\n",
    "        test_perfs.append(acc)\n",
    "        \n",
    "    return test_perfs, pred_labels\n",
    "        \n"
   ]
  },
  {
   "cell_type": "code",
   "execution_count": 13,
   "metadata": {
    "scrolled": true
   },
   "outputs": [
    {
     "name": "stdout",
     "output_type": "stream",
     "text": [
      "Train Epoch: 1 [0/60000 (0%)]\tLoss: 1.595753\n",
      "Train Epoch: 1 [19200/60000 (32%)]\tLoss: 1.163675\n",
      "Train Epoch: 1 [38400/60000 (64%)]\tLoss: 0.944110\n",
      "Train Epoch: 1 [57600/60000 (96%)]\tLoss: 0.830611\n",
      "\n",
      "Test set: Average loss: 0.7997, Accuracy: 6787/10000 (67.87%)\n",
      "\n",
      "Train Epoch: 2 [0/60000 (0%)]\tLoss: 0.797236\n",
      "Train Epoch: 2 [19200/60000 (32%)]\tLoss: 0.688284\n",
      "Train Epoch: 2 [38400/60000 (64%)]\tLoss: 0.643369\n",
      "Train Epoch: 2 [57600/60000 (96%)]\tLoss: 0.774491\n",
      "\n",
      "Test set: Average loss: 0.7076, Accuracy: 7105/10000 (71.05%)\n",
      "\n",
      "Train Epoch: 3 [0/60000 (0%)]\tLoss: 0.671685\n",
      "Train Epoch: 3 [19200/60000 (32%)]\tLoss: 0.707356\n",
      "Train Epoch: 3 [38400/60000 (64%)]\tLoss: 0.429201\n",
      "Train Epoch: 3 [57600/60000 (96%)]\tLoss: 0.520492\n",
      "\n",
      "Test set: Average loss: 0.6325, Accuracy: 7460/10000 (74.60%)\n",
      "\n",
      "Train Epoch: 4 [0/60000 (0%)]\tLoss: 0.676796\n",
      "Train Epoch: 4 [19200/60000 (32%)]\tLoss: 0.516792\n",
      "Train Epoch: 4 [38400/60000 (64%)]\tLoss: 0.716143\n",
      "Train Epoch: 4 [57600/60000 (96%)]\tLoss: 0.519480\n",
      "\n",
      "Test set: Average loss: 0.6028, Accuracy: 7568/10000 (75.68%)\n",
      "\n",
      "Train Epoch: 5 [0/60000 (0%)]\tLoss: 0.458227\n",
      "Train Epoch: 5 [19200/60000 (32%)]\tLoss: 0.473952\n",
      "Train Epoch: 5 [38400/60000 (64%)]\tLoss: 0.428210\n",
      "Train Epoch: 5 [57600/60000 (96%)]\tLoss: 0.608791\n",
      "\n",
      "Test set: Average loss: 0.5811, Accuracy: 7611/10000 (76.11%)\n",
      "\n",
      "Train Epoch: 6 [0/60000 (0%)]\tLoss: 0.520982\n",
      "Train Epoch: 6 [19200/60000 (32%)]\tLoss: 0.402185\n",
      "Train Epoch: 6 [38400/60000 (64%)]\tLoss: 0.596994\n",
      "Train Epoch: 6 [57600/60000 (96%)]\tLoss: 0.687531\n",
      "\n",
      "Test set: Average loss: 0.5672, Accuracy: 7691/10000 (76.91%)\n",
      "\n",
      "Train Epoch: 7 [0/60000 (0%)]\tLoss: 0.564186\n",
      "Train Epoch: 7 [19200/60000 (32%)]\tLoss: 0.362364\n",
      "Train Epoch: 7 [38400/60000 (64%)]\tLoss: 0.579198\n",
      "Train Epoch: 7 [57600/60000 (96%)]\tLoss: 0.485771\n",
      "\n",
      "Test set: Average loss: 0.5917, Accuracy: 7679/10000 (76.79%)\n",
      "\n",
      "Train Epoch: 8 [0/60000 (0%)]\tLoss: 0.426636\n",
      "Train Epoch: 8 [19200/60000 (32%)]\tLoss: 0.382021\n",
      "Train Epoch: 8 [38400/60000 (64%)]\tLoss: 0.476546\n",
      "Train Epoch: 8 [57600/60000 (96%)]\tLoss: 0.408449\n",
      "\n",
      "Test set: Average loss: 0.5451, Accuracy: 7829/10000 (78.29%)\n",
      "\n",
      "Train Epoch: 9 [0/60000 (0%)]\tLoss: 0.548685\n",
      "Train Epoch: 9 [19200/60000 (32%)]\tLoss: 0.479153\n",
      "Train Epoch: 9 [38400/60000 (64%)]\tLoss: 0.494734\n",
      "Train Epoch: 9 [57600/60000 (96%)]\tLoss: 0.570366\n",
      "\n",
      "Test set: Average loss: 0.5305, Accuracy: 7895/10000 (78.95%)\n",
      "\n",
      "Train Epoch: 10 [0/60000 (0%)]\tLoss: 0.447984\n",
      "Train Epoch: 10 [19200/60000 (32%)]\tLoss: 0.680633\n",
      "Train Epoch: 10 [38400/60000 (64%)]\tLoss: 0.464397\n",
      "Train Epoch: 10 [57600/60000 (96%)]\tLoss: 0.266277\n",
      "\n",
      "Test set: Average loss: 0.5166, Accuracy: 7943/10000 (79.43%)\n",
      "\n"
     ]
    }
   ],
   "source": [
    "test_perfs, pred_labels = adversarial_phase(quad_model)"
   ]
  },
  {
   "cell_type": "markdown",
   "metadata": {},
   "source": [
    "The learning curve:"
   ]
  },
  {
   "cell_type": "code",
   "execution_count": 14,
   "metadata": {},
   "outputs": [],
   "source": [
    "collateral_accuracy = {}\n",
    "collateral_accuracy[f'Private output size = {PRIVATE_OUTPUT_SIZE}'] = test_perfs"
   ]
  },
  {
   "cell_type": "markdown",
   "metadata": {},
   "source": [
    "### Discussion\n",
    "\n",
    "First, let's verify that the private model weights have not changed"
   ]
  },
  {
   "cell_type": "code",
   "execution_count": 15,
   "metadata": {},
   "outputs": [],
   "source": [
    "assert quad_param_norm == quad_model.proj1.weight.norm() + quad_model.diag1.weight.norm()"
   ]
  },
  {
   "cell_type": "code",
   "execution_count": 16,
   "metadata": {},
   "outputs": [
    {
     "data": {
      "image/png": "[encoded data removed]",
      "text/plain": [
       "<Figure size 720x720 with 2 Axes>"
      ]
     },
     "metadata": {
      "needs_background": "light"
     },
     "output_type": "display_data"
    }
   ],
   "source": [
    "show_confusion_matrix(pred_labels, task='family')"
   ]
  },
  {
   "cell_type": "markdown",
   "metadata": {},
   "source": [
    "You shouldn't observe much difference, except that we lost a bit of accuracy for the collateral task, around 3%.\n",
    "\n",
    "We now change the output of the private network to see how the main and collateral accuracy degrade."
   ]
  },
  {
   "cell_type": "markdown",
   "metadata": {},
   "source": [
    "### Changing the private output size"
   ]
  },
  {
   "cell_type": "code",
   "execution_count": 17,
   "metadata": {},
   "outputs": [],
   "source": [
    "PRIVATE_OUTPUT_SIZE = 8\n",
    "N_CHARS = 26\n",
    "\n",
    "class QuadNet(nn.Module):\n",
    "    def __init__(self):\n",
    "        super(QuadNet, self).__init__()\n",
    "        self.proj1 = nn.Linear(784, 50)\n",
    "        self.diag1 = nn.Linear(50, PRIVATE_OUTPUT_SIZE)\n",
    "        \n",
    "        # --- FFN for characters\n",
    "        self.lin1 = nn.Linear(PRIVATE_OUTPUT_SIZE, 16)\n",
    "        self.lin2 = nn.Linear(16, N_CHARS)\n",
    "\n",
    "    def forward(self, x):\n",
    "        x = x.view(-1, 784)\n",
    "        x = self.proj1(x)\n",
    "        x = x * x\n",
    "        x = self.diag1(x)\n",
    "        \n",
    "        x = F.relu(self.lin1(x))\n",
    "        x = self.lin2(x)\n",
    "        return F.log_softmax(x, dim=1)\n",
    "    \n",
    "    def transform(self, x):\n",
    "        \"\"\"Same as forward but without the log_softmax\"\"\"\n",
    "        x = x.view(-1, 784)\n",
    "        x = self.proj1(x)\n",
    "        x = x * x\n",
    "        x = self.diag1(x)\n",
    "        return x"
   ]
  },
  {
   "cell_type": "code",
   "execution_count": 18,
   "metadata": {},
   "outputs": [
    {
     "name": "stdout",
     "output_type": "stream",
     "text": [
      "Training set 60000 items\n",
      "Testing set  10000 items\n",
      "Learning on char with quad \n",
      "Train Epoch: 1 [0/60000 (0%)]\tLoss: 3.410638\n",
      "Train Epoch: 1 [19200/60000 (32%)]\tLoss: 2.004164\n",
      "Train Epoch: 1 [38400/60000 (64%)]\tLoss: 1.052036\n",
      "Train Epoch: 1 [57600/60000 (96%)]\tLoss: 1.066432\n",
      "\n",
      "Test set: Average loss: 0.7880, Accuracy: 7441/10000 (74.41%)\n",
      "\n",
      "Train Epoch: 2 [0/60000 (0%)]\tLoss: 1.213897\n",
      "Train Epoch: 2 [19200/60000 (32%)]\tLoss: 0.819570\n",
      "Train Epoch: 2 [38400/60000 (64%)]\tLoss: 0.582644\n",
      "Train Epoch: 2 [57600/60000 (96%)]\tLoss: 0.517671\n",
      "\n",
      "Test set: Average loss: 0.5126, Accuracy: 8422/10000 (84.22%)\n",
      "\n",
      "Train Epoch: 3 [0/60000 (0%)]\tLoss: 0.799727\n",
      "Train Epoch: 3 [19200/60000 (32%)]\tLoss: 0.517046\n",
      "Train Epoch: 3 [38400/60000 (64%)]\tLoss: 0.285547\n",
      "Train Epoch: 3 [57600/60000 (96%)]\tLoss: 0.294108\n",
      "\n",
      "Test set: Average loss: 0.3745, Accuracy: 8804/10000 (88.04%)\n",
      "\n",
      "Train Epoch: 4 [0/60000 (0%)]\tLoss: 0.466734\n",
      "Train Epoch: 4 [19200/60000 (32%)]\tLoss: 0.601342\n",
      "Train Epoch: 4 [38400/60000 (64%)]\tLoss: 0.446483\n",
      "Train Epoch: 4 [57600/60000 (96%)]\tLoss: 0.552103\n",
      "\n",
      "Test set: Average loss: 0.3212, Accuracy: 9024/10000 (90.24%)\n",
      "\n",
      "Train Epoch: 5 [0/60000 (0%)]\tLoss: 0.457704\n",
      "Train Epoch: 5 [19200/60000 (32%)]\tLoss: 0.415337\n",
      "Train Epoch: 5 [38400/60000 (64%)]\tLoss: 0.346495\n",
      "Train Epoch: 5 [57600/60000 (96%)]\tLoss: 0.305927\n",
      "\n",
      "Test set: Average loss: 0.2792, Accuracy: 9110/10000 (91.10%)\n",
      "\n",
      "Train Epoch: 6 [0/60000 (0%)]\tLoss: 0.498266\n",
      "Train Epoch: 6 [19200/60000 (32%)]\tLoss: 0.201124\n",
      "Train Epoch: 6 [38400/60000 (64%)]\tLoss: 0.552562\n",
      "Train Epoch: 6 [57600/60000 (96%)]\tLoss: 0.458278\n",
      "\n",
      "Test set: Average loss: 0.2661, Accuracy: 9191/10000 (91.91%)\n",
      "\n",
      "Train Epoch: 7 [0/60000 (0%)]\tLoss: 0.351465\n",
      "Train Epoch: 7 [19200/60000 (32%)]\tLoss: 0.367130\n",
      "Train Epoch: 7 [38400/60000 (64%)]\tLoss: 0.512120\n",
      "Train Epoch: 7 [57600/60000 (96%)]\tLoss: 0.458877\n",
      "\n",
      "Test set: Average loss: 0.3056, Accuracy: 9091/10000 (90.91%)\n",
      "\n",
      "Train Epoch: 8 [0/60000 (0%)]\tLoss: 0.453437\n",
      "Train Epoch: 8 [19200/60000 (32%)]\tLoss: 0.328539\n",
      "Train Epoch: 8 [38400/60000 (64%)]\tLoss: 0.321594\n",
      "Train Epoch: 8 [57600/60000 (96%)]\tLoss: 0.233561\n",
      "\n",
      "Test set: Average loss: 0.2854, Accuracy: 9081/10000 (90.81%)\n",
      "\n",
      "Train Epoch: 9 [0/60000 (0%)]\tLoss: 0.405529\n",
      "Train Epoch: 9 [19200/60000 (32%)]\tLoss: 0.249005\n",
      "Train Epoch: 9 [38400/60000 (64%)]\tLoss: 0.467044\n",
      "Train Epoch: 9 [57600/60000 (96%)]\tLoss: 0.312635\n",
      "\n",
      "Test set: Average loss: 0.2408, Accuracy: 9266/10000 (92.66%)\n",
      "\n",
      "Train Epoch: 10 [0/60000 (0%)]\tLoss: 0.290518\n",
      "Train Epoch: 10 [19200/60000 (32%)]\tLoss: 0.238972\n",
      "Train Epoch: 10 [38400/60000 (64%)]\tLoss: 0.288152\n",
      "Train Epoch: 10 [57600/60000 (96%)]\tLoss: 0.347851\n",
      "\n",
      "Test set: Average loss: 0.2818, Accuracy: 9105/10000 (91.05%)\n",
      "\n",
      "Train Epoch: 11 [0/60000 (0%)]\tLoss: 0.490355\n",
      "Train Epoch: 11 [19200/60000 (32%)]\tLoss: 0.251661\n",
      "Train Epoch: 11 [38400/60000 (64%)]\tLoss: 0.594365\n",
      "Train Epoch: 11 [57600/60000 (96%)]\tLoss: 0.302987\n",
      "\n",
      "Test set: Average loss: 0.2204, Accuracy: 9346/10000 (93.46%)\n",
      "\n",
      "Train Epoch: 12 [0/60000 (0%)]\tLoss: 0.341436\n",
      "Train Epoch: 12 [19200/60000 (32%)]\tLoss: 0.259147\n",
      "Train Epoch: 12 [38400/60000 (64%)]\tLoss: 0.506744\n",
      "Train Epoch: 12 [57600/60000 (96%)]\tLoss: 0.293816\n",
      "\n",
      "Test set: Average loss: 0.2264, Accuracy: 9309/10000 (93.09%)\n",
      "\n",
      "Train Epoch: 13 [0/60000 (0%)]\tLoss: 0.301419\n",
      "Train Epoch: 13 [19200/60000 (32%)]\tLoss: 0.237066\n",
      "Train Epoch: 13 [38400/60000 (64%)]\tLoss: 0.441307\n",
      "Train Epoch: 13 [57600/60000 (96%)]\tLoss: 0.279594\n",
      "\n",
      "Test set: Average loss: 0.1920, Accuracy: 9431/10000 (94.31%)\n",
      "\n",
      "Train Epoch: 14 [0/60000 (0%)]\tLoss: 0.347253\n",
      "Train Epoch: 14 [19200/60000 (32%)]\tLoss: 0.319107\n",
      "Train Epoch: 14 [38400/60000 (64%)]\tLoss: 0.532957\n",
      "Train Epoch: 14 [57600/60000 (96%)]\tLoss: 0.275206\n",
      "\n",
      "Test set: Average loss: 0.2185, Accuracy: 9326/10000 (93.26%)\n",
      "\n",
      "Train Epoch: 15 [0/60000 (0%)]\tLoss: 0.281060\n",
      "Train Epoch: 15 [19200/60000 (32%)]\tLoss: 0.252039\n",
      "Train Epoch: 15 [38400/60000 (64%)]\tLoss: 0.500162\n",
      "Train Epoch: 15 [57600/60000 (96%)]\tLoss: 0.361182\n",
      "\n",
      "Test set: Average loss: 0.2319, Accuracy: 9278/10000 (92.78%)\n",
      "\n",
      "Train Epoch: 16 [0/60000 (0%)]\tLoss: 0.188788\n",
      "Train Epoch: 16 [19200/60000 (32%)]\tLoss: 0.275588\n",
      "Train Epoch: 16 [38400/60000 (64%)]\tLoss: 0.280498\n",
      "Train Epoch: 16 [57600/60000 (96%)]\tLoss: 0.309461\n",
      "\n",
      "Test set: Average loss: 0.2285, Accuracy: 9308/10000 (93.08%)\n",
      "\n",
      "Train Epoch: 17 [0/60000 (0%)]\tLoss: 0.371032\n",
      "Train Epoch: 17 [19200/60000 (32%)]\tLoss: 0.225641\n",
      "Train Epoch: 17 [38400/60000 (64%)]\tLoss: 0.192386\n",
      "Train Epoch: 17 [57600/60000 (96%)]\tLoss: 0.293308\n",
      "\n",
      "Test set: Average loss: 0.2084, Accuracy: 9396/10000 (93.96%)\n",
      "\n",
      "Train Epoch: 18 [0/60000 (0%)]\tLoss: 0.258211\n",
      "Train Epoch: 18 [19200/60000 (32%)]\tLoss: 0.298552\n",
      "Train Epoch: 18 [38400/60000 (64%)]\tLoss: 0.466781\n",
      "Train Epoch: 18 [57600/60000 (96%)]\tLoss: 0.478490\n",
      "\n",
      "Test set: Average loss: 0.2657, Accuracy: 9215/10000 (92.15%)\n",
      "\n",
      "Train Epoch: 19 [0/60000 (0%)]\tLoss: 0.236787\n",
      "Train Epoch: 19 [19200/60000 (32%)]\tLoss: 0.405595\n",
      "Train Epoch: 19 [38400/60000 (64%)]\tLoss: 0.318182\n",
      "Train Epoch: 19 [57600/60000 (96%)]\tLoss: 0.284089\n",
      "\n",
      "Test set: Average loss: 0.2380, Accuracy: 9286/10000 (92.86%)\n",
      "\n",
      "Train Epoch: 20 [0/60000 (0%)]\tLoss: 0.307252\n",
      "Train Epoch: 20 [19200/60000 (32%)]\tLoss: 0.244370\n",
      "Train Epoch: 20 [38400/60000 (64%)]\tLoss: 0.301786\n",
      "Train Epoch: 20 [57600/60000 (96%)]\tLoss: 0.192346\n",
      "\n",
      "Test set: Average loss: 0.2395, Accuracy: 9283/10000 (92.83%)\n",
      "\n"
     ]
    }
   ],
   "source": [
    "quad_model = QuadNet()\n",
    "results[f'Main task {PRIVATE_OUTPUT_SIZE}'], model, pred_labels = main(model=quad_model, epochs=20, model_type='quad', task='char', return_model=True, return_pred_label=True)\n"
   ]
  },
  {
   "cell_type": "code",
   "execution_count": 19,
   "metadata": {},
   "outputs": [],
   "source": [
    "torch.save(model.state_dict(), '../data/models/quad_char.pt')"
   ]
  },
  {
   "cell_type": "code",
   "execution_count": 20,
   "metadata": {},
   "outputs": [],
   "source": [
    "class AdversarialCNN(nn.Module):\n",
    "    def __init__(self, output_size):\n",
    "        super(AdversarialCNN, self).__init__()\n",
    "        self.lin1 = nn.Linear(PRIVATE_OUTPUT_SIZE, 784)\n",
    "        self.conv1 = nn.Conv2d(1, 20, 5, 1)\n",
    "        self.conv2 = nn.Conv2d(20, 50, 5, 1)\n",
    "        self.fc1 = nn.Linear(4*4*50, 500)\n",
    "        self.fc2 = nn.Linear(500, output_size)\n",
    "\n",
    "    def forward(self, x):\n",
    "        x = self.lin1(x)\n",
    "        x = x.view(-1, 1, 28, 28)\n",
    "        x = F.relu(self.conv1(x))\n",
    "        x = F.max_pool2d(x, 2, 2)\n",
    "        x = F.relu(self.conv2(x))\n",
    "        x = F.max_pool2d(x, 2, 2)\n",
    "        x = x.view(-1, 4*4*50)\n",
    "        x = F.relu(self.fc1(x))\n",
    "        x = self.fc2(x)\n",
    "        return F.log_softmax(x, dim=1)"
   ]
  },
  {
   "cell_type": "code",
   "execution_count": 21,
   "metadata": {},
   "outputs": [
    {
     "name": "stdout",
     "output_type": "stream",
     "text": [
      "Training set 60000 items\n",
      "Testing set  10000 items\n"
     ]
    }
   ],
   "source": [
    "data = learn.load_data()\n",
    "train_data, train_target_char, train_target_family, test_data, test_target_char, test_target_family = data"
   ]
  },
  {
   "cell_type": "code",
   "execution_count": 22,
   "metadata": {},
   "outputs": [
    {
     "name": "stdout",
     "output_type": "stream",
     "text": [
      "Train Epoch: 1 [0/60000 (0%)]\tLoss: 1.691287\n",
      "Train Epoch: 1 [19200/60000 (32%)]\tLoss: 1.047301\n",
      "Train Epoch: 1 [38400/60000 (64%)]\tLoss: 1.102217\n",
      "Train Epoch: 1 [57600/60000 (96%)]\tLoss: 0.746538\n",
      "\n",
      "Test set: Average loss: 1.1065, Accuracy: 5497/10000 (54.97%)\n",
      "\n",
      "Train Epoch: 2 [0/60000 (0%)]\tLoss: 1.043540\n",
      "Train Epoch: 2 [19200/60000 (32%)]\tLoss: 0.767199\n",
      "Train Epoch: 2 [38400/60000 (64%)]\tLoss: 0.800712\n",
      "Train Epoch: 2 [57600/60000 (96%)]\tLoss: 0.928212\n",
      "\n",
      "Test set: Average loss: 0.8962, Accuracy: 6377/10000 (63.77%)\n",
      "\n",
      "Train Epoch: 3 [0/60000 (0%)]\tLoss: 0.807289\n",
      "Train Epoch: 3 [19200/60000 (32%)]\tLoss: 0.912607\n",
      "Train Epoch: 3 [38400/60000 (64%)]\tLoss: 0.765694\n",
      "Train Epoch: 3 [57600/60000 (96%)]\tLoss: 1.017401\n",
      "\n",
      "Test set: Average loss: 0.8197, Accuracy: 6647/10000 (66.47%)\n",
      "\n",
      "Train Epoch: 4 [0/60000 (0%)]\tLoss: 0.785150\n",
      "Train Epoch: 4 [19200/60000 (32%)]\tLoss: 0.803270\n",
      "Train Epoch: 4 [38400/60000 (64%)]\tLoss: 0.828787\n",
      "Train Epoch: 4 [57600/60000 (96%)]\tLoss: 0.847577\n",
      "\n",
      "Test set: Average loss: 0.8292, Accuracy: 6626/10000 (66.26%)\n",
      "\n",
      "Train Epoch: 5 [0/60000 (0%)]\tLoss: 0.718489\n",
      "Train Epoch: 5 [19200/60000 (32%)]\tLoss: 0.724018\n",
      "Train Epoch: 5 [38400/60000 (64%)]\tLoss: 0.587327\n",
      "Train Epoch: 5 [57600/60000 (96%)]\tLoss: 0.648183\n",
      "\n",
      "Test set: Average loss: 0.7731, Accuracy: 6817/10000 (68.17%)\n",
      "\n",
      "Train Epoch: 6 [0/60000 (0%)]\tLoss: 0.769013\n",
      "Train Epoch: 6 [19200/60000 (32%)]\tLoss: 0.673775\n",
      "Train Epoch: 6 [38400/60000 (64%)]\tLoss: 0.737486\n",
      "Train Epoch: 6 [57600/60000 (96%)]\tLoss: 0.663983\n",
      "\n",
      "Test set: Average loss: 0.7517, Accuracy: 6950/10000 (69.50%)\n",
      "\n",
      "Train Epoch: 7 [0/60000 (0%)]\tLoss: 0.542423\n",
      "Train Epoch: 7 [19200/60000 (32%)]\tLoss: 0.613768\n",
      "Train Epoch: 7 [38400/60000 (64%)]\tLoss: 0.698411\n",
      "Train Epoch: 7 [57600/60000 (96%)]\tLoss: 0.837585\n",
      "\n",
      "Test set: Average loss: 0.7754, Accuracy: 6883/10000 (68.83%)\n",
      "\n",
      "Train Epoch: 8 [0/60000 (0%)]\tLoss: 0.582409\n",
      "Train Epoch: 8 [19200/60000 (32%)]\tLoss: 0.656323\n",
      "Train Epoch: 8 [38400/60000 (64%)]\tLoss: 0.657722\n",
      "Train Epoch: 8 [57600/60000 (96%)]\tLoss: 0.525961\n",
      "\n",
      "Test set: Average loss: 0.7388, Accuracy: 6980/10000 (69.80%)\n",
      "\n",
      "Train Epoch: 9 [0/60000 (0%)]\tLoss: 0.516642\n",
      "Train Epoch: 9 [19200/60000 (32%)]\tLoss: 0.858025\n",
      "Train Epoch: 9 [38400/60000 (64%)]\tLoss: 0.570318\n",
      "Train Epoch: 9 [57600/60000 (96%)]\tLoss: 0.894368\n",
      "\n",
      "Test set: Average loss: 0.7389, Accuracy: 6929/10000 (69.29%)\n",
      "\n",
      "Train Epoch: 10 [0/60000 (0%)]\tLoss: 0.735919\n",
      "Train Epoch: 10 [19200/60000 (32%)]\tLoss: 0.696033\n",
      "Train Epoch: 10 [38400/60000 (64%)]\tLoss: 0.761165\n",
      "Train Epoch: 10 [57600/60000 (96%)]\tLoss: 0.698755\n",
      "\n",
      "Test set: Average loss: 0.7577, Accuracy: 6965/10000 (69.65%)\n",
      "\n"
     ]
    }
   ],
   "source": [
    "test_perfs, pred_labels = adversarial_phase(quad_model)\n",
    "collateral_accuracy[f'Private output size = {PRIVATE_OUTPUT_SIZE}'] = test_perfs"
   ]
  },
  {
   "cell_type": "code",
   "execution_count": 34,
   "metadata": {},
   "outputs": [
    {
     "data": {
      "image/png": "[encoded data removed]",
      "text/plain": [
       "<Figure size 720x288 with 1 Axes>"
      ]
     },
     "metadata": {
      "needs_background": "light"
     },
     "output_type": "display_data"
    }
   ],
   "source": [
    "show_results(results, title=\"Main accuracy depending on the output size\")"
   ]
  },
  {
   "cell_type": "code",
   "execution_count": 26,
   "metadata": {},
   "outputs": [
    {
     "data": {
      "image/png": "[encoded data removed]",
      "text/plain": [
       "<Figure size 720x288 with 1 Axes>"
      ]
     },
     "metadata": {
      "needs_background": "light"
     },
     "output_type": "display_data"
    }
   ],
   "source": [
    "show_results(collateral_accuracy, title=\"Collateral accuracy depending on the output size\")"
   ]
  },
  {
   "cell_type": "markdown",
   "metadata": {},
   "source": [
    "The main accuracy has a 2% drop in accuracy while the collateral suffers from a 10% one!"
   ]
  },
  {
   "cell_type": "markdown",
   "metadata": {},
   "source": [
    "## Conclusion\n",
    "\n",
    "What we observe here is that the private output size is a key factor to resist against CNN collateral models. We will make an extended analysis of the private output size effects on non-CNN models in part 7 and show that this advantage is not always so clear, but first we'll implement fix precision!"
   ]
  },
  {
   "cell_type": "code",
   "execution_count": null,
   "metadata": {},
   "outputs": [],
   "source": []
  }
 ],
 "metadata": {
  "kernelspec": {
   "display_name": "Python 3",
   "language": "python",
   "name": "python3"
  },
  "language_info": {
   "codemirror_mode": {
    "name": "ipython",
    "version": 3
   },
   "file_extension": ".py",
   "mimetype": "text/x-python",
   "name": "python",
   "nbconvert_exporter": "python",
   "pygments_lexer": "ipython3",
   "version": "3.7.0"
  }
 },
 "nbformat": 4,
 "nbformat_minor": 2
}
