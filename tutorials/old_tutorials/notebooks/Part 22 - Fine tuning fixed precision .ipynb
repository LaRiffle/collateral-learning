{
 "cells": [
  {
   "cell_type": "markdown",
   "metadata": {},
   "source": [
    "# Functional Encryption - Classification and information leakage\n",
    "\n",
    "\n",
    " \n",
    "### Purpose\n",
    "\n",
    "In part 5 & 6 we have used Fixed Precision from Pysyft. We will deepen our analysis by pointing that all weights don't need the same precision as they have different amplitudes. More precisely, we can't have truncation in FE so we want all weights to be integers. We will assess how to modify the inputs and how to cap layers values (which are now intergers) to have the smaller outputs on which presumably we should apply the discrete log to decode the values."
   ]
  },
  {
   "cell_type": "markdown",
   "metadata": {},
   "source": [
    "# 1 Quadratic model to fix precision\n"
   ]
  },
  {
   "cell_type": "code",
   "execution_count": 1,
   "metadata": {},
   "outputs": [],
   "source": [
    "PREC_FRAC = 3"
   ]
  },
  {
   "cell_type": "markdown",
   "metadata": {},
   "source": [
    "Load torch and syft packages"
   ]
  },
  {
   "cell_type": "code",
   "execution_count": 2,
   "metadata": {},
   "outputs": [],
   "source": [
    "# Allow to load packages from parent\n",
    "import sys, os\n",
    "sys.path.insert(1, os.path.realpath(os.path.pardir))"
   ]
  },
  {
   "cell_type": "code",
   "execution_count": 3,
   "metadata": {},
   "outputs": [],
   "source": [
    "import torch\n",
    "import syft as sy\n",
    "hook = sy.TorchHook(torch)"
   ]
  },
  {
   "cell_type": "code",
   "execution_count": 4,
   "metadata": {},
   "outputs": [],
   "source": [
    "from math import log2, ceil\n",
    "\n",
    "import torch.nn as nn\n",
    "import torch.nn.functional as F\n",
    "import torch.utils.data as utils\n",
    "\n",
    "import learn\n",
    "from learn import main, train, test, show_results, show_confusion_matrix\n",
    "from learn.models import QuadNet"
   ]
  },
  {
   "cell_type": "markdown",
   "metadata": {},
   "source": [
    "Let's load the quadratic model that we saved in Part 4! _Be sure that the path and file name match._"
   ]
  },
  {
   "cell_type": "code",
   "execution_count": 5,
   "metadata": {},
   "outputs": [],
   "source": [
    "class QuadNet(nn.Module):\n",
    "    def __init__(self, output_size):\n",
    "        super(QuadNet, self).__init__()\n",
    "        self.proj1 = nn.Linear(784, 40)\n",
    "        self.diag1 = nn.Linear(40, output_size, bias=False)\n",
    "\n",
    "    def forward(self, x):\n",
    "        x = x.view(-1, 784)\n",
    "        x = self.proj1(x)\n",
    "        x = x * x\n",
    "        x = self.diag1(x)\n",
    "        return F.log_softmax(x, dim=1)\n",
    "\n",
    "    def transform(self, x):\n",
    "        \"\"\"Same as forward but without the log_softmax\"\"\"\n",
    "        x = x.view(-1, 784)\n",
    "        x = self.proj1(x)\n",
    "        x = x * x\n",
    "        x = self.diag1(x)\n",
    "        return x"
   ]
  },
  {
   "cell_type": "code",
   "execution_count": 6,
   "metadata": {},
   "outputs": [
    {
     "data": {
      "text/plain": [
       "QuadNet(\n",
       "  (proj1): Linear(in_features=784, out_features=40, bias=True)\n",
       "  (diag1): Linear(in_features=40, out_features=26, bias=False)\n",
       ")"
      ]
     },
     "execution_count": 6,
     "metadata": {},
     "output_type": "execute_result"
    }
   ],
   "source": [
    "model = QuadNet(26)\n",
    "path = '../data/models/quad_char_0_01.pt'\n",
    "model.load_state_dict(torch.load(path))\n",
    "model.eval()"
   ]
  },
  {
   "cell_type": "markdown",
   "metadata": {},
   "source": [
    "We will now convert the model into fixed precision, look how the `diag1.bias` changes for example!"
   ]
  },
  {
   "cell_type": "code",
   "execution_count": 7,
   "metadata": {},
   "outputs": [
    {
     "data": {
      "text/plain": [
       "tensor([ 0.0024, -0.0146, -0.0153, -0.0086, -0.0090,  0.0059,  0.0074, -0.0120,\n",
       "         0.0072,  0.0014])"
      ]
     },
     "execution_count": 7,
     "metadata": {},
     "output_type": "execute_result"
    }
   ],
   "source": [
    "model.proj1.bias.data[:10]"
   ]
  },
  {
   "cell_type": "code",
   "execution_count": 8,
   "metadata": {},
   "outputs": [
    {
     "data": {
      "text/plain": [
       "QuadNet(\n",
       "  (proj1): Linear(in_features=784, out_features=40, bias=True)\n",
       "  (diag1): Linear(in_features=40, out_features=26, bias=False)\n",
       ")"
      ]
     },
     "execution_count": 8,
     "metadata": {},
     "output_type": "execute_result"
    }
   ],
   "source": [
    "model.fix_precision(precision_fractional=PREC_FRAC)"
   ]
  },
  {
   "cell_type": "code",
   "execution_count": 9,
   "metadata": {},
   "outputs": [
    {
     "name": "stdout",
     "output_type": "stream",
     "text": [
      "tensor([  2, -14, -15,  -8,  -8,   5,   7, -12,   7,   1])\n"
     ]
    }
   ],
   "source": [
    "print(model.proj1.bias.child.child[:10])"
   ]
  },
  {
   "cell_type": "markdown",
   "metadata": {},
   "source": [
    "Here is an analysis of the weigh distribution"
   ]
  },
  {
   "cell_type": "code",
   "execution_count": 10,
   "metadata": {},
   "outputs": [],
   "source": [
    "import numpy as np\n",
    "import seaborn as sns\n",
    "import matplotlib.pyplot as plt\n",
    "\n",
    "def print_hist(data):\n",
    "    x = data.view(-1).abs()\n",
    "    # the histogram of the data\n",
    "    n, bins, patches = plt.hist(x, 50, density=True, facecolor='g', alpha=0.75)\n",
    "    plt.xlabel('Weight amplitude')\n",
    "    plt.ylabel('Probability')\n",
    "    plt.title('Weight amplitude distribution')\n",
    "    #plt.axis([40, 160, 0, 0.01])\n",
    "    plt.grid(True)\n",
    "    plt.show()\n",
    "    \n",
    "    \n",
    "def print_data(data):\n",
    "    ax = sns.heatmap(data, linewidth=0.5)\n",
    "    plt.show()"
   ]
  },
  {
   "cell_type": "code",
   "execution_count": 11,
   "metadata": {},
   "outputs": [],
   "source": [
    "class Parser:\n",
    "    \"\"\"Parameters for the testing\"\"\"\n",
    "    def __init__(self):\n",
    "        self.test_batch_size = 10"
   ]
  },
  {
   "cell_type": "code",
   "execution_count": 12,
   "metadata": {},
   "outputs": [
    {
     "name": "stdout",
     "output_type": "stream",
     "text": [
      "Training set 60000 items\n",
      "Testing set  10000 items\n"
     ]
    }
   ],
   "source": [
    "model = QuadNet(26)\n",
    "model.load_state_dict(torch.load(path))\n",
    "model.eval()\n",
    "\n",
    "torch.manual_seed(1)\n",
    "args = Parser()\n",
    "\n",
    "data = learn.load_data()\n",
    "train_data, train_target_char, train_target_family, test_data, test_target_char, test_target_family = data\n",
    "test_target = test_target_char\n",
    "test_dataset = learn.build_tensor_dataset(test_data, test_target)\n",
    "test_loader = utils.DataLoader(\n",
    "    test_dataset,\n",
    "    batch_size=args.test_batch_size, shuffle=True\n",
    ")"
   ]
  },
  {
   "cell_type": "code",
   "execution_count": 13,
   "metadata": {},
   "outputs": [],
   "source": [
    "def test(model, test_loader, data_prec, data_comp):\n",
    "    correct = 0\n",
    "    with torch.no_grad():\n",
    "        for data, target in test_loader:\n",
    "            data = (data / 2**data_comp).fix_precision(precision_fractional=data_prec).child.child # <-- This is new\n",
    "            output = model.transform(data) # <-- Not calling forward to avoid the log_softmax\n",
    "            pred = output.argmax(1, keepdim=True)  # get the index of the max log-probability\n",
    "            correct += pred.eq(target.view_as(pred)).sum().item()\n",
    "\n",
    "    acc = 100. * correct / len(test_loader.dataset)\n",
    "    print('\\nTest set: Accuracy: {}/{} ({:.2f}%)\\n'.format(\n",
    "        correct, len(test_loader.dataset), acc))\n",
    "    \n",
    "    return acc"
   ]
  },
  {
   "cell_type": "code",
   "execution_count": 14,
   "metadata": {},
   "outputs": [],
   "source": [
    "from math import ceil"
   ]
  },
  {
   "cell_type": "code",
   "execution_count": 15,
   "metadata": {},
   "outputs": [],
   "source": [
    "def test_compression(prec, comp, rm_outlier_frac=100, show_distrib=False):\n",
    "    model = QuadNet(26)\n",
    "    model.load_state_dict(torch.load(path))\n",
    "    model.eval()\n",
    "\n",
    "    data_prec, proj_prec, diag_prec = prec\n",
    "    data_comp, proj_comp, diag_comp = comp\n",
    "    \n",
    "    \n",
    "\n",
    "    \n",
    "    proj_weight = (model.proj1.weight / 2**proj_comp).fix_precision(precision_fractional=proj_prec).child.child\n",
    "    proj_ceil = np.percentile(proj_weight, rm_outlier_frac)\n",
    "    proj_weight = proj_weight.clamp(min=-proj_ceil, max=proj_ceil)\n",
    "    model.proj1.weight = nn.Parameter(proj_weight, requires_grad=False)\n",
    "    \n",
    "    proj_bias = (model.proj1.bias / 2**proj_comp).fix_precision(precision_fractional=proj_prec + data_prec).child.child\n",
    "    proj_bias = proj_bias.clamp(min=-proj_ceil * 10**data_prec, max=proj_ceil * 10**data_prec)\n",
    "    model.proj1.bias = nn.Parameter(proj_bias, requires_grad=False)\n",
    "\n",
    "    diag_weight = (model.diag1.weight / 2**diag_comp).fix_precision(precision_fractional=diag_prec).child.child\n",
    "    diag_ceil = np.percentile(diag_weight, rm_outlier_frac)\n",
    "    diag_weight = diag_weight.clamp(min=-diag_ceil, max=diag_ceil)\n",
    "    model.diag1.weight = nn.Parameter(diag_weight, requires_grad=False)\n",
    "    \n",
    "    if show_distrib:\n",
    "        print_hist(model.proj1.bias / 10 ** data_prec)\n",
    "        print_hist(model.proj1.weight)\n",
    "        print_hist(model.diag1.weight)\n",
    "        #print_hist((1 * test_dataset[0][0]).fix_precision_(precision_fractional=data_prec))\n",
    "        \n",
    "        \n",
    "    data_sample = ((1 * test_dataset[0][0]) / 2**data_comp).fix_precision(precision_fractional=data_prec).child.child\n",
    "    n_bits = (\n",
    "        ceil(log2(torch.max(data_sample))) * 2 +\n",
    "        ceil(log2(max(\n",
    "            torch.max(model.proj1.bias / 10 ** data_prec),\n",
    "            torch.max(model.proj1.weight)\n",
    "        ) * 2)) * 2 + \n",
    "        ceil(log2(torch.max(model.diag1.weight) * 2))   \n",
    "    )\n",
    "    print(n_bits, f\"bits {2**n_bits}\")\n",
    "        \n",
    "    test(model, test_loader, data_prec, data_comp)\n",
    "    \n",
    "    return model, data_prec\n",
    "    "
   ]
  },
  {
   "cell_type": "code",
   "execution_count": 22,
   "metadata": {},
   "outputs": [
    {
     "data": {
      "image/png": "[encoded data removed]",
      "text/plain": [
       "<Figure size 432x288 with 1 Axes>"
      ]
     },
     "metadata": {
      "needs_background": "light"
     },
     "output_type": "display_data"
    },
    {
     "data": {
      "image/png": "[encoded data removed]",
      "text/plain": [
       "<Figure size 432x288 with 1 Axes>"
      ]
     },
     "metadata": {
      "needs_background": "light"
     },
     "output_type": "display_data"
    },
    {
     "data": {
      "image/png": "[encoded data removed]",
      "text/plain": [
       "<Figure size 432x288 with 1 Axes>"
      ]
     },
     "metadata": {
      "needs_background": "light"
     },
     "output_type": "display_data"
    },
    {
     "name": "stdout",
     "output_type": "stream",
     "text": [
      "25 bits 33554432\n",
      "\n",
      "Test set: Accuracy: 9202/10000 (92.02%)\n",
      "\n"
     ]
    }
   ],
   "source": [
    "model, data_prec = test_compression(prec=(1, 3, 3), comp=(2, 2, 4), rm_outlier_frac=99.9, show_distrib=True)\n",
    "\n",
    "#prec=(1, 3, 3), comp=(2, 2, 4)"
   ]
  },
  {
   "cell_type": "markdown",
   "metadata": {},
   "source": [
    "Here comes the test phase, which in very close to `learn.test`. However, as you see we convert the data into fixed precision, and instead of a full forward pass, we omit the last log_softmax (by using `.transform()`) as it should not be applied in the encryption part so not be applied on the integers. Hence, we apply it after the output is converted back to float."
   ]
  },
  {
   "cell_type": "markdown",
   "metadata": {},
   "source": [
    "Export the model for RITD"
   ]
  },
  {
   "cell_type": "code",
   "execution_count": 18,
   "metadata": {},
   "outputs": [
    {
     "data": {
      "text/plain": [
       "torch.Size([784, 40])"
      ]
     },
     "execution_count": 18,
     "metadata": {},
     "output_type": "execute_result"
    }
   ],
   "source": [
    "model.proj1.weight.t().shape"
   ]
  },
  {
   "cell_type": "code",
   "execution_count": 19,
   "metadata": {},
   "outputs": [],
   "source": [
    "proj = torch.cat((model.proj1.bias.reshape(1, 40) / 10**data_prec, model.proj1.weight.t()), 0)\n",
    "proj = proj.tolist()\n",
    "diag = model.diag1.weight.t().tolist()"
   ]
  },
  {
   "cell_type": "code",
   "execution_count": 20,
   "metadata": {},
   "outputs": [],
   "source": [
    "import pickle"
   ]
  },
  {
   "cell_type": "code",
   "execution_count": 21,
   "metadata": {},
   "outputs": [],
   "source": [
    "assert len(proj) == (784 + 1)\n",
    "assert len(proj[0]) == len(diag)\n",
    "assert len(diag[0]) == 26\n",
    "model = (proj,diag)\n",
    "\n",
    "with open('/Users/tryffel/code/reading-in-the-dark/mnist/objects/ml_models/torch_cl_large.mlm', 'wb') as f:\n",
    "    pickle.dump(model, f)"
   ]
  },
  {
   "cell_type": "code",
   "execution_count": null,
   "metadata": {},
   "outputs": [],
   "source": []
  }
 ],
 "metadata": {
  "kernelspec": {
   "display_name": "Python 3",
   "language": "python",
   "name": "python3"
  },
  "language_info": {
   "codemirror_mode": {
    "name": "ipython",
    "version": 3
   },
   "file_extension": ".py",
   "mimetype": "text/x-python",
   "name": "python",
   "nbconvert_exporter": "python",
   "pygments_lexer": "ipython3",
   "version": "3.7.0"
  }
 },
 "nbformat": 4,
 "nbformat_minor": 2
}
