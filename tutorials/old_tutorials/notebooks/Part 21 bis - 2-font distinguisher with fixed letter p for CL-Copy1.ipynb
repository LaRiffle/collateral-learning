{
 "cells": [
  {
   "cell_type": "markdown",
   "metadata": {},
   "source": [
    "# Functional Encryption - Classification and information leakage\n",
    " \n",
    "### Purpose\n",
    "\n",
    "We try here to assess the resistance of a model to multiple collateral adversaries when resistance has been built agains a single big adversary, a CNN, in the distinguisher setting\n",
    "\n",
    "The adversaries tested against are naturally the FNN and CNN seens earlier, but also more classical models of the sklearn library which have proved in Part 17 to be quite performant (Knn, Randomforest, etc.)\n",
    "\n",
    "Todo:\n",
    "\n",
    "- [ ] Better main task algorithm\n",
    "- [ ] Comparison with other font pairs or letter\n",
    "- [ ] Analysis interest fo Transfer Learning\n",
    "\n"
   ]
  },
  {
   "cell_type": "markdown",
   "metadata": {},
   "source": [
    "## 1. Parameters and imports\n"
   ]
  },
  {
   "cell_type": "markdown",
   "metadata": {},
   "source": [
    "We will use the code directly from the repo, to make the notebook more readable. Functions are similar to those presented earlier."
   ]
  },
  {
   "cell_type": "code",
   "execution_count": null,
   "metadata": {},
   "outputs": [],
   "source": [
    "# Allow to load packages from parent\n",
    "import sys, os\n",
    "sys.path.insert(1, os.path.realpath(os.path.pardir))"
   ]
  },
  {
   "cell_type": "code",
   "execution_count": null,
   "metadata": {},
   "outputs": [],
   "source": [
    "import random\n",
    "\n",
    "import numpy as np\n",
    "\n",
    "import torch\n",
    "import torch.nn as nn\n",
    "import torch.optim as optim\n",
    "import torch.nn.functional as F\n",
    "import torch.utils.data as utils\n",
    "\n",
    "import learn\n",
    "from learn import show_results\n",
    "from learn.distinguisher.data import get_data_loaders, get_collateral_data_loaders, get_collateral_datasets\n",
    "from learn.distinguisher import resistance\n",
    "from learn.distinguisher.models import ResistanceNet, N_FONTS"
   ]
  },
  {
   "cell_type": "code",
   "execution_count": null,
   "metadata": {},
   "outputs": [],
   "source": [
    "torch.set_num_threads(4)"
   ]
  },
  {
   "cell_type": "code",
   "execution_count": null,
   "metadata": {},
   "outputs": [],
   "source": [
    "class Parser:\n",
    "    \"\"\"Parameters for the training\"\"\"\n",
    "    def __init__(self):\n",
    "        self.epochs = 0\n",
    "        self.sabotage_epochs = 20\n",
    "        self.new_adversary_epochs = 10\n",
    "        self.lr = 0.002\n",
    "        self.momentum = 0.5\n",
    "        self.test_batch_size = 1000\n",
    "        self.batch_size = 64\n",
    "        self.log_interval = 100"
   ]
  },
  {
   "cell_type": "code",
   "execution_count": null,
   "metadata": {},
   "outputs": [],
   "source": [
    "fonts = ['cursive', 'Georgia']\n",
    "letter = 'p'"
   ]
  },
  {
   "cell_type": "markdown",
   "metadata": {},
   "source": [
    "## 2. Building resistance"
   ]
  },
  {
   "cell_type": "markdown",
   "metadata": {},
   "source": [
    "Let's define the model with the describes architecture. Basically you have 3 blocs: 1 quadratic and 2 CNN."
   ]
  },
  {
   "cell_type": "markdown",
   "metadata": {},
   "source": [
    "Next, we define the train and test functions. They assume the train_load return two labels: the char and the font of some input.\n",
    "\n",
    "In the training phase we execute the 3 steps as described aboved.\n",
    "\n",
    "In the test function, we just test the performance for the main and collateral tasks."
   ]
  },
  {
   "cell_type": "code",
   "execution_count": null,
   "metadata": {},
   "outputs": [],
   "source": [
    "def build_resistance(model, alpha=0):\n",
    "    \"\"\"\n",
    "    Perform a learning + a sabotage phase\n",
    "    \"\"\"\n",
    "    args = Parser()\n",
    "    \n",
    "    train_loader, test_loader = get_data_loaders(args, *fonts)\n",
    "\n",
    "    optimizer = optim.SGD(model.parameters(), lr=args.lr, momentum=args.momentum)\n",
    "    \n",
    "    test_perfs_char = []\n",
    "    test_perfs_font = []\n",
    "    \n",
    "    for epoch in range(1, args.epochs + args.sabotage_epochs + 1):\n",
    "        initial_phase = epoch <= args.epochs\n",
    "        if initial_phase:\n",
    "            print(\"(initial phase)\")\n",
    "        perturbate = epoch > args.epochs and epoch <= args.epochs + args.sabotage_epochs\n",
    "        if perturbate:\n",
    "            print(\"(perturbate)\")\n",
    "        new_adversary = False\n",
    "        \n",
    "        resistance.train(args, model, train_loader, optimizer, epoch, alpha, initial_phase, perturbate, new_adversary)\n",
    "        test_perf_char, test_perf_font = resistance.test(args, model, test_loader, new_adversary)\n",
    "        test_perfs_char.append(test_perf_char)\n",
    "        test_perfs_font.append(test_perf_font)\n",
    "\n",
    "    return test_perfs_char, test_perfs_font"
   ]
  },
  {
   "cell_type": "code",
   "execution_count": null,
   "metadata": {
    "scrolled": true
   },
   "outputs": [],
   "source": [
    "path = '../data/models/part21_ResistanceNet.pt'\n",
    "model = ResistanceNet()\n",
    "results = {}\n",
    "\n",
    "try:\n",
    "    model.load_state_dict(torch.load(path))\n",
    "    model.eval()\n",
    "    print('Model loaded!')\n",
    "except FileNotFoundError:\n",
    "    print('Computing model...')\n",
    "    \n",
    "alpha=1.5\n",
    "test_perfs_char_perturbate, test_perfs_font_perturbate = build_resistance(model, alpha=alpha)\n",
    "results[f\"Main task with perturbation alpha={alpha}\"] = test_perfs_char_perturbate\n",
    "results[f\"Collateral task with perturbation alpha={alpha}\"] = test_perfs_font_perturbate\n",
    "\n",
    "model.results = results\n",
    "# save model\n",
    "torch.save(model.state_dict(), path)"
   ]
  },
  {
   "cell_type": "markdown",
   "metadata": {},
   "source": [
    "# 3. Testing resistance with multiple models"
   ]
  },
  {
   "cell_type": "code",
   "execution_count": null,
   "metadata": {},
   "outputs": [],
   "source": [
    "quadratic_model = model\n",
    "quadratic_model.freeze('quad')"
   ]
  },
  {
   "cell_type": "code",
   "execution_count": null,
   "metadata": {},
   "outputs": [],
   "source": [
    "def evaluate_resistance(model, alpha=0):\n",
    "\n",
    "    args = Parser()\n",
    "    \n",
    "    train_loader, test_loader = get_collateral_data_loaders(args, *fonts, letter)\n",
    "\n",
    "    optimizer = optim.SGD(model.parameters(), lr=args.lr, momentum=args.momentum)\n",
    "    \n",
    "    test_perfs_char = []\n",
    "    test_perfs_font = []\n",
    "    \n",
    "    for epoch in range(1, args.new_adversary_epochs + 1):\n",
    "        initial_phase = False\n",
    "        perturbate = False\n",
    "        new_adversary = True\n",
    "        \n",
    "        resistance.train(args, model, train_loader, optimizer, epoch, alpha, initial_phase, perturbate, new_adversary)\n",
    "        test_perf_char, test_perf_font = resistance.test(args, model, test_loader, new_adversary)\n",
    "        test_perfs_char.append(test_perf_char)\n",
    "        test_perfs_font.append(test_perf_font)\n",
    "\n",
    "    return test_perfs_char, test_perfs_font"
   ]
  },
  {
   "cell_type": "code",
   "execution_count": null,
   "metadata": {},
   "outputs": [],
   "source": [
    "class BaseNet(nn.Module):\n",
    "    def __init__(self, quadratic_model):\n",
    "        super(BaseNet, self).__init__()\n",
    "        self.proj1 = quadratic_model.proj1\n",
    "        self.diag1 = quadratic_model.diag1\n",
    "        \n",
    "    def quad(self, x):\n",
    "        \"\"\"Same as forward up to the junction part\n",
    "        Used for the collateral training\"\"\"\n",
    "        # --- Quadratic \n",
    "        x = x.view(-1, 784)\n",
    "        x = self.proj1(x)\n",
    "        x = x * x\n",
    "        x = self.diag1(x)\n",
    "        return x\n",
    "    \n",
    "    def conv_font(self, x):\n",
    "        pass\n",
    "    \n",
    "    def forward_adv_font(self, x):\n",
    "        x = self.quad(x)\n",
    "        x = self.conv_font(x)\n",
    "        return F.log_softmax(x, dim=1)\n",
    "    \n",
    "    def get_params(self, net):\n",
    "        \"\"\"Select the params for a given part of the net\"\"\"\n",
    "        if net == 'quad':\n",
    "            layers = [self.proj1, self.diag1]\n",
    "        else:\n",
    "            raise AttributeError(f'{net} type not recognized')\n",
    "        params = [p for layer in layers for p in layer.parameters()]\n",
    "        return params\n",
    "    \n",
    "    def freeze(self, net):\n",
    "        \"\"\"Freeze a part of the net\"\"\"\n",
    "        net_params = self.get_params(net)\n",
    "        for param in net_params:\n",
    "            param.requires_grad = False\n",
    "            \n",
    "    def unfreeze(self):\n",
    "        \"\"\"Unfreeze the net\"\"\"\n",
    "        for param in self.parameters():\n",
    "            param.requires_grad = True"
   ]
  },
  {
   "cell_type": "code",
   "execution_count": null,
   "metadata": {},
   "outputs": [],
   "source": [
    "resistance_reports = {}"
   ]
  },
  {
   "cell_type": "markdown",
   "metadata": {},
   "source": [
    "## 3.1 Fully connected models "
   ]
  },
  {
   "cell_type": "code",
   "execution_count": null,
   "metadata": {},
   "outputs": [],
   "source": [
    "class FFNet(BaseNet):\n",
    "    def __init__(self, architecture, quadratic_model):\n",
    "        super(FFNet, self).__init__(quadratic_model)\n",
    "        # --- FFNs for font families\n",
    "        self.architecture = architecture\n",
    "        n_layer = len(architecture) + 1\n",
    "        input_size = 8\n",
    "        for i_layer, output_size in enumerate(architecture):\n",
    "            setattr(self, f\"net_{i_layer}\", nn.Linear(input_size, output_size))\n",
    "            input_size = output_size\n",
    "        setattr(self, f\"net_{n_layer}\", nn.Linear(input_size, N_FONTS)) \n",
    "    \n",
    "    def conv_font(self, x):\n",
    "        # --- FFN\n",
    "        architecture = self.architecture\n",
    "        n_layer = len(architecture) + 1\n",
    "        for i_layer, output_size in enumerate(architecture):\n",
    "            linear = getattr(self, f\"net_{i_layer}\")\n",
    "            x = F.relu(linear(x))\n",
    "        linear = getattr(self, f\"net_{n_layer}\")  \n",
    "        x = linear(x)\n",
    "        return x\n",
    "        \n",
    "        "
   ]
  },
  {
   "cell_type": "code",
   "execution_count": null,
   "metadata": {},
   "outputs": [],
   "source": [
    "architectures = [[64, 32, 16, 8], [32, 16, 8], [24, 12], [64], [32], [16]]\n",
    "\n",
    "for architecture in architectures:\n",
    "    model = FFNet(architecture, quadratic_model)\n",
    "    _, test_perfs_font = evaluate_resistance(model)\n",
    "    \n",
    "    architecture = ':'.join(map(str, [8] + architecture + [N_FONTS]))\n",
    "    resistance_reports[f\"Collateral task with net {architecture}\"] = test_perfs_font\n",
    "    \n",
    "show_results(resistance_reports, title=\"Resistance of FFNs with CNN protection\")\n"
   ]
  },
  {
   "cell_type": "markdown",
   "metadata": {},
   "source": [
    "## 3.2 CNN models"
   ]
  },
  {
   "cell_type": "code",
   "execution_count": null,
   "metadata": {},
   "outputs": [],
   "source": [
    "class CNNet2(BaseNet):\n",
    "    def __init__(self, nn_modules, quadratic_model):\n",
    "        super(CNNet2, self).__init__(quadratic_model)\n",
    "\n",
    "        self.jc = nn.Linear(8, 784)\n",
    "            \n",
    "        self.cv1 = nn.Conv2d(1, 20, 5, 1)\n",
    "        self.cv2 = nn.Conv2d(20, 50, 5, 1)\n",
    "        self.ln1 = nn.Linear(4*4*50, 500)\n",
    "        self.ln2 = nn.Linear(500, N_FONTS)\n",
    "    \n",
    "    def conv_font(self, x):\n",
    "        \n",
    "        x = self.jc(x)\n",
    "        x = x.view(-1, 1, 28, 28)\n",
    "        \n",
    "        # --- CNN\n",
    "        x = F.relu(self.cv1(x))\n",
    "        x = F.max_pool2d(x, 2, 2)\n",
    "        x = F.relu(self.cv2(x))\n",
    "        x = F.max_pool2d(x, 2, 2)\n",
    "        x = x.view(-1, 4*4*50)\n",
    "        x = F.relu(self.ln1(x))\n",
    "        x = self.ln2(x)\n",
    "        return x\n",
    "         "
   ]
  },
  {
   "cell_type": "code",
   "execution_count": null,
   "metadata": {},
   "outputs": [],
   "source": [
    "class CNNet(BaseNet):\n",
    "    def __init__(self, nn_modules, quadratic_model):\n",
    "        super(CNNet, self).__init__(quadratic_model)\n",
    "        # --- CNNs for font families\n",
    "        self.nn_modules = nn_modules\n",
    "        setattr(self, \"net_0\", nn.Linear(8, 784))\n",
    "        for i_layer, nn_module in enumerate(nn_modules):\n",
    "            setattr(self, f\"net_{i_layer + 1}\", nn_module)\n",
    "    \n",
    "    def conv_font(self, x):\n",
    "        switched_from_conv_lin = False\n",
    "        out_channels = []\n",
    "        # Make the junction\n",
    "        linear = getattr(self, \"net_0\")  \n",
    "        x = linear(x)\n",
    "        x = x.view(-1, 1, 28, 28)\n",
    "        # --- CNN\n",
    "        for i_layer, _ in enumerate(self.nn_modules):\n",
    "            layer = getattr(self, f\"net_{i_layer + 1}\")\n",
    "            if isinstance(layer, nn.Conv2d): # Conv layer\n",
    "                x = F.relu(layer(x))\n",
    "                x = F.max_pool2d(x, 2, 2)\n",
    "                out_channels.append(layer.out_channels)\n",
    "            else: # Linear layer\n",
    "                if not switched_from_conv_lin:\n",
    "                    x = x.view(-1, 4*4*out_channels[-1])\n",
    "                    switched_from_conv_lin = True\n",
    "                if i_layer < len(self.nn_modules) - 1:\n",
    "                    x = F.relu(layer(x))\n",
    "                else:\n",
    "                    x = layer(x)\n",
    "        return x\n",
    "         "
   ]
  },
  {
   "cell_type": "code",
   "execution_count": null,
   "metadata": {
    "scrolled": true
   },
   "outputs": [],
   "source": [
    "architectures = [\n",
    "    (\n",
    "        nn.Conv2d(1, 20, 5, 1),\n",
    "        nn.Conv2d(20, 50, 5, 1),\n",
    "        nn.Linear(4*4*50, 500),\n",
    "        nn.Linear(500, N_FONTS)\n",
    "    )\n",
    "]\n",
    "\"\"\"    ,\n",
    "    (\n",
    "        nn.Conv2d(1, 30, 4, 1),\n",
    "        nn.Conv2d(30, 100, 4),\n",
    "        nn.Linear(100 * 4 * 4, 1000),\n",
    "        nn.Linear(1000, 100),\n",
    "        nn.Linear(100, N_FONTS)\n",
    "    )\n",
    "]\"\"\"\n",
    "for i, architecture in enumerate(architectures):\n",
    "    model = CNNet(architecture, quadratic_model)\n",
    "    _, test_perfs_font = evaluate_resistance(model)\n",
    "    \n",
    "    resistance_reports[f\"Collateral task with CNN {i}\"] = test_perfs_font\n",
    "    \n",
    "show_results(resistance_reports, title=\"Resistance of CNNs with CNN protection\")"
   ]
  },
  {
   "cell_type": "markdown",
   "metadata": {},
   "source": [
    "## 3.3 Non-DL models"
   ]
  },
  {
   "cell_type": "markdown",
   "metadata": {},
   "source": [
    "### Data preparation"
   ]
  },
  {
   "cell_type": "code",
   "execution_count": null,
   "metadata": {},
   "outputs": [],
   "source": [
    "transform = BaseNet(quadratic_model)"
   ]
  },
  {
   "cell_type": "code",
   "execution_count": null,
   "metadata": {},
   "outputs": [],
   "source": [
    "def get_input_onehot_labels(dataset, label=\"font\", one_hot=True):\n",
    "    data_input = dataset.tensors[0]\n",
    "    label_idx = {'char': 0, 'font': 1}[label]\n",
    "    label_size = {'char': 1, 'font': N_FONTS}[label]\n",
    "    labels = dataset.tensors[1][:, label_idx].view(-1, 1)\n",
    "    \n",
    "    data_label_onehot = torch.zeros(len(labels), label_size)\n",
    "    data_label_onehot.scatter_(1, labels, 1)\n",
    "    \n",
    "    return data_input, labels, data_label_onehot\n",
    "    "
   ]
  },
  {
   "cell_type": "markdown",
   "metadata": {},
   "source": [
    "Get dataset and transform in one hot vector"
   ]
  },
  {
   "cell_type": "code",
   "execution_count": null,
   "metadata": {},
   "outputs": [],
   "source": [
    "train_dataset, test_dataset = get_collateral_datasets(*fonts, letter)\n",
    "train_input, train_label, train_label_one_hot = get_input_onehot_labels(train_dataset, label=\"font\")\n",
    "test_input, test_label, test_label_one_hot = get_input_onehot_labels(test_dataset, label=\"font\")"
   ]
  },
  {
   "cell_type": "markdown",
   "metadata": {},
   "source": [
    "Apply the quadratic model transformation"
   ]
  },
  {
   "cell_type": "code",
   "execution_count": null,
   "metadata": {},
   "outputs": [],
   "source": [
    "train_input = transform.quad(train_input).detach().numpy()\n",
    "test_input = transform.quad(test_input).detach().numpy()"
   ]
  },
  {
   "cell_type": "code",
   "execution_count": null,
   "metadata": {},
   "outputs": [],
   "source": [
    "train_input.shape, train_label.shape"
   ]
  },
  {
   "cell_type": "code",
   "execution_count": null,
   "metadata": {},
   "outputs": [],
   "source": [
    "ALL = train_input.shape[0]\n",
    "CPOWER = 'LOW'"
   ]
  },
  {
   "cell_type": "code",
   "execution_count": null,
   "metadata": {},
   "outputs": [],
   "source": [
    "from sklearn import linear_model\n",
    "from sklearn import kernel_ridge\n",
    "from sklearn import svm"
   ]
  },
  {
   "cell_type": "code",
   "execution_count": null,
   "metadata": {},
   "outputs": [],
   "source": [
    "def evaluate_sklearn(reg, one_hot=True, limit=int(10e10)):\n",
    "    train_labels = {True: train_label_one_hot, False: train_label}[one_hot]\n",
    "    reg.fit(train_input[:limit], train_labels[:limit].detach().numpy()) \n",
    "    output = reg.predict(test_input)\n",
    "    if one_hot:\n",
    "        pred = torch.tensor(output).argmax(1, keepdim=True)\n",
    "    else:\n",
    "        if isinstance(output, list):\n",
    "            pred = torch.tensor(list(map(round, output))).long().view(-1, 1)\n",
    "        else:\n",
    "            pred = torch.tensor(np.round(output)).long().view(-1, 1)\n",
    "    y = test_label.view_as(pred)\n",
    "    acc = pred.eq(y).sum().item() / len(pred)\n",
    "    return acc"
   ]
  },
  {
   "cell_type": "markdown",
   "metadata": {},
   "source": [
    "### Linear models"
   ]
  },
  {
   "cell_type": "code",
   "execution_count": null,
   "metadata": {},
   "outputs": [],
   "source": [
    "reg = linear_model.Ridge(alpha=.9)\n",
    "acc = evaluate_sklearn(reg)\n",
    "print(acc)\n",
    "resistance_reports['linear model Ridge'] = acc * 100"
   ]
  },
  {
   "cell_type": "markdown",
   "metadata": {},
   "source": [
    "### Quadratic Discriminant Analysis"
   ]
  },
  {
   "cell_type": "code",
   "execution_count": null,
   "metadata": {},
   "outputs": [],
   "source": [
    "from sklearn.discriminant_analysis import QuadraticDiscriminantAnalysis"
   ]
  },
  {
   "cell_type": "code",
   "execution_count": null,
   "metadata": {},
   "outputs": [],
   "source": [
    "clf = QuadraticDiscriminantAnalysis()\n",
    "acc = evaluate_sklearn(clf, one_hot=False)\n",
    "print(acc)\n",
    "resistance_reports['Quadratic Discriminant Analysis'] = acc * 100"
   ]
  },
  {
   "cell_type": "markdown",
   "metadata": {},
   "source": [
    "### K-Neighbors Classifier"
   ]
  },
  {
   "cell_type": "code",
   "execution_count": null,
   "metadata": {},
   "outputs": [],
   "source": [
    "from sklearn.neighbors import KNeighborsClassifier"
   ]
  },
  {
   "cell_type": "code",
   "execution_count": null,
   "metadata": {},
   "outputs": [],
   "source": [
    "\n",
    "clf = KNeighborsClassifier(n_neighbors=7)\n",
    "acc = evaluate_sklearn(clf, one_hot=False)\n",
    "print(acc)\n",
    "resistance_reports['K-Neighbors Classifier'] = acc * 100"
   ]
  },
  {
   "cell_type": "markdown",
   "metadata": {},
   "source": [
    "### Decision Tree Classifier"
   ]
  },
  {
   "cell_type": "code",
   "execution_count": null,
   "metadata": {},
   "outputs": [],
   "source": [
    "from sklearn.tree import DecisionTreeClassifier"
   ]
  },
  {
   "cell_type": "code",
   "execution_count": null,
   "metadata": {},
   "outputs": [],
   "source": [
    "\n",
    "clf = DecisionTreeClassifier(max_depth=5)\n",
    "acc = evaluate_sklearn(clf, one_hot=False)\n",
    "print(acc)\n",
    "\n",
    "resistance_reports['Decision Tree Classifier'] = acc * 100"
   ]
  },
  {
   "cell_type": "markdown",
   "metadata": {},
   "source": [
    "### Ensemble methods"
   ]
  },
  {
   "cell_type": "code",
   "execution_count": null,
   "metadata": {},
   "outputs": [],
   "source": [
    "from sklearn.ensemble import RandomForestClassifier\n",
    "from sklearn.ensemble import AdaBoostClassifier\n",
    "from sklearn.ensemble import GradientBoostingClassifier"
   ]
  },
  {
   "cell_type": "code",
   "execution_count": null,
   "metadata": {},
   "outputs": [],
   "source": [
    "\n",
    "clf = RandomForestClassifier(max_depth=30, n_estimators=100, max_features=4)\n",
    "acc = evaluate_sklearn(clf, one_hot=False)\n",
    "print(acc)\n",
    "resistance_reports['Random Forest Classifier'] = acc * 100"
   ]
  },
  {
   "cell_type": "code",
   "execution_count": null,
   "metadata": {},
   "outputs": [],
   "source": [
    "\n",
    "clf = GradientBoostingClassifier(n_estimators=10, learning_rate=1.0,\n",
    "    max_depth=10, random_state=0)\n",
    "acc = evaluate_sklearn(clf, one_hot=False)\n",
    "print(acc)\n",
    "resistance_reports['Gradient Boosting Classifier'] = acc * 100"
   ]
  },
  {
   "cell_type": "markdown",
   "metadata": {},
   "source": [
    "## Summary"
   ]
  },
  {
   "cell_type": "code",
   "execution_count": null,
   "metadata": {},
   "outputs": [],
   "source": [
    "def print_table(results):\n",
    "    n_cols = 2\n",
    "    title_length = 0\n",
    "    for title in results.keys():\n",
    "        title_length = max(title_length, len(title))\n",
    "    result_length = 8\n",
    "    table_length = 1 + n_cols + title_length + result_length\n",
    "    sep = '+'.join(\n",
    "        ['', '-'*title_length, '-'*result_length, '']\n",
    "    )\n",
    "    for title, serie in results.items():\n",
    "        print(sep)\n",
    "        title = (title + ' '*title_length)[:title_length]\n",
    "        if isinstance(serie, list):\n",
    "            result = round(np.mean(serie[-4:]), 2)\n",
    "        else:\n",
    "            result = round(serie, 2)\n",
    "        result = (' ' +str(result) + '%' + ' '*result_length)[:result_length]\n",
    "        line = '|'.join(\n",
    "            ['', title, result, '']\n",
    "        )\n",
    "        print(line)\n",
    "    print(sep)"
   ]
  },
  {
   "cell_type": "code",
   "execution_count": null,
   "metadata": {},
   "outputs": [],
   "source": [
    "print_table(resistance_reports)"
   ]
  },
  {
   "cell_type": "code",
   "execution_count": null,
   "metadata": {},
   "outputs": [],
   "source": [
    "With protection 100 epochs\n",
    "\n",
    "+---------------------------------------+--------+\n",
    "|Collateral task with net 8:64:32:16:8:2| 65.1%  |\n",
    "+---------------------------------------+--------+\n",
    "|Collateral task with net 8:32:16:8:2   | 62.31% |\n",
    "+---------------------------------------+--------+\n",
    "|Collateral task with net 8:24:12:2     | 61.03% |\n",
    "+---------------------------------------+--------+\n",
    "|Collateral task with net 8:64:2        | 64.87% |\n",
    "+---------------------------------------+--------+\n",
    "|Collateral task with net 8:32:2        | 64.18% |\n",
    "+---------------------------------------+--------+\n",
    "|Collateral task with net 8:16:2        | 61.71% |\n",
    "+---------------------------------------+--------+\n",
    "|Collateral task with CNN 0             | 66.23% |\n",
    "+---------------------------------------+--------+\n",
    "|linear model Ridge                     | 64.25% |\n",
    "+---------------------------------------+--------+\n",
    "|Quadratic Discriminant Analysis        | 68.6%  |\n",
    "+---------------------------------------+--------+\n",
    "|K-Neighbors Classifier                 | 79.3%  |\n",
    "+---------------------------------------+--------+\n",
    "|Decision Tree Classifier               | 65.21% |\n",
    "+---------------------------------------+--------+\n",
    "|Random Forest Classifier               | 79.47% |\n",
    "+---------------------------------------+--------+\n",
    "|Gradient Boosting Classifier           | 74.87% |\n",
    "+---------------------------------------+--------+\n",
    "\n",
    "\n",
    "With protection 80 epochs\n",
    "\n",
    "+---------------------------------------+--------+\n",
    "|Collateral task with net 8:64:32:16:8:2| 61.05% |\n",
    "+---------------------------------------+--------+\n",
    "|Collateral task with net 8:32:16:8:2   | 60.34% |\n",
    "+---------------------------------------+--------+\n",
    "|Collateral task with net 8:24:12:2     | 61.84% |\n",
    "+---------------------------------------+--------+\n",
    "|Collateral task with net 8:64:2        | 65.92% |\n",
    "+---------------------------------------+--------+\n",
    "|Collateral task with net 8:32:2        | 65.21% |\n",
    "+---------------------------------------+--------+\n",
    "|Collateral task with net 8:16:2        | 61.92% |\n",
    "+---------------------------------------+--------+\n",
    "|Collateral task with CNN 0             | 63.28% |\n",
    "+---------------------------------------+--------+\n",
    "|linear model Ridge                     | 62.78% |\n",
    "+---------------------------------------+--------+\n",
    "|Quadratic Discriminant Analysis        | 70.31% |\n",
    "+---------------------------------------+--------+\n",
    "|K-Neighbors Classifier                 | 79.49% |\n",
    "+---------------------------------------+--------+\n",
    "|Decision Tree Classifier               | 63.11% |\n",
    "+---------------------------------------+--------+\n",
    "|Random Forest Classifier               | 80.36% |\n",
    "+---------------------------------------+--------+\n",
    "|Gradient Boosting Classifier           | 75.57% |\n",
    "+---------------------------------------+--------+\n",
    "\n",
    "\n",
    "With protection 30 epochs\n",
    "\n",
    "+---------------------------------------+--------+\n",
    "|Collateral task with net 8:64:32:16:8:2| 76.62% |\n",
    "+---------------------------------------+--------+\n",
    "|Collateral task with net 8:32:16:8:2   | 73.02% |\n",
    "+---------------------------------------+--------+\n",
    "|Collateral task with net 8:24:12:2     | 75.48% |\n",
    "+---------------------------------------+--------+\n",
    "|Collateral task with net 8:64:2        | 76.76% |\n",
    "+---------------------------------------+--------+\n",
    "|Collateral task with net 8:32:2        | 74.33% |\n",
    "+---------------------------------------+--------+\n",
    "|Collateral task with net 8:16:2        | 67.9%  |\n",
    "+---------------------------------------+--------+\n",
    "|Collateral task with CNN 0             | 76.39% |\n",
    "+---------------------------------------+--------+\n",
    "|linear model Ridge                     | 72.04% |\n",
    "+---------------------------------------+--------+\n",
    "|Quadratic Discriminant Analysis        | 78.9%  |\n",
    "+---------------------------------------+--------+\n",
    "|K-Neighbors Classifier                 | 87.66% |\n",
    "+---------------------------------------+--------+\n",
    "|Decision Tree Classifier               | 72.05% |\n",
    "+---------------------------------------+--------+\n",
    "|Random Forest Classifier               | 87.24% |\n",
    "+---------------------------------------+--------+\n",
    "|Gradient Boosting Classifier           | 82.5%  |\n",
    "+---------------------------------------+--------+\n",
    "\n",
    "\n",
    "With protection 10 epochs\n",
    "\n",
    "+---------------------------------------+--------+\n",
    "|Collateral task with net 8:64:32:16:8:2| 84.68% |\n",
    "+---------------------------------------+--------+\n",
    "|Collateral task with net 8:32:16:8:2   | 83.83% |\n",
    "+---------------------------------------+--------+\n",
    "|Collateral task with net 8:24:12:2     | 84.6%  |\n",
    "+---------------------------------------+--------+\n",
    "|Collateral task with net 8:64:2        | 84.56% |\n",
    "+---------------------------------------+--------+\n",
    "|Collateral task with net 8:32:2        | 83.22% |\n",
    "+---------------------------------------+--------+\n",
    "|Collateral task with net 8:16:2        | 82.8%  |\n",
    "+---------------------------------------+--------+\n",
    "|Collateral task with CNN 0             | 86.31% |\n",
    "+---------------------------------------+--------+\n",
    "|linear model Ridge                     | 82.0%  |\n",
    "+---------------------------------------+--------+\n",
    "|Quadratic Discriminant Analysis        | 86.13% |\n",
    "+---------------------------------------+--------+\n",
    "|K-Neighbors Classifier                 | 91.85% |\n",
    "+---------------------------------------+--------+\n",
    "|Decision Tree Classifier               | 77.88% |\n",
    "+---------------------------------------+--------+\n",
    "|Random Forest Classifier               | 90.96% |\n",
    "+---------------------------------------+--------+\n",
    "|Gradient Boosting Classifier           | 88.28% |\n",
    "+---------------------------------------+--------+\n",
    "\n",
    "Without\n",
    "\n",
    "+---------------------------------------+--------+\n",
    "|Collateral task with net 8:64:32:16:8:2| 97.53% |\n",
    "+---------------------------------------+--------+\n",
    "|Collateral task with net 8:32:16:8:2   | 97.5%  |\n",
    "+---------------------------------------+--------+\n",
    "|Collateral task with net 8:24:12:2     | 97.56% |\n",
    "+---------------------------------------+--------+\n",
    "|Collateral task with net 8:64:2        | 97.56% |\n",
    "+---------------------------------------+--------+\n",
    "|Collateral task with net 8:32:2        | 97.25% |\n",
    "+---------------------------------------+--------+\n",
    "|Collateral task with net 8:16:2        | 97.31% |\n",
    "+---------------------------------------+--------+\n",
    "|Collateral task with CNN 0             | 97.97% |\n",
    "+---------------------------------------+--------+\n",
    "|linear model Ridge                     | 96.7%  |\n",
    "+---------------------------------------+--------+\n",
    "|Quadratic Discriminant Analysis        | 97.02% |\n",
    "+---------------------------------------+--------+\n",
    "|K-Neighbors Classifier                 | 98.48% |\n",
    "+---------------------------------------+--------+\n",
    "|Decision Tree Classifier               | 95.06% |\n",
    "+---------------------------------------+--------+\n",
    "|Random Forest Classifier               | 98.05% |\n",
    "+---------------------------------------+--------+\n",
    "|Gradient Boosting Classifier           | 97.5%  |\n",
    "+---------------------------------------+--------+"
   ]
  },
  {
   "cell_type": "markdown",
   "metadata": {},
   "source": [
    "### Compative results"
   ]
  },
  {
   "cell_type": "markdown",
   "metadata": {},
   "source": [
    "+---------------------------------------+--------+--------+\n",
    "| Model                                 | Basic  |Resisted| \n",
    "+---------------------------------------+--------+--------+\n",
    "|Collateral task with net 8:64:32:16:8:5| 49.1%  | 29.5%  |\n",
    "+---------------------------------------+--------+--------+\n",
    "|Collateral task with net 8:32:16:8:5   | 47.76% | 25.46% |\n",
    "+---------------------------------------+--------+--------+\n",
    "|Collateral task with net 8:24:12:5     | 46.4%  | 24.26% |\n",
    "+---------------------------------------+--------+--------+\n",
    "|Collateral task with net 8:64:5        | 52.29% | 31.34% |\n",
    "+---------------------------------------+--------+--------+\n",
    "|Collateral task with net 8:32:5        | 48.47% | 28.37% |\n",
    "+---------------------------------------+--------+--------+\n",
    "|Collateral task with net 8:16:5        | 41.96% | 26.88% |\n",
    "+---------------------------------------+--------+--------+\n",
    "|linear model Ridge                     | 31.75% | 26.39% |\n",
    "+---------------------------------------+--------+--------+\n",
    "|linear model Lasso                     | 30.82% | 25.36% |\n",
    "+---------------------------------------+--------+--------+\n",
    "|logistic regression                    | 32.08% | 26.15% |\n",
    "+---------------------------------------+--------+--------+\n",
    "|Quadratic Discriminant Analysis        | 40.62% | 30.19% |\n",
    "+---------------------------------------+--------+--------+\n",
    "|SVM (rbf)                              | 51.14% | 28.59% |\n",
    "+---------------------------------------+--------+--------+\n",
    "|SGDClassifier                          | 25.79% | 24.69% |\n",
    "+---------------------------------------+--------+--------+\n",
    "|K-Neighbors Classifier                 | 70.04% | 56.75% | *\n",
    "+---------------------------------------+--------+--------+\n",
    "|Gaussian process                       | 21.24% | 20.39% |\n",
    "+---------------------------------------+--------+--------+\n",
    "|Decision Tree Classifier               | 37.04% | 28.48% |\n",
    "+---------------------------------------+--------+--------+\n",
    "|Random Forest Classifier               | 69.5%  | 55.87% | *\n",
    "+---------------------------------------+--------+--------+\n",
    "|AdaBoost Classifier                    | 37.34% | 28.69% |\n",
    "+---------------------------------------+--------+--------+\n",
    "|Gradient Boosting Classifier           | 60.07% | 45.02% | *\n",
    "+---------------------------------------+--------+--------+\n",
    "|Collateral task with CNN 0             |        | 45.7%  | *\n",
    "+---------------------------------------+--------+--------+\n",
    "|Collateral task with CNN 1             |        | 45.5%  | *\n",
    "+---------------------------------------+--------+--------+\n"
   ]
  },
  {
   "cell_type": "markdown",
   "metadata": {},
   "source": [
    "## Conclusion\n",
    "Overall, the models which use linear components behave quite poorly, while those based on completely different learning approaches (like K-Neighbors Classifier or Random Forest Classifier for example) manage to keep a pretty good accuracy in general. They also suffer from substantial accuracy drop in the sabotage setting (-15pt, while others loose more than 20pt), but as their initial performance was really good, they stand as outliers and robust adversaries which can help disclosing meaningful and sensitive information. For example, the K-Neighbors Classifier  succeeds in its predictions almost 3 times out of 5."
   ]
  },
  {
   "cell_type": "code",
   "execution_count": null,
   "metadata": {},
   "outputs": [],
   "source": []
  }
 ],
 "metadata": {
  "kernelspec": {
   "display_name": "Python 3",
   "language": "python",
   "name": "python3"
  },
  "language_info": {
   "codemirror_mode": {
    "name": "ipython",
    "version": 3
   },
   "file_extension": ".py",
   "mimetype": "text/x-python",
   "name": "python",
   "nbconvert_exporter": "python",
   "pygments_lexer": "ipython3",
   "version": "3.7.0"
  }
 },
 "nbformat": 4,
 "nbformat_minor": 2
}
