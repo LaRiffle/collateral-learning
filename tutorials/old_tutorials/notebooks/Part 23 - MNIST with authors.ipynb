{
 "cells": [
  {
   "cell_type": "code",
   "execution_count": 9,
   "metadata": {},
   "outputs": [],
   "source": [
    "from os import listdir\n",
    "from os.path import isfile, join, isdir\n",
    "\n",
    "import numpy as np"
   ]
  },
  {
   "cell_type": "code",
   "execution_count": 11,
   "metadata": {},
   "outputs": [
    {
     "name": "stdout",
     "output_type": "stream",
     "text": [
      "/Users/tryffel/Downloads/by_write/hsf_1/f0785_26\n",
      "/Users/tryffel/Downloads/by_write/hsf_1/f0802_22\n",
      "/Users/tryffel/Downloads/by_write/hsf_3/f1995_29\n",
      "/Users/tryffel/Downloads/by_write/hsf_3/f1992_08\n",
      "/Users/tryffel/Downloads/by_write/hsf_3/f1726_01\n",
      "/Users/tryffel/Downloads/by_write/hsf_3/f1984_28\n",
      "/Users/tryffel/Downloads/by_write/hsf_3/f2044_20\n",
      "/Users/tryffel/Downloads/by_write/hsf_3/f1727_36\n",
      "/Users/tryffel/Downloads/by_write/hsf_3/f1990_33\n",
      "/Users/tryffel/Downloads/by_write/hsf_3/f1725_33\n",
      "/Users/tryffel/Downloads/by_write/hsf_3/f1723_34\n",
      "/Users/tryffel/Downloads/by_write/hsf_3/f1974_21\n",
      "/Users/tryffel/Downloads/by_write/hsf_3/f1969_24\n",
      "/Users/tryffel/Downloads/by_write/hsf_3/f2046_26\n",
      "/Users/tryffel/Downloads/by_write/hsf_2/f1110_03\n",
      "/Users/tryffel/Downloads/by_write/hsf_2/f1107_44\n",
      "/Users/tryffel/Downloads/by_write/hsf_2/f1102_33\n",
      "[116, 124, 127, 129, 114, 126, 57, 117, 130, 130]\n"
     ]
    }
   ],
   "source": [
    "path = \"/Users/tryffel/Downloads/by_write\"\n",
    "folders = [join(path, f) for f in listdir(path) if isdir(join(path, f))]\n",
    "\n",
    "digit_folders = []\n",
    "for folder in folders:\n",
    "    individuals = [join(folder, f) for f in listdir(folder) if isdir(join(folder, f))]\n",
    "    for individual in individuals:\n",
    "        digit_folder = [join(individual, f) for f in listdir(individual)\n",
    "                        if isdir(join(individual, f)) and f[0] == 'd']\n",
    "        if len(digit_folder) < 1:\n",
    "            pass\n",
    "        elif len(digit_folder) == 1:\n",
    "            digit_folders.append(digit_folder[0])\n",
    "        else:\n",
    "            print(individual)\n",
    "\n",
    "n_digits_per_individual = []\n",
    "for digit_folder in digit_folders:\n",
    "    digit_files = [join(digit_folder, f) for f in listdir(digit_folder) if isfile(join(digit_folder, f))]\n",
    "    n_digits = len(digit_files)\n",
    "    n_digits_per_individual.append(n_digits)\n",
    "    \n",
    "print(n_digits_per_individual[:10])\n",
    "\n",
    "#onlyfiles = [f for f in listdir(path) if isfile(join(path, f))]"
   ]
  },
  {
   "cell_type": "code",
   "execution_count": 13,
   "metadata": {},
   "outputs": [],
   "source": [
    "d = np.array(n_digits_per_individual)"
   ]
  },
  {
   "cell_type": "code",
   "execution_count": 16,
   "metadata": {},
   "outputs": [
    {
     "data": {
      "text/plain": [
       "(147, 11, 112.55670391061453, 16.340232839452643, 3580)"
      ]
     },
     "execution_count": 16,
     "metadata": {},
     "output_type": "execute_result"
    }
   ],
   "source": [
    "np.max(d), np.min(d), np.mean(d), np.std(d), len(d)"
   ]
  },
  {
   "cell_type": "code",
   "execution_count": null,
   "metadata": {},
   "outputs": [],
   "source": []
  }
 ],
 "metadata": {
  "kernelspec": {
   "display_name": "Python 3",
   "language": "python",
   "name": "python3"
  },
  "language_info": {
   "codemirror_mode": {
    "name": "ipython",
    "version": 3
   },
   "file_extension": ".py",
   "mimetype": "text/x-python",
   "name": "python",
   "nbconvert_exporter": "python",
   "pygments_lexer": "ipython3",
   "version": "3.7.0"
  }
 },
 "nbformat": 4,
 "nbformat_minor": 2
}
