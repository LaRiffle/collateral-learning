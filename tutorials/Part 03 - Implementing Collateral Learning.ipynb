{
 "cells": [
  {
   "cell_type": "markdown",
   "metadata": {},
   "source": [
    "# Functional Encryption - Classification and information leakage\n",
    "\n",
    "We have seen how to improve the character recognition by replacing the argmax at the output of the private network with additional layers. We are now interested in finding if we can use the output of the private network to improve the font recognition. To do this, we first train the private network on the digit recognition task. We then freeze the private layers and replace the argmax with new layers which form what we call the collateral model and which try to predict the font.\n",
    "\n",
    "As there are only two fonts, a perfectly blind network should have 50% accuracy in the font recognition task."
   ]
  },
  {
   "cell_type": "markdown",
   "metadata": {},
   "source": [
    "# 3 Collateral Learning\n"
   ]
  },
  {
   "cell_type": "markdown",
   "metadata": {},
   "source": [
    "We will use the code directly from the repo, to make the notebook more readable."
   ]
  },
  {
   "cell_type": "code",
   "execution_count": 19,
   "metadata": {},
   "outputs": [],
   "source": [
    "# Allow to load packages from parent\n",
    "import sys, os\n",
    "sys.path.insert(1, os.path.realpath(os.path.pardir))"
   ]
  },
  {
   "cell_type": "code",
   "execution_count": 20,
   "metadata": {},
   "outputs": [],
   "source": [
    "import torch\n",
    "import torch.nn as nn\n",
    "import torch.optim as optim\n",
    "import torch.nn.functional as F\n",
    "\n",
    "import learn\n",
    "from learn import main, train, test, show_results, show_confusion_matrix\n",
    "from learn.models import QuadNet"
   ]
  },
  {
   "cell_type": "markdown",
   "metadata": {},
   "source": [
    "## 3.1 Loading the quadratic baseline\n",
    "Let's train the baseline model and this how we can use its output to train a collateral network!"
   ]
  },
  {
   "cell_type": "code",
   "execution_count": 21,
   "metadata": {},
   "outputs": [],
   "source": [
    "N_CHAR = 10\n",
    "\n",
    "class Parser:\n",
    "    def __init__(self):\n",
    "        self.epochs = 20\n",
    "        self.lr = 0.0006\n",
    "        self.momentum = 0.5\n",
    "        self.test_batch_size = 1000\n",
    "        self.batch_size = 64\n",
    "        self.log_interval = 300"
   ]
  },
  {
   "cell_type": "code",
   "execution_count": 24,
   "metadata": {
    "scrolled": true
   },
   "outputs": [
    {
     "name": "stdout",
     "output_type": "stream",
     "text": [
      "Training set 60000 items\n",
      "Testing set  10000 items\n",
      "Learning on char \n",
      "Train Epoch: 1 [0/60000 (0%)]\tLoss: 2.332097\n",
      "Train Epoch: 1 [19200/60000 (32%)]\tLoss: 0.189784\n",
      "Train Epoch: 1 [38400/60000 (64%)]\tLoss: 0.105172\n",
      "Train Epoch: 1 [57600/60000 (96%)]\tLoss: 0.077282\n",
      "\n",
      "Test set: Average loss: 0.0874, Accuracy: 9747/10000 (97.47%)\n",
      "\n",
      "Train Epoch: 2 [0/60000 (0%)]\tLoss: 0.066652\n",
      "Train Epoch: 2 [19200/60000 (32%)]\tLoss: 0.067274\n",
      "Train Epoch: 2 [38400/60000 (64%)]\tLoss: 0.055420\n",
      "Train Epoch: 2 [57600/60000 (96%)]\tLoss: 0.015269\n",
      "\n",
      "Test set: Average loss: 0.0636, Accuracy: 9825/10000 (98.25%)\n",
      "\n",
      "Train Epoch: 3 [0/60000 (0%)]\tLoss: 0.033876\n",
      "Train Epoch: 3 [19200/60000 (32%)]\tLoss: 0.098051\n",
      "Train Epoch: 3 [38400/60000 (64%)]\tLoss: 0.001078\n",
      "Train Epoch: 3 [57600/60000 (96%)]\tLoss: 0.002234\n",
      "\n",
      "Test set: Average loss: 0.0443, Accuracy: 9878/10000 (98.78%)\n",
      "\n",
      "Train Epoch: 4 [0/60000 (0%)]\tLoss: 0.008741\n",
      "Train Epoch: 4 [19200/60000 (32%)]\tLoss: 0.011260\n",
      "Train Epoch: 4 [38400/60000 (64%)]\tLoss: 0.006401\n",
      "Train Epoch: 4 [57600/60000 (96%)]\tLoss: 0.004734\n",
      "\n",
      "Test set: Average loss: 0.0404, Accuracy: 9893/10000 (98.93%)\n",
      "\n",
      "Train Epoch: 5 [0/60000 (0%)]\tLoss: 0.011643\n",
      "Train Epoch: 5 [19200/60000 (32%)]\tLoss: 0.002169\n",
      "Train Epoch: 5 [38400/60000 (64%)]\tLoss: 0.012894\n",
      "Train Epoch: 5 [57600/60000 (96%)]\tLoss: 0.015012\n",
      "\n",
      "Test set: Average loss: 0.0409, Accuracy: 9889/10000 (98.89%)\n",
      "\n",
      "Train Epoch: 6 [0/60000 (0%)]\tLoss: 0.004021\n",
      "Train Epoch: 6 [19200/60000 (32%)]\tLoss: 0.008985\n",
      "Train Epoch: 6 [38400/60000 (64%)]\tLoss: 0.010705\n",
      "Train Epoch: 6 [57600/60000 (96%)]\tLoss: 0.001548\n",
      "\n",
      "Test set: Average loss: 0.0369, Accuracy: 9913/10000 (99.13%)\n",
      "\n",
      "Train Epoch: 7 [0/60000 (0%)]\tLoss: 0.005876\n",
      "Train Epoch: 7 [19200/60000 (32%)]\tLoss: 0.005995\n",
      "Train Epoch: 7 [38400/60000 (64%)]\tLoss: 0.001665\n",
      "Train Epoch: 7 [57600/60000 (96%)]\tLoss: 0.000143\n",
      "\n",
      "Test set: Average loss: 0.0361, Accuracy: 9922/10000 (99.22%)\n",
      "\n",
      "Train Epoch: 8 [0/60000 (0%)]\tLoss: 0.004140\n",
      "Train Epoch: 8 [19200/60000 (32%)]\tLoss: 0.000102\n",
      "Train Epoch: 8 [38400/60000 (64%)]\tLoss: 0.005202\n",
      "Train Epoch: 8 [57600/60000 (96%)]\tLoss: 0.000672\n",
      "\n",
      "Test set: Average loss: 0.0365, Accuracy: 9906/10000 (99.06%)\n",
      "\n",
      "Train Epoch: 9 [0/60000 (0%)]\tLoss: 0.000095\n",
      "Train Epoch: 9 [19200/60000 (32%)]\tLoss: 0.000573\n",
      "Train Epoch: 9 [38400/60000 (64%)]\tLoss: 0.001242\n",
      "Train Epoch: 9 [57600/60000 (96%)]\tLoss: 0.000710\n",
      "\n",
      "Test set: Average loss: 0.0358, Accuracy: 9911/10000 (99.11%)\n",
      "\n",
      "Train Epoch: 10 [0/60000 (0%)]\tLoss: 0.000897\n",
      "Train Epoch: 10 [19200/60000 (32%)]\tLoss: 0.000237\n",
      "Train Epoch: 10 [38400/60000 (64%)]\tLoss: 0.000130\n",
      "Train Epoch: 10 [57600/60000 (96%)]\tLoss: 0.000507\n",
      "\n",
      "Test set: Average loss: 0.0337, Accuracy: 9926/10000 (99.26%)\n",
      "\n",
      "Train Epoch: 11 [0/60000 (0%)]\tLoss: 0.000122\n",
      "Train Epoch: 11 [19200/60000 (32%)]\tLoss: 0.000587\n",
      "Train Epoch: 11 [38400/60000 (64%)]\tLoss: 0.000583\n",
      "Train Epoch: 11 [57600/60000 (96%)]\tLoss: 0.000376\n",
      "\n",
      "Test set: Average loss: 0.0319, Accuracy: 9926/10000 (99.26%)\n",
      "\n",
      "Train Epoch: 12 [0/60000 (0%)]\tLoss: 0.000473\n",
      "Train Epoch: 12 [19200/60000 (32%)]\tLoss: 0.000445\n",
      "Train Epoch: 12 [38400/60000 (64%)]\tLoss: 0.000679\n",
      "Train Epoch: 12 [57600/60000 (96%)]\tLoss: 0.000461\n",
      "\n",
      "Test set: Average loss: 0.0322, Accuracy: 9929/10000 (99.29%)\n",
      "\n",
      "Train Epoch: 13 [0/60000 (0%)]\tLoss: 0.000080\n",
      "Train Epoch: 13 [19200/60000 (32%)]\tLoss: 0.000435\n",
      "Train Epoch: 13 [38400/60000 (64%)]\tLoss: 0.000165\n",
      "Train Epoch: 13 [57600/60000 (96%)]\tLoss: 0.000192\n",
      "\n",
      "Test set: Average loss: 0.0322, Accuracy: 9930/10000 (99.30%)\n",
      "\n",
      "Train Epoch: 14 [0/60000 (0%)]\tLoss: 0.000677\n",
      "Train Epoch: 14 [19200/60000 (32%)]\tLoss: 0.000530\n",
      "Train Epoch: 14 [38400/60000 (64%)]\tLoss: 0.000675\n",
      "Train Epoch: 14 [57600/60000 (96%)]\tLoss: 0.000566\n",
      "\n",
      "Test set: Average loss: 0.0324, Accuracy: 9932/10000 (99.32%)\n",
      "\n",
      "Train Epoch: 15 [0/60000 (0%)]\tLoss: 0.000144\n",
      "Train Epoch: 15 [19200/60000 (32%)]\tLoss: 0.000102\n",
      "Train Epoch: 15 [38400/60000 (64%)]\tLoss: 0.000788\n",
      "Train Epoch: 15 [57600/60000 (96%)]\tLoss: 0.000142\n",
      "\n",
      "Test set: Average loss: 0.0326, Accuracy: 9932/10000 (99.32%)\n",
      "\n",
      "Train Epoch: 16 [0/60000 (0%)]\tLoss: 0.000136\n",
      "Train Epoch: 16 [19200/60000 (32%)]\tLoss: 0.000414\n",
      "Train Epoch: 16 [38400/60000 (64%)]\tLoss: 0.000192\n",
      "Train Epoch: 16 [57600/60000 (96%)]\tLoss: 0.000247\n",
      "\n",
      "Test set: Average loss: 0.0329, Accuracy: 9928/10000 (99.28%)\n",
      "\n",
      "Train Epoch: 17 [0/60000 (0%)]\tLoss: 0.000475\n",
      "Train Epoch: 17 [19200/60000 (32%)]\tLoss: 0.000281\n",
      "Train Epoch: 17 [38400/60000 (64%)]\tLoss: 0.000263\n",
      "Train Epoch: 17 [57600/60000 (96%)]\tLoss: 0.000558\n",
      "\n",
      "Test set: Average loss: 0.0328, Accuracy: 9931/10000 (99.31%)\n",
      "\n",
      "Train Epoch: 18 [0/60000 (0%)]\tLoss: 0.000490\n",
      "Train Epoch: 18 [19200/60000 (32%)]\tLoss: 0.000146\n",
      "Train Epoch: 18 [38400/60000 (64%)]\tLoss: 0.000056\n",
      "Train Epoch: 18 [57600/60000 (96%)]\tLoss: 0.000138\n",
      "\n",
      "Test set: Average loss: 0.0326, Accuracy: 9931/10000 (99.31%)\n",
      "\n",
      "Train Epoch: 19 [0/60000 (0%)]\tLoss: 0.000105\n",
      "Train Epoch: 19 [19200/60000 (32%)]\tLoss: 0.000334\n",
      "Train Epoch: 19 [38400/60000 (64%)]\tLoss: 0.000191\n",
      "Train Epoch: 19 [57600/60000 (96%)]\tLoss: 0.000136\n",
      "\n",
      "Test set: Average loss: 0.0332, Accuracy: 9932/10000 (99.32%)\n",
      "\n",
      "Train Epoch: 20 [0/60000 (0%)]\tLoss: 0.000041\n",
      "Train Epoch: 20 [19200/60000 (32%)]\tLoss: 0.000213\n",
      "Train Epoch: 20 [38400/60000 (64%)]\tLoss: 0.000084\n",
      "Train Epoch: 20 [57600/60000 (96%)]\tLoss: 0.000392\n",
      "\n",
      "Test set: Average loss: 0.0332, Accuracy: 9932/10000 (99.32%)\n",
      "\n"
     ]
    }
   ],
   "source": [
    "results = {}\n",
    "quad_model = QuadNet(N_CHAR)\n",
    "optimizer = optim.Adam(quad_model.parameters(), lr=self.lr)\n",
    "args = Parser()\n",
    "results['QuadNet'], model, pred_labels = main(\n",
    "    model=quad_model,\n",
    "    args=args,\n",
    "    optimizer=optimizer,\n",
    "    model_type='quad',\n",
    "    task='char',\n",
    "    return_model=True,\n",
    "    return_pred_label=True\n",
    ")\n"
   ]
  },
  {
   "cell_type": "markdown",
   "metadata": {},
   "source": [
    "We save the model so that we won't have to train it again. _Make sure have the correct path and directories._"
   ]
  },
  {
   "cell_type": "code",
   "execution_count": 25,
   "metadata": {},
   "outputs": [],
   "source": [
    "torch.save(model.state_dict(), '../data/models/quad_char.pt')"
   ]
  },
  {
   "cell_type": "markdown",
   "metadata": {},
   "source": [
    "## 2.2 Setting up the collaterak task\n",
    "\n",
    "We will now use the output of the trained baseline model which is freezed as an input of another model called the `collateral_model` which will try to predict on another task, namely the family recognition"
   ]
  },
  {
   "cell_type": "markdown",
   "metadata": {},
   "source": [
    "There are little change compared to the usual test, train and main functions."
   ]
  },
  {
   "cell_type": "code",
   "execution_count": 26,
   "metadata": {},
   "outputs": [],
   "source": [
    "def adversarial_train(args, adversarial_model, model, train_loader, adv_optimizer, epoch):\n",
    "    adversarial_model.train()\n",
    "    for batch_idx, (data, target) in enumerate(train_loader):\n",
    "        data = model.transform(data)  # <-- This is new\n",
    "        adv_optimizer.zero_grad()\n",
    "        output = adversarial_model(data)\n",
    "        loss = F.nll_loss(output, target)\n",
    "\n",
    "        loss.backward()\n",
    "        adv_optimizer.step()\n",
    "        if batch_idx % args.log_interval == 0:\n",
    "            print('Train Epoch: {} [{}/{} ({:.0f}%)]\\tLoss: {:.6f}'.format(\n",
    "                epoch, batch_idx * len(data), len(train_loader.dataset),\n",
    "                       100. * batch_idx / len(train_loader), loss.item()))\n",
    "\n",
    "\n",
    "def adversarial_test(args, adversarial_model, model, test_loader):\n",
    "    adversarial_model.eval()\n",
    "    test_loss = 0\n",
    "    correct = 0\n",
    "    pred_labels = None\n",
    "    with torch.no_grad():\n",
    "        for data, target in test_loader:\n",
    "            data = model.transform(data) # <-- This is new: like the forward but without the log softmax\n",
    "            output = adversarial_model(data)\n",
    "            test_loss += F.nll_loss(output, target, reduction='sum').item()  # sum up batch loss\n",
    "            pred = output.argmax(dim=1, keepdim=True)  # get the index of the max log-probability\n",
    "            correct += pred.eq(target.view_as(pred)).sum().item()\n",
    "            \n",
    "            pred_labels_batch = torch.stack((pred, target.view_as(pred))).view(2, args.test_batch_size)\n",
    "            if pred_labels is None:\n",
    "                pred_labels = pred_labels_batch\n",
    "            else:\n",
    "                pred_labels = torch.cat((pred_labels, pred_labels_batch), dim=1).view(2, -1)\n",
    "\n",
    "    test_loss /= len(test_loader.dataset)\n",
    "\n",
    "    acc = 100. * correct / len(test_loader.dataset)\n",
    "    print('\\nTest set: Average loss: {:.4f}, Accuracy: {}/{} ({:.2f}%)\\n'.format(\n",
    "        test_loss, correct, len(test_loader.dataset), acc))\n",
    "    \n",
    "    return acc, pred_labels.transpose(0, 1)\n"
   ]
  },
  {
   "cell_type": "markdown",
   "metadata": {},
   "source": [
    "This is the collateral model that we will use. We use the same CNN structure as seen previously."
   ]
  },
  {
   "cell_type": "code",
   "execution_count": 27,
   "metadata": {},
   "outputs": [],
   "source": [
    "class CollateralCNN(nn.Module):\n",
    "    def __init__(self, output_size):\n",
    "        super(CollateralCNN, self).__init__()\n",
    "        self.lin1 = nn.Linear(N_CHAR, 784)\n",
    "        self.conv1 = nn.Conv2d(1, 20, 5, 1)\n",
    "        self.conv2 = nn.Conv2d(20, 50, 5, 1)\n",
    "        self.fc1 = nn.Linear(4*4*50, 500)\n",
    "        self.fc2 = nn.Linear(500, output_size)\n",
    "\n",
    "    def forward(self, x):\n",
    "        x = self.lin1(x)\n",
    "        x = x.view(-1, 1, 28, 28)\n",
    "        x = F.relu(self.conv1(x))\n",
    "        x = F.max_pool2d(x, 2, 2)\n",
    "        x = F.relu(self.conv2(x))\n",
    "        x = F.max_pool2d(x, 2, 2)\n",
    "        x = x.view(-1, 4*4*50)\n",
    "        x = F.relu(self.fc1(x))\n",
    "        x = self.fc2(x)\n",
    "        return F.log_softmax(x, dim=1)"
   ]
  },
  {
   "cell_type": "code",
   "execution_count": 28,
   "metadata": {},
   "outputs": [],
   "source": [
    "import torch.optim as optim\n",
    "import torch.utils.data as utils\n",
    "\n",
    "class Parser:\n",
    "    def __init__(self):\n",
    "        self.epochs = 10\n",
    "        self.lr = 0.01\n",
    "        self.momentum = 0.5\n",
    "        self.seed = 1\n",
    "        self.test_batch_size = 1000\n",
    "        self.batch_size = 64\n",
    "        self.log_interval = 300\n",
    "        \n",
    "def build_tensor_dataset(data, target):\n",
    "    normed_data = [(d - d.mean()) / d.std() for d in data]\n",
    "    normed_data = torch.stack([torch.Tensor(d).reshape(1, 28, 28) for d in normed_data])\n",
    "    target = torch.LongTensor([i[0] for i in target])\n",
    "    tensor_dataset = utils.TensorDataset(normed_data, target)\n",
    "    return tensor_dataset\n",
    "    "
   ]
  },
  {
   "cell_type": "markdown",
   "metadata": {},
   "source": [
    "The base quadratic model is already trained to detect char, which it does not to badly.\n",
    "We compute explicitely the weight sum of the quadratic model parameters to verify that this private model is left unchanged after the collateral learning phase."
   ]
  },
  {
   "cell_type": "code",
   "execution_count": 29,
   "metadata": {},
   "outputs": [
    {
     "data": {
      "text/plain": [
       "tensor(8.9486, grad_fn=<AddBackward0>)"
      ]
     },
     "execution_count": 29,
     "metadata": {},
     "output_type": "execute_result"
    }
   ],
   "source": [
    "quad_param_norm = quad_model.proj1.weight.norm() + quad_model.diag1.weight.norm()\n",
    "quad_param_norm"
   ]
  },
  {
   "cell_type": "markdown",
   "metadata": {},
   "source": [
    "We new try to detect using its output, the family of the original input data."
   ]
  },
  {
   "cell_type": "code",
   "execution_count": 30,
   "metadata": {},
   "outputs": [
    {
     "name": "stdout",
     "output_type": "stream",
     "text": [
      "Training set 60000 items\n",
      "Testing set  10000 items\n"
     ]
    }
   ],
   "source": [
    "data = learn.load_data()\n",
    "train_data, train_target_char, train_target_family, test_data, test_target_char, test_target_family = data"
   ]
  },
  {
   "cell_type": "code",
   "execution_count": 34,
   "metadata": {},
   "outputs": [],
   "source": [
    "def collateral_phase(model):\n",
    "    args = Parser()\n",
    "\n",
    "    torch.manual_seed(args.seed)\n",
    "\n",
    "    # setting = the family recognition task\n",
    "    train_dataset = build_tensor_dataset(train_data, train_target_family)\n",
    "    test_dataset = build_tensor_dataset(test_data, test_target_family)\n",
    "    \n",
    "    train_loader = utils.DataLoader(\n",
    "        train_dataset,\n",
    "        batch_size=args.batch_size, shuffle=True\n",
    "    )\n",
    "    \n",
    "    test_loader = utils.DataLoader(\n",
    "        test_dataset,\n",
    "        batch_size=args.test_batch_size, shuffle=True\n",
    "    )\n",
    "    \n",
    "    adversarial_model = CollateralCNN(output_size=N_CHAR)\n",
    "    adversarial_optimizer = optim.SGD(adversarial_model.parameters(), lr=args.lr, momentum=args.momentum)\n",
    "    \n",
    "    test_perfs = []\n",
    "    for epoch in range(1, args.epochs + 1):\n",
    "        adversarial_train(args, adversarial_model, model, train_loader, adversarial_optimizer, epoch)\n",
    "        acc, pred_labels = adversarial_test(args, adversarial_model, model, test_loader)\n",
    "        test_perfs.append(acc)\n",
    "        \n",
    "    return test_perfs, pred_labels\n",
    "        \n"
   ]
  },
  {
   "cell_type": "code",
   "execution_count": 35,
   "metadata": {
    "scrolled": true
   },
   "outputs": [
    {
     "name": "stdout",
     "output_type": "stream",
     "text": [
      "Train Epoch: 1 [0/60000 (0%)]\tLoss: 3.379620\n",
      "Train Epoch: 1 [19200/60000 (32%)]\tLoss: 2.108436\n",
      "Train Epoch: 1 [38400/60000 (64%)]\tLoss: 0.353031\n",
      "Train Epoch: 1 [57600/60000 (96%)]\tLoss: 0.093687\n",
      "\n",
      "Test set: Average loss: 0.2377, Accuracy: 9000/10000 (90.00%)\n",
      "\n",
      "Train Epoch: 2 [0/60000 (0%)]\tLoss: 0.206386\n",
      "Train Epoch: 2 [19200/60000 (32%)]\tLoss: 0.366531\n",
      "Train Epoch: 2 [38400/60000 (64%)]\tLoss: 0.403316\n",
      "Train Epoch: 2 [57600/60000 (96%)]\tLoss: 0.114806\n",
      "\n",
      "Test set: Average loss: 0.2051, Accuracy: 9167/10000 (91.67%)\n",
      "\n",
      "Train Epoch: 3 [0/60000 (0%)]\tLoss: 0.207643\n",
      "Train Epoch: 3 [19200/60000 (32%)]\tLoss: 0.211668\n",
      "Train Epoch: 3 [38400/60000 (64%)]\tLoss: 0.160555\n",
      "Train Epoch: 3 [57600/60000 (96%)]\tLoss: 0.196850\n",
      "\n",
      "Test set: Average loss: 0.2123, Accuracy: 9114/10000 (91.14%)\n",
      "\n",
      "Train Epoch: 4 [0/60000 (0%)]\tLoss: 0.323305\n",
      "Train Epoch: 4 [19200/60000 (32%)]\tLoss: 0.167466\n",
      "Train Epoch: 4 [38400/60000 (64%)]\tLoss: 0.124736\n",
      "Train Epoch: 4 [57600/60000 (96%)]\tLoss: 0.114201\n",
      "\n",
      "Test set: Average loss: 0.1865, Accuracy: 9257/10000 (92.57%)\n",
      "\n",
      "Train Epoch: 5 [0/60000 (0%)]\tLoss: 0.131490\n",
      "Train Epoch: 5 [19200/60000 (32%)]\tLoss: 0.200057\n",
      "Train Epoch: 5 [38400/60000 (64%)]\tLoss: 0.129180\n",
      "Train Epoch: 5 [57600/60000 (96%)]\tLoss: 0.227526\n",
      "\n",
      "Test set: Average loss: 0.1735, Accuracy: 9269/10000 (92.69%)\n",
      "\n",
      "Train Epoch: 6 [0/60000 (0%)]\tLoss: 0.164158\n",
      "Train Epoch: 6 [19200/60000 (32%)]\tLoss: 0.297443\n",
      "Train Epoch: 6 [38400/60000 (64%)]\tLoss: 0.086167\n",
      "Train Epoch: 6 [57600/60000 (96%)]\tLoss: 0.093539\n",
      "\n",
      "Test set: Average loss: 0.1812, Accuracy: 9242/10000 (92.42%)\n",
      "\n",
      "Train Epoch: 7 [0/60000 (0%)]\tLoss: 0.344726\n",
      "Train Epoch: 7 [19200/60000 (32%)]\tLoss: 0.139630\n",
      "Train Epoch: 7 [38400/60000 (64%)]\tLoss: 0.109765\n",
      "Train Epoch: 7 [57600/60000 (96%)]\tLoss: 0.263628\n",
      "\n",
      "Test set: Average loss: 0.1608, Accuracy: 9350/10000 (93.50%)\n",
      "\n",
      "Train Epoch: 8 [0/60000 (0%)]\tLoss: 0.179664\n",
      "Train Epoch: 8 [19200/60000 (32%)]\tLoss: 0.075012\n",
      "Train Epoch: 8 [38400/60000 (64%)]\tLoss: 0.178188\n",
      "Train Epoch: 8 [57600/60000 (96%)]\tLoss: 0.066143\n",
      "\n",
      "Test set: Average loss: 0.1659, Accuracy: 9310/10000 (93.10%)\n",
      "\n",
      "Train Epoch: 9 [0/60000 (0%)]\tLoss: 0.166795\n",
      "Train Epoch: 9 [19200/60000 (32%)]\tLoss: 0.054752\n",
      "Train Epoch: 9 [38400/60000 (64%)]\tLoss: 0.126306\n",
      "Train Epoch: 9 [57600/60000 (96%)]\tLoss: 0.085038\n",
      "\n",
      "Test set: Average loss: 0.1620, Accuracy: 9343/10000 (93.43%)\n",
      "\n",
      "Train Epoch: 10 [0/60000 (0%)]\tLoss: 0.111195\n",
      "Train Epoch: 10 [19200/60000 (32%)]\tLoss: 0.180790\n",
      "Train Epoch: 10 [38400/60000 (64%)]\tLoss: 0.044817\n",
      "Train Epoch: 10 [57600/60000 (96%)]\tLoss: 0.205811\n",
      "\n",
      "Test set: Average loss: 0.1721, Accuracy: 9332/10000 (93.32%)\n",
      "\n"
     ]
    }
   ],
   "source": [
    "test_perfs, pred_labels = collateral_phase(quad_model)"
   ]
  },
  {
   "cell_type": "markdown",
   "metadata": {},
   "source": [
    "The learning curve:"
   ]
  },
  {
   "cell_type": "code",
   "execution_count": 41,
   "metadata": {},
   "outputs": [
    {
     "data": {
      "image/png": "[encoded data removed]",
      "text/plain": [
       "<Figure size 720x288 with 1 Axes>"
      ]
     },
     "metadata": {
      "needs_background": "light"
     },
     "output_type": "display_data"
    }
   ],
   "source": [
    "show_results({'Collateral model': test_perfs}, title=\"Learning curve for the collateral model.\")"
   ]
  },
  {
   "cell_type": "markdown",
   "metadata": {},
   "source": [
    "### Discussion\n",
    "\n",
    "First, let's verify that the private model weights have not changed"
   ]
  },
  {
   "cell_type": "code",
   "execution_count": 37,
   "metadata": {},
   "outputs": [],
   "source": [
    "assert quad_param_norm == quad_model.proj1.weight.norm() + quad_model.diag1.weight.norm()"
   ]
  },
  {
   "cell_type": "markdown",
   "metadata": {},
   "source": [
    "Second, one could ask the difference with the setting where we put a CNN (the same) on top of the private network to learn font family recognition in Part 2. The major difference is that in Part 2 we could modify the private network weights, while here we couldn't, and moreover its weights were optimised to perform a completely different task!"
   ]
  },
  {
   "cell_type": "markdown",
   "metadata": {},
   "source": [
    "Last, as this experiment shows, the prediction accuracy of the model is embarrassingly good! This shows that the information contained in the 10 neurons output is far more important than just information about characters. In particular, we can infer quite precisely information about the font of the original data."
   ]
  },
  {
   "cell_type": "markdown",
   "metadata": {},
   "source": [
    "## Conclusion"
   ]
  },
  {
   "cell_type": "markdown",
   "metadata": {},
   "source": [
    "This experiment proves the information leakage in the public output on which we publicly apply the argmax, as we are able the distinguish the font with over 93%.\n",
    "\n",
    "Note however that this is less than the 98.5% we had in Part 2. In addition, recall that what we do here has no impoact on the main task accuracy.\n",
    "\n",
    "We will now use the technique seen in Part 2 to also add extra layers on the main task. We will see how this affects the collateral accuracy and this will allow to adjust a new hyper-parameter: the size of the private output of the quadratic model. Our intuition is that reducing this parameter means less information is leaked and therefore the collateral learning is harder."
   ]
  },
  {
   "cell_type": "markdown",
   "metadata": {},
   "source": [
    "\n",
    "### If you like it, star it!\n",
    "\n",
    "The easiest way to show support is just by starring the Repos! This helps raise awareness on this topics and is a precious feedback for the repo maintainers!\n",
    "\n",
    "- [Star the Repo](https://github.com/LaRiffle/collateral-learning)"
   ]
  },
  {
   "cell_type": "code",
   "execution_count": null,
   "metadata": {},
   "outputs": [],
   "source": []
  }
 ],
 "metadata": {
  "kernelspec": {
   "display_name": "Python 3",
   "language": "python",
   "name": "python3"
  },
  "language_info": {
   "codemirror_mode": {
    "name": "ipython",
    "version": 3
   },
   "file_extension": ".py",
   "mimetype": "text/x-python",
   "name": "python",
   "nbconvert_exporter": "python",
   "pygments_lexer": "ipython3",
   "version": "3.7.0"
  }
 },
 "nbformat": 4,
 "nbformat_minor": 2
}
