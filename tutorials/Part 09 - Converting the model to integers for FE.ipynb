{
 "cells": [
  {
   "cell_type": "markdown",
   "metadata": {},
   "source": [
    "# Functional Encryption - Classification and information leakage\n",
    "\n",
    " \n",
    "### Encryption time!\n",
    "\n",
    "As we explained at the beginning of these tutorials, our quadratic network $Q$ is compatible with the Quadratic FE scheme detailed in [this paper](https://eprint.iacr.org/2018/206.pdf). But for this to be really effective, we need to convert the network weights to integers. We could use the fixed precision abstraction from the [PySyft](https://github.com/OpenMined/PySyft/) library which is perfect in this PyTorch context, but actually as we are not allowed truncation, we really need to work with real integers so it wouldn't be the most practical: therefore, we will write our own `fix_precision` function.\n",
    "\n",
    "In addition, note that all weights don't need the same precision as they have different amplitudes. We will assess how to scale the inputs and how to cap layers values (which are now integers) to have the smallest outputs possible, as without truncation the values will grow fast. We need the smallest output values possible beacuse we need to apply the discrete log to decode the values. Our objective is to to have an output which can be represented with $n$ bits, with $n$ sufficiently small to have all the exponent values in RAM memory so that the discrete log can be trivially implemented."
   ]
  },
  {
   "cell_type": "markdown",
   "metadata": {},
   "source": [
    "# 9 Converting the model to integers\n"
   ]
  },
  {
   "cell_type": "markdown",
   "metadata": {},
   "source": [
    "Load torch and syft packages"
   ]
  },
  {
   "cell_type": "code",
   "execution_count": 1,
   "metadata": {},
   "outputs": [],
   "source": [
    "# Allow to load packages from parent\n",
    "import sys, os\n",
    "sys.path.insert(1, os.path.realpath(os.path.pardir))"
   ]
  },
  {
   "cell_type": "code",
   "execution_count": 2,
   "metadata": {},
   "outputs": [],
   "source": [
    "import torch"
   ]
  },
  {
   "cell_type": "code",
   "execution_count": 3,
   "metadata": {},
   "outputs": [],
   "source": [
    "from math import log2, ceil\n",
    "\n",
    "import torch.nn as nn\n",
    "import torch.nn.functional as F\n",
    "import torch.utils.data as utils\n",
    "\n",
    "import learn\n",
    "from learn import collateral"
   ]
  },
  {
   "cell_type": "code",
   "execution_count": 4,
   "metadata": {},
   "outputs": [],
   "source": [
    "PRIVATE_OUTPUT_SIZE = 4\n",
    "N_CHARS = 10\n",
    "N_FONTS = 2"
   ]
  },
  {
   "cell_type": "markdown",
   "metadata": {},
   "source": [
    "Let's load the quadratic model that we saved in Part 8! _Be sure that the path and file name match._"
   ]
  },
  {
   "cell_type": "code",
   "execution_count": 5,
   "metadata": {},
   "outputs": [],
   "source": [
    "class CollateralNet(nn.Module):\n",
    "    def __init__(self):\n",
    "        super(CollateralNet, self).__init__()\n",
    "        self.proj1 = nn.Linear(784, 40)\n",
    "        self.diag1 = nn.Linear(40, PRIVATE_OUTPUT_SIZE, bias=False)\n",
    "\n",
    "        # --- FFN for characters\n",
    "        self.lin1 = nn.Linear(PRIVATE_OUTPUT_SIZE, 32)\n",
    "        self.lin2 = nn.Linear(32, N_CHARS)\n",
    "\n",
    "        # --- Junction\n",
    "        self.jct = nn.Linear(PRIVATE_OUTPUT_SIZE, 784)\n",
    "\n",
    "        # --- CNN for families\n",
    "        self.conv1 = nn.Conv2d(1, 20, 5, 1)\n",
    "        self.conv2 = nn.Conv2d(20, 50, 5, 1)\n",
    "        self.fc1 = nn.Linear(4 * 4 * 50, 500)\n",
    "        self.fc2 = nn.Linear(500, N_FONTS)\n",
    "\n",
    "    def quad(self, x):\n",
    "        # --- Quadratic\n",
    "        x = x.view(-1, 784)\n",
    "        x = self.proj1(x)\n",
    "        x = x * x\n",
    "        x = self.diag1(x)\n",
    "        return x\n",
    "\n",
    "    def char_net(self, x):\n",
    "        # --- FFN\n",
    "        x = F.relu(x)\n",
    "        x = F.relu(self.lin1(x))\n",
    "        x = self.lin2(x)\n",
    "        return x\n",
    "\n",
    "    def font_net(self, x):\n",
    "        # --- Junction\n",
    "        x = self.jct(x)\n",
    "        x = x.view(-1, 1, 28, 28)\n",
    "\n",
    "        # --- CNN\n",
    "        x = F.relu(self.conv1(x))\n",
    "        x = F.max_pool2d(x, 2, 2)\n",
    "        x = F.relu(self.conv2(x))\n",
    "        x = F.max_pool2d(x, 2, 2)\n",
    "        x = x.view(-1, 4 * 4 * 50)\n",
    "        x = F.relu(self.fc1(x))\n",
    "        x = self.fc2(x)\n",
    "        return x\n",
    "\n",
    "    def forward_char(self, x):\n",
    "        x = self.quad(x)\n",
    "        x = self.char_net(x)\n",
    "        return F.log_softmax(x, dim=1)\n",
    "\n",
    "    def forward_font(self, x):\n",
    "        x = self.quad(x)\n",
    "        x = self.font_net(x)\n",
    "        return F.log_softmax(x, dim=1)\n",
    "    \n",
    "    # We add the ability to freeze some layers to ensure that the collateral task does\n",
    "    # not modify the quadratic net\n",
    "    \n",
    "    def get_params(self, net):\n",
    "        \"\"\"Select the params for a given part of the net\"\"\"\n",
    "        if net == 'quad':\n",
    "            layers = [self.proj1, self.diag1]\n",
    "        elif net == 'char':\n",
    "            layers = [self.lin1, self.lin2]\n",
    "        elif net == 'font':\n",
    "            layers = [self.jct, self.fc1, self.fc2, self.conv1, self.conv2]\n",
    "        else:\n",
    "            raise AttributeError(f'{net} type not recognized')\n",
    "        params = [p for layer in layers for p in layer.parameters()]\n",
    "        return params\n",
    "\n",
    "    def freeze(self, net):\n",
    "        \"\"\"Freeze a part of the net\"\"\"\n",
    "        net_params = self.get_params(net)\n",
    "        for param in net_params:\n",
    "            param.requires_grad = False\n",
    "\n",
    "    def unfreeze(self):\n",
    "        \"\"\"Unfreeze the net\"\"\"\n",
    "        for param in self.parameters():\n",
    "            param.requires_grad = True"
   ]
  },
  {
   "cell_type": "code",
   "execution_count": 6,
   "metadata": {},
   "outputs": [
    {
     "data": {
      "text/plain": [
       "CollateralNet(\n",
       "  (proj1): Linear(in_features=784, out_features=40, bias=True)\n",
       "  (diag1): Linear(in_features=40, out_features=4, bias=False)\n",
       "  (lin1): Linear(in_features=4, out_features=32, bias=True)\n",
       "  (lin2): Linear(in_features=32, out_features=10, bias=True)\n",
       "  (jct): Linear(in_features=4, out_features=784, bias=True)\n",
       "  (conv1): Conv2d(1, 20, kernel_size=(5, 5), stride=(1, 1))\n",
       "  (conv2): Conv2d(20, 50, kernel_size=(5, 5), stride=(1, 1))\n",
       "  (fc1): Linear(in_features=800, out_features=500, bias=True)\n",
       "  (fc2): Linear(in_features=500, out_features=2, bias=True)\n",
       ")"
      ]
     },
     "execution_count": 6,
     "metadata": {},
     "output_type": "execute_result"
    }
   ],
   "source": [
    "path = '../data/models/quadconvnet_part8.pt'\n",
    "model = CollateralNet()\n",
    "results = {}\n",
    "\n",
    "model.load_state_dict(torch.load(path))\n",
    "model.eval()"
   ]
  },
  {
   "cell_type": "markdown",
   "metadata": {},
   "source": [
    "Here is a function to analyse a tensor distribution"
   ]
  },
  {
   "cell_type": "code",
   "execution_count": 7,
   "metadata": {},
   "outputs": [],
   "source": [
    "import numpy as np\n",
    "import seaborn as sns\n",
    "import matplotlib.pyplot as plt\n",
    "\n",
    "def print_hist(data):\n",
    "    x = data.view(-1).abs()\n",
    "    # the histogram of the data\n",
    "    n, bins, patches = plt.hist(x, 50, density=True, facecolor='g', alpha=0.75)\n",
    "    plt.xlabel('Weight amplitude')\n",
    "    plt.ylabel('Probability')\n",
    "    plt.title('Weight amplitude distribution')\n",
    "    #plt.axis([40, 160, 0, 0.01])\n",
    "    plt.grid(True)\n",
    "    plt.show()\n",
    "    \n",
    "    \n",
    "def print_data(data):\n",
    "    ax = sns.heatmap(data, linewidth=0.5)\n",
    "    plt.show()"
   ]
  },
  {
   "cell_type": "markdown",
   "metadata": {},
   "source": [
    "And our function to convert tensors to integers with a precision parameter, and vice-versa"
   ]
  },
  {
   "cell_type": "code",
   "execution_count": 8,
   "metadata": {},
   "outputs": [],
   "source": [
    "def fix_precision(tensor, precision_bits, rm_outlier_frac=100, parameter=True):\n",
    "    tensor = (tensor * 2**precision_bits).long()\n",
    "    max_value = max(\n",
    "        np.abs(np.percentile(tensor, rm_outlier_frac)),\n",
    "        np.abs(np.percentile(tensor, 100 - rm_outlier_frac))\n",
    "    )\n",
    "    cp_tensor = 1 * tensor\n",
    "    tensor = tensor.clamp(min=-max_value, max=max_value)\n",
    "    if parameter:\n",
    "        return nn.Parameter(tensor, requires_grad=False)\n",
    "    else:\n",
    "        return tensor\n",
    "    \n",
    "def float_precision(tensor, precision_bits):\n",
    "    tensor = tensor.float()/2**precision_bits\n",
    "    return tensor"
   ]
  },
  {
   "cell_type": "code",
   "execution_count": 9,
   "metadata": {},
   "outputs": [],
   "source": [
    "class Parser:\n",
    "    \"\"\"Parameters for the testing\"\"\"\n",
    "    def __init__(self):\n",
    "        self.batch_size = 64\n",
    "        self.test_batch_size = 10"
   ]
  },
  {
   "cell_type": "code",
   "execution_count": 10,
   "metadata": {},
   "outputs": [
    {
     "name": "stdout",
     "output_type": "stream",
     "text": [
      "Training set 60000 items\n",
      "Testing set  10000 items\n"
     ]
    }
   ],
   "source": [
    "args = Parser()\n",
    "\n",
    "data = learn.load_data()\n",
    "train_data, train_target_char, train_target_family, test_data, test_target_char, test_target_family = data\n",
    "test_target = test_target_char\n",
    "test_dataset = learn.build_tensor_dataset(test_data, test_target)\n",
    "test_loader = utils.DataLoader(\n",
    "    test_dataset,\n",
    "    batch_size=args.test_batch_size, shuffle=True\n",
    ")"
   ]
  },
  {
   "cell_type": "markdown",
   "metadata": {},
   "source": [
    "Our test function modifies the data first in the encrypted setting (ie values are integers) and then converts back the output to float to run the public part of the net used to predict digits."
   ]
  },
  {
   "cell_type": "code",
   "execution_count": 11,
   "metadata": {},
   "outputs": [],
   "source": [
    "def test(model, test_loader, prec):\n",
    "    data_prec, proj_prec, diag_prec = prec \n",
    "    correct = 0\n",
    "    with torch.no_grad():\n",
    "        for data, target in test_loader:\n",
    "            # Private Part\n",
    "            data = fix_precision(data, data_prec, parameter=False)\n",
    "            private_output = model.quad(data)\n",
    "            # Public Part\n",
    "            output = float_precision(private_output, sum(prec))\n",
    "            output = model.char_net(output)\n",
    "\n",
    "            pred = output.argmax(1, keepdim=True)  # get the index of the max log-probability\n",
    "\n",
    "            correct += pred.eq(target.view_as(pred)).sum().item()\n",
    "\n",
    "    acc = 100. * correct / len(test_loader.dataset)\n",
    "    print('\\nTest set: Accuracy: {}/{} ({:.2f}%)\\n'.format(\n",
    "        correct, len(test_loader.dataset), acc))\n",
    "    \n",
    "    return acc"
   ]
  },
  {
   "cell_type": "markdown",
   "metadata": {},
   "source": [
    "Given a precision setting, this returns the accuracy of the main task and the maximum number of bits needed to store the output."
   ]
  },
  {
   "cell_type": "code",
   "execution_count": 12,
   "metadata": {},
   "outputs": [],
   "source": [
    "def test_compression(prec, rm_outlier_frac=100, show_distrib=False):\n",
    "    model = CollateralNet()\n",
    "    model.load_state_dict(torch.load(path))\n",
    "    model.eval()\n",
    "\n",
    "    data_prec, proj_prec, diag_prec = prec \n",
    "    \n",
    "    if show_distrib and False:\n",
    "        print_hist(model.proj1.weight.detach())\n",
    "        print_hist(model.proj1.bias.detach())\n",
    "        print_hist(model.diag1.weight.detach())\n",
    "        \n",
    "    # Convert the model\n",
    "    model.proj1.weight = fix_precision(model.proj1.weight, proj_prec, rm_outlier_frac)\n",
    "    model.proj1.bias = fix_precision(model.proj1.bias, proj_prec + data_prec, rm_outlier_frac)\n",
    "    model.diag1.weight = fix_precision(model.diag1.weight, diag_prec, rm_outlier_frac)\n",
    "        \n",
    "    if show_distrib:\n",
    "        print_hist(model.proj1.weight)\n",
    "        print_hist(model.proj1.bias)\n",
    "        print_hist(model.diag1.weight)\n",
    "    \n",
    "    data_sample = fix_precision(test_dataset[0][0], data_prec, parameter=False)\n",
    "    n_bits = (\n",
    "        ceil(log2(torch.max(data_sample))) * 2 +\n",
    "        ceil(log2(max(\n",
    "            torch.max(model.proj1.bias / 2 ** data_prec),\n",
    "            torch.max(model.proj1.weight)\n",
    "        ) * 2)) * 2 + \n",
    "        ceil(log2(torch.max(model.diag1.weight) * 2))   \n",
    "    )\n",
    "    print(\"approx size\", n_bits)\n",
    "        \n",
    "    test(model, test_loader, prec)\n",
    "    \n",
    "    return model, data_prec\n",
    "    "
   ]
  },
  {
   "cell_type": "code",
   "execution_count": 20,
   "metadata": {
    "scrolled": true
   },
   "outputs": [
    {
     "data": {
      "image/png": "[encoded data removed]",
      "text/plain": [
       "<Figure size 432x288 with 1 Axes>"
      ]
     },
     "metadata": {
      "needs_background": "light"
     },
     "output_type": "display_data"
    },
    {
     "data": {
      "image/png": "[encoded data removed]",
      "text/plain": [
       "<Figure size 432x288 with 1 Axes>"
      ]
     },
     "metadata": {
      "needs_background": "light"
     },
     "output_type": "display_data"
    },
    {
     "data": {
      "image/png": "[encoded data removed]",
      "text/plain": [
       "<Figure size 432x288 with 1 Axes>"
      ]
     },
     "metadata": {
      "needs_background": "light"
     },
     "output_type": "display_data"
    },
    {
     "name": "stdout",
     "output_type": "stream",
     "text": [
      "approx size 27\n",
      "\n",
      "Test set: Accuracy: 9736/10000 (97.36%)\n",
      "\n"
     ]
    }
   ],
   "source": [
    "prec=(3, 7, 5) # (3, 7, 5)\n",
    "data_prec, proj_prec, diag_prec = prec \n",
    "model, data_prec = test_compression(prec=prec, rm_outlier_frac=99.9, show_distrib=True)"
   ]
  },
  {
   "cell_type": "markdown",
   "metadata": {},
   "source": [
    "So, as you observe, we keep a 98% accuracy with weight and data inputs integers between 0 and 16 (so on 4 bits)!.\n",
    "Experiments show that the total output is around 27 bits long, so we'll construct a discrete log algorithm which can work for output up to 30 bits long (so < 10^9)\n"
   ]
  },
  {
   "cell_type": "markdown",
   "metadata": {},
   "source": [
    "Let's save this model now"
   ]
  },
  {
   "cell_type": "code",
   "execution_count": 21,
   "metadata": {},
   "outputs": [],
   "source": [
    "saving_path = '/Users/tryffel/code/reading-in-the-dark/mnist/objects/ml_models/quad_conv.pt'\n",
    "torch.save(model.state_dict(), saving_path)"
   ]
  },
  {
   "cell_type": "markdown",
   "metadata": {},
   "source": [
    "## Collateral efficiency\n",
    "\n",
    "We do a quick check to see if the collateral accuracy has changed, for example on the K-NN. You can observe that it hasn't."
   ]
  },
  {
   "cell_type": "code",
   "execution_count": 22,
   "metadata": {},
   "outputs": [],
   "source": [
    "def get_input_onehot_labels(dataset, label=\"font\", one_hot=True):\n",
    "    data_input = dataset.tensors[0]\n",
    "    label_idx = {'char': 0, 'font': 1}[label]\n",
    "    label_size = {'char': N_CHARS, 'font': N_FONTS}[label]\n",
    "    labels = dataset.tensors[1][:, label_idx].view(-1, 1)\n",
    "    \n",
    "    data_label_onehot = torch.zeros(len(labels), label_size)\n",
    "    data_label_onehot.scatter_(1, labels, 1)\n",
    "    \n",
    "    return data_input, labels, data_label_onehot"
   ]
  },
  {
   "cell_type": "code",
   "execution_count": 23,
   "metadata": {},
   "outputs": [
    {
     "name": "stdout",
     "output_type": "stream",
     "text": [
      "Training set 60000 items\n",
      "Testing set  10000 items\n"
     ]
    }
   ],
   "source": [
    "train_dataset, test_dataset = collateral.data.get_datasets(None, None)\n",
    "train_input, train_label, train_label_one_hot = get_input_onehot_labels(train_dataset, label=\"font\")\n",
    "test_input, test_label, test_label_one_hot = get_input_onehot_labels(test_dataset, label=\"font\")\n",
    "\n",
    "data_prec, proj_prec, diag_prec = prec \n",
    "train_input = fix_precision(train_input, data_prec, parameter=False)\n",
    "test_input = fix_precision(test_input, data_prec, parameter=False)\n",
    "\n",
    "train_input = model.quad(train_input)\n",
    "test_input = model.quad(test_input)\n",
    "\n",
    "train_input = float_precision(train_input, sum(prec))\n",
    "test_input = float_precision(test_input, sum(prec))\n",
    "\n",
    "train_input = train_input.detach().numpy()\n",
    "test_input = test_input.detach().numpy()\n",
    "\n",
    "train_label = train_label.reshape(-1)\n",
    "test_label = test_label.reshape(-1)"
   ]
  },
  {
   "cell_type": "code",
   "execution_count": 24,
   "metadata": {},
   "outputs": [],
   "source": [
    "ALL = train_input.shape[0]\n",
    "CPOWER = 'LOW'"
   ]
  },
  {
   "cell_type": "code",
   "execution_count": 25,
   "metadata": {},
   "outputs": [],
   "source": [
    "def evaluate_sklearn(reg, one_hot=True, limit=int(10e10)):\n",
    "    train_labels = {True: train_label_one_hot, False: train_label}[one_hot]\n",
    "    reg.fit(train_input[:limit], train_labels[:limit].detach().numpy()) \n",
    "    output = reg.predict(test_input)\n",
    "    if one_hot:\n",
    "        pred = torch.tensor(output).argmax(1, keepdim=True)\n",
    "    else:\n",
    "        if isinstance(output, list):\n",
    "            pred = torch.tensor(list(map(round, output))).long().view(-1, 1)\n",
    "        else:\n",
    "            pred = torch.tensor(np.round(output)).long().view(-1, 1)\n",
    "    y = test_label.view_as(pred)\n",
    "    acc = pred.eq(y).sum().item() / len(pred)\n",
    "    return acc"
   ]
  },
  {
   "cell_type": "code",
   "execution_count": 26,
   "metadata": {},
   "outputs": [
    {
     "name": "stdout",
     "output_type": "stream",
     "text": [
      "0.6345\n"
     ]
    }
   ],
   "source": [
    "from sklearn.neighbors import KNeighborsClassifier\n",
    "clf = KNeighborsClassifier(n_neighbors=7)\n",
    "acc = evaluate_sklearn(clf, one_hot=False)\n",
    "print(acc)"
   ]
  },
  {
   "cell_type": "markdown",
   "metadata": {},
   "source": [
    "## Conclusion\n",
    "\n",
    "Now that we know how to efficiently convert our model into integers, let's sync with the work of the paper to use their implementation of Functional Encryption, available [here](https://github.com/edufoursans/reading-in-the-dark)!\n",
    "\n",
    "Note that because we kept our output really low (<200M), we can reimplement the BabyStepGiantStep algorithm of the repo with small giant steps (=1000) and store all of them in a simple pickle file. Therefore, we show in practice that the discrete log computation drops from 11s to 20ms!"
   ]
  },
  {
   "cell_type": "markdown",
   "metadata": {},
   "source": [
    "**Export the model for FE** To get the model to the right format, you should convert the proj1 and diag1 weights to lists and then follow the intructions in \"Supplementary Appendix B - Export model to Reading In the Dark.ipynb\". "
   ]
  },
  {
   "cell_type": "markdown",
   "metadata": {},
   "source": [
    "We do a similar approach with a model robust model in part 9 bis, and also assess how the CNN against which the resistance was built behave when the quadratic private network is converted to integers. Go check it out!"
   ]
  },
  {
   "cell_type": "code",
   "execution_count": null,
   "metadata": {},
   "outputs": [],
   "source": []
  }
 ],
 "metadata": {
  "kernelspec": {
   "display_name": "Python 3",
   "language": "python",
   "name": "python3"
  },
  "language_info": {
   "codemirror_mode": {
    "name": "ipython",
    "version": 3
   },
   "file_extension": ".py",
   "mimetype": "text/x-python",
   "name": "python",
   "nbconvert_exporter": "python",
   "pygments_lexer": "ipython3",
   "version": "3.7.0"
  }
 },
 "nbformat": 4,
 "nbformat_minor": 2
}
