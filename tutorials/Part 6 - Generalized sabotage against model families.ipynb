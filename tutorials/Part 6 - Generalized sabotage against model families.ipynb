{
 "cells": [
  {
   "cell_type": "markdown",
   "metadata": {},
   "source": [
    "# Functional Encryption - Classification and information leakage\n",
    " \n",
    "### Generalizing resistance\n",
    "\n",
    "We have seen in part 5 that we could provide great resistance against a small feed forward collateral net. But we also know that stronger models have a better ability to extract and exploit information. In particular, the model we protect our learning task against **might not be the one the adversary will use**. Therefore, we are looking for a sabotage which would be efficient for any kind on neural networks.\n",
    "\n",
    "What we have shown in the `notebooks` section is that there is an almost natural hierarchy relation between networks: more complicated networks (deeper, with larger nayers, or with convolutions) have a better accuracy and have better resistance to sabotage than small networks. In particular, we have seen that protecting against _strong_ models gives automatic protection against _weaker_ models. However, this holds up to a certain point where models get insanely big, and where the size of the model does not help anymore to gain collateral information.\n",
    "\n",
    "Therefore, protecting against a \"big\" CNN (\"big\" here is the official CNN provided in the Pytorch mnist example, which is not big for the Machine Learning Community, but recall that it works on an output of 4 numbers which is re-amplified, so in comparison it is HUGE), should provide good protection on all networks.\n",
    "\n",
    "\n",
    "In addition, we will also assess resistance against classical models. We have tried almost exhaustively the sklearn library and observe very different performance between the models on the collateral task.\n",
    "\n",
    "### Setting\n",
    "\n",
    "To wrap it up, here is the 3 phases game a bit updated:\n",
    "\n",
    "```\n",
    "  |\n",
    "  Q\n",
    " / \\\n",
    "C   F\n",
    "|   |\n",
    "```\n",
    "\n",
    " - The normal phase where both tasks learn and strengthen before the joint optimisation:\n",
    "  - `Optimize: Q + C`\n",
    "  - `Optimize: Freezed(Q) + F`\n",
    " - The joint optimisation phase where C and F adpat to the Q variations and Q is optimised to reduce the loss `C - alpha * F`:\n",
    "  - `Optimize: Freezed(Q) + C`\n",
    "  - `Optimize: Freezed(Q) + F`\n",
    "  - `Optimize : Q + [Freezed(C) - alpha * Freezed(F)]`\n",
    " - **The recovery part, where `Q` doesn't change anymore, but the collateal net F is replaced by a new adversary**:\n",
    "  - `Optimize: Freezed(Q) + C`\n",
    "  - `Optimize: Freezed(Q) + NEW F`\n",
    "  \n",
    "### Purpose\n",
    "\n",
    "What we want to achieve here is finding a family on which `Q` offers a good resistance, ie where the accuracy of the collateral model is close to 50%.\n",
    "\n",
    "In cryptologic terms, what we want to perform actually is a distinguishability task, but we will get back to it at the end of this part."
   ]
  },
  {
   "cell_type": "markdown",
   "metadata": {},
   "source": [
    "# 6. Generalized sabotage\n"
   ]
  },
  {
   "cell_type": "markdown",
   "metadata": {},
   "source": [
    "We will use the code directly from the repo, to make the notebook more readable. Functions are similar to those presented earlier."
   ]
  },
  {
   "cell_type": "code",
   "execution_count": 1,
   "metadata": {},
   "outputs": [],
   "source": [
    "# Allow to load packages from parent\n",
    "import sys, os\n",
    "sys.path.insert(1, os.path.realpath(os.path.pardir))"
   ]
  },
  {
   "cell_type": "code",
   "execution_count": 2,
   "metadata": {},
   "outputs": [],
   "source": [
    "import random\n",
    "\n",
    "import numpy as np\n",
    "\n",
    "import torch\n",
    "import torch.nn as nn\n",
    "import torch.optim as optim\n",
    "import torch.nn.functional as F\n",
    "import torch.utils.data as utils\n",
    "\n",
    "import learn\n",
    "from learn import show_results\n",
    "# We now import from the collateral module\n",
    "from learn import collateral"
   ]
  },
  {
   "cell_type": "code",
   "execution_count": 3,
   "metadata": {},
   "outputs": [],
   "source": [
    "torch.set_num_threads(4)"
   ]
  },
  {
   "cell_type": "code",
   "execution_count": 4,
   "metadata": {},
   "outputs": [],
   "source": [
    "class Parser:\n",
    "    \"\"\"Parameters for the training\"\"\"\n",
    "    def __init__(self):\n",
    "        self.epochs = 10\n",
    "        self.sabotage_epochs = 10\n",
    "        self.new_adversary_epochs = 10\n",
    "        self.lr = 0.002\n",
    "        self.momentum = 0.5\n",
    "        self.test_batch_size = 1000\n",
    "        self.batch_size = 64\n",
    "        self.log_interval = 300"
   ]
  },
  {
   "cell_type": "markdown",
   "metadata": {},
   "source": [
    "## 6.1 Building resistance against a CNN"
   ]
  },
  {
   "cell_type": "markdown",
   "metadata": {},
   "source": [
    "Let's define the model with the describes architecture. Basically you have 3 blocs: 1 quadratic and 2 CNN."
   ]
  },
  {
   "cell_type": "code",
   "execution_count": 5,
   "metadata": {},
   "outputs": [],
   "source": [
    "PRIVATE_OUTPUT_SIZE = 4\n",
    "N_CHARS = 10\n",
    "N_FONTS = 2\n",
    "\n",
    "class CollateralNet(nn.Module):\n",
    "    def __init__(self):\n",
    "        super(CollateralNet, self).__init__()\n",
    "        self.proj1 = nn.Linear(784, 50)\n",
    "        self.diag1 = nn.Linear(50, PRIVATE_OUTPUT_SIZE, bias=False)\n",
    "\n",
    "        # --- FFN for characters\n",
    "        self.lin1 = nn.Linear(PRIVATE_OUTPUT_SIZE, 32)\n",
    "        self.lin2 = nn.Linear(32, N_CHARS)\n",
    "\n",
    "        # --- Junction\n",
    "        self.jct = nn.Linear(PRIVATE_OUTPUT_SIZE, 784)\n",
    "\n",
    "        # --- CNN for families\n",
    "        self.conv1 = nn.Conv2d(1, 20, 5, 1)\n",
    "        self.conv2 = nn.Conv2d(20, 50, 5, 1)\n",
    "        self.fc1 = nn.Linear(4 * 4 * 50, 500)\n",
    "        self.fc2 = nn.Linear(500, N_FONTS)\n",
    "\n",
    "    def quad(self, x):\n",
    "        # --- Quadratic\n",
    "        x = x.view(-1, 784)\n",
    "        x = self.proj1(x)\n",
    "        x = x * x\n",
    "        x = self.diag1(x)\n",
    "        return x\n",
    "\n",
    "    def char_net(self, x):\n",
    "        # --- FFN\n",
    "        x = F.relu(x)\n",
    "        x = F.relu(self.lin1(x))\n",
    "        x = self.lin2(x)\n",
    "        return x\n",
    "\n",
    "    def font_net(self, x):\n",
    "        # --- Junction\n",
    "        x = self.jct(x)\n",
    "        x = x.view(-1, 1, 28, 28)\n",
    "\n",
    "        # --- CNN\n",
    "        x = F.relu(self.conv1(x))\n",
    "        x = F.max_pool2d(x, 2, 2)\n",
    "        x = F.relu(self.conv2(x))\n",
    "        x = F.max_pool2d(x, 2, 2)\n",
    "        x = x.view(-1, 4 * 4 * 50)\n",
    "        x = F.relu(self.fc1(x))\n",
    "        x = self.fc2(x)\n",
    "        return x\n",
    "\n",
    "    def forward_char(self, x):\n",
    "        x = self.quad(x)\n",
    "        x = self.char_net(x)\n",
    "        return F.log_softmax(x, dim=1)\n",
    "\n",
    "    def forward_font(self, x):\n",
    "        x = self.quad(x)\n",
    "        x = self.font_net(x)\n",
    "        return F.log_softmax(x, dim=1)\n",
    "    \n",
    "    # We add the ability to freeze some layers to ensure that the collateral task does\n",
    "    # not modify the quadratic net\n",
    "    \n",
    "    def get_params(self, net):\n",
    "        \"\"\"Select the params for a given part of the net\"\"\"\n",
    "        if net == 'quad':\n",
    "            layers = [self.proj1, self.diag1]\n",
    "        elif net == 'char':\n",
    "            layers = [self.lin1, self.lin2]\n",
    "        elif net == 'font':\n",
    "            layers = [self.jct, self.fc1, self.fc2, self.conv1, self.conv2]\n",
    "        else:\n",
    "            raise AttributeError(f'{net} type not recognized')\n",
    "        params = [p for layer in layers for p in layer.parameters()]\n",
    "        return params\n",
    "\n",
    "    def freeze(self, net):\n",
    "        \"\"\"Freeze a part of the net\"\"\"\n",
    "        net_params = self.get_params(net)\n",
    "        for param in net_params:\n",
    "            param.requires_grad = False\n",
    "\n",
    "    def unfreeze(self):\n",
    "        \"\"\"Unfreeze the net\"\"\"\n",
    "        for param in self.parameters():\n",
    "            param.requires_grad = True"
   ]
  },
  {
   "cell_type": "code",
   "execution_count": 6,
   "metadata": {},
   "outputs": [],
   "source": [
    "def build_resistance(model, alpha=0):\n",
    "    \"\"\"\n",
    "    Perform a dual learning phase with sabotage\n",
    "    \"\"\"\n",
    "    args = Parser()\n",
    "    # We are just building Q so we don't need the 3rd phase, it will be assessed later!\n",
    "    args.new_adversary_epochs = 0\n",
    "    \n",
    "    train_loader, test_loader = collateral.get_data_loaders(args)\n",
    "\n",
    "    # optimizer = optim.Adam(model.parameters(), lr=args.lr)\n",
    "    optimizer = optim.SGD(model.parameters(), lr=args.lr, momentum=args.momentum)\n",
    "    \n",
    "    test_perfs_char = []\n",
    "    test_perfs_font = []\n",
    "    \n",
    "    for epoch in range(1, args.epochs + args.sabotage_epochs + args.new_adversary_epochs + 1):\n",
    "        initial_phase = epoch <= args.epochs\n",
    "        if initial_phase:\n",
    "            print(\"(initial phase)\")\n",
    "        perturbate = epoch > args.epochs and epoch <= args.epochs + args.sabotage_epochs\n",
    "        if perturbate:\n",
    "            print(\"(perturbate)\")\n",
    "        recover = epoch > args.epochs + args.sabotage_epochs\n",
    "        if recover:\n",
    "            print(\"(recover)\")\n",
    "        collateral.train(\n",
    "            args, model, train_loader, optimizer, epoch, alpha, \n",
    "            initial_phase, perturbate, recover, False\n",
    "        )\n",
    "        test_perf_char, test_perf_font = collateral.test(args, model, test_loader, False)\n",
    "        test_perfs_char.append(test_perf_char)\n",
    "        test_perfs_font.append(test_perf_font)\n",
    "\n",
    "    return test_perfs_char, test_perfs_font"
   ]
  },
  {
   "cell_type": "code",
   "execution_count": 7,
   "metadata": {
    "scrolled": true
   },
   "outputs": [
    {
     "name": "stdout",
     "output_type": "stream",
     "text": [
      "Model loaded!\n"
     ]
    }
   ],
   "source": [
    "path = '../data/models/quadconvnet_part6.pt'\n",
    "model = CollateralNet()\n",
    "results = {}\n",
    "\n",
    "try:\n",
    "    model.load_state_dict(torch.load(path))\n",
    "    model.eval()\n",
    "    print('Model loaded!')\n",
    "except FileNotFoundError:\n",
    "    print('Computing model...')\n",
    "    alpha=1.7\n",
    "    test_perfs_char_perturbate, test_perfs_font_perturbate = build_resistance(model, alpha=alpha)\n",
    "    results[f\"Main task with perturbation alpha={alpha}\"] = test_perfs_char_perturbate\n",
    "    results[f\"Collateral task with perturbation alpha={alpha}\"] = test_perfs_font_perturbate\n",
    "    \n",
    "    model.results = results\n",
    "    # save model\n",
    "    torch.save(model.state_dict(), path)"
   ]
  },
  {
   "cell_type": "markdown",
   "metadata": {},
   "source": [
    "## 6.2 Testing resistance againts multiples nets"
   ]
  },
  {
   "cell_type": "markdown",
   "metadata": {},
   "source": [
    "We load the `Q` net that we have thoroughly built and it will be given to our new network structure"
   ]
  },
  {
   "cell_type": "code",
   "execution_count": 8,
   "metadata": {},
   "outputs": [],
   "source": [
    "quadratic_model = model\n",
    "quadratic_model.freeze('quad')"
   ]
  },
  {
   "cell_type": "markdown",
   "metadata": {},
   "source": [
    "We now perform only the last phase with the new adversary"
   ]
  },
  {
   "cell_type": "code",
   "execution_count": 9,
   "metadata": {},
   "outputs": [],
   "source": [
    "def evaluate_resistance(model, alpha=0):\n",
    "    args = Parser()\n",
    "    \n",
    "    train_loader, test_loader = collateral.get_data_loaders(args)\n",
    "\n",
    "    optimizer = optim.SGD(model.parameters(), lr=args.lr, momentum=args.momentum)\n",
    "    \n",
    "    test_perfs_char = []\n",
    "    test_perfs_font = []\n",
    "    \n",
    "    for epoch in range(1, args.new_adversary_epochs + 1):\n",
    "        initial_phase = False\n",
    "        perturbate = False\n",
    "        recover = True\n",
    "        \n",
    "        new_adversary = True\n",
    "        \n",
    "        collateral.train(\n",
    "            args, model, train_loader, optimizer, epoch, alpha,\n",
    "            initial_phase, perturbate, recover, new_adversary\n",
    "        )\n",
    "        test_perf_char, test_perf_font = collateral.test(args, model, test_loader, new_adversary)\n",
    "        test_perfs_char.append(test_perf_char)\n",
    "        test_perfs_font.append(test_perf_font)\n",
    "\n",
    "    return test_perfs_char, test_perfs_font"
   ]
  },
  {
   "cell_type": "markdown",
   "metadata": {},
   "source": [
    "Here is the basic structure of a network like those seen previously. There is a quadratic part which inherits from the `Q` loaded, and a method `conv_font` is left empty so that we can provide arbitrary adversary by inheriting from this `BaseNet`."
   ]
  },
  {
   "cell_type": "code",
   "execution_count": 10,
   "metadata": {},
   "outputs": [],
   "source": [
    "class BaseNet(nn.Module):\n",
    "    def __init__(self, quadratic_model):\n",
    "        super(BaseNet, self).__init__()\n",
    "        self.proj1 = quadratic_model.proj1\n",
    "        self.diag1 = quadratic_model.diag1\n",
    "        \n",
    "    def quad(self, x):\n",
    "        \"\"\"Same as forward up to the junction part\n",
    "        Used for the collateral training\"\"\"\n",
    "        # --- Quadratic \n",
    "        x = x.view(-1, 784)\n",
    "        x = self.proj1(x)\n",
    "        x = x * x\n",
    "        x = self.diag1(x)\n",
    "        return x\n",
    "    \n",
    "    def conv_font(self, x):\n",
    "        pass\n",
    "    \n",
    "    def forward_adv_font(self, x):\n",
    "        x = self.quad(x)\n",
    "        x = self.conv_font(x)\n",
    "        return F.log_softmax(x, dim=1)\n",
    "    \n",
    "    def get_params(self, net):\n",
    "        \"\"\"Select the params for a given part of the net\"\"\"\n",
    "        if net == 'quad':\n",
    "            layers = [self.proj1, self.diag1]\n",
    "        else:\n",
    "            raise AttributeError(f'{net} type not recognized')\n",
    "        params = [p for layer in layers for p in layer.parameters()]\n",
    "        return params\n",
    "    \n",
    "    def freeze(self, net):\n",
    "        \"\"\"Freeze a part of the net\"\"\"\n",
    "        net_params = self.get_params(net)\n",
    "        for param in net_params:\n",
    "            param.requires_grad = False\n",
    "            \n",
    "    def unfreeze(self):\n",
    "        \"\"\"Unfreeze the net\"\"\"\n",
    "        for param in self.parameters():\n",
    "            param.requires_grad = True"
   ]
  },
  {
   "cell_type": "code",
   "execution_count": 11,
   "metadata": {},
   "outputs": [],
   "source": [
    "resistance_reports = {}"
   ]
  },
  {
   "cell_type": "markdown",
   "metadata": {},
   "source": [
    "### 6.2.1 Fully connected models "
   ]
  },
  {
   "cell_type": "markdown",
   "metadata": {},
   "source": [
    "Here we inherit from BaseNet and we only have to specify `conv_font` and declare the layers used."
   ]
  },
  {
   "cell_type": "code",
   "execution_count": 16,
   "metadata": {},
   "outputs": [],
   "source": [
    "class FFNet(BaseNet):\n",
    "    def __init__(self, architecture, quadratic_model):\n",
    "        super(FFNet, self).__init__(quadratic_model)\n",
    "        # --- FFNs for font families\n",
    "        self.architecture = architecture\n",
    "        n_layer = len(architecture) + 1\n",
    "        input_size = PRIVATE_OUTPUT_SIZE\n",
    "        for i_layer, output_size in enumerate(architecture):\n",
    "            setattr(self, f\"net_{i_layer}\", nn.Linear(input_size, output_size))\n",
    "            input_size = output_size\n",
    "        setattr(self, f\"net_{n_layer}\", nn.Linear(input_size, N_FONTS)) \n",
    "    \n",
    "    def conv_font(self, x):\n",
    "        # --- FFN\n",
    "        architecture = self.architecture\n",
    "        n_layer = len(architecture) + 1\n",
    "        for i_layer, output_size in enumerate(architecture):\n",
    "            linear = getattr(self, f\"net_{i_layer}\")\n",
    "            x = F.relu(linear(x))\n",
    "        linear = getattr(self, f\"net_{n_layer}\")  \n",
    "        x = linear(x)\n",
    "        return x\n",
    "        \n",
    "        "
   ]
  },
  {
   "cell_type": "code",
   "execution_count": 17,
   "metadata": {},
   "outputs": [
    {
     "name": "stdout",
     "output_type": "stream",
     "text": [
      "\n",
      "----- [64, 32, 16, 8]\n",
      "Training set 60000 items\n",
      "Testing set  10000 items\n",
      "Train Epoch: 1 [0/60000 (0%)]\tLoss Char: 0.000000 Loss Font: 0.750879\n",
      "Train Epoch: 1 [19200/60000 (32%)]\tLoss Char: 0.000000 Loss Font: 0.689744\n",
      "Train Epoch: 1 [38400/60000 (64%)]\tLoss Char: 0.000000 Loss Font: 0.695954\n",
      "Train Epoch: 1 [57600/60000 (96%)]\tLoss Char: 0.000000 Loss Font: 0.695641\n",
      "\n",
      "Test set: Accuracy Char : 0/10000 (0.00%)\n",
      "          Accuracy Font : 5240/10000 (52.40%)\n",
      "Train Epoch: 2 [0/60000 (0%)]\tLoss Char: 0.000000 Loss Font: 0.690036\n",
      "Train Epoch: 2 [19200/60000 (32%)]\tLoss Char: 0.000000 Loss Font: 0.685384\n",
      "Train Epoch: 2 [38400/60000 (64%)]\tLoss Char: 0.000000 Loss Font: 0.698005\n",
      "Train Epoch: 2 [57600/60000 (96%)]\tLoss Char: 0.000000 Loss Font: 0.692474\n",
      "\n",
      "Test set: Accuracy Char : 0/10000 (0.00%)\n",
      "          Accuracy Font : 5145/10000 (51.45%)\n",
      "Train Epoch: 3 [0/60000 (0%)]\tLoss Char: 0.000000 Loss Font: 0.686558\n",
      "Train Epoch: 3 [19200/60000 (32%)]\tLoss Char: 0.000000 Loss Font: 0.697787\n",
      "Train Epoch: 3 [38400/60000 (64%)]\tLoss Char: 0.000000 Loss Font: 0.691993\n",
      "Train Epoch: 3 [57600/60000 (96%)]\tLoss Char: 0.000000 Loss Font: 0.687626\n",
      "\n",
      "Test set: Accuracy Char : 0/10000 (0.00%)\n",
      "          Accuracy Font : 5219/10000 (52.19%)\n",
      "Train Epoch: 4 [0/60000 (0%)]\tLoss Char: 0.000000 Loss Font: 0.689348\n",
      "Train Epoch: 4 [19200/60000 (32%)]\tLoss Char: 0.000000 Loss Font: 0.692353\n",
      "Train Epoch: 4 [38400/60000 (64%)]\tLoss Char: 0.000000 Loss Font: 0.685947\n",
      "Train Epoch: 4 [57600/60000 (96%)]\tLoss Char: 0.000000 Loss Font: 0.693493\n",
      "\n",
      "Test set: Accuracy Char : 0/10000 (0.00%)\n",
      "          Accuracy Font : 5199/10000 (51.99%)\n",
      "Train Epoch: 5 [0/60000 (0%)]\tLoss Char: 0.000000 Loss Font: 0.692384\n",
      "Train Epoch: 5 [19200/60000 (32%)]\tLoss Char: 0.000000 Loss Font: 0.688971\n",
      "Train Epoch: 5 [38400/60000 (64%)]\tLoss Char: 0.000000 Loss Font: 0.692823\n",
      "Train Epoch: 5 [57600/60000 (96%)]\tLoss Char: 0.000000 Loss Font: 0.691804\n",
      "\n",
      "Test set: Accuracy Char : 0/10000 (0.00%)\n",
      "          Accuracy Font : 5318/10000 (53.18%)\n",
      "Train Epoch: 6 [0/60000 (0%)]\tLoss Char: 0.000000 Loss Font: 0.696147\n",
      "Train Epoch: 6 [19200/60000 (32%)]\tLoss Char: 0.000000 Loss Font: 0.682408\n",
      "Train Epoch: 6 [38400/60000 (64%)]\tLoss Char: 0.000000 Loss Font: 0.689369\n",
      "Train Epoch: 6 [57600/60000 (96%)]\tLoss Char: 0.000000 Loss Font: 0.697306\n",
      "\n",
      "Test set: Accuracy Char : 0/10000 (0.00%)\n",
      "          Accuracy Font : 5306/10000 (53.06%)\n",
      "Train Epoch: 7 [0/60000 (0%)]\tLoss Char: 0.000000 Loss Font: 0.695382\n",
      "Train Epoch: 7 [19200/60000 (32%)]\tLoss Char: 0.000000 Loss Font: 0.692523\n",
      "Train Epoch: 7 [38400/60000 (64%)]\tLoss Char: 0.000000 Loss Font: 0.693941\n",
      "Train Epoch: 7 [57600/60000 (96%)]\tLoss Char: 0.000000 Loss Font: 0.695865\n",
      "\n",
      "Test set: Accuracy Char : 0/10000 (0.00%)\n",
      "          Accuracy Font : 5176/10000 (51.76%)\n",
      "Train Epoch: 8 [0/60000 (0%)]\tLoss Char: 0.000000 Loss Font: 0.682593\n",
      "Train Epoch: 8 [19200/60000 (32%)]\tLoss Char: 0.000000 Loss Font: 0.692902\n",
      "Train Epoch: 8 [38400/60000 (64%)]\tLoss Char: 0.000000 Loss Font: 0.690337\n",
      "Train Epoch: 8 [57600/60000 (96%)]\tLoss Char: 0.000000 Loss Font: 0.688265\n",
      "\n",
      "Test set: Accuracy Char : 0/10000 (0.00%)\n",
      "          Accuracy Font : 5203/10000 (52.03%)\n",
      "Train Epoch: 9 [0/60000 (0%)]\tLoss Char: 0.000000 Loss Font: 0.686474\n",
      "Train Epoch: 9 [19200/60000 (32%)]\tLoss Char: 0.000000 Loss Font: 0.685296\n",
      "Train Epoch: 9 [38400/60000 (64%)]\tLoss Char: 0.000000 Loss Font: 0.692527\n",
      "Train Epoch: 9 [57600/60000 (96%)]\tLoss Char: 0.000000 Loss Font: 0.690700\n",
      "\n",
      "Test set: Accuracy Char : 0/10000 (0.00%)\n",
      "          Accuracy Font : 5296/10000 (52.96%)\n",
      "Train Epoch: 10 [0/60000 (0%)]\tLoss Char: 0.000000 Loss Font: 0.683437\n",
      "Train Epoch: 10 [19200/60000 (32%)]\tLoss Char: 0.000000 Loss Font: 0.690212\n",
      "Train Epoch: 10 [38400/60000 (64%)]\tLoss Char: 0.000000 Loss Font: 0.689106\n",
      "Train Epoch: 10 [57600/60000 (96%)]\tLoss Char: 0.000000 Loss Font: 0.696099\n",
      "\n",
      "Test set: Accuracy Char : 0/10000 (0.00%)\n",
      "          Accuracy Font : 5337/10000 (53.37%)\n",
      "\n",
      "----- [32, 16, 8]\n",
      "Training set 60000 items\n",
      "Testing set  10000 items\n",
      "Train Epoch: 1 [0/60000 (0%)]\tLoss Char: 0.000000 Loss Font: 1.032732\n",
      "Train Epoch: 1 [19200/60000 (32%)]\tLoss Char: 0.000000 Loss Font: 0.689811\n",
      "Train Epoch: 1 [38400/60000 (64%)]\tLoss Char: 0.000000 Loss Font: 0.693891\n",
      "Train Epoch: 1 [57600/60000 (96%)]\tLoss Char: 0.000000 Loss Font: 0.698309\n",
      "\n",
      "Test set: Accuracy Char : 0/10000 (0.00%)\n",
      "          Accuracy Font : 5147/10000 (51.47%)\n",
      "Train Epoch: 2 [0/60000 (0%)]\tLoss Char: 0.000000 Loss Font: 0.687785\n",
      "Train Epoch: 2 [19200/60000 (32%)]\tLoss Char: 0.000000 Loss Font: 0.684389\n",
      "Train Epoch: 2 [38400/60000 (64%)]\tLoss Char: 0.000000 Loss Font: 0.692673\n",
      "Train Epoch: 2 [57600/60000 (96%)]\tLoss Char: 0.000000 Loss Font: 0.687648\n",
      "\n",
      "Test set: Accuracy Char : 0/10000 (0.00%)\n",
      "          Accuracy Font : 5077/10000 (50.77%)\n",
      "Train Epoch: 3 [0/60000 (0%)]\tLoss Char: 0.000000 Loss Font: 0.691381\n",
      "Train Epoch: 3 [19200/60000 (32%)]\tLoss Char: 0.000000 Loss Font: 0.700281\n",
      "Train Epoch: 3 [38400/60000 (64%)]\tLoss Char: 0.000000 Loss Font: 0.695691\n",
      "Train Epoch: 3 [57600/60000 (96%)]\tLoss Char: 0.000000 Loss Font: 0.690803\n",
      "\n",
      "Test set: Accuracy Char : 0/10000 (0.00%)\n",
      "          Accuracy Font : 5045/10000 (50.45%)\n",
      "Train Epoch: 4 [0/60000 (0%)]\tLoss Char: 0.000000 Loss Font: 0.692077\n",
      "Train Epoch: 4 [19200/60000 (32%)]\tLoss Char: 0.000000 Loss Font: 0.696306\n",
      "Train Epoch: 4 [38400/60000 (64%)]\tLoss Char: 0.000000 Loss Font: 0.689878\n",
      "Train Epoch: 4 [57600/60000 (96%)]\tLoss Char: 0.000000 Loss Font: 0.694843\n",
      "\n",
      "Test set: Accuracy Char : 0/10000 (0.00%)\n",
      "          Accuracy Font : 5103/10000 (51.03%)\n",
      "Train Epoch: 5 [0/60000 (0%)]\tLoss Char: 0.000000 Loss Font: 0.689081\n",
      "Train Epoch: 5 [19200/60000 (32%)]\tLoss Char: 0.000000 Loss Font: 0.697148\n",
      "Train Epoch: 5 [38400/60000 (64%)]\tLoss Char: 0.000000 Loss Font: 0.694993\n",
      "Train Epoch: 5 [57600/60000 (96%)]\tLoss Char: 0.000000 Loss Font: 0.695115\n",
      "\n",
      "Test set: Accuracy Char : 0/10000 (0.00%)\n",
      "          Accuracy Font : 5110/10000 (51.10%)\n",
      "Train Epoch: 6 [0/60000 (0%)]\tLoss Char: 0.000000 Loss Font: 0.694676\n",
      "Train Epoch: 6 [19200/60000 (32%)]\tLoss Char: 0.000000 Loss Font: 0.686910\n",
      "Train Epoch: 6 [38400/60000 (64%)]\tLoss Char: 0.000000 Loss Font: 0.690551\n",
      "Train Epoch: 6 [57600/60000 (96%)]\tLoss Char: 0.000000 Loss Font: 0.693718\n",
      "\n",
      "Test set: Accuracy Char : 0/10000 (0.00%)\n",
      "          Accuracy Font : 5074/10000 (50.74%)\n",
      "Train Epoch: 7 [0/60000 (0%)]\tLoss Char: 0.000000 Loss Font: 0.698017\n",
      "Train Epoch: 7 [19200/60000 (32%)]\tLoss Char: 0.000000 Loss Font: 0.695251\n",
      "Train Epoch: 7 [38400/60000 (64%)]\tLoss Char: 0.000000 Loss Font: 0.697141\n",
      "Train Epoch: 7 [57600/60000 (96%)]\tLoss Char: 0.000000 Loss Font: 0.694880\n",
      "\n",
      "Test set: Accuracy Char : 0/10000 (0.00%)\n",
      "          Accuracy Font : 5211/10000 (52.11%)\n",
      "Train Epoch: 8 [0/60000 (0%)]\tLoss Char: 0.000000 Loss Font: 0.682581\n",
      "Train Epoch: 8 [19200/60000 (32%)]\tLoss Char: 0.000000 Loss Font: 0.695037\n",
      "Train Epoch: 8 [38400/60000 (64%)]\tLoss Char: 0.000000 Loss Font: 0.695284\n",
      "Train Epoch: 8 [57600/60000 (96%)]\tLoss Char: 0.000000 Loss Font: 0.690994\n",
      "\n",
      "Test set: Accuracy Char : 0/10000 (0.00%)\n",
      "          Accuracy Font : 5174/10000 (51.74%)\n",
      "Train Epoch: 9 [0/60000 (0%)]\tLoss Char: 0.000000 Loss Font: 0.690006\n",
      "Train Epoch: 9 [19200/60000 (32%)]\tLoss Char: 0.000000 Loss Font: 0.689813\n",
      "Train Epoch: 9 [38400/60000 (64%)]\tLoss Char: 0.000000 Loss Font: 0.692840\n",
      "Train Epoch: 9 [57600/60000 (96%)]\tLoss Char: 0.000000 Loss Font: 0.697182\n",
      "\n",
      "Test set: Accuracy Char : 0/10000 (0.00%)\n",
      "          Accuracy Font : 5084/10000 (50.84%)\n",
      "Train Epoch: 10 [0/60000 (0%)]\tLoss Char: 0.000000 Loss Font: 0.682567\n",
      "Train Epoch: 10 [19200/60000 (32%)]\tLoss Char: 0.000000 Loss Font: 0.691016\n",
      "Train Epoch: 10 [38400/60000 (64%)]\tLoss Char: 0.000000 Loss Font: 0.693592\n",
      "Train Epoch: 10 [57600/60000 (96%)]\tLoss Char: 0.000000 Loss Font: 0.691840\n",
      "\n",
      "Test set: Accuracy Char : 0/10000 (0.00%)\n",
      "          Accuracy Font : 5115/10000 (51.15%)\n",
      "\n",
      "----- [24, 12]\n",
      "Training set 60000 items\n",
      "Testing set  10000 items\n",
      "Train Epoch: 1 [0/60000 (0%)]\tLoss Char: 0.000000 Loss Font: 5.285917\n",
      "Train Epoch: 1 [19200/60000 (32%)]\tLoss Char: 0.000000 Loss Font: 0.729264\n",
      "Train Epoch: 1 [38400/60000 (64%)]\tLoss Char: 0.000000 Loss Font: 0.687971\n",
      "Train Epoch: 1 [57600/60000 (96%)]\tLoss Char: 0.000000 Loss Font: 0.691253\n",
      "\n",
      "Test set: Accuracy Char : 0/10000 (0.00%)\n",
      "          Accuracy Font : 4998/10000 (49.98%)\n",
      "Train Epoch: 2 [0/60000 (0%)]\tLoss Char: 0.000000 Loss Font: 0.701360\n"
     ]
    },
    {
     "name": "stdout",
     "output_type": "stream",
     "text": [
      "Train Epoch: 2 [19200/60000 (32%)]\tLoss Char: 0.000000 Loss Font: 0.690514\n",
      "Train Epoch: 2 [38400/60000 (64%)]\tLoss Char: 0.000000 Loss Font: 0.693087\n",
      "Train Epoch: 2 [57600/60000 (96%)]\tLoss Char: 0.000000 Loss Font: 0.693215\n",
      "\n",
      "Test set: Accuracy Char : 0/10000 (0.00%)\n",
      "          Accuracy Font : 5045/10000 (50.45%)\n",
      "Train Epoch: 3 [0/60000 (0%)]\tLoss Char: 0.000000 Loss Font: 0.692458\n",
      "Train Epoch: 3 [19200/60000 (32%)]\tLoss Char: 0.000000 Loss Font: 0.689306\n",
      "Train Epoch: 3 [38400/60000 (64%)]\tLoss Char: 0.000000 Loss Font: 0.692752\n",
      "Train Epoch: 3 [57600/60000 (96%)]\tLoss Char: 0.000000 Loss Font: 0.697782\n",
      "\n",
      "Test set: Accuracy Char : 0/10000 (0.00%)\n",
      "          Accuracy Font : 5090/10000 (50.90%)\n",
      "Train Epoch: 4 [0/60000 (0%)]\tLoss Char: 0.000000 Loss Font: 0.690697\n",
      "Train Epoch: 4 [19200/60000 (32%)]\tLoss Char: 0.000000 Loss Font: 0.692828\n",
      "Train Epoch: 4 [38400/60000 (64%)]\tLoss Char: 0.000000 Loss Font: 0.690020\n",
      "Train Epoch: 4 [57600/60000 (96%)]\tLoss Char: 0.000000 Loss Font: 0.692479\n",
      "\n",
      "Test set: Accuracy Char : 0/10000 (0.00%)\n",
      "          Accuracy Font : 5030/10000 (50.30%)\n",
      "Train Epoch: 5 [0/60000 (0%)]\tLoss Char: 0.000000 Loss Font: 0.686727\n",
      "Train Epoch: 5 [19200/60000 (32%)]\tLoss Char: 0.000000 Loss Font: 0.691726\n",
      "Train Epoch: 5 [38400/60000 (64%)]\tLoss Char: 0.000000 Loss Font: 0.691241\n",
      "Train Epoch: 5 [57600/60000 (96%)]\tLoss Char: 0.000000 Loss Font: 0.699135\n",
      "\n",
      "Test set: Accuracy Char : 0/10000 (0.00%)\n",
      "          Accuracy Font : 5036/10000 (50.36%)\n",
      "Train Epoch: 6 [0/60000 (0%)]\tLoss Char: 0.000000 Loss Font: 0.691107\n",
      "Train Epoch: 6 [19200/60000 (32%)]\tLoss Char: 0.000000 Loss Font: 0.684223\n",
      "Train Epoch: 6 [38400/60000 (64%)]\tLoss Char: 0.000000 Loss Font: 0.701778\n",
      "Train Epoch: 6 [57600/60000 (96%)]\tLoss Char: 0.000000 Loss Font: 0.686982\n",
      "\n",
      "Test set: Accuracy Char : 0/10000 (0.00%)\n",
      "          Accuracy Font : 5098/10000 (50.98%)\n",
      "Train Epoch: 7 [0/60000 (0%)]\tLoss Char: 0.000000 Loss Font: 0.690018\n",
      "Train Epoch: 7 [19200/60000 (32%)]\tLoss Char: 0.000000 Loss Font: 0.678092\n",
      "Train Epoch: 7 [38400/60000 (64%)]\tLoss Char: 0.000000 Loss Font: 0.691279\n",
      "Train Epoch: 7 [57600/60000 (96%)]\tLoss Char: 0.000000 Loss Font: 0.694708\n",
      "\n",
      "Test set: Accuracy Char : 0/10000 (0.00%)\n",
      "          Accuracy Font : 5059/10000 (50.59%)\n",
      "Train Epoch: 8 [0/60000 (0%)]\tLoss Char: 0.000000 Loss Font: 0.694270\n",
      "Train Epoch: 8 [19200/60000 (32%)]\tLoss Char: 0.000000 Loss Font: 0.689633\n",
      "Train Epoch: 8 [38400/60000 (64%)]\tLoss Char: 0.000000 Loss Font: 0.690630\n",
      "Train Epoch: 8 [57600/60000 (96%)]\tLoss Char: 0.000000 Loss Font: 0.691437\n",
      "\n",
      "Test set: Accuracy Char : 0/10000 (0.00%)\n",
      "          Accuracy Font : 5003/10000 (50.03%)\n",
      "Train Epoch: 9 [0/60000 (0%)]\tLoss Char: 0.000000 Loss Font: 0.686580\n",
      "Train Epoch: 9 [19200/60000 (32%)]\tLoss Char: 0.000000 Loss Font: 0.688325\n",
      "Train Epoch: 9 [38400/60000 (64%)]\tLoss Char: 0.000000 Loss Font: 0.689239\n",
      "Train Epoch: 9 [57600/60000 (96%)]\tLoss Char: 0.000000 Loss Font: 0.692874\n",
      "\n",
      "Test set: Accuracy Char : 0/10000 (0.00%)\n",
      "          Accuracy Font : 5182/10000 (51.82%)\n",
      "Train Epoch: 10 [0/60000 (0%)]\tLoss Char: 0.000000 Loss Font: 0.684954\n",
      "Train Epoch: 10 [19200/60000 (32%)]\tLoss Char: 0.000000 Loss Font: 0.687923\n",
      "Train Epoch: 10 [38400/60000 (64%)]\tLoss Char: 0.000000 Loss Font: 0.687928\n",
      "Train Epoch: 10 [57600/60000 (96%)]\tLoss Char: 0.000000 Loss Font: 0.702417\n",
      "\n",
      "Test set: Accuracy Char : 0/10000 (0.00%)\n",
      "          Accuracy Font : 5001/10000 (50.01%)\n",
      "\n",
      "----- [64]\n",
      "Training set 60000 items\n",
      "Testing set  10000 items\n",
      "Train Epoch: 1 [0/60000 (0%)]\tLoss Char: 0.000000 Loss Font: 2.506361\n",
      "Train Epoch: 1 [19200/60000 (32%)]\tLoss Char: 0.000000 Loss Font: 0.852856\n",
      "Train Epoch: 1 [38400/60000 (64%)]\tLoss Char: 0.000000 Loss Font: 0.726452\n",
      "Train Epoch: 1 [57600/60000 (96%)]\tLoss Char: 0.000000 Loss Font: 0.692649\n",
      "\n",
      "Test set: Accuracy Char : 0/10000 (0.00%)\n",
      "          Accuracy Font : 5185/10000 (51.85%)\n",
      "Train Epoch: 2 [0/60000 (0%)]\tLoss Char: 0.000000 Loss Font: 0.682005\n",
      "Train Epoch: 2 [19200/60000 (32%)]\tLoss Char: 0.000000 Loss Font: 0.695005\n",
      "Train Epoch: 2 [38400/60000 (64%)]\tLoss Char: 0.000000 Loss Font: 0.719106\n",
      "Train Epoch: 2 [57600/60000 (96%)]\tLoss Char: 0.000000 Loss Font: 0.687598\n",
      "\n",
      "Test set: Accuracy Char : 0/10000 (0.00%)\n",
      "          Accuracy Font : 5187/10000 (51.87%)\n",
      "Train Epoch: 3 [0/60000 (0%)]\tLoss Char: 0.000000 Loss Font: 0.677524\n",
      "Train Epoch: 3 [19200/60000 (32%)]\tLoss Char: 0.000000 Loss Font: 0.695903\n",
      "Train Epoch: 3 [38400/60000 (64%)]\tLoss Char: 0.000000 Loss Font: 0.684365\n",
      "Train Epoch: 3 [57600/60000 (96%)]\tLoss Char: 0.000000 Loss Font: 0.700393\n",
      "\n",
      "Test set: Accuracy Char : 0/10000 (0.00%)\n",
      "          Accuracy Font : 5152/10000 (51.52%)\n",
      "Train Epoch: 4 [0/60000 (0%)]\tLoss Char: 0.000000 Loss Font: 0.684916\n",
      "Train Epoch: 4 [19200/60000 (32%)]\tLoss Char: 0.000000 Loss Font: 0.704001\n",
      "Train Epoch: 4 [38400/60000 (64%)]\tLoss Char: 0.000000 Loss Font: 0.700519\n",
      "Train Epoch: 4 [57600/60000 (96%)]\tLoss Char: 0.000000 Loss Font: 0.697716\n",
      "\n",
      "Test set: Accuracy Char : 0/10000 (0.00%)\n",
      "          Accuracy Font : 5156/10000 (51.56%)\n",
      "Train Epoch: 5 [0/60000 (0%)]\tLoss Char: 0.000000 Loss Font: 0.693308\n",
      "Train Epoch: 5 [19200/60000 (32%)]\tLoss Char: 0.000000 Loss Font: 0.706909\n",
      "Train Epoch: 5 [38400/60000 (64%)]\tLoss Char: 0.000000 Loss Font: 0.695924\n",
      "Train Epoch: 5 [57600/60000 (96%)]\tLoss Char: 0.000000 Loss Font: 0.704439\n",
      "\n",
      "Test set: Accuracy Char : 0/10000 (0.00%)\n",
      "          Accuracy Font : 5281/10000 (52.81%)\n",
      "Train Epoch: 6 [0/60000 (0%)]\tLoss Char: 0.000000 Loss Font: 0.692011\n",
      "Train Epoch: 6 [19200/60000 (32%)]\tLoss Char: 0.000000 Loss Font: 0.664898\n",
      "Train Epoch: 6 [38400/60000 (64%)]\tLoss Char: 0.000000 Loss Font: 0.717933\n",
      "Train Epoch: 6 [57600/60000 (96%)]\tLoss Char: 0.000000 Loss Font: 0.700903\n",
      "\n",
      "Test set: Accuracy Char : 0/10000 (0.00%)\n",
      "          Accuracy Font : 5355/10000 (53.55%)\n",
      "Train Epoch: 7 [0/60000 (0%)]\tLoss Char: 0.000000 Loss Font: 0.706333\n",
      "Train Epoch: 7 [19200/60000 (32%)]\tLoss Char: 0.000000 Loss Font: 0.693030\n",
      "Train Epoch: 7 [38400/60000 (64%)]\tLoss Char: 0.000000 Loss Font: 0.670324\n",
      "Train Epoch: 7 [57600/60000 (96%)]\tLoss Char: 0.000000 Loss Font: 0.748954\n",
      "\n",
      "Test set: Accuracy Char : 0/10000 (0.00%)\n",
      "          Accuracy Font : 5198/10000 (51.98%)\n",
      "Train Epoch: 8 [0/60000 (0%)]\tLoss Char: 0.000000 Loss Font: 0.665840\n",
      "Train Epoch: 8 [19200/60000 (32%)]\tLoss Char: 0.000000 Loss Font: 0.706556\n",
      "Train Epoch: 8 [38400/60000 (64%)]\tLoss Char: 0.000000 Loss Font: 0.681428\n",
      "Train Epoch: 8 [57600/60000 (96%)]\tLoss Char: 0.000000 Loss Font: 0.675938\n",
      "\n",
      "Test set: Accuracy Char : 0/10000 (0.00%)\n",
      "          Accuracy Font : 5260/10000 (52.60%)\n",
      "Train Epoch: 9 [0/60000 (0%)]\tLoss Char: 0.000000 Loss Font: 0.674727\n",
      "Train Epoch: 9 [19200/60000 (32%)]\tLoss Char: 0.000000 Loss Font: 0.669784\n",
      "Train Epoch: 9 [38400/60000 (64%)]\tLoss Char: 0.000000 Loss Font: 0.689092\n",
      "Train Epoch: 9 [57600/60000 (96%)]\tLoss Char: 0.000000 Loss Font: 0.685751\n",
      "\n",
      "Test set: Accuracy Char : 0/10000 (0.00%)\n",
      "          Accuracy Font : 5386/10000 (53.86%)\n",
      "Train Epoch: 10 [0/60000 (0%)]\tLoss Char: 0.000000 Loss Font: 0.671011\n",
      "Train Epoch: 10 [19200/60000 (32%)]\tLoss Char: 0.000000 Loss Font: 0.707654\n",
      "Train Epoch: 10 [38400/60000 (64%)]\tLoss Char: 0.000000 Loss Font: 0.673151\n",
      "Train Epoch: 10 [57600/60000 (96%)]\tLoss Char: 0.000000 Loss Font: 0.726027\n",
      "\n",
      "Test set: Accuracy Char : 0/10000 (0.00%)\n",
      "          Accuracy Font : 5466/10000 (54.66%)\n",
      "\n",
      "----- [32]\n",
      "Training set 60000 items\n",
      "Testing set  10000 items\n",
      "Train Epoch: 1 [0/60000 (0%)]\tLoss Char: 0.000000 Loss Font: 2.053439\n",
      "Train Epoch: 1 [19200/60000 (32%)]\tLoss Char: 0.000000 Loss Font: 0.844637\n",
      "Train Epoch: 1 [38400/60000 (64%)]\tLoss Char: 0.000000 Loss Font: 0.700958\n",
      "Train Epoch: 1 [57600/60000 (96%)]\tLoss Char: 0.000000 Loss Font: 0.702266\n",
      "\n",
      "Test set: Accuracy Char : 0/10000 (0.00%)\n",
      "          Accuracy Font : 5006/10000 (50.06%)\n",
      "Train Epoch: 2 [0/60000 (0%)]\tLoss Char: 0.000000 Loss Font: 0.672612\n",
      "Train Epoch: 2 [19200/60000 (32%)]\tLoss Char: 0.000000 Loss Font: 0.700269\n",
      "Train Epoch: 2 [38400/60000 (64%)]\tLoss Char: 0.000000 Loss Font: 0.711810\n",
      "Train Epoch: 2 [57600/60000 (96%)]\tLoss Char: 0.000000 Loss Font: 0.691968\n",
      "\n",
      "Test set: Accuracy Char : 0/10000 (0.00%)\n",
      "          Accuracy Font : 5081/10000 (50.81%)\n",
      "Train Epoch: 3 [0/60000 (0%)]\tLoss Char: 0.000000 Loss Font: 0.692658\n"
     ]
    },
    {
     "name": "stdout",
     "output_type": "stream",
     "text": [
      "Train Epoch: 3 [19200/60000 (32%)]\tLoss Char: 0.000000 Loss Font: 0.702525\n",
      "Train Epoch: 3 [38400/60000 (64%)]\tLoss Char: 0.000000 Loss Font: 0.690259\n",
      "Train Epoch: 3 [57600/60000 (96%)]\tLoss Char: 0.000000 Loss Font: 0.691294\n",
      "\n",
      "Test set: Accuracy Char : 0/10000 (0.00%)\n",
      "          Accuracy Font : 5161/10000 (51.61%)\n",
      "Train Epoch: 4 [0/60000 (0%)]\tLoss Char: 0.000000 Loss Font: 0.683271\n",
      "Train Epoch: 4 [19200/60000 (32%)]\tLoss Char: 0.000000 Loss Font: 0.694451\n",
      "Train Epoch: 4 [38400/60000 (64%)]\tLoss Char: 0.000000 Loss Font: 0.680990\n",
      "Train Epoch: 4 [57600/60000 (96%)]\tLoss Char: 0.000000 Loss Font: 0.698583\n",
      "\n",
      "Test set: Accuracy Char : 0/10000 (0.00%)\n",
      "          Accuracy Font : 5122/10000 (51.22%)\n",
      "Train Epoch: 5 [0/60000 (0%)]\tLoss Char: 0.000000 Loss Font: 0.695992\n",
      "Train Epoch: 5 [19200/60000 (32%)]\tLoss Char: 0.000000 Loss Font: 0.687571\n",
      "Train Epoch: 5 [38400/60000 (64%)]\tLoss Char: 0.000000 Loss Font: 0.702064\n",
      "Train Epoch: 5 [57600/60000 (96%)]\tLoss Char: 0.000000 Loss Font: 0.690116\n",
      "\n",
      "Test set: Accuracy Char : 0/10000 (0.00%)\n",
      "          Accuracy Font : 5133/10000 (51.33%)\n",
      "Train Epoch: 6 [0/60000 (0%)]\tLoss Char: 0.000000 Loss Font: 0.693688\n",
      "Train Epoch: 6 [19200/60000 (32%)]\tLoss Char: 0.000000 Loss Font: 0.697754\n",
      "Train Epoch: 6 [38400/60000 (64%)]\tLoss Char: 0.000000 Loss Font: 0.698759\n",
      "Train Epoch: 6 [57600/60000 (96%)]\tLoss Char: 0.000000 Loss Font: 0.702612\n",
      "\n",
      "Test set: Accuracy Char : 0/10000 (0.00%)\n",
      "          Accuracy Font : 5159/10000 (51.59%)\n",
      "Train Epoch: 7 [0/60000 (0%)]\tLoss Char: 0.000000 Loss Font: 0.691077\n",
      "Train Epoch: 7 [19200/60000 (32%)]\tLoss Char: 0.000000 Loss Font: 0.676041\n",
      "Train Epoch: 7 [38400/60000 (64%)]\tLoss Char: 0.000000 Loss Font: 0.683525\n",
      "Train Epoch: 7 [57600/60000 (96%)]\tLoss Char: 0.000000 Loss Font: 0.711974\n",
      "\n",
      "Test set: Accuracy Char : 0/10000 (0.00%)\n",
      "          Accuracy Font : 5241/10000 (52.41%)\n",
      "Train Epoch: 8 [0/60000 (0%)]\tLoss Char: 0.000000 Loss Font: 0.680145\n",
      "Train Epoch: 8 [19200/60000 (32%)]\tLoss Char: 0.000000 Loss Font: 0.695922\n",
      "Train Epoch: 8 [38400/60000 (64%)]\tLoss Char: 0.000000 Loss Font: 0.688735\n",
      "Train Epoch: 8 [57600/60000 (96%)]\tLoss Char: 0.000000 Loss Font: 0.677765\n",
      "\n",
      "Test set: Accuracy Char : 0/10000 (0.00%)\n",
      "          Accuracy Font : 5073/10000 (50.73%)\n",
      "Train Epoch: 9 [0/60000 (0%)]\tLoss Char: 0.000000 Loss Font: 0.680994\n",
      "Train Epoch: 9 [19200/60000 (32%)]\tLoss Char: 0.000000 Loss Font: 0.679083\n",
      "Train Epoch: 9 [38400/60000 (64%)]\tLoss Char: 0.000000 Loss Font: 0.688049\n",
      "Train Epoch: 9 [57600/60000 (96%)]\tLoss Char: 0.000000 Loss Font: 0.691969\n",
      "\n",
      "Test set: Accuracy Char : 0/10000 (0.00%)\n",
      "          Accuracy Font : 5230/10000 (52.30%)\n",
      "Train Epoch: 10 [0/60000 (0%)]\tLoss Char: 0.000000 Loss Font: 0.669892\n",
      "Train Epoch: 10 [19200/60000 (32%)]\tLoss Char: 0.000000 Loss Font: 0.688909\n",
      "Train Epoch: 10 [38400/60000 (64%)]\tLoss Char: 0.000000 Loss Font: 0.673631\n",
      "Train Epoch: 10 [57600/60000 (96%)]\tLoss Char: 0.000000 Loss Font: 0.709329\n",
      "\n",
      "Test set: Accuracy Char : 0/10000 (0.00%)\n",
      "          Accuracy Font : 5254/10000 (52.54%)\n",
      "\n",
      "----- [16]\n",
      "Training set 60000 items\n",
      "Testing set  10000 items\n",
      "Train Epoch: 1 [0/60000 (0%)]\tLoss Char: 0.000000 Loss Font: 11.673739\n",
      "Train Epoch: 1 [19200/60000 (32%)]\tLoss Char: 0.000000 Loss Font: 0.835302\n",
      "Train Epoch: 1 [38400/60000 (64%)]\tLoss Char: 0.000000 Loss Font: 0.694655\n",
      "Train Epoch: 1 [57600/60000 (96%)]\tLoss Char: 0.000000 Loss Font: 0.698245\n",
      "\n",
      "Test set: Accuracy Char : 0/10000 (0.00%)\n",
      "          Accuracy Font : 4990/10000 (49.90%)\n",
      "Train Epoch: 2 [0/60000 (0%)]\tLoss Char: 0.000000 Loss Font: 0.686405\n",
      "Train Epoch: 2 [19200/60000 (32%)]\tLoss Char: 0.000000 Loss Font: 0.689453\n",
      "Train Epoch: 2 [38400/60000 (64%)]\tLoss Char: 0.000000 Loss Font: 0.694981\n",
      "Train Epoch: 2 [57600/60000 (96%)]\tLoss Char: 0.000000 Loss Font: 0.696490\n",
      "\n",
      "Test set: Accuracy Char : 0/10000 (0.00%)\n",
      "          Accuracy Font : 4823/10000 (48.23%)\n",
      "Train Epoch: 3 [0/60000 (0%)]\tLoss Char: 0.000000 Loss Font: 0.691144\n",
      "Train Epoch: 3 [19200/60000 (32%)]\tLoss Char: 0.000000 Loss Font: 0.698536\n",
      "Train Epoch: 3 [38400/60000 (64%)]\tLoss Char: 0.000000 Loss Font: 0.691138\n",
      "Train Epoch: 3 [57600/60000 (96%)]\tLoss Char: 0.000000 Loss Font: 0.696008\n",
      "\n",
      "Test set: Accuracy Char : 0/10000 (0.00%)\n",
      "          Accuracy Font : 5014/10000 (50.14%)\n",
      "Train Epoch: 4 [0/60000 (0%)]\tLoss Char: 0.000000 Loss Font: 0.697616\n",
      "Train Epoch: 4 [19200/60000 (32%)]\tLoss Char: 0.000000 Loss Font: 0.694876\n",
      "Train Epoch: 4 [38400/60000 (64%)]\tLoss Char: 0.000000 Loss Font: 0.687477\n",
      "Train Epoch: 4 [57600/60000 (96%)]\tLoss Char: 0.000000 Loss Font: 0.692222\n",
      "\n",
      "Test set: Accuracy Char : 0/10000 (0.00%)\n",
      "          Accuracy Font : 5121/10000 (51.21%)\n",
      "Train Epoch: 5 [0/60000 (0%)]\tLoss Char: 0.000000 Loss Font: 0.691271\n",
      "Train Epoch: 5 [19200/60000 (32%)]\tLoss Char: 0.000000 Loss Font: 0.688706\n",
      "Train Epoch: 5 [38400/60000 (64%)]\tLoss Char: 0.000000 Loss Font: 0.686986\n",
      "Train Epoch: 5 [57600/60000 (96%)]\tLoss Char: 0.000000 Loss Font: 0.689215\n",
      "\n",
      "Test set: Accuracy Char : 0/10000 (0.00%)\n",
      "          Accuracy Font : 5090/10000 (50.90%)\n",
      "Train Epoch: 6 [0/60000 (0%)]\tLoss Char: 0.000000 Loss Font: 0.696426\n",
      "Train Epoch: 6 [19200/60000 (32%)]\tLoss Char: 0.000000 Loss Font: 0.685626\n",
      "Train Epoch: 6 [38400/60000 (64%)]\tLoss Char: 0.000000 Loss Font: 0.692401\n",
      "Train Epoch: 6 [57600/60000 (96%)]\tLoss Char: 0.000000 Loss Font: 0.695053\n",
      "\n",
      "Test set: Accuracy Char : 0/10000 (0.00%)\n",
      "          Accuracy Font : 5016/10000 (50.16%)\n",
      "Train Epoch: 7 [0/60000 (0%)]\tLoss Char: 0.000000 Loss Font: 0.690834\n",
      "Train Epoch: 7 [19200/60000 (32%)]\tLoss Char: 0.000000 Loss Font: 0.693640\n",
      "Train Epoch: 7 [38400/60000 (64%)]\tLoss Char: 0.000000 Loss Font: 0.692629\n",
      "Train Epoch: 7 [57600/60000 (96%)]\tLoss Char: 0.000000 Loss Font: 0.698559\n",
      "\n",
      "Test set: Accuracy Char : 0/10000 (0.00%)\n",
      "          Accuracy Font : 5117/10000 (51.17%)\n",
      "Train Epoch: 8 [0/60000 (0%)]\tLoss Char: 0.000000 Loss Font: 0.690791\n",
      "Train Epoch: 8 [19200/60000 (32%)]\tLoss Char: 0.000000 Loss Font: 0.699488\n",
      "Train Epoch: 8 [38400/60000 (64%)]\tLoss Char: 0.000000 Loss Font: 0.692440\n",
      "Train Epoch: 8 [57600/60000 (96%)]\tLoss Char: 0.000000 Loss Font: 0.685829\n",
      "\n",
      "Test set: Accuracy Char : 0/10000 (0.00%)\n",
      "          Accuracy Font : 5102/10000 (51.02%)\n",
      "Train Epoch: 9 [0/60000 (0%)]\tLoss Char: 0.000000 Loss Font: 0.689733\n",
      "Train Epoch: 9 [19200/60000 (32%)]\tLoss Char: 0.000000 Loss Font: 0.690879\n",
      "Train Epoch: 9 [38400/60000 (64%)]\tLoss Char: 0.000000 Loss Font: 0.690844\n",
      "Train Epoch: 9 [57600/60000 (96%)]\tLoss Char: 0.000000 Loss Font: 0.692567\n",
      "\n",
      "Test set: Accuracy Char : 0/10000 (0.00%)\n",
      "          Accuracy Font : 5137/10000 (51.37%)\n",
      "Train Epoch: 10 [0/60000 (0%)]\tLoss Char: 0.000000 Loss Font: 0.686084\n",
      "Train Epoch: 10 [19200/60000 (32%)]\tLoss Char: 0.000000 Loss Font: 0.691967\n",
      "Train Epoch: 10 [38400/60000 (64%)]\tLoss Char: 0.000000 Loss Font: 0.694014\n",
      "Train Epoch: 10 [57600/60000 (96%)]\tLoss Char: 0.000000 Loss Font: 0.694295\n",
      "\n",
      "Test set: Accuracy Char : 0/10000 (0.00%)\n",
      "          Accuracy Font : 5177/10000 (51.77%)\n"
     ]
    },
    {
     "data": {
      "image/png": "[encoded data removed]",
      "text/plain": [
       "<Figure size 720x288 with 1 Axes>"
      ]
     },
     "metadata": {
      "needs_background": "light"
     },
     "output_type": "display_data"
    }
   ],
   "source": [
    "architectures = [[64, 32, 16, 8], [32, 16, 8], [24, 12], [64], [32], [16]]\n",
    "\n",
    "for architecture in architectures:\n",
    "    print('\\n-----', architecture)\n",
    "    model = FFNet(architecture, quadratic_model)\n",
    "    _, test_perfs_font = evaluate_resistance(model)\n",
    "    \n",
    "    architecture = ':'.join(map(str, [8] + architecture + [N_FONTS]))\n",
    "    resistance_reports[f\"Collateral task with net {architecture}\"] = test_perfs_font\n",
    "    \n",
    "show_results(resistance_reports, title=\"Resistance of FFNs with CNN protection\")\n"
   ]
  },
  {
   "cell_type": "markdown",
   "metadata": {},
   "source": [
    "### 6.2.2 CNN models"
   ]
  },
  {
   "cell_type": "code",
   "execution_count": 19,
   "metadata": {},
   "outputs": [],
   "source": [
    "class CNNet(BaseNet):\n",
    "    def __init__(self, nn_modules, quadratic_model):\n",
    "        super(CNNet, self).__init__(quadratic_model)\n",
    "        # --- CNNs for font families\n",
    "        self.nn_modules = nn_modules\n",
    "        setattr(self, \"net_0\", nn.Linear(PRIVATE_OUTPUT_SIZE, 784))\n",
    "        for i_layer, nn_module in enumerate(nn_modules):\n",
    "            setattr(self, f\"net_{i_layer + 1}\", nn_module)\n",
    "    \n",
    "    def conv_font(self, x):\n",
    "        switched_from_conv_lin = False\n",
    "        out_channels = []\n",
    "        # Make the junction\n",
    "        linear = getattr(self, \"net_0\")  \n",
    "        x = linear(x)\n",
    "        x = x.view(-1, 1, 28, 28)\n",
    "        # --- CNN\n",
    "        for i_layer, _ in enumerate(self.nn_modules):\n",
    "            layer = getattr(self, f\"net_{i_layer + 1}\")\n",
    "            if isinstance(layer, nn.Conv2d): # Conv layer\n",
    "                x = F.relu(layer(x))\n",
    "                x = F.max_pool2d(x, 2, 2)\n",
    "                out_channels.append(layer.out_channels)\n",
    "            else: # Linear layer\n",
    "                if not switched_from_conv_lin:\n",
    "                    x = x.view(-1, 4*4*out_channels[-1])\n",
    "                    switched_from_conv_lin = True\n",
    "                if i_layer < len(self.nn_modules) - 1:\n",
    "                    x = F.relu(layer(x))\n",
    "                else:\n",
    "                    x = layer(x)\n",
    "        return x\n",
    "         "
   ]
  },
  {
   "cell_type": "code",
   "execution_count": 20,
   "metadata": {
    "scrolled": true
   },
   "outputs": [
    {
     "name": "stdout",
     "output_type": "stream",
     "text": [
      "Training set 60000 items\n",
      "Testing set  10000 items\n",
      "Train Epoch: 1 [0/60000 (0%)]\tLoss Char: 0.000000 Loss Font: 1.490529\n",
      "Train Epoch: 1 [19200/60000 (32%)]\tLoss Char: 0.000000 Loss Font: 0.697758\n",
      "Train Epoch: 1 [38400/60000 (64%)]\tLoss Char: 0.000000 Loss Font: 0.692003\n",
      "Train Epoch: 1 [57600/60000 (96%)]\tLoss Char: 0.000000 Loss Font: 0.692436\n",
      "\n",
      "Test set: Accuracy Char : 0/10000 (0.00%)\n",
      "          Accuracy Font : 5015/10000 (50.15%)\n",
      "Train Epoch: 2 [0/60000 (0%)]\tLoss Char: 0.000000 Loss Font: 0.695105\n",
      "Train Epoch: 2 [19200/60000 (32%)]\tLoss Char: 0.000000 Loss Font: 0.687491\n",
      "Train Epoch: 2 [38400/60000 (64%)]\tLoss Char: 0.000000 Loss Font: 0.697187\n",
      "Train Epoch: 2 [57600/60000 (96%)]\tLoss Char: 0.000000 Loss Font: 0.691813\n",
      "\n",
      "Test set: Accuracy Char : 0/10000 (0.00%)\n",
      "          Accuracy Font : 5029/10000 (50.29%)\n",
      "Train Epoch: 3 [0/60000 (0%)]\tLoss Char: 0.000000 Loss Font: 0.690532\n",
      "Train Epoch: 3 [19200/60000 (32%)]\tLoss Char: 0.000000 Loss Font: 0.695601\n",
      "Train Epoch: 3 [38400/60000 (64%)]\tLoss Char: 0.000000 Loss Font: 0.690751\n",
      "Train Epoch: 3 [57600/60000 (96%)]\tLoss Char: 0.000000 Loss Font: 0.693027\n",
      "\n",
      "Test set: Accuracy Char : 0/10000 (0.00%)\n",
      "          Accuracy Font : 5032/10000 (50.32%)\n",
      "Train Epoch: 4 [0/60000 (0%)]\tLoss Char: 0.000000 Loss Font: 0.690505\n",
      "Train Epoch: 4 [19200/60000 (32%)]\tLoss Char: 0.000000 Loss Font: 0.692974\n",
      "Train Epoch: 4 [38400/60000 (64%)]\tLoss Char: 0.000000 Loss Font: 0.692349\n",
      "Train Epoch: 4 [57600/60000 (96%)]\tLoss Char: 0.000000 Loss Font: 0.694926\n",
      "\n",
      "Test set: Accuracy Char : 0/10000 (0.00%)\n",
      "          Accuracy Font : 5126/10000 (51.26%)\n",
      "Train Epoch: 5 [0/60000 (0%)]\tLoss Char: 0.000000 Loss Font: 0.690741\n",
      "Train Epoch: 5 [19200/60000 (32%)]\tLoss Char: 0.000000 Loss Font: 0.688399\n",
      "Train Epoch: 5 [38400/60000 (64%)]\tLoss Char: 0.000000 Loss Font: 0.691350\n",
      "Train Epoch: 5 [57600/60000 (96%)]\tLoss Char: 0.000000 Loss Font: 0.689272\n",
      "\n",
      "Test set: Accuracy Char : 0/10000 (0.00%)\n",
      "          Accuracy Font : 5295/10000 (52.95%)\n",
      "Train Epoch: 6 [0/60000 (0%)]\tLoss Char: 0.000000 Loss Font: 0.695499\n",
      "Train Epoch: 6 [19200/60000 (32%)]\tLoss Char: 0.000000 Loss Font: 0.684832\n",
      "Train Epoch: 6 [38400/60000 (64%)]\tLoss Char: 0.000000 Loss Font: 0.689897\n",
      "Train Epoch: 6 [57600/60000 (96%)]\tLoss Char: 0.000000 Loss Font: 0.694679\n",
      "\n",
      "Test set: Accuracy Char : 0/10000 (0.00%)\n",
      "          Accuracy Font : 5205/10000 (52.05%)\n",
      "Train Epoch: 7 [0/60000 (0%)]\tLoss Char: 0.000000 Loss Font: 0.694910\n",
      "Train Epoch: 7 [19200/60000 (32%)]\tLoss Char: 0.000000 Loss Font: 0.691188\n",
      "Train Epoch: 7 [38400/60000 (64%)]\tLoss Char: 0.000000 Loss Font: 0.692046\n",
      "Train Epoch: 7 [57600/60000 (96%)]\tLoss Char: 0.000000 Loss Font: 0.694712\n",
      "\n",
      "Test set: Accuracy Char : 0/10000 (0.00%)\n",
      "          Accuracy Font : 5131/10000 (51.31%)\n",
      "Train Epoch: 8 [0/60000 (0%)]\tLoss Char: 0.000000 Loss Font: 0.689928\n",
      "Train Epoch: 8 [19200/60000 (32%)]\tLoss Char: 0.000000 Loss Font: 0.694453\n",
      "Train Epoch: 8 [38400/60000 (64%)]\tLoss Char: 0.000000 Loss Font: 0.690254\n",
      "Train Epoch: 8 [57600/60000 (96%)]\tLoss Char: 0.000000 Loss Font: 0.688866\n",
      "\n",
      "Test set: Accuracy Char : 0/10000 (0.00%)\n",
      "          Accuracy Font : 5040/10000 (50.40%)\n",
      "Train Epoch: 9 [0/60000 (0%)]\tLoss Char: 0.000000 Loss Font: 0.682606\n",
      "Train Epoch: 9 [19200/60000 (32%)]\tLoss Char: 0.000000 Loss Font: 0.688079\n",
      "Train Epoch: 9 [38400/60000 (64%)]\tLoss Char: 0.000000 Loss Font: 0.695175\n",
      "Train Epoch: 9 [57600/60000 (96%)]\tLoss Char: 0.000000 Loss Font: 0.694233\n",
      "\n",
      "Test set: Accuracy Char : 0/10000 (0.00%)\n",
      "          Accuracy Font : 5288/10000 (52.88%)\n",
      "Train Epoch: 10 [0/60000 (0%)]\tLoss Char: 0.000000 Loss Font: 0.680318\n",
      "Train Epoch: 10 [19200/60000 (32%)]\tLoss Char: 0.000000 Loss Font: 0.694928\n",
      "Train Epoch: 10 [38400/60000 (64%)]\tLoss Char: 0.000000 Loss Font: 0.688996\n",
      "Train Epoch: 10 [57600/60000 (96%)]\tLoss Char: 0.000000 Loss Font: 0.692726\n",
      "\n",
      "Test set: Accuracy Char : 0/10000 (0.00%)\n",
      "          Accuracy Font : 5395/10000 (53.95%)\n",
      "Training set 60000 items\n",
      "Testing set  10000 items\n",
      "Train Epoch: 1 [0/60000 (0%)]\tLoss Char: 0.000000 Loss Font: 0.781199\n",
      "Train Epoch: 1 [19200/60000 (32%)]\tLoss Char: 0.000000 Loss Font: 0.696361\n",
      "Train Epoch: 1 [38400/60000 (64%)]\tLoss Char: 0.000000 Loss Font: 0.690251\n",
      "Train Epoch: 1 [57600/60000 (96%)]\tLoss Char: 0.000000 Loss Font: 0.691610\n",
      "\n",
      "Test set: Accuracy Char : 0/10000 (0.00%)\n",
      "          Accuracy Font : 5005/10000 (50.05%)\n",
      "Train Epoch: 2 [0/60000 (0%)]\tLoss Char: 0.000000 Loss Font: 0.696093\n",
      "Train Epoch: 2 [19200/60000 (32%)]\tLoss Char: 0.000000 Loss Font: 0.687768\n",
      "Train Epoch: 2 [38400/60000 (64%)]\tLoss Char: 0.000000 Loss Font: 0.691536\n",
      "Train Epoch: 2 [57600/60000 (96%)]\tLoss Char: 0.000000 Loss Font: 0.693637\n",
      "\n",
      "Test set: Accuracy Char : 0/10000 (0.00%)\n",
      "          Accuracy Font : 4973/10000 (49.73%)\n",
      "Train Epoch: 3 [0/60000 (0%)]\tLoss Char: 0.000000 Loss Font: 0.689348\n",
      "Train Epoch: 3 [19200/60000 (32%)]\tLoss Char: 0.000000 Loss Font: 0.698488\n",
      "Train Epoch: 3 [38400/60000 (64%)]\tLoss Char: 0.000000 Loss Font: 0.691525\n",
      "Train Epoch: 3 [57600/60000 (96%)]\tLoss Char: 0.000000 Loss Font: 0.692803\n",
      "\n",
      "Test set: Accuracy Char : 0/10000 (0.00%)\n",
      "          Accuracy Font : 5097/10000 (50.97%)\n",
      "Train Epoch: 4 [0/60000 (0%)]\tLoss Char: 0.000000 Loss Font: 0.691764\n",
      "Train Epoch: 4 [19200/60000 (32%)]\tLoss Char: 0.000000 Loss Font: 0.691512\n",
      "Train Epoch: 4 [38400/60000 (64%)]\tLoss Char: 0.000000 Loss Font: 0.691988\n",
      "Train Epoch: 4 [57600/60000 (96%)]\tLoss Char: 0.000000 Loss Font: 0.693049\n",
      "\n",
      "Test set: Accuracy Char : 0/10000 (0.00%)\n",
      "          Accuracy Font : 5311/10000 (53.11%)\n",
      "Train Epoch: 5 [0/60000 (0%)]\tLoss Char: 0.000000 Loss Font: 0.690138\n",
      "Train Epoch: 5 [19200/60000 (32%)]\tLoss Char: 0.000000 Loss Font: 0.691072\n",
      "Train Epoch: 5 [38400/60000 (64%)]\tLoss Char: 0.000000 Loss Font: 0.691724\n",
      "Train Epoch: 5 [57600/60000 (96%)]\tLoss Char: 0.000000 Loss Font: 0.693156\n",
      "\n",
      "Test set: Accuracy Char : 0/10000 (0.00%)\n",
      "          Accuracy Font : 5099/10000 (50.99%)\n",
      "Train Epoch: 6 [0/60000 (0%)]\tLoss Char: 0.000000 Loss Font: 0.695687\n",
      "Train Epoch: 6 [19200/60000 (32%)]\tLoss Char: 0.000000 Loss Font: 0.695929\n",
      "Train Epoch: 6 [38400/60000 (64%)]\tLoss Char: 0.000000 Loss Font: 0.691074\n",
      "Train Epoch: 6 [57600/60000 (96%)]\tLoss Char: 0.000000 Loss Font: 0.696354\n",
      "\n",
      "Test set: Accuracy Char : 0/10000 (0.00%)\n",
      "          Accuracy Font : 5157/10000 (51.57%)\n",
      "Train Epoch: 7 [0/60000 (0%)]\tLoss Char: 0.000000 Loss Font: 0.694443\n",
      "Train Epoch: 7 [19200/60000 (32%)]\tLoss Char: 0.000000 Loss Font: 0.689306\n",
      "Train Epoch: 7 [38400/60000 (64%)]\tLoss Char: 0.000000 Loss Font: 0.685873\n",
      "Train Epoch: 7 [57600/60000 (96%)]\tLoss Char: 0.000000 Loss Font: 0.696479\n",
      "\n",
      "Test set: Accuracy Char : 0/10000 (0.00%)\n",
      "          Accuracy Font : 5075/10000 (50.75%)\n",
      "Train Epoch: 8 [0/60000 (0%)]\tLoss Char: 0.000000 Loss Font: 0.685707\n",
      "Train Epoch: 8 [19200/60000 (32%)]\tLoss Char: 0.000000 Loss Font: 0.693188\n",
      "Train Epoch: 8 [38400/60000 (64%)]\tLoss Char: 0.000000 Loss Font: 0.688295\n",
      "Train Epoch: 8 [57600/60000 (96%)]\tLoss Char: 0.000000 Loss Font: 0.685553\n",
      "\n",
      "Test set: Accuracy Char : 0/10000 (0.00%)\n",
      "          Accuracy Font : 5043/10000 (50.43%)\n",
      "Train Epoch: 9 [0/60000 (0%)]\tLoss Char: 0.000000 Loss Font: 0.681889\n",
      "Train Epoch: 9 [19200/60000 (32%)]\tLoss Char: 0.000000 Loss Font: 0.687972\n",
      "Train Epoch: 9 [38400/60000 (64%)]\tLoss Char: 0.000000 Loss Font: 0.694586\n",
      "Train Epoch: 9 [57600/60000 (96%)]\tLoss Char: 0.000000 Loss Font: 0.692576\n",
      "\n",
      "Test set: Accuracy Char : 0/10000 (0.00%)\n",
      "          Accuracy Font : 5360/10000 (53.60%)\n",
      "Train Epoch: 10 [0/60000 (0%)]\tLoss Char: 0.000000 Loss Font: 0.682026\n",
      "Train Epoch: 10 [19200/60000 (32%)]\tLoss Char: 0.000000 Loss Font: 0.691944\n",
      "Train Epoch: 10 [38400/60000 (64%)]\tLoss Char: 0.000000 Loss Font: 0.692631\n",
      "Train Epoch: 10 [57600/60000 (96%)]\tLoss Char: 0.000000 Loss Font: 0.697913\n",
      "\n",
      "Test set: Accuracy Char : 0/10000 (0.00%)\n",
      "          Accuracy Font : 5498/10000 (54.98%)\n"
     ]
    },
    {
     "data": {
      "image/png": "[encoded data removed]",
      "text/plain": [
       "<Figure size 720x288 with 1 Axes>"
      ]
     },
     "metadata": {
      "needs_background": "light"
     },
     "output_type": "display_data"
    }
   ],
   "source": [
    "architectures = [\n",
    "    (\n",
    "        nn.Conv2d(1, 20, 5, 1),\n",
    "        nn.Conv2d(20, 50, 5, 1),\n",
    "        nn.Linear(4*4*50, 500),\n",
    "        nn.Linear(500, N_FONTS)\n",
    "    ),\n",
    "    (\n",
    "        nn.Conv2d(1, 30, 4, 1),\n",
    "        nn.Conv2d(30, 100, 4),\n",
    "        nn.Linear(100 * 4 * 4, 1000),\n",
    "        nn.Linear(1000, 100),\n",
    "        nn.Linear(100, N_FONTS)\n",
    "    )\n",
    "]\n",
    "for i, architecture in enumerate(architectures):\n",
    "    model = CNNet(architecture, quadratic_model)\n",
    "    _, test_perfs_font = evaluate_resistance(model)\n",
    "    \n",
    "    resistance_reports[f\"Collateral task with CNN {i}\"] = test_perfs_font\n",
    "    \n",
    "show_results(resistance_reports, title=\"Resistance of CNNs with CNN protection\")"
   ]
  },
  {
   "cell_type": "markdown",
   "metadata": {},
   "source": [
    "We observe that the accuracy remains reeally low, under 55%, which is very positive. One could argue that leaving more time to the collateral models to train would lead to higher accuracies. This is true but is mitigated by the fact that we can also give more time for building the resistance: as we can and might show, we can keep control of the collateral accuracy even with long attacks scenarios with a sufficiently long resistance phase (around 100 epochs is our setting)."
   ]
  },
  {
   "cell_type": "markdown",
   "metadata": {},
   "source": [
    "## 6.3 Non-NN models\n",
    "\n",
    "We now test many models from the sklearn library"
   ]
  },
  {
   "cell_type": "markdown",
   "metadata": {},
   "source": [
    "### Data preparation"
   ]
  },
  {
   "cell_type": "code",
   "execution_count": 21,
   "metadata": {},
   "outputs": [],
   "source": [
    "transform = BaseNet(quadratic_model)"
   ]
  },
  {
   "cell_type": "code",
   "execution_count": 22,
   "metadata": {},
   "outputs": [],
   "source": [
    "def get_input_onehot_labels(dataset, label=\"font\", one_hot=True):\n",
    "    data_input = dataset.tensors[0]\n",
    "    label_idx = {'char': 0, 'font': 1}[label]\n",
    "    label_size = {'char': N_CHARS, 'font': N_FONTS}[label]\n",
    "    labels = dataset.tensors[1][:, label_idx].view(-1, 1)\n",
    "    \n",
    "    data_label_onehot = torch.zeros(len(labels), label_size)\n",
    "    data_label_onehot.scatter_(1, labels, 1)\n",
    "    \n",
    "    return data_input, labels, data_label_onehot\n",
    "    "
   ]
  },
  {
   "cell_type": "markdown",
   "metadata": {},
   "source": [
    "Get dataset and transform in one hot vector"
   ]
  },
  {
   "cell_type": "code",
   "execution_count": 26,
   "metadata": {},
   "outputs": [
    {
     "name": "stdout",
     "output_type": "stream",
     "text": [
      "Training set 60000 items\n",
      "Testing set  10000 items\n"
     ]
    }
   ],
   "source": [
    "train_dataset, test_dataset = collateral.data.get_datasets(None, None)\n",
    "train_input, train_label, train_label_one_hot = get_input_onehot_labels(train_dataset, label=\"font\")\n",
    "test_input, test_label, test_label_one_hot = get_input_onehot_labels(test_dataset, label=\"font\")"
   ]
  },
  {
   "cell_type": "markdown",
   "metadata": {},
   "source": [
    "Apply the quadratic model transformation"
   ]
  },
  {
   "cell_type": "code",
   "execution_count": 27,
   "metadata": {},
   "outputs": [],
   "source": [
    "train_input = transform.quad(train_input).detach().numpy()\n",
    "test_input = transform.quad(test_input).detach().numpy()"
   ]
  },
  {
   "cell_type": "code",
   "execution_count": 51,
   "metadata": {},
   "outputs": [],
   "source": [
    "train_label = train_label.reshape(-1)\n",
    "test_label = test_label.reshape(-1)"
   ]
  },
  {
   "cell_type": "code",
   "execution_count": 52,
   "metadata": {},
   "outputs": [
    {
     "data": {
      "text/plain": [
       "((60000, 4), torch.Size([60000]))"
      ]
     },
     "execution_count": 52,
     "metadata": {},
     "output_type": "execute_result"
    }
   ],
   "source": [
    "train_input.shape, train_label.shape"
   ]
  },
  {
   "cell_type": "code",
   "execution_count": 53,
   "metadata": {},
   "outputs": [],
   "source": [
    "ALL = train_input.shape[0]\n",
    "CPOWER = 'LOW'"
   ]
  },
  {
   "cell_type": "code",
   "execution_count": 54,
   "metadata": {},
   "outputs": [],
   "source": [
    "from sklearn import linear_model\n",
    "from sklearn import kernel_ridge\n",
    "from sklearn import svm"
   ]
  },
  {
   "cell_type": "code",
   "execution_count": 55,
   "metadata": {},
   "outputs": [],
   "source": [
    "def evaluate_sklearn(reg, one_hot=True, limit=int(10e10)):\n",
    "    train_labels = {True: train_label_one_hot, False: train_label}[one_hot]\n",
    "    reg.fit(train_input[:limit], train_labels[:limit].detach().numpy()) \n",
    "    output = reg.predict(test_input)\n",
    "    if one_hot:\n",
    "        pred = torch.tensor(output).argmax(1, keepdim=True)\n",
    "    else:\n",
    "        if isinstance(output, list):\n",
    "            pred = torch.tensor(list(map(round, output))).long().view(-1, 1)\n",
    "        else:\n",
    "            pred = torch.tensor(np.round(output)).long().view(-1, 1)\n",
    "    y = test_label.view_as(pred)\n",
    "    acc = pred.eq(y).sum().item() / len(pred)\n",
    "    return acc"
   ]
  },
  {
   "cell_type": "markdown",
   "metadata": {},
   "source": [
    "### Linear models"
   ]
  },
  {
   "cell_type": "code",
   "execution_count": 56,
   "metadata": {},
   "outputs": [
    {
     "name": "stdout",
     "output_type": "stream",
     "text": [
      "0.5065\n"
     ]
    }
   ],
   "source": [
    "reg = linear_model.Ridge(alpha=.9)\n",
    "acc = evaluate_sklearn(reg)\n",
    "print(acc)\n",
    "resistance_reports['linear model Ridge'] = acc * 100"
   ]
  },
  {
   "cell_type": "code",
   "execution_count": 57,
   "metadata": {},
   "outputs": [
    {
     "name": "stdout",
     "output_type": "stream",
     "text": [
      "0.5065\n"
     ]
    }
   ],
   "source": [
    "reg = linear_model.RidgeCV(alphas=[0.01, 0.1, 1.0, 10.0, 100], cv=5)\n",
    "acc = evaluate_sklearn(reg)\n",
    "print(acc)"
   ]
  },
  {
   "cell_type": "code",
   "execution_count": 58,
   "metadata": {},
   "outputs": [
    {
     "name": "stdout",
     "output_type": "stream",
     "text": [
      "0.5005\n"
     ]
    }
   ],
   "source": [
    "reg = linear_model.Lasso(alpha=0.1)\n",
    "acc = evaluate_sklearn(reg)\n",
    "print(acc)\n",
    "resistance_reports['linear model Lasso'] = acc * 100"
   ]
  },
  {
   "cell_type": "code",
   "execution_count": 59,
   "metadata": {},
   "outputs": [
    {
     "name": "stdout",
     "output_type": "stream",
     "text": [
      "0.5005\n"
     ]
    }
   ],
   "source": [
    "reg = linear_model.LassoLars(alpha=0.1)\n",
    "acc = evaluate_sklearn(reg)\n",
    "print(acc)"
   ]
  },
  {
   "cell_type": "code",
   "execution_count": 60,
   "metadata": {},
   "outputs": [
    {
     "name": "stdout",
     "output_type": "stream",
     "text": [
      "0.5084\n"
     ]
    }
   ],
   "source": [
    "reg = linear_model.BayesianRidge()\n",
    "acc = evaluate_sklearn(reg, one_hot=False)\n",
    "print(acc)"
   ]
  },
  {
   "cell_type": "code",
   "execution_count": 61,
   "metadata": {},
   "outputs": [
    {
     "name": "stdout",
     "output_type": "stream",
     "text": [
      "0.5064\n"
     ]
    }
   ],
   "source": [
    "reg = linear_model.LogisticRegression(random_state=0, solver='lbfgs',\n",
    "                         multi_class='multinomial', max_iter=1000)\n",
    "acc = evaluate_sklearn(reg, one_hot=False)\n",
    "print(acc)\n",
    "resistance_reports['logistic regression'] = acc * 100"
   ]
  },
  {
   "cell_type": "code",
   "execution_count": 62,
   "metadata": {},
   "outputs": [
    {
     "name": "stdout",
     "output_type": "stream",
     "text": [
      "0.5066\n"
     ]
    }
   ],
   "source": [
    "reg = linear_model.LogisticRegressionCV(cv=5, random_state=0, multi_class='multinomial')\n",
    "acc = evaluate_sklearn(reg, one_hot=False)\n",
    "print(acc)"
   ]
  },
  {
   "cell_type": "markdown",
   "metadata": {},
   "source": [
    "### Quadratic Discriminant Analysis"
   ]
  },
  {
   "cell_type": "code",
   "execution_count": 63,
   "metadata": {},
   "outputs": [],
   "source": [
    "from sklearn.discriminant_analysis import QuadraticDiscriminantAnalysis"
   ]
  },
  {
   "cell_type": "code",
   "execution_count": 64,
   "metadata": {},
   "outputs": [
    {
     "name": "stdout",
     "output_type": "stream",
     "text": [
      "0.5431\n"
     ]
    }
   ],
   "source": [
    "clf = QuadraticDiscriminantAnalysis()\n",
    "acc = evaluate_sklearn(clf, one_hot=False)\n",
    "print(acc)\n",
    "resistance_reports['Quadratic Discriminant Analysis'] = acc * 100"
   ]
  },
  {
   "cell_type": "markdown",
   "metadata": {},
   "source": [
    "### Kernel Ridge"
   ]
  },
  {
   "cell_type": "code",
   "execution_count": 65,
   "metadata": {},
   "outputs": [
    {
     "name": "stderr",
     "output_type": "stream",
     "text": [
      "/Users/tryffel/code/env/pysyft/lib/python3.7/site-packages/sklearn/linear_model/ridge.py:165: LinAlgWarning: Ill-conditioned matrix (rcond=8.11476e-10): result may not be accurate.\n",
      "  overwrite_a=False)\n"
     ]
    },
    {
     "name": "stdout",
     "output_type": "stream",
     "text": [
      "0.5131\n"
     ]
    }
   ],
   "source": [
    "clf = kernel_ridge.KernelRidge(alpha=1.0)\n",
    "limit = {'LOW': 15000, 'MEDIUM': ALL, 'HIGH': ALL}\n",
    "acc = evaluate_sklearn(clf, one_hot=False, limit=limit[CPOWER])\n",
    "print(acc)"
   ]
  },
  {
   "cell_type": "markdown",
   "metadata": {},
   "source": [
    "### SVM"
   ]
  },
  {
   "cell_type": "code",
   "execution_count": 66,
   "metadata": {},
   "outputs": [
    {
     "name": "stdout",
     "output_type": "stream",
     "text": [
      "0.5005\n"
     ]
    }
   ],
   "source": [
    "clf = svm.SVC(gamma='scale', kernel='linear')\n",
    "limit = {'LOW': 5000, 'MEDIUM': 15000, 'HIGH': ALL}\n",
    "acc = evaluate_sklearn(clf, one_hot=False, limit=limit[CPOWER])\n",
    "\n",
    "print(acc)"
   ]
  },
  {
   "cell_type": "code",
   "execution_count": 67,
   "metadata": {},
   "outputs": [
    {
     "name": "stdout",
     "output_type": "stream",
     "text": [
      "0.5755\n"
     ]
    }
   ],
   "source": [
    "clf = svm.SVC(gamma='scale', kernel='rbf')\n",
    "limit = {'LOW': 20000, 'MEDIUM': ALL, 'HIGH': ALL}\n",
    "acc = evaluate_sklearn(clf, one_hot=False, limit=limit[CPOWER])\n",
    "print(acc)\n",
    "resistance_reports['SVM (rbf)'] = acc * 100"
   ]
  },
  {
   "cell_type": "code",
   "execution_count": 68,
   "metadata": {},
   "outputs": [
    {
     "name": "stdout",
     "output_type": "stream",
     "text": [
      "0.5154\n"
     ]
    }
   ],
   "source": [
    "clf = svm.SVC(gamma='scale', kernel='poly', coef0=0)\n",
    "limit = {'LOW': 20000, 'MEDIUM': ALL, 'HIGH': ALL}\n",
    "acc = evaluate_sklearn(clf, one_hot=False, limit=limit[CPOWER])\n",
    "print(acc)"
   ]
  },
  {
   "cell_type": "code",
   "execution_count": 69,
   "metadata": {},
   "outputs": [
    {
     "name": "stdout",
     "output_type": "stream",
     "text": [
      "0.4945\n"
     ]
    }
   ],
   "source": [
    "clf = svm.SVC(gamma='scale', kernel='sigmoid', coef0=0)\n",
    "limit = {'LOW': 20000, 'MEDIUM': ALL, 'HIGH': ALL}\n",
    "acc = evaluate_sklearn(clf, one_hot=False, limit=limit[CPOWER])\n",
    "print(acc)"
   ]
  },
  {
   "cell_type": "markdown",
   "metadata": {},
   "source": [
    "### Stochastic gradient Descent"
   ]
  },
  {
   "cell_type": "code",
   "execution_count": 70,
   "metadata": {},
   "outputs": [
    {
     "name": "stdout",
     "output_type": "stream",
     "text": [
      "0.5035\n"
     ]
    },
    {
     "name": "stderr",
     "output_type": "stream",
     "text": [
      "/Users/tryffel/code/env/pysyft/lib/python3.7/site-packages/sklearn/linear_model/stochastic_gradient.py:166: FutureWarning: max_iter and tol parameters have been added in SGDClassifier in 0.19. If both are left unset, they default to max_iter=5 and tol=None. If tol is not None, max_iter defaults to max_iter=1000. From 0.21, default max_iter will be 1000, and default tol will be 1e-3.\n",
      "  FutureWarning)\n"
     ]
    }
   ],
   "source": [
    "clf = linear_model.SGDClassifier(loss=\"hinge\", penalty=\"l2\")\n",
    "acc = evaluate_sklearn(clf, one_hot=False)\n",
    "print(acc)\n",
    "resistance_reports['SGDClassifier'] = acc * 100"
   ]
  },
  {
   "cell_type": "code",
   "execution_count": 71,
   "metadata": {},
   "outputs": [
    {
     "name": "stdout",
     "output_type": "stream",
     "text": [
      "0.5005\n"
     ]
    }
   ],
   "source": [
    "clf = linear_model.SGDClassifier(max_iter=1000, tol=1e-3, loss=\"log\")\n",
    "acc = evaluate_sklearn(clf, one_hot=False)\n",
    "print(acc)"
   ]
  },
  {
   "cell_type": "markdown",
   "metadata": {},
   "source": [
    "### K-Neighbors Classifier"
   ]
  },
  {
   "cell_type": "code",
   "execution_count": 72,
   "metadata": {},
   "outputs": [],
   "source": [
    "from sklearn.neighbors import KNeighborsClassifier"
   ]
  },
  {
   "cell_type": "code",
   "execution_count": 73,
   "metadata": {},
   "outputs": [
    {
     "name": "stdout",
     "output_type": "stream",
     "text": [
      "0.6605\n"
     ]
    }
   ],
   "source": [
    "clf = KNeighborsClassifier(n_neighbors=7)\n",
    "acc = evaluate_sklearn(clf, one_hot=False)\n",
    "print(acc)\n",
    "resistance_reports['K-Neighbors Classifier'] = acc * 100"
   ]
  },
  {
   "cell_type": "markdown",
   "metadata": {},
   "source": [
    "### Gaussian process (not scalable)"
   ]
  },
  {
   "cell_type": "code",
   "execution_count": 74,
   "metadata": {},
   "outputs": [],
   "source": [
    "from sklearn.gaussian_process import GaussianProcessClassifier\n",
    "from sklearn.gaussian_process.kernels import RBF"
   ]
  },
  {
   "cell_type": "code",
   "execution_count": 85,
   "metadata": {},
   "outputs": [
    {
     "name": "stdout",
     "output_type": "stream",
     "text": [
      "0.611\n"
     ]
    }
   ],
   "source": [
    "kernel = 1.0 * RBF(1.0)\n",
    "gpc = GaussianProcessClassifier(kernel=kernel,\n",
    "        random_state=0)\n",
    "limit = {'LOW': 1700, 'MEDIUM': 5000, 'HIGH': 20000}\n",
    "acc = evaluate_sklearn(gpc, one_hot=False, limit=limit[CPOWER])\n",
    "print(acc)\n",
    "resistance_reports['Gaussian process'] = acc * 100"
   ]
  },
  {
   "cell_type": "markdown",
   "metadata": {},
   "source": [
    "### Naive Bayes"
   ]
  },
  {
   "cell_type": "code",
   "execution_count": 86,
   "metadata": {},
   "outputs": [],
   "source": [
    "from sklearn.naive_bayes import GaussianNB"
   ]
  },
  {
   "cell_type": "code",
   "execution_count": 87,
   "metadata": {},
   "outputs": [
    {
     "name": "stdout",
     "output_type": "stream",
     "text": [
      "0.5426\n"
     ]
    }
   ],
   "source": [
    "\n",
    "gnb = GaussianNB()\n",
    "acc = evaluate_sklearn(gnb, one_hot=False)\n",
    "print(acc)"
   ]
  },
  {
   "cell_type": "markdown",
   "metadata": {},
   "source": [
    "### Decision Tree Classifier"
   ]
  },
  {
   "cell_type": "code",
   "execution_count": 88,
   "metadata": {},
   "outputs": [],
   "source": [
    "from sklearn.tree import DecisionTreeClassifier"
   ]
  },
  {
   "cell_type": "code",
   "execution_count": 89,
   "metadata": {},
   "outputs": [
    {
     "name": "stdout",
     "output_type": "stream",
     "text": [
      "0.5897\n"
     ]
    }
   ],
   "source": [
    "\n",
    "clf = DecisionTreeClassifier(max_depth=5)\n",
    "acc = evaluate_sklearn(clf, one_hot=False)\n",
    "print(acc)\n",
    "\n",
    "resistance_reports['Decision Tree Classifier'] = acc * 100"
   ]
  },
  {
   "cell_type": "markdown",
   "metadata": {},
   "source": [
    "### Ensemble methods"
   ]
  },
  {
   "cell_type": "code",
   "execution_count": 90,
   "metadata": {},
   "outputs": [],
   "source": [
    "from sklearn.ensemble import RandomForestClassifier\n",
    "from sklearn.ensemble import AdaBoostClassifier\n",
    "from sklearn.ensemble import GradientBoostingClassifier"
   ]
  },
  {
   "cell_type": "code",
   "execution_count": 91,
   "metadata": {},
   "outputs": [
    {
     "name": "stdout",
     "output_type": "stream",
     "text": [
      "0.6705\n"
     ]
    }
   ],
   "source": [
    "clf = RandomForestClassifier(max_depth=30, n_estimators=100, max_features=4)\n",
    "acc = evaluate_sklearn(clf, one_hot=False)\n",
    "print(acc)\n",
    "resistance_reports['Random Forest Classifier'] = acc * 100"
   ]
  },
  {
   "cell_type": "code",
   "execution_count": 92,
   "metadata": {},
   "outputs": [
    {
     "name": "stdout",
     "output_type": "stream",
     "text": [
      "0.5663\n"
     ]
    }
   ],
   "source": [
    "clf = AdaBoostClassifier(n_estimators=200, learning_rate=1.)\n",
    "acc = evaluate_sklearn(clf, one_hot=False)\n",
    "print(acc)\n",
    "resistance_reports['AdaBoost Classifier'] = acc * 100"
   ]
  },
  {
   "cell_type": "code",
   "execution_count": 93,
   "metadata": {},
   "outputs": [
    {
     "name": "stdout",
     "output_type": "stream",
     "text": [
      "0.6447\n"
     ]
    }
   ],
   "source": [
    "clf = GradientBoostingClassifier(n_estimators=10, learning_rate=1.0,\n",
    "    max_depth=10, random_state=0)\n",
    "acc = evaluate_sklearn(clf, one_hot=False)\n",
    "print(acc)\n",
    "resistance_reports['Gradient Boosting Classifier'] = acc * 100"
   ]
  },
  {
   "cell_type": "markdown",
   "metadata": {},
   "source": [
    "### (sklearn) Neural Network"
   ]
  },
  {
   "cell_type": "code",
   "execution_count": 94,
   "metadata": {},
   "outputs": [],
   "source": [
    "from sklearn.neural_network import MLPClassifier"
   ]
  },
  {
   "cell_type": "code",
   "execution_count": 95,
   "metadata": {},
   "outputs": [
    {
     "name": "stdout",
     "output_type": "stream",
     "text": [
      "0.5579\n"
     ]
    }
   ],
   "source": [
    "clf = MLPClassifier(solver='lbfgs', alpha=1,\n",
    "                    hidden_layer_sizes=(10, 40, 10), random_state=1)\n",
    "acc = evaluate_sklearn(clf, one_hot=False)\n",
    "print(acc)"
   ]
  },
  {
   "cell_type": "markdown",
   "metadata": {},
   "source": [
    "## Summary"
   ]
  },
  {
   "cell_type": "code",
   "execution_count": 96,
   "metadata": {},
   "outputs": [],
   "source": [
    "def print_table(results):\n",
    "    n_cols = 2\n",
    "    title_length = 0\n",
    "    for title in results.keys():\n",
    "        title_length = max(title_length, len(title))\n",
    "    result_length = 8\n",
    "    table_length = 1 + n_cols + title_length + result_length\n",
    "    sep = '+'.join(\n",
    "        ['', '-'*title_length, '-'*result_length, '']\n",
    "    )\n",
    "    for title, serie in results.items():\n",
    "        print(sep)\n",
    "        title = (title + ' '*title_length)[:title_length]\n",
    "        if isinstance(serie, list):\n",
    "            result = round(np.mean(serie[-4:]), 2)\n",
    "        else:\n",
    "            result = round(serie, 2)\n",
    "        result = (' ' +str(result) + '%' + ' '*result_length)[:result_length]\n",
    "        line = '|'.join(\n",
    "            ['', title, result, '']\n",
    "        )\n",
    "        print(line)\n",
    "    print(sep)"
   ]
  },
  {
   "cell_type": "code",
   "execution_count": 97,
   "metadata": {},
   "outputs": [
    {
     "name": "stdout",
     "output_type": "stream",
     "text": [
      "+---------------------------------------+--------+\n",
      "|Collateral task with net 8:64:32:16:8:2| 52.53% |\n",
      "+---------------------------------------+--------+\n",
      "|Collateral task with net 8:32:16:8:2   | 51.46% |\n",
      "+---------------------------------------+--------+\n",
      "|Collateral task with net 8:24:12:2     | 50.61% |\n",
      "+---------------------------------------+--------+\n",
      "|Collateral task with net 8:64:2        | 53.28% |\n",
      "+---------------------------------------+--------+\n",
      "|Collateral task with net 8:32:2        | 52.0%  |\n",
      "+---------------------------------------+--------+\n",
      "|Collateral task with net 8:16:2        | 51.33% |\n",
      "+---------------------------------------+--------+\n",
      "|Collateral task with CNN 0             | 52.14% |\n",
      "+---------------------------------------+--------+\n",
      "|Collateral task with CNN 1             | 52.44% |\n",
      "+---------------------------------------+--------+\n",
      "|linear model Ridge                     | 50.65% |\n",
      "+---------------------------------------+--------+\n",
      "|linear model Lasso                     | 50.05% |\n",
      "+---------------------------------------+--------+\n",
      "|logistic regression                    | 50.64% |\n",
      "+---------------------------------------+--------+\n",
      "|Quadratic Discriminant Analysis        | 54.31% |\n",
      "+---------------------------------------+--------+\n",
      "|SVM (rbf)                              | 57.55% |\n",
      "+---------------------------------------+--------+\n",
      "|SGDClassifier                          | 50.35% |\n",
      "+---------------------------------------+--------+\n",
      "|K-Neighbors Classifier                 | 66.05% |\n",
      "+---------------------------------------+--------+\n",
      "|Gaussian process                       | 61.1%  |\n",
      "+---------------------------------------+--------+\n",
      "|Decision Tree Classifier               | 58.97% |\n",
      "+---------------------------------------+--------+\n",
      "|Random Forest Classifier               | 67.05% |\n",
      "+---------------------------------------+--------+\n",
      "|AdaBoost Classifier                    | 56.63% |\n",
      "+---------------------------------------+--------+\n",
      "|Gradient Boosting Classifier           | 64.47% |\n",
      "+---------------------------------------+--------+\n"
     ]
    }
   ],
   "source": [
    "print_table(resistance_reports)"
   ]
  },
  {
   "cell_type": "markdown",
   "metadata": {},
   "source": [
    "### Compative results"
   ]
  },
  {
   "cell_type": "markdown",
   "metadata": {},
   "source": [
    "+---------------------------------------+--------+\n",
    "|Collateral task with net 8:64:32:16:8:2| 52.53% |\n",
    "+---------------------------------------+--------+\n",
    "|Collateral task with net 8:32:16:8:2   | 51.46% |\n",
    "+---------------------------------------+--------+\n",
    "|Collateral task with net 8:24:12:2     | 50.61% |\n",
    "+---------------------------------------+--------+\n",
    "|Collateral task with net 8:64:2        | 53.28% |\n",
    "+---------------------------------------+--------+\n",
    "|Collateral task with net 8:32:2        | 52.0%  |\n",
    "+---------------------------------------+--------+\n",
    "|Collateral task with net 8:16:2        | 51.33% |\n",
    "+---------------------------------------+--------+\n",
    "|Collateral task with CNN 0             | 52.14% |\n",
    "+---------------------------------------+--------+\n",
    "|Collateral task with CNN 1             | 52.44% |\n",
    "+---------------------------------------+--------+\n",
    "|linear model Ridge                     | 50.65% |\n",
    "+---------------------------------------+--------+\n",
    "|linear model Lasso                     | 50.05% |\n",
    "+---------------------------------------+--------+\n",
    "|logistic regression                    | 50.64% |\n",
    "+---------------------------------------+--------+\n",
    "|Quadratic Discriminant Analysis        | 54.31% |\n",
    "+---------------------------------------+--------+\n",
    "|SVM (rbf)                              | 57.55% |\n",
    "+---------------------------------------+--------+\n",
    "|SGDClassifier                          | 50.35% |\n",
    "+---------------------------------------+--------+\n",
    "|K-Neighbors Classifier                 | 66.05% |*\n",
    "+---------------------------------------+--------+\n",
    "|Gaussian process                       | 61.1%  |*\n",
    "+---------------------------------------+--------+\n",
    "|Decision Tree Classifier               | 58.97% |\n",
    "+---------------------------------------+--------+\n",
    "|Random Forest Classifier               | 67.05% |*\n",
    "+---------------------------------------+--------+\n",
    "|AdaBoost Classifier                    | 56.63% |\n",
    "+---------------------------------------+--------+\n",
    "|Gradient Boosting Classifier           | 64.47% |*\n",
    "+---------------------------------------+--------+"
   ]
  },
  {
   "cell_type": "markdown",
   "metadata": {},
   "source": [
    "## Conclusion\n",
    "\n",
    "Overall, our technique is very successful with neural networks as the accuracy observed never exceeds 55%. More generally, the collateral models which use linear components behave quite poorly which proves our resistance was efficient.\n",
    "\n",
    "However, those based on completely different learning approaches (like K-Neighbors Classifier or Random Forest Classifier for example) manage to keep a pretty good accuracy in general. They also suffer from substantial accuracy drop in the sabotage setting, but as their initial performance was really good, they stand as outliers and robust adversaries which can help disclosing meaningful and sensitive information. For example, the K-Neighbors Classifier succeeds in its predictions almost 2 times out of 3.\n",
    "\n",
    "The reason why we are not as efficient with those models is because our method is very simple and is based on linear corrections those sabotaged gradient updates, and Knn for example are not sensitive to those perturbations. They would for instance be far more sensitive to arbitrary noise, but it is not possible to model noise in a small quadratic model such as the one we are using."
   ]
  },
  {
   "cell_type": "markdown",
   "metadata": {},
   "source": [
    "### Next step\n",
    "What we actually want to do is a distinguishability test, where an adversary comes with a letter encrypted in two different fonts. These two images are given to a challenger who choose one and run the private net on it. Depending on the output of the private net which is made public, the adversary should decides which image was used."
   ]
  },
  {
   "cell_type": "code",
   "execution_count": null,
   "metadata": {},
   "outputs": [],
   "source": []
  }
 ],
 "metadata": {
  "kernelspec": {
   "display_name": "Python 3",
   "language": "python",
   "name": "python3"
  },
  "language_info": {
   "codemirror_mode": {
    "name": "ipython",
    "version": 3
   },
   "file_extension": ".py",
   "mimetype": "text/x-python",
   "name": "python",
   "nbconvert_exporter": "python",
   "pygments_lexer": "ipython3",
   "version": "3.7.0"
  }
 },
 "nbformat": 4,
 "nbformat_minor": 2
}
